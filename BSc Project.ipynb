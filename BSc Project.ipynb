{
 "cells": [
  {
   "cell_type": "code",
   "execution_count": 1,
   "metadata": {},
   "outputs": [
    {
     "name": "stderr",
     "output_type": "stream",
     "text": [
      "Matplotlib is building the font cache; this may take a moment.\n"
     ]
    },
    {
     "data": {
      "text/html": [
       "<div>\n",
       "<style scoped>\n",
       "    .dataframe tbody tr th:only-of-type {\n",
       "        vertical-align: middle;\n",
       "    }\n",
       "\n",
       "    .dataframe tbody tr th {\n",
       "        vertical-align: top;\n",
       "    }\n",
       "\n",
       "    .dataframe thead th {\n",
       "        text-align: right;\n",
       "    }\n",
       "</style>\n",
       "<table border=\"1\" class=\"dataframe\">\n",
       "  <thead>\n",
       "    <tr style=\"text-align: right;\">\n",
       "      <th></th>\n",
       "      <th>Score</th>\n",
       "      <th>Score Rank</th>\n",
       "      <th>Percentile</th>\n",
       "      <th>Percentile Rank</th>\n",
       "    </tr>\n",
       "  </thead>\n",
       "  <tbody>\n",
       "    <tr>\n",
       "      <th>ATM</th>\n",
       "      <td>5.0385</td>\n",
       "      <td>1</td>\n",
       "      <td>99.83</td>\n",
       "      <td>1</td>\n",
       "    </tr>\n",
       "    <tr>\n",
       "      <th>SMG1</th>\n",
       "      <td>4.2377</td>\n",
       "      <td>2</td>\n",
       "      <td>99.77</td>\n",
       "      <td>2</td>\n",
       "    </tr>\n",
       "    <tr>\n",
       "      <th>ATR</th>\n",
       "      <td>3.5045</td>\n",
       "      <td>4</td>\n",
       "      <td>99.69</td>\n",
       "      <td>3</td>\n",
       "    </tr>\n",
       "    <tr>\n",
       "      <th>DNAPK</th>\n",
       "      <td>3.8172</td>\n",
       "      <td>3</td>\n",
       "      <td>99.21</td>\n",
       "      <td>4</td>\n",
       "    </tr>\n",
       "    <tr>\n",
       "      <th>FAM20C</th>\n",
       "      <td>3.1716</td>\n",
       "      <td>5</td>\n",
       "      <td>95.23</td>\n",
       "      <td>5</td>\n",
       "    </tr>\n",
       "    <tr>\n",
       "      <th>...</th>\n",
       "      <td>...</td>\n",
       "      <td>...</td>\n",
       "      <td>...</td>\n",
       "      <td>...</td>\n",
       "    </tr>\n",
       "    <tr>\n",
       "      <th>BRAF</th>\n",
       "      <td>-4.4003</td>\n",
       "      <td>242</td>\n",
       "      <td>7.86</td>\n",
       "      <td>306</td>\n",
       "    </tr>\n",
       "    <tr>\n",
       "      <th>AKT2</th>\n",
       "      <td>-5.6530</td>\n",
       "      <td>284</td>\n",
       "      <td>6.79</td>\n",
       "      <td>307</td>\n",
       "    </tr>\n",
       "    <tr>\n",
       "      <th>P70S6KB</th>\n",
       "      <td>-3.9915</td>\n",
       "      <td>223</td>\n",
       "      <td>6.64</td>\n",
       "      <td>308</td>\n",
       "    </tr>\n",
       "    <tr>\n",
       "      <th>NEK3</th>\n",
       "      <td>-8.2455</td>\n",
       "      <td>310</td>\n",
       "      <td>4.85</td>\n",
       "      <td>309</td>\n",
       "    </tr>\n",
       "    <tr>\n",
       "      <th>P70S6K</th>\n",
       "      <td>-7.2917</td>\n",
       "      <td>306</td>\n",
       "      <td>4.19</td>\n",
       "      <td>310</td>\n",
       "    </tr>\n",
       "  </tbody>\n",
       "</table>\n",
       "<p>310 rows × 4 columns</p>\n",
       "</div>"
      ],
      "text/plain": [
       "          Score  Score Rank  Percentile  Percentile Rank\n",
       "ATM      5.0385           1       99.83                1\n",
       "SMG1     4.2377           2       99.77                2\n",
       "ATR      3.5045           4       99.69                3\n",
       "DNAPK    3.8172           3       99.21                4\n",
       "FAM20C   3.1716           5       95.23                5\n",
       "...         ...         ...         ...              ...\n",
       "BRAF    -4.4003         242        7.86              306\n",
       "AKT2    -5.6530         284        6.79              307\n",
       "P70S6KB -3.9915         223        6.64              308\n",
       "NEK3    -8.2455         310        4.85              309\n",
       "P70S6K  -7.2917         306        4.19              310\n",
       "\n",
       "[310 rows x 4 columns]"
      ]
     },
     "execution_count": 1,
     "metadata": {},
     "output_type": "execute_result"
    }
   ],
   "source": [
    "import kinase_library as kl\n",
    "testsequence='PSVEPPLsQETFSDL'\n",
    "\n",
    "# Create a Substrate object with a target sequence (example: p53 S33)\n",
    "s = kl.Substrate(testsequence)  # Lowercase 's' indicates a phosphoserine\n",
    "\n",
    "# Predict potential kinase interactions for the substrate\n",
    "s.predict()"
   ]
  },
  {
   "cell_type": "code",
   "execution_count": null,
   "metadata": {},
   "outputs": [],
   "source": [
    "\"\"\"Task 1 - to write code mutating first amino acid to every other possible amino acid\"\"\"\n",
    "#how to replace one letter for another in test sequence.\n",
    "\n",
    "#how to replace one letter for each amino acid\n",
    "\n"
   ]
  },
  {
   "cell_type": "code",
   "execution_count": 2,
   "metadata": {},
   "outputs": [
    {
     "name": "stdout",
     "output_type": "stream",
     "text": [
      "Mutated sequences (# sequences = 286)\n",
      "['ASVEPPLsQETFSDL', 'CSVEPPLsQETFSDL', 'DSVEPPLsQETFSDL', 'ESVEPPLsQETFSDL', 'FSVEPPLsQETFSDL', 'GSVEPPLsQETFSDL', 'HSVEPPLsQETFSDL', 'ISVEPPLsQETFSDL', 'KSVEPPLsQETFSDL', 'LSVEPPLsQETFSDL', 'MSVEPPLsQETFSDL', 'NSVEPPLsQETFSDL', 'QSVEPPLsQETFSDL', 'RSVEPPLsQETFSDL', 'SSVEPPLsQETFSDL', 'TSVEPPLsQETFSDL', 'VSVEPPLsQETFSDL', 'WSVEPPLsQETFSDL', 'YSVEPPLsQETFSDL', 'PAVEPPLsQETFSDL', 'PCVEPPLsQETFSDL', 'PDVEPPLsQETFSDL', 'PEVEPPLsQETFSDL', 'PFVEPPLsQETFSDL', 'PGVEPPLsQETFSDL', 'PHVEPPLsQETFSDL', 'PIVEPPLsQETFSDL', 'PKVEPPLsQETFSDL', 'PLVEPPLsQETFSDL', 'PMVEPPLsQETFSDL', 'PNVEPPLsQETFSDL', 'PPVEPPLsQETFSDL', 'PQVEPPLsQETFSDL', 'PRVEPPLsQETFSDL', 'PTVEPPLsQETFSDL', 'PVVEPPLsQETFSDL', 'PWVEPPLsQETFSDL', 'PYVEPPLsQETFSDL', 'PSAEPPLsQETFSDL', 'PSCEPPLsQETFSDL', 'PSDEPPLsQETFSDL', 'PSEEPPLsQETFSDL', 'PSFEPPLsQETFSDL', 'PSGEPPLsQETFSDL', 'PSHEPPLsQETFSDL', 'PSIEPPLsQETFSDL', 'PSKEPPLsQETFSDL', 'PSLEPPLsQETFSDL', 'PSMEPPLsQETFSDL', 'PSNEPPLsQETFSDL', 'PSPEPPLsQETFSDL', 'PSQEPPLsQETFSDL', 'PSREPPLsQETFSDL', 'PSSEPPLsQETFSDL', 'PSTEPPLsQETFSDL', 'PSWEPPLsQETFSDL', 'PSYEPPLsQETFSDL', 'PSVAPPLsQETFSDL', 'PSVCPPLsQETFSDL', 'PSVDPPLsQETFSDL', 'PSVFPPLsQETFSDL', 'PSVGPPLsQETFSDL', 'PSVHPPLsQETFSDL', 'PSVIPPLsQETFSDL', 'PSVKPPLsQETFSDL', 'PSVLPPLsQETFSDL', 'PSVMPPLsQETFSDL', 'PSVNPPLsQETFSDL', 'PSVPPPLsQETFSDL', 'PSVQPPLsQETFSDL', 'PSVRPPLsQETFSDL', 'PSVSPPLsQETFSDL', 'PSVTPPLsQETFSDL', 'PSVVPPLsQETFSDL', 'PSVWPPLsQETFSDL', 'PSVYPPLsQETFSDL', 'PSVEAPLsQETFSDL', 'PSVECPLsQETFSDL', 'PSVEDPLsQETFSDL', 'PSVEEPLsQETFSDL', 'PSVEFPLsQETFSDL', 'PSVEGPLsQETFSDL', 'PSVEHPLsQETFSDL', 'PSVEIPLsQETFSDL', 'PSVEKPLsQETFSDL', 'PSVELPLsQETFSDL', 'PSVEMPLsQETFSDL', 'PSVENPLsQETFSDL', 'PSVEQPLsQETFSDL', 'PSVERPLsQETFSDL', 'PSVESPLsQETFSDL', 'PSVETPLsQETFSDL', 'PSVEVPLsQETFSDL', 'PSVEWPLsQETFSDL', 'PSVEYPLsQETFSDL', 'PSVEPALsQETFSDL', 'PSVEPCLsQETFSDL', 'PSVEPDLsQETFSDL', 'PSVEPELsQETFSDL', 'PSVEPFLsQETFSDL', 'PSVEPGLsQETFSDL', 'PSVEPHLsQETFSDL', 'PSVEPILsQETFSDL', 'PSVEPKLsQETFSDL', 'PSVEPLLsQETFSDL', 'PSVEPMLsQETFSDL', 'PSVEPNLsQETFSDL', 'PSVEPQLsQETFSDL', 'PSVEPRLsQETFSDL', 'PSVEPSLsQETFSDL', 'PSVEPTLsQETFSDL', 'PSVEPVLsQETFSDL', 'PSVEPWLsQETFSDL', 'PSVEPYLsQETFSDL', 'PSVEPPAsQETFSDL', 'PSVEPPCsQETFSDL', 'PSVEPPDsQETFSDL', 'PSVEPPEsQETFSDL', 'PSVEPPFsQETFSDL', 'PSVEPPGsQETFSDL', 'PSVEPPHsQETFSDL', 'PSVEPPIsQETFSDL', 'PSVEPPKsQETFSDL', 'PSVEPPMsQETFSDL', 'PSVEPPNsQETFSDL', 'PSVEPPPsQETFSDL', 'PSVEPPQsQETFSDL', 'PSVEPPRsQETFSDL', 'PSVEPPSsQETFSDL', 'PSVEPPTsQETFSDL', 'PSVEPPVsQETFSDL', 'PSVEPPWsQETFSDL', 'PSVEPPYsQETFSDL', 'PSVEPPLAQETFSDL', 'PSVEPPLCQETFSDL', 'PSVEPPLDQETFSDL', 'PSVEPPLEQETFSDL', 'PSVEPPLFQETFSDL', 'PSVEPPLGQETFSDL', 'PSVEPPLHQETFSDL', 'PSVEPPLIQETFSDL', 'PSVEPPLKQETFSDL', 'PSVEPPLLQETFSDL', 'PSVEPPLMQETFSDL', 'PSVEPPLNQETFSDL', 'PSVEPPLPQETFSDL', 'PSVEPPLQQETFSDL', 'PSVEPPLRQETFSDL', 'PSVEPPLSQETFSDL', 'PSVEPPLTQETFSDL', 'PSVEPPLVQETFSDL', 'PSVEPPLWQETFSDL', 'PSVEPPLYQETFSDL', 'PSVEPPLsAETFSDL', 'PSVEPPLsCETFSDL', 'PSVEPPLsDETFSDL', 'PSVEPPLsEETFSDL', 'PSVEPPLsFETFSDL', 'PSVEPPLsGETFSDL', 'PSVEPPLsHETFSDL', 'PSVEPPLsIETFSDL', 'PSVEPPLsKETFSDL', 'PSVEPPLsLETFSDL', 'PSVEPPLsMETFSDL', 'PSVEPPLsNETFSDL', 'PSVEPPLsPETFSDL', 'PSVEPPLsRETFSDL', 'PSVEPPLsSETFSDL', 'PSVEPPLsTETFSDL', 'PSVEPPLsVETFSDL', 'PSVEPPLsWETFSDL', 'PSVEPPLsYETFSDL', 'PSVEPPLsQATFSDL', 'PSVEPPLsQCTFSDL', 'PSVEPPLsQDTFSDL', 'PSVEPPLsQFTFSDL', 'PSVEPPLsQGTFSDL', 'PSVEPPLsQHTFSDL', 'PSVEPPLsQITFSDL', 'PSVEPPLsQKTFSDL', 'PSVEPPLsQLTFSDL', 'PSVEPPLsQMTFSDL', 'PSVEPPLsQNTFSDL', 'PSVEPPLsQPTFSDL', 'PSVEPPLsQQTFSDL', 'PSVEPPLsQRTFSDL', 'PSVEPPLsQSTFSDL', 'PSVEPPLsQTTFSDL', 'PSVEPPLsQVTFSDL', 'PSVEPPLsQWTFSDL', 'PSVEPPLsQYTFSDL', 'PSVEPPLsQEAFSDL', 'PSVEPPLsQECFSDL', 'PSVEPPLsQEDFSDL', 'PSVEPPLsQEEFSDL', 'PSVEPPLsQEFFSDL', 'PSVEPPLsQEGFSDL', 'PSVEPPLsQEHFSDL', 'PSVEPPLsQEIFSDL', 'PSVEPPLsQEKFSDL', 'PSVEPPLsQELFSDL', 'PSVEPPLsQEMFSDL', 'PSVEPPLsQENFSDL', 'PSVEPPLsQEPFSDL', 'PSVEPPLsQEQFSDL', 'PSVEPPLsQERFSDL', 'PSVEPPLsQESFSDL', 'PSVEPPLsQEVFSDL', 'PSVEPPLsQEWFSDL', 'PSVEPPLsQEYFSDL', 'PSVEPPLsQETASDL', 'PSVEPPLsQETCSDL', 'PSVEPPLsQETDSDL', 'PSVEPPLsQETESDL', 'PSVEPPLsQETGSDL', 'PSVEPPLsQETHSDL', 'PSVEPPLsQETISDL', 'PSVEPPLsQETKSDL', 'PSVEPPLsQETLSDL', 'PSVEPPLsQETMSDL', 'PSVEPPLsQETNSDL', 'PSVEPPLsQETPSDL', 'PSVEPPLsQETQSDL', 'PSVEPPLsQETRSDL', 'PSVEPPLsQETSSDL', 'PSVEPPLsQETTSDL', 'PSVEPPLsQETVSDL', 'PSVEPPLsQETWSDL', 'PSVEPPLsQETYSDL', 'PSVEPPLsQETFADL', 'PSVEPPLsQETFCDL', 'PSVEPPLsQETFDDL', 'PSVEPPLsQETFEDL', 'PSVEPPLsQETFFDL', 'PSVEPPLsQETFGDL', 'PSVEPPLsQETFHDL', 'PSVEPPLsQETFIDL', 'PSVEPPLsQETFKDL', 'PSVEPPLsQETFLDL', 'PSVEPPLsQETFMDL', 'PSVEPPLsQETFNDL', 'PSVEPPLsQETFPDL', 'PSVEPPLsQETFQDL', 'PSVEPPLsQETFRDL', 'PSVEPPLsQETFTDL', 'PSVEPPLsQETFVDL', 'PSVEPPLsQETFWDL', 'PSVEPPLsQETFYDL', 'PSVEPPLsQETFSAL', 'PSVEPPLsQETFSCL', 'PSVEPPLsQETFSEL', 'PSVEPPLsQETFSFL', 'PSVEPPLsQETFSGL', 'PSVEPPLsQETFSHL', 'PSVEPPLsQETFSIL', 'PSVEPPLsQETFSKL', 'PSVEPPLsQETFSLL', 'PSVEPPLsQETFSML', 'PSVEPPLsQETFSNL', 'PSVEPPLsQETFSPL', 'PSVEPPLsQETFSQL', 'PSVEPPLsQETFSRL', 'PSVEPPLsQETFSSL', 'PSVEPPLsQETFSTL', 'PSVEPPLsQETFSVL', 'PSVEPPLsQETFSWL', 'PSVEPPLsQETFSYL', 'PSVEPPLsQETFSDA', 'PSVEPPLsQETFSDC', 'PSVEPPLsQETFSDD', 'PSVEPPLsQETFSDE', 'PSVEPPLsQETFSDF', 'PSVEPPLsQETFSDG', 'PSVEPPLsQETFSDH', 'PSVEPPLsQETFSDI', 'PSVEPPLsQETFSDK', 'PSVEPPLsQETFSDM', 'PSVEPPLsQETFSDN', 'PSVEPPLsQETFSDP', 'PSVEPPLsQETFSDQ', 'PSVEPPLsQETFSDR', 'PSVEPPLsQETFSDS', 'PSVEPPLsQETFSDT', 'PSVEPPLsQETFSDV', 'PSVEPPLsQETFSDW', 'PSVEPPLsQETFSDY']\n"
     ]
    }
   ],
   "source": [
    "mutated_sequences = [] #creates a list to store the mutated amino acids\n",
    "amino_acids = \"ACDEFGHIKLMNPQRSTVWY\"  # defines the standard 20 amino acids\n",
    "for i, original_aa in enumerate(testsequence): #indexes the original amino acids \n",
    "    for new_aa in amino_acids: #creates a loop of all amino acids\n",
    "        if new_aa != original_aa:  # Avoid replacing with itself\n",
    "                mutated_seq = testsequence[:i] + new_aa + testsequence[i+1:] #creates a new sequence (mutated seq)\n",
    "                mutated_sequences.append(mutated_seq) #stores mutated sequence\n",
    "\n",
    "print(f'Mutated sequences (# sequences = {len(mutated_sequences)})')\n",
    "print(mutated_sequences)\n",
    " #shows mutations at each position\n",
    "\n",
    "\n",
    "        "
   ]
  },
  {
   "cell_type": "code",
   "execution_count": null,
   "metadata": {},
   "outputs": [],
   "source": [
    "'''\n",
    "Task2 - Run these sequences through the predict function and store the output as a csv file. Look at pandas.to_csv() for this.\n",
    "Output should be 280 separate csv files. Don't worry about a naming convention yet. \n",
    "'''\n",
    "\n"
   ]
  },
  {
   "cell_type": "code",
   "execution_count": null,
   "metadata": {},
   "outputs": [],
   "source": [
    "import os\n",
    "os.makedirs(\"mutations\", exist_ok=True)\n",
    "#creates a new folder called mutations to put the sequence predictions into"
   ]
  },
  {
   "cell_type": "code",
   "execution_count": 7,
   "metadata": {},
   "outputs": [
    {
     "name": "stdout",
     "output_type": "stream",
     "text": [
      "Wild-type sequence predictions saved to mutations/wildtype.csv\n",
      "Total mutations generated: 286\n",
      "Skipping mutation at position 7 (s → A): Central residue must be a phosphoacceptor (s/t/y). Otherwise, please identify the position of the phosphoacceptor.\n",
      "Skipping mutation at position 7 (s → C): Central residue must be a phosphoacceptor (s/t/y). Otherwise, please identify the position of the phosphoacceptor.\n",
      "Skipping mutation at position 7 (s → D): Central residue must be a phosphoacceptor (s/t/y). Otherwise, please identify the position of the phosphoacceptor.\n",
      "Skipping mutation at position 7 (s → E): Central residue must be a phosphoacceptor (s/t/y). Otherwise, please identify the position of the phosphoacceptor.\n",
      "Skipping mutation at position 7 (s → F): Central residue must be a phosphoacceptor (s/t/y). Otherwise, please identify the position of the phosphoacceptor.\n",
      "Skipping mutation at position 7 (s → G): Central residue must be a phosphoacceptor (s/t/y). Otherwise, please identify the position of the phosphoacceptor.\n",
      "Skipping mutation at position 7 (s → H): Central residue must be a phosphoacceptor (s/t/y). Otherwise, please identify the position of the phosphoacceptor.\n",
      "Skipping mutation at position 7 (s → I): Central residue must be a phosphoacceptor (s/t/y). Otherwise, please identify the position of the phosphoacceptor.\n",
      "Skipping mutation at position 7 (s → K): Central residue must be a phosphoacceptor (s/t/y). Otherwise, please identify the position of the phosphoacceptor.\n",
      "Skipping mutation at position 7 (s → L): Central residue must be a phosphoacceptor (s/t/y). Otherwise, please identify the position of the phosphoacceptor.\n",
      "Skipping mutation at position 7 (s → M): Central residue must be a phosphoacceptor (s/t/y). Otherwise, please identify the position of the phosphoacceptor.\n",
      "Skipping mutation at position 7 (s → N): Central residue must be a phosphoacceptor (s/t/y). Otherwise, please identify the position of the phosphoacceptor.\n",
      "Skipping mutation at position 7 (s → P): Central residue must be a phosphoacceptor (s/t/y). Otherwise, please identify the position of the phosphoacceptor.\n",
      "Skipping mutation at position 7 (s → Q): Central residue must be a phosphoacceptor (s/t/y). Otherwise, please identify the position of the phosphoacceptor.\n",
      "Skipping mutation at position 7 (s → R): Central residue must be a phosphoacceptor (s/t/y). Otherwise, please identify the position of the phosphoacceptor.\n",
      "Skipping mutation at position 7 (s → V): Central residue must be a phosphoacceptor (s/t/y). Otherwise, please identify the position of the phosphoacceptor.\n",
      "Skipping mutation at position 7 (s → W): Central residue must be a phosphoacceptor (s/t/y). Otherwise, please identify the position of the phosphoacceptor.\n"
     ]
    }
   ],
   "source": [
    "import kinase_library as kl\n",
    "import pandas as pd\n",
    "\n",
    "testsequence = 'PSVEPPLsQETFSDL'  \n",
    "amino_acids = \"ACDEFGHIKLMNPQRSTVWY\"\n",
    "mutated_sequences = []  \n",
    "wild_type_filename = f\"mutations/wildtype.csv\"\n",
    "\n",
    "\n",
    "# Predict kinase data for the wild-type sequence\n",
    "try:\n",
    "    wild_type_substrate = kl.Substrate(testsequence)\n",
    "    wild_type_predictions = wild_type_substrate.predict()\n",
    "\n",
    "    # Save wild-type predictions to CSV\n",
    "    df_wild_type = pd.DataFrame(wild_type_predictions)\n",
    "    df_wild_type.to_csv(wild_type_filename, index=False)\n",
    "\n",
    "    print(f\"Wild-type sequence predictions saved to {wild_type_filename}\")\n",
    "\n",
    "except Exception as e:\n",
    "    print(f\"Error processing wild-type sequence: {e}\")\n",
    "\n",
    "for i, original_aa in enumerate(testsequence):  \n",
    "    for new_aa in amino_acids:\n",
    "        if new_aa != original_aa:  \n",
    "                mutated_seq = testsequence[:i] + new_aa + testsequence[i+1:] \n",
    "                mutated_sequences.append((i, original_aa, new_aa, mutated_seq))  \n",
    "\n",
    "\n",
    "print(f\"Total mutations generated: {len(mutated_sequences)}\") \n",
    "\n",
    "for i, original_aa, new_aa, mutated_seq in mutated_sequences: \n",
    "    try:\n",
    "        s = kl.Substrate(mutated_seq)\n",
    "        predictions = s.predict()\n",
    "\n",
    "\n",
    "        df = pd.DataFrame(predictions)\n",
    "\n",
    "        # Save to CSV file with a structured name\n",
    "        filename = f\"mutations/mutation_Pos{i}_{original_aa}_to_{new_aa}.csv\"\n",
    "        df.to_csv(filename, index=False)\n",
    "\n",
    "    except Exception as e:\n",
    "        print(f\"Skipping mutation at position {i} ({original_aa} → {new_aa}): {e}\")\n",
    "\n",
    "\n",
    "\n"
   ]
  },
  {
   "cell_type": "code",
   "execution_count": null,
   "metadata": {},
   "outputs": [],
   "source": [
    "'''\n",
    "Task3 - Run through the 286 csv files and extract the order of the kinases. Then using the test sequence as the reference.\n",
    "Compute a metric for each pair using something similar to LCS (link for inspo attached - https://chatgpt.com/share/67c705a9-9c74-8001-a8da-eac57f06384f)  \n",
    "'''"
   ]
  },
  {
   "cell_type": "code",
   "execution_count": 10,
   "metadata": {},
   "outputs": [
    {
     "name": "stdout",
     "output_type": "stream",
     "text": [
      "Extracted kinase orders from 269 mutation CSVs.\n",
      "\n",
      "Normalized LCS Scores:\n",
      "                 Mutation_File  Normalized_LCS\n",
      "146   mutation_Pos2_V_to_Q.csv        0.000000\n",
      "230   mutation_Pos7_s_to_Y.csv        0.006623\n",
      "139   mutation_Pos2_V_to_H.csv        0.009934\n",
      "263   mutation_Pos9_E_to_R.csv        0.009934\n",
      "182   mutation_Pos4_P_to_N.csv        0.009934\n",
      "..                         ...             ...\n",
      "101  mutation_Pos14_L_to_H.csv        1.000000\n",
      "102  mutation_Pos14_L_to_I.csv        1.000000\n",
      "103  mutation_Pos14_L_to_K.csv        1.000000\n",
      "16    mutation_Pos0_P_to_V.csv        1.000000\n",
      "0     mutation_Pos0_P_to_A.csv        1.000000\n",
      "\n",
      "[269 rows x 2 columns]\n"
     ]
    }
   ],
   "source": [
    "import os\n",
    "import pandas as pd\n",
    "from difflib import SequenceMatcher\n",
    "\n",
    "#This extracts the kinase orders from 269 files - one being the reference sequence.\n",
    "#I assume some mutations at position 7 are skipped due to the lack of phosphoacceptor.\n",
    "#So giving 18 fewer LCS scores compared to the number of CSV files generated earlier.\n",
    "#This is consistent with the data shown on the heatmap in the next cell.\n",
    "\n",
    "mut_predictions = \"mutations/\"\n",
    "\n",
    "wildtype_path = os.path.join(mut_predictions, \"wildtype.csv\")\n",
    "\n",
    "df_wildtype = pd.read_csv(wildtype_path)\n",
    "\n",
    "wildtype_kinase_order = df_wildtype[\"Score Rank\"].tolist()  #extracts kinase orders from the reference sequence\n",
    "\n",
    "kinase_orders = {}\n",
    "\n",
    "#reads all files to extract the kinase orders (except wildtype as that's already been done)\n",
    "for file in os.listdir(mut_predictions):\n",
    "    if file.endswith(\".csv\") and file != \"wildtype.csv\":\n",
    "        file_path = os.path.join(mut_predictions, file)\n",
    "        try:\n",
    "            df = pd.read_csv(file_path)\n",
    "            \n",
    "            if \"Score Rank\" in df.columns:\n",
    "                kinase_orders[file] = df[\"Score Rank\"].tolist()  # Store kinase order\n",
    "            else:\n",
    "                print(f\"Skipping {file}: No 'Score Rank' column found.\") \n",
    "        \n",
    "        except Exception as e:\n",
    "            print(f\"Error reading {file}: {e}\")   #debugging steps\n",
    "\n",
    "print(f\"Extracted kinase orders from {len(kinase_orders)} mutation CSVs.\") \n",
    "\n",
    "# Function to compute Longest Common Subsequence (LCS)\n",
    "def longest_common_subsequence(seq1, seq2):\n",
    "    matcher = SequenceMatcher(None, seq1, seq2)\n",
    "    return sum(block.size for block in matcher.get_matching_blocks())\n",
    "\n",
    "#finds the LCS between wildtype and mut seqs\n",
    "lcs_scores = {}\n",
    "for file, order in kinase_orders.items():\n",
    "    lcs_length = longest_common_subsequence(order, wildtype_kinase_order)\n",
    "    lcs_scores[file] = lcs_length\n",
    "\n",
    "#normalizes LCS scores between 0 and 1\n",
    "if lcs_scores:\n",
    "    lcs_min = min(lcs_scores.values())\n",
    "    lcs_max = max(lcs_scores.values())\n",
    "\n",
    "    normalized_lcs = {file: (score - lcs_min) / (lcs_max - lcs_min) for file, score in lcs_scores.items()}\n",
    "\n",
    "   \n",
    "    df_lcs = pd.DataFrame(list(normalized_lcs.items()), columns=['Mutation_File', 'Normalized_LCS'])\n",
    "    \n",
    "    print(\"\\nNormalized LCS Scores:\")\n",
    "    print(df_lcs.sort_values(by=\"Normalized_LCS\", ascending=True))  # Sort by lowest LCS\n",
    "\n",
    "else:\n",
    "    print(\"No LCS scores calculated. Ensure kinase_orders contains data.\")\n"
   ]
  },
  {
   "cell_type": "code",
   "execution_count": null,
   "metadata": {},
   "outputs": [],
   "source": [
    "'''\n",
    "Task 4: generate heatmaps of LCS ratio for each mutation on the y axis and position on the x axis. I like plotly heatmaps for this\n",
    "https://plotly.com/python/heatmaps/. So output will be a heat map showing hotspots for the mutations that disrup the phosphorylation motif the most\n",
    "'''"
   ]
  },
  {
   "cell_type": "code",
   "execution_count": 13,
   "metadata": {},
   "outputs": [
    {
     "data": {
      "application/vnd.plotly.v1+json": {
       "config": {
        "plotlyServerURL": "https://plot.ly"
       },
       "data": [
        {
         "coloraxis": "coloraxis",
         "hovertemplate": "Mutation Position: %{x}<br>Mutated Amino Acid: %{y}<br>LCS Ratio: %{z}<extra></extra>",
         "name": "0",
         "type": "heatmap",
         "x": {
          "bdata": "AAECAwQFBgcICQoLDA0O",
          "dtype": "i1"
         },
         "xaxis": "x",
         "y": [
          "A",
          "C",
          "D",
          "E",
          "F",
          "G",
          "H",
          "I",
          "K",
          "L",
          "M",
          "N",
          "P",
          "Q",
          "R",
          "S",
          "T",
          "V",
          "W",
          "Y"
         ],
         "yaxis": "y",
         "z": {
          "bdata": "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",
          "dtype": "f8",
          "shape": "20, 15"
         }
        }
       ],
       "layout": {
        "coloraxis": {
         "colorbar": {
          "ticktext": [
           "0.0",
           "0.25",
           "0.5",
           "0.75",
           "1.0"
          ],
          "tickvals": [
           0,
           0.25,
           0.5,
           0.75,
           1
          ],
          "title": {
           "text": "LCS Ratio"
          }
         },
         "colorscale": [
          [
           0,
           "rgb(0, 147, 146)"
          ],
          [
           0.16666666666666666,
           "rgb(57, 177, 133)"
          ],
          [
           0.3333333333333333,
           "rgb(156, 203, 134)"
          ],
          [
           0.5,
           "rgb(233, 226, 156)"
          ],
          [
           0.6666666666666666,
           "rgb(238, 180, 121)"
          ],
          [
           0.8333333333333334,
           "rgb(232, 132, 113)"
          ],
          [
           1,
           "rgb(207, 89, 126)"
          ]
         ]
        },
        "plot_bgcolor": "white",
        "template": {
         "data": {
          "bar": [
           {
            "error_x": {
             "color": "#2a3f5f"
            },
            "error_y": {
             "color": "#2a3f5f"
            },
            "marker": {
             "line": {
              "color": "#E5ECF6",
              "width": 0.5
             },
             "pattern": {
              "fillmode": "overlay",
              "size": 10,
              "solidity": 0.2
             }
            },
            "type": "bar"
           }
          ],
          "barpolar": [
           {
            "marker": {
             "line": {
              "color": "#E5ECF6",
              "width": 0.5
             },
             "pattern": {
              "fillmode": "overlay",
              "size": 10,
              "solidity": 0.2
             }
            },
            "type": "barpolar"
           }
          ],
          "carpet": [
           {
            "aaxis": {
             "endlinecolor": "#2a3f5f",
             "gridcolor": "white",
             "linecolor": "white",
             "minorgridcolor": "white",
             "startlinecolor": "#2a3f5f"
            },
            "baxis": {
             "endlinecolor": "#2a3f5f",
             "gridcolor": "white",
             "linecolor": "white",
             "minorgridcolor": "white",
             "startlinecolor": "#2a3f5f"
            },
            "type": "carpet"
           }
          ],
          "choropleth": [
           {
            "colorbar": {
             "outlinewidth": 0,
             "ticks": ""
            },
            "type": "choropleth"
           }
          ],
          "contour": [
           {
            "colorbar": {
             "outlinewidth": 0,
             "ticks": ""
            },
            "colorscale": [
             [
              0,
              "#0d0887"
             ],
             [
              0.1111111111111111,
              "#46039f"
             ],
             [
              0.2222222222222222,
              "#7201a8"
             ],
             [
              0.3333333333333333,
              "#9c179e"
             ],
             [
              0.4444444444444444,
              "#bd3786"
             ],
             [
              0.5555555555555556,
              "#d8576b"
             ],
             [
              0.6666666666666666,
              "#ed7953"
             ],
             [
              0.7777777777777778,
              "#fb9f3a"
             ],
             [
              0.8888888888888888,
              "#fdca26"
             ],
             [
              1,
              "#f0f921"
             ]
            ],
            "type": "contour"
           }
          ],
          "contourcarpet": [
           {
            "colorbar": {
             "outlinewidth": 0,
             "ticks": ""
            },
            "type": "contourcarpet"
           }
          ],
          "heatmap": [
           {
            "colorbar": {
             "outlinewidth": 0,
             "ticks": ""
            },
            "colorscale": [
             [
              0,
              "#0d0887"
             ],
             [
              0.1111111111111111,
              "#46039f"
             ],
             [
              0.2222222222222222,
              "#7201a8"
             ],
             [
              0.3333333333333333,
              "#9c179e"
             ],
             [
              0.4444444444444444,
              "#bd3786"
             ],
             [
              0.5555555555555556,
              "#d8576b"
             ],
             [
              0.6666666666666666,
              "#ed7953"
             ],
             [
              0.7777777777777778,
              "#fb9f3a"
             ],
             [
              0.8888888888888888,
              "#fdca26"
             ],
             [
              1,
              "#f0f921"
             ]
            ],
            "type": "heatmap"
           }
          ],
          "histogram": [
           {
            "marker": {
             "pattern": {
              "fillmode": "overlay",
              "size": 10,
              "solidity": 0.2
             }
            },
            "type": "histogram"
           }
          ],
          "histogram2d": [
           {
            "colorbar": {
             "outlinewidth": 0,
             "ticks": ""
            },
            "colorscale": [
             [
              0,
              "#0d0887"
             ],
             [
              0.1111111111111111,
              "#46039f"
             ],
             [
              0.2222222222222222,
              "#7201a8"
             ],
             [
              0.3333333333333333,
              "#9c179e"
             ],
             [
              0.4444444444444444,
              "#bd3786"
             ],
             [
              0.5555555555555556,
              "#d8576b"
             ],
             [
              0.6666666666666666,
              "#ed7953"
             ],
             [
              0.7777777777777778,
              "#fb9f3a"
             ],
             [
              0.8888888888888888,
              "#fdca26"
             ],
             [
              1,
              "#f0f921"
             ]
            ],
            "type": "histogram2d"
           }
          ],
          "histogram2dcontour": [
           {
            "colorbar": {
             "outlinewidth": 0,
             "ticks": ""
            },
            "colorscale": [
             [
              0,
              "#0d0887"
             ],
             [
              0.1111111111111111,
              "#46039f"
             ],
             [
              0.2222222222222222,
              "#7201a8"
             ],
             [
              0.3333333333333333,
              "#9c179e"
             ],
             [
              0.4444444444444444,
              "#bd3786"
             ],
             [
              0.5555555555555556,
              "#d8576b"
             ],
             [
              0.6666666666666666,
              "#ed7953"
             ],
             [
              0.7777777777777778,
              "#fb9f3a"
             ],
             [
              0.8888888888888888,
              "#fdca26"
             ],
             [
              1,
              "#f0f921"
             ]
            ],
            "type": "histogram2dcontour"
           }
          ],
          "mesh3d": [
           {
            "colorbar": {
             "outlinewidth": 0,
             "ticks": ""
            },
            "type": "mesh3d"
           }
          ],
          "parcoords": [
           {
            "line": {
             "colorbar": {
              "outlinewidth": 0,
              "ticks": ""
             }
            },
            "type": "parcoords"
           }
          ],
          "pie": [
           {
            "automargin": true,
            "type": "pie"
           }
          ],
          "scatter": [
           {
            "fillpattern": {
             "fillmode": "overlay",
             "size": 10,
             "solidity": 0.2
            },
            "type": "scatter"
           }
          ],
          "scatter3d": [
           {
            "line": {
             "colorbar": {
              "outlinewidth": 0,
              "ticks": ""
             }
            },
            "marker": {
             "colorbar": {
              "outlinewidth": 0,
              "ticks": ""
             }
            },
            "type": "scatter3d"
           }
          ],
          "scattercarpet": [
           {
            "marker": {
             "colorbar": {
              "outlinewidth": 0,
              "ticks": ""
             }
            },
            "type": "scattercarpet"
           }
          ],
          "scattergeo": [
           {
            "marker": {
             "colorbar": {
              "outlinewidth": 0,
              "ticks": ""
             }
            },
            "type": "scattergeo"
           }
          ],
          "scattergl": [
           {
            "marker": {
             "colorbar": {
              "outlinewidth": 0,
              "ticks": ""
             }
            },
            "type": "scattergl"
           }
          ],
          "scattermap": [
           {
            "marker": {
             "colorbar": {
              "outlinewidth": 0,
              "ticks": ""
             }
            },
            "type": "scattermap"
           }
          ],
          "scattermapbox": [
           {
            "marker": {
             "colorbar": {
              "outlinewidth": 0,
              "ticks": ""
             }
            },
            "type": "scattermapbox"
           }
          ],
          "scatterpolar": [
           {
            "marker": {
             "colorbar": {
              "outlinewidth": 0,
              "ticks": ""
             }
            },
            "type": "scatterpolar"
           }
          ],
          "scatterpolargl": [
           {
            "marker": {
             "colorbar": {
              "outlinewidth": 0,
              "ticks": ""
             }
            },
            "type": "scatterpolargl"
           }
          ],
          "scatterternary": [
           {
            "marker": {
             "colorbar": {
              "outlinewidth": 0,
              "ticks": ""
             }
            },
            "type": "scatterternary"
           }
          ],
          "surface": [
           {
            "colorbar": {
             "outlinewidth": 0,
             "ticks": ""
            },
            "colorscale": [
             [
              0,
              "#0d0887"
             ],
             [
              0.1111111111111111,
              "#46039f"
             ],
             [
              0.2222222222222222,
              "#7201a8"
             ],
             [
              0.3333333333333333,
              "#9c179e"
             ],
             [
              0.4444444444444444,
              "#bd3786"
             ],
             [
              0.5555555555555556,
              "#d8576b"
             ],
             [
              0.6666666666666666,
              "#ed7953"
             ],
             [
              0.7777777777777778,
              "#fb9f3a"
             ],
             [
              0.8888888888888888,
              "#fdca26"
             ],
             [
              1,
              "#f0f921"
             ]
            ],
            "type": "surface"
           }
          ],
          "table": [
           {
            "cells": {
             "fill": {
              "color": "#EBF0F8"
             },
             "line": {
              "color": "white"
             }
            },
            "header": {
             "fill": {
              "color": "#C8D4E3"
             },
             "line": {
              "color": "white"
             }
            },
            "type": "table"
           }
          ]
         },
         "layout": {
          "annotationdefaults": {
           "arrowcolor": "#2a3f5f",
           "arrowhead": 0,
           "arrowwidth": 1
          },
          "autotypenumbers": "strict",
          "coloraxis": {
           "colorbar": {
            "outlinewidth": 0,
            "ticks": ""
           }
          },
          "colorscale": {
           "diverging": [
            [
             0,
             "#8e0152"
            ],
            [
             0.1,
             "#c51b7d"
            ],
            [
             0.2,
             "#de77ae"
            ],
            [
             0.3,
             "#f1b6da"
            ],
            [
             0.4,
             "#fde0ef"
            ],
            [
             0.5,
             "#f7f7f7"
            ],
            [
             0.6,
             "#e6f5d0"
            ],
            [
             0.7,
             "#b8e186"
            ],
            [
             0.8,
             "#7fbc41"
            ],
            [
             0.9,
             "#4d9221"
            ],
            [
             1,
             "#276419"
            ]
           ],
           "sequential": [
            [
             0,
             "#0d0887"
            ],
            [
             0.1111111111111111,
             "#46039f"
            ],
            [
             0.2222222222222222,
             "#7201a8"
            ],
            [
             0.3333333333333333,
             "#9c179e"
            ],
            [
             0.4444444444444444,
             "#bd3786"
            ],
            [
             0.5555555555555556,
             "#d8576b"
            ],
            [
             0.6666666666666666,
             "#ed7953"
            ],
            [
             0.7777777777777778,
             "#fb9f3a"
            ],
            [
             0.8888888888888888,
             "#fdca26"
            ],
            [
             1,
             "#f0f921"
            ]
           ],
           "sequentialminus": [
            [
             0,
             "#0d0887"
            ],
            [
             0.1111111111111111,
             "#46039f"
            ],
            [
             0.2222222222222222,
             "#7201a8"
            ],
            [
             0.3333333333333333,
             "#9c179e"
            ],
            [
             0.4444444444444444,
             "#bd3786"
            ],
            [
             0.5555555555555556,
             "#d8576b"
            ],
            [
             0.6666666666666666,
             "#ed7953"
            ],
            [
             0.7777777777777778,
             "#fb9f3a"
            ],
            [
             0.8888888888888888,
             "#fdca26"
            ],
            [
             1,
             "#f0f921"
            ]
           ]
          },
          "colorway": [
           "#636efa",
           "#EF553B",
           "#00cc96",
           "#ab63fa",
           "#FFA15A",
           "#19d3f3",
           "#FF6692",
           "#B6E880",
           "#FF97FF",
           "#FECB52"
          ],
          "font": {
           "color": "#2a3f5f"
          },
          "geo": {
           "bgcolor": "white",
           "lakecolor": "white",
           "landcolor": "#E5ECF6",
           "showlakes": true,
           "showland": true,
           "subunitcolor": "white"
          },
          "hoverlabel": {
           "align": "left"
          },
          "hovermode": "closest",
          "mapbox": {
           "style": "light"
          },
          "paper_bgcolor": "white",
          "plot_bgcolor": "#E5ECF6",
          "polar": {
           "angularaxis": {
            "gridcolor": "white",
            "linecolor": "white",
            "ticks": ""
           },
           "bgcolor": "#E5ECF6",
           "radialaxis": {
            "gridcolor": "white",
            "linecolor": "white",
            "ticks": ""
           }
          },
          "scene": {
           "xaxis": {
            "backgroundcolor": "#E5ECF6",
            "gridcolor": "white",
            "gridwidth": 2,
            "linecolor": "white",
            "showbackground": true,
            "ticks": "",
            "zerolinecolor": "white"
           },
           "yaxis": {
            "backgroundcolor": "#E5ECF6",
            "gridcolor": "white",
            "gridwidth": 2,
            "linecolor": "white",
            "showbackground": true,
            "ticks": "",
            "zerolinecolor": "white"
           },
           "zaxis": {
            "backgroundcolor": "#E5ECF6",
            "gridcolor": "white",
            "gridwidth": 2,
            "linecolor": "white",
            "showbackground": true,
            "ticks": "",
            "zerolinecolor": "white"
           }
          },
          "shapedefaults": {
           "line": {
            "color": "#2a3f5f"
           }
          },
          "ternary": {
           "aaxis": {
            "gridcolor": "white",
            "linecolor": "white",
            "ticks": ""
           },
           "baxis": {
            "gridcolor": "white",
            "linecolor": "white",
            "ticks": ""
           },
           "bgcolor": "#E5ECF6",
           "caxis": {
            "gridcolor": "white",
            "linecolor": "white",
            "ticks": ""
           }
          },
          "title": {
           "x": 0.05
          },
          "xaxis": {
           "automargin": true,
           "gridcolor": "white",
           "linecolor": "white",
           "ticks": "",
           "title": {
            "standoff": 15
           },
           "zerolinecolor": "white",
           "zerolinewidth": 2
          },
          "yaxis": {
           "automargin": true,
           "gridcolor": "white",
           "linecolor": "white",
           "ticks": "",
           "title": {
            "standoff": 15
           },
           "zerolinecolor": "white",
           "zerolinewidth": 2
          }
         }
        },
        "title": {
         "text": "Heatmap of LCS Ratios for Each Mutation"
        },
        "xaxis": {
         "anchor": "y",
         "constrain": "domain",
         "domain": [
          0,
          1
         ],
         "dtick": 1,
         "scaleanchor": "y",
         "tickmode": "linear",
         "title": {
          "text": "Mutation Position"
         }
        },
        "yaxis": {
         "anchor": "x",
         "autorange": "reversed",
         "constrain": "domain",
         "domain": [
          0,
          1
         ],
         "dtick": 1,
         "tickmode": "linear",
         "title": {
          "text": "Mutated Amino Acid"
         }
        }
       }
      }
     },
     "metadata": {},
     "output_type": "display_data"
    }
   ],
   "source": [
    "import os\n",
    "import pandas as pd\n",
    "import re\n",
    "import plotly.express as px\n",
    "import numpy as np\n",
    "\n",
    "lcs_data = []\n",
    "\n",
    "for file, normalized_score in normalized_lcs.items():\n",
    "    \n",
    "    match = re.match(r\"mutation_Pos(\\d+)_\\w+_to_(\\w+)\\.csv\", file)\n",
    "\n",
    "    if match:\n",
    "        position = int(match.group(1)) \n",
    "        mutated_aa = match.group(2)  \n",
    "\n",
    "        lcs_data.append([position, mutated_aa, normalized_score])\n",
    "\n",
    "\n",
    "df_lcs = pd.DataFrame(lcs_data, columns=['Position', 'Mutation', 'LCS_Ratio'])\n",
    "\n",
    "\n",
    "heatmap_matrix = df_lcs.pivot_table(index='Mutation', columns='Position', values='LCS_Ratio')\n",
    "\n",
    "\n",
    "fig = px.imshow(\n",
    "    heatmap_matrix,\n",
    "    labels={'x': 'Mutation Position', 'y': 'Mutated Amino Acid', 'color': 'LCS Ratio'},\n",
    "    color_continuous_scale='Temps',\n",
    "    title=\"Heatmap of LCS Ratios for Each Mutation\",\n",
    ")\n",
    "\n",
    "# Format axes\n",
    "fig.update_layout(\n",
    "    xaxis=dict(\n",
    "        tickmode='linear',\n",
    "        dtick=1  # Show every position\n",
    "    ),\n",
    "    yaxis=dict(\n",
    "        tickmode='linear',\n",
    "        dtick=1  # Show every position\n",
    "    ),\n",
    "    coloraxis_colorbar=dict(\n",
    "        tickvals=[0, 0.25, 0.5, 0.75, 1],  # Set scale from 0 to 1\n",
    "        ticktext=[\"0.0\", \"0.25\", \"0.5\", \"0.75\", \"1.0\"]\n",
    "    ),\n",
    "    plot_bgcolor='white'  \n",
    ")\n",
    "fig.show()\n",
    "\n",
    "\n",
    "\n",
    "\n"
   ]
  },
  {
   "cell_type": "code",
   "execution_count": null,
   "metadata": {},
   "outputs": [],
   "source": [
    "\"Generate tables and subplots showing cases for high and low LCS\""
   ]
  },
  {
   "cell_type": "code",
   "execution_count": 4,
   "metadata": {},
   "outputs": [
    {
     "name": "stdout",
     "output_type": "stream",
     "text": [
      "Extracted 269 mutated sequences from filenames.\n",
      "Extracted kinase orders from 270 CSV files.\n"
     ]
    },
    {
     "name": "stderr",
     "output_type": "stream",
     "text": [
      "C:\\Users\\ricea\\AppData\\Local\\Temp\\ipykernel_9456\\1718558668.py:128: UserWarning: Tight layout not applied. The bottom and top margins cannot be made large enough to accommodate all axes decorations.\n",
      "  plt.tight_layout()\n"
     ]
    },
    {
     "data": {
      "image/png": "[encoded data removed]",
      "text/plain": [
       "<Figure size 1800x500 with 2 Axes>"
      ]
     },
     "metadata": {},
     "output_type": "display_data"
    }
   ],
   "source": [
    "import os\n",
    "import pandas as pd\n",
    "from difflib import SequenceMatcher\n",
    "import matplotlib.pyplot as plt\n",
    "\n",
    "# Define paths and variables\n",
    "mut_predictions = \"C:/Users/ricea/OneDrive/Documents/GitHub/Annabel-BSc-Project/mutations\"\n",
    "kinase_orders = {}\n",
    "mutated_sequences = []\n",
    "\n",
    "def extract_mutated_sequences():\n",
    "    \"\"\"Reads CSV files and extracts mutated sequences from the file names.\"\"\"\n",
    "    global mutated_sequences\n",
    "    for file in os.listdir(mut_predictions):  # Finds the CSVs, reads the CSVs\n",
    "        if file.endswith(\".csv\") and file != \"wildtype.csv\":  # Exclude wildtype.csv\n",
    "            # Extract position, original amino acid, and new amino acid from the file name\n",
    "            parts = file.split('_')\n",
    "            original_aa = parts[2]  # This is the original amino acid\n",
    "            new_aa = parts[4].split('.')[0]  # This is the new amino acid (without \".csv\")\n",
    "            \n",
    "            # Store mutated sequence information (e.g., \"P_to_A\")\n",
    "            mutated_sequence = f\"{original_aa}_to_{new_aa}\"\n",
    "            mutated_sequences.append(mutated_sequence)  # Store mutated sequence\n",
    "\n",
    "    print(f\"Extracted {len(mutated_sequences)} mutated sequences from filenames.\")  # Checks if it's done\n",
    "\n",
    "def extract_kinase_orders():\n",
    "    \"\"\"Reads CSV files and extracts kinase orders.\"\"\"\n",
    "    global kinase_orders\n",
    "    for file in os.listdir(mut_predictions):  # Finds the CSVs, reads the CSVs\n",
    "        if file.endswith(\".csv\"):\n",
    "            file_path = os.path.join(mut_predictions, file)\n",
    "            try:\n",
    "                df = pd.read_csv(file_path)\n",
    "\n",
    "                # Check if \"Score Rank\" column exists\n",
    "                if \"Score Rank\" in df.columns:\n",
    "                    kinase_list = df[\"Score Rank\"].tolist()\n",
    "                    kinase_orders[file] = kinase_list  # Store kinase order for each mutation\n",
    "                else:\n",
    "                    print(f\"Skipping {file}: No 'Score Rank' column found.\")  # Proofreads\n",
    "\n",
    "            except Exception as e:\n",
    "                print(f\"Error reading {file}: {e}\")  # Proofreads\n",
    "\n",
    "    print(f\"Extracted kinase orders from {len(kinase_orders)} CSV files.\")  # Checks if it's done\n",
    "\n",
    "def longest_common_subsequence(seq1, seq2):\n",
    "    \"\"\"Computes the Longest Common Subsequence (LCS) length between two lists.\"\"\"\n",
    "    matcher = SequenceMatcher(None, seq1, seq2)\n",
    "    return sum(block.size for block in matcher.get_matching_blocks())\n",
    "\n",
    "def calculate_lcs_scores():\n",
    "    \"\"\"Calculates the LCS score between mutated sequences and wildtype sequence.\"\"\"\n",
    "    pairwise_lcs = {}\n",
    "    \n",
    "    # Wildtype sequence from the \"wildtype.csv\" file\n",
    "    wildtype_sequence = kinase_orders.get(\"wildtype.csv\", [])\n",
    "    \n",
    "    if not wildtype_sequence:\n",
    "        print(\"Wildtype sequence not found in the kinase orders.\")\n",
    "        return {}\n",
    "\n",
    "    for mutated_sequence in mutated_sequences:\n",
    "        # Look up the kinase order for the mutated sequence file\n",
    "        mutated_file = f\"mutation_{mutated_sequence}.csv\"  # Using the mutated sequence format\n",
    "        mutated_order = next((order for filename, order in kinase_orders.items() if mutated_sequence in filename), None)\n",
    "        \n",
    "        if mutated_order:  # If mutated order is found\n",
    "            lcs_length = longest_common_subsequence(wildtype_sequence, mutated_order)\n",
    "            pairwise_lcs[mutated_sequence] = lcs_length\n",
    "        else:\n",
    "            print(f\"Skipping mutated sequence: {mutated_sequence}, order not found.\")\n",
    "    \n",
    "    # Normalize LCS scores\n",
    "    lcs_scores = list(pairwise_lcs.values())\n",
    "    lcs_min = min(lcs_scores)\n",
    "    lcs_max = max(lcs_scores)\n",
    "\n",
    "    # Prevent division by zero if all scores are the same\n",
    "    if lcs_max - lcs_min == 0:\n",
    "        print(\"All LCS scores are identical. Normalization skipped.\")\n",
    "        normalized_lcs = {seq: 1.0 for seq in pairwise_lcs}  # Assign all a score of 1\n",
    "    else:\n",
    "        normalized_lcs = {seq: (score - lcs_min) / (lcs_max - lcs_min) for seq, score in pairwise_lcs.items()}\n",
    "\n",
    "    return normalized_lcs\n",
    "\n",
    "def display_lcs_tables(normalized_lcs):\n",
    "    \"\"\"Displays two side-by-side tables for LCS scores in two specific ranges.\"\"\"\n",
    "    lcs_groups = {\n",
    "        '0.8-1.0': [],\n",
    "        '0.0-0.3': []\n",
    "    }\n",
    "\n",
    "    # Group the data by the LCS score ranges\n",
    "    for mutated_sequence, normalized_score in normalized_lcs.items():\n",
    "        if 0.8 <= normalized_score <= 1.0:\n",
    "            lcs_groups['0.8-1.0'].append((mutated_sequence, normalized_score))\n",
    "        elif 0.0 <= normalized_score <= 0.3:\n",
    "            lcs_groups['0.0-0.3'].append((mutated_sequence, normalized_score))\n",
    "\n",
    "    # Create side-by-side tables for each LCS group\n",
    "    fig, axes = plt.subplots(1, 2, figsize=(18, 5))\n",
    "\n",
    "    for idx, (score_group, ax) in enumerate(zip(['0.8-1.0', '0.0-0.3'], axes)):\n",
    "        data = lcs_groups[score_group]\n",
    "\n",
    "        # Only create a table if there is data\n",
    "        if data:\n",
    "            table_data = [(pair[0], f\"{pair[1]:.4f}\") for pair in data]\n",
    "\n",
    "            # Create a table\n",
    "            table = ax.table(cellText=table_data,\n",
    "                            colLabels=[\"Mutated Sequence\", \"Normalized LCS Score\"],\n",
    "                            loc=\"center\",\n",
    "                            cellLoc=\"center\",\n",
    "                            colColours=[\"#f5f5f5\"] * 2)\n",
    "\n",
    "            ax.axis(\"off\")\n",
    "            ax.set_title(f\"LCS Score: {score_group}\", fontsize=14)\n",
    "        else:\n",
    "            ax.text(0.5, 0.5, f\"No data for LCS = {score_group}\",\n",
    "                    horizontalalignment='center',\n",
    "                    verticalalignment='center',\n",
    "                    fontsize=12, color='red')\n",
    "\n",
    "    plt.tight_layout()\n",
    "    plt.show()\n",
    "\n",
    "# Example of using the functions:\n",
    "# Run this once to extract mutated sequences, kinase orders, and calculate LCS scores\n",
    "extract_mutated_sequences()\n",
    "extract_kinase_orders()\n",
    "normalized_lcs = calculate_lcs_scores()\n",
    "\n",
    "# Then you can run the display function whenever you want to show the tables\n",
    "if normalized_lcs:\n",
    "    display_lcs_tables(normalized_lcs)\n"
   ]
  },
  {
   "cell_type": "code",
   "execution_count": null,
   "metadata": {},
   "outputs": [],
   "source": [
    "'''\n",
    "Task 5. Using function below. Get a workflow up and running to ping uniprot servers, extract protein sequence \n",
    "in the format needed by kinase library to run the code on extracted sequences. You'll need to import the request library using\n",
    "pip install requests\n",
    "'''\n",
    "\n"
   ]
  },
  {
   "cell_type": "code",
   "execution_count": 15,
   "metadata": {},
   "outputs": [],
   "source": [
    "import requests\n",
    "\n",
    "def extract_genomic_information_from_uniprot_id(uniprot_id):\n",
    "    '''\n",
    "    Takes in uniprot ID as a string input and pings the Uniprot API to extract genomic coordinates of the protein and exons.\n",
    "    Metadata such as name, taxID, protein sequence, genome assembly name,  ENSEMBL GeneID, ENSEMBL Transcript ID and ENSEMBL Translations IDs is included alongside the extracted coordinates.  \n",
    "\n",
    "    Args:\n",
    "    uniprot_id (str): uniprot ID\n",
    "\n",
    "    Returns:\n",
    "    genomic_information (pd.DataFrame): DataFrame containing genomic coordinates of the protein of interest alongside exon positions and metadata \n",
    "    '''\n",
    "    genomic_information = pd.DataFrame()\n",
    "    try:\n",
    "        print(f'Searching for UniProt ID: {uniprot_id}')\n",
    "        requestURL_protein = f\"https://www.ebi.ac.uk/proteins/api/coordinates/{uniprot_id}\"\n",
    "        response_protein = requests.get(requestURL_protein, headers={\"Accept\": \"application/json\"})\n",
    "        \n",
    "        # Check if the request was successful\n",
    "        response_protein.raise_for_status()\n",
    "        \n",
    "        # Load JSON response\n",
    "        response_protein = response_protein.json()\n",
    "        \n",
    "        # Check if response is not empty\n",
    "        if response_protein:\n",
    "            response_protein_normalise = pd.json_normalize(\n",
    "                response_protein, \n",
    "                record_path=['gnCoordinate', 'genomicLocation', 'exon'], \n",
    "                meta=['accession', 'name', 'taxid', 'sequence', \n",
    "                      ['gnCoordinate', 'genomicLocation', 'chromosome'], \n",
    "                      ['gnCoordinate', 'genomicLocation', 'start'], \n",
    "                      ['gnCoordinate', 'genomicLocation', 'end'], \n",
    "                      ['gnCoordinate', 'genomicLocation', 'reverseStrand'], \n",
    "                      ['gnCoordinate', 'genomicLocation', 'nucleotideId'], \n",
    "                      ['gnCoordinate', 'genomicLocation', 'assemblyName'], \n",
    "                      ['gnCoordinate', 'ensemblGeneId'], \n",
    "                      ['gnCoordinate', 'ensemblTranscriptId'], \n",
    "                      ['gnCoordinate', 'ensemblTranslationId']],\n",
    "                record_prefix='exon_'\n",
    "            )\n",
    "\n",
    "            # Group and aggregate exon information\n",
    "            response_protein_normalise = response_protein_normalise.groupby([\n",
    "                'accession', 'name', 'taxid', 'sequence', \n",
    "                'gnCoordinate.genomicLocation.chromosome', \n",
    "                'gnCoordinate.genomicLocation.start', \n",
    "                'gnCoordinate.genomicLocation.end', \n",
    "                'gnCoordinate.genomicLocation.reverseStrand', \n",
    "                'gnCoordinate.genomicLocation.nucleotideId', \n",
    "                'gnCoordinate.genomicLocation.assemblyName', \n",
    "                'gnCoordinate.ensemblGeneId', \n",
    "                'gnCoordinate.ensemblTranscriptId', \n",
    "                'gnCoordinate.ensemblTranslationId'\n",
    "            ]).agg({\n",
    "                'exon_id': lambda x: ','.join(map(str, x)),\n",
    "                'exon_proteinLocation.begin.position': lambda x: ','.join(map(str, x)),                    \n",
    "                'exon_proteinLocation.end.position': lambda x: ','.join(map(str, x)),\n",
    "                'exon_genomeLocation.begin.position': lambda x: ','.join(map(str, x)),                    \n",
    "                'exon_genomeLocation.end.position': lambda x: ','.join(map(str, x))\n",
    "            }).reset_index()\n",
    "\n",
    "            # Concatenate to the main DataFrame\n",
    "            genomic_information = pd.concat([genomic_information, response_protein_normalise], ignore_index=True)\n",
    "        else:\n",
    "            print(f\"No data found for UniProt ID: {uniprot_id}\")\n",
    "            \n",
    "    except Exception as e:\n",
    "        print(f\"An error occurred: {e}\")\n",
    "\n",
    "    return genomic_information"
   ]
  },
  {
   "cell_type": "code",
   "execution_count": null,
   "metadata": {},
   "outputs": [
    {
     "name": "stdout",
     "output_type": "stream",
     "text": [
      "Searching for UniProt ID: O15533\n"
     ]
    },
    {
     "data": {
      "text/html": [
       "<div>\n",
       "<style scoped>\n",
       "    .dataframe tbody tr th:only-of-type {\n",
       "        vertical-align: middle;\n",
       "    }\n",
       "\n",
       "    .dataframe tbody tr th {\n",
       "        vertical-align: top;\n",
       "    }\n",
       "\n",
       "    .dataframe thead th {\n",
       "        text-align: right;\n",
       "    }\n",
       "</style>\n",
       "<table border=\"1\" class=\"dataframe\">\n",
       "  <thead>\n",
       "    <tr style=\"text-align: right;\">\n",
       "      <th></th>\n",
       "      <th>accession</th>\n",
       "      <th>name</th>\n",
       "      <th>taxid</th>\n",
       "      <th>sequence</th>\n",
       "      <th>gnCoordinate.genomicLocation.chromosome</th>\n",
       "      <th>gnCoordinate.genomicLocation.start</th>\n",
       "      <th>gnCoordinate.genomicLocation.end</th>\n",
       "      <th>gnCoordinate.genomicLocation.reverseStrand</th>\n",
       "      <th>gnCoordinate.genomicLocation.nucleotideId</th>\n",
       "      <th>gnCoordinate.genomicLocation.assemblyName</th>\n",
       "      <th>gnCoordinate.ensemblGeneId</th>\n",
       "      <th>gnCoordinate.ensemblTranscriptId</th>\n",
       "      <th>gnCoordinate.ensemblTranslationId</th>\n",
       "      <th>exon_id</th>\n",
       "      <th>exon_proteinLocation.begin.position</th>\n",
       "      <th>exon_proteinLocation.end.position</th>\n",
       "      <th>exon_genomeLocation.begin.position</th>\n",
       "      <th>exon_genomeLocation.end.position</th>\n",
       "    </tr>\n",
       "  </thead>\n",
       "  <tbody>\n",
       "    <tr>\n",
       "      <th>0</th>\n",
       "      <td>O15533</td>\n",
       "      <td>TPSN_HUMAN</td>\n",
       "      <td>9606</td>\n",
       "      <td>MKSLSLLLAVALGLATAVSAGPAVIECWFVEDASGKGLAKRPGALL...</td>\n",
       "      <td>6</td>\n",
       "      <td>33314041</td>\n",
       "      <td>33301763</td>\n",
       "      <td>True</td>\n",
       "      <td>CM000668.2</td>\n",
       "      <td>GRCh38</td>\n",
       "      <td>ENSG00000231925</td>\n",
       "      <td>ENST00000434618</td>\n",
       "      <td>ENSP00000395701</td>\n",
       "      <td>ENSE00003898774,ENSE00003482532,ENSE0000352558...</td>\n",
       "      <td>1,13,70,157,290,404,434,446</td>\n",
       "      <td>13,70,157,290,404,434,445,448</td>\n",
       "      <td>33314041,33313864,33313477,33305387,33304638,3...</td>\n",
       "      <td>33314005,33313694,33313217,33304989,33304297,3...</td>\n",
       "    </tr>\n",
       "    <tr>\n",
       "      <th>1</th>\n",
       "      <td>O15533</td>\n",
       "      <td>TPSN_HUMAN</td>\n",
       "      <td>9606</td>\n",
       "      <td>MKSLSLLLAVALGLATAVSAGPAVIECWFVEDASGKGLAKRPGALL...</td>\n",
       "      <td>HSCHR6_MHC_MCF_CTG1</td>\n",
       "      <td>4749975</td>\n",
       "      <td>4737699</td>\n",
       "      <td>True</td>\n",
       "      <td>GL000254.2</td>\n",
       "      <td>GRCh38</td>\n",
       "      <td>ENSG00000206208</td>\n",
       "      <td>ENST00000383066</td>\n",
       "      <td>ENSP00000372543</td>\n",
       "      <td>ENSE00001941896,ENSE00003653305,ENSE0000364644...</td>\n",
       "      <td>1,13,70,157,290,404,434,446</td>\n",
       "      <td>13,70,157,290,404,434,445,448</td>\n",
       "      <td>4749975,4749798,4749411,4741323,4740574,474015...</td>\n",
       "      <td>4749939,4749628,4749151,4740925,4740233,474006...</td>\n",
       "    </tr>\n",
       "  </tbody>\n",
       "</table>\n",
       "</div>"
      ],
      "text/plain": [
       "  accession        name  taxid  \\\n",
       "0    O15533  TPSN_HUMAN   9606   \n",
       "1    O15533  TPSN_HUMAN   9606   \n",
       "\n",
       "                                            sequence  \\\n",
       "0  MKSLSLLLAVALGLATAVSAGPAVIECWFVEDASGKGLAKRPGALL...   \n",
       "1  MKSLSLLLAVALGLATAVSAGPAVIECWFVEDASGKGLAKRPGALL...   \n",
       "\n",
       "  gnCoordinate.genomicLocation.chromosome  gnCoordinate.genomicLocation.start  \\\n",
       "0                                       6                            33314041   \n",
       "1                     HSCHR6_MHC_MCF_CTG1                             4749975   \n",
       "\n",
       "   gnCoordinate.genomicLocation.end  \\\n",
       "0                          33301763   \n",
       "1                           4737699   \n",
       "\n",
       "   gnCoordinate.genomicLocation.reverseStrand  \\\n",
       "0                                        True   \n",
       "1                                        True   \n",
       "\n",
       "  gnCoordinate.genomicLocation.nucleotideId  \\\n",
       "0                                CM000668.2   \n",
       "1                                GL000254.2   \n",
       "\n",
       "  gnCoordinate.genomicLocation.assemblyName gnCoordinate.ensemblGeneId  \\\n",
       "0                                    GRCh38            ENSG00000231925   \n",
       "1                                    GRCh38            ENSG00000206208   \n",
       "\n",
       "  gnCoordinate.ensemblTranscriptId gnCoordinate.ensemblTranslationId  \\\n",
       "0                  ENST00000434618                   ENSP00000395701   \n",
       "1                  ENST00000383066                   ENSP00000372543   \n",
       "\n",
       "                                             exon_id  \\\n",
       "0  ENSE00003898774,ENSE00003482532,ENSE0000352558...   \n",
       "1  ENSE00001941896,ENSE00003653305,ENSE0000364644...   \n",
       "\n",
       "  exon_proteinLocation.begin.position exon_proteinLocation.end.position  \\\n",
       "0         1,13,70,157,290,404,434,446     13,70,157,290,404,434,445,448   \n",
       "1         1,13,70,157,290,404,434,446     13,70,157,290,404,434,445,448   \n",
       "\n",
       "                  exon_genomeLocation.begin.position  \\\n",
       "0  33314041,33313864,33313477,33305387,33304638,3...   \n",
       "1  4749975,4749798,4749411,4741323,4740574,474015...   \n",
       "\n",
       "                    exon_genomeLocation.end.position  \n",
       "0  33314005,33313694,33313217,33304989,33304297,3...  \n",
       "1  4749939,4749628,4749151,4740925,4740233,474006...  "
      ]
     },
     "metadata": {},
     "output_type": "display_data"
    }
   ],
   "source": [
    "#Example usage\n",
    "test_df = extract_genomic_information_from_uniprot_id('O15533')\n",
    "display(test_df)\n",
    "\n"
   ]
  },
  {
   "cell_type": "code",
   "execution_count": 61,
   "metadata": {},
   "outputs": [
    {
     "name": "stdout",
     "output_type": "stream",
     "text": [
      "Searching for UniProt ID: O95394-1\n",
      "Extracted Sequence: STIGVMVTASHNPEE\n"
     ]
    }
   ],
   "source": [
    "import requests\n",
    "import pandas as pd\n",
    "\n",
    "uniprot_id = ('O95394-1') #modify these to protein of interest\n",
    "reference_position = 61\n",
    "\n",
    "def extract_genomic_information_from_uniprot_id(uniprot_id, reference_position):\n",
    "    '''\n",
    "    Extracts genomic coordinates and metadata from UniProt, then retrieves a sequence segment\n",
    "    surrounding a specified reference position.\n",
    "    '''\n",
    "    genomic_information = pd.DataFrame()\n",
    "    try:\n",
    "        print(f'Searching for UniProt ID: {uniprot_id}')\n",
    "        requestURL_protein = f\"https://www.ebi.ac.uk/proteins/api/proteins/{uniprot_id}\"\n",
    "        response_protein = requests.get(requestURL_protein, headers={\"Accept\": \"application/json\"})\n",
    "        \n",
    "        # Check if the request was successful\n",
    "        response_protein.raise_for_status()\n",
    "        \n",
    "        # Load JSON response\n",
    "        response_protein = response_protein.json()\n",
    "        \n",
    "        # Extract protein sequence\n",
    "        protein_sequence = response_protein.get(\"sequence\", {}).get(\"sequence\", \"\")\n",
    "        \n",
    "        if not protein_sequence:\n",
    "            print(f\"No sequence found for UniProt ID: {uniprot_id}\")\n",
    "            return None\n",
    "        \n",
    "        # Extract 7 amino acids upstream and downstream\n",
    "        start = max(0, reference_position - 7)  # Ensure start is not negative\n",
    "        end = min(len(protein_sequence), reference_position + 8)  # Ensure end is within bounds\n",
    "        extracted_sequence = protein_sequence[start:end]\n",
    "\n",
    "        # Get genomic metadata\n",
    "        genomic_information = {\n",
    "            \"UniProt_ID\": uniprot_id,\n",
    "            \"Protein_Name\": response_protein.get(\"protein\", {}).get(\"recommendedName\", {}).get(\"fullName\", \"\"),\n",
    "            \"TaxID\": response_protein.get(\"organism\", {}).get(\"taxid\", \"\"),\n",
    "            \"Sequence_Length\": len(protein_sequence),\n",
    "            \"Reference_Position\": reference_position,\n",
    "            \"Extracted_Sequence\": extracted_sequence\n",
    "        }\n",
    "\n",
    "        return genomic_information\n",
    "\n",
    "    except Exception as e:\n",
    "        print(f\"An error occurred: {e}\")\n",
    "        return None\n",
    "\n",
    "result = extract_genomic_information_from_uniprot_id(uniprot_id, reference_position)\n",
    "\n",
    "if result:\n",
    "    print(f\"Extracted Sequence: {result['Extracted_Sequence']}\")\n"
   ]
  },
  {
   "cell_type": "code",
   "execution_count": null,
   "metadata": {},
   "outputs": [],
   "source": [
    "'This is me working out how to make this code work for a different sequence, ie the extracted sequence. '\n",
    "'Scroll to the bottom to see this synthesised in one cell with user prompts.'"
   ]
  },
  {
   "cell_type": "code",
   "execution_count": null,
   "metadata": {},
   "outputs": [],
   "source": []
  },
  {
   "cell_type": "code",
   "execution_count": 62,
   "metadata": {},
   "outputs": [
    {
     "name": "stdout",
     "output_type": "stream",
     "text": [
      "Mutated sequences (# sequences = 285)\n",
      "['ATIGVMVTASHNPEE', 'CTIGVMVTASHNPEE', 'DTIGVMVTASHNPEE', 'ETIGVMVTASHNPEE', 'FTIGVMVTASHNPEE', 'GTIGVMVTASHNPEE', 'HTIGVMVTASHNPEE', 'ITIGVMVTASHNPEE', 'KTIGVMVTASHNPEE', 'LTIGVMVTASHNPEE', 'MTIGVMVTASHNPEE', 'NTIGVMVTASHNPEE', 'PTIGVMVTASHNPEE', 'QTIGVMVTASHNPEE', 'RTIGVMVTASHNPEE', 'TTIGVMVTASHNPEE', 'VTIGVMVTASHNPEE', 'WTIGVMVTASHNPEE', 'YTIGVMVTASHNPEE', 'SAIGVMVTASHNPEE', 'SCIGVMVTASHNPEE', 'SDIGVMVTASHNPEE', 'SEIGVMVTASHNPEE', 'SFIGVMVTASHNPEE', 'SGIGVMVTASHNPEE', 'SHIGVMVTASHNPEE', 'SIIGVMVTASHNPEE', 'SKIGVMVTASHNPEE', 'SLIGVMVTASHNPEE', 'SMIGVMVTASHNPEE', 'SNIGVMVTASHNPEE', 'SPIGVMVTASHNPEE', 'SQIGVMVTASHNPEE', 'SRIGVMVTASHNPEE', 'SSIGVMVTASHNPEE', 'SVIGVMVTASHNPEE', 'SWIGVMVTASHNPEE', 'SYIGVMVTASHNPEE', 'STAGVMVTASHNPEE', 'STCGVMVTASHNPEE', 'STDGVMVTASHNPEE', 'STEGVMVTASHNPEE', 'STFGVMVTASHNPEE', 'STGGVMVTASHNPEE', 'STHGVMVTASHNPEE', 'STKGVMVTASHNPEE', 'STLGVMVTASHNPEE', 'STMGVMVTASHNPEE', 'STNGVMVTASHNPEE', 'STPGVMVTASHNPEE', 'STQGVMVTASHNPEE', 'STRGVMVTASHNPEE', 'STSGVMVTASHNPEE', 'STTGVMVTASHNPEE', 'STVGVMVTASHNPEE', 'STWGVMVTASHNPEE', 'STYGVMVTASHNPEE', 'STIAVMVTASHNPEE', 'STICVMVTASHNPEE', 'STIDVMVTASHNPEE', 'STIEVMVTASHNPEE', 'STIFVMVTASHNPEE', 'STIHVMVTASHNPEE', 'STIIVMVTASHNPEE', 'STIKVMVTASHNPEE', 'STILVMVTASHNPEE', 'STIMVMVTASHNPEE', 'STINVMVTASHNPEE', 'STIPVMVTASHNPEE', 'STIQVMVTASHNPEE', 'STIRVMVTASHNPEE', 'STISVMVTASHNPEE', 'STITVMVTASHNPEE', 'STIVVMVTASHNPEE', 'STIWVMVTASHNPEE', 'STIYVMVTASHNPEE', 'STIGAMVTASHNPEE', 'STIGCMVTASHNPEE', 'STIGDMVTASHNPEE', 'STIGEMVTASHNPEE', 'STIGFMVTASHNPEE', 'STIGGMVTASHNPEE', 'STIGHMVTASHNPEE', 'STIGIMVTASHNPEE', 'STIGKMVTASHNPEE', 'STIGLMVTASHNPEE', 'STIGMMVTASHNPEE', 'STIGNMVTASHNPEE', 'STIGPMVTASHNPEE', 'STIGQMVTASHNPEE', 'STIGRMVTASHNPEE', 'STIGSMVTASHNPEE', 'STIGTMVTASHNPEE', 'STIGWMVTASHNPEE', 'STIGYMVTASHNPEE', 'STIGVAVTASHNPEE', 'STIGVCVTASHNPEE', 'STIGVDVTASHNPEE', 'STIGVEVTASHNPEE', 'STIGVFVTASHNPEE', 'STIGVGVTASHNPEE', 'STIGVHVTASHNPEE', 'STIGVIVTASHNPEE', 'STIGVKVTASHNPEE', 'STIGVLVTASHNPEE', 'STIGVNVTASHNPEE', 'STIGVPVTASHNPEE', 'STIGVQVTASHNPEE', 'STIGVRVTASHNPEE', 'STIGVSVTASHNPEE', 'STIGVTVTASHNPEE', 'STIGVVVTASHNPEE', 'STIGVWVTASHNPEE', 'STIGVYVTASHNPEE', 'STIGVMATASHNPEE', 'STIGVMCTASHNPEE', 'STIGVMDTASHNPEE', 'STIGVMETASHNPEE', 'STIGVMFTASHNPEE', 'STIGVMGTASHNPEE', 'STIGVMHTASHNPEE', 'STIGVMITASHNPEE', 'STIGVMKTASHNPEE', 'STIGVMLTASHNPEE', 'STIGVMMTASHNPEE', 'STIGVMNTASHNPEE', 'STIGVMPTASHNPEE', 'STIGVMQTASHNPEE', 'STIGVMRTASHNPEE', 'STIGVMSTASHNPEE', 'STIGVMTTASHNPEE', 'STIGVMWTASHNPEE', 'STIGVMYTASHNPEE', 'STIGVMVAASHNPEE', 'STIGVMVCASHNPEE', 'STIGVMVDASHNPEE', 'STIGVMVEASHNPEE', 'STIGVMVFASHNPEE', 'STIGVMVGASHNPEE', 'STIGVMVHASHNPEE', 'STIGVMVIASHNPEE', 'STIGVMVKASHNPEE', 'STIGVMVLASHNPEE', 'STIGVMVMASHNPEE', 'STIGVMVNASHNPEE', 'STIGVMVPASHNPEE', 'STIGVMVQASHNPEE', 'STIGVMVRASHNPEE', 'STIGVMVSASHNPEE', 'STIGVMVVASHNPEE', 'STIGVMVWASHNPEE', 'STIGVMVYASHNPEE', 'STIGVMVTCSHNPEE', 'STIGVMVTDSHNPEE', 'STIGVMVTESHNPEE', 'STIGVMVTFSHNPEE', 'STIGVMVTGSHNPEE', 'STIGVMVTHSHNPEE', 'STIGVMVTISHNPEE', 'STIGVMVTKSHNPEE', 'STIGVMVTLSHNPEE', 'STIGVMVTMSHNPEE', 'STIGVMVTNSHNPEE', 'STIGVMVTPSHNPEE', 'STIGVMVTQSHNPEE', 'STIGVMVTRSHNPEE', 'STIGVMVTSSHNPEE', 'STIGVMVTTSHNPEE', 'STIGVMVTVSHNPEE', 'STIGVMVTWSHNPEE', 'STIGVMVTYSHNPEE', 'STIGVMVTAAHNPEE', 'STIGVMVTACHNPEE', 'STIGVMVTADHNPEE', 'STIGVMVTAEHNPEE', 'STIGVMVTAFHNPEE', 'STIGVMVTAGHNPEE', 'STIGVMVTAHHNPEE', 'STIGVMVTAIHNPEE', 'STIGVMVTAKHNPEE', 'STIGVMVTALHNPEE', 'STIGVMVTAMHNPEE', 'STIGVMVTANHNPEE', 'STIGVMVTAPHNPEE', 'STIGVMVTAQHNPEE', 'STIGVMVTARHNPEE', 'STIGVMVTATHNPEE', 'STIGVMVTAVHNPEE', 'STIGVMVTAWHNPEE', 'STIGVMVTAYHNPEE', 'STIGVMVTASANPEE', 'STIGVMVTASCNPEE', 'STIGVMVTASDNPEE', 'STIGVMVTASENPEE', 'STIGVMVTASFNPEE', 'STIGVMVTASGNPEE', 'STIGVMVTASINPEE', 'STIGVMVTASKNPEE', 'STIGVMVTASLNPEE', 'STIGVMVTASMNPEE', 'STIGVMVTASNNPEE', 'STIGVMVTASPNPEE', 'STIGVMVTASQNPEE', 'STIGVMVTASRNPEE', 'STIGVMVTASSNPEE', 'STIGVMVTASTNPEE', 'STIGVMVTASVNPEE', 'STIGVMVTASWNPEE', 'STIGVMVTASYNPEE', 'STIGVMVTASHAPEE', 'STIGVMVTASHCPEE', 'STIGVMVTASHDPEE', 'STIGVMVTASHEPEE', 'STIGVMVTASHFPEE', 'STIGVMVTASHGPEE', 'STIGVMVTASHHPEE', 'STIGVMVTASHIPEE', 'STIGVMVTASHKPEE', 'STIGVMVTASHLPEE', 'STIGVMVTASHMPEE', 'STIGVMVTASHPPEE', 'STIGVMVTASHQPEE', 'STIGVMVTASHRPEE', 'STIGVMVTASHSPEE', 'STIGVMVTASHTPEE', 'STIGVMVTASHVPEE', 'STIGVMVTASHWPEE', 'STIGVMVTASHYPEE', 'STIGVMVTASHNAEE', 'STIGVMVTASHNCEE', 'STIGVMVTASHNDEE', 'STIGVMVTASHNEEE', 'STIGVMVTASHNFEE', 'STIGVMVTASHNGEE', 'STIGVMVTASHNHEE', 'STIGVMVTASHNIEE', 'STIGVMVTASHNKEE', 'STIGVMVTASHNLEE', 'STIGVMVTASHNMEE', 'STIGVMVTASHNNEE', 'STIGVMVTASHNQEE', 'STIGVMVTASHNREE', 'STIGVMVTASHNSEE', 'STIGVMVTASHNTEE', 'STIGVMVTASHNVEE', 'STIGVMVTASHNWEE', 'STIGVMVTASHNYEE', 'STIGVMVTASHNPAE', 'STIGVMVTASHNPCE', 'STIGVMVTASHNPDE', 'STIGVMVTASHNPFE', 'STIGVMVTASHNPGE', 'STIGVMVTASHNPHE', 'STIGVMVTASHNPIE', 'STIGVMVTASHNPKE', 'STIGVMVTASHNPLE', 'STIGVMVTASHNPME', 'STIGVMVTASHNPNE', 'STIGVMVTASHNPPE', 'STIGVMVTASHNPQE', 'STIGVMVTASHNPRE', 'STIGVMVTASHNPSE', 'STIGVMVTASHNPTE', 'STIGVMVTASHNPVE', 'STIGVMVTASHNPWE', 'STIGVMVTASHNPYE', 'STIGVMVTASHNPEA', 'STIGVMVTASHNPEC', 'STIGVMVTASHNPED', 'STIGVMVTASHNPEF', 'STIGVMVTASHNPEG', 'STIGVMVTASHNPEH', 'STIGVMVTASHNPEI', 'STIGVMVTASHNPEK', 'STIGVMVTASHNPEL', 'STIGVMVTASHNPEM', 'STIGVMVTASHNPEN', 'STIGVMVTASHNPEP', 'STIGVMVTASHNPEQ', 'STIGVMVTASHNPER', 'STIGVMVTASHNPES', 'STIGVMVTASHNPET', 'STIGVMVTASHNPEV', 'STIGVMVTASHNPEW', 'STIGVMVTASHNPEY']\n"
     ]
    }
   ],
   "source": [
    "def generate_mutated_sequences(seq_of_interest):\n",
    "    \"\"\"\n",
    "    Generates all possible single-point mutations for a given amino acid sequence.\n",
    "\n",
    "    Args:\n",
    "        seq_of_interest (str): The original amino acid sequence.\n",
    "\n",
    "    Returns:\n",
    "        list: A list containing all possible mutated sequences.\n",
    "    \"\"\"\n",
    "    mutated_sequences = []  # List to store mutated sequences\n",
    "    amino_acids = \"ACDEFGHIKLMNPQRSTVWY\"  # Standard 20 amino acids\n",
    "\n",
    "    for i, original_aa in enumerate(seq_of_interest):  # Iterate over each amino acid\n",
    "        for new_aa in amino_acids:  # Try replacing with each amino acid\n",
    "            if new_aa != original_aa:  # Avoid replacing with itself\n",
    "                mutated_seq = seq_of_interest[:i] + new_aa + seq_of_interest[i+1:]\n",
    "                mutated_sequences.append(mutated_seq)\n",
    "\n",
    "    return mutated_sequences\n",
    "\n",
    "\n",
    "seq_of_interest = \"STIGVMVTASHNPEE\"\n",
    "mutated_sequences = generate_mutated_sequences(seq_of_interest)\n",
    "\n",
    "print(f\"Mutated sequences (# sequences = {len(mutated_sequences)})\")\n",
    "print(mutated_sequences)  # Shows mutations at each position\n",
    "\n",
    "        "
   ]
  },
  {
   "cell_type": "code",
   "execution_count": 50,
   "metadata": {},
   "outputs": [],
   "source": [
    "import os\n",
    "os.makedirs(\"mutations2\", exist_ok=True)\n",
    "#creates a new folder called mutations2 to put the sequence predictions into"
   ]
  },
  {
   "cell_type": "code",
   "execution_count": 63,
   "metadata": {},
   "outputs": [
    {
     "name": "stdout",
     "output_type": "stream",
     "text": [
      "Wild-type sequence predictions saved to mutations2/wildtype2.csv\n",
      "Total mutations generated: 285\n",
      "Skipping mutation at position 7 (T → A): Central residue must be a phosphoacceptor (s/t/y). Otherwise, please identify the position of the phosphoacceptor.\n",
      "Skipping mutation at position 7 (T → C): Central residue must be a phosphoacceptor (s/t/y). Otherwise, please identify the position of the phosphoacceptor.\n",
      "Skipping mutation at position 7 (T → D): Central residue must be a phosphoacceptor (s/t/y). Otherwise, please identify the position of the phosphoacceptor.\n",
      "Skipping mutation at position 7 (T → E): Central residue must be a phosphoacceptor (s/t/y). Otherwise, please identify the position of the phosphoacceptor.\n",
      "Skipping mutation at position 7 (T → F): Central residue must be a phosphoacceptor (s/t/y). Otherwise, please identify the position of the phosphoacceptor.\n",
      "Skipping mutation at position 7 (T → G): Central residue must be a phosphoacceptor (s/t/y). Otherwise, please identify the position of the phosphoacceptor.\n",
      "Skipping mutation at position 7 (T → H): Central residue must be a phosphoacceptor (s/t/y). Otherwise, please identify the position of the phosphoacceptor.\n",
      "Skipping mutation at position 7 (T → I): Central residue must be a phosphoacceptor (s/t/y). Otherwise, please identify the position of the phosphoacceptor.\n",
      "Skipping mutation at position 7 (T → K): Central residue must be a phosphoacceptor (s/t/y). Otherwise, please identify the position of the phosphoacceptor.\n",
      "Skipping mutation at position 7 (T → L): Central residue must be a phosphoacceptor (s/t/y). Otherwise, please identify the position of the phosphoacceptor.\n",
      "Skipping mutation at position 7 (T → M): Central residue must be a phosphoacceptor (s/t/y). Otherwise, please identify the position of the phosphoacceptor.\n",
      "Skipping mutation at position 7 (T → N): Central residue must be a phosphoacceptor (s/t/y). Otherwise, please identify the position of the phosphoacceptor.\n",
      "Skipping mutation at position 7 (T → P): Central residue must be a phosphoacceptor (s/t/y). Otherwise, please identify the position of the phosphoacceptor.\n",
      "Skipping mutation at position 7 (T → Q): Central residue must be a phosphoacceptor (s/t/y). Otherwise, please identify the position of the phosphoacceptor.\n",
      "Skipping mutation at position 7 (T → R): Central residue must be a phosphoacceptor (s/t/y). Otherwise, please identify the position of the phosphoacceptor.\n",
      "Skipping mutation at position 7 (T → V): Central residue must be a phosphoacceptor (s/t/y). Otherwise, please identify the position of the phosphoacceptor.\n",
      "Skipping mutation at position 7 (T → W): Central residue must be a phosphoacceptor (s/t/y). Otherwise, please identify the position of the phosphoacceptor.\n"
     ]
    }
   ],
   "source": [
    "import kinase_library as kl\n",
    "import pandas as pd\n",
    "\n",
    "seq_of_interest = 'STIGVMVTASHNPEE'  \n",
    "amino_acids = \"ACDEFGHIKLMNPQRSTVWY\"\n",
    "mutated_sequences = []  \n",
    "wild_type_filename = f\"mutations2/wildtype2.csv\"\n",
    "\n",
    "\n",
    "# Predict kinase data for the wild-type sequence\n",
    "try:\n",
    "    wild_type_substrate = kl.Substrate(seq_of_interest)\n",
    "    wild_type_predictions = wild_type_substrate.predict()\n",
    "\n",
    "    # Save wild-type predictions to CSV\n",
    "    df_wild_type = pd.DataFrame(wild_type_predictions)\n",
    "    df_wild_type.to_csv(wild_type_filename, index=False)\n",
    "\n",
    "    print(f\"Wild-type sequence predictions saved to {wild_type_filename}\")\n",
    "\n",
    "except Exception as e:\n",
    "    print(f\"Error processing wild-type sequence: {e}\")\n",
    "\n",
    "for i, original_aa in enumerate(seq_of_interest):  \n",
    "    for new_aa in amino_acids:\n",
    "        if new_aa != original_aa:  \n",
    "                mutated_seq = seq_of_interest[:i] + new_aa + seq_of_interest[i+1:] \n",
    "                mutated_sequences.append((i, original_aa, new_aa, mutated_seq))  \n",
    "\n",
    "\n",
    "print(f\"Total mutations generated: {len(mutated_sequences)}\") \n",
    "\n",
    "for i, original_aa, new_aa, mutated_seq in mutated_sequences: \n",
    "    try:\n",
    "        s = kl.Substrate(mutated_seq)\n",
    "        predictions = s.predict()\n",
    "\n",
    "\n",
    "        df = pd.DataFrame(predictions)\n",
    "\n",
    "        # Save to CSV file with a structured name\n",
    "        filename = f\"mutations2/mutation_Pos{i}_{original_aa}_to_{new_aa}.csv\"\n",
    "        df.to_csv(filename, index=False)\n",
    "\n",
    "    except Exception as e:\n",
    "        print(f\"Skipping mutation at position {i} ({original_aa} → {new_aa}): {e}\")\n",
    "\n",
    "\n",
    "\n"
   ]
  },
  {
   "cell_type": "code",
   "execution_count": 64,
   "metadata": {},
   "outputs": [
    {
     "name": "stdout",
     "output_type": "stream",
     "text": [
      "Extracted kinase orders from 269 mutation CSVs.\n",
      "\n",
      "Normalized LCS Scores:\n",
      "                 Mutation_File  Normalized_LCS\n",
      "188   mutation_Pos4_V_to_W.csv        0.000000\n",
      "208   mutation_Pos5_M_to_Y.csv        0.006536\n",
      "203   mutation_Pos5_M_to_R.csv        0.006536\n",
      "215   mutation_Pos6_V_to_H.csv        0.009804\n",
      "49   mutation_Pos11_N_to_P.csv        0.009804\n",
      "..                         ...             ...\n",
      "104  mutation_Pos14_E_to_M.csv        1.000000\n",
      "105  mutation_Pos14_E_to_N.csv        1.000000\n",
      "106  mutation_Pos14_E_to_P.csv        1.000000\n",
      "97   mutation_Pos14_E_to_D.csv        1.000000\n",
      "268              wildtype2.csv        1.000000\n",
      "\n",
      "[269 rows x 2 columns]\n"
     ]
    }
   ],
   "source": [
    "import os\n",
    "import pandas as pd\n",
    "from difflib import SequenceMatcher\n",
    "\n",
    "\n",
    "mut_predictions = \"mutations2/\"\n",
    "\n",
    "wildtype_path = os.path.join(mut_predictions, \"wildtype2.csv\")\n",
    "\n",
    "df_wildtype = pd.read_csv(wildtype_path)\n",
    "\n",
    "wildtype_kinase_order = df_wildtype[\"Score Rank\"].tolist()  #extracts kinase orders from the reference sequence\n",
    "\n",
    "kinase_orders = {}\n",
    "\n",
    "#reads all files to extract the kinase orders (except wildtype as that's already been done)\n",
    "for file in os.listdir(mut_predictions):\n",
    "    if file.endswith(\".csv\") and file != \"wildtype.csv\":\n",
    "        file_path = os.path.join(mut_predictions, file)\n",
    "        try:\n",
    "            df = pd.read_csv(file_path)\n",
    "            \n",
    "            if \"Score Rank\" in df.columns:\n",
    "                kinase_orders[file] = df[\"Score Rank\"].tolist()  # Store kinase order\n",
    "            else:\n",
    "                print(f\"Skipping {file}: No 'Score Rank' column found.\") \n",
    "        \n",
    "        except Exception as e:\n",
    "            print(f\"Error reading {file}: {e}\")   #debugging steps\n",
    "\n",
    "print(f\"Extracted kinase orders from {len(kinase_orders)} mutation CSVs.\") \n",
    "\n",
    "# Function to compute Longest Common Subsequence (LCS)\n",
    "def longest_common_subsequence(seq1, seq2):\n",
    "    matcher = SequenceMatcher(None, seq1, seq2)\n",
    "    return sum(block.size for block in matcher.get_matching_blocks())\n",
    "\n",
    "#finds the LCS between wildtype and mut seqs\n",
    "lcs_scores = {}\n",
    "for file, order in kinase_orders.items():\n",
    "    lcs_length = longest_common_subsequence(order, wildtype_kinase_order)\n",
    "    lcs_scores[file] = lcs_length\n",
    "\n",
    "#normalizes LCS scores between 0 and 1\n",
    "if lcs_scores:\n",
    "    lcs_min = min(lcs_scores.values())\n",
    "    lcs_max = max(lcs_scores.values())\n",
    "\n",
    "    normalized_lcs = {file: (score - lcs_min) / (lcs_max - lcs_min) for file, score in lcs_scores.items()}\n",
    "\n",
    "   \n",
    "    df_lcs = pd.DataFrame(list(normalized_lcs.items()), columns=['Mutation_File', 'Normalized_LCS'])\n",
    "    \n",
    "    print(\"\\nNormalized LCS Scores:\")\n",
    "    print(df_lcs.sort_values(by=\"Normalized_LCS\", ascending=True))  # Sort by lowest LCS\n",
    "\n",
    "else:\n",
    "    print(\"No LCS scores calculated. Ensure kinase_orders contains data.\")\n"
   ]
  },
  {
   "cell_type": "code",
   "execution_count": 65,
   "metadata": {},
   "outputs": [
    {
     "data": {
      "application/vnd.plotly.v1+json": {
       "config": {
        "plotlyServerURL": "https://plot.ly"
       },
       "data": [
        {
         "coloraxis": "coloraxis",
         "hovertemplate": "Mutation Position: %{x}<br>Mutated Amino Acid: %{y}<br>LCS Ratio: %{z}<extra></extra>",
         "name": "0",
         "type": "heatmap",
         "x": {
          "bdata": "AAECAwQFBgcICQoLDA0O",
          "dtype": "i1"
         },
         "xaxis": "x",
         "y": [
          "A",
          "C",
          "D",
          "E",
          "F",
          "G",
          "H",
          "I",
          "K",
          "L",
          "M",
          "N",
          "P",
          "Q",
          "R",
          "S",
          "T",
          "V",
          "W",
          "Y"
         ],
         "yaxis": "y",
         "z": {
          "bdata": "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",
          "dtype": "f8",
          "shape": "20, 15"
         }
        }
       ],
       "layout": {
        "coloraxis": {
         "colorbar": {
          "ticktext": [
           "0.0",
           "0.25",
           "0.5",
           "0.75",
           "1.0"
          ],
          "tickvals": [
           0,
           0.25,
           0.5,
           0.75,
           1
          ],
          "title": {
           "text": "LCS Ratio"
          }
         },
         "colorscale": [
          [
           0,
           "rgb(0, 147, 146)"
          ],
          [
           0.16666666666666666,
           "rgb(57, 177, 133)"
          ],
          [
           0.3333333333333333,
           "rgb(156, 203, 134)"
          ],
          [
           0.5,
           "rgb(233, 226, 156)"
          ],
          [
           0.6666666666666666,
           "rgb(238, 180, 121)"
          ],
          [
           0.8333333333333334,
           "rgb(232, 132, 113)"
          ],
          [
           1,
           "rgb(207, 89, 126)"
          ]
         ]
        },
        "plot_bgcolor": "white",
        "template": {
         "data": {
          "bar": [
           {
            "error_x": {
             "color": "#2a3f5f"
            },
            "error_y": {
             "color": "#2a3f5f"
            },
            "marker": {
             "line": {
              "color": "#E5ECF6",
              "width": 0.5
             },
             "pattern": {
              "fillmode": "overlay",
              "size": 10,
              "solidity": 0.2
             }
            },
            "type": "bar"
           }
          ],
          "barpolar": [
           {
            "marker": {
             "line": {
              "color": "#E5ECF6",
              "width": 0.5
             },
             "pattern": {
              "fillmode": "overlay",
              "size": 10,
              "solidity": 0.2
             }
            },
            "type": "barpolar"
           }
          ],
          "carpet": [
           {
            "aaxis": {
             "endlinecolor": "#2a3f5f",
             "gridcolor": "white",
             "linecolor": "white",
             "minorgridcolor": "white",
             "startlinecolor": "#2a3f5f"
            },
            "baxis": {
             "endlinecolor": "#2a3f5f",
             "gridcolor": "white",
             "linecolor": "white",
             "minorgridcolor": "white",
             "startlinecolor": "#2a3f5f"
            },
            "type": "carpet"
           }
          ],
          "choropleth": [
           {
            "colorbar": {
             "outlinewidth": 0,
             "ticks": ""
            },
            "type": "choropleth"
           }
          ],
          "contour": [
           {
            "colorbar": {
             "outlinewidth": 0,
             "ticks": ""
            },
            "colorscale": [
             [
              0,
              "#0d0887"
             ],
             [
              0.1111111111111111,
              "#46039f"
             ],
             [
              0.2222222222222222,
              "#7201a8"
             ],
             [
              0.3333333333333333,
              "#9c179e"
             ],
             [
              0.4444444444444444,
              "#bd3786"
             ],
             [
              0.5555555555555556,
              "#d8576b"
             ],
             [
              0.6666666666666666,
              "#ed7953"
             ],
             [
              0.7777777777777778,
              "#fb9f3a"
             ],
             [
              0.8888888888888888,
              "#fdca26"
             ],
             [
              1,
              "#f0f921"
             ]
            ],
            "type": "contour"
           }
          ],
          "contourcarpet": [
           {
            "colorbar": {
             "outlinewidth": 0,
             "ticks": ""
            },
            "type": "contourcarpet"
           }
          ],
          "heatmap": [
           {
            "colorbar": {
             "outlinewidth": 0,
             "ticks": ""
            },
            "colorscale": [
             [
              0,
              "#0d0887"
             ],
             [
              0.1111111111111111,
              "#46039f"
             ],
             [
              0.2222222222222222,
              "#7201a8"
             ],
             [
              0.3333333333333333,
              "#9c179e"
             ],
             [
              0.4444444444444444,
              "#bd3786"
             ],
             [
              0.5555555555555556,
              "#d8576b"
             ],
             [
              0.6666666666666666,
              "#ed7953"
             ],
             [
              0.7777777777777778,
              "#fb9f3a"
             ],
             [
              0.8888888888888888,
              "#fdca26"
             ],
             [
              1,
              "#f0f921"
             ]
            ],
            "type": "heatmap"
           }
          ],
          "histogram": [
           {
            "marker": {
             "pattern": {
              "fillmode": "overlay",
              "size": 10,
              "solidity": 0.2
             }
            },
            "type": "histogram"
           }
          ],
          "histogram2d": [
           {
            "colorbar": {
             "outlinewidth": 0,
             "ticks": ""
            },
            "colorscale": [
             [
              0,
              "#0d0887"
             ],
             [
              0.1111111111111111,
              "#46039f"
             ],
             [
              0.2222222222222222,
              "#7201a8"
             ],
             [
              0.3333333333333333,
              "#9c179e"
             ],
             [
              0.4444444444444444,
              "#bd3786"
             ],
             [
              0.5555555555555556,
              "#d8576b"
             ],
             [
              0.6666666666666666,
              "#ed7953"
             ],
             [
              0.7777777777777778,
              "#fb9f3a"
             ],
             [
              0.8888888888888888,
              "#fdca26"
             ],
             [
              1,
              "#f0f921"
             ]
            ],
            "type": "histogram2d"
           }
          ],
          "histogram2dcontour": [
           {
            "colorbar": {
             "outlinewidth": 0,
             "ticks": ""
            },
            "colorscale": [
             [
              0,
              "#0d0887"
             ],
             [
              0.1111111111111111,
              "#46039f"
             ],
             [
              0.2222222222222222,
              "#7201a8"
             ],
             [
              0.3333333333333333,
              "#9c179e"
             ],
             [
              0.4444444444444444,
              "#bd3786"
             ],
             [
              0.5555555555555556,
              "#d8576b"
             ],
             [
              0.6666666666666666,
              "#ed7953"
             ],
             [
              0.7777777777777778,
              "#fb9f3a"
             ],
             [
              0.8888888888888888,
              "#fdca26"
             ],
             [
              1,
              "#f0f921"
             ]
            ],
            "type": "histogram2dcontour"
           }
          ],
          "mesh3d": [
           {
            "colorbar": {
             "outlinewidth": 0,
             "ticks": ""
            },
            "type": "mesh3d"
           }
          ],
          "parcoords": [
           {
            "line": {
             "colorbar": {
              "outlinewidth": 0,
              "ticks": ""
             }
            },
            "type": "parcoords"
           }
          ],
          "pie": [
           {
            "automargin": true,
            "type": "pie"
           }
          ],
          "scatter": [
           {
            "fillpattern": {
             "fillmode": "overlay",
             "size": 10,
             "solidity": 0.2
            },
            "type": "scatter"
           }
          ],
          "scatter3d": [
           {
            "line": {
             "colorbar": {
              "outlinewidth": 0,
              "ticks": ""
             }
            },
            "marker": {
             "colorbar": {
              "outlinewidth": 0,
              "ticks": ""
             }
            },
            "type": "scatter3d"
           }
          ],
          "scattercarpet": [
           {
            "marker": {
             "colorbar": {
              "outlinewidth": 0,
              "ticks": ""
             }
            },
            "type": "scattercarpet"
           }
          ],
          "scattergeo": [
           {
            "marker": {
             "colorbar": {
              "outlinewidth": 0,
              "ticks": ""
             }
            },
            "type": "scattergeo"
           }
          ],
          "scattergl": [
           {
            "marker": {
             "colorbar": {
              "outlinewidth": 0,
              "ticks": ""
             }
            },
            "type": "scattergl"
           }
          ],
          "scattermap": [
           {
            "marker": {
             "colorbar": {
              "outlinewidth": 0,
              "ticks": ""
             }
            },
            "type": "scattermap"
           }
          ],
          "scattermapbox": [
           {
            "marker": {
             "colorbar": {
              "outlinewidth": 0,
              "ticks": ""
             }
            },
            "type": "scattermapbox"
           }
          ],
          "scatterpolar": [
           {
            "marker": {
             "colorbar": {
              "outlinewidth": 0,
              "ticks": ""
             }
            },
            "type": "scatterpolar"
           }
          ],
          "scatterpolargl": [
           {
            "marker": {
             "colorbar": {
              "outlinewidth": 0,
              "ticks": ""
             }
            },
            "type": "scatterpolargl"
           }
          ],
          "scatterternary": [
           {
            "marker": {
             "colorbar": {
              "outlinewidth": 0,
              "ticks": ""
             }
            },
            "type": "scatterternary"
           }
          ],
          "surface": [
           {
            "colorbar": {
             "outlinewidth": 0,
             "ticks": ""
            },
            "colorscale": [
             [
              0,
              "#0d0887"
             ],
             [
              0.1111111111111111,
              "#46039f"
             ],
             [
              0.2222222222222222,
              "#7201a8"
             ],
             [
              0.3333333333333333,
              "#9c179e"
             ],
             [
              0.4444444444444444,
              "#bd3786"
             ],
             [
              0.5555555555555556,
              "#d8576b"
             ],
             [
              0.6666666666666666,
              "#ed7953"
             ],
             [
              0.7777777777777778,
              "#fb9f3a"
             ],
             [
              0.8888888888888888,
              "#fdca26"
             ],
             [
              1,
              "#f0f921"
             ]
            ],
            "type": "surface"
           }
          ],
          "table": [
           {
            "cells": {
             "fill": {
              "color": "#EBF0F8"
             },
             "line": {
              "color": "white"
             }
            },
            "header": {
             "fill": {
              "color": "#C8D4E3"
             },
             "line": {
              "color": "white"
             }
            },
            "type": "table"
           }
          ]
         },
         "layout": {
          "annotationdefaults": {
           "arrowcolor": "#2a3f5f",
           "arrowhead": 0,
           "arrowwidth": 1
          },
          "autotypenumbers": "strict",
          "coloraxis": {
           "colorbar": {
            "outlinewidth": 0,
            "ticks": ""
           }
          },
          "colorscale": {
           "diverging": [
            [
             0,
             "#8e0152"
            ],
            [
             0.1,
             "#c51b7d"
            ],
            [
             0.2,
             "#de77ae"
            ],
            [
             0.3,
             "#f1b6da"
            ],
            [
             0.4,
             "#fde0ef"
            ],
            [
             0.5,
             "#f7f7f7"
            ],
            [
             0.6,
             "#e6f5d0"
            ],
            [
             0.7,
             "#b8e186"
            ],
            [
             0.8,
             "#7fbc41"
            ],
            [
             0.9,
             "#4d9221"
            ],
            [
             1,
             "#276419"
            ]
           ],
           "sequential": [
            [
             0,
             "#0d0887"
            ],
            [
             0.1111111111111111,
             "#46039f"
            ],
            [
             0.2222222222222222,
             "#7201a8"
            ],
            [
             0.3333333333333333,
             "#9c179e"
            ],
            [
             0.4444444444444444,
             "#bd3786"
            ],
            [
             0.5555555555555556,
             "#d8576b"
            ],
            [
             0.6666666666666666,
             "#ed7953"
            ],
            [
             0.7777777777777778,
             "#fb9f3a"
            ],
            [
             0.8888888888888888,
             "#fdca26"
            ],
            [
             1,
             "#f0f921"
            ]
           ],
           "sequentialminus": [
            [
             0,
             "#0d0887"
            ],
            [
             0.1111111111111111,
             "#46039f"
            ],
            [
             0.2222222222222222,
             "#7201a8"
            ],
            [
             0.3333333333333333,
             "#9c179e"
            ],
            [
             0.4444444444444444,
             "#bd3786"
            ],
            [
             0.5555555555555556,
             "#d8576b"
            ],
            [
             0.6666666666666666,
             "#ed7953"
            ],
            [
             0.7777777777777778,
             "#fb9f3a"
            ],
            [
             0.8888888888888888,
             "#fdca26"
            ],
            [
             1,
             "#f0f921"
            ]
           ]
          },
          "colorway": [
           "#636efa",
           "#EF553B",
           "#00cc96",
           "#ab63fa",
           "#FFA15A",
           "#19d3f3",
           "#FF6692",
           "#B6E880",
           "#FF97FF",
           "#FECB52"
          ],
          "font": {
           "color": "#2a3f5f"
          },
          "geo": {
           "bgcolor": "white",
           "lakecolor": "white",
           "landcolor": "#E5ECF6",
           "showlakes": true,
           "showland": true,
           "subunitcolor": "white"
          },
          "hoverlabel": {
           "align": "left"
          },
          "hovermode": "closest",
          "mapbox": {
           "style": "light"
          },
          "paper_bgcolor": "white",
          "plot_bgcolor": "#E5ECF6",
          "polar": {
           "angularaxis": {
            "gridcolor": "white",
            "linecolor": "white",
            "ticks": ""
           },
           "bgcolor": "#E5ECF6",
           "radialaxis": {
            "gridcolor": "white",
            "linecolor": "white",
            "ticks": ""
           }
          },
          "scene": {
           "xaxis": {
            "backgroundcolor": "#E5ECF6",
            "gridcolor": "white",
            "gridwidth": 2,
            "linecolor": "white",
            "showbackground": true,
            "ticks": "",
            "zerolinecolor": "white"
           },
           "yaxis": {
            "backgroundcolor": "#E5ECF6",
            "gridcolor": "white",
            "gridwidth": 2,
            "linecolor": "white",
            "showbackground": true,
            "ticks": "",
            "zerolinecolor": "white"
           },
           "zaxis": {
            "backgroundcolor": "#E5ECF6",
            "gridcolor": "white",
            "gridwidth": 2,
            "linecolor": "white",
            "showbackground": true,
            "ticks": "",
            "zerolinecolor": "white"
           }
          },
          "shapedefaults": {
           "line": {
            "color": "#2a3f5f"
           }
          },
          "ternary": {
           "aaxis": {
            "gridcolor": "white",
            "linecolor": "white",
            "ticks": ""
           },
           "baxis": {
            "gridcolor": "white",
            "linecolor": "white",
            "ticks": ""
           },
           "bgcolor": "#E5ECF6",
           "caxis": {
            "gridcolor": "white",
            "linecolor": "white",
            "ticks": ""
           }
          },
          "title": {
           "x": 0.05
          },
          "xaxis": {
           "automargin": true,
           "gridcolor": "white",
           "linecolor": "white",
           "ticks": "",
           "title": {
            "standoff": 15
           },
           "zerolinecolor": "white",
           "zerolinewidth": 2
          },
          "yaxis": {
           "automargin": true,
           "gridcolor": "white",
           "linecolor": "white",
           "ticks": "",
           "title": {
            "standoff": 15
           },
           "zerolinecolor": "white",
           "zerolinewidth": 2
          }
         }
        },
        "title": {
         "text": "Heatmap of LCS Ratios for Each Mutation"
        },
        "xaxis": {
         "anchor": "y",
         "constrain": "domain",
         "domain": [
          0,
          1
         ],
         "dtick": 1,
         "scaleanchor": "y",
         "tickmode": "linear",
         "title": {
          "text": "Mutation Position"
         }
        },
        "yaxis": {
         "anchor": "x",
         "autorange": "reversed",
         "constrain": "domain",
         "domain": [
          0,
          1
         ],
         "dtick": 1,
         "tickmode": "linear",
         "title": {
          "text": "Mutated Amino Acid"
         }
        }
       }
      }
     },
     "metadata": {},
     "output_type": "display_data"
    }
   ],
   "source": [
    "import os\n",
    "import pandas as pd\n",
    "import re\n",
    "import plotly.express as px\n",
    "import numpy as np\n",
    "\n",
    "lcs_data = []\n",
    "\n",
    "for file, normalized_score in normalized_lcs.items():\n",
    "    \n",
    "    match = re.match(r\"mutation_Pos(\\d+)_\\w+_to_(\\w+)\\.csv\", file)\n",
    "\n",
    "    if match:\n",
    "        position = int(match.group(1)) \n",
    "        mutated_aa = match.group(2)  \n",
    "\n",
    "        lcs_data.append([position, mutated_aa, normalized_score])\n",
    "\n",
    "\n",
    "df_lcs = pd.DataFrame(lcs_data, columns=['Position', 'Mutation', 'LCS_Ratio'])\n",
    "\n",
    "\n",
    "heatmap_matrix = df_lcs.pivot_table(index='Mutation', columns='Position', values='LCS_Ratio')\n",
    "\n",
    "\n",
    "fig = px.imshow(\n",
    "    heatmap_matrix,\n",
    "    labels={'x': 'Mutation Position', 'y': 'Mutated Amino Acid', 'color': 'LCS Ratio'},\n",
    "    color_continuous_scale='Temps',\n",
    "    title=\"Heatmap of LCS Ratios for Each Mutation\",\n",
    ")\n",
    "\n",
    "# Format axes\n",
    "fig.update_layout(\n",
    "    xaxis=dict(\n",
    "        tickmode='linear',\n",
    "        dtick=1  # Show every position\n",
    "    ),\n",
    "    yaxis=dict(\n",
    "        tickmode='linear',\n",
    "        dtick=1  # Show every position\n",
    "    ),\n",
    "    coloraxis_colorbar=dict(\n",
    "        tickvals=[0, 0.25, 0.5, 0.75, 1],  # Set scale from 0 to 1\n",
    "        ticktext=[\"0.0\", \"0.25\", \"0.5\", \"0.75\", \"1.0\"]\n",
    "    ),\n",
    "    plot_bgcolor='white'  \n",
    ")\n",
    "fig.show()\n",
    "\n",
    "\n",
    "\n",
    "\n"
   ]
  },
  {
   "cell_type": "code",
   "execution_count": null,
   "metadata": {},
   "outputs": [],
   "source": [
    "'Fully working function with User Prompts to synthesise a heatmap from a given UniProt ID and reference position'"
   ]
  },
  {
   "cell_type": "code",
   "execution_count": 68,
   "metadata": {},
   "outputs": [
    {
     "name": "stdout",
     "output_type": "stream",
     "text": [
      "Searching for UniProt ID: O95394-1\n",
      "Extracted Sequence: STIGVMVTASHNPEE\n",
      "Mutated sequences (# sequences = 285)\n",
      "[(0, 'S', 'A', 'ATIGVMVTASHNPEE'), (0, 'S', 'C', 'CTIGVMVTASHNPEE'), (0, 'S', 'D', 'DTIGVMVTASHNPEE'), (0, 'S', 'E', 'ETIGVMVTASHNPEE'), (0, 'S', 'F', 'FTIGVMVTASHNPEE'), (0, 'S', 'G', 'GTIGVMVTASHNPEE'), (0, 'S', 'H', 'HTIGVMVTASHNPEE'), (0, 'S', 'I', 'ITIGVMVTASHNPEE'), (0, 'S', 'K', 'KTIGVMVTASHNPEE'), (0, 'S', 'L', 'LTIGVMVTASHNPEE'), (0, 'S', 'M', 'MTIGVMVTASHNPEE'), (0, 'S', 'N', 'NTIGVMVTASHNPEE'), (0, 'S', 'P', 'PTIGVMVTASHNPEE'), (0, 'S', 'Q', 'QTIGVMVTASHNPEE'), (0, 'S', 'R', 'RTIGVMVTASHNPEE'), (0, 'S', 'T', 'TTIGVMVTASHNPEE'), (0, 'S', 'V', 'VTIGVMVTASHNPEE'), (0, 'S', 'W', 'WTIGVMVTASHNPEE'), (0, 'S', 'Y', 'YTIGVMVTASHNPEE'), (1, 'T', 'A', 'SAIGVMVTASHNPEE'), (1, 'T', 'C', 'SCIGVMVTASHNPEE'), (1, 'T', 'D', 'SDIGVMVTASHNPEE'), (1, 'T', 'E', 'SEIGVMVTASHNPEE'), (1, 'T', 'F', 'SFIGVMVTASHNPEE'), (1, 'T', 'G', 'SGIGVMVTASHNPEE'), (1, 'T', 'H', 'SHIGVMVTASHNPEE'), (1, 'T', 'I', 'SIIGVMVTASHNPEE'), (1, 'T', 'K', 'SKIGVMVTASHNPEE'), (1, 'T', 'L', 'SLIGVMVTASHNPEE'), (1, 'T', 'M', 'SMIGVMVTASHNPEE'), (1, 'T', 'N', 'SNIGVMVTASHNPEE'), (1, 'T', 'P', 'SPIGVMVTASHNPEE'), (1, 'T', 'Q', 'SQIGVMVTASHNPEE'), (1, 'T', 'R', 'SRIGVMVTASHNPEE'), (1, 'T', 'S', 'SSIGVMVTASHNPEE'), (1, 'T', 'V', 'SVIGVMVTASHNPEE'), (1, 'T', 'W', 'SWIGVMVTASHNPEE'), (1, 'T', 'Y', 'SYIGVMVTASHNPEE'), (2, 'I', 'A', 'STAGVMVTASHNPEE'), (2, 'I', 'C', 'STCGVMVTASHNPEE'), (2, 'I', 'D', 'STDGVMVTASHNPEE'), (2, 'I', 'E', 'STEGVMVTASHNPEE'), (2, 'I', 'F', 'STFGVMVTASHNPEE'), (2, 'I', 'G', 'STGGVMVTASHNPEE'), (2, 'I', 'H', 'STHGVMVTASHNPEE'), (2, 'I', 'K', 'STKGVMVTASHNPEE'), (2, 'I', 'L', 'STLGVMVTASHNPEE'), (2, 'I', 'M', 'STMGVMVTASHNPEE'), (2, 'I', 'N', 'STNGVMVTASHNPEE'), (2, 'I', 'P', 'STPGVMVTASHNPEE'), (2, 'I', 'Q', 'STQGVMVTASHNPEE'), (2, 'I', 'R', 'STRGVMVTASHNPEE'), (2, 'I', 'S', 'STSGVMVTASHNPEE'), (2, 'I', 'T', 'STTGVMVTASHNPEE'), (2, 'I', 'V', 'STVGVMVTASHNPEE'), (2, 'I', 'W', 'STWGVMVTASHNPEE'), (2, 'I', 'Y', 'STYGVMVTASHNPEE'), (3, 'G', 'A', 'STIAVMVTASHNPEE'), (3, 'G', 'C', 'STICVMVTASHNPEE'), (3, 'G', 'D', 'STIDVMVTASHNPEE'), (3, 'G', 'E', 'STIEVMVTASHNPEE'), (3, 'G', 'F', 'STIFVMVTASHNPEE'), (3, 'G', 'H', 'STIHVMVTASHNPEE'), (3, 'G', 'I', 'STIIVMVTASHNPEE'), (3, 'G', 'K', 'STIKVMVTASHNPEE'), (3, 'G', 'L', 'STILVMVTASHNPEE'), (3, 'G', 'M', 'STIMVMVTASHNPEE'), (3, 'G', 'N', 'STINVMVTASHNPEE'), (3, 'G', 'P', 'STIPVMVTASHNPEE'), (3, 'G', 'Q', 'STIQVMVTASHNPEE'), (3, 'G', 'R', 'STIRVMVTASHNPEE'), (3, 'G', 'S', 'STISVMVTASHNPEE'), (3, 'G', 'T', 'STITVMVTASHNPEE'), (3, 'G', 'V', 'STIVVMVTASHNPEE'), (3, 'G', 'W', 'STIWVMVTASHNPEE'), (3, 'G', 'Y', 'STIYVMVTASHNPEE'), (4, 'V', 'A', 'STIGAMVTASHNPEE'), (4, 'V', 'C', 'STIGCMVTASHNPEE'), (4, 'V', 'D', 'STIGDMVTASHNPEE'), (4, 'V', 'E', 'STIGEMVTASHNPEE'), (4, 'V', 'F', 'STIGFMVTASHNPEE'), (4, 'V', 'G', 'STIGGMVTASHNPEE'), (4, 'V', 'H', 'STIGHMVTASHNPEE'), (4, 'V', 'I', 'STIGIMVTASHNPEE'), (4, 'V', 'K', 'STIGKMVTASHNPEE'), (4, 'V', 'L', 'STIGLMVTASHNPEE'), (4, 'V', 'M', 'STIGMMVTASHNPEE'), (4, 'V', 'N', 'STIGNMVTASHNPEE'), (4, 'V', 'P', 'STIGPMVTASHNPEE'), (4, 'V', 'Q', 'STIGQMVTASHNPEE'), (4, 'V', 'R', 'STIGRMVTASHNPEE'), (4, 'V', 'S', 'STIGSMVTASHNPEE'), (4, 'V', 'T', 'STIGTMVTASHNPEE'), (4, 'V', 'W', 'STIGWMVTASHNPEE'), (4, 'V', 'Y', 'STIGYMVTASHNPEE'), (5, 'M', 'A', 'STIGVAVTASHNPEE'), (5, 'M', 'C', 'STIGVCVTASHNPEE'), (5, 'M', 'D', 'STIGVDVTASHNPEE'), (5, 'M', 'E', 'STIGVEVTASHNPEE'), (5, 'M', 'F', 'STIGVFVTASHNPEE'), (5, 'M', 'G', 'STIGVGVTASHNPEE'), (5, 'M', 'H', 'STIGVHVTASHNPEE'), (5, 'M', 'I', 'STIGVIVTASHNPEE'), (5, 'M', 'K', 'STIGVKVTASHNPEE'), (5, 'M', 'L', 'STIGVLVTASHNPEE'), (5, 'M', 'N', 'STIGVNVTASHNPEE'), (5, 'M', 'P', 'STIGVPVTASHNPEE'), (5, 'M', 'Q', 'STIGVQVTASHNPEE'), (5, 'M', 'R', 'STIGVRVTASHNPEE'), (5, 'M', 'S', 'STIGVSVTASHNPEE'), (5, 'M', 'T', 'STIGVTVTASHNPEE'), (5, 'M', 'V', 'STIGVVVTASHNPEE'), (5, 'M', 'W', 'STIGVWVTASHNPEE'), (5, 'M', 'Y', 'STIGVYVTASHNPEE'), (6, 'V', 'A', 'STIGVMATASHNPEE'), (6, 'V', 'C', 'STIGVMCTASHNPEE'), (6, 'V', 'D', 'STIGVMDTASHNPEE'), (6, 'V', 'E', 'STIGVMETASHNPEE'), (6, 'V', 'F', 'STIGVMFTASHNPEE'), (6, 'V', 'G', 'STIGVMGTASHNPEE'), (6, 'V', 'H', 'STIGVMHTASHNPEE'), (6, 'V', 'I', 'STIGVMITASHNPEE'), (6, 'V', 'K', 'STIGVMKTASHNPEE'), (6, 'V', 'L', 'STIGVMLTASHNPEE'), (6, 'V', 'M', 'STIGVMMTASHNPEE'), (6, 'V', 'N', 'STIGVMNTASHNPEE'), (6, 'V', 'P', 'STIGVMPTASHNPEE'), (6, 'V', 'Q', 'STIGVMQTASHNPEE'), (6, 'V', 'R', 'STIGVMRTASHNPEE'), (6, 'V', 'S', 'STIGVMSTASHNPEE'), (6, 'V', 'T', 'STIGVMTTASHNPEE'), (6, 'V', 'W', 'STIGVMWTASHNPEE'), (6, 'V', 'Y', 'STIGVMYTASHNPEE'), (7, 'T', 'A', 'STIGVMVAASHNPEE'), (7, 'T', 'C', 'STIGVMVCASHNPEE'), (7, 'T', 'D', 'STIGVMVDASHNPEE'), (7, 'T', 'E', 'STIGVMVEASHNPEE'), (7, 'T', 'F', 'STIGVMVFASHNPEE'), (7, 'T', 'G', 'STIGVMVGASHNPEE'), (7, 'T', 'H', 'STIGVMVHASHNPEE'), (7, 'T', 'I', 'STIGVMVIASHNPEE'), (7, 'T', 'K', 'STIGVMVKASHNPEE'), (7, 'T', 'L', 'STIGVMVLASHNPEE'), (7, 'T', 'M', 'STIGVMVMASHNPEE'), (7, 'T', 'N', 'STIGVMVNASHNPEE'), (7, 'T', 'P', 'STIGVMVPASHNPEE'), (7, 'T', 'Q', 'STIGVMVQASHNPEE'), (7, 'T', 'R', 'STIGVMVRASHNPEE'), (7, 'T', 'S', 'STIGVMVSASHNPEE'), (7, 'T', 'V', 'STIGVMVVASHNPEE'), (7, 'T', 'W', 'STIGVMVWASHNPEE'), (7, 'T', 'Y', 'STIGVMVYASHNPEE'), (8, 'A', 'C', 'STIGVMVTCSHNPEE'), (8, 'A', 'D', 'STIGVMVTDSHNPEE'), (8, 'A', 'E', 'STIGVMVTESHNPEE'), (8, 'A', 'F', 'STIGVMVTFSHNPEE'), (8, 'A', 'G', 'STIGVMVTGSHNPEE'), (8, 'A', 'H', 'STIGVMVTHSHNPEE'), (8, 'A', 'I', 'STIGVMVTISHNPEE'), (8, 'A', 'K', 'STIGVMVTKSHNPEE'), (8, 'A', 'L', 'STIGVMVTLSHNPEE'), (8, 'A', 'M', 'STIGVMVTMSHNPEE'), (8, 'A', 'N', 'STIGVMVTNSHNPEE'), (8, 'A', 'P', 'STIGVMVTPSHNPEE'), (8, 'A', 'Q', 'STIGVMVTQSHNPEE'), (8, 'A', 'R', 'STIGVMVTRSHNPEE'), (8, 'A', 'S', 'STIGVMVTSSHNPEE'), (8, 'A', 'T', 'STIGVMVTTSHNPEE'), (8, 'A', 'V', 'STIGVMVTVSHNPEE'), (8, 'A', 'W', 'STIGVMVTWSHNPEE'), (8, 'A', 'Y', 'STIGVMVTYSHNPEE'), (9, 'S', 'A', 'STIGVMVTAAHNPEE'), (9, 'S', 'C', 'STIGVMVTACHNPEE'), (9, 'S', 'D', 'STIGVMVTADHNPEE'), (9, 'S', 'E', 'STIGVMVTAEHNPEE'), (9, 'S', 'F', 'STIGVMVTAFHNPEE'), (9, 'S', 'G', 'STIGVMVTAGHNPEE'), (9, 'S', 'H', 'STIGVMVTAHHNPEE'), (9, 'S', 'I', 'STIGVMVTAIHNPEE'), (9, 'S', 'K', 'STIGVMVTAKHNPEE'), (9, 'S', 'L', 'STIGVMVTALHNPEE'), (9, 'S', 'M', 'STIGVMVTAMHNPEE'), (9, 'S', 'N', 'STIGVMVTANHNPEE'), (9, 'S', 'P', 'STIGVMVTAPHNPEE'), (9, 'S', 'Q', 'STIGVMVTAQHNPEE'), (9, 'S', 'R', 'STIGVMVTARHNPEE'), (9, 'S', 'T', 'STIGVMVTATHNPEE'), (9, 'S', 'V', 'STIGVMVTAVHNPEE'), (9, 'S', 'W', 'STIGVMVTAWHNPEE'), (9, 'S', 'Y', 'STIGVMVTAYHNPEE'), (10, 'H', 'A', 'STIGVMVTASANPEE'), (10, 'H', 'C', 'STIGVMVTASCNPEE'), (10, 'H', 'D', 'STIGVMVTASDNPEE'), (10, 'H', 'E', 'STIGVMVTASENPEE'), (10, 'H', 'F', 'STIGVMVTASFNPEE'), (10, 'H', 'G', 'STIGVMVTASGNPEE'), (10, 'H', 'I', 'STIGVMVTASINPEE'), (10, 'H', 'K', 'STIGVMVTASKNPEE'), (10, 'H', 'L', 'STIGVMVTASLNPEE'), (10, 'H', 'M', 'STIGVMVTASMNPEE'), (10, 'H', 'N', 'STIGVMVTASNNPEE'), (10, 'H', 'P', 'STIGVMVTASPNPEE'), (10, 'H', 'Q', 'STIGVMVTASQNPEE'), (10, 'H', 'R', 'STIGVMVTASRNPEE'), (10, 'H', 'S', 'STIGVMVTASSNPEE'), (10, 'H', 'T', 'STIGVMVTASTNPEE'), (10, 'H', 'V', 'STIGVMVTASVNPEE'), (10, 'H', 'W', 'STIGVMVTASWNPEE'), (10, 'H', 'Y', 'STIGVMVTASYNPEE'), (11, 'N', 'A', 'STIGVMVTASHAPEE'), (11, 'N', 'C', 'STIGVMVTASHCPEE'), (11, 'N', 'D', 'STIGVMVTASHDPEE'), (11, 'N', 'E', 'STIGVMVTASHEPEE'), (11, 'N', 'F', 'STIGVMVTASHFPEE'), (11, 'N', 'G', 'STIGVMVTASHGPEE'), (11, 'N', 'H', 'STIGVMVTASHHPEE'), (11, 'N', 'I', 'STIGVMVTASHIPEE'), (11, 'N', 'K', 'STIGVMVTASHKPEE'), (11, 'N', 'L', 'STIGVMVTASHLPEE'), (11, 'N', 'M', 'STIGVMVTASHMPEE'), (11, 'N', 'P', 'STIGVMVTASHPPEE'), (11, 'N', 'Q', 'STIGVMVTASHQPEE'), (11, 'N', 'R', 'STIGVMVTASHRPEE'), (11, 'N', 'S', 'STIGVMVTASHSPEE'), (11, 'N', 'T', 'STIGVMVTASHTPEE'), (11, 'N', 'V', 'STIGVMVTASHVPEE'), (11, 'N', 'W', 'STIGVMVTASHWPEE'), (11, 'N', 'Y', 'STIGVMVTASHYPEE'), (12, 'P', 'A', 'STIGVMVTASHNAEE'), (12, 'P', 'C', 'STIGVMVTASHNCEE'), (12, 'P', 'D', 'STIGVMVTASHNDEE'), (12, 'P', 'E', 'STIGVMVTASHNEEE'), (12, 'P', 'F', 'STIGVMVTASHNFEE'), (12, 'P', 'G', 'STIGVMVTASHNGEE'), (12, 'P', 'H', 'STIGVMVTASHNHEE'), (12, 'P', 'I', 'STIGVMVTASHNIEE'), (12, 'P', 'K', 'STIGVMVTASHNKEE'), (12, 'P', 'L', 'STIGVMVTASHNLEE'), (12, 'P', 'M', 'STIGVMVTASHNMEE'), (12, 'P', 'N', 'STIGVMVTASHNNEE'), (12, 'P', 'Q', 'STIGVMVTASHNQEE'), (12, 'P', 'R', 'STIGVMVTASHNREE'), (12, 'P', 'S', 'STIGVMVTASHNSEE'), (12, 'P', 'T', 'STIGVMVTASHNTEE'), (12, 'P', 'V', 'STIGVMVTASHNVEE'), (12, 'P', 'W', 'STIGVMVTASHNWEE'), (12, 'P', 'Y', 'STIGVMVTASHNYEE'), (13, 'E', 'A', 'STIGVMVTASHNPAE'), (13, 'E', 'C', 'STIGVMVTASHNPCE'), (13, 'E', 'D', 'STIGVMVTASHNPDE'), (13, 'E', 'F', 'STIGVMVTASHNPFE'), (13, 'E', 'G', 'STIGVMVTASHNPGE'), (13, 'E', 'H', 'STIGVMVTASHNPHE'), (13, 'E', 'I', 'STIGVMVTASHNPIE'), (13, 'E', 'K', 'STIGVMVTASHNPKE'), (13, 'E', 'L', 'STIGVMVTASHNPLE'), (13, 'E', 'M', 'STIGVMVTASHNPME'), (13, 'E', 'N', 'STIGVMVTASHNPNE'), (13, 'E', 'P', 'STIGVMVTASHNPPE'), (13, 'E', 'Q', 'STIGVMVTASHNPQE'), (13, 'E', 'R', 'STIGVMVTASHNPRE'), (13, 'E', 'S', 'STIGVMVTASHNPSE'), (13, 'E', 'T', 'STIGVMVTASHNPTE'), (13, 'E', 'V', 'STIGVMVTASHNPVE'), (13, 'E', 'W', 'STIGVMVTASHNPWE'), (13, 'E', 'Y', 'STIGVMVTASHNPYE'), (14, 'E', 'A', 'STIGVMVTASHNPEA'), (14, 'E', 'C', 'STIGVMVTASHNPEC'), (14, 'E', 'D', 'STIGVMVTASHNPED'), (14, 'E', 'F', 'STIGVMVTASHNPEF'), (14, 'E', 'G', 'STIGVMVTASHNPEG'), (14, 'E', 'H', 'STIGVMVTASHNPEH'), (14, 'E', 'I', 'STIGVMVTASHNPEI'), (14, 'E', 'K', 'STIGVMVTASHNPEK'), (14, 'E', 'L', 'STIGVMVTASHNPEL'), (14, 'E', 'M', 'STIGVMVTASHNPEM'), (14, 'E', 'N', 'STIGVMVTASHNPEN'), (14, 'E', 'P', 'STIGVMVTASHNPEP'), (14, 'E', 'Q', 'STIGVMVTASHNPEQ'), (14, 'E', 'R', 'STIGVMVTASHNPER'), (14, 'E', 'S', 'STIGVMVTASHNPES'), (14, 'E', 'T', 'STIGVMVTASHNPET'), (14, 'E', 'V', 'STIGVMVTASHNPEV'), (14, 'E', 'W', 'STIGVMVTASHNPEW'), (14, 'E', 'Y', 'STIGVMVTASHNPEY')]\n",
      "Wild-type sequence predictions saved to mutations2/wildtype2.csv\n",
      "Skipping mutation at position 8 (T → A): Central residue must be a phosphoacceptor (s/t/y). Otherwise, please identify the position of the phosphoacceptor.\n",
      "Skipping mutation at position 8 (T → C): Central residue must be a phosphoacceptor (s/t/y). Otherwise, please identify the position of the phosphoacceptor.\n",
      "Skipping mutation at position 8 (T → D): Central residue must be a phosphoacceptor (s/t/y). Otherwise, please identify the position of the phosphoacceptor.\n",
      "Skipping mutation at position 8 (T → E): Central residue must be a phosphoacceptor (s/t/y). Otherwise, please identify the position of the phosphoacceptor.\n",
      "Skipping mutation at position 8 (T → F): Central residue must be a phosphoacceptor (s/t/y). Otherwise, please identify the position of the phosphoacceptor.\n",
      "Skipping mutation at position 8 (T → G): Central residue must be a phosphoacceptor (s/t/y). Otherwise, please identify the position of the phosphoacceptor.\n",
      "Skipping mutation at position 8 (T → H): Central residue must be a phosphoacceptor (s/t/y). Otherwise, please identify the position of the phosphoacceptor.\n",
      "Skipping mutation at position 8 (T → I): Central residue must be a phosphoacceptor (s/t/y). Otherwise, please identify the position of the phosphoacceptor.\n",
      "Skipping mutation at position 8 (T → K): Central residue must be a phosphoacceptor (s/t/y). Otherwise, please identify the position of the phosphoacceptor.\n",
      "Skipping mutation at position 8 (T → L): Central residue must be a phosphoacceptor (s/t/y). Otherwise, please identify the position of the phosphoacceptor.\n",
      "Skipping mutation at position 8 (T → M): Central residue must be a phosphoacceptor (s/t/y). Otherwise, please identify the position of the phosphoacceptor.\n",
      "Skipping mutation at position 8 (T → N): Central residue must be a phosphoacceptor (s/t/y). Otherwise, please identify the position of the phosphoacceptor.\n",
      "Skipping mutation at position 8 (T → P): Central residue must be a phosphoacceptor (s/t/y). Otherwise, please identify the position of the phosphoacceptor.\n",
      "Skipping mutation at position 8 (T → Q): Central residue must be a phosphoacceptor (s/t/y). Otherwise, please identify the position of the phosphoacceptor.\n",
      "Skipping mutation at position 8 (T → R): Central residue must be a phosphoacceptor (s/t/y). Otherwise, please identify the position of the phosphoacceptor.\n",
      "Skipping mutation at position 8 (T → V): Central residue must be a phosphoacceptor (s/t/y). Otherwise, please identify the position of the phosphoacceptor.\n",
      "Skipping mutation at position 8 (T → W): Central residue must be a phosphoacceptor (s/t/y). Otherwise, please identify the position of the phosphoacceptor.\n",
      "Extracted kinase orders from 536 mutation CSVs.\n",
      "\n",
      "Normalized LCS Scores:\n",
      "                Mutation_File  Normalized_LCS\n",
      "431  mutation_Pos5_V_to_W.csv        0.000000\n",
      "511        mutation_Pos94.csv        0.000000\n",
      "457  mutation_Pos6_M_to_R.csv        0.006536\n",
      "462  mutation_Pos6_M_to_Y.csv        0.006536\n",
      "11        mutation_Pos109.csv        0.006536\n",
      "..                        ...             ...\n",
      "286       mutation_Pos252.csv        1.000000\n",
      "285       mutation_Pos251.csv        1.000000\n",
      "284       mutation_Pos250.csv        1.000000\n",
      "293       mutation_Pos259.csv        1.000000\n",
      "267       mutation_Pos235.csv        1.000000\n",
      "\n",
      "[536 rows x 2 columns]\n"
     ]
    },
    {
     "name": "stderr",
     "output_type": "stream",
     "text": [
      "C:\\Users\\ricea\\AppData\\Local\\Temp\\ipykernel_9456\\2680852591.py:186: FutureWarning:\n",
      "\n",
      "The provided callable <function mean at 0x00000266619802C0> is currently using DataFrameGroupBy.mean. In a future version of pandas, the provided callable will be used directly. To keep current behavior pass the string \"mean\" instead.\n",
      "\n"
     ]
    },
    {
     "data": {
      "application/vnd.plotly.v1+json": {
       "config": {
        "plotlyServerURL": "https://plot.ly"
       },
       "data": [
        {
         "coloraxis": "coloraxis",
         "hovertemplate": "Mutation Position: %{x}<br>Mutated Amino Acid: %{y}<br>LCS Ratio: %{z}<extra></extra>",
         "name": "0",
         "type": "heatmap",
         "x": {
          "bdata": "AQIDBAUGBwgJCgsMDQ4P",
          "dtype": "i1"
         },
         "xaxis": "x",
         "y": [
          "A",
          "C",
          "D",
          "E",
          "F",
          "G",
          "H",
          "I",
          "K",
          "L",
          "M",
          "N",
          "P",
          "Q",
          "R",
          "S",
          "T",
          "V",
          "W",
          "Y"
         ],
         "yaxis": "y",
         "z": {
          "bdata": "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",
          "dtype": "f8",
          "shape": "20, 15"
         }
        }
       ],
       "layout": {
        "coloraxis": {
         "colorbar": {
          "ticktext": [
           "0.0",
           "0.25",
           "0.5",
           "0.75",
           "1.0"
          ],
          "tickvals": [
           0,
           0.25,
           0.5,
           0.75,
           1
          ],
          "title": {
           "text": "LCS Ratio"
          }
         },
         "colorscale": [
          [
           0,
           "rgb(0, 147, 146)"
          ],
          [
           0.16666666666666666,
           "rgb(57, 177, 133)"
          ],
          [
           0.3333333333333333,
           "rgb(156, 203, 134)"
          ],
          [
           0.5,
           "rgb(233, 226, 156)"
          ],
          [
           0.6666666666666666,
           "rgb(238, 180, 121)"
          ],
          [
           0.8333333333333334,
           "rgb(232, 132, 113)"
          ],
          [
           1,
           "rgb(207, 89, 126)"
          ]
         ]
        },
        "plot_bgcolor": "white",
        "template": {
         "data": {
          "bar": [
           {
            "error_x": {
             "color": "#2a3f5f"
            },
            "error_y": {
             "color": "#2a3f5f"
            },
            "marker": {
             "line": {
              "color": "#E5ECF6",
              "width": 0.5
             },
             "pattern": {
              "fillmode": "overlay",
              "size": 10,
              "solidity": 0.2
             }
            },
            "type": "bar"
           }
          ],
          "barpolar": [
           {
            "marker": {
             "line": {
              "color": "#E5ECF6",
              "width": 0.5
             },
             "pattern": {
              "fillmode": "overlay",
              "size": 10,
              "solidity": 0.2
             }
            },
            "type": "barpolar"
           }
          ],
          "carpet": [
           {
            "aaxis": {
             "endlinecolor": "#2a3f5f",
             "gridcolor": "white",
             "linecolor": "white",
             "minorgridcolor": "white",
             "startlinecolor": "#2a3f5f"
            },
            "baxis": {
             "endlinecolor": "#2a3f5f",
             "gridcolor": "white",
             "linecolor": "white",
             "minorgridcolor": "white",
             "startlinecolor": "#2a3f5f"
            },
            "type": "carpet"
           }
          ],
          "choropleth": [
           {
            "colorbar": {
             "outlinewidth": 0,
             "ticks": ""
            },
            "type": "choropleth"
           }
          ],
          "contour": [
           {
            "colorbar": {
             "outlinewidth": 0,
             "ticks": ""
            },
            "colorscale": [
             [
              0,
              "#0d0887"
             ],
             [
              0.1111111111111111,
              "#46039f"
             ],
             [
              0.2222222222222222,
              "#7201a8"
             ],
             [
              0.3333333333333333,
              "#9c179e"
             ],
             [
              0.4444444444444444,
              "#bd3786"
             ],
             [
              0.5555555555555556,
              "#d8576b"
             ],
             [
              0.6666666666666666,
              "#ed7953"
             ],
             [
              0.7777777777777778,
              "#fb9f3a"
             ],
             [
              0.8888888888888888,
              "#fdca26"
             ],
             [
              1,
              "#f0f921"
             ]
            ],
            "type": "contour"
           }
          ],
          "contourcarpet": [
           {
            "colorbar": {
             "outlinewidth": 0,
             "ticks": ""
            },
            "type": "contourcarpet"
           }
          ],
          "heatmap": [
           {
            "colorbar": {
             "outlinewidth": 0,
             "ticks": ""
            },
            "colorscale": [
             [
              0,
              "#0d0887"
             ],
             [
              0.1111111111111111,
              "#46039f"
             ],
             [
              0.2222222222222222,
              "#7201a8"
             ],
             [
              0.3333333333333333,
              "#9c179e"
             ],
             [
              0.4444444444444444,
              "#bd3786"
             ],
             [
              0.5555555555555556,
              "#d8576b"
             ],
             [
              0.6666666666666666,
              "#ed7953"
             ],
             [
              0.7777777777777778,
              "#fb9f3a"
             ],
             [
              0.8888888888888888,
              "#fdca26"
             ],
             [
              1,
              "#f0f921"
             ]
            ],
            "type": "heatmap"
           }
          ],
          "histogram": [
           {
            "marker": {
             "pattern": {
              "fillmode": "overlay",
              "size": 10,
              "solidity": 0.2
             }
            },
            "type": "histogram"
           }
          ],
          "histogram2d": [
           {
            "colorbar": {
             "outlinewidth": 0,
             "ticks": ""
            },
            "colorscale": [
             [
              0,
              "#0d0887"
             ],
             [
              0.1111111111111111,
              "#46039f"
             ],
             [
              0.2222222222222222,
              "#7201a8"
             ],
             [
              0.3333333333333333,
              "#9c179e"
             ],
             [
              0.4444444444444444,
              "#bd3786"
             ],
             [
              0.5555555555555556,
              "#d8576b"
             ],
             [
              0.6666666666666666,
              "#ed7953"
             ],
             [
              0.7777777777777778,
              "#fb9f3a"
             ],
             [
              0.8888888888888888,
              "#fdca26"
             ],
             [
              1,
              "#f0f921"
             ]
            ],
            "type": "histogram2d"
           }
          ],
          "histogram2dcontour": [
           {
            "colorbar": {
             "outlinewidth": 0,
             "ticks": ""
            },
            "colorscale": [
             [
              0,
              "#0d0887"
             ],
             [
              0.1111111111111111,
              "#46039f"
             ],
             [
              0.2222222222222222,
              "#7201a8"
             ],
             [
              0.3333333333333333,
              "#9c179e"
             ],
             [
              0.4444444444444444,
              "#bd3786"
             ],
             [
              0.5555555555555556,
              "#d8576b"
             ],
             [
              0.6666666666666666,
              "#ed7953"
             ],
             [
              0.7777777777777778,
              "#fb9f3a"
             ],
             [
              0.8888888888888888,
              "#fdca26"
             ],
             [
              1,
              "#f0f921"
             ]
            ],
            "type": "histogram2dcontour"
           }
          ],
          "mesh3d": [
           {
            "colorbar": {
             "outlinewidth": 0,
             "ticks": ""
            },
            "type": "mesh3d"
           }
          ],
          "parcoords": [
           {
            "line": {
             "colorbar": {
              "outlinewidth": 0,
              "ticks": ""
             }
            },
            "type": "parcoords"
           }
          ],
          "pie": [
           {
            "automargin": true,
            "type": "pie"
           }
          ],
          "scatter": [
           {
            "fillpattern": {
             "fillmode": "overlay",
             "size": 10,
             "solidity": 0.2
            },
            "type": "scatter"
           }
          ],
          "scatter3d": [
           {
            "line": {
             "colorbar": {
              "outlinewidth": 0,
              "ticks": ""
             }
            },
            "marker": {
             "colorbar": {
              "outlinewidth": 0,
              "ticks": ""
             }
            },
            "type": "scatter3d"
           }
          ],
          "scattercarpet": [
           {
            "marker": {
             "colorbar": {
              "outlinewidth": 0,
              "ticks": ""
             }
            },
            "type": "scattercarpet"
           }
          ],
          "scattergeo": [
           {
            "marker": {
             "colorbar": {
              "outlinewidth": 0,
              "ticks": ""
             }
            },
            "type": "scattergeo"
           }
          ],
          "scattergl": [
           {
            "marker": {
             "colorbar": {
              "outlinewidth": 0,
              "ticks": ""
             }
            },
            "type": "scattergl"
           }
          ],
          "scattermap": [
           {
            "marker": {
             "colorbar": {
              "outlinewidth": 0,
              "ticks": ""
             }
            },
            "type": "scattermap"
           }
          ],
          "scattermapbox": [
           {
            "marker": {
             "colorbar": {
              "outlinewidth": 0,
              "ticks": ""
             }
            },
            "type": "scattermapbox"
           }
          ],
          "scatterpolar": [
           {
            "marker": {
             "colorbar": {
              "outlinewidth": 0,
              "ticks": ""
             }
            },
            "type": "scatterpolar"
           }
          ],
          "scatterpolargl": [
           {
            "marker": {
             "colorbar": {
              "outlinewidth": 0,
              "ticks": ""
             }
            },
            "type": "scatterpolargl"
           }
          ],
          "scatterternary": [
           {
            "marker": {
             "colorbar": {
              "outlinewidth": 0,
              "ticks": ""
             }
            },
            "type": "scatterternary"
           }
          ],
          "surface": [
           {
            "colorbar": {
             "outlinewidth": 0,
             "ticks": ""
            },
            "colorscale": [
             [
              0,
              "#0d0887"
             ],
             [
              0.1111111111111111,
              "#46039f"
             ],
             [
              0.2222222222222222,
              "#7201a8"
             ],
             [
              0.3333333333333333,
              "#9c179e"
             ],
             [
              0.4444444444444444,
              "#bd3786"
             ],
             [
              0.5555555555555556,
              "#d8576b"
             ],
             [
              0.6666666666666666,
              "#ed7953"
             ],
             [
              0.7777777777777778,
              "#fb9f3a"
             ],
             [
              0.8888888888888888,
              "#fdca26"
             ],
             [
              1,
              "#f0f921"
             ]
            ],
            "type": "surface"
           }
          ],
          "table": [
           {
            "cells": {
             "fill": {
              "color": "#EBF0F8"
             },
             "line": {
              "color": "white"
             }
            },
            "header": {
             "fill": {
              "color": "#C8D4E3"
             },
             "line": {
              "color": "white"
             }
            },
            "type": "table"
           }
          ]
         },
         "layout": {
          "annotationdefaults": {
           "arrowcolor": "#2a3f5f",
           "arrowhead": 0,
           "arrowwidth": 1
          },
          "autotypenumbers": "strict",
          "coloraxis": {
           "colorbar": {
            "outlinewidth": 0,
            "ticks": ""
           }
          },
          "colorscale": {
           "diverging": [
            [
             0,
             "#8e0152"
            ],
            [
             0.1,
             "#c51b7d"
            ],
            [
             0.2,
             "#de77ae"
            ],
            [
             0.3,
             "#f1b6da"
            ],
            [
             0.4,
             "#fde0ef"
            ],
            [
             0.5,
             "#f7f7f7"
            ],
            [
             0.6,
             "#e6f5d0"
            ],
            [
             0.7,
             "#b8e186"
            ],
            [
             0.8,
             "#7fbc41"
            ],
            [
             0.9,
             "#4d9221"
            ],
            [
             1,
             "#276419"
            ]
           ],
           "sequential": [
            [
             0,
             "#0d0887"
            ],
            [
             0.1111111111111111,
             "#46039f"
            ],
            [
             0.2222222222222222,
             "#7201a8"
            ],
            [
             0.3333333333333333,
             "#9c179e"
            ],
            [
             0.4444444444444444,
             "#bd3786"
            ],
            [
             0.5555555555555556,
             "#d8576b"
            ],
            [
             0.6666666666666666,
             "#ed7953"
            ],
            [
             0.7777777777777778,
             "#fb9f3a"
            ],
            [
             0.8888888888888888,
             "#fdca26"
            ],
            [
             1,
             "#f0f921"
            ]
           ],
           "sequentialminus": [
            [
             0,
             "#0d0887"
            ],
            [
             0.1111111111111111,
             "#46039f"
            ],
            [
             0.2222222222222222,
             "#7201a8"
            ],
            [
             0.3333333333333333,
             "#9c179e"
            ],
            [
             0.4444444444444444,
             "#bd3786"
            ],
            [
             0.5555555555555556,
             "#d8576b"
            ],
            [
             0.6666666666666666,
             "#ed7953"
            ],
            [
             0.7777777777777778,
             "#fb9f3a"
            ],
            [
             0.8888888888888888,
             "#fdca26"
            ],
            [
             1,
             "#f0f921"
            ]
           ]
          },
          "colorway": [
           "#636efa",
           "#EF553B",
           "#00cc96",
           "#ab63fa",
           "#FFA15A",
           "#19d3f3",
           "#FF6692",
           "#B6E880",
           "#FF97FF",
           "#FECB52"
          ],
          "font": {
           "color": "#2a3f5f"
          },
          "geo": {
           "bgcolor": "white",
           "lakecolor": "white",
           "landcolor": "#E5ECF6",
           "showlakes": true,
           "showland": true,
           "subunitcolor": "white"
          },
          "hoverlabel": {
           "align": "left"
          },
          "hovermode": "closest",
          "mapbox": {
           "style": "light"
          },
          "paper_bgcolor": "white",
          "plot_bgcolor": "#E5ECF6",
          "polar": {
           "angularaxis": {
            "gridcolor": "white",
            "linecolor": "white",
            "ticks": ""
           },
           "bgcolor": "#E5ECF6",
           "radialaxis": {
            "gridcolor": "white",
            "linecolor": "white",
            "ticks": ""
           }
          },
          "scene": {
           "xaxis": {
            "backgroundcolor": "#E5ECF6",
            "gridcolor": "white",
            "gridwidth": 2,
            "linecolor": "white",
            "showbackground": true,
            "ticks": "",
            "zerolinecolor": "white"
           },
           "yaxis": {
            "backgroundcolor": "#E5ECF6",
            "gridcolor": "white",
            "gridwidth": 2,
            "linecolor": "white",
            "showbackground": true,
            "ticks": "",
            "zerolinecolor": "white"
           },
           "zaxis": {
            "backgroundcolor": "#E5ECF6",
            "gridcolor": "white",
            "gridwidth": 2,
            "linecolor": "white",
            "showbackground": true,
            "ticks": "",
            "zerolinecolor": "white"
           }
          },
          "shapedefaults": {
           "line": {
            "color": "#2a3f5f"
           }
          },
          "ternary": {
           "aaxis": {
            "gridcolor": "white",
            "linecolor": "white",
            "ticks": ""
           },
           "baxis": {
            "gridcolor": "white",
            "linecolor": "white",
            "ticks": ""
           },
           "bgcolor": "#E5ECF6",
           "caxis": {
            "gridcolor": "white",
            "linecolor": "white",
            "ticks": ""
           }
          },
          "title": {
           "x": 0.05
          },
          "xaxis": {
           "automargin": true,
           "gridcolor": "white",
           "linecolor": "white",
           "ticks": "",
           "title": {
            "standoff": 15
           },
           "zerolinecolor": "white",
           "zerolinewidth": 2
          },
          "yaxis": {
           "automargin": true,
           "gridcolor": "white",
           "linecolor": "white",
           "ticks": "",
           "title": {
            "standoff": 15
           },
           "zerolinecolor": "white",
           "zerolinewidth": 2
          }
         }
        },
        "title": {
         "text": "Heatmap of LCS Ratios for Each Mutation"
        },
        "xaxis": {
         "anchor": "y",
         "constrain": "domain",
         "domain": [
          0,
          1
         ],
         "dtick": 1,
         "scaleanchor": "y",
         "tickmode": "linear",
         "title": {
          "text": "Mutation Position"
         }
        },
        "yaxis": {
         "anchor": "x",
         "autorange": "reversed",
         "constrain": "domain",
         "domain": [
          0,
          1
         ],
         "dtick": 1,
         "tickmode": "linear",
         "title": {
          "text": "Mutated Amino Acid"
         }
        }
       }
      }
     },
     "metadata": {},
     "output_type": "display_data"
    }
   ],
   "source": [
    "import os\n",
    "import pandas as pd\n",
    "import re\n",
    "import plotly.express as px\n",
    "import numpy as np\n",
    "from difflib import SequenceMatcher\n",
    "import kinase_library as kl\n",
    "\n",
    "# Function to extract genomic information from UniProt\n",
    "def extract_genomic_information_from_uniprot_id(uniprot_id, reference_position):\n",
    "    '''\n",
    "    Extracts genomic coordinates and metadata from UniProt, then retrieves a sequence segment\n",
    "    surrounding a specified reference position.\n",
    "    '''\n",
    "    genomic_information = pd.DataFrame()\n",
    "    try:\n",
    "        print(f'Searching for UniProt ID: {uniprot_id}')\n",
    "        requestURL_protein = f\"https://www.ebi.ac.uk/proteins/api/proteins/{uniprot_id}\"\n",
    "        response_protein = requests.get(requestURL_protein, headers={\"Accept\": \"application/json\"})\n",
    "        \n",
    "        # Check if the request was successful\n",
    "        response_protein.raise_for_status()\n",
    "        \n",
    "        # Load JSON response\n",
    "        response_protein = response_protein.json()\n",
    "        \n",
    "        # Extract protein sequence\n",
    "        protein_sequence = response_protein.get(\"sequence\", {}).get(\"sequence\", \"\")\n",
    "        \n",
    "        if not protein_sequence:\n",
    "            print(f\"No sequence found for UniProt ID: {uniprot_id}\")\n",
    "            return None\n",
    "        \n",
    "        # Subtract 1 from the reference position to match indexing (UniProt API is 1-based, so this handles it)\n",
    "        reference_position -= 1  # Convert to 0-based index for Python\n",
    "        \n",
    "        # Extract 7 amino acids upstream and downstream\n",
    "        start = max(0, reference_position - 7)  # Ensure start is not negative\n",
    "        end = min(len(protein_sequence), reference_position + 8)  # Ensure end is within bounds\n",
    "        extracted_sequence = protein_sequence[start:end]\n",
    "\n",
    "        # Get genomic metadata\n",
    "        genomic_information = {\n",
    "            \"UniProt_ID\": uniprot_id,\n",
    "            \"Protein_Name\": response_protein.get(\"protein\", {}).get(\"recommendedName\", {}).get(\"fullName\", \"\"),\n",
    "            \"TaxID\": response_protein.get(\"organism\", {}).get(\"taxid\", \"\"),\n",
    "            \"Sequence_Length\": len(protein_sequence),\n",
    "            \"Reference_Position\": reference_position + 1,  # Return to 1-based indexing for user\n",
    "            \"Extracted_Sequence\": extracted_sequence\n",
    "        }\n",
    "\n",
    "        return genomic_information\n",
    "\n",
    "    except Exception as e:\n",
    "        print(f\"An error occurred: {e}\")\n",
    "        return None\n",
    "\n",
    "# Function to generate all mutated sequences\n",
    "def generate_mutated_sequences(seq_of_interest):\n",
    "    \"\"\"\n",
    "    Generates all possible single-point mutations for a given amino acid sequence.\n",
    "\n",
    "    Args:\n",
    "        seq_of_interest (str): The original amino acid sequence.\n",
    "\n",
    "    Returns:\n",
    "        list: A list containing all possible mutated sequences.\n",
    "    \"\"\"\n",
    "    mutated_sequences = []  # List to store mutated sequences\n",
    "    amino_acids = \"ACDEFGHIKLMNPQRSTVWY\"  # Standard 20 amino acids\n",
    "\n",
    "    for i, original_aa in enumerate(seq_of_interest):  # Iterate over each amino acid\n",
    "        for new_aa in amino_acids:  # Try replacing with each amino acid\n",
    "            if new_aa != original_aa:  # Avoid replacing with itself\n",
    "                mutated_seq = seq_of_interest[:i] + new_aa + seq_of_interest[i+1:]\n",
    "                mutated_sequences.append((i, original_aa, new_aa, mutated_seq))\n",
    "\n",
    "    return mutated_sequences\n",
    "\n",
    "# User input for UniProt ID and reference position\n",
    "uniprot_id = input(\"Enter the UniProt ID: \")\n",
    "reference_position = int(input(\"Enter the reference position: \"))\n",
    "\n",
    "# Extract sequence and genomic data\n",
    "result = extract_genomic_information_from_uniprot_id(uniprot_id, reference_position)\n",
    "\n",
    "if result:\n",
    "    print(f\"Extracted Sequence: {result['Extracted_Sequence']}\")  # Output the extracted sequence\n",
    "\n",
    "    # Mutate the sequence of interest\n",
    "    mutated_sequences = generate_mutated_sequences(result['Extracted_Sequence'])\n",
    "\n",
    "    print(f\"Mutated sequences (# sequences = {len(mutated_sequences)})\")\n",
    "    print(mutated_sequences)  # Shows mutations at each position\n",
    "\n",
    "    # Set up directory for mutation results\n",
    "    os.makedirs(\"mutations2\", exist_ok=True)\n",
    "\n",
    "    # Wild-type predictions\n",
    "    try:\n",
    "        wild_type_substrate = kl.Substrate(result['Extracted_Sequence'])\n",
    "        wild_type_predictions = wild_type_substrate.predict()\n",
    "\n",
    "        wild_type_filename = f\"mutations2/wildtype2.csv\"\n",
    "        df_wild_type = pd.DataFrame(wild_type_predictions)\n",
    "        df_wild_type.to_csv(wild_type_filename, index=False)\n",
    "\n",
    "        print(f\"Wild-type sequence predictions saved to {wild_type_filename}\")\n",
    "\n",
    "    except Exception as e:\n",
    "        print(f\"Error processing wild-type sequence: {e}\")\n",
    "\n",
    "    # Predicting mutated sequences and saving\n",
    "    for i, original_aa, new_aa, mutated_seq in mutated_sequences:  \n",
    "        try:\n",
    "            s = kl.Substrate(mutated_seq)\n",
    "            predictions = s.predict()\n",
    "\n",
    "            df = pd.DataFrame(predictions)\n",
    "\n",
    "            # Save to CSV file with a structured name (corrected format)\n",
    "            filename = f\"mutations2/mutation_Pos{i+1}_{original_aa}_to_{new_aa}.csv\"  # Corrected nomenclature\n",
    "            df.to_csv(filename, index=False)\n",
    "\n",
    "        except Exception as e:\n",
    "            print(f\"Skipping mutation at position {i+1} ({original_aa} → {new_aa}): {e}\")\n",
    "\n",
    "    # Extract kinase orders from wild-type\n",
    "    wildtype_path = os.path.join(\"mutations2\", \"wildtype2.csv\")\n",
    "    df_wildtype = pd.read_csv(wildtype_path)\n",
    "    wildtype_kinase_order = df_wildtype[\"Score Rank\"].tolist()\n",
    "\n",
    "    kinase_orders = {}\n",
    "    for file in os.listdir(\"mutations2\"):\n",
    "        if file.endswith(\".csv\") and file != \"wildtype2.csv\":\n",
    "            file_path = os.path.join(\"mutations2\", file)\n",
    "            try:\n",
    "                df = pd.read_csv(file_path)\n",
    "\n",
    "                if \"Score Rank\" in df.columns:\n",
    "                    kinase_orders[file] = df[\"Score Rank\"].tolist()\n",
    "                else:\n",
    "                    print(f\"Skipping {file}: No 'Score Rank' column found.\")\n",
    "            except Exception as e:\n",
    "                print(f\"Error reading {file}: {e}\")\n",
    "\n",
    "    print(f\"Extracted kinase orders from {len(kinase_orders)} mutation CSVs.\")\n",
    "\n",
    "    # Function to compute Longest Common Subsequence (LCS)\n",
    "    def longest_common_subsequence(seq1, seq2):\n",
    "        matcher = SequenceMatcher(None, seq1, seq2)\n",
    "        return sum(block.size for block in matcher.get_matching_blocks())\n",
    "\n",
    "    # Find LCS between wildtype and mutated sequences\n",
    "    lcs_scores = {}\n",
    "    for file, order in kinase_orders.items():\n",
    "        lcs_length = longest_common_subsequence(order, wildtype_kinase_order)\n",
    "        lcs_scores[file] = lcs_length\n",
    "\n",
    "    # Normalize LCS scores\n",
    "    if lcs_scores:\n",
    "        lcs_min = min(lcs_scores.values())\n",
    "        lcs_max = max(lcs_scores.values())\n",
    "\n",
    "        normalized_lcs = {file: (score - lcs_min) / (lcs_max - lcs_min) for file, score in lcs_scores.items()}\n",
    "\n",
    "        df_lcs = pd.DataFrame(list(normalized_lcs.items()), columns=['Mutation_File', 'Normalized_LCS'])\n",
    "\n",
    "        print(\"\\nNormalized LCS Scores:\")\n",
    "        print(df_lcs.sort_values(by=\"Normalized_LCS\", ascending=True))\n",
    "\n",
    "    # Prepare heatmap of LCS ratios\n",
    "    lcs_data = []\n",
    "    for file, normalized_score in normalized_lcs.items():\n",
    "        match = re.match(r\"mutation_Pos(\\d+)_\\w+_to_(\\w+)\\.csv\", file)\n",
    "\n",
    "        if match:\n",
    "            position = int(match.group(1))\n",
    "            mutated_aa = match.group(2)\n",
    "\n",
    "            lcs_data.append([position, mutated_aa, normalized_score])\n",
    "\n",
    "    df_lcs = pd.DataFrame(lcs_data, columns=['Position', 'Mutation', 'LCS_Ratio'])\n",
    "\n",
    "    # Create heatmap matrix\n",
    "    heatmap_matrix = df_lcs.pivot_table(index='Mutation', columns='Position', values='LCS_Ratio', aggfunc=np.mean)\n",
    "\n",
    "    # Generate heatmap with Plotly\n",
    "    fig = px.imshow(\n",
    "        heatmap_matrix,\n",
    "        labels={'x': 'Mutation Position', 'y': 'Mutated Amino Acid', 'color': 'LCS Ratio'},\n",
    "        color_continuous_scale='Temps',\n",
    "        title=\"Heatmap of LCS Ratios for Each Mutation\",\n",
    "    )\n",
    "\n",
    "    fig.update_layout(\n",
    "        xaxis=dict(tickmode='linear', dtick=1),\n",
    "        yaxis=dict(tickmode='linear', dtick=1),\n",
    "        coloraxis_colorbar=dict(tickvals=[0, 0.25, 0.5, 0.75, 1], ticktext=[\"0.0\", \"0.25\", \"0.5\", \"0.75\", \"1.0\"]),\n",
    "        plot_bgcolor='white'\n",
    "    )\n",
    "    fig.show()\n",
    "else:\n",
    "    print(\"Error: No genomic data extracted.\")\n"
   ]
  }
 ],
 "metadata": {
  "kernelspec": {
   "display_name": "Python 3",
   "language": "python",
   "name": "python3"
  },
  "language_info": {
   "codemirror_mode": {
    "name": "ipython",
    "version": 3
   },
   "file_extension": ".py",
   "mimetype": "text/x-python",
   "name": "python",
   "nbconvert_exporter": "python",
   "pygments_lexer": "ipython3",
   "version": "3.12.9"
  }
 },
 "nbformat": 4,
 "nbformat_minor": 2
}
