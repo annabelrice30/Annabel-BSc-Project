{
 "cells": [
  {
   "cell_type": "code",
   "execution_count": 2,
   "metadata": {},
   "outputs": [
    {
     "data": {
      "text/html": [
       "<div>\n",
       "<style scoped>\n",
       "    .dataframe tbody tr th:only-of-type {\n",
       "        vertical-align: middle;\n",
       "    }\n",
       "\n",
       "    .dataframe tbody tr th {\n",
       "        vertical-align: top;\n",
       "    }\n",
       "\n",
       "    .dataframe thead th {\n",
       "        text-align: right;\n",
       "    }\n",
       "</style>\n",
       "<table border=\"1\" class=\"dataframe\">\n",
       "  <thead>\n",
       "    <tr style=\"text-align: right;\">\n",
       "      <th></th>\n",
       "      <th>Score</th>\n",
       "      <th>Score Rank</th>\n",
       "      <th>Percentile</th>\n",
       "      <th>Percentile Rank</th>\n",
       "    </tr>\n",
       "  </thead>\n",
       "  <tbody>\n",
       "    <tr>\n",
       "      <th>ATM</th>\n",
       "      <td>5.0385</td>\n",
       "      <td>1</td>\n",
       "      <td>99.83</td>\n",
       "      <td>1</td>\n",
       "    </tr>\n",
       "    <tr>\n",
       "      <th>SMG1</th>\n",
       "      <td>4.2377</td>\n",
       "      <td>2</td>\n",
       "      <td>99.77</td>\n",
       "      <td>2</td>\n",
       "    </tr>\n",
       "    <tr>\n",
       "      <th>ATR</th>\n",
       "      <td>3.5045</td>\n",
       "      <td>4</td>\n",
       "      <td>99.69</td>\n",
       "      <td>3</td>\n",
       "    </tr>\n",
       "    <tr>\n",
       "      <th>DNAPK</th>\n",
       "      <td>3.8172</td>\n",
       "      <td>3</td>\n",
       "      <td>99.21</td>\n",
       "      <td>4</td>\n",
       "    </tr>\n",
       "    <tr>\n",
       "      <th>FAM20C</th>\n",
       "      <td>3.1716</td>\n",
       "      <td>5</td>\n",
       "      <td>95.23</td>\n",
       "      <td>5</td>\n",
       "    </tr>\n",
       "    <tr>\n",
       "      <th>...</th>\n",
       "      <td>...</td>\n",
       "      <td>...</td>\n",
       "      <td>...</td>\n",
       "      <td>...</td>\n",
       "    </tr>\n",
       "    <tr>\n",
       "      <th>BRAF</th>\n",
       "      <td>-4.4003</td>\n",
       "      <td>242</td>\n",
       "      <td>7.86</td>\n",
       "      <td>306</td>\n",
       "    </tr>\n",
       "    <tr>\n",
       "      <th>AKT2</th>\n",
       "      <td>-5.6530</td>\n",
       "      <td>284</td>\n",
       "      <td>6.79</td>\n",
       "      <td>307</td>\n",
       "    </tr>\n",
       "    <tr>\n",
       "      <th>P70S6KB</th>\n",
       "      <td>-3.9915</td>\n",
       "      <td>223</td>\n",
       "      <td>6.64</td>\n",
       "      <td>308</td>\n",
       "    </tr>\n",
       "    <tr>\n",
       "      <th>NEK3</th>\n",
       "      <td>-8.2455</td>\n",
       "      <td>310</td>\n",
       "      <td>4.85</td>\n",
       "      <td>309</td>\n",
       "    </tr>\n",
       "    <tr>\n",
       "      <th>P70S6K</th>\n",
       "      <td>-7.2917</td>\n",
       "      <td>306</td>\n",
       "      <td>4.19</td>\n",
       "      <td>310</td>\n",
       "    </tr>\n",
       "  </tbody>\n",
       "</table>\n",
       "<p>310 rows × 4 columns</p>\n",
       "</div>"
      ],
      "text/plain": [
       "          Score  Score Rank  Percentile  Percentile Rank\n",
       "ATM      5.0385           1       99.83                1\n",
       "SMG1     4.2377           2       99.77                2\n",
       "ATR      3.5045           4       99.69                3\n",
       "DNAPK    3.8172           3       99.21                4\n",
       "FAM20C   3.1716           5       95.23                5\n",
       "...         ...         ...         ...              ...\n",
       "BRAF    -4.4003         242        7.86              306\n",
       "AKT2    -5.6530         284        6.79              307\n",
       "P70S6KB -3.9915         223        6.64              308\n",
       "NEK3    -8.2455         310        4.85              309\n",
       "P70S6K  -7.2917         306        4.19              310\n",
       "\n",
       "[310 rows x 4 columns]"
      ]
     },
     "execution_count": 2,
     "metadata": {},
     "output_type": "execute_result"
    }
   ],
   "source": [
    "import kinase_library as kl\n",
    "testsequence='PSVEPPLsQETFSDL'\n",
    "\n",
    "# Create a Substrate object with a target sequence (example: p53 S33)\n",
    "s = kl.Substrate(testsequence)  # Lowercase 's' indicates a phosphoserine\n",
    "\n",
    "# Predict potential kinase interactions for the substrate\n",
    "s.predict()"
   ]
  },
  {
   "cell_type": "code",
   "execution_count": null,
   "metadata": {},
   "outputs": [],
   "source": [
    "\"\"\"Task 1 - to write code mutating first amino acid to every other possible amino acid\"\"\"\n",
    "#how to replace one letter for another in test sequence.\n",
    "\n",
    "#how to replace one letter for each amino acid\n",
    "\n"
   ]
  },
  {
   "cell_type": "code",
   "execution_count": 4,
   "metadata": {},
   "outputs": [
    {
     "name": "stdout",
     "output_type": "stream",
     "text": [
      "Mutated sequences (# sequences = 286)\n",
      "['ASVEPPLsQETFSDL', 'CSVEPPLsQETFSDL', 'DSVEPPLsQETFSDL', 'ESVEPPLsQETFSDL', 'FSVEPPLsQETFSDL', 'GSVEPPLsQETFSDL', 'HSVEPPLsQETFSDL', 'ISVEPPLsQETFSDL', 'KSVEPPLsQETFSDL', 'LSVEPPLsQETFSDL', 'MSVEPPLsQETFSDL', 'NSVEPPLsQETFSDL', 'QSVEPPLsQETFSDL', 'RSVEPPLsQETFSDL', 'SSVEPPLsQETFSDL', 'TSVEPPLsQETFSDL', 'VSVEPPLsQETFSDL', 'WSVEPPLsQETFSDL', 'YSVEPPLsQETFSDL', 'PAVEPPLsQETFSDL', 'PCVEPPLsQETFSDL', 'PDVEPPLsQETFSDL', 'PEVEPPLsQETFSDL', 'PFVEPPLsQETFSDL', 'PGVEPPLsQETFSDL', 'PHVEPPLsQETFSDL', 'PIVEPPLsQETFSDL', 'PKVEPPLsQETFSDL', 'PLVEPPLsQETFSDL', 'PMVEPPLsQETFSDL', 'PNVEPPLsQETFSDL', 'PPVEPPLsQETFSDL', 'PQVEPPLsQETFSDL', 'PRVEPPLsQETFSDL', 'PTVEPPLsQETFSDL', 'PVVEPPLsQETFSDL', 'PWVEPPLsQETFSDL', 'PYVEPPLsQETFSDL', 'PSAEPPLsQETFSDL', 'PSCEPPLsQETFSDL', 'PSDEPPLsQETFSDL', 'PSEEPPLsQETFSDL', 'PSFEPPLsQETFSDL', 'PSGEPPLsQETFSDL', 'PSHEPPLsQETFSDL', 'PSIEPPLsQETFSDL', 'PSKEPPLsQETFSDL', 'PSLEPPLsQETFSDL', 'PSMEPPLsQETFSDL', 'PSNEPPLsQETFSDL', 'PSPEPPLsQETFSDL', 'PSQEPPLsQETFSDL', 'PSREPPLsQETFSDL', 'PSSEPPLsQETFSDL', 'PSTEPPLsQETFSDL', 'PSWEPPLsQETFSDL', 'PSYEPPLsQETFSDL', 'PSVAPPLsQETFSDL', 'PSVCPPLsQETFSDL', 'PSVDPPLsQETFSDL', 'PSVFPPLsQETFSDL', 'PSVGPPLsQETFSDL', 'PSVHPPLsQETFSDL', 'PSVIPPLsQETFSDL', 'PSVKPPLsQETFSDL', 'PSVLPPLsQETFSDL', 'PSVMPPLsQETFSDL', 'PSVNPPLsQETFSDL', 'PSVPPPLsQETFSDL', 'PSVQPPLsQETFSDL', 'PSVRPPLsQETFSDL', 'PSVSPPLsQETFSDL', 'PSVTPPLsQETFSDL', 'PSVVPPLsQETFSDL', 'PSVWPPLsQETFSDL', 'PSVYPPLsQETFSDL', 'PSVEAPLsQETFSDL', 'PSVECPLsQETFSDL', 'PSVEDPLsQETFSDL', 'PSVEEPLsQETFSDL', 'PSVEFPLsQETFSDL', 'PSVEGPLsQETFSDL', 'PSVEHPLsQETFSDL', 'PSVEIPLsQETFSDL', 'PSVEKPLsQETFSDL', 'PSVELPLsQETFSDL', 'PSVEMPLsQETFSDL', 'PSVENPLsQETFSDL', 'PSVEQPLsQETFSDL', 'PSVERPLsQETFSDL', 'PSVESPLsQETFSDL', 'PSVETPLsQETFSDL', 'PSVEVPLsQETFSDL', 'PSVEWPLsQETFSDL', 'PSVEYPLsQETFSDL', 'PSVEPALsQETFSDL', 'PSVEPCLsQETFSDL', 'PSVEPDLsQETFSDL', 'PSVEPELsQETFSDL', 'PSVEPFLsQETFSDL', 'PSVEPGLsQETFSDL', 'PSVEPHLsQETFSDL', 'PSVEPILsQETFSDL', 'PSVEPKLsQETFSDL', 'PSVEPLLsQETFSDL', 'PSVEPMLsQETFSDL', 'PSVEPNLsQETFSDL', 'PSVEPQLsQETFSDL', 'PSVEPRLsQETFSDL', 'PSVEPSLsQETFSDL', 'PSVEPTLsQETFSDL', 'PSVEPVLsQETFSDL', 'PSVEPWLsQETFSDL', 'PSVEPYLsQETFSDL', 'PSVEPPAsQETFSDL', 'PSVEPPCsQETFSDL', 'PSVEPPDsQETFSDL', 'PSVEPPEsQETFSDL', 'PSVEPPFsQETFSDL', 'PSVEPPGsQETFSDL', 'PSVEPPHsQETFSDL', 'PSVEPPIsQETFSDL', 'PSVEPPKsQETFSDL', 'PSVEPPMsQETFSDL', 'PSVEPPNsQETFSDL', 'PSVEPPPsQETFSDL', 'PSVEPPQsQETFSDL', 'PSVEPPRsQETFSDL', 'PSVEPPSsQETFSDL', 'PSVEPPTsQETFSDL', 'PSVEPPVsQETFSDL', 'PSVEPPWsQETFSDL', 'PSVEPPYsQETFSDL', 'PSVEPPLAQETFSDL', 'PSVEPPLCQETFSDL', 'PSVEPPLDQETFSDL', 'PSVEPPLEQETFSDL', 'PSVEPPLFQETFSDL', 'PSVEPPLGQETFSDL', 'PSVEPPLHQETFSDL', 'PSVEPPLIQETFSDL', 'PSVEPPLKQETFSDL', 'PSVEPPLLQETFSDL', 'PSVEPPLMQETFSDL', 'PSVEPPLNQETFSDL', 'PSVEPPLPQETFSDL', 'PSVEPPLQQETFSDL', 'PSVEPPLRQETFSDL', 'PSVEPPLSQETFSDL', 'PSVEPPLTQETFSDL', 'PSVEPPLVQETFSDL', 'PSVEPPLWQETFSDL', 'PSVEPPLYQETFSDL', 'PSVEPPLsAETFSDL', 'PSVEPPLsCETFSDL', 'PSVEPPLsDETFSDL', 'PSVEPPLsEETFSDL', 'PSVEPPLsFETFSDL', 'PSVEPPLsGETFSDL', 'PSVEPPLsHETFSDL', 'PSVEPPLsIETFSDL', 'PSVEPPLsKETFSDL', 'PSVEPPLsLETFSDL', 'PSVEPPLsMETFSDL', 'PSVEPPLsNETFSDL', 'PSVEPPLsPETFSDL', 'PSVEPPLsRETFSDL', 'PSVEPPLsSETFSDL', 'PSVEPPLsTETFSDL', 'PSVEPPLsVETFSDL', 'PSVEPPLsWETFSDL', 'PSVEPPLsYETFSDL', 'PSVEPPLsQATFSDL', 'PSVEPPLsQCTFSDL', 'PSVEPPLsQDTFSDL', 'PSVEPPLsQFTFSDL', 'PSVEPPLsQGTFSDL', 'PSVEPPLsQHTFSDL', 'PSVEPPLsQITFSDL', 'PSVEPPLsQKTFSDL', 'PSVEPPLsQLTFSDL', 'PSVEPPLsQMTFSDL', 'PSVEPPLsQNTFSDL', 'PSVEPPLsQPTFSDL', 'PSVEPPLsQQTFSDL', 'PSVEPPLsQRTFSDL', 'PSVEPPLsQSTFSDL', 'PSVEPPLsQTTFSDL', 'PSVEPPLsQVTFSDL', 'PSVEPPLsQWTFSDL', 'PSVEPPLsQYTFSDL', 'PSVEPPLsQEAFSDL', 'PSVEPPLsQECFSDL', 'PSVEPPLsQEDFSDL', 'PSVEPPLsQEEFSDL', 'PSVEPPLsQEFFSDL', 'PSVEPPLsQEGFSDL', 'PSVEPPLsQEHFSDL', 'PSVEPPLsQEIFSDL', 'PSVEPPLsQEKFSDL', 'PSVEPPLsQELFSDL', 'PSVEPPLsQEMFSDL', 'PSVEPPLsQENFSDL', 'PSVEPPLsQEPFSDL', 'PSVEPPLsQEQFSDL', 'PSVEPPLsQERFSDL', 'PSVEPPLsQESFSDL', 'PSVEPPLsQEVFSDL', 'PSVEPPLsQEWFSDL', 'PSVEPPLsQEYFSDL', 'PSVEPPLsQETASDL', 'PSVEPPLsQETCSDL', 'PSVEPPLsQETDSDL', 'PSVEPPLsQETESDL', 'PSVEPPLsQETGSDL', 'PSVEPPLsQETHSDL', 'PSVEPPLsQETISDL', 'PSVEPPLsQETKSDL', 'PSVEPPLsQETLSDL', 'PSVEPPLsQETMSDL', 'PSVEPPLsQETNSDL', 'PSVEPPLsQETPSDL', 'PSVEPPLsQETQSDL', 'PSVEPPLsQETRSDL', 'PSVEPPLsQETSSDL', 'PSVEPPLsQETTSDL', 'PSVEPPLsQETVSDL', 'PSVEPPLsQETWSDL', 'PSVEPPLsQETYSDL', 'PSVEPPLsQETFADL', 'PSVEPPLsQETFCDL', 'PSVEPPLsQETFDDL', 'PSVEPPLsQETFEDL', 'PSVEPPLsQETFFDL', 'PSVEPPLsQETFGDL', 'PSVEPPLsQETFHDL', 'PSVEPPLsQETFIDL', 'PSVEPPLsQETFKDL', 'PSVEPPLsQETFLDL', 'PSVEPPLsQETFMDL', 'PSVEPPLsQETFNDL', 'PSVEPPLsQETFPDL', 'PSVEPPLsQETFQDL', 'PSVEPPLsQETFRDL', 'PSVEPPLsQETFTDL', 'PSVEPPLsQETFVDL', 'PSVEPPLsQETFWDL', 'PSVEPPLsQETFYDL', 'PSVEPPLsQETFSAL', 'PSVEPPLsQETFSCL', 'PSVEPPLsQETFSEL', 'PSVEPPLsQETFSFL', 'PSVEPPLsQETFSGL', 'PSVEPPLsQETFSHL', 'PSVEPPLsQETFSIL', 'PSVEPPLsQETFSKL', 'PSVEPPLsQETFSLL', 'PSVEPPLsQETFSML', 'PSVEPPLsQETFSNL', 'PSVEPPLsQETFSPL', 'PSVEPPLsQETFSQL', 'PSVEPPLsQETFSRL', 'PSVEPPLsQETFSSL', 'PSVEPPLsQETFSTL', 'PSVEPPLsQETFSVL', 'PSVEPPLsQETFSWL', 'PSVEPPLsQETFSYL', 'PSVEPPLsQETFSDA', 'PSVEPPLsQETFSDC', 'PSVEPPLsQETFSDD', 'PSVEPPLsQETFSDE', 'PSVEPPLsQETFSDF', 'PSVEPPLsQETFSDG', 'PSVEPPLsQETFSDH', 'PSVEPPLsQETFSDI', 'PSVEPPLsQETFSDK', 'PSVEPPLsQETFSDM', 'PSVEPPLsQETFSDN', 'PSVEPPLsQETFSDP', 'PSVEPPLsQETFSDQ', 'PSVEPPLsQETFSDR', 'PSVEPPLsQETFSDS', 'PSVEPPLsQETFSDT', 'PSVEPPLsQETFSDV', 'PSVEPPLsQETFSDW', 'PSVEPPLsQETFSDY']\n"
     ]
    }
   ],
   "source": [
    "mutated_sequences = [] #creates a list to store the mutated amino acids\n",
    "amino_acids = \"ACDEFGHIKLMNPQRSTVWY\"  # defines the standard 20 amino acids\n",
    "for i, original_aa in enumerate(testsequence): #indexes the original amino acids \n",
    "    for new_aa in amino_acids: #creates a loop of all amino acids\n",
    "        if new_aa != original_aa:  # Avoid replacing with itself\n",
    "                mutated_seq = testsequence[:i] + new_aa + testsequence[i+1:] #creates a new sequence (mutated seq)\n",
    "                mutated_sequences.append(mutated_seq) #stores mutated sequence\n",
    "\n",
    "print(f'Mutated sequences (# sequences = {len(mutated_sequences)})')\n",
    "print(mutated_sequences)\n",
    " #shows mutations at each position\n",
    "\n",
    "\n",
    "        "
   ]
  },
  {
   "cell_type": "code",
   "execution_count": null,
   "metadata": {},
   "outputs": [],
   "source": [
    "'''\n",
    "Task2 - Run these sequences through the predict function and store the output as a csv file. Look at pandas.to_csv() for this.\n",
    "Output should be 280 separate csv files. Don't worry about a naming convention yet. \n",
    "'''\n",
    "\n"
   ]
  },
  {
   "cell_type": "code",
   "execution_count": 5,
   "metadata": {},
   "outputs": [
    {
     "name": "stdout",
     "output_type": "stream",
     "text": [
      "Total mutations generated: 286\n",
      "Skipping mutation at position 7 (s → A): Central residue must be a phosphoacceptor (s/t/y). Otherwise, please identify the position of the phosphoacceptor.\n",
      "Skipping mutation at position 7 (s → C): Central residue must be a phosphoacceptor (s/t/y). Otherwise, please identify the position of the phosphoacceptor.\n",
      "Skipping mutation at position 7 (s → D): Central residue must be a phosphoacceptor (s/t/y). Otherwise, please identify the position of the phosphoacceptor.\n",
      "Skipping mutation at position 7 (s → E): Central residue must be a phosphoacceptor (s/t/y). Otherwise, please identify the position of the phosphoacceptor.\n",
      "Skipping mutation at position 7 (s → F): Central residue must be a phosphoacceptor (s/t/y). Otherwise, please identify the position of the phosphoacceptor.\n",
      "Skipping mutation at position 7 (s → G): Central residue must be a phosphoacceptor (s/t/y). Otherwise, please identify the position of the phosphoacceptor.\n",
      "Skipping mutation at position 7 (s → H): Central residue must be a phosphoacceptor (s/t/y). Otherwise, please identify the position of the phosphoacceptor.\n",
      "Skipping mutation at position 7 (s → I): Central residue must be a phosphoacceptor (s/t/y). Otherwise, please identify the position of the phosphoacceptor.\n",
      "Skipping mutation at position 7 (s → K): Central residue must be a phosphoacceptor (s/t/y). Otherwise, please identify the position of the phosphoacceptor.\n",
      "Skipping mutation at position 7 (s → L): Central residue must be a phosphoacceptor (s/t/y). Otherwise, please identify the position of the phosphoacceptor.\n",
      "Skipping mutation at position 7 (s → M): Central residue must be a phosphoacceptor (s/t/y). Otherwise, please identify the position of the phosphoacceptor.\n",
      "Skipping mutation at position 7 (s → N): Central residue must be a phosphoacceptor (s/t/y). Otherwise, please identify the position of the phosphoacceptor.\n",
      "Skipping mutation at position 7 (s → P): Central residue must be a phosphoacceptor (s/t/y). Otherwise, please identify the position of the phosphoacceptor.\n",
      "Skipping mutation at position 7 (s → Q): Central residue must be a phosphoacceptor (s/t/y). Otherwise, please identify the position of the phosphoacceptor.\n",
      "Skipping mutation at position 7 (s → R): Central residue must be a phosphoacceptor (s/t/y). Otherwise, please identify the position of the phosphoacceptor.\n",
      "Skipping mutation at position 7 (s → V): Central residue must be a phosphoacceptor (s/t/y). Otherwise, please identify the position of the phosphoacceptor.\n",
      "Skipping mutation at position 7 (s → W): Central residue must be a phosphoacceptor (s/t/y). Otherwise, please identify the position of the phosphoacceptor.\n"
     ]
    }
   ],
   "source": [
    "import kinase_library as kl\n",
    "import pandas as pd\n",
    "\n",
    "testsequence = 'PSVEPPLsQETFSDL'  \n",
    "amino_acids = \"ACDEFGHIKLMNPQRSTVWY\"\n",
    "mutated_sequences = []  \n",
    "\n",
    "for i, original_aa in enumerate(testsequence):  \n",
    "    for new_aa in amino_acids:\n",
    "        if new_aa != original_aa:  \n",
    "                mutated_seq = testsequence[:i] + new_aa + testsequence[i+1:] \n",
    "                mutated_sequences.append((i, original_aa, new_aa, mutated_seq))  \n",
    "\n",
    "\n",
    "print(f\"Total mutations generated: {len(mutated_sequences)}\") \n",
    "\n",
    "for i, original_aa, new_aa, mutated_seq in mutated_sequences: #below is gpt code, wanted to see what exceptions it threw up using try function\n",
    "    try:\n",
    "        s = kl.Substrate(mutated_seq)\n",
    "        predictions = s.predict()\n",
    "\n",
    "\n",
    "        df = pd.DataFrame(predictions)\n",
    "\n",
    "        # Save to CSV file with a structured name\n",
    "        filename = f\"mutation_Pos{i}_{original_aa}_to_{new_aa}.csv\"\n",
    "        df.to_csv(filename, index=False)\n",
    "\n",
    "    except Exception as e:\n",
    "        print(f\"Skipping mutation at position {i} ({original_aa} → {new_aa}): {e}\")\n",
    "\n",
    "\n",
    "\n"
   ]
  },
  {
   "cell_type": "code",
   "execution_count": null,
   "metadata": {},
   "outputs": [],
   "source": [
    "'''\n",
    "Task3 - Run through the 280 csv files and extract the order of the kinases. Then using the test sequence as the reference.\n",
    "Compute a metric for each pair using something similar to LCS (link for inspo attached - https://chatgpt.com/share/67c705a9-9c74-8001-a8da-eac57f06384f)  \n",
    "'''"
   ]
  },
  {
   "cell_type": "code",
   "execution_count": null,
   "metadata": {},
   "outputs": [],
   "source": [
    "import os\n",
    "import pandas as pd\n",
    "import itertools\n",
    "from difflib import SequenceMatcher\n",
    "import os\n",
    "import pandas as pd\n",
    "import itertools\n",
    "from difflib import SequenceMatcher\n",
    "\n",
    "mut_predictions = \"C:/Users/ricea/OneDrive/Documents/GitHub/Annabel-BSc-Project\"\n",
    "test_sequence = \"PSVEPPLsQETFSDL\"\n",
    "kinase_orders = {}\n",
    "\n",
    "for file in os.listdir(mut_predictions): #finds the csvs, reads the csvs\n",
    "    if file.endswith(\".csv\"):\n",
    "        file_path = os.path.join(mut_predictions, file)\n",
    "        try:\n",
    "            df = pd.read_csv(file_path)\n",
    "            \n",
    "            if \"Score Rank\" in df.columns: #finds the score rank column\n",
    "                kinase_list = df[\"Score Rank\"].tolist()\n",
    "                kinase_orders[file] = kinase_list  # Store kinase order for each mutation\n",
    "            else:\n",
    "                print(f\"Skipping {file}: No 'score rank' column found.\") #proofreads\n",
    "        \n",
    "        except Exception as e:\n",
    "            print(f\"Error reading {file}: {e}\")  #proofreads\n",
    "\n",
    "print(f\"Extracted kinase orders from {len(kinase_orders)} CSV files.\") #checks its done\n",
    "\n",
    "\n",
    "def longest_common_subsequence(seq1, seq2):\n",
    "    \"\"\"Computes the Longest Common Subsequence (LCS) length between two lists.\"\"\"\n",
    "    matcher = SequenceMatcher(None, seq1, seq2)\n",
    "    return sum(block.size for block in matcher.get_matching_blocks())\n",
    "\n",
    "\n",
    "pairwise_lcs = {}\n",
    "for (file1, order1), (file2, order2) in itertools.combinations(kinase_orders.items(), 2):\n",
    "    lcs_length = longest_common_subsequence(order1, order2)\n",
    "    pairwise_lcs[(file1, file2)] = lcs_length\n",
    "\n",
    "#normalise lcs scores between 0 and 1\n",
    "if pairwise_lcs:\n",
    "\n",
    "    lcs_scores = list(pairwise_lcs.values())\n",
    "    lcs_min = min(lcs_scores)\n",
    "    lcs_max = max(lcs_scores)\n",
    "    \n",
    "    normalized_lcs = {pair: (score - lcs_min) / (lcs_max - lcs_min) for pair, score in pairwise_lcs.items()}\n",
    "\n",
    "    # Step 3: Print top 5 most similar kinase orders with normalized LCS scores\n",
    "    sorted_normalized_lcs = sorted(normalized_lcs.items(), key=lambda x: x[1], reverse=True)\n",
    "    print(\"\\nKinase orders (normalized LCS scores):\")\n",
    "    for (pair, normalized_score) in sorted_normalized_lcs:\n",
    "        print(f\"{pair[0]} vs {pair[1]}: Normalized LCS Score = {normalized_score:.4f}\")\n",
    "else:\n",
    "    print(\"No LCS scores calculated. Ensure kinase_orders contains data.\") #check kinase orders library actually has data in it\n"
   ]
  },
  {
   "cell_type": "code",
   "execution_count": null,
   "metadata": {},
   "outputs": [],
   "source": [
    "'''\n",
    "Task 4: generate heatmaps of LCS ratio for each mutation on the y axis and position on the x axis. I like plotly heatmaps for this\n",
    "https://plotly.com/python/heatmaps/. So output will be a heat map showing hotspots for the mutations that disrup the phosphorylation motif the most\n",
    "'''"
   ]
  },
  {
   "cell_type": "code",
   "execution_count": 7,
   "metadata": {},
   "outputs": [
    {
     "name": "stdout",
     "output_type": "stream",
     "text": [
      "Pairwise LCS dictionary size: 40755\n",
      "First 5 entries: [(('mutation_Pos0_P_to_A.csv', 'mutation_Pos0_P_to_C.csv'), 310), (('mutation_Pos0_P_to_A.csv', 'mutation_Pos0_P_to_D.csv'), 310), (('mutation_Pos0_P_to_A.csv', 'mutation_Pos0_P_to_E.csv'), 310), (('mutation_Pos0_P_to_A.csv', 'mutation_Pos0_P_to_F.csv'), 310), (('mutation_Pos0_P_to_A.csv', 'mutation_Pos0_P_to_G.csv'), 310)]\n"
     ]
    }
   ],
   "source": [
    "#debugging step\n",
    "\n",
    "print(f\"Pairwise LCS dictionary size: {len(pairwise_lcs)}\")\n",
    "print(f\"First 5 entries: {list(pairwise_lcs.items())[:5]}\")"
   ]
  },
  {
   "cell_type": "code",
   "execution_count": 17,
   "metadata": {},
   "outputs": [
    {
     "data": {
      "application/vnd.plotly.v1+json": {
       "config": {
        "plotlyServerURL": "https://plot.ly"
       },
       "data": [
        {
         "coloraxis": "coloraxis",
         "hovertemplate": "Mutation Position: %{x}<br>Mutated Amino Acid: %{y}<br>LCS Ratio: %{z}<extra></extra>",
         "name": "0",
         "type": "heatmap",
         "x": {
          "bdata": "AAECAwQFBgcICQoLDA0O",
          "dtype": "i1"
         },
         "xaxis": "x",
         "y": [
          "A",
          "C",
          "D",
          "E",
          "F",
          "G",
          "H",
          "I",
          "K",
          "L",
          "M",
          "N",
          "P",
          "Q",
          "R",
          "S",
          "T",
          "V",
          "W",
          "Y"
         ],
         "yaxis": "y",
         "z": {
          "bdata": "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",
          "dtype": "f8",
          "shape": "20, 15"
         }
        }
       ],
       "layout": {
        "coloraxis": {
         "colorbar": {
          "dtick": 0.1,
          "tick0": 0,
          "tickmode": "linear",
          "title": {
           "text": "LCS Ratio"
          }
         },
         "colorscale": [
          [
           0,
           "rgb(0, 147, 146)"
          ],
          [
           0.16666666666666666,
           "rgb(57, 177, 133)"
          ],
          [
           0.3333333333333333,
           "rgb(156, 203, 134)"
          ],
          [
           0.5,
           "rgb(233, 226, 156)"
          ],
          [
           0.6666666666666666,
           "rgb(238, 180, 121)"
          ],
          [
           0.8333333333333334,
           "rgb(232, 132, 113)"
          ],
          [
           1,
           "rgb(207, 89, 126)"
          ]
         ]
        },
        "template": {
         "data": {
          "bar": [
           {
            "error_x": {
             "color": "#2a3f5f"
            },
            "error_y": {
             "color": "#2a3f5f"
            },
            "marker": {
             "line": {
              "color": "#E5ECF6",
              "width": 0.5
             },
             "pattern": {
              "fillmode": "overlay",
              "size": 10,
              "solidity": 0.2
             }
            },
            "type": "bar"
           }
          ],
          "barpolar": [
           {
            "marker": {
             "line": {
              "color": "#E5ECF6",
              "width": 0.5
             },
             "pattern": {
              "fillmode": "overlay",
              "size": 10,
              "solidity": 0.2
             }
            },
            "type": "barpolar"
           }
          ],
          "carpet": [
           {
            "aaxis": {
             "endlinecolor": "#2a3f5f",
             "gridcolor": "white",
             "linecolor": "white",
             "minorgridcolor": "white",
             "startlinecolor": "#2a3f5f"
            },
            "baxis": {
             "endlinecolor": "#2a3f5f",
             "gridcolor": "white",
             "linecolor": "white",
             "minorgridcolor": "white",
             "startlinecolor": "#2a3f5f"
            },
            "type": "carpet"
           }
          ],
          "choropleth": [
           {
            "colorbar": {
             "outlinewidth": 0,
             "ticks": ""
            },
            "type": "choropleth"
           }
          ],
          "contour": [
           {
            "colorbar": {
             "outlinewidth": 0,
             "ticks": ""
            },
            "colorscale": [
             [
              0,
              "#0d0887"
             ],
             [
              0.1111111111111111,
              "#46039f"
             ],
             [
              0.2222222222222222,
              "#7201a8"
             ],
             [
              0.3333333333333333,
              "#9c179e"
             ],
             [
              0.4444444444444444,
              "#bd3786"
             ],
             [
              0.5555555555555556,
              "#d8576b"
             ],
             [
              0.6666666666666666,
              "#ed7953"
             ],
             [
              0.7777777777777778,
              "#fb9f3a"
             ],
             [
              0.8888888888888888,
              "#fdca26"
             ],
             [
              1,
              "#f0f921"
             ]
            ],
            "type": "contour"
           }
          ],
          "contourcarpet": [
           {
            "colorbar": {
             "outlinewidth": 0,
             "ticks": ""
            },
            "type": "contourcarpet"
           }
          ],
          "heatmap": [
           {
            "colorbar": {
             "outlinewidth": 0,
             "ticks": ""
            },
            "colorscale": [
             [
              0,
              "#0d0887"
             ],
             [
              0.1111111111111111,
              "#46039f"
             ],
             [
              0.2222222222222222,
              "#7201a8"
             ],
             [
              0.3333333333333333,
              "#9c179e"
             ],
             [
              0.4444444444444444,
              "#bd3786"
             ],
             [
              0.5555555555555556,
              "#d8576b"
             ],
             [
              0.6666666666666666,
              "#ed7953"
             ],
             [
              0.7777777777777778,
              "#fb9f3a"
             ],
             [
              0.8888888888888888,
              "#fdca26"
             ],
             [
              1,
              "#f0f921"
             ]
            ],
            "type": "heatmap"
           }
          ],
          "histogram": [
           {
            "marker": {
             "pattern": {
              "fillmode": "overlay",
              "size": 10,
              "solidity": 0.2
             }
            },
            "type": "histogram"
           }
          ],
          "histogram2d": [
           {
            "colorbar": {
             "outlinewidth": 0,
             "ticks": ""
            },
            "colorscale": [
             [
              0,
              "#0d0887"
             ],
             [
              0.1111111111111111,
              "#46039f"
             ],
             [
              0.2222222222222222,
              "#7201a8"
             ],
             [
              0.3333333333333333,
              "#9c179e"
             ],
             [
              0.4444444444444444,
              "#bd3786"
             ],
             [
              0.5555555555555556,
              "#d8576b"
             ],
             [
              0.6666666666666666,
              "#ed7953"
             ],
             [
              0.7777777777777778,
              "#fb9f3a"
             ],
             [
              0.8888888888888888,
              "#fdca26"
             ],
             [
              1,
              "#f0f921"
             ]
            ],
            "type": "histogram2d"
           }
          ],
          "histogram2dcontour": [
           {
            "colorbar": {
             "outlinewidth": 0,
             "ticks": ""
            },
            "colorscale": [
             [
              0,
              "#0d0887"
             ],
             [
              0.1111111111111111,
              "#46039f"
             ],
             [
              0.2222222222222222,
              "#7201a8"
             ],
             [
              0.3333333333333333,
              "#9c179e"
             ],
             [
              0.4444444444444444,
              "#bd3786"
             ],
             [
              0.5555555555555556,
              "#d8576b"
             ],
             [
              0.6666666666666666,
              "#ed7953"
             ],
             [
              0.7777777777777778,
              "#fb9f3a"
             ],
             [
              0.8888888888888888,
              "#fdca26"
             ],
             [
              1,
              "#f0f921"
             ]
            ],
            "type": "histogram2dcontour"
           }
          ],
          "mesh3d": [
           {
            "colorbar": {
             "outlinewidth": 0,
             "ticks": ""
            },
            "type": "mesh3d"
           }
          ],
          "parcoords": [
           {
            "line": {
             "colorbar": {
              "outlinewidth": 0,
              "ticks": ""
             }
            },
            "type": "parcoords"
           }
          ],
          "pie": [
           {
            "automargin": true,
            "type": "pie"
           }
          ],
          "scatter": [
           {
            "fillpattern": {
             "fillmode": "overlay",
             "size": 10,
             "solidity": 0.2
            },
            "type": "scatter"
           }
          ],
          "scatter3d": [
           {
            "line": {
             "colorbar": {
              "outlinewidth": 0,
              "ticks": ""
             }
            },
            "marker": {
             "colorbar": {
              "outlinewidth": 0,
              "ticks": ""
             }
            },
            "type": "scatter3d"
           }
          ],
          "scattercarpet": [
           {
            "marker": {
             "colorbar": {
              "outlinewidth": 0,
              "ticks": ""
             }
            },
            "type": "scattercarpet"
           }
          ],
          "scattergeo": [
           {
            "marker": {
             "colorbar": {
              "outlinewidth": 0,
              "ticks": ""
             }
            },
            "type": "scattergeo"
           }
          ],
          "scattergl": [
           {
            "marker": {
             "colorbar": {
              "outlinewidth": 0,
              "ticks": ""
             }
            },
            "type": "scattergl"
           }
          ],
          "scattermap": [
           {
            "marker": {
             "colorbar": {
              "outlinewidth": 0,
              "ticks": ""
             }
            },
            "type": "scattermap"
           }
          ],
          "scattermapbox": [
           {
            "marker": {
             "colorbar": {
              "outlinewidth": 0,
              "ticks": ""
             }
            },
            "type": "scattermapbox"
           }
          ],
          "scatterpolar": [
           {
            "marker": {
             "colorbar": {
              "outlinewidth": 0,
              "ticks": ""
             }
            },
            "type": "scatterpolar"
           }
          ],
          "scatterpolargl": [
           {
            "marker": {
             "colorbar": {
              "outlinewidth": 0,
              "ticks": ""
             }
            },
            "type": "scatterpolargl"
           }
          ],
          "scatterternary": [
           {
            "marker": {
             "colorbar": {
              "outlinewidth": 0,
              "ticks": ""
             }
            },
            "type": "scatterternary"
           }
          ],
          "surface": [
           {
            "colorbar": {
             "outlinewidth": 0,
             "ticks": ""
            },
            "colorscale": [
             [
              0,
              "#0d0887"
             ],
             [
              0.1111111111111111,
              "#46039f"
             ],
             [
              0.2222222222222222,
              "#7201a8"
             ],
             [
              0.3333333333333333,
              "#9c179e"
             ],
             [
              0.4444444444444444,
              "#bd3786"
             ],
             [
              0.5555555555555556,
              "#d8576b"
             ],
             [
              0.6666666666666666,
              "#ed7953"
             ],
             [
              0.7777777777777778,
              "#fb9f3a"
             ],
             [
              0.8888888888888888,
              "#fdca26"
             ],
             [
              1,
              "#f0f921"
             ]
            ],
            "type": "surface"
           }
          ],
          "table": [
           {
            "cells": {
             "fill": {
              "color": "#EBF0F8"
             },
             "line": {
              "color": "white"
             }
            },
            "header": {
             "fill": {
              "color": "#C8D4E3"
             },
             "line": {
              "color": "white"
             }
            },
            "type": "table"
           }
          ]
         },
         "layout": {
          "annotationdefaults": {
           "arrowcolor": "#2a3f5f",
           "arrowhead": 0,
           "arrowwidth": 1
          },
          "autotypenumbers": "strict",
          "coloraxis": {
           "colorbar": {
            "outlinewidth": 0,
            "ticks": ""
           }
          },
          "colorscale": {
           "diverging": [
            [
             0,
             "#8e0152"
            ],
            [
             0.1,
             "#c51b7d"
            ],
            [
             0.2,
             "#de77ae"
            ],
            [
             0.3,
             "#f1b6da"
            ],
            [
             0.4,
             "#fde0ef"
            ],
            [
             0.5,
             "#f7f7f7"
            ],
            [
             0.6,
             "#e6f5d0"
            ],
            [
             0.7,
             "#b8e186"
            ],
            [
             0.8,
             "#7fbc41"
            ],
            [
             0.9,
             "#4d9221"
            ],
            [
             1,
             "#276419"
            ]
           ],
           "sequential": [
            [
             0,
             "#0d0887"
            ],
            [
             0.1111111111111111,
             "#46039f"
            ],
            [
             0.2222222222222222,
             "#7201a8"
            ],
            [
             0.3333333333333333,
             "#9c179e"
            ],
            [
             0.4444444444444444,
             "#bd3786"
            ],
            [
             0.5555555555555556,
             "#d8576b"
            ],
            [
             0.6666666666666666,
             "#ed7953"
            ],
            [
             0.7777777777777778,
             "#fb9f3a"
            ],
            [
             0.8888888888888888,
             "#fdca26"
            ],
            [
             1,
             "#f0f921"
            ]
           ],
           "sequentialminus": [
            [
             0,
             "#0d0887"
            ],
            [
             0.1111111111111111,
             "#46039f"
            ],
            [
             0.2222222222222222,
             "#7201a8"
            ],
            [
             0.3333333333333333,
             "#9c179e"
            ],
            [
             0.4444444444444444,
             "#bd3786"
            ],
            [
             0.5555555555555556,
             "#d8576b"
            ],
            [
             0.6666666666666666,
             "#ed7953"
            ],
            [
             0.7777777777777778,
             "#fb9f3a"
            ],
            [
             0.8888888888888888,
             "#fdca26"
            ],
            [
             1,
             "#f0f921"
            ]
           ]
          },
          "colorway": [
           "#636efa",
           "#EF553B",
           "#00cc96",
           "#ab63fa",
           "#FFA15A",
           "#19d3f3",
           "#FF6692",
           "#B6E880",
           "#FF97FF",
           "#FECB52"
          ],
          "font": {
           "color": "#2a3f5f"
          },
          "geo": {
           "bgcolor": "white",
           "lakecolor": "white",
           "landcolor": "#E5ECF6",
           "showlakes": true,
           "showland": true,
           "subunitcolor": "white"
          },
          "hoverlabel": {
           "align": "left"
          },
          "hovermode": "closest",
          "mapbox": {
           "style": "light"
          },
          "paper_bgcolor": "white",
          "plot_bgcolor": "#E5ECF6",
          "polar": {
           "angularaxis": {
            "gridcolor": "white",
            "linecolor": "white",
            "ticks": ""
           },
           "bgcolor": "#E5ECF6",
           "radialaxis": {
            "gridcolor": "white",
            "linecolor": "white",
            "ticks": ""
           }
          },
          "scene": {
           "xaxis": {
            "backgroundcolor": "#E5ECF6",
            "gridcolor": "white",
            "gridwidth": 2,
            "linecolor": "white",
            "showbackground": true,
            "ticks": "",
            "zerolinecolor": "white"
           },
           "yaxis": {
            "backgroundcolor": "#E5ECF6",
            "gridcolor": "white",
            "gridwidth": 2,
            "linecolor": "white",
            "showbackground": true,
            "ticks": "",
            "zerolinecolor": "white"
           },
           "zaxis": {
            "backgroundcolor": "#E5ECF6",
            "gridcolor": "white",
            "gridwidth": 2,
            "linecolor": "white",
            "showbackground": true,
            "ticks": "",
            "zerolinecolor": "white"
           }
          },
          "shapedefaults": {
           "line": {
            "color": "#2a3f5f"
           }
          },
          "ternary": {
           "aaxis": {
            "gridcolor": "white",
            "linecolor": "white",
            "ticks": ""
           },
           "baxis": {
            "gridcolor": "white",
            "linecolor": "white",
            "ticks": ""
           },
           "bgcolor": "#E5ECF6",
           "caxis": {
            "gridcolor": "white",
            "linecolor": "white",
            "ticks": ""
           }
          },
          "title": {
           "x": 0.05
          },
          "xaxis": {
           "automargin": true,
           "gridcolor": "white",
           "linecolor": "white",
           "ticks": "",
           "title": {
            "standoff": 15
           },
           "zerolinecolor": "white",
           "zerolinewidth": 2
          },
          "yaxis": {
           "automargin": true,
           "gridcolor": "white",
           "linecolor": "white",
           "ticks": "",
           "title": {
            "standoff": 15
           },
           "zerolinecolor": "white",
           "zerolinewidth": 2
          }
         }
        },
        "title": {
         "text": "Heatmap of LCS Ratios for Each Mutation"
        },
        "xaxis": {
         "anchor": "y",
         "constrain": "domain",
         "domain": [
          0,
          1
         ],
         "dtick": 1,
         "scaleanchor": "y",
         "tickmode": "linear",
         "title": {
          "text": "Mutation Position"
         }
        },
        "yaxis": {
         "anchor": "x",
         "autorange": "reversed",
         "constrain": "domain",
         "domain": [
          0,
          1
         ],
         "title": {
          "text": "Mutated Amino Acid"
         }
        }
       }
      }
     },
     "metadata": {},
     "output_type": "display_data"
    }
   ],
   "source": [
    "#The x-axis = Mutation Position\n",
    "#The y-axis = Mutated Amino Acid\n",
    "#The color intensity = Normalized LCS Ratio\n",
    "#all of this is contained in csv file names and lcs data\n",
    "\n",
    "import os\n",
    "import pandas as pd\n",
    "import re\n",
    "import plotly.express as px\n",
    "\n",
    "# Prepare a list to store LCS data\n",
    "lcs_data = []\n",
    "\n",
    "# Extract mutation position and amino acid change from filenames\n",
    "for (file1, file2), normalized_score in normalized_lcs.items():\n",
    "    \n",
    "    # Regex pattern to extract mutation position & amino acid change\n",
    "    match1 = re.match(r\"mutation_Pos(\\d+)_\\w+_to_(\\w+)\\.csv\", file1)\n",
    "    match2 = re.match(r\"mutation_Pos(\\d+)_\\w+_to_(\\w+)\\.csv\", file2)\n",
    "\n",
    "    if match1 and match2:\n",
    "        pos1, mut1 = int(match1.group(1)), match1.group(2)\n",
    "        pos2, mut2 = int(match2.group(1)), match2.group(2)\n",
    "\n",
    "        # avoid duplicates\n",
    "        if pos1 == pos2:  \n",
    "            lcs_data.append([pos1, mut1, normalized_score])\n",
    "            lcs_data.append([pos2, mut2, normalized_score])  # storage\n",
    "\n",
    "\n",
    "df_lcs = pd.DataFrame(lcs_data, columns=['Position', 'Mutation', 'LCS_Ratio'])\n",
    "\n",
    "# Pivot for heatmap\n",
    "heatmap_matrix = df_lcs.pivot_table(index='Mutation', columns='Position', values='LCS_Ratio')\n",
    "\n",
    "# Generate the heatmap\n",
    "fig = px.imshow(\n",
    "    heatmap_matrix,\n",
    "    labels={'x': 'Mutation Position', 'y': 'Mutated Amino Acid', 'color': 'LCS Ratio'},\n",
    "    color_continuous_scale='Temps',\n",
    "    title=\"Heatmap of LCS Ratios for Each Mutation\"\n",
    ")\n",
    "\n",
    "\n",
    "fig.update_layout(\n",
    "    xaxis=dict(\n",
    "        tickmode='linear',\n",
    "        dtick=1, \n",
    "        title=\"Mutation Position\"\n",
    "    ),\n",
    "    yaxis=dict(title=\"Mutated Amino Acid\"),\n",
    "    coloraxis_colorbar=dict(\n",
    "        title=\"LCS Ratio\",\n",
    "        tickmode=\"linear\",\n",
    "        tick0=0.0,  # Ensure color scale starts at 0.0\n",
    "        dtick=0.1  # Set color bar intervals\n",
    "    )\n",
    ")\n",
    "\n",
    "\n",
    "\n",
    "fig.show()\n",
    "\n",
    "\n",
    "\n",
    "\n",
    "\n"
   ]
  },
  {
   "cell_type": "code",
   "execution_count": null,
   "metadata": {},
   "outputs": [],
   "source": []
  }
 ],
 "metadata": {
  "kernelspec": {
   "display_name": "Python 3",
   "language": "python",
   "name": "python3"
  },
  "language_info": {
   "codemirror_mode": {
    "name": "ipython",
    "version": 3
   },
   "file_extension": ".py",
   "mimetype": "text/x-python",
   "name": "python",
   "nbconvert_exporter": "python",
   "pygments_lexer": "ipython3",
   "version": "3.12.9"
  }
 },
 "nbformat": 4,
 "nbformat_minor": 2
}
