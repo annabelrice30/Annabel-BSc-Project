{
 "cells": [
  {
   "cell_type": "code",
   "execution_count": null,
   "metadata": {},
   "outputs": [],
   "source": [
    "import kinase_library as kl\n",
    "testsequence='PSVEPPLsQETFSDL'\n",
    "\n",
    "# Create a Substrate object with a target sequence (example: p53 S33)\n",
    "s = kl.Substrate(testsequence)  # Lowercase 's' indicates a phosphoserine\n",
    "\n",
    "# Predict potential kinase interactions for the substrate\n",
    "s.predict()"
   ]
  },
  {
   "cell_type": "code",
   "execution_count": null,
   "metadata": {},
   "outputs": [],
   "source": [
    "\"\"\"Task 1 - to write code mutating first amino acid to every other possible amino acid\"\"\"\n",
    "#how to replace one letter for another in test sequence.\n",
    "\n",
    "#how to replace one letter for each amino acid\n",
    "\n"
   ]
  },
  {
   "cell_type": "code",
   "execution_count": null,
   "metadata": {},
   "outputs": [],
   "source": [
    "mutated_sequences = [] #creates a list to store the mutated amino acids\n",
    "amino_acids = \"ACDEFGHIKLMNPQRSTVWY\"  # defines the standard 20 amino acids\n",
    "for i, original_aa in enumerate(testsequence): #indexes the original amino acids \n",
    "    for new_aa in amino_acids: #creates a loop of all amino acids\n",
    "        if new_aa != original_aa:  # Avoid replacing with itself\n",
    "                mutated_seq = testsequence[:i] + new_aa + testsequence[i+1:] #creates a new sequence (mutated seq)\n",
    "                mutated_sequences.append(mutated_seq) #stores mutated sequence\n",
    "\n",
    "print(f'Mutated sequences (# sequences = {len(mutated_sequences)})')\n",
    "print(mutated_sequences)\n",
    " #shows mutations at each position\n",
    "\n",
    "\n",
    "        "
   ]
  },
  {
   "cell_type": "code",
   "execution_count": null,
   "metadata": {},
   "outputs": [],
   "source": [
    "'''\n",
    "Task2 - Run these sequences through the predict function and store the output as a csv file. Look at pandas.to_csv() for this.\n",
    "Output should be 280 separate csv files. Don't worry about a naming convention yet. \n",
    "'''\n",
    "\n"
   ]
  },
  {
   "cell_type": "code",
   "execution_count": null,
   "metadata": {},
   "outputs": [],
   "source": [
    "import os\n",
    "os.makedirs(\"mutations\", exist_ok=True)\n",
    "#creates a new folder called mutations to put the sequence predictions into"
   ]
  },
  {
   "cell_type": "code",
   "execution_count": null,
   "metadata": {},
   "outputs": [],
   "source": [
    "import kinase_library as kl\n",
    "import pandas as pd\n",
    "\n",
    "testsequence = 'PSVEPPLsQETFSDL'  \n",
    "amino_acids = \"ACDEFGHIKLMNPQRSTVWY\"\n",
    "mutated_sequences = []  \n",
    "wild_type_filename = f\"mutations/wildtype.csv\"\n",
    "\n",
    "\n",
    "# Predict kinase data for the wild-type sequence\n",
    "try:\n",
    "    wild_type_substrate = kl.Substrate(testsequence)\n",
    "    wild_type_predictions = wild_type_substrate.predict()\n",
    "\n",
    "    # Save wild-type predictions to CSV\n",
    "    df_wild_type = pd.DataFrame(wild_type_predictions)\n",
    "    df_wild_type.to_csv(wild_type_filename, index=False)\n",
    "\n",
    "    print(f\"Wild-type sequence predictions saved to {wild_type_filename}\")\n",
    "\n",
    "except Exception as e:\n",
    "    print(f\"Error processing wild-type sequence: {e}\")\n",
    "\n",
    "for i, original_aa in enumerate(testsequence):  \n",
    "    for new_aa in amino_acids:\n",
    "        if new_aa != original_aa:  \n",
    "                mutated_seq = testsequence[:i] + new_aa + testsequence[i+1:] \n",
    "                mutated_sequences.append((i, original_aa, new_aa, mutated_seq))  \n",
    "\n",
    "\n",
    "print(f\"Total mutations generated: {len(mutated_sequences)}\") \n",
    "\n",
    "for i, original_aa, new_aa, mutated_seq in mutated_sequences: \n",
    "    try:\n",
    "        s = kl.Substrate(mutated_seq)\n",
    "        predictions = s.predict()\n",
    "\n",
    "\n",
    "        df = pd.DataFrame(predictions)\n",
    "\n",
    "        # Save to CSV file with a structured name\n",
    "        filename = f\"mutations/mutation_Pos{i}_{original_aa}_to_{new_aa}.csv\"\n",
    "        df.to_csv(filename, index=False)\n",
    "\n",
    "    except Exception as e:\n",
    "        print(f\"Skipping mutation at position {i} ({original_aa} → {new_aa}): {e}\")\n",
    "\n",
    "\n",
    "\n"
   ]
  },
  {
   "cell_type": "code",
   "execution_count": null,
   "metadata": {},
   "outputs": [],
   "source": [
    "'''\n",
    "Task3 - Run through the 286 csv files and extract the order of the kinases. Then using the test sequence as the reference.\n",
    "Compute a metric for each pair using something similar to LCS (link for inspo attached - https://chatgpt.com/share/67c705a9-9c74-8001-a8da-eac57f06384f)  \n",
    "'''"
   ]
  },
  {
   "cell_type": "code",
   "execution_count": null,
   "metadata": {},
   "outputs": [],
   "source": [
    "import os\n",
    "import pandas as pd\n",
    "from difflib import SequenceMatcher\n",
    "\n",
    "#This extracts the kinase orders from 269 files - one being the reference sequence.\n",
    "#I assume some mutations at position 7 are skipped due to the lack of phosphoacceptor.\n",
    "#So giving 18 fewer LCS scores compared to the number of CSV files generated earlier.\n",
    "#This is consistent with the data shown on the heatmap in the next cell.\n",
    "\n",
    "mut_predictions = \"mutations/\"\n",
    "\n",
    "wildtype_path = os.path.join(mut_predictions, \"wildtype.csv\")\n",
    "\n",
    "df_wildtype = pd.read_csv(wildtype_path)\n",
    "\n",
    "wildtype_kinase_order = df_wildtype[\"Score Rank\"].tolist()  #extracts kinase orders from the reference sequence\n",
    "\n",
    "kinase_orders = {}\n",
    "\n",
    "#reads all files to extract the kinase orders (except wildtype as that's already been done)\n",
    "for file in os.listdir(mut_predictions):\n",
    "    if file.endswith(\".csv\") and file != \"wildtype.csv\":\n",
    "        file_path = os.path.join(mut_predictions, file)\n",
    "        try:\n",
    "            df = pd.read_csv(file_path)\n",
    "            \n",
    "            if \"Score Rank\" in df.columns:\n",
    "                kinase_orders[file] = df[\"Score Rank\"].tolist()  # Store kinase order\n",
    "            else:\n",
    "                print(f\"Skipping {file}: No 'Score Rank' column found.\") \n",
    "        \n",
    "        except Exception as e:\n",
    "            print(f\"Error reading {file}: {e}\")   #debugging steps\n",
    "\n",
    "print(f\"Extracted kinase orders from {len(kinase_orders)} mutation CSVs.\") \n",
    "\n",
    "# Function to compute Longest Common Subsequence (LCS)\n",
    "def longest_common_subsequence(seq1, seq2):\n",
    "    matcher = SequenceMatcher(None, seq1, seq2)\n",
    "    return sum(block.size for block in matcher.get_matching_blocks())\n",
    "\n",
    "#finds the LCS between wildtype and mut seqs\n",
    "lcs_scores = {}\n",
    "for file, order in kinase_orders.items():\n",
    "    lcs_length = longest_common_subsequence(order, wildtype_kinase_order)\n",
    "    lcs_scores[file] = lcs_length\n",
    "\n",
    "#normalizes LCS scores between 0 and 1\n",
    "if lcs_scores:\n",
    "    lcs_min = min(lcs_scores.values())\n",
    "    lcs_max = max(lcs_scores.values())\n",
    "\n",
    "    normalized_lcs = {file: (score - lcs_min) / (lcs_max - lcs_min) for file, score in lcs_scores.items()}\n",
    "\n",
    "   \n",
    "    df_lcs = pd.DataFrame(list(normalized_lcs.items()), columns=['Mutation_File', 'Normalized_LCS'])\n",
    "    \n",
    "    print(\"\\nNormalized LCS Scores:\")\n",
    "    print(df_lcs.sort_values(by=\"Normalized_LCS\", ascending=True))  # Sort by lowest LCS\n",
    "\n",
    "else:\n",
    "    print(\"No LCS scores calculated. Ensure kinase_orders contains data.\")\n"
   ]
  },
  {
   "cell_type": "code",
   "execution_count": null,
   "metadata": {},
   "outputs": [],
   "source": [
    "'''\n",
    "Task 4: generate heatmaps of LCS ratio for each mutation on the y axis and position on the x axis. I like plotly heatmaps for this\n",
    "https://plotly.com/python/heatmaps/. So output will be a heat map showing hotspots for the mutations that disrup the phosphorylation motif the most\n",
    "'''"
   ]
  },
  {
   "cell_type": "code",
   "execution_count": null,
   "metadata": {},
   "outputs": [],
   "source": [
    "import os\n",
    "import pandas as pd\n",
    "import re\n",
    "import plotly.express as px\n",
    "import numpy as np\n",
    "\n",
    "lcs_data = []\n",
    "\n",
    "for file, normalized_score in normalized_lcs.items():\n",
    "    \n",
    "    match = re.match(r\"mutation_Pos(\\d+)_\\w+_to_(\\w+)\\.csv\", file)\n",
    "\n",
    "    if match:\n",
    "        position = int(match.group(1)) \n",
    "        mutated_aa = match.group(2)  \n",
    "\n",
    "        lcs_data.append([position, mutated_aa, normalized_score])\n",
    "\n",
    "\n",
    "df_lcs = pd.DataFrame(lcs_data, columns=['Position', 'Mutation', 'LCS_Ratio'])\n",
    "\n",
    "\n",
    "heatmap_matrix = df_lcs.pivot_table(index='Mutation', columns='Position', values='LCS_Ratio')\n",
    "\n",
    "\n",
    "fig = px.imshow(\n",
    "    heatmap_matrix,\n",
    "    labels={'x': 'Mutation Position', 'y': 'Mutated Amino Acid', 'color': 'LCS Ratio'},\n",
    "    color_continuous_scale='Temps',\n",
    "    title=\"Heatmap of LCS Ratios for Each Mutation\",\n",
    ")\n",
    "\n",
    "# Format axes\n",
    "fig.update_layout(\n",
    "    xaxis=dict(\n",
    "        tickmode='linear',\n",
    "        dtick=1  # Show every position\n",
    "    ),\n",
    "    yaxis=dict(\n",
    "        tickmode='linear',\n",
    "        dtick=1  # Show every position\n",
    "    ),\n",
    "    coloraxis_colorbar=dict(\n",
    "        tickvals=[0, 0.25, 0.5, 0.75, 1],  # Set scale from 0 to 1\n",
    "        ticktext=[\"0.0\", \"0.25\", \"0.5\", \"0.75\", \"1.0\"]\n",
    "    ),\n",
    "    plot_bgcolor='white'  \n",
    ")\n",
    "fig.show()\n",
    "\n",
    "\n",
    "\n",
    "\n"
   ]
  },
  {
   "cell_type": "code",
   "execution_count": null,
   "metadata": {},
   "outputs": [],
   "source": [
    "\"Generate tables and subplots showing cases for high and low LCS\""
   ]
  },
  {
   "cell_type": "code",
   "execution_count": null,
   "metadata": {},
   "outputs": [],
   "source": [
    "import os\n",
    "import pandas as pd\n",
    "from difflib import SequenceMatcher\n",
    "import matplotlib.pyplot as plt\n",
    "\n",
    "# Define paths and variables\n",
    "mut_predictions = \"C:/Users/ricea/OneDrive/Documents/GitHub/Annabel-BSc-Project/mutations\"\n",
    "kinase_orders = {}\n",
    "mutated_sequences = []\n",
    "\n",
    "def extract_mutated_sequences():\n",
    "    \"\"\"Reads CSV files and extracts mutated sequences from the file names.\"\"\"\n",
    "    global mutated_sequences\n",
    "    for file in os.listdir(mut_predictions):  # Finds the CSVs, reads the CSVs\n",
    "        if file.endswith(\".csv\") and file != \"wildtype.csv\":  # Exclude wildtype.csv\n",
    "            # Extract position, original amino acid, and new amino acid from the file name\n",
    "            parts = file.split('_')\n",
    "            original_aa = parts[2]  # This is the original amino acid\n",
    "            new_aa = parts[4].split('.')[0]  # This is the new amino acid (without \".csv\")\n",
    "            \n",
    "            # Store mutated sequence information (e.g., \"P_to_A\")\n",
    "            mutated_sequence = f\"{original_aa}_to_{new_aa}\"\n",
    "            mutated_sequences.append(mutated_sequence)  # Store mutated sequence\n",
    "\n",
    "    print(f\"Extracted {len(mutated_sequences)} mutated sequences from filenames.\")  # Checks if it's done\n",
    "\n",
    "def extract_kinase_orders():\n",
    "    \"\"\"Reads CSV files and extracts kinase orders.\"\"\"\n",
    "    global kinase_orders\n",
    "    for file in os.listdir(mut_predictions):  # Finds the CSVs, reads the CSVs\n",
    "        if file.endswith(\".csv\"):\n",
    "            file_path = os.path.join(mut_predictions, file)\n",
    "            try:\n",
    "                df = pd.read_csv(file_path)\n",
    "\n",
    "                # Check if \"Score Rank\" column exists\n",
    "                if \"Score Rank\" in df.columns:\n",
    "                    kinase_list = df[\"Score Rank\"].tolist()\n",
    "                    kinase_orders[file] = kinase_list  # Store kinase order for each mutation\n",
    "                else:\n",
    "                    print(f\"Skipping {file}: No 'Score Rank' column found.\")  # Proofreads\n",
    "\n",
    "            except Exception as e:\n",
    "                print(f\"Error reading {file}: {e}\")  # Proofreads\n",
    "\n",
    "    print(f\"Extracted kinase orders from {len(kinase_orders)} CSV files.\")  # Checks if it's done\n",
    "\n",
    "def longest_common_subsequence(seq1, seq2):\n",
    "    \"\"\"Computes the Longest Common Subsequence (LCS) length between two lists.\"\"\"\n",
    "    matcher = SequenceMatcher(None, seq1, seq2)\n",
    "    return sum(block.size for block in matcher.get_matching_blocks())\n",
    "\n",
    "def calculate_lcs_scores():\n",
    "    \"\"\"Calculates the LCS score between mutated sequences and wildtype sequence.\"\"\"\n",
    "    pairwise_lcs = {}\n",
    "    \n",
    "    # Wildtype sequence from the \"wildtype.csv\" file\n",
    "    wildtype_sequence = kinase_orders.get(\"wildtype.csv\", [])\n",
    "    \n",
    "    if not wildtype_sequence:\n",
    "        print(\"Wildtype sequence not found in the kinase orders.\")\n",
    "        return {}\n",
    "\n",
    "    for mutated_sequence in mutated_sequences:\n",
    "        # Look up the kinase order for the mutated sequence file\n",
    "        mutated_file = f\"mutation_{mutated_sequence}.csv\"  # Using the mutated sequence format\n",
    "        mutated_order = next((order for filename, order in kinase_orders.items() if mutated_sequence in filename), None)\n",
    "        \n",
    "        if mutated_order:  # If mutated order is found\n",
    "            lcs_length = longest_common_subsequence(wildtype_sequence, mutated_order)\n",
    "            pairwise_lcs[mutated_sequence] = lcs_length\n",
    "        else:\n",
    "            print(f\"Skipping mutated sequence: {mutated_sequence}, order not found.\")\n",
    "    \n",
    "    # Normalize LCS scores\n",
    "    lcs_scores = list(pairwise_lcs.values())\n",
    "    lcs_min = min(lcs_scores)\n",
    "    lcs_max = max(lcs_scores)\n",
    "\n",
    "    # Prevent division by zero if all scores are the same\n",
    "    if lcs_max - lcs_min == 0:\n",
    "        print(\"All LCS scores are identical. Normalization skipped.\")\n",
    "        normalized_lcs = {seq: 1.0 for seq in pairwise_lcs}  # Assign all a score of 1\n",
    "    else:\n",
    "        normalized_lcs = {seq: (score - lcs_min) / (lcs_max - lcs_min) for seq, score in pairwise_lcs.items()}\n",
    "\n",
    "    return normalized_lcs\n",
    "\n",
    "def display_lcs_tables(normalized_lcs):\n",
    "    \"\"\"Displays two side-by-side tables for LCS scores in two specific ranges.\"\"\"\n",
    "    lcs_groups = {\n",
    "        '0.8-1.0': [],\n",
    "        '0.0-0.3': []\n",
    "    }\n",
    "\n",
    "    # Group the data by the LCS score ranges\n",
    "    for mutated_sequence, normalized_score in normalized_lcs.items():\n",
    "        if 0.8 <= normalized_score <= 1.0:\n",
    "            lcs_groups['0.8-1.0'].append((mutated_sequence, normalized_score))\n",
    "        elif 0.0 <= normalized_score <= 0.3:\n",
    "            lcs_groups['0.0-0.3'].append((mutated_sequence, normalized_score))\n",
    "\n",
    "    # Create side-by-side tables for each LCS group\n",
    "    fig, axes = plt.subplots(1, 2, figsize=(18, 5))\n",
    "\n",
    "    for idx, (score_group, ax) in enumerate(zip(['0.8-1.0', '0.0-0.3'], axes)):\n",
    "        data = lcs_groups[score_group]\n",
    "\n",
    "        # Only create a table if there is data\n",
    "        if data:\n",
    "            table_data = [(pair[0], f\"{pair[1]:.4f}\") for pair in data]\n",
    "\n",
    "            # Create a table\n",
    "            table = ax.table(cellText=table_data,\n",
    "                            colLabels=[\"Mutated Sequence\", \"Normalized LCS Score\"],\n",
    "                            loc=\"center\",\n",
    "                            cellLoc=\"center\",\n",
    "                            colColours=[\"#f5f5f5\"] * 2)\n",
    "\n",
    "            ax.axis(\"off\")\n",
    "            ax.set_title(f\"LCS Score: {score_group}\", fontsize=14)\n",
    "        else:\n",
    "            ax.text(0.5, 0.5, f\"No data for LCS = {score_group}\",\n",
    "                    horizontalalignment='center',\n",
    "                    verticalalignment='center',\n",
    "                    fontsize=12, color='red')\n",
    "\n",
    "    plt.tight_layout()\n",
    "    plt.show()\n",
    "\n",
    "# Example of using the functions:\n",
    "# Run this once to extract mutated sequences, kinase orders, and calculate LCS scores\n",
    "extract_mutated_sequences()\n",
    "extract_kinase_orders()\n",
    "normalized_lcs = calculate_lcs_scores()\n",
    "\n",
    "# Then you can run the display function whenever you want to show the tables\n",
    "if normalized_lcs:\n",
    "    display_lcs_tables(normalized_lcs)\n"
   ]
  },
  {
   "cell_type": "code",
   "execution_count": null,
   "metadata": {},
   "outputs": [],
   "source": [
    "'''\n",
    "Task 5. Using function below. Get a workflow up and running to ping uniprot servers, extract protein sequence \n",
    "in the format needed by kinase library to run the code on extracted sequences. You'll need to import the request library using\n",
    "pip install requests\n",
    "'''\n",
    "\n"
   ]
  },
  {
   "cell_type": "code",
   "execution_count": null,
   "metadata": {},
   "outputs": [],
   "source": [
    "import requests\n",
    "\n",
    "def extract_genomic_information_from_uniprot_id(uniprot_id):\n",
    "    '''\n",
    "    Takes in uniprot ID as a string input and pings the Uniprot API to extract genomic coordinates of the protein and exons.\n",
    "    Metadata such as name, taxID, protein sequence, genome assembly name,  ENSEMBL GeneID, ENSEMBL Transcript ID and ENSEMBL Translations IDs is included alongside the extracted coordinates.  \n",
    "\n",
    "    Args:\n",
    "    uniprot_id (str): uniprot ID\n",
    "\n",
    "    Returns:\n",
    "    genomic_information (pd.DataFrame): DataFrame containing genomic coordinates of the protein of interest alongside exon positions and metadata \n",
    "    '''\n",
    "    genomic_information = pd.DataFrame()\n",
    "    try:\n",
    "        print(f'Searching for UniProt ID: {uniprot_id}')\n",
    "        requestURL_protein = f\"https://www.ebi.ac.uk/proteins/api/coordinates/{uniprot_id}\"\n",
    "        response_protein = requests.get(requestURL_protein, headers={\"Accept\": \"application/json\"})\n",
    "        \n",
    "        # Check if the request was successful\n",
    "        response_protein.raise_for_status()\n",
    "        \n",
    "        # Load JSON response\n",
    "        response_protein = response_protein.json()\n",
    "        \n",
    "        # Check if response is not empty\n",
    "        if response_protein:\n",
    "            response_protein_normalise = pd.json_normalize(\n",
    "                response_protein, \n",
    "                record_path=['gnCoordinate', 'genomicLocation', 'exon'], \n",
    "                meta=['accession', 'name', 'taxid', 'sequence', \n",
    "                      ['gnCoordinate', 'genomicLocation', 'chromosome'], \n",
    "                      ['gnCoordinate', 'genomicLocation', 'start'], \n",
    "                      ['gnCoordinate', 'genomicLocation', 'end'], \n",
    "                      ['gnCoordinate', 'genomicLocation', 'reverseStrand'], \n",
    "                      ['gnCoordinate', 'genomicLocation', 'nucleotideId'], \n",
    "                      ['gnCoordinate', 'genomicLocation', 'assemblyName'], \n",
    "                      ['gnCoordinate', 'ensemblGeneId'], \n",
    "                      ['gnCoordinate', 'ensemblTranscriptId'], \n",
    "                      ['gnCoordinate', 'ensemblTranslationId']],\n",
    "                record_prefix='exon_'\n",
    "            )\n",
    "\n",
    "            # Group and aggregate exon information\n",
    "            response_protein_normalise = response_protein_normalise.groupby([\n",
    "                'accession', 'name', 'taxid', 'sequence', \n",
    "                'gnCoordinate.genomicLocation.chromosome', \n",
    "                'gnCoordinate.genomicLocation.start', \n",
    "                'gnCoordinate.genomicLocation.end', \n",
    "                'gnCoordinate.genomicLocation.reverseStrand', \n",
    "                'gnCoordinate.genomicLocation.nucleotideId', \n",
    "                'gnCoordinate.genomicLocation.assemblyName', \n",
    "                'gnCoordinate.ensemblGeneId', \n",
    "                'gnCoordinate.ensemblTranscriptId', \n",
    "                'gnCoordinate.ensemblTranslationId'\n",
    "            ]).agg({\n",
    "                'exon_id': lambda x: ','.join(map(str, x)),\n",
    "                'exon_proteinLocation.begin.position': lambda x: ','.join(map(str, x)),                    \n",
    "                'exon_proteinLocation.end.position': lambda x: ','.join(map(str, x)),\n",
    "                'exon_genomeLocation.begin.position': lambda x: ','.join(map(str, x)),                    \n",
    "                'exon_genomeLocation.end.position': lambda x: ','.join(map(str, x))\n",
    "            }).reset_index()\n",
    "\n",
    "            # Concatenate to the main DataFrame\n",
    "            genomic_information = pd.concat([genomic_information, response_protein_normalise], ignore_index=True)\n",
    "        else:\n",
    "            print(f\"No data found for UniProt ID: {uniprot_id}\")\n",
    "            \n",
    "    except Exception as e:\n",
    "        print(f\"An error occurred: {e}\")\n",
    "\n",
    "    return genomic_information"
   ]
  },
  {
   "cell_type": "code",
   "execution_count": null,
   "metadata": {},
   "outputs": [],
   "source": [
    "#Example usage\n",
    "test_df = extract_genomic_information_from_uniprot_id('O15533')\n",
    "display(test_df)\n",
    "\n"
   ]
  },
  {
   "cell_type": "code",
   "execution_count": null,
   "metadata": {},
   "outputs": [],
   "source": [
    "import requests\n",
    "import pandas as pd\n",
    "\n",
    "uniprot_id = ('O95394-1') #modify these to protein of interest\n",
    "reference_position = 61\n",
    "\n",
    "def extract_genomic_information_from_uniprot_id(uniprot_id, reference_position):\n",
    "    '''\n",
    "    Extracts genomic coordinates and metadata from UniProt, then retrieves a sequence segment\n",
    "    surrounding a specified reference position.\n",
    "    '''\n",
    "    genomic_information = pd.DataFrame()\n",
    "    try:\n",
    "        print(f'Searching for UniProt ID: {uniprot_id}')\n",
    "        requestURL_protein = f\"https://www.ebi.ac.uk/proteins/api/proteins/{uniprot_id}\"\n",
    "        response_protein = requests.get(requestURL_protein, headers={\"Accept\": \"application/json\"})\n",
    "        \n",
    "        # Check if the request was successful\n",
    "        response_protein.raise_for_status()\n",
    "        \n",
    "        # Load JSON response\n",
    "        response_protein = response_protein.json()\n",
    "        \n",
    "        # Extract protein sequence\n",
    "        protein_sequence = response_protein.get(\"sequence\", {}).get(\"sequence\", \"\")\n",
    "        \n",
    "        if not protein_sequence:\n",
    "            print(f\"No sequence found for UniProt ID: {uniprot_id}\")\n",
    "            return None\n",
    "        \n",
    "        # Extract 7 amino acids upstream and downstream\n",
    "        start = max(0, reference_position - 7)  # Ensure start is not negative\n",
    "        end = min(len(protein_sequence), reference_position + 8)  # Ensure end is within bounds\n",
    "        extracted_sequence = protein_sequence[start:end]\n",
    "\n",
    "        # Get genomic metadata\n",
    "        genomic_information = {\n",
    "            \"UniProt_ID\": uniprot_id,\n",
    "            \"Protein_Name\": response_protein.get(\"protein\", {}).get(\"recommendedName\", {}).get(\"fullName\", \"\"),\n",
    "            \"TaxID\": response_protein.get(\"organism\", {}).get(\"taxid\", \"\"),\n",
    "            \"Sequence_Length\": len(protein_sequence),\n",
    "            \"Reference_Position\": reference_position,\n",
    "            \"Extracted_Sequence\": extracted_sequence\n",
    "        }\n",
    "\n",
    "        return genomic_information\n",
    "\n",
    "    except Exception as e:\n",
    "        print(f\"An error occurred: {e}\")\n",
    "        return None\n",
    "\n",
    "result = extract_genomic_information_from_uniprot_id(uniprot_id, reference_position)\n",
    "\n",
    "if result:\n",
    "    print(f\"Extracted Sequence: {result['Extracted_Sequence']}\")\n"
   ]
  },
  {
   "cell_type": "code",
   "execution_count": null,
   "metadata": {},
   "outputs": [],
   "source": [
    "'This is me working out how to make this code work for a different sequence, ie the extracted sequence. '\n",
    "'Scroll to the bottom to see this synthesised in one cell with user prompts.'"
   ]
  },
  {
   "cell_type": "code",
   "execution_count": null,
   "metadata": {},
   "outputs": [],
   "source": []
  },
  {
   "cell_type": "code",
   "execution_count": null,
   "metadata": {},
   "outputs": [],
   "source": [
    "def generate_mutated_sequences(seq_of_interest):\n",
    "    \"\"\"\n",
    "    Generates all possible single-point mutations for a given amino acid sequence.\n",
    "\n",
    "    Args:\n",
    "        seq_of_interest (str): The original amino acid sequence.\n",
    "\n",
    "    Returns:\n",
    "        list: A list containing all possible mutated sequences.\n",
    "    \"\"\"\n",
    "    mutated_sequences = []  # List to store mutated sequences\n",
    "    amino_acids = \"ACDEFGHIKLMNPQRSTVWY\"  # Standard 20 amino acids\n",
    "\n",
    "    for i, original_aa in enumerate(seq_of_interest):  # Iterate over each amino acid\n",
    "        for new_aa in amino_acids:  # Try replacing with each amino acid\n",
    "            if new_aa != original_aa:  # Avoid replacing with itself\n",
    "                mutated_seq = seq_of_interest[:i] + new_aa + seq_of_interest[i+1:]\n",
    "                mutated_sequences.append(mutated_seq)\n",
    "\n",
    "    return mutated_sequences\n",
    "\n",
    "\n",
    "seq_of_interest = \"STIGVMVTASHNPEE\"\n",
    "mutated_sequences = generate_mutated_sequences(seq_of_interest)\n",
    "\n",
    "print(f\"Mutated sequences (# sequences = {len(mutated_sequences)})\")\n",
    "print(mutated_sequences)  # Shows mutations at each position\n",
    "\n",
    "        "
   ]
  },
  {
   "cell_type": "code",
   "execution_count": null,
   "metadata": {},
   "outputs": [],
   "source": [
    "import os\n",
    "os.makedirs(\"mutations2\", exist_ok=True)\n",
    "#creates a new folder called mutations2 to put the sequence predictions into"
   ]
  },
  {
   "cell_type": "code",
   "execution_count": null,
   "metadata": {},
   "outputs": [],
   "source": [
    "import kinase_library as kl\n",
    "import pandas as pd\n",
    "\n",
    "seq_of_interest = 'STIGVMVTASHNPEE'  \n",
    "amino_acids = \"ACDEFGHIKLMNPQRSTVWY\"\n",
    "mutated_sequences = []  \n",
    "wild_type_filename = f\"mutations2/wildtype2.csv\"\n",
    "\n",
    "\n",
    "# Predict kinase data for the wild-type sequence\n",
    "try:\n",
    "    wild_type_substrate = kl.Substrate(seq_of_interest)\n",
    "    wild_type_predictions = wild_type_substrate.predict()\n",
    "\n",
    "    # Save wild-type predictions to CSV\n",
    "    df_wild_type = pd.DataFrame(wild_type_predictions)\n",
    "    df_wild_type.to_csv(wild_type_filename, index=False)\n",
    "\n",
    "    print(f\"Wild-type sequence predictions saved to {wild_type_filename}\")\n",
    "\n",
    "except Exception as e:\n",
    "    print(f\"Error processing wild-type sequence: {e}\")\n",
    "\n",
    "for i, original_aa in enumerate(seq_of_interest):  \n",
    "    for new_aa in amino_acids:\n",
    "        if new_aa != original_aa:  \n",
    "                mutated_seq = seq_of_interest[:i] + new_aa + seq_of_interest[i+1:] \n",
    "                mutated_sequences.append((i, original_aa, new_aa, mutated_seq))  \n",
    "\n",
    "\n",
    "print(f\"Total mutations generated: {len(mutated_sequences)}\") \n",
    "\n",
    "for i, original_aa, new_aa, mutated_seq in mutated_sequences: \n",
    "    try:\n",
    "        s = kl.Substrate(mutated_seq)\n",
    "        predictions = s.predict()\n",
    "\n",
    "\n",
    "        df = pd.DataFrame(predictions)\n",
    "\n",
    "        # Save to CSV file with a structured name\n",
    "        filename = f\"mutations2/mutation_Pos{i}_{original_aa}_to_{new_aa}.csv\"\n",
    "        df.to_csv(filename, index=False)\n",
    "\n",
    "    except Exception as e:\n",
    "        print(f\"Skipping mutation at position {i} ({original_aa} → {new_aa}): {e}\")\n",
    "\n",
    "\n",
    "\n"
   ]
  },
  {
   "cell_type": "code",
   "execution_count": null,
   "metadata": {},
   "outputs": [],
   "source": [
    "import os\n",
    "import pandas as pd\n",
    "from difflib import SequenceMatcher\n",
    "\n",
    "\n",
    "mut_predictions = \"mutations2/\"\n",
    "\n",
    "wildtype_path = os.path.join(mut_predictions, \"wildtype2.csv\")\n",
    "\n",
    "df_wildtype = pd.read_csv(wildtype_path)\n",
    "\n",
    "wildtype_kinase_order = df_wildtype[\"Score Rank\"].tolist()  #extracts kinase orders from the reference sequence\n",
    "\n",
    "kinase_orders = {}\n",
    "\n",
    "#reads all files to extract the kinase orders (except wildtype as that's already been done)\n",
    "for file in os.listdir(mut_predictions):\n",
    "    if file.endswith(\".csv\") and file != \"wildtype.csv\":\n",
    "        file_path = os.path.join(mut_predictions, file)\n",
    "        try:\n",
    "            df = pd.read_csv(file_path)\n",
    "            \n",
    "            if \"Score Rank\" in df.columns:\n",
    "                kinase_orders[file] = df[\"Score Rank\"].tolist()  # Store kinase order\n",
    "            else:\n",
    "                print(f\"Skipping {file}: No 'Score Rank' column found.\") \n",
    "        \n",
    "        except Exception as e:\n",
    "            print(f\"Error reading {file}: {e}\")   #debugging steps\n",
    "\n",
    "print(f\"Extracted kinase orders from {len(kinase_orders)} mutation CSVs.\") \n",
    "\n",
    "# Function to compute Longest Common Subsequence (LCS)\n",
    "def longest_common_subsequence(seq1, seq2):\n",
    "    matcher = SequenceMatcher(None, seq1, seq2)\n",
    "    return sum(block.size for block in matcher.get_matching_blocks())\n",
    "\n",
    "#finds the LCS between wildtype and mut seqs\n",
    "lcs_scores = {}\n",
    "for file, order in kinase_orders.items():\n",
    "    lcs_length = longest_common_subsequence(order, wildtype_kinase_order)\n",
    "    lcs_scores[file] = lcs_length\n",
    "\n",
    "#normalizes LCS scores between 0 and 1\n",
    "if lcs_scores:\n",
    "    lcs_min = min(lcs_scores.values())\n",
    "    lcs_max = max(lcs_scores.values())\n",
    "\n",
    "    normalized_lcs = {file: (score - lcs_min) / (lcs_max - lcs_min) for file, score in lcs_scores.items()}\n",
    "\n",
    "   \n",
    "    df_lcs = pd.DataFrame(list(normalized_lcs.items()), columns=['Mutation_File', 'Normalized_LCS'])\n",
    "    \n",
    "    print(\"\\nNormalized LCS Scores:\")\n",
    "    print(df_lcs.sort_values(by=\"Normalized_LCS\", ascending=True))  # Sort by lowest LCS\n",
    "\n",
    "else:\n",
    "    print(\"No LCS scores calculated. Ensure kinase_orders contains data.\")\n"
   ]
  },
  {
   "cell_type": "code",
   "execution_count": null,
   "metadata": {},
   "outputs": [],
   "source": [
    "import os\n",
    "import pandas as pd\n",
    "import re\n",
    "import plotly.express as px\n",
    "import numpy as np\n",
    "\n",
    "lcs_data = []\n",
    "\n",
    "for file, normalized_score in normalized_lcs.items():\n",
    "    \n",
    "    match = re.match(r\"mutation_Pos(\\d+)_\\w+_to_(\\w+)\\.csv\", file)\n",
    "\n",
    "    if match:\n",
    "        position = int(match.group(1)) \n",
    "        mutated_aa = match.group(2)  \n",
    "\n",
    "        lcs_data.append([position, mutated_aa, normalized_score])\n",
    "\n",
    "\n",
    "df_lcs = pd.DataFrame(lcs_data, columns=['Position', 'Mutation', 'LCS_Ratio'])\n",
    "\n",
    "\n",
    "heatmap_matrix = df_lcs.pivot_table(index='Mutation', columns='Position', values='LCS_Ratio')\n",
    "\n",
    "\n",
    "fig = px.imshow(\n",
    "    heatmap_matrix,\n",
    "    labels={'x': 'Mutation Position', 'y': 'Mutated Amino Acid', 'color': 'LCS Ratio'},\n",
    "    color_continuous_scale='Temps',\n",
    "    title=\"Heatmap of LCS Ratios for Each Mutation\",\n",
    ")\n",
    "\n",
    "# Format axes\n",
    "fig.update_layout(\n",
    "    xaxis=dict(\n",
    "        tickmode='linear',\n",
    "        dtick=1  # Show every position\n",
    "    ),\n",
    "    yaxis=dict(\n",
    "        tickmode='linear',\n",
    "        dtick=1  # Show every position\n",
    "    ),\n",
    "    coloraxis_colorbar=dict(\n",
    "        tickvals=[0, 0.25, 0.5, 0.75, 1],  # Set scale from 0 to 1\n",
    "        ticktext=[\"0.0\", \"0.25\", \"0.5\", \"0.75\", \"1.0\"]\n",
    "    ),\n",
    "    plot_bgcolor='white'  \n",
    ")\n",
    "fig.show()\n",
    "\n",
    "\n",
    "\n",
    "\n"
   ]
  },
  {
   "cell_type": "code",
   "execution_count": null,
   "metadata": {},
   "outputs": [],
   "source": [
    "'Fully working function with User Prompts to synthesise a heatmap from a given UniProt ID and reference position'"
   ]
  },
  {
   "cell_type": "code",
   "execution_count": null,
   "metadata": {},
   "outputs": [],
   "source": [
    "import os\n",
    "import pandas as pd\n",
    "import re\n",
    "import plotly.express as px\n",
    "import numpy as np\n",
    "from difflib import SequenceMatcher\n",
    "import kinase_library as kl\n",
    "import requests \n",
    "\n",
    "# Function to extract genomic information from UniProt\n",
    "def extract_genomic_information_from_uniprot_id(uniprot_id, reference_position):\n",
    "    '''\n",
    "    Extracts genomic coordinates and metadata from UniProt, then retrieves a sequence segment\n",
    "    surrounding a specified reference position.\n",
    "    '''\n",
    "    genomic_information = pd.DataFrame()\n",
    "    try:\n",
    "        print(f'Searching for UniProt ID: {uniprot_id}')\n",
    "        requestURL_protein = f\"https://www.ebi.ac.uk/proteins/api/proteins/{uniprot_id}\"\n",
    "        response_protein = requests.get(requestURL_protein, headers={\"Accept\": \"application/json\"})\n",
    "        \n",
    "        # Check if the request was successful\n",
    "        response_protein.raise_for_status()\n",
    "        \n",
    "        # Load JSON response\n",
    "        response_protein = response_protein.json()\n",
    "        \n",
    "        # Extract protein sequence\n",
    "        protein_sequence = response_protein.get(\"sequence\", {}).get(\"sequence\", \"\")\n",
    "        \n",
    "        if not protein_sequence:\n",
    "            print(f\"No sequence found for UniProt ID: {uniprot_id}\")\n",
    "            return None\n",
    "        \n",
    "        # Subtract 1 from the reference position to match indexing (UniProt API is 1-based, so this handles it)\n",
    "        reference_position -= 1  # Convert to 0-based index for Python\n",
    "        \n",
    "        # Extract 7 amino acids upstream and downstream\n",
    "        start = max(0, reference_position - 7)  # Ensure start is not negative\n",
    "        end = min(len(protein_sequence), reference_position + 8)  # Ensure end is within bounds\n",
    "        extracted_sequence = protein_sequence[start:end]\n",
    "\n",
    "        # Get genomic metadata\n",
    "        genomic_information = {\n",
    "            \"UniProt_ID\": uniprot_id,\n",
    "            \"Protein_Name\": response_protein.get(\"protein\", {}).get(\"recommendedName\", {}).get(\"fullName\", \"\"),\n",
    "            \"TaxID\": response_protein.get(\"organism\", {}).get(\"taxid\", \"\"),\n",
    "            \"Sequence_Length\": len(protein_sequence),\n",
    "            \"Reference_Position\": reference_position + 1,  # Return to 1-based indexing for user\n",
    "            \"Extracted_Sequence\": extracted_sequence\n",
    "        }\n",
    "\n",
    "        return genomic_information\n",
    "\n",
    "    except Exception as e:\n",
    "        print(f\"An error occurred: {e}\")\n",
    "        return None\n",
    "\n",
    "# Function to generate all mutated sequences\n",
    "def generate_mutated_sequences(seq_of_interest):\n",
    "    \"\"\"\n",
    "    Generates all possible single-point mutations for a given amino acid sequence.\n",
    "\n",
    "    Args:\n",
    "        seq_of_interest (str): The original amino acid sequence.\n",
    "\n",
    "    Returns:\n",
    "        list: A list containing all possible mutated sequences.\n",
    "    \"\"\"\n",
    "    mutated_sequences = []  # List to store mutated sequences\n",
    "    amino_acids = \"ACDEFGHIKLMNPQRSTVWY\"  # Standard 20 amino acids\n",
    "\n",
    "    for i, original_aa in enumerate(seq_of_interest):  # Iterate over each amino acid\n",
    "        for new_aa in amino_acids:  # Try replacing with each amino acid\n",
    "            if new_aa != original_aa:  # Avoid replacing with itself\n",
    "                mutated_seq = seq_of_interest[:i] + new_aa + seq_of_interest[i+1:]\n",
    "                mutated_sequences.append((i, original_aa, new_aa, mutated_seq))\n",
    "\n",
    "    return mutated_sequences\n",
    "\n",
    "# User input for UniProt ID and reference position\n",
    "uniprot_id = input(\"Enter the UniProt ID: \")\n",
    "reference_position = int(input(\"Enter the reference position: \"))\n",
    "\n",
    "# Extract sequence and genomic data\n",
    "result = extract_genomic_information_from_uniprot_id(uniprot_id, reference_position)\n",
    "\n",
    "if result:\n",
    "    print(f\"Extracted Sequence: {result['Extracted_Sequence']}\")  # Output the extracted sequence\n",
    "\n",
    "    # Mutate the sequence of interest\n",
    "    mutated_sequences = generate_mutated_sequences(result['Extracted_Sequence'])\n",
    "\n",
    "    print(f\"Mutated sequences (# sequences = {len(mutated_sequences)})\")\n",
    "    print(mutated_sequences)  # Shows mutations at each position\n",
    "\n",
    "    # Set up directory for mutation results\n",
    "    os.makedirs(\"mutations2\", exist_ok=True)\n",
    "\n",
    "    # Wild-type predictions\n",
    "    try:\n",
    "        wild_type_substrate = kl.Substrate(result['Extracted_Sequence'])\n",
    "        wild_type_predictions = wild_type_substrate.predict()\n",
    "\n",
    "        wild_type_filename = f\"mutations2/wildtype2.csv\"\n",
    "        df_wild_type = pd.DataFrame(wild_type_predictions)\n",
    "        df_wild_type.to_csv(wild_type_filename, index=False)\n",
    "\n",
    "        print(f\"Wild-type sequence predictions saved to {wild_type_filename}\")\n",
    "\n",
    "    except Exception as e:\n",
    "        print(f\"Error processing wild-type sequence: {e}\")\n",
    "\n",
    "    # Predicting mutated sequences and saving\n",
    "    for i, original_aa, new_aa, mutated_seq in mutated_sequences:  \n",
    "        try:\n",
    "            s = kl.Substrate(mutated_seq)\n",
    "            predictions = s.predict()\n",
    "\n",
    "            df = pd.DataFrame(predictions)\n",
    "\n",
    "            # Save to CSV file with a structured name (corrected format)\n",
    "            filename = f\"mutations2/mutation_Pos{i+1}_{original_aa}_to_{new_aa}.csv\"  # Corrected nomenclature\n",
    "            df.to_csv(filename, index=False)\n",
    "\n",
    "        except Exception as e:\n",
    "            print(f\"Skipping mutation at position {i+1} ({original_aa} → {new_aa}): {e}\")\n",
    "\n",
    "    # Extract kinase orders from wild-type\n",
    "    wildtype_path = os.path.join(\"mutations2\", \"wildtype2.csv\")\n",
    "    df_wildtype = pd.read_csv(wildtype_path)\n",
    "    wildtype_kinase_order = df_wildtype[\"Score Rank\"].tolist()\n",
    "\n",
    "    kinase_orders = {}\n",
    "    for file in os.listdir(\"mutations2\"):\n",
    "        if file.endswith(\".csv\") and file != \"wildtype2.csv\":\n",
    "            file_path = os.path.join(\"mutations2\", file)\n",
    "            try:\n",
    "                df = pd.read_csv(file_path)\n",
    "\n",
    "                if \"Score Rank\" in df.columns:\n",
    "                    kinase_orders[file] = df[\"Score Rank\"].tolist()\n",
    "                else:\n",
    "                    print(f\"Skipping {file}: No 'Score Rank' column found.\")\n",
    "            except Exception as e:\n",
    "                print(f\"Error reading {file}: {e}\")\n",
    "\n",
    "    print(f\"Extracted kinase orders from {len(kinase_orders)} mutation CSVs.\")\n",
    "\n",
    "    # Function to compute Longest Common Subsequence (LCS)\n",
    "    def longest_common_subsequence(seq1, seq2):\n",
    "        matcher = SequenceMatcher(None, seq1, seq2)\n",
    "        return sum(block.size for block in matcher.get_matching_blocks())\n",
    "\n",
    "    # Find LCS between wildtype and mutated sequences\n",
    "    lcs_scores = {}\n",
    "    for file, order in kinase_orders.items():\n",
    "        lcs_length = longest_common_subsequence(order, wildtype_kinase_order)\n",
    "        lcs_scores[file] = lcs_length\n",
    "\n",
    "    # Normalize LCS scores\n",
    "    if lcs_scores:\n",
    "        normalized_lcs = {file: (score - 1) / (310 - 1) for file, score in lcs_scores.items()}\n",
    "\n",
    "\n",
    "        df_lcs = pd.DataFrame(list(normalized_lcs.items()), columns=['Mutation_File', 'Normalized_LCS'])\n",
    "\n",
    "        print(\"\\nNormalized LCS Scores:\")\n",
    "        print(df_lcs.sort_values(by=\"Normalized_LCS\", ascending=True))\n",
    "\n",
    "    # Prepare heatmap of LCS ratios\n",
    "    lcs_data = []\n",
    "    for file, normalized_score in normalized_lcs.items():\n",
    "        match = re.match(r\"mutation_Pos(\\d+)_\\w+_to_(\\w+)\\.csv\", file)\n",
    "\n",
    "        if match:\n",
    "            position = int(match.group(1))  \n",
    "\n",
    "\n",
    "            mutated_aa = match.group(2)\n",
    "\n",
    "            lcs_data.append([position, mutated_aa, normalized_score])\n",
    "\n",
    "    df_lcs = pd.DataFrame(lcs_data, columns=['Position', 'Mutation', 'LCS_Ratio'])\n",
    "\n",
    "    # Create heatmap matrix\n",
    "    heatmap_matrix = df_lcs.pivot_table(index='Mutation', columns='Position', values='LCS_Ratio', aggfunc=np.mean)\n",
    "\n",
    "    # Generate heatmap with Plotly\n",
    "    fig = px.imshow(\n",
    "        heatmap_matrix,\n",
    "        labels={'x': 'Mutation Position', 'y': 'Mutated Amino Acid', 'color': 'LCS Ratio'},\n",
    "        color_continuous_scale='Temps',\n",
    "        title=\"Heatmap of LCS Ratios for Each Mutation\",\n",
    "    )\n",
    "\n",
    "    # Create a mapping for the positions\n",
    "position_labels = list(range(-7, 8))  # This creates the range from -7 to +7\n",
    "\n",
    "# Adjust xaxis tickvals and ticktext\n",
    "fig.update_layout(\n",
    "    xaxis=dict(\n",
    "        tickmode='array', \n",
    "        tickvals=list(range(1, 16)),  # Use 1 to 15 for the actual mutation positions\n",
    "        ticktext=position_labels  # Use the custom tick labels (-7 to +7)\n",
    "    ),\n",
    "    yaxis=dict(\n",
    "        tickmode='linear',\n",
    "        dtick=1  # Show every position (for y-axis if needed)\n",
    "    ),\n",
    "    coloraxis_colorbar=dict(\n",
    "        tickvals=[0, 0.25, 0.5, 0.75, 1],  # Color bar ticks from 0 to 1\n",
    "        ticktext=[\"0.0\", \"0.25\", \"0.5\", \"0.75\", \"1.0\"],\n",
    "        tickmode='array',  # Ensure it's using the array for ticks\n",
    "        title=\"LCS Ratio\",  # Optional: add a title for the color bar\n",
    "        tickangle=0  # Keep tick labels horizontal\n",
    "    ),\n",
    "    plot_bgcolor='white'  # Background color (optional)\n",
    ")\n",
    "\n",
    "# Show the plot\n",
    "fig.show()\n",
    "\n"
   ]
  },
  {
   "cell_type": "code",
   "execution_count": null,
   "metadata": {},
   "outputs": [],
   "source": [
    "'Split the code into functional blocks to facilitate ease of running and storytelling'"
   ]
  },
  {
   "cell_type": "code",
   "execution_count": null,
   "metadata": {},
   "outputs": [],
   "source": [
    "import os\n",
    "import pandas as pd\n",
    "import re\n",
    "import plotly.express as px\n",
    "import numpy as np\n",
    "from difflib import SequenceMatcher\n",
    "import kinase_library as kl\n",
    "import requests \n",
    "\n",
    "# Function to extract genomic information from UniProt\n",
    "def extract_genomic_information_from_uniprot_id(uniprot_id, reference_position):\n",
    "    '''\n",
    "    Extracts genomic coordinates and metadata from UniProt, then retrieves a sequence segment\n",
    "    surrounding a specified reference position.\n",
    "    '''\n",
    "    genomic_information = pd.DataFrame()\n",
    "    try:\n",
    "        print(f'Searching for UniProt ID: {uniprot_id}')\n",
    "        requestURL_protein = f\"https://www.ebi.ac.uk/proteins/api/proteins/{uniprot_id}\"\n",
    "        response_protein = requests.get(requestURL_protein, headers={\"Accept\": \"application/json\"})\n",
    "        \n",
    "        # Check if the request was successful\n",
    "        response_protein.raise_for_status()\n",
    "        \n",
    "        # Load JSON response\n",
    "        response_protein = response_protein.json()\n",
    "        \n",
    "        # Extract protein sequence\n",
    "        protein_sequence = response_protein.get(\"sequence\", {}).get(\"sequence\", \"\")\n",
    "        \n",
    "        if not protein_sequence:\n",
    "            print(f\"No sequence found for UniProt ID: {uniprot_id}\")\n",
    "            return None\n",
    "        \n",
    "        # Subtract 1 from the reference position to match indexing (UniProt API is 1-based, so this handles it)\n",
    "        reference_position -= 1  # Convert to 0-based index for Python\n",
    "        \n",
    "        # Extract 7 amino acids upstream and downstream\n",
    "        start = max(0, reference_position - 7)  # Ensure start is not negative\n",
    "        end = min(len(protein_sequence), reference_position + 8)  # Ensure end is within bounds\n",
    "        extracted_sequence = protein_sequence[start:end]\n",
    "\n",
    "        # Get genomic metadata\n",
    "        genomic_information = {\n",
    "            \"UniProt_ID\": uniprot_id,\n",
    "            \"Protein_Name\": response_protein.get(\"protein\", {}).get(\"recommendedName\", {}).get(\"fullName\", \"\"),\n",
    "            \"TaxID\": response_protein.get(\"organism\", {}).get(\"taxid\", \"\"),\n",
    "            \"Sequence_Length\": len(protein_sequence),\n",
    "            \"Reference_Position\": reference_position + 1,  # Return to 1-based indexing for user\n",
    "            \"Extracted_Sequence\": extracted_sequence\n",
    "        }\n",
    "\n",
    "        return genomic_information\n",
    "\n",
    "    except Exception as e:\n",
    "        print(f\"An error occurred: {e}\")\n",
    "        return None\n",
    "\n",
    "# Function to generate all mutated sequences\n",
    "def generate_mutated_sequences(seq_of_interest):\n",
    "    \"\"\"\n",
    "    Generates all possible single-point mutations for a given amino acid sequence.\n",
    "\n",
    "    Args:\n",
    "        seq_of_interest (str): The original amino acid sequence.\n",
    "\n",
    "    Returns:\n",
    "        list: A list containing all possible mutated sequences.\n",
    "    \"\"\"\n",
    "    mutated_sequences = []  # List to store mutated sequences\n",
    "    amino_acids = \"ACDEFGHIKLMNPQRSTVWY\"  # Standard 20 amino acids\n",
    "\n",
    "    for i, original_aa in enumerate(seq_of_interest):  # Iterate over each amino acid\n",
    "        for new_aa in amino_acids:  # Try replacing with each amino acid\n",
    "            if new_aa != original_aa:  # Avoid replacing with itself\n",
    "                mutated_seq = seq_of_interest[:i] + new_aa + seq_of_interest[i+1:]\n",
    "                mutated_sequences.append((i, original_aa, new_aa, mutated_seq))\n",
    "\n",
    "    return mutated_sequences\n",
    "\n",
    "# Function to save wild-type predictions\n",
    "def save_wildtype_predictions(uniprot_id, reference_position, extracted_sequence):\n",
    "    try:\n",
    "        wild_type_substrate = kl.Substrate(extracted_sequence)\n",
    "        wild_type_predictions = wild_type_substrate.predict()\n",
    "\n",
    "        wild_type_filename = f\"mutations2/{uniprot_id}_{reference_position}_wildtype.csv\"\n",
    "        df_wild_type = pd.DataFrame(wild_type_predictions)\n",
    "        df_wild_type.to_csv(wild_type_filename, index=False)\n",
    "\n",
    "        print(f\"Wild-type sequence predictions saved to {wild_type_filename}\")\n",
    "\n",
    "    except Exception as e:\n",
    "        print(f\"Error processing wild-type sequence: {e}\")\n",
    "\n",
    "# Function to save mutated sequences\n",
    "def save_mutated_predictions(mutated_sequences, uniprot_id, reference_position):\n",
    "    for i, original_aa, new_aa, mutated_seq in mutated_sequences:\n",
    "        try:\n",
    "            s = kl.Substrate(mutated_seq)\n",
    "            predictions = s.predict()\n",
    "\n",
    "            df = pd.DataFrame(predictions)\n",
    "\n",
    "            # Save to CSV file with the updated naming convention\n",
    "            filename = f\"mutations2/{uniprot_id}_{reference_position}_mutation_pos{i+1}_{original_aa}_to_{new_aa}.csv\"\n",
    "            df.to_csv(filename, index=False)\n",
    "\n",
    "        except Exception as e:\n",
    "            print(f\"Skipping mutation at position {i+1} ({original_aa} → {new_aa}): {e}\")\n",
    "\n",
    "# Function to extract kinase orders from CSV files\n",
    "def extract_kinase_orders():\n",
    "    kinase_orders = {}\n",
    "    for file in os.listdir(\"mutations2\"):\n",
    "        if file.endswith(\".csv\") and \"wildtype\" not in file:\n",
    "            file_path = os.path.join(\"mutations2\", file)\n",
    "            try:\n",
    "                df = pd.read_csv(file_path)\n",
    "\n",
    "                if \"Score Rank\" in df.columns:\n",
    "                    kinase_orders[file] = df[\"Score Rank\"].tolist()\n",
    "                else:\n",
    "                    print(f\"Skipping {file}: No 'Score Rank' column found.\")\n",
    "            except Exception as e:\n",
    "                print(f\"Error reading {file}: {e}\")\n",
    "\n",
    "    return kinase_orders\n",
    "\n",
    "# Function to compute Longest Common Subsequence (LCS)\n",
    "def longest_common_subsequence(seq1, seq2):\n",
    "    matcher = SequenceMatcher(None, seq1, seq2)\n",
    "    return sum(block.size for block in matcher.get_matching_blocks())\n",
    "\n",
    "# Function to normalize LCS scores\n",
    "def normalize_lcs_scores(lcs_scores):\n",
    "    return {file: (score - 1) / (310 - 1) for file, score in lcs_scores.items()}\n",
    "\n",
    "# Function to process LCS data for heatmap and save it\n",
    "def process_lcs_for_heatmap(normalized_lcs, uniprot_id):\n",
    "    lcs_data = []\n",
    "    for file, normalized_score in normalized_lcs.items():\n",
    "        match = re.match(r\"mutation_Pos(\\d+)_\\w+_to_(\\w+)\\.csv\", file)\n",
    "\n",
    "        if match:\n",
    "            position = int(match.group(1))  # Get mutation position\n",
    "            mutated_aa = match.group(2)  # Get mutated amino acid\n",
    "\n",
    "            lcs_data.append([position, mutated_aa, normalized_score])\n",
    "\n",
    "    df_lcs = pd.DataFrame(lcs_data, columns=['Position', 'Mutation', 'LCS_Ratio'])\n",
    "\n",
    "    # Save LCS data for later use\n",
    "    heatmap_filename = f\"mutations2/{uniprot_id}_heatmap_data.csv\"\n",
    "    df_lcs.to_csv(heatmap_filename, index=False)\n",
    "    print(f\"LCS data saved to {heatmap_filename}\")\n",
    "\n",
    "# Function to render heatmap from processed data\n",
    "def render_heatmap_from_data(heatmap_data):\n",
    "    # Generate heatmap matrix\n",
    "    heatmap_matrix = heatmap_data.pivot_table(index='Mutation', columns='Position', values='LCS_Ratio', aggfunc=np.mean)\n",
    "\n",
    "    # Generate heatmap with Plotly\n",
    "    fig = px.imshow(\n",
    "        heatmap_matrix,\n",
    "        labels={'x': 'Mutation Position', 'y': 'Mutated Amino Acid', 'color': 'LCS Ratio'},\n",
    "        color_continuous_scale='Temps',\n",
    "        title=\"Heatmap of LCS Ratios for Each Mutation\",\n",
    "    )\n",
    "\n",
    "    position_labels = list(range(-7, 8))  # This creates the range from -7 to +7\n",
    "\n",
    "    fig.update_layout(\n",
    "        xaxis=dict(\n",
    "            tickmode='array', \n",
    "            tickvals=list(range(1, 16)),  # Use 1 to 15 for the actual mutation positions\n",
    "            ticktext=position_labels  # Use the custom tick labels (-7 to +7)\n",
    "        ),\n",
    "        yaxis=dict(\n",
    "            tickmode='linear',\n",
    "            dtick=1  # Show every position (for y-axis if needed)\n",
    "        ),\n",
    "        coloraxis_colorbar=dict(\n",
    "            tickvals=[\"0, 0.25, 0.5, 0.75, 1\"],  # Color bar ticks from 0 to 1\n",
    "            ticktext=[\"0.0\", \"0.25\", \"0.5\", \"0.75\", \"1.0\"],\n",
    "            tickmode='array',  # Ensure it's using the array for ticks\n",
    "            title=\"LCS Ratio\",  # Optional: add a title for the color bar\n",
    "            tickangle=0  # Keep tick labels horizontal\n",
    "        ),\n",
    "        plot_bgcolor='white'  # Background color \n",
    "    )\n",
    "\n",
    "    # Show the plot\n",
    "    fig.show()\n",
    "\n",
    "def run_pipeline():\n",
    "    # User input for UniProt ID and reference position\n",
    "    uniprot_id = input(\"Enter the UniProt ID: \")\n",
    "    reference_position = int(input(\"Enter the reference position: \"))\n",
    "\n",
    "    # Extract sequence and genomic data\n",
    "    result = extract_genomic_information_from_uniprot_id(uniprot_id, reference_position)\n",
    "\n",
    "    if result:\n",
    "        print(f\"Extracted Sequence: {result['Extracted_Sequence']}\")  # Output the extracted sequence\n",
    "\n",
    "        # Mutate the sequence of interest\n",
    "        mutated_sequences = generate_mutated_sequences(result['Extracted_Sequence'])\n",
    "\n",
    "        print(f\"Mutated sequences (# sequences = {len(mutated_sequences)})\")\n",
    "        print(mutated_sequences)  # Shows mutations at each position\n",
    "\n",
    "        # Save wild-type predictions\n",
    "        save_wildtype_predictions(uniprot_id, reference_position, result['Extracted_Sequence'])\n",
    "\n",
    "        # Save mutated sequence predictions\n",
    "        save_mutated_predictions(mutated_sequences, uniprot_id, reference_position)\n",
    "\n",
    "        # Extract kinase orders from mutated CSV files\n",
    "        kinase_orders = extract_kinase_orders()\n",
    "\n",
    "        # Extract kinase order from wildtype\n",
    "        wildtype_path = f\"mutations2/{uniprot_id}_{reference_position}_wildtype.csv\"\n",
    "        df_wildtype = pd.read_csv(wildtype_path)\n",
    "        wildtype_kinase_order = df_wildtype[\"Score Rank\"].tolist()\n",
    "\n",
    "        # Compute LCS scores between wildtype and mutated sequences\n",
    "        lcs_scores = {}\n",
    "        for file, order in kinase_orders.items():\n",
    "            lcs_length = longest_common_subsequence(order, wildtype_kinase_order)\n",
    "            lcs_scores[file] = lcs_length\n",
    "\n",
    "        # Normalize LCS scores\n",
    "        normalized_lcs = normalize_lcs_scores(lcs_scores)\n",
    "\n",
    "        # Process the LCS data for heatmap and save it to a file\n",
    "        process_lcs_for_heatmap(normalized_lcs, uniprot_id)\n",
    "\n",
    "        # Now, load the processed LCS data for rendering the heatmap\n",
    "        heatmap_data = pd.read_csv(f\"mutations2/{uniprot_id}_heatmap_data.csv\")\n",
    "\n",
    "        # Render the heatmap using the processed data\n",
    "        render_heatmap_from_data(heatmap_data)\n",
    "\n",
    "if __name__ == \"__main__\":\n",
    "    run_pipeline()\n"
   ]
  },
  {
   "cell_type": "code",
   "execution_count": null,
   "metadata": {},
   "outputs": [],
   "source": [
    "'Losing kinase names when saving predictions'\n",
    "'Regex does not extract mutations and positions correctly'\n",
    "##Debugging##"
   ]
  },
  {
   "cell_type": "code",
   "execution_count": null,
   "metadata": {},
   "outputs": [],
   "source": [
    "import os\n",
    "import pandas as pd\n",
    "import re\n",
    "import plotly.express as px\n",
    "import numpy as np\n",
    "from difflib import SequenceMatcher\n",
    "import kinase_library as kl\n",
    "import requests \n",
    "\n",
    "# Function to extract genomic information from UniProt\n",
    "def extract_genomic_information_from_uniprot_id(uniprot_id, reference_position):\n",
    "    '''\n",
    "    Extracts genomic coordinates and metadata from UniProt, then retrieves a sequence segment\n",
    "    surrounding a specified reference position.\n",
    "    '''\n",
    "    try:\n",
    "        print(f'Searching for UniProt ID: {uniprot_id}')\n",
    "        requestURL_protein = f\"https://www.ebi.ac.uk/proteins/api/proteins/{uniprot_id}\"\n",
    "        response_protein = requests.get(requestURL_protein, headers={\"Accept\": \"application/json\"})\n",
    "        \n",
    "        # Check if the request was successful\n",
    "        response_protein.raise_for_status()\n",
    "        \n",
    "        # Load JSON response\n",
    "        response_protein = response_protein.json()\n",
    "        \n",
    "        # Extract protein sequence\n",
    "        protein_sequence = response_protein.get(\"sequence\", {}).get(\"sequence\", \"\")\n",
    "        \n",
    "        if not protein_sequence:\n",
    "            print(f\"No sequence found for UniProt ID: {uniprot_id}\")\n",
    "            return None\n",
    "        \n",
    "        reference_position -= 1  # Convert to 0-based index for Python\n",
    "        \n",
    "        start = max(0, reference_position - 7)\n",
    "        end = min(len(protein_sequence), reference_position + 8)\n",
    "        extracted_sequence = protein_sequence[start:end]\n",
    "\n",
    "        genomic_information = {\n",
    "            \"UniProt_ID\": uniprot_id,\n",
    "            \"Protein_Name\": response_protein.get(\"protein\", {}).get(\"recommendedName\", {}).get(\"fullName\", \"\"),\n",
    "            \"TaxID\": response_protein.get(\"organism\", {}).get(\"taxid\", \"\"),\n",
    "            \"Sequence_Length\": len(protein_sequence),\n",
    "            \"Reference_Position\": reference_position + 1,\n",
    "            \"Extracted_Sequence\": extracted_sequence\n",
    "        }\n",
    "\n",
    "        return genomic_information\n",
    "\n",
    "    except Exception as e:\n",
    "        print(f\"An error occurred: {e}\")\n",
    "        return None\n",
    "\n",
    "# Function to generate all mutated sequences\n",
    "def generate_mutated_sequences(seq_of_interest):\n",
    "    mutated_sequences = []\n",
    "    amino_acids = \"ACDEFGHIKLMNPQRSTVWY\"\n",
    "\n",
    "    for i, original_aa in enumerate(seq_of_interest):\n",
    "        for new_aa in amino_acids:\n",
    "            if new_aa != original_aa:\n",
    "                mutated_seq = seq_of_interest[:i] + new_aa + seq_of_interest[i+1:]\n",
    "                mutated_sequences.append((i, original_aa, new_aa, mutated_seq))\n",
    "\n",
    "    return mutated_sequences\n",
    "\n",
    "# Function to save wild-type predictions\n",
    "def save_wildtype_predictions(uniprot_id, reference_position, extracted_sequence):\n",
    "    try:\n",
    "        wild_type_substrate = kl.Substrate(extracted_sequence)\n",
    "        wild_type_predictions = wild_type_substrate.predict()\n",
    "\n",
    "        wild_type_filename = f\"mutations2/{uniprot_id}_{reference_position}_wildtype.csv\"\n",
    "        df_wild_type = pd.DataFrame(wild_type_predictions).reset_index()\n",
    "        df_wild_type.to_csv(wild_type_filename, index=False)\n",
    "\n",
    "        print(f\"Wild-type sequence predictions saved to {wild_type_filename}\")\n",
    "\n",
    "    except Exception as e:\n",
    "        print(f\"Error processing wild-type sequence: {e}\")\n",
    "\n",
    "# Function to save mutated sequences\n",
    "def save_mutated_predictions(mutated_sequences, uniprot_id, reference_position):\n",
    "    for i, original_aa, new_aa, mutated_seq in mutated_sequences:\n",
    "        try:\n",
    "            s = kl.Substrate(mutated_seq)\n",
    "            predictions = s.predict()\n",
    "\n",
    "            df = pd.DataFrame(predictions).reset_index()\n",
    "\n",
    "            filename = f\"mutations2/{uniprot_id}_{reference_position}_mutation_pos{i+1}_{original_aa}_to_{new_aa}.csv\"\n",
    "            df.to_csv(filename, index=False)\n",
    "\n",
    "        except Exception as e:\n",
    "            print(f\"Skipping mutation at position {i+1} ({original_aa} → {new_aa}): {e}\")\n",
    "\n",
    "# Function to extract kinase orders from CSV files\n",
    "def extract_kinase_orders():\n",
    "    kinase_orders = {}\n",
    "    for file in os.listdir(\"mutations2\"):\n",
    "        if file.endswith(\".csv\") and \"wildtype\" not in file:\n",
    "            file_path = os.path.join(\"mutations2\", file)\n",
    "            try:\n",
    "                df = pd.read_csv(file_path)\n",
    "\n",
    "                if \"index\" in df.columns:\n",
    "                    kinase_orders[file] = df[\"index\"].tolist()\n",
    "                else:\n",
    "                    print(f\"Skipping {file}: No 'index' column found.\")\n",
    "            except Exception as e:\n",
    "                print(f\"Error reading {file}: {e}\")\n",
    "\n",
    "    return kinase_orders\n",
    "\n",
    "# Function to compute Longest Common Subsequence (LCS)\n",
    "def longest_common_subsequence(seq1, seq2):\n",
    "    matcher = SequenceMatcher(None, seq1, seq2)\n",
    "    return sum(block.size for block in matcher.get_matching_blocks())\n",
    "\n",
    "# Function to normalize LCS scores\n",
    "def normalize_lcs_scores(lcs_scores):\n",
    "    return {file: (score - 1) / (310 - 1) for file, score in lcs_scores.items()}\n",
    "\n",
    "# Function to process LCS data for heatmap and save it\n",
    "def process_lcs_for_heatmap(normalized_lcs, uniprot_id, reference_position):\n",
    "    lcs_data = []\n",
    "    for file, normalized_score in normalized_lcs.items():\n",
    "        match = re.match(rf\"{uniprot_id}_{reference_position}_mutation_pos(\\d+)_(\\w+)_to_(\\w+)\\.csv\", file)\n",
    "\n",
    "        if match:\n",
    "            position = int(match.group(1))\n",
    "            mutated_aa = match.group(3)\n",
    "\n",
    "            lcs_data.append([position, mutated_aa, normalized_score])\n",
    "\n",
    "    df_lcs = pd.DataFrame(lcs_data, columns=['Position', 'Mutation', 'LCS_Ratio'])\n",
    "\n",
    "    heatmap_filename = f\"mutations2/{uniprot_id}_{reference_position}_heatmap_data.csv\"\n",
    "    df_lcs.to_csv(heatmap_filename, index=False)\n",
    "    print(f\"LCS data saved to {heatmap_filename}\")\n",
    "\n",
    "# Function to render heatmap from processed data\n",
    "def render_heatmap_from_data(heatmap_data):\n",
    "    heatmap_matrix = heatmap_data.pivot_table(index='Mutation', columns='Position', values='LCS_Ratio', aggfunc=np.mean)\n",
    "\n",
    "    fig = px.imshow(\n",
    "        heatmap_matrix,\n",
    "        labels={'x': 'Mutation Position', 'y': 'Mutated Amino Acid', 'color': 'LCS Ratio'},\n",
    "        color_continuous_scale='Temps',\n",
    "        title=\"Heatmap of LCS Ratios for Each Mutation\",\n",
    "    )\n",
    "\n",
    "    position_labels = list(range(-7, 8))\n",
    "\n",
    "    fig.update_layout(\n",
    "        xaxis=dict(tickmode='array', tickvals=list(range(1, 16)), ticktext=position_labels),\n",
    "        yaxis=dict(tickmode='linear', dtick=1),\n",
    "        coloraxis_colorbar=dict(\n",
    "            tickvals=[0, 0.25, 0.5, 0.75, 1],\n",
    "            ticktext=[\"0.0\", \"0.25\", \"0.5\", \"0.75\", \"1.0\"],\n",
    "            tickmode='array',\n",
    "            title=\"LCS Ratio\",\n",
    "            tickangle=0\n",
    "        ),\n",
    "        plot_bgcolor='white'\n",
    "    )\n",
    "\n",
    "    fig.show()\n",
    "\n",
    "# Main pipeline function\n",
    "def run_pipeline():\n",
    "    uniprot_id = input(\"Enter the UniProt ID: \")\n",
    "    reference_position = int(input(\"Enter the reference position: \"))\n",
    "\n",
    "    result = extract_genomic_information_from_uniprot_id(uniprot_id, reference_position)\n",
    "\n",
    "    if result:\n",
    "        mutated_sequences = generate_mutated_sequences(result['Extracted_Sequence'])\n",
    "\n",
    "        save_wildtype_predictions(uniprot_id, reference_position, result['Extracted_Sequence'])\n",
    "        save_mutated_predictions(mutated_sequences, uniprot_id, reference_position)\n",
    "\n",
    "        kinase_orders = extract_kinase_orders()\n",
    "\n",
    "        wildtype_path = f\"mutations2/{uniprot_id}_{reference_position}_wildtype.csv\"\n",
    "        df_wildtype = pd.read_csv(wildtype_path)\n",
    "\n",
    "        if \"index\" not in df_wildtype.columns:\n",
    "            print(f\"Error: 'index' column not found in {wildtype_path}\")\n",
    "            return\n",
    "\n",
    "        wildtype_kinase_order = df_wildtype[\"index\"].tolist()\n",
    "\n",
    "        lcs_scores = {file: longest_common_subsequence(order, wildtype_kinase_order) for file, order in kinase_orders.items()}\n",
    "        normalized_lcs = normalize_lcs_scores(lcs_scores)\n",
    "\n",
    "        process_lcs_for_heatmap(normalized_lcs, uniprot_id, reference_position)\n",
    "        render_heatmap_from_data(pd.read_csv(f\"mutations2/{uniprot_id}_{reference_position}_heatmap_data.csv\"))\n",
    "\n",
    "if __name__ == \"__main__\":\n",
    "    run_pipeline()\n"
   ]
  },
  {
   "cell_type": "code",
   "execution_count": null,
   "metadata": {},
   "outputs": [],
   "source": [
    "'Modified for batch input of UniProt ID and Reference Position from Excel File'\n",
    "#Excel file should be named 'input.xlsx' and saved in same directory as the repository\n",
    "#Column headers MUST be 'uniprot_ID' and 'amino_acid_position' (case-sensitive)"
   ]
  },
  {
   "cell_type": "code",
   "execution_count": null,
   "metadata": {},
   "outputs": [],
   "source": [
    "import os\n",
    "import pandas as pd\n",
    "import re\n",
    "import plotly.express as px\n",
    "import numpy as np\n",
    "from difflib import SequenceMatcher\n",
    "import kinase_library as kl\n",
    "import requests \n",
    "\n",
    "# Function to extract genomic information from UniProt\n",
    "def extract_genomic_information_from_uniprot_id(uniprot_id, reference_position):\n",
    "    try:\n",
    "        print(f'Searching for UniProt ID: {uniprot_id}')\n",
    "        requestURL_protein = f\"https://www.ebi.ac.uk/proteins/api/proteins/{uniprot_id}\"\n",
    "        response_protein = requests.get(requestURL_protein, headers={\"Accept\": \"application/json\"})\n",
    "        response_protein.raise_for_status()\n",
    "        response_protein = response_protein.json()\n",
    "\n",
    "        protein_sequence = response_protein.get(\"sequence\", {}).get(\"sequence\", \"\")\n",
    "        if not protein_sequence:\n",
    "            print(f\"No sequence found for UniProt ID: {uniprot_id}\")\n",
    "            return None\n",
    "\n",
    "        reference_position -= 1  # Convert to 0-based index for Python\n",
    "        start = max(0, reference_position - 7)\n",
    "        end = min(len(protein_sequence), reference_position + 8)\n",
    "        extracted_sequence = protein_sequence[start:end]\n",
    "\n",
    "        return {\n",
    "            \"UniProt_ID\": uniprot_id,\n",
    "            \"Protein_Name\": response_protein.get(\"protein\", {}).get(\"recommendedName\", {}).get(\"fullName\", \"\"),\n",
    "            \"TaxID\": response_protein.get(\"organism\", {}).get(\"taxid\", \"\"),\n",
    "            \"Sequence_Length\": len(protein_sequence),\n",
    "            \"Reference_Position\": reference_position + 1,\n",
    "            \"Extracted_Sequence\": extracted_sequence\n",
    "        }\n",
    "\n",
    "    except Exception as e:\n",
    "        print(f\"An error occurred: {e}\")\n",
    "        return None\n",
    "\n",
    "# Function to generate all mutated sequences\n",
    "def generate_mutated_sequences(seq_of_interest):\n",
    "    mutated_sequences = []\n",
    "    amino_acids = \"ACDEFGHIKLMNPQRSTVWY\"\n",
    "\n",
    "    for i, original_aa in enumerate(seq_of_interest):\n",
    "        for new_aa in amino_acids:\n",
    "            if new_aa != original_aa:\n",
    "                mutated_seq = seq_of_interest[:i] + new_aa + seq_of_interest[i+1:]\n",
    "                mutated_sequences.append((i, original_aa, new_aa, mutated_seq))\n",
    "\n",
    "    return mutated_sequences\n",
    "\n",
    "# Function to save wild-type predictions\n",
    "def save_wildtype_predictions(uniprot_id, reference_position, extracted_sequence):\n",
    "    try:\n",
    "        wild_type_substrate = kl.Substrate(extracted_sequence)\n",
    "        wild_type_predictions = wild_type_substrate.predict()\n",
    "        wild_type_filename = f\"mutations2/{uniprot_id}_{reference_position}_wildtype.csv\"\n",
    "        pd.DataFrame(wild_type_predictions).reset_index().to_csv(wild_type_filename, index=False)\n",
    "        print(f\"Wild-type sequence predictions saved to {wild_type_filename}\")\n",
    "    except Exception as e:\n",
    "        print(f\"Error processing wild-type sequence: {e}\")\n",
    "\n",
    "# Function to save mutated sequences\n",
    "def save_mutated_predictions(mutated_sequences, uniprot_id, reference_position):\n",
    "    for i, original_aa, new_aa, mutated_seq in mutated_sequences:\n",
    "        try:\n",
    "            s = kl.Substrate(mutated_seq)\n",
    "            predictions = s.predict()\n",
    "            filename = f\"mutations2/{uniprot_id}_{reference_position}_mutation_pos{i+1}_{original_aa}_to_{new_aa}.csv\"\n",
    "            pd.DataFrame(predictions).reset_index().to_csv(filename, index=False)\n",
    "        except Exception as e:\n",
    "            print(f\"Skipping mutation at position {i+1} ({original_aa} → {new_aa}): {e}\")\n",
    "\n",
    "# Function to extract kinase orders from CSV files\n",
    "def extract_kinase_orders():\n",
    "    kinase_orders = {}\n",
    "    for file in os.listdir(\"mutations2\"):\n",
    "        if file.endswith(\".csv\") and \"wildtype\" not in file:\n",
    "            file_path = os.path.join(\"mutations2\", file)\n",
    "            try:\n",
    "                df = pd.read_csv(file_path)\n",
    "\n",
    "                # Check for the 'index' column first, then 'position' if 'index' is missing\n",
    "                if \"index\" in df.columns:\n",
    "                    kinase_orders[file] = df[\"index\"].tolist()  # Use 'index' column for kinase order\n",
    "                elif \"Position\" in df.columns:\n",
    "                    kinase_orders[file] = df[\"Position\"].tolist()  # Use 'position' column if 'index' is missing\n",
    "                else:\n",
    "                    print(f\"Skipping {file}: No 'index' or 'position' column found.\")\n",
    "            except Exception as e:\n",
    "                print(f\"Error reading {file}: {e}\")\n",
    "\n",
    "    return kinase_orders\n",
    "\n",
    "\n",
    "# Function to compute Longest Common Subsequence (LCS)\n",
    "def longest_common_subsequence(seq1, seq2):\n",
    "    matcher = SequenceMatcher(None, seq1, seq2)\n",
    "    return sum(block.size for block in matcher.get_matching_blocks())\n",
    "\n",
    "# Function to normalize LCS scores\n",
    "def normalize_lcs_scores(lcs_scores):\n",
    "    return {file: (score - 1) / (310 - 1) for file, score in lcs_scores.items()}\n",
    "\n",
    "# Function to process LCS data for heatmap and save it\n",
    "def process_lcs_for_heatmap(normalized_lcs, uniprot_id, reference_position):\n",
    "    lcs_data = []\n",
    "    for file, normalized_score in normalized_lcs.items():\n",
    "        match = re.match(rf\"{uniprot_id}_{reference_position}_mutation_pos(\\d+)_(\\w+)_to_(\\w+)\\.csv\", file)\n",
    "        if match:\n",
    "            position = int(match.group(1))\n",
    "            mutated_aa = match.group(3)\n",
    "            lcs_data.append([position, mutated_aa, normalized_score])\n",
    "\n",
    "    df_lcs = pd.DataFrame(lcs_data, columns=['Position', 'Mutation', 'LCS_Ratio'])\n",
    "    heatmap_filename = f\"mutations2/{uniprot_id}_{reference_position}_heatmap_data.csv\"\n",
    "    df_lcs.to_csv(heatmap_filename, index=False)\n",
    "    print(f\"LCS data saved to {heatmap_filename}\")\n",
    "\n",
    "import plotly.express as px\n",
    "import numpy as np\n",
    "\n",
    "# Function to render heatmap from processed data\n",
    "def render_heatmap_from_data(heatmap_data):\n",
    "    heatmap_matrix = heatmap_data.pivot_table(index='Mutation', columns='Position', values='LCS_Ratio', aggfunc=np.mean)\n",
    "\n",
    "    fig = px.imshow(\n",
    "        heatmap_matrix,\n",
    "        labels={'x': 'Mutation Position', 'y': 'Mutated Amino Acid', 'color': 'LCS Ratio'},\n",
    "        color_continuous_scale='Temps',\n",
    "        title=\"Heatmap of LCS Ratios for Each Mutation\",\n",
    "    )\n",
    "\n",
    "    position_labels = list(range(-7, 8))\n",
    "\n",
    "    fig.update_layout(\n",
    "        xaxis=dict(tickmode='array', tickvals=list(range(1, 16)), ticktext=position_labels),\n",
    "        yaxis=dict(tickmode='linear', dtick=1),\n",
    "        coloraxis_colorbar=dict(\n",
    "            tickvals=[0, 0.25, 0.5, 0.75, 1],\n",
    "            ticktext=[\"0.0\", \"0.25\", \"0.5\", \"0.75\", \"1.0\"],\n",
    "            tickmode='array',\n",
    "            title=\"LCS Ratio\",\n",
    "            tickangle=0\n",
    "        ),\n",
    "        plot_bgcolor='white'\n",
    "    )\n",
    "\n",
    "    fig.show()\n",
    "\n",
    "\n",
    "import pandas as pd\n",
    "\n",
    "# Main pipeline function\n",
    "def run_pipeline_from_excel(input_file):\n",
    "    # Load the input Excel file\n",
    "    df = pd.read_excel(input_file)\n",
    "\n",
    "    # Iterate over each row in the Excel file\n",
    "    for index, row in df.iterrows():\n",
    "        # Extract the UniProt ID and reference position from the row\n",
    "        uniprot_id = row[\"uniprot_ID\"]\n",
    "        reference_position = int(row[\"amino_acid_position\"])\n",
    "\n",
    "        print(f\"Processing {uniprot_id} at position {reference_position}...\")\n",
    "\n",
    "        # Extract genomic information (you need to implement extract_genomic_information_from_uniprot_id)\n",
    "        result = extract_genomic_information_from_uniprot_id(uniprot_id, reference_position)\n",
    "\n",
    "        if result:\n",
    "            # Generate mutated sequences (you need to implement generate_mutated_sequences)\n",
    "            mutated_sequences = generate_mutated_sequences(result['Extracted_Sequence'])\n",
    "\n",
    "            # Save wildtype and mutated predictions (you need to implement save_wildtype_predictions and save_mutated_predictions)\n",
    "            save_wildtype_predictions(uniprot_id, reference_position, result['Extracted_Sequence'])\n",
    "            save_mutated_predictions(mutated_sequences, uniprot_id, reference_position)\n",
    "\n",
    "            # Extract kinase orders (you need to implement extract_kinase_orders)\n",
    "            kinase_orders = extract_kinase_orders()\n",
    "\n",
    "            # Load the wildtype CSV file\n",
    "            wildtype_path = f\"mutations2/{uniprot_id}_{reference_position}_wildtype.csv\"\n",
    "            try:\n",
    "                df_wildtype = pd.read_csv(wildtype_path)\n",
    "\n",
    "                # Check if either \"index\" or \"position\" columns are present\n",
    "                if \"index\" not in df_wildtype.columns and \"position\" not in df_wildtype.columns:\n",
    "                    print(f\"Error: Neither 'index' nor 'position' column found in {wildtype_path}\")\n",
    "                    continue  # Skip this entry and go to the next one\n",
    "\n",
    "                # Use 'index' or 'position' for kinase order\n",
    "                kinase_order_column = \"index\" if \"index\" in df_wildtype.columns else \"position\"\n",
    "                wildtype_kinase_order = df_wildtype[kinase_order_column].tolist()\n",
    "\n",
    "                # Calculate LCS scores\n",
    "                lcs_scores = {file: longest_common_subsequence(order, wildtype_kinase_order) for file, order in kinase_orders.items()}\n",
    "\n",
    "                # Normalize LCS scores (you need to implement normalize_lcs_scores)\n",
    "                normalized_lcs = normalize_lcs_scores(lcs_scores)\n",
    "\n",
    "                # Process LCS for heatmap and save it (you need to implement process_lcs_for_heatmap and render_heatmap_from_data)\n",
    "                process_lcs_for_heatmap(normalized_lcs, uniprot_id, reference_position)\n",
    "                render_heatmap_from_data(pd.read_csv(f\"mutations2/{uniprot_id}_{reference_position}_heatmap_data.csv\"))\n",
    "\n",
    "            except FileNotFoundError:\n",
    "                print(f\"Warning: Wildtype file {wildtype_path} not found. Skipping {uniprot_id}.\")\n",
    "                continue  # Skip if the wildtype file is not found\n",
    "\n",
    "        else:\n",
    "            print(f\"Error: No genomic information found for {uniprot_id} at position {reference_position}. Skipping.\")\n",
    "            continue  # Skip to the next UniProt ID if no genomic information is found\n",
    "\n",
    "\n",
    "if __name__ == \"__main__\":\n",
    "    run_pipeline_from_excel(\"input.xlsx\")\n"
   ]
  },
  {
   "cell_type": "code",
   "execution_count": null,
   "metadata": {},
   "outputs": [],
   "source": [
    "'Comparison of two heat maps by position - not pairwise, just like for like positions'"
   ]
  },
  {
   "cell_type": "code",
   "execution_count": null,
   "metadata": {},
   "outputs": [],
   "source": [
    "import os\n",
    "import pandas as pd\n",
    "from scipy.stats import ttest_ind\n",
    "import numpy as np\n",
    "\n",
    "def compare_heatmaps(uniprot_id1, uniprot_id2, reference_position1, reference_position2, directory):\n",
    "    # Construct file paths based on naming convention\n",
    "    heatmap_file1 = os.path.join(directory, f\"{uniprot_id1}_{reference_position1}_heatmap_data.csv\")\n",
    "    heatmap_file2 = os.path.join(directory, f\"{uniprot_id2}_{reference_position2}_heatmap_data.csv\")\n",
    "    \n",
    "    print(f\"Looking for files: {heatmap_file1} and {heatmap_file2}\")\n",
    "    \n",
    "    # Check if both heatmap files exist\n",
    "    if not os.path.exists(heatmap_file1) or not os.path.exists(heatmap_file2):\n",
    "        print(f\"Error: One or both heatmap files for {uniprot_id1}_{reference_position1} or {uniprot_id2}_{reference_position2} do not exist.\")\n",
    "        return\n",
    "    \n",
    "    # Load heatmap data\n",
    "    df1 = pd.read_csv(heatmap_file1)\n",
    "    df2 = pd.read_csv(heatmap_file2)\n",
    "    \n",
    "    # Ensure that both dataframes have the same structure\n",
    "    if not {'Mutation', 'Position', 'LCS_Ratio'}.issubset(df1.columns) or not {'Mutation', 'Position', 'LCS_Ratio'}.issubset(df2.columns):\n",
    "        print(f\"Error: Missing required columns in heatmap data files.\")\n",
    "        return\n",
    "    \n",
    "    # Pivot the data to create a matrix for each heatmap\n",
    "    heatmap_matrix1 = df1.pivot_table(index='Mutation', columns='Position', values='LCS_Ratio', aggfunc=np.mean)\n",
    "    heatmap_matrix2 = df2.pivot_table(index='Mutation', columns='Position', values='LCS_Ratio', aggfunc=np.mean)\n",
    "    \n",
    "    # Ensure both matrices have the same positions\n",
    "    common_positions = heatmap_matrix1.columns.intersection(heatmap_matrix2.columns)\n",
    "    \n",
    "    # Perform t-tests for each common position\n",
    "    p_values = {}\n",
    "    for position in common_positions:\n",
    "        data1 = heatmap_matrix1[position].dropna()\n",
    "        data2 = heatmap_matrix2[position].dropna()\n",
    "        \n",
    "        # Perform t-test only if both groups have data\n",
    "        if len(data1) > 0 and len(data2) > 0:\n",
    "            t_stat, p_val = ttest_ind(data1, data2)\n",
    "            p_values[position] = p_val\n",
    "    \n",
    "    # Save p-values to a CSV file using the desired naming convention\n",
    "    output_file = os.path.join(directory, f\"{uniprot_id1}_{reference_position1}_vs_{uniprot_id2}_{reference_position2}_p_values.csv\")\n",
    "    p_values_df = pd.DataFrame(list(p_values.items()), columns=['Position', 'P-Value'])\n",
    "    p_values_df.to_csv(output_file, index=False)\n",
    "    \n",
    "    print(f\"P-values comparison saved to {output_file}\")\n",
    "    \n",
    "    # Print positions with p-value smaller than 0.05\n",
    "    significant_positions = p_values_df[p_values_df['P-Value'] < 0.05]\n",
    "    print(\"Significant Positions (p-value < 0.05):\")\n",
    "    print(significant_positions)\n",
    "\n",
    "\n",
    "uniprot_id1 = \"P40337-1\"\n",
    "uniprot_id2 = \"P07954-1\"\n",
    "reference_position1 = 72\n",
    "reference_position2 = 365\n",
    "directory = \"mutations2\"\n",
    "\n",
    "compare_heatmaps(uniprot_id1, uniprot_id2, reference_position1, reference_position2, directory)\n"
   ]
  },
  {
   "cell_type": "code",
   "execution_count": null,
   "metadata": {},
   "outputs": [],
   "source": [
    "'Pairwise T tests for every position between 2 uniprot IDs'"
   ]
  },
  {
   "cell_type": "code",
   "execution_count": null,
   "metadata": {},
   "outputs": [],
   "source": [
    "import os\n",
    "import pandas as pd\n",
    "from scipy.stats import ttest_ind\n",
    "import numpy as np\n",
    "\n",
    "def compare_heatmaps(uniprot_id1, uniprot_id2, reference_position1, reference_position2, directory):\n",
    "    # Construct file paths based on naming convention\n",
    "    heatmap_file1 = os.path.join(directory, f\"{uniprot_id1}_{reference_position1}_heatmap_data.csv\")\n",
    "    heatmap_file2 = os.path.join(directory, f\"{uniprot_id2}_{reference_position2}_heatmap_data.csv\")\n",
    "    \n",
    "    print(f\"Looking for files: {heatmap_file1} and {heatmap_file2}\")\n",
    "    \n",
    "    # Check if both heatmap files exist\n",
    "    if not os.path.exists(heatmap_file1) or not os.path.exists(heatmap_file2):\n",
    "        print(f\"Error: One or both heatmap files for {uniprot_id1}_{reference_position1} or {uniprot_id2}_{reference_position2} do not exist.\")\n",
    "        return\n",
    "    \n",
    "    # Load heatmap data\n",
    "    df1 = pd.read_csv(heatmap_file1)\n",
    "    df2 = pd.read_csv(heatmap_file2)\n",
    "    \n",
    "    # Ensure that both dataframes have the same structure\n",
    "    if not {'Mutation', 'Position', 'LCS_Ratio'}.issubset(df1.columns) or not {'Mutation', 'Position', 'LCS_Ratio'}.issubset(df2.columns):\n",
    "        print(f\"Error: Missing required columns in heatmap data files.\")\n",
    "        return\n",
    "    \n",
    "    # Pivot the data to create a matrix for each heatmap\n",
    "    heatmap_matrix1 = df1.pivot_table(index='Mutation', columns='Position', values='LCS_Ratio', aggfunc=np.mean)\n",
    "    heatmap_matrix2 = df2.pivot_table(index='Mutation', columns='Position', values='LCS_Ratio', aggfunc=np.mean)\n",
    "    \n",
    "    # Perform t-tests for every pair of positions between both heatmaps\n",
    "    p_values = []\n",
    "    for pos1 in heatmap_matrix1.columns:\n",
    "        for pos2 in heatmap_matrix2.columns:\n",
    "            data1 = heatmap_matrix1[pos1].dropna()\n",
    "            data2 = heatmap_matrix2[pos2].dropna()\n",
    "            \n",
    "            # Perform t-test only if both groups have data\n",
    "            if len(data1) > 0 and len(data2) > 0:\n",
    "                t_stat, p_val = ttest_ind(data1, data2)\n",
    "                p_values.append((pos1, pos2, p_val))\n",
    "    \n",
    "    # Convert the list of p-values into a DataFrame\n",
    "    p_values_df = pd.DataFrame(p_values, columns=['Position1', 'Position2', 'P-Value'])\n",
    "    \n",
    "    # Save the p-values to a CSV file using the desired naming convention (with \"pairwise\" at the front)\n",
    "    output_file = os.path.join(directory, f\"pairwise_{uniprot_id1}_{reference_position1}_vs_{uniprot_id2}_{reference_position2}_p_values.csv\")\n",
    "    \n",
    "    # Save all p-values (including those > 0.05)\n",
    "    p_values_df.to_csv(output_file, index=False)\n",
    "    \n",
    "    print(f\"P-values comparison saved to {output_file}\")\n",
    "    \n",
    "    # Filter positions with p-values smaller than 0.05 and print them\n",
    "    significant_positions = p_values_df[p_values_df['P-Value'] < 0.05]\n",
    "    print(\"Significant Positions (p-value < 0.05):\")\n",
    "    print(significant_positions)\n",
    "\n",
    "uniprot_id1 = \"O95394-1\"\n",
    "uniprot_id2 = \"P40337-1\"\n",
    "reference_position1 = 62\n",
    "reference_position2 = 72\n",
    "directory = \"mutations2\"\n",
    "\n",
    "compare_heatmaps(uniprot_id1, uniprot_id2, reference_position1, reference_position2, directory)\n"
   ]
  },
  {
   "cell_type": "code",
   "execution_count": null,
   "metadata": {},
   "outputs": [],
   "source": [
    "'Some negative values are appearing in the LCS score calculation when mutating from S/Y or T/Y'\n",
    "#Prevents division by zero \n",
    "#Sets min and max values based on that dataset rather than hard-code between 310 and 1."
   ]
  },
  {
   "cell_type": "code",
   "execution_count": 2,
   "metadata": {},
   "outputs": [
    {
     "name": "stdout",
     "output_type": "stream",
     "text": [
      "Processing P40337-1 at position 72...\n",
      "Searching for UniProt ID: P40337-1\n",
      "Wild-type sequence predictions saved to mutations2/P40337-1_72_wildtype.csv\n",
      "Skipping mutation at position 8 (S → A): Central residue must be a phosphoacceptor (s/t/y). Otherwise, please identify the position of the phosphoacceptor.\n",
      "Skipping mutation at position 8 (S → C): Central residue must be a phosphoacceptor (s/t/y). Otherwise, please identify the position of the phosphoacceptor.\n",
      "Skipping mutation at position 8 (S → D): Central residue must be a phosphoacceptor (s/t/y). Otherwise, please identify the position of the phosphoacceptor.\n",
      "Skipping mutation at position 8 (S → E): Central residue must be a phosphoacceptor (s/t/y). Otherwise, please identify the position of the phosphoacceptor.\n",
      "Skipping mutation at position 8 (S → F): Central residue must be a phosphoacceptor (s/t/y). Otherwise, please identify the position of the phosphoacceptor.\n",
      "Skipping mutation at position 8 (S → G): Central residue must be a phosphoacceptor (s/t/y). Otherwise, please identify the position of the phosphoacceptor.\n",
      "Skipping mutation at position 8 (S → H): Central residue must be a phosphoacceptor (s/t/y). Otherwise, please identify the position of the phosphoacceptor.\n",
      "Skipping mutation at position 8 (S → I): Central residue must be a phosphoacceptor (s/t/y). Otherwise, please identify the position of the phosphoacceptor.\n",
      "Skipping mutation at position 8 (S → K): Central residue must be a phosphoacceptor (s/t/y). Otherwise, please identify the position of the phosphoacceptor.\n",
      "Skipping mutation at position 8 (S → L): Central residue must be a phosphoacceptor (s/t/y). Otherwise, please identify the position of the phosphoacceptor.\n",
      "Skipping mutation at position 8 (S → M): Central residue must be a phosphoacceptor (s/t/y). Otherwise, please identify the position of the phosphoacceptor.\n",
      "Skipping mutation at position 8 (S → N): Central residue must be a phosphoacceptor (s/t/y). Otherwise, please identify the position of the phosphoacceptor.\n",
      "Skipping mutation at position 8 (S → P): Central residue must be a phosphoacceptor (s/t/y). Otherwise, please identify the position of the phosphoacceptor.\n",
      "Skipping mutation at position 8 (S → Q): Central residue must be a phosphoacceptor (s/t/y). Otherwise, please identify the position of the phosphoacceptor.\n",
      "Skipping mutation at position 8 (S → R): Central residue must be a phosphoacceptor (s/t/y). Otherwise, please identify the position of the phosphoacceptor.\n",
      "Skipping mutation at position 8 (S → V): Central residue must be a phosphoacceptor (s/t/y). Otherwise, please identify the position of the phosphoacceptor.\n",
      "Skipping mutation at position 8 (S → W): Central residue must be a phosphoacceptor (s/t/y). Otherwise, please identify the position of the phosphoacceptor.\n"
     ]
    },
    {
     "ename": "KeyboardInterrupt",
     "evalue": "",
     "output_type": "error",
     "traceback": [
      "\u001b[31m---------------------------------------------------------------------------\u001b[39m",
      "\u001b[31mKeyboardInterrupt\u001b[39m                         Traceback (most recent call last)",
      "\u001b[36mCell\u001b[39m\u001b[36m \u001b[39m\u001b[32mIn[2]\u001b[39m\u001b[32m, line 226\u001b[39m\n\u001b[32m    222\u001b[39m             \u001b[38;5;28;01mcontinue\u001b[39;00m\n\u001b[32m    225\u001b[39m \u001b[38;5;28;01mif\u001b[39;00m \u001b[34m__name__\u001b[39m == \u001b[33m\"\u001b[39m\u001b[33m__main__\u001b[39m\u001b[33m\"\u001b[39m:\n\u001b[32m--> \u001b[39m\u001b[32m226\u001b[39m     \u001b[43mrun_pipeline_from_excel\u001b[49m\u001b[43m(\u001b[49m\u001b[33;43m\"\u001b[39;49m\u001b[33;43minput.xlsx\u001b[39;49m\u001b[33;43m\"\u001b[39;49m\u001b[43m)\u001b[49m\n",
      "\u001b[36mCell\u001b[39m\u001b[36m \u001b[39m\u001b[32mIn[2]\u001b[39m\u001b[32m, line 187\u001b[39m, in \u001b[36mrun_pipeline_from_excel\u001b[39m\u001b[34m(input_file)\u001b[39m\n\u001b[32m    185\u001b[39m \u001b[38;5;66;03m# Save wildtype and mutated predictions\u001b[39;00m\n\u001b[32m    186\u001b[39m save_wildtype_predictions(uniprot_id, reference_position, result[\u001b[33m'\u001b[39m\u001b[33mExtracted_Sequence\u001b[39m\u001b[33m'\u001b[39m])\n\u001b[32m--> \u001b[39m\u001b[32m187\u001b[39m \u001b[43msave_mutated_predictions\u001b[49m\u001b[43m(\u001b[49m\u001b[43mmutated_sequences\u001b[49m\u001b[43m,\u001b[49m\u001b[43m \u001b[49m\u001b[43muniprot_id\u001b[49m\u001b[43m,\u001b[49m\u001b[43m \u001b[49m\u001b[43mreference_position\u001b[49m\u001b[43m)\u001b[49m\n\u001b[32m    189\u001b[39m \u001b[38;5;66;03m# Extract kinase orders\u001b[39;00m\n\u001b[32m    190\u001b[39m kinase_orders = extract_kinase_orders()\n",
      "\u001b[36mCell\u001b[39m\u001b[36m \u001b[39m\u001b[32mIn[2]\u001b[39m\u001b[32m, line 71\u001b[39m, in \u001b[36msave_mutated_predictions\u001b[39m\u001b[34m(mutated_sequences, uniprot_id, reference_position)\u001b[39m\n\u001b[32m     69\u001b[39m \u001b[38;5;28;01mtry\u001b[39;00m:\n\u001b[32m     70\u001b[39m     s = kl.Substrate(mutated_seq)\n\u001b[32m---> \u001b[39m\u001b[32m71\u001b[39m     predictions = \u001b[43ms\u001b[49m\u001b[43m.\u001b[49m\u001b[43mpredict\u001b[49m\u001b[43m(\u001b[49m\u001b[43m)\u001b[49m\n\u001b[32m     72\u001b[39m     filename = \u001b[33mf\u001b[39m\u001b[33m\"\u001b[39m\u001b[33mmutations2/\u001b[39m\u001b[38;5;132;01m{\u001b[39;00muniprot_id\u001b[38;5;132;01m}\u001b[39;00m\u001b[33m_\u001b[39m\u001b[38;5;132;01m{\u001b[39;00mreference_position\u001b[38;5;132;01m}\u001b[39;00m\u001b[33m_mutation_pos\u001b[39m\u001b[38;5;132;01m{\u001b[39;00mi+\u001b[32m1\u001b[39m\u001b[38;5;132;01m}\u001b[39;00m\u001b[33m_\u001b[39m\u001b[38;5;132;01m{\u001b[39;00moriginal_aa\u001b[38;5;132;01m}\u001b[39;00m\u001b[33m_to_\u001b[39m\u001b[38;5;132;01m{\u001b[39;00mnew_aa\u001b[38;5;132;01m}\u001b[39;00m\u001b[33m.csv\u001b[39m\u001b[33m\"\u001b[39m\n\u001b[32m     73\u001b[39m     pd.DataFrame(predictions).reset_index().to_csv(filename, index=\u001b[38;5;28;01mFalse\u001b[39;00m)\n",
      "\u001b[36mFile \u001b[39m\u001b[32mc:\\Users\\ricea\\AppData\\Local\\Programs\\Python\\Python312\\Lib\\site-packages\\kinase_library\\objects\\core.py:439\u001b[39m, in \u001b[36mSubstrate.predict\u001b[39m\u001b[34m(self, kinases, pp, st_fav, non_canonical, customized_scored_phosprot, phosprot_path, log2_score, sort_by, score_round_digits, percentile_round_digits)\u001b[39m\n\u001b[32m    437\u001b[39m score_rank = \u001b[38;5;28mself\u001b[39m.rank(kinases=kinases, method=\u001b[33m'\u001b[39m\u001b[33mscore\u001b[39m\u001b[33m'\u001b[39m, pp=pp, st_fav=st_fav, non_canonical=non_canonical, score_round_digits=score_round_digits)\n\u001b[32m    438\u001b[39m percentile = \u001b[38;5;28mself\u001b[39m.percentile(kinases, customized_scored_phosprot=customized_scored_phosprot, pp=pp, st_fav=st_fav, non_canonical=non_canonical, round_digits=percentile_round_digits)\n\u001b[32m--> \u001b[39m\u001b[32m439\u001b[39m percentile_rank = \u001b[38;5;28;43mself\u001b[39;49m\u001b[43m.\u001b[49m\u001b[43mrank\u001b[49m\u001b[43m(\u001b[49m\u001b[43mkinases\u001b[49m\u001b[43m=\u001b[49m\u001b[43mkinases\u001b[49m\u001b[43m,\u001b[49m\u001b[43m \u001b[49m\u001b[43mmethod\u001b[49m\u001b[43m=\u001b[49m\u001b[33;43m'\u001b[39;49m\u001b[33;43mpercentile\u001b[39;49m\u001b[33;43m'\u001b[39;49m\u001b[43m,\u001b[49m\u001b[43m \u001b[49m\u001b[43mpp\u001b[49m\u001b[43m=\u001b[49m\u001b[43mpp\u001b[49m\u001b[43m,\u001b[49m\u001b[43m \u001b[49m\u001b[43mst_fav\u001b[49m\u001b[43m=\u001b[49m\u001b[43mst_fav\u001b[49m\u001b[43m,\u001b[49m\u001b[43m \u001b[49m\u001b[43mnon_canonical\u001b[49m\u001b[43m=\u001b[49m\u001b[43mnon_canonical\u001b[49m\u001b[43m,\u001b[49m\u001b[43m \u001b[49m\u001b[43mcustomized_scored_phosprot\u001b[49m\u001b[43m=\u001b[49m\u001b[43mcustomized_scored_phosprot\u001b[49m\u001b[43m,\u001b[49m\u001b[43m \u001b[49m\u001b[43mphosprot_path\u001b[49m\u001b[43m=\u001b[49m\u001b[43mphosprot_path\u001b[49m\u001b[43m,\u001b[49m\u001b[43m \u001b[49m\u001b[43mpercentile_round_digits\u001b[49m\u001b[43m=\u001b[49m\u001b[43mpercentile_round_digits\u001b[49m\u001b[43m)\u001b[49m\n\u001b[32m    441\u001b[39m prediction_output = pd.concat([score.rename(\u001b[33m'\u001b[39m\u001b[33mScore\u001b[39m\u001b[33m'\u001b[39m),\n\u001b[32m    442\u001b[39m                                score_rank.rename(\u001b[33m'\u001b[39m\u001b[33mScore Rank\u001b[39m\u001b[33m'\u001b[39m),\n\u001b[32m    443\u001b[39m                                percentile.rename(\u001b[33m'\u001b[39m\u001b[33mPercentile\u001b[39m\u001b[33m'\u001b[39m),\n\u001b[32m    444\u001b[39m                                percentile_rank.rename(\u001b[33m'\u001b[39m\u001b[33mPercentile Rank\u001b[39m\u001b[33m'\u001b[39m)], axis=\u001b[32m1\u001b[39m)\n\u001b[32m    446\u001b[39m \u001b[38;5;28;01mif\u001b[39;00m sort_by == \u001b[33m'\u001b[39m\u001b[33mname\u001b[39m\u001b[33m'\u001b[39m:\n",
      "\u001b[36mFile \u001b[39m\u001b[32mc:\\Users\\ricea\\AppData\\Local\\Programs\\Python\\Python312\\Lib\\site-packages\\kinase_library\\objects\\core.py:360\u001b[39m, in \u001b[36mSubstrate.rank\u001b[39m\u001b[34m(self, kinases, method, pp, st_fav, non_canonical, output_type, sort_by, customized_scored_phosprot, phosprot_path, score_round_digits, percentile_round_digits)\u001b[39m\n\u001b[32m    358\u001b[39m     score_values = \u001b[38;5;28mself\u001b[39m.score(pp=pp, st_fav=st_fav, non_canonical=non_canonical, round_digits=score_round_digits)\n\u001b[32m    359\u001b[39m \u001b[38;5;28;01melse\u001b[39;00m:\n\u001b[32m--> \u001b[39m\u001b[32m360\u001b[39m     score_values = \u001b[38;5;28;43mself\u001b[39;49m\u001b[43m.\u001b[49m\u001b[43mpercentile\u001b[49m\u001b[43m(\u001b[49m\u001b[43mcustomized_scored_phosprot\u001b[49m\u001b[43m=\u001b[49m\u001b[43mcustomized_scored_phosprot\u001b[49m\u001b[43m,\u001b[49m\u001b[43m \u001b[49m\u001b[43mpp\u001b[49m\u001b[43m=\u001b[49m\u001b[43mpp\u001b[49m\u001b[43m,\u001b[49m\u001b[43m \u001b[49m\u001b[43mst_fav\u001b[49m\u001b[43m=\u001b[49m\u001b[43mst_fav\u001b[49m\u001b[43m,\u001b[49m\u001b[43m \u001b[49m\u001b[43mnon_canonical\u001b[49m\u001b[43m=\u001b[49m\u001b[43mnon_canonical\u001b[49m\u001b[43m,\u001b[49m\u001b[43m \u001b[49m\u001b[43mphosprot_path\u001b[49m\u001b[43m=\u001b[49m\u001b[43mphosprot_path\u001b[49m\u001b[43m,\u001b[49m\u001b[43m \u001b[49m\u001b[43mround_digits\u001b[49m\u001b[43m=\u001b[49m\u001b[43mpercentile_round_digits\u001b[49m\u001b[43m)\u001b[49m\n\u001b[32m    362\u001b[39m rank_output = score_values.rank(method=\u001b[33m'\u001b[39m\u001b[33mmin\u001b[39m\u001b[33m'\u001b[39m, ascending=\u001b[38;5;28;01mFalse\u001b[39;00m).astype(\u001b[38;5;28mint\u001b[39m).loc[kinases]\n\u001b[32m    365\u001b[39m \u001b[38;5;28;01mif\u001b[39;00m sort_by == \u001b[33m'\u001b[39m\u001b[33mname\u001b[39m\u001b[33m'\u001b[39m:\n",
      "\u001b[36mFile \u001b[39m\u001b[32mc:\\Users\\ricea\\AppData\\Local\\Programs\\Python\\Python312\\Lib\\site-packages\\kinase_library\\objects\\core.py:279\u001b[39m, in \u001b[36mSubstrate.percentile\u001b[39m\u001b[34m(self, kinases, customized_scored_phosprot, pp, st_fav, non_canonical, output_type, sort_by, phosprot_path, round_digits)\u001b[39m\n\u001b[32m    275\u001b[39m     scored_phosprot = all_scored_phosprot.tyrosine_scores\n\u001b[32m    277\u001b[39m percent_output = []\n\u001b[32m--> \u001b[39m\u001b[32m279\u001b[39m score = \u001b[38;5;28;43mself\u001b[39;49m\u001b[43m.\u001b[49m\u001b[43mscore\u001b[49m\u001b[43m(\u001b[49m\u001b[43mkinases\u001b[49m\u001b[43m=\u001b[49m\u001b[43mkinases\u001b[49m\u001b[43m,\u001b[49m\u001b[43m \u001b[49m\u001b[43mpp\u001b[49m\u001b[43m=\u001b[49m\u001b[43mpp\u001b[49m\u001b[43m,\u001b[49m\u001b[43m \u001b[49m\u001b[43mst_fav\u001b[49m\u001b[43m=\u001b[49m\u001b[43mst_fav\u001b[49m\u001b[43m)\u001b[49m\n\u001b[32m    281\u001b[39m percent_output = \u001b[38;5;28mround\u001b[39m((scored_phosprot[score.index] <= score).sum() / \u001b[38;5;28mlen\u001b[39m(scored_phosprot) * \u001b[32m100\u001b[39m, round_digits)\n\u001b[32m    283\u001b[39m \u001b[38;5;28;01mif\u001b[39;00m sort_by == \u001b[33m'\u001b[39m\u001b[33mname\u001b[39m\u001b[33m'\u001b[39m:\n",
      "\u001b[36mFile \u001b[39m\u001b[32mc:\\Users\\ricea\\AppData\\Local\\Programs\\Python\\Python312\\Lib\\site-packages\\kinase_library\\objects\\core.py:182\u001b[39m, in \u001b[36mSubstrate.score\u001b[39m\u001b[34m(self, kinases, pp, st_fav, log2_score, non_canonical, output_type, sort_by, round_digits)\u001b[39m\n\u001b[32m    180\u001b[39m score_log2 = pd.Series(np.dot(sub_vector,kin_mat_log2.transpose())[\u001b[32m0\u001b[39m], index = kinases)\n\u001b[32m    181\u001b[39m \u001b[38;5;28;01mif\u001b[39;00m (kin_type == \u001b[33m'\u001b[39m\u001b[33mser_thr\u001b[39m\u001b[33m'\u001b[39m) \u001b[38;5;129;01mand\u001b[39;00m st_fav:\n\u001b[32m--> \u001b[39m\u001b[32m182\u001b[39m     st_fav_scores = \u001b[43mdata\u001b[49m\u001b[43m.\u001b[49m\u001b[43mget_st_fav\u001b[49m\u001b[43m(\u001b[49m\u001b[43mkinases\u001b[49m\u001b[43m)\u001b[49m[\u001b[38;5;28mself\u001b[39m.phos_res.upper()]\n\u001b[32m    183\u001b[39m     st_fav_scores_log2 = np.log2(st_fav_scores)\n\u001b[32m    184\u001b[39m     score_log2 = score_log2 + st_fav_scores_log2\n",
      "\u001b[36mFile \u001b[39m\u001b[32mc:\\Users\\ricea\\AppData\\Local\\Programs\\Python\\Python312\\Lib\\site-packages\\kinase_library\\modules\\data.py:444\u001b[39m, in \u001b[36mget_st_fav\u001b[39m\u001b[34m(kinases, st_fav_file, as_dict, lower_case)\u001b[39m\n\u001b[32m    441\u001b[39m     kinases = [kinases]\n\u001b[32m    442\u001b[39m kinases = [x.upper() \u001b[38;5;28;01mfor\u001b[39;00m x \u001b[38;5;129;01min\u001b[39;00m kinases]\n\u001b[32m--> \u001b[39m\u001b[32m444\u001b[39m \u001b[43mexceptions\u001b[49m\u001b[43m.\u001b[49m\u001b[43mcheck_kin_list_type\u001b[49m\u001b[43m(\u001b[49m\u001b[43mkinases\u001b[49m\u001b[43m,\u001b[49m\u001b[43m \u001b[49m\u001b[43mkin_type\u001b[49m\u001b[43m=\u001b[49m\u001b[33;43m'\u001b[39;49m\u001b[33;43mser_thr\u001b[39;49m\u001b[33;43m'\u001b[39;49m\u001b[43m)\u001b[49m\n\u001b[32m    446\u001b[39m all_st_fav = pd.read_csv(st_fav_file, sep = \u001b[33m'\u001b[39m\u001b[38;5;130;01m\\t\u001b[39;00m\u001b[33m'\u001b[39m, index_col=\u001b[32m0\u001b[39m)\n\u001b[32m    447\u001b[39m st_fav = all_st_fav.loc[kinases]\n",
      "\u001b[36mFile \u001b[39m\u001b[32mc:\\Users\\ricea\\AppData\\Local\\Programs\\Python\\Python312\\Lib\\site-packages\\kinase_library\\utils\\exceptions.py:39\u001b[39m, in \u001b[36mcheck_kin_list_type\u001b[39m\u001b[34m(kin_list, kin_type)\u001b[39m\n\u001b[32m     37\u001b[39m kin_type_list = data.get_kinase_list(kin_type, non_canonical=\u001b[38;5;28;01mTrue\u001b[39;00m)\n\u001b[32m     38\u001b[39m \u001b[38;5;28;01mfor\u001b[39;00m kin \u001b[38;5;129;01min\u001b[39;00m kin_list:\n\u001b[32m---> \u001b[39m\u001b[32m39\u001b[39m     \u001b[38;5;28;01mif\u001b[39;00m \u001b[43mkin\u001b[49m\u001b[43m.\u001b[49m\u001b[43mupper\u001b[49m\u001b[43m(\u001b[49m\u001b[43m)\u001b[49m \u001b[38;5;129;01mnot\u001b[39;00m \u001b[38;5;129;01min\u001b[39;00m kin_type_list:\n\u001b[32m     40\u001b[39m         \u001b[38;5;28;01mraise\u001b[39;00m \u001b[38;5;167;01mException\u001b[39;00m(\u001b[33m'\u001b[39m\u001b[33mAll kinases must be the same type (\u001b[39m\u001b[38;5;130;01m\\'\u001b[39;00m\u001b[38;5;132;01m{}\u001b[39;00m\u001b[38;5;130;01m\\'\u001b[39;00m\u001b[33m is not a \u001b[39m\u001b[38;5;130;01m\\'\u001b[39;00m\u001b[38;5;132;01m{}\u001b[39;00m\u001b[38;5;130;01m\\'\u001b[39;00m\u001b[33m kinase).\u001b[39m\u001b[33m'\u001b[39m.format(kin,kin_type))\n",
      "\u001b[31mKeyboardInterrupt\u001b[39m: "
     ]
    }
   ],
   "source": [
    "import os\n",
    "import pandas as pd\n",
    "import re\n",
    "import plotly.express as px\n",
    "import numpy as np\n",
    "from difflib import SequenceMatcher\n",
    "import kinase_library as kl\n",
    "import requests \n",
    "\n",
    "# Function to extract genomic information from UniProt\n",
    "def extract_genomic_information_from_uniprot_id(uniprot_id, reference_position):\n",
    "    try:\n",
    "        print(f'Searching for UniProt ID: {uniprot_id}')\n",
    "        requestURL_protein = f\"https://www.ebi.ac.uk/proteins/api/proteins/{uniprot_id}\"\n",
    "        response_protein = requests.get(requestURL_protein, headers={\"Accept\": \"application/json\"})\n",
    "        response_protein.raise_for_status()\n",
    "        response_protein = response_protein.json()\n",
    "\n",
    "        protein_sequence = response_protein.get(\"sequence\", {}).get(\"sequence\", \"\")\n",
    "        if not protein_sequence:\n",
    "            print(f\"No sequence found for UniProt ID: {uniprot_id}\")\n",
    "            return None\n",
    "\n",
    "        reference_position -= 1  # Convert to 0-based index for Python\n",
    "        start = max(0, reference_position - 7)\n",
    "        end = min(len(protein_sequence), reference_position + 8)\n",
    "        extracted_sequence = protein_sequence[start:end]\n",
    "\n",
    "        return {\n",
    "            \"UniProt_ID\": uniprot_id,\n",
    "            \"Protein_Name\": response_protein.get(\"protein\", {}).get(\"recommendedName\", {}).get(\"fullName\", \"\"),\n",
    "            \"TaxID\": response_protein.get(\"organism\", {}).get(\"taxid\", \"\"),\n",
    "            \"Sequence_Length\": len(protein_sequence),\n",
    "            \"Reference_Position\": reference_position + 1,\n",
    "            \"Extracted_Sequence\": extracted_sequence\n",
    "        }\n",
    "\n",
    "    except Exception as e:\n",
    "        print(f\"An error occurred: {e}\")\n",
    "        return None\n",
    "\n",
    "# Function to generate all mutated sequences\n",
    "def generate_mutated_sequences(seq_of_interest):\n",
    "    mutated_sequences = []\n",
    "    amino_acids = \"ACDEFGHIKLMNPQRSTVWY\"\n",
    "\n",
    "    for i, original_aa in enumerate(seq_of_interest):\n",
    "        for new_aa in amino_acids:\n",
    "            if new_aa != original_aa:\n",
    "                mutated_seq = seq_of_interest[:i] + new_aa + seq_of_interest[i+1:]\n",
    "                mutated_sequences.append((i, original_aa, new_aa, mutated_seq))\n",
    "\n",
    "    return mutated_sequences\n",
    "\n",
    "# Function to save wild-type predictions\n",
    "def save_wildtype_predictions(uniprot_id, reference_position, extracted_sequence):\n",
    "    try:\n",
    "        wild_type_substrate = kl.Substrate(extracted_sequence)\n",
    "        wild_type_predictions = wild_type_substrate.predict()\n",
    "        wild_type_filename = f\"mutations2/{uniprot_id}_{reference_position}_wildtype.csv\"\n",
    "        pd.DataFrame(wild_type_predictions).reset_index().to_csv(wild_type_filename, index=False)\n",
    "        print(f\"Wild-type sequence predictions saved to {wild_type_filename}\")\n",
    "    except Exception as e:\n",
    "        print(f\"Error processing wild-type sequence: {e}\")\n",
    "\n",
    "# Function to save mutated sequences\n",
    "def save_mutated_predictions(mutated_sequences, uniprot_id, reference_position):\n",
    "    for i, original_aa, new_aa, mutated_seq in mutated_sequences:\n",
    "        try:\n",
    "            s = kl.Substrate(mutated_seq)\n",
    "            predictions = s.predict()\n",
    "            filename = f\"mutations2/{uniprot_id}_{reference_position}_mutation_pos{i+1}_{original_aa}_to_{new_aa}.csv\"\n",
    "            pd.DataFrame(predictions).reset_index().to_csv(filename, index=False)\n",
    "        except Exception as e:\n",
    "            print(f\"Skipping mutation at position {i+1} ({original_aa} → {new_aa}): {e}\")\n",
    "\n",
    "# Function to extract kinase orders from CSV files\n",
    "def extract_kinase_orders():\n",
    "    kinase_orders = {}\n",
    "    for file in os.listdir(\"mutations2\"):\n",
    "        if file.endswith(\".csv\") and \"wildtype\" not in file:\n",
    "            file_path = os.path.join(\"mutations2\", file)\n",
    "            try:\n",
    "                df = pd.read_csv(file_path)\n",
    "\n",
    "                # Check for the 'index' column first, then 'position' if 'index' is missing\n",
    "                if \"index\" in df.columns:\n",
    "                    kinase_orders[file] = df[\"index\"].tolist()  # Use 'index' column for kinase order\n",
    "                elif \"Position\" in df.columns:\n",
    "                    kinase_orders[file] = df[\"Position\"].tolist()  # Use 'position' column if 'index' is missing\n",
    "                else:\n",
    "                    print(f\"Skipping {file}: No 'index' or 'position' column found.\")\n",
    "            except Exception as e:\n",
    "                print(f\"Error reading {file}: {e}\")\n",
    "\n",
    "    return kinase_orders\n",
    "\n",
    "# Function to compute Longest Common Subsequence (LCS)\n",
    "def longest_common_subsequence(seq1, seq2):\n",
    "    matcher = SequenceMatcher(None, seq1, seq2)\n",
    "    return sum(block.size for block in matcher.get_matching_blocks())\n",
    "\n",
    "# ✅ Updated Function to normalize LCS scores safely\n",
    "def normalize_lcs_scores(lcs_scores):\n",
    "    if not lcs_scores:\n",
    "        return {}\n",
    "    \n",
    "    lcs_min = min(lcs_scores.values())\n",
    "    lcs_max = max(lcs_scores.values())\n",
    "\n",
    "    if lcs_max == lcs_min:\n",
    "        return {file: 1.0 for file in lcs_scores}\n",
    "\n",
    "    return {file: (score - lcs_min) / (lcs_max - lcs_min) for file, score in lcs_scores.items()}\n",
    "\n",
    "# Function to process LCS data for heatmap and save it\n",
    "def process_lcs_for_heatmap(normalized_lcs, uniprot_id, reference_position):\n",
    "    lcs_data = []\n",
    "    for file, normalized_score in normalized_lcs.items():\n",
    "        match = re.match(rf\"{uniprot_id}_{reference_position}_mutation_pos(\\d+)_(\\w+)_to_(\\w+)\\.csv\", file)\n",
    "        if match:\n",
    "            position = int(match.group(1))\n",
    "            mutated_aa = match.group(3)\n",
    "            lcs_data.append([position, mutated_aa, normalized_score])\n",
    "\n",
    "    df_lcs = pd.DataFrame(lcs_data, columns=['Position', 'Mutation', 'LCS_Ratio'])\n",
    "    heatmap_filename = f\"mutations2/{uniprot_id}_{reference_position}_heatmap_data.csv\"\n",
    "    df_lcs.to_csv(heatmap_filename, index=False)\n",
    "    print(f\"LCS data saved to {heatmap_filename}\")\n",
    "\n",
    "import plotly.express as px\n",
    "import numpy as np\n",
    "\n",
    "# Function to render heatmap from processed data\n",
    "def render_heatmap_from_data(heatmap_data):\n",
    "    heatmap_matrix = heatmap_data.pivot_table(index='Mutation', columns='Position', values='LCS_Ratio', aggfunc=np.mean)\n",
    "\n",
    "    fig = px.imshow(\n",
    "        heatmap_matrix,\n",
    "        labels={'x': 'Mutation Position', 'y': 'Mutated Amino Acid', 'color': 'LCS Ratio'},\n",
    "        color_continuous_scale='Temps',\n",
    "        title=\"Heatmap of LCS Ratios for Each Mutation\",\n",
    "    )\n",
    "\n",
    "    position_labels = list(range(-7, 8))\n",
    "\n",
    "    fig.update_layout(\n",
    "        xaxis=dict(tickmode='array', tickvals=list(range(1, 16)), ticktext=position_labels),\n",
    "        yaxis=dict(tickmode='linear', dtick=1),\n",
    "        coloraxis_colorbar=dict(\n",
    "            tickvals=[0, 0.25, 0.5, 0.75, 1],\n",
    "            ticktext=[\"0.0\", \"0.25\", \"0.5\", \"0.75\", \"1.0\"],\n",
    "            tickmode='array',\n",
    "            title=\"LCS Ratio\",\n",
    "            tickangle=0\n",
    "        ),\n",
    "        plot_bgcolor='white'\n",
    "    )\n",
    "\n",
    "    fig.show()\n",
    "\n",
    "\n",
    "import pandas as pd\n",
    "\n",
    "# Main pipeline function\n",
    "def run_pipeline_from_excel(input_file):\n",
    "    # Load the input Excel file\n",
    "    df = pd.read_excel(input_file)\n",
    "\n",
    "    # Iterate over each row in the Excel file\n",
    "    for index, row in df.iterrows():\n",
    "        # Extract the UniProt ID and reference position from the row\n",
    "        uniprot_id = row[\"uniprot_ID\"]\n",
    "        reference_position = int(row[\"amino_acid_position\"])\n",
    "\n",
    "        print(f\"Processing {uniprot_id} at position {reference_position}...\")\n",
    "\n",
    "        # Extract genomic information\n",
    "        result = extract_genomic_information_from_uniprot_id(uniprot_id, reference_position)\n",
    "\n",
    "        if result:\n",
    "            # Generate mutated sequences\n",
    "            mutated_sequences = generate_mutated_sequences(result['Extracted_Sequence'])\n",
    "\n",
    "            # Save wildtype and mutated predictions\n",
    "            save_wildtype_predictions(uniprot_id, reference_position, result['Extracted_Sequence'])\n",
    "            save_mutated_predictions(mutated_sequences, uniprot_id, reference_position)\n",
    "\n",
    "            # Extract kinase orders\n",
    "            kinase_orders = extract_kinase_orders()\n",
    "\n",
    "            # Load the wildtype CSV file\n",
    "            wildtype_path = f\"mutations2/{uniprot_id}_{reference_position}_wildtype.csv\"\n",
    "            try:\n",
    "                df_wildtype = pd.read_csv(wildtype_path)\n",
    "\n",
    "                # Check if either \"index\" or \"position\" columns are present\n",
    "                if \"index\" not in df_wildtype.columns and \"position\" not in df_wildtype.columns:\n",
    "                    print(f\"Error: Neither 'index' nor 'position' column found in {wildtype_path}\")\n",
    "                    continue  # Skip this entry and go to the next one\n",
    "\n",
    "                # Use 'index' or 'position' for kinase order\n",
    "                kinase_order_column = \"index\" if \"index\" in df_wildtype.columns else \"position\"\n",
    "                wildtype_kinase_order = df_wildtype[kinase_order_column].tolist()\n",
    "\n",
    "                # Calculate LCS scores\n",
    "                lcs_scores = {file: longest_common_subsequence(order, wildtype_kinase_order) for file, order in kinase_orders.items()}\n",
    "\n",
    "                # Normalize LCS scores\n",
    "                normalized_lcs = normalize_lcs_scores(lcs_scores)\n",
    "\n",
    "                # Process LCS for heatmap and save it\n",
    "                process_lcs_for_heatmap(normalized_lcs, uniprot_id, reference_position)\n",
    "                render_heatmap_from_data(pd.read_csv(f\"mutations2/{uniprot_id}_{reference_position}_heatmap_data.csv\"))\n",
    "\n",
    "            except FileNotFoundError:\n",
    "                print(f\"Warning: Wildtype file {wildtype_path} not found. Skipping {uniprot_id}.\")\n",
    "                continue\n",
    "\n",
    "        else:\n",
    "            print(f\"Error: No genomic information found for {uniprot_id} at position {reference_position}. Skipping.\")\n",
    "            continue\n",
    "\n",
    "\n",
    "if __name__ == \"__main__\":\n",
    "    run_pipeline_from_excel(\"input.xlsx\")\n"
   ]
  },
  {
   "cell_type": "code",
   "execution_count": null,
   "metadata": {},
   "outputs": [],
   "source": [
    "'Generate heatmaps for benign and pathogenic mutants from the pilot study'"
   ]
  },
  {
   "cell_type": "code",
   "execution_count": 8,
   "metadata": {},
   "outputs": [
    {
     "name": "stdout",
     "output_type": "stream",
     "text": [
      "🔵 Rendering benign heatmaps...\n",
      "\n",
      "Rendering heatmap for: O14578_307_heatmap_data.csv\n"
     ]
    },
    {
     "name": "stderr",
     "output_type": "stream",
     "text": [
      "C:\\Users\\ricea\\AppData\\Local\\Temp\\ipykernel_26764\\4146770678.py:9: FutureWarning:\n",
      "\n",
      "The provided callable <function mean at 0x000002D40831D6C0> is currently using DataFrameGroupBy.mean. In a future version of pandas, the provided callable will be used directly. To keep current behavior pass the string \"mean\" instead.\n",
      "\n"
     ]
    },
    {
     "data": {
      "application/vnd.plotly.v1+json": {
       "config": {
        "plotlyServerURL": "https://plot.ly"
       },
       "data": [
        {
         "coloraxis": "coloraxis",
         "hovertemplate": "Mutation Position: %{x}<br>Mutated Amino Acid: %{y}<br>LCS Ratio: %{z}<extra></extra>",
         "name": "0",
         "type": "heatmap",
         "x": {
          "bdata": "AQIDBAUGBwgJCgsMDQ4P",
          "dtype": "i1"
         },
         "xaxis": "x",
         "y": [
          "A",
          "C",
          "D",
          "E",
          "F",
          "G",
          "H",
          "I",
          "K",
          "L",
          "M",
          "N",
          "P",
          "Q",
          "R",
          "S",
          "T",
          "V",
          "W",
          "Y"
         ],
         "yaxis": "y",
         "z": {
          "bdata": "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",
          "dtype": "f8",
          "shape": "20, 15"
         }
        }
       ],
       "layout": {
        "coloraxis": {
         "colorbar": {
          "ticktext": [
           "0.0",
           "0.25",
           "0.5",
           "0.75",
           "1.0"
          ],
          "tickvals": [
           0,
           0.25,
           0.5,
           0.75,
           1
          ],
          "title": {
           "text": "LCS Ratio"
          }
         },
         "colorscale": [
          [
           0,
           "rgb(0, 147, 146)"
          ],
          [
           0.16666666666666666,
           "rgb(57, 177, 133)"
          ],
          [
           0.3333333333333333,
           "rgb(156, 203, 134)"
          ],
          [
           0.5,
           "rgb(233, 226, 156)"
          ],
          [
           0.6666666666666666,
           "rgb(238, 180, 121)"
          ],
          [
           0.8333333333333334,
           "rgb(232, 132, 113)"
          ],
          [
           1,
           "rgb(207, 89, 126)"
          ]
         ]
        },
        "plot_bgcolor": "white",
        "template": {
         "data": {
          "bar": [
           {
            "error_x": {
             "color": "#2a3f5f"
            },
            "error_y": {
             "color": "#2a3f5f"
            },
            "marker": {
             "line": {
              "color": "#E5ECF6",
              "width": 0.5
             },
             "pattern": {
              "fillmode": "overlay",
              "size": 10,
              "solidity": 0.2
             }
            },
            "type": "bar"
           }
          ],
          "barpolar": [
           {
            "marker": {
             "line": {
              "color": "#E5ECF6",
              "width": 0.5
             },
             "pattern": {
              "fillmode": "overlay",
              "size": 10,
              "solidity": 0.2
             }
            },
            "type": "barpolar"
           }
          ],
          "carpet": [
           {
            "aaxis": {
             "endlinecolor": "#2a3f5f",
             "gridcolor": "white",
             "linecolor": "white",
             "minorgridcolor": "white",
             "startlinecolor": "#2a3f5f"
            },
            "baxis": {
             "endlinecolor": "#2a3f5f",
             "gridcolor": "white",
             "linecolor": "white",
             "minorgridcolor": "white",
             "startlinecolor": "#2a3f5f"
            },
            "type": "carpet"
           }
          ],
          "choropleth": [
           {
            "colorbar": {
             "outlinewidth": 0,
             "ticks": ""
            },
            "type": "choropleth"
           }
          ],
          "contour": [
           {
            "colorbar": {
             "outlinewidth": 0,
             "ticks": ""
            },
            "colorscale": [
             [
              0,
              "#0d0887"
             ],
             [
              0.1111111111111111,
              "#46039f"
             ],
             [
              0.2222222222222222,
              "#7201a8"
             ],
             [
              0.3333333333333333,
              "#9c179e"
             ],
             [
              0.4444444444444444,
              "#bd3786"
             ],
             [
              0.5555555555555556,
              "#d8576b"
             ],
             [
              0.6666666666666666,
              "#ed7953"
             ],
             [
              0.7777777777777778,
              "#fb9f3a"
             ],
             [
              0.8888888888888888,
              "#fdca26"
             ],
             [
              1,
              "#f0f921"
             ]
            ],
            "type": "contour"
           }
          ],
          "contourcarpet": [
           {
            "colorbar": {
             "outlinewidth": 0,
             "ticks": ""
            },
            "type": "contourcarpet"
           }
          ],
          "heatmap": [
           {
            "colorbar": {
             "outlinewidth": 0,
             "ticks": ""
            },
            "colorscale": [
             [
              0,
              "#0d0887"
             ],
             [
              0.1111111111111111,
              "#46039f"
             ],
             [
              0.2222222222222222,
              "#7201a8"
             ],
             [
              0.3333333333333333,
              "#9c179e"
             ],
             [
              0.4444444444444444,
              "#bd3786"
             ],
             [
              0.5555555555555556,
              "#d8576b"
             ],
             [
              0.6666666666666666,
              "#ed7953"
             ],
             [
              0.7777777777777778,
              "#fb9f3a"
             ],
             [
              0.8888888888888888,
              "#fdca26"
             ],
             [
              1,
              "#f0f921"
             ]
            ],
            "type": "heatmap"
           }
          ],
          "histogram": [
           {
            "marker": {
             "pattern": {
              "fillmode": "overlay",
              "size": 10,
              "solidity": 0.2
             }
            },
            "type": "histogram"
           }
          ],
          "histogram2d": [
           {
            "colorbar": {
             "outlinewidth": 0,
             "ticks": ""
            },
            "colorscale": [
             [
              0,
              "#0d0887"
             ],
             [
              0.1111111111111111,
              "#46039f"
             ],
             [
              0.2222222222222222,
              "#7201a8"
             ],
             [
              0.3333333333333333,
              "#9c179e"
             ],
             [
              0.4444444444444444,
              "#bd3786"
             ],
             [
              0.5555555555555556,
              "#d8576b"
             ],
             [
              0.6666666666666666,
              "#ed7953"
             ],
             [
              0.7777777777777778,
              "#fb9f3a"
             ],
             [
              0.8888888888888888,
              "#fdca26"
             ],
             [
              1,
              "#f0f921"
             ]
            ],
            "type": "histogram2d"
           }
          ],
          "histogram2dcontour": [
           {
            "colorbar": {
             "outlinewidth": 0,
             "ticks": ""
            },
            "colorscale": [
             [
              0,
              "#0d0887"
             ],
             [
              0.1111111111111111,
              "#46039f"
             ],
             [
              0.2222222222222222,
              "#7201a8"
             ],
             [
              0.3333333333333333,
              "#9c179e"
             ],
             [
              0.4444444444444444,
              "#bd3786"
             ],
             [
              0.5555555555555556,
              "#d8576b"
             ],
             [
              0.6666666666666666,
              "#ed7953"
             ],
             [
              0.7777777777777778,
              "#fb9f3a"
             ],
             [
              0.8888888888888888,
              "#fdca26"
             ],
             [
              1,
              "#f0f921"
             ]
            ],
            "type": "histogram2dcontour"
           }
          ],
          "mesh3d": [
           {
            "colorbar": {
             "outlinewidth": 0,
             "ticks": ""
            },
            "type": "mesh3d"
           }
          ],
          "parcoords": [
           {
            "line": {
             "colorbar": {
              "outlinewidth": 0,
              "ticks": ""
             }
            },
            "type": "parcoords"
           }
          ],
          "pie": [
           {
            "automargin": true,
            "type": "pie"
           }
          ],
          "scatter": [
           {
            "fillpattern": {
             "fillmode": "overlay",
             "size": 10,
             "solidity": 0.2
            },
            "type": "scatter"
           }
          ],
          "scatter3d": [
           {
            "line": {
             "colorbar": {
              "outlinewidth": 0,
              "ticks": ""
             }
            },
            "marker": {
             "colorbar": {
              "outlinewidth": 0,
              "ticks": ""
             }
            },
            "type": "scatter3d"
           }
          ],
          "scattercarpet": [
           {
            "marker": {
             "colorbar": {
              "outlinewidth": 0,
              "ticks": ""
             }
            },
            "type": "scattercarpet"
           }
          ],
          "scattergeo": [
           {
            "marker": {
             "colorbar": {
              "outlinewidth": 0,
              "ticks": ""
             }
            },
            "type": "scattergeo"
           }
          ],
          "scattergl": [
           {
            "marker": {
             "colorbar": {
              "outlinewidth": 0,
              "ticks": ""
             }
            },
            "type": "scattergl"
           }
          ],
          "scattermap": [
           {
            "marker": {
             "colorbar": {
              "outlinewidth": 0,
              "ticks": ""
             }
            },
            "type": "scattermap"
           }
          ],
          "scattermapbox": [
           {
            "marker": {
             "colorbar": {
              "outlinewidth": 0,
              "ticks": ""
             }
            },
            "type": "scattermapbox"
           }
          ],
          "scatterpolar": [
           {
            "marker": {
             "colorbar": {
              "outlinewidth": 0,
              "ticks": ""
             }
            },
            "type": "scatterpolar"
           }
          ],
          "scatterpolargl": [
           {
            "marker": {
             "colorbar": {
              "outlinewidth": 0,
              "ticks": ""
             }
            },
            "type": "scatterpolargl"
           }
          ],
          "scatterternary": [
           {
            "marker": {
             "colorbar": {
              "outlinewidth": 0,
              "ticks": ""
             }
            },
            "type": "scatterternary"
           }
          ],
          "surface": [
           {
            "colorbar": {
             "outlinewidth": 0,
             "ticks": ""
            },
            "colorscale": [
             [
              0,
              "#0d0887"
             ],
             [
              0.1111111111111111,
              "#46039f"
             ],
             [
              0.2222222222222222,
              "#7201a8"
             ],
             [
              0.3333333333333333,
              "#9c179e"
             ],
             [
              0.4444444444444444,
              "#bd3786"
             ],
             [
              0.5555555555555556,
              "#d8576b"
             ],
             [
              0.6666666666666666,
              "#ed7953"
             ],
             [
              0.7777777777777778,
              "#fb9f3a"
             ],
             [
              0.8888888888888888,
              "#fdca26"
             ],
             [
              1,
              "#f0f921"
             ]
            ],
            "type": "surface"
           }
          ],
          "table": [
           {
            "cells": {
             "fill": {
              "color": "#EBF0F8"
             },
             "line": {
              "color": "white"
             }
            },
            "header": {
             "fill": {
              "color": "#C8D4E3"
             },
             "line": {
              "color": "white"
             }
            },
            "type": "table"
           }
          ]
         },
         "layout": {
          "annotationdefaults": {
           "arrowcolor": "#2a3f5f",
           "arrowhead": 0,
           "arrowwidth": 1
          },
          "autotypenumbers": "strict",
          "coloraxis": {
           "colorbar": {
            "outlinewidth": 0,
            "ticks": ""
           }
          },
          "colorscale": {
           "diverging": [
            [
             0,
             "#8e0152"
            ],
            [
             0.1,
             "#c51b7d"
            ],
            [
             0.2,
             "#de77ae"
            ],
            [
             0.3,
             "#f1b6da"
            ],
            [
             0.4,
             "#fde0ef"
            ],
            [
             0.5,
             "#f7f7f7"
            ],
            [
             0.6,
             "#e6f5d0"
            ],
            [
             0.7,
             "#b8e186"
            ],
            [
             0.8,
             "#7fbc41"
            ],
            [
             0.9,
             "#4d9221"
            ],
            [
             1,
             "#276419"
            ]
           ],
           "sequential": [
            [
             0,
             "#0d0887"
            ],
            [
             0.1111111111111111,
             "#46039f"
            ],
            [
             0.2222222222222222,
             "#7201a8"
            ],
            [
             0.3333333333333333,
             "#9c179e"
            ],
            [
             0.4444444444444444,
             "#bd3786"
            ],
            [
             0.5555555555555556,
             "#d8576b"
            ],
            [
             0.6666666666666666,
             "#ed7953"
            ],
            [
             0.7777777777777778,
             "#fb9f3a"
            ],
            [
             0.8888888888888888,
             "#fdca26"
            ],
            [
             1,
             "#f0f921"
            ]
           ],
           "sequentialminus": [
            [
             0,
             "#0d0887"
            ],
            [
             0.1111111111111111,
             "#46039f"
            ],
            [
             0.2222222222222222,
             "#7201a8"
            ],
            [
             0.3333333333333333,
             "#9c179e"
            ],
            [
             0.4444444444444444,
             "#bd3786"
            ],
            [
             0.5555555555555556,
             "#d8576b"
            ],
            [
             0.6666666666666666,
             "#ed7953"
            ],
            [
             0.7777777777777778,
             "#fb9f3a"
            ],
            [
             0.8888888888888888,
             "#fdca26"
            ],
            [
             1,
             "#f0f921"
            ]
           ]
          },
          "colorway": [
           "#636efa",
           "#EF553B",
           "#00cc96",
           "#ab63fa",
           "#FFA15A",
           "#19d3f3",
           "#FF6692",
           "#B6E880",
           "#FF97FF",
           "#FECB52"
          ],
          "font": {
           "color": "#2a3f5f"
          },
          "geo": {
           "bgcolor": "white",
           "lakecolor": "white",
           "landcolor": "#E5ECF6",
           "showlakes": true,
           "showland": true,
           "subunitcolor": "white"
          },
          "hoverlabel": {
           "align": "left"
          },
          "hovermode": "closest",
          "mapbox": {
           "style": "light"
          },
          "paper_bgcolor": "white",
          "plot_bgcolor": "#E5ECF6",
          "polar": {
           "angularaxis": {
            "gridcolor": "white",
            "linecolor": "white",
            "ticks": ""
           },
           "bgcolor": "#E5ECF6",
           "radialaxis": {
            "gridcolor": "white",
            "linecolor": "white",
            "ticks": ""
           }
          },
          "scene": {
           "xaxis": {
            "backgroundcolor": "#E5ECF6",
            "gridcolor": "white",
            "gridwidth": 2,
            "linecolor": "white",
            "showbackground": true,
            "ticks": "",
            "zerolinecolor": "white"
           },
           "yaxis": {
            "backgroundcolor": "#E5ECF6",
            "gridcolor": "white",
            "gridwidth": 2,
            "linecolor": "white",
            "showbackground": true,
            "ticks": "",
            "zerolinecolor": "white"
           },
           "zaxis": {
            "backgroundcolor": "#E5ECF6",
            "gridcolor": "white",
            "gridwidth": 2,
            "linecolor": "white",
            "showbackground": true,
            "ticks": "",
            "zerolinecolor": "white"
           }
          },
          "shapedefaults": {
           "line": {
            "color": "#2a3f5f"
           }
          },
          "ternary": {
           "aaxis": {
            "gridcolor": "white",
            "linecolor": "white",
            "ticks": ""
           },
           "baxis": {
            "gridcolor": "white",
            "linecolor": "white",
            "ticks": ""
           },
           "bgcolor": "#E5ECF6",
           "caxis": {
            "gridcolor": "white",
            "linecolor": "white",
            "ticks": ""
           }
          },
          "title": {
           "x": 0.05
          },
          "xaxis": {
           "automargin": true,
           "gridcolor": "white",
           "linecolor": "white",
           "ticks": "",
           "title": {
            "standoff": 15
           },
           "zerolinecolor": "white",
           "zerolinewidth": 2
          },
          "yaxis": {
           "automargin": true,
           "gridcolor": "white",
           "linecolor": "white",
           "ticks": "",
           "title": {
            "standoff": 15
           },
           "zerolinecolor": "white",
           "zerolinewidth": 2
          }
         }
        },
        "title": {
         "text": "Normalized LCS values for O14578 at position 307"
        },
        "xaxis": {
         "anchor": "y",
         "constrain": "domain",
         "domain": [
          0,
          1
         ],
         "scaleanchor": "y",
         "tickmode": "array",
         "ticktext": [
          -7,
          -6,
          -5,
          -4,
          -3,
          -2,
          -1,
          0,
          1,
          2,
          3,
          4,
          5,
          6,
          7
         ],
         "tickvals": [
          1,
          2,
          3,
          4,
          5,
          6,
          7,
          8,
          9,
          10,
          11,
          12,
          13,
          14,
          15
         ],
         "title": {
          "text": "Mutation Position"
         }
        },
        "yaxis": {
         "anchor": "x",
         "autorange": "reversed",
         "constrain": "domain",
         "domain": [
          0,
          1
         ],
         "dtick": 1,
         "tickmode": "linear",
         "title": {
          "text": "Mutated Amino Acid"
         }
        }
       }
      }
     },
     "metadata": {},
     "output_type": "display_data"
    },
    {
     "name": "stdout",
     "output_type": "stream",
     "text": [
      "\n",
      "Rendering heatmap for: P30566_151_heatmap_data.csv\n"
     ]
    },
    {
     "name": "stderr",
     "output_type": "stream",
     "text": [
      "C:\\Users\\ricea\\AppData\\Local\\Temp\\ipykernel_26764\\4146770678.py:9: FutureWarning:\n",
      "\n",
      "The provided callable <function mean at 0x000002D40831D6C0> is currently using DataFrameGroupBy.mean. In a future version of pandas, the provided callable will be used directly. To keep current behavior pass the string \"mean\" instead.\n",
      "\n"
     ]
    },
    {
     "data": {
      "application/vnd.plotly.v1+json": {
       "config": {
        "plotlyServerURL": "https://plot.ly"
       },
       "data": [
        {
         "coloraxis": "coloraxis",
         "hovertemplate": "Mutation Position: %{x}<br>Mutated Amino Acid: %{y}<br>LCS Ratio: %{z}<extra></extra>",
         "name": "0",
         "type": "heatmap",
         "x": {
          "bdata": "AQIDBAUGBwgJCgsMDQ4P",
          "dtype": "i1"
         },
         "xaxis": "x",
         "y": [
          "A",
          "C",
          "D",
          "E",
          "F",
          "G",
          "H",
          "I",
          "K",
          "L",
          "M",
          "N",
          "P",
          "Q",
          "R",
          "S",
          "T",
          "V",
          "W",
          "Y"
         ],
         "yaxis": "y",
         "z": {
          "bdata": "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",
          "dtype": "f8",
          "shape": "20, 15"
         }
        }
       ],
       "layout": {
        "coloraxis": {
         "colorbar": {
          "ticktext": [
           "0.0",
           "0.25",
           "0.5",
           "0.75",
           "1.0"
          ],
          "tickvals": [
           0,
           0.25,
           0.5,
           0.75,
           1
          ],
          "title": {
           "text": "LCS Ratio"
          }
         },
         "colorscale": [
          [
           0,
           "rgb(0, 147, 146)"
          ],
          [
           0.16666666666666666,
           "rgb(57, 177, 133)"
          ],
          [
           0.3333333333333333,
           "rgb(156, 203, 134)"
          ],
          [
           0.5,
           "rgb(233, 226, 156)"
          ],
          [
           0.6666666666666666,
           "rgb(238, 180, 121)"
          ],
          [
           0.8333333333333334,
           "rgb(232, 132, 113)"
          ],
          [
           1,
           "rgb(207, 89, 126)"
          ]
         ]
        },
        "plot_bgcolor": "white",
        "template": {
         "data": {
          "bar": [
           {
            "error_x": {
             "color": "#2a3f5f"
            },
            "error_y": {
             "color": "#2a3f5f"
            },
            "marker": {
             "line": {
              "color": "#E5ECF6",
              "width": 0.5
             },
             "pattern": {
              "fillmode": "overlay",
              "size": 10,
              "solidity": 0.2
             }
            },
            "type": "bar"
           }
          ],
          "barpolar": [
           {
            "marker": {
             "line": {
              "color": "#E5ECF6",
              "width": 0.5
             },
             "pattern": {
              "fillmode": "overlay",
              "size": 10,
              "solidity": 0.2
             }
            },
            "type": "barpolar"
           }
          ],
          "carpet": [
           {
            "aaxis": {
             "endlinecolor": "#2a3f5f",
             "gridcolor": "white",
             "linecolor": "white",
             "minorgridcolor": "white",
             "startlinecolor": "#2a3f5f"
            },
            "baxis": {
             "endlinecolor": "#2a3f5f",
             "gridcolor": "white",
             "linecolor": "white",
             "minorgridcolor": "white",
             "startlinecolor": "#2a3f5f"
            },
            "type": "carpet"
           }
          ],
          "choropleth": [
           {
            "colorbar": {
             "outlinewidth": 0,
             "ticks": ""
            },
            "type": "choropleth"
           }
          ],
          "contour": [
           {
            "colorbar": {
             "outlinewidth": 0,
             "ticks": ""
            },
            "colorscale": [
             [
              0,
              "#0d0887"
             ],
             [
              0.1111111111111111,
              "#46039f"
             ],
             [
              0.2222222222222222,
              "#7201a8"
             ],
             [
              0.3333333333333333,
              "#9c179e"
             ],
             [
              0.4444444444444444,
              "#bd3786"
             ],
             [
              0.5555555555555556,
              "#d8576b"
             ],
             [
              0.6666666666666666,
              "#ed7953"
             ],
             [
              0.7777777777777778,
              "#fb9f3a"
             ],
             [
              0.8888888888888888,
              "#fdca26"
             ],
             [
              1,
              "#f0f921"
             ]
            ],
            "type": "contour"
           }
          ],
          "contourcarpet": [
           {
            "colorbar": {
             "outlinewidth": 0,
             "ticks": ""
            },
            "type": "contourcarpet"
           }
          ],
          "heatmap": [
           {
            "colorbar": {
             "outlinewidth": 0,
             "ticks": ""
            },
            "colorscale": [
             [
              0,
              "#0d0887"
             ],
             [
              0.1111111111111111,
              "#46039f"
             ],
             [
              0.2222222222222222,
              "#7201a8"
             ],
             [
              0.3333333333333333,
              "#9c179e"
             ],
             [
              0.4444444444444444,
              "#bd3786"
             ],
             [
              0.5555555555555556,
              "#d8576b"
             ],
             [
              0.6666666666666666,
              "#ed7953"
             ],
             [
              0.7777777777777778,
              "#fb9f3a"
             ],
             [
              0.8888888888888888,
              "#fdca26"
             ],
             [
              1,
              "#f0f921"
             ]
            ],
            "type": "heatmap"
           }
          ],
          "histogram": [
           {
            "marker": {
             "pattern": {
              "fillmode": "overlay",
              "size": 10,
              "solidity": 0.2
             }
            },
            "type": "histogram"
           }
          ],
          "histogram2d": [
           {
            "colorbar": {
             "outlinewidth": 0,
             "ticks": ""
            },
            "colorscale": [
             [
              0,
              "#0d0887"
             ],
             [
              0.1111111111111111,
              "#46039f"
             ],
             [
              0.2222222222222222,
              "#7201a8"
             ],
             [
              0.3333333333333333,
              "#9c179e"
             ],
             [
              0.4444444444444444,
              "#bd3786"
             ],
             [
              0.5555555555555556,
              "#d8576b"
             ],
             [
              0.6666666666666666,
              "#ed7953"
             ],
             [
              0.7777777777777778,
              "#fb9f3a"
             ],
             [
              0.8888888888888888,
              "#fdca26"
             ],
             [
              1,
              "#f0f921"
             ]
            ],
            "type": "histogram2d"
           }
          ],
          "histogram2dcontour": [
           {
            "colorbar": {
             "outlinewidth": 0,
             "ticks": ""
            },
            "colorscale": [
             [
              0,
              "#0d0887"
             ],
             [
              0.1111111111111111,
              "#46039f"
             ],
             [
              0.2222222222222222,
              "#7201a8"
             ],
             [
              0.3333333333333333,
              "#9c179e"
             ],
             [
              0.4444444444444444,
              "#bd3786"
             ],
             [
              0.5555555555555556,
              "#d8576b"
             ],
             [
              0.6666666666666666,
              "#ed7953"
             ],
             [
              0.7777777777777778,
              "#fb9f3a"
             ],
             [
              0.8888888888888888,
              "#fdca26"
             ],
             [
              1,
              "#f0f921"
             ]
            ],
            "type": "histogram2dcontour"
           }
          ],
          "mesh3d": [
           {
            "colorbar": {
             "outlinewidth": 0,
             "ticks": ""
            },
            "type": "mesh3d"
           }
          ],
          "parcoords": [
           {
            "line": {
             "colorbar": {
              "outlinewidth": 0,
              "ticks": ""
             }
            },
            "type": "parcoords"
           }
          ],
          "pie": [
           {
            "automargin": true,
            "type": "pie"
           }
          ],
          "scatter": [
           {
            "fillpattern": {
             "fillmode": "overlay",
             "size": 10,
             "solidity": 0.2
            },
            "type": "scatter"
           }
          ],
          "scatter3d": [
           {
            "line": {
             "colorbar": {
              "outlinewidth": 0,
              "ticks": ""
             }
            },
            "marker": {
             "colorbar": {
              "outlinewidth": 0,
              "ticks": ""
             }
            },
            "type": "scatter3d"
           }
          ],
          "scattercarpet": [
           {
            "marker": {
             "colorbar": {
              "outlinewidth": 0,
              "ticks": ""
             }
            },
            "type": "scattercarpet"
           }
          ],
          "scattergeo": [
           {
            "marker": {
             "colorbar": {
              "outlinewidth": 0,
              "ticks": ""
             }
            },
            "type": "scattergeo"
           }
          ],
          "scattergl": [
           {
            "marker": {
             "colorbar": {
              "outlinewidth": 0,
              "ticks": ""
             }
            },
            "type": "scattergl"
           }
          ],
          "scattermap": [
           {
            "marker": {
             "colorbar": {
              "outlinewidth": 0,
              "ticks": ""
             }
            },
            "type": "scattermap"
           }
          ],
          "scattermapbox": [
           {
            "marker": {
             "colorbar": {
              "outlinewidth": 0,
              "ticks": ""
             }
            },
            "type": "scattermapbox"
           }
          ],
          "scatterpolar": [
           {
            "marker": {
             "colorbar": {
              "outlinewidth": 0,
              "ticks": ""
             }
            },
            "type": "scatterpolar"
           }
          ],
          "scatterpolargl": [
           {
            "marker": {
             "colorbar": {
              "outlinewidth": 0,
              "ticks": ""
             }
            },
            "type": "scatterpolargl"
           }
          ],
          "scatterternary": [
           {
            "marker": {
             "colorbar": {
              "outlinewidth": 0,
              "ticks": ""
             }
            },
            "type": "scatterternary"
           }
          ],
          "surface": [
           {
            "colorbar": {
             "outlinewidth": 0,
             "ticks": ""
            },
            "colorscale": [
             [
              0,
              "#0d0887"
             ],
             [
              0.1111111111111111,
              "#46039f"
             ],
             [
              0.2222222222222222,
              "#7201a8"
             ],
             [
              0.3333333333333333,
              "#9c179e"
             ],
             [
              0.4444444444444444,
              "#bd3786"
             ],
             [
              0.5555555555555556,
              "#d8576b"
             ],
             [
              0.6666666666666666,
              "#ed7953"
             ],
             [
              0.7777777777777778,
              "#fb9f3a"
             ],
             [
              0.8888888888888888,
              "#fdca26"
             ],
             [
              1,
              "#f0f921"
             ]
            ],
            "type": "surface"
           }
          ],
          "table": [
           {
            "cells": {
             "fill": {
              "color": "#EBF0F8"
             },
             "line": {
              "color": "white"
             }
            },
            "header": {
             "fill": {
              "color": "#C8D4E3"
             },
             "line": {
              "color": "white"
             }
            },
            "type": "table"
           }
          ]
         },
         "layout": {
          "annotationdefaults": {
           "arrowcolor": "#2a3f5f",
           "arrowhead": 0,
           "arrowwidth": 1
          },
          "autotypenumbers": "strict",
          "coloraxis": {
           "colorbar": {
            "outlinewidth": 0,
            "ticks": ""
           }
          },
          "colorscale": {
           "diverging": [
            [
             0,
             "#8e0152"
            ],
            [
             0.1,
             "#c51b7d"
            ],
            [
             0.2,
             "#de77ae"
            ],
            [
             0.3,
             "#f1b6da"
            ],
            [
             0.4,
             "#fde0ef"
            ],
            [
             0.5,
             "#f7f7f7"
            ],
            [
             0.6,
             "#e6f5d0"
            ],
            [
             0.7,
             "#b8e186"
            ],
            [
             0.8,
             "#7fbc41"
            ],
            [
             0.9,
             "#4d9221"
            ],
            [
             1,
             "#276419"
            ]
           ],
           "sequential": [
            [
             0,
             "#0d0887"
            ],
            [
             0.1111111111111111,
             "#46039f"
            ],
            [
             0.2222222222222222,
             "#7201a8"
            ],
            [
             0.3333333333333333,
             "#9c179e"
            ],
            [
             0.4444444444444444,
             "#bd3786"
            ],
            [
             0.5555555555555556,
             "#d8576b"
            ],
            [
             0.6666666666666666,
             "#ed7953"
            ],
            [
             0.7777777777777778,
             "#fb9f3a"
            ],
            [
             0.8888888888888888,
             "#fdca26"
            ],
            [
             1,
             "#f0f921"
            ]
           ],
           "sequentialminus": [
            [
             0,
             "#0d0887"
            ],
            [
             0.1111111111111111,
             "#46039f"
            ],
            [
             0.2222222222222222,
             "#7201a8"
            ],
            [
             0.3333333333333333,
             "#9c179e"
            ],
            [
             0.4444444444444444,
             "#bd3786"
            ],
            [
             0.5555555555555556,
             "#d8576b"
            ],
            [
             0.6666666666666666,
             "#ed7953"
            ],
            [
             0.7777777777777778,
             "#fb9f3a"
            ],
            [
             0.8888888888888888,
             "#fdca26"
            ],
            [
             1,
             "#f0f921"
            ]
           ]
          },
          "colorway": [
           "#636efa",
           "#EF553B",
           "#00cc96",
           "#ab63fa",
           "#FFA15A",
           "#19d3f3",
           "#FF6692",
           "#B6E880",
           "#FF97FF",
           "#FECB52"
          ],
          "font": {
           "color": "#2a3f5f"
          },
          "geo": {
           "bgcolor": "white",
           "lakecolor": "white",
           "landcolor": "#E5ECF6",
           "showlakes": true,
           "showland": true,
           "subunitcolor": "white"
          },
          "hoverlabel": {
           "align": "left"
          },
          "hovermode": "closest",
          "mapbox": {
           "style": "light"
          },
          "paper_bgcolor": "white",
          "plot_bgcolor": "#E5ECF6",
          "polar": {
           "angularaxis": {
            "gridcolor": "white",
            "linecolor": "white",
            "ticks": ""
           },
           "bgcolor": "#E5ECF6",
           "radialaxis": {
            "gridcolor": "white",
            "linecolor": "white",
            "ticks": ""
           }
          },
          "scene": {
           "xaxis": {
            "backgroundcolor": "#E5ECF6",
            "gridcolor": "white",
            "gridwidth": 2,
            "linecolor": "white",
            "showbackground": true,
            "ticks": "",
            "zerolinecolor": "white"
           },
           "yaxis": {
            "backgroundcolor": "#E5ECF6",
            "gridcolor": "white",
            "gridwidth": 2,
            "linecolor": "white",
            "showbackground": true,
            "ticks": "",
            "zerolinecolor": "white"
           },
           "zaxis": {
            "backgroundcolor": "#E5ECF6",
            "gridcolor": "white",
            "gridwidth": 2,
            "linecolor": "white",
            "showbackground": true,
            "ticks": "",
            "zerolinecolor": "white"
           }
          },
          "shapedefaults": {
           "line": {
            "color": "#2a3f5f"
           }
          },
          "ternary": {
           "aaxis": {
            "gridcolor": "white",
            "linecolor": "white",
            "ticks": ""
           },
           "baxis": {
            "gridcolor": "white",
            "linecolor": "white",
            "ticks": ""
           },
           "bgcolor": "#E5ECF6",
           "caxis": {
            "gridcolor": "white",
            "linecolor": "white",
            "ticks": ""
           }
          },
          "title": {
           "x": 0.05
          },
          "xaxis": {
           "automargin": true,
           "gridcolor": "white",
           "linecolor": "white",
           "ticks": "",
           "title": {
            "standoff": 15
           },
           "zerolinecolor": "white",
           "zerolinewidth": 2
          },
          "yaxis": {
           "automargin": true,
           "gridcolor": "white",
           "linecolor": "white",
           "ticks": "",
           "title": {
            "standoff": 15
           },
           "zerolinecolor": "white",
           "zerolinewidth": 2
          }
         }
        },
        "title": {
         "text": "Normalized LCS values for P30566 at position 151"
        },
        "xaxis": {
         "anchor": "y",
         "constrain": "domain",
         "domain": [
          0,
          1
         ],
         "scaleanchor": "y",
         "tickmode": "array",
         "ticktext": [
          -7,
          -6,
          -5,
          -4,
          -3,
          -2,
          -1,
          0,
          1,
          2,
          3,
          4,
          5,
          6,
          7
         ],
         "tickvals": [
          1,
          2,
          3,
          4,
          5,
          6,
          7,
          8,
          9,
          10,
          11,
          12,
          13,
          14,
          15
         ],
         "title": {
          "text": "Mutation Position"
         }
        },
        "yaxis": {
         "anchor": "x",
         "autorange": "reversed",
         "constrain": "domain",
         "domain": [
          0,
          1
         ],
         "dtick": 1,
         "tickmode": "linear",
         "title": {
          "text": "Mutated Amino Acid"
         }
        }
       }
      }
     },
     "metadata": {},
     "output_type": "display_data"
    },
    {
     "name": "stdout",
     "output_type": "stream",
     "text": [
      "\n",
      "Rendering heatmap for: P30566_289_heatmap_data.csv\n"
     ]
    },
    {
     "name": "stderr",
     "output_type": "stream",
     "text": [
      "C:\\Users\\ricea\\AppData\\Local\\Temp\\ipykernel_26764\\4146770678.py:9: FutureWarning:\n",
      "\n",
      "The provided callable <function mean at 0x000002D40831D6C0> is currently using DataFrameGroupBy.mean. In a future version of pandas, the provided callable will be used directly. To keep current behavior pass the string \"mean\" instead.\n",
      "\n"
     ]
    },
    {
     "data": {
      "application/vnd.plotly.v1+json": {
       "config": {
        "plotlyServerURL": "https://plot.ly"
       },
       "data": [
        {
         "coloraxis": "coloraxis",
         "hovertemplate": "Mutation Position: %{x}<br>Mutated Amino Acid: %{y}<br>LCS Ratio: %{z}<extra></extra>",
         "name": "0",
         "type": "heatmap",
         "x": {
          "bdata": "AQIDBAUGBwgJCgsMDQ4P",
          "dtype": "i1"
         },
         "xaxis": "x",
         "y": [
          "A",
          "C",
          "D",
          "E",
          "F",
          "G",
          "H",
          "I",
          "K",
          "L",
          "M",
          "N",
          "P",
          "Q",
          "R",
          "S",
          "T",
          "V",
          "W",
          "Y"
         ],
         "yaxis": "y",
         "z": {
          "bdata": "AAAAAAAA8D8AAAAAAADwPyE+gVRyXrY/e+WfIyF4wz9D0x3st9q4P+qa0Vf+ObI/SlqnHs+uuT8AAAAAAAD4f44LaoBxe68/AAAAAAAA+H+WC2qAcXu/P98TSCXnZcE/AAAAAAAA8D8AAAAAAADwPwAAAAAAAPA/AAAAAAAA8D8AAAAAAADwPyE+gVRyXrY/e+WfIyF4wz/qmtFX/jmyPyfFCoeJMrc/gf1WG0PTrT8AAAAAAAD4f1LJeVnEJ8A/gf1WG0PTvT9eaLqD/Va7P4iE4E1ap74/AAAAAAAA8D8AAAAAAADwPwAAAAAAAPA/AAAAAAAA8D8AAAAAAADwP9wTSCXnZbE/6prRV/45sj/VjL7yz5GwP9wTSCXnZbE/jgtqgHF7rz8AAAAAAAD4fzVMlLmgBrg/E7f3IVuKpT9l70O2FCusP9WMvvLPkbA/AAAAAAAA8D8AAAAAAADwPwAAAAAAAPA/AAAAAAAA8D8AAAAAAAD4f+qa0Vf+ObI/NUyUuaAGuD+B/VYbQ9OdP/eo5Lws4qM/96jkvCzioz8AAAAAAAD4f4H9VhtD060/IMUKh4kypz+OC2qAcXuvP0nhMFHmgpo/AAAAAAAA8D8AAAAAAADwPwAAAAAAAPA/AAAAAAAA+H8AAAAAAADwP9wTSCXnZbE//qjkvCzisz9Y4TBR5oK6P4H9VhtD060/96jkvCzioz8AAAAAAAD4f1jhMFHmgqo/Xmi6g/1Wuz+B/VYbQ9O9PyE+gVRyXrY/AAAAAAAA8D8AAAAAAADwPwAAAAAAAPA/AAAAAAAA8D8AAAAAAADwPzVMlLmgBrg/Usl5WcQnwD/+qOS8LOKzP+qa0Vf+ObI/AAAAAAAA+H8AAAAAAAD4f9wTSCXnZbE/jgtqgHF7rz+IhOBNWqe+Pxa39yFbisU/AAAAAAAA8D8AAAAAAADwPwAAAAAAAPA/AAAAAAAA8D8AAAAAAADwP15ouoP9Vrs/hWwpVjhMxD9D0x3st9q4PxO39yFbirU/jgtqgHF7rz8AAAAAAAD4f0PTHey32sg/bO9DthQrvD9zds3oK/+8P15ouoP9Vrs/AAAAAAAA8D8AAAAAAADwPwAAAAAAAPA/AAAAAAAA8D8AAAAAAADwP/6o5Lws4rM/gf1WG0PTvT8nxQqHiTK3PwAAAAAAAPh/6prRV/45sj8AAAAAAAD4f4H9VhtD070/3BNIJedlsT+dejy7ZvTFP15ouoP9Vrs/AAAAAAAA8D8AAAAAAADwPwAAAAAAAPA/AAAAAAAA8D8AAAAAAADwPwAAAAAAAPh/3xNIJedlwT/VjL7yz5HAPzVMlLmgBrg/WOEwUeaCqj8AAAAAAAD4f15ouoP9Vrs/E7f3IVuKpT9Y4TBR5oK6PyfFCoeJMrc/AAAAAAAA8D8AAAAAAAD4fwAAAAAAAPA/AAAAAAAA8D8AAAAAAADwP1jhMFHmgqo/iITgTVqnvj+B/VYbQ9O9PyfFCoeJMrc/jgtqgHF7rz8AAAAAAAD4fyfFCoeJMrc/lgtqgHF7vz9cUAOM2/vAP0PTHey32rg/AAAAAAAA8D8AAAAAAADwPwAAAAAAAPA/AAAAAAAA8D8AAAAAAADwP2zvQ7YUK7w/hWwpVjhMxD+B/VYbQ9OtP/6o5Lws4rM/3BNIJedlsT8AAAAAAAD4f1jhMFHmgro/DDBu70O2tD8AAAAAAAD4f9WMvvLPkbA/AAAAAAAA8D8AAAAAAADwPwAAAAAAAPA/AAAAAAAA8D8AAAAAAADwP98TSCXnZcE/e+WfIyF4wz9m14y+8s/BPwwwbu9DtrQ/3BNIJedlsT8AAAAAAAD4fyfFCoeJMrc/Ze9DthQrrD9Y4TBR5oK6P3vlnyMheMM/AAAAAAAA8D8AAAAAAADwPwAAAAAAAPA/AAAAAAAA8D8AAAAAAADwPxO39yFbirU/SlqnHs+uuT+IhOBNWqe+P44LaoBxe68/1Yy+8s+RsD8AAAAAAAD4f/ghW4oVDrM/NUyUuaAGuD8gxQqHiTKnPwAAAAAAAPh/AAAAAAAA8D8AAAAAAADwPwAAAAAAAPA/AAAAAAAA8D8AAAAAAADwP4H9VhtD070/AAAAAAAA+H8AAAAAAAD4f44LaoBxe68/+CFbihUOsz8AAAAAAAD4f2bXjL7yz8E/DDBu70O2tD9eaLqD/Va7P2bXjL7yz8E/AAAAAAAA8D8AAAAAAADwPwAAAAAAAPA/AAAAAAAA8D8AAAAAAADwP2zvQ7YUK7w/SlqnHs+uuT/4IVuKFQ6zPwwwbu9DtrQ/J8UKh4kytz8AAAAAAAD4fxO39yFbirU/WOEwUeaCqj/3qOS8LOKjP/ghW4oVDrM/AAAAAAAA8D8AAAAAAADwPwAAAAAAAPh/AAAAAAAA8D8AAAAAAADwP1LJeVnEJ8A/sohPIJWcxz/VjL7yz5HAPyfFCoeJMrc//qjkvCzisz8AAAAAAAD4fwAAAAAAAPh/WOEwUeaCuj8Wt/chW4rFP4H9VhtD070/AAAAAAAA8D8AAAAAAADwPwAAAAAAAPA/AAAAAAAA8D8AAAAAAADwP1LJeVnEJ8A/sohPIJWcxz/VjL7yz5HAPyfFCoeJMrc//qjkvCzisz/3qOS8LOKjPwAAAAAAAPA/WOEwUeaCuj8Wt/chW4rFP4H9VhtD070/AAAAAAAA8D8AAAAAAADwPwAAAAAAAPA/AAAAAAAA8D8AAAAAAADwP9WMvvLPkbA/bO9DthQrvD+WC2qAcXu/P3FeFvEJpMI/Ze9DthQrrD8AAAAAAAD4fyE+gVRyXrY/bO9DthQrvD+FbClWOEzEP/6o5Lws4rM/AAAAAAAA8D8AAAAAAADwPwAAAAAAAPA/AAAAAAAA8D8AAAAAAADwP9WMvvLPkbA/J8UKh4kytz8hPoFUcl62PzVMlLmgBrg/jgtqgHF7rz8AAAAAAAD4f5YLaoBxe78/IT6BVHJetj9s70O2FCu8PxO39yFbirU/AAAAAAAA8D8AAAAAAADwPwAAAAAAAPA/AAAAAAAA8D8AAAAAAADwPzzTHey32qg/NUyUuaAGuD9s70O2FCu8P2zvQ7YUK7w/1Yy+8s+RsD/W4DBR5oJqv1LJeVnEJ8A/+CFbihUOsz+B/VYbQ9O9PyE+gVRyXrY/AAAAAAAA+H8AAAAAAADwPwAAAAAAAPA/",
          "dtype": "f8",
          "shape": "20, 15"
         }
        }
       ],
       "layout": {
        "coloraxis": {
         "colorbar": {
          "ticktext": [
           "0.0",
           "0.25",
           "0.5",
           "0.75",
           "1.0"
          ],
          "tickvals": [
           0,
           0.25,
           0.5,
           0.75,
           1
          ],
          "title": {
           "text": "LCS Ratio"
          }
         },
         "colorscale": [
          [
           0,
           "rgb(0, 147, 146)"
          ],
          [
           0.16666666666666666,
           "rgb(57, 177, 133)"
          ],
          [
           0.3333333333333333,
           "rgb(156, 203, 134)"
          ],
          [
           0.5,
           "rgb(233, 226, 156)"
          ],
          [
           0.6666666666666666,
           "rgb(238, 180, 121)"
          ],
          [
           0.8333333333333334,
           "rgb(232, 132, 113)"
          ],
          [
           1,
           "rgb(207, 89, 126)"
          ]
         ]
        },
        "plot_bgcolor": "white",
        "template": {
         "data": {
          "bar": [
           {
            "error_x": {
             "color": "#2a3f5f"
            },
            "error_y": {
             "color": "#2a3f5f"
            },
            "marker": {
             "line": {
              "color": "#E5ECF6",
              "width": 0.5
             },
             "pattern": {
              "fillmode": "overlay",
              "size": 10,
              "solidity": 0.2
             }
            },
            "type": "bar"
           }
          ],
          "barpolar": [
           {
            "marker": {
             "line": {
              "color": "#E5ECF6",
              "width": 0.5
             },
             "pattern": {
              "fillmode": "overlay",
              "size": 10,
              "solidity": 0.2
             }
            },
            "type": "barpolar"
           }
          ],
          "carpet": [
           {
            "aaxis": {
             "endlinecolor": "#2a3f5f",
             "gridcolor": "white",
             "linecolor": "white",
             "minorgridcolor": "white",
             "startlinecolor": "#2a3f5f"
            },
            "baxis": {
             "endlinecolor": "#2a3f5f",
             "gridcolor": "white",
             "linecolor": "white",
             "minorgridcolor": "white",
             "startlinecolor": "#2a3f5f"
            },
            "type": "carpet"
           }
          ],
          "choropleth": [
           {
            "colorbar": {
             "outlinewidth": 0,
             "ticks": ""
            },
            "type": "choropleth"
           }
          ],
          "contour": [
           {
            "colorbar": {
             "outlinewidth": 0,
             "ticks": ""
            },
            "colorscale": [
             [
              0,
              "#0d0887"
             ],
             [
              0.1111111111111111,
              "#46039f"
             ],
             [
              0.2222222222222222,
              "#7201a8"
             ],
             [
              0.3333333333333333,
              "#9c179e"
             ],
             [
              0.4444444444444444,
              "#bd3786"
             ],
             [
              0.5555555555555556,
              "#d8576b"
             ],
             [
              0.6666666666666666,
              "#ed7953"
             ],
             [
              0.7777777777777778,
              "#fb9f3a"
             ],
             [
              0.8888888888888888,
              "#fdca26"
             ],
             [
              1,
              "#f0f921"
             ]
            ],
            "type": "contour"
           }
          ],
          "contourcarpet": [
           {
            "colorbar": {
             "outlinewidth": 0,
             "ticks": ""
            },
            "type": "contourcarpet"
           }
          ],
          "heatmap": [
           {
            "colorbar": {
             "outlinewidth": 0,
             "ticks": ""
            },
            "colorscale": [
             [
              0,
              "#0d0887"
             ],
             [
              0.1111111111111111,
              "#46039f"
             ],
             [
              0.2222222222222222,
              "#7201a8"
             ],
             [
              0.3333333333333333,
              "#9c179e"
             ],
             [
              0.4444444444444444,
              "#bd3786"
             ],
             [
              0.5555555555555556,
              "#d8576b"
             ],
             [
              0.6666666666666666,
              "#ed7953"
             ],
             [
              0.7777777777777778,
              "#fb9f3a"
             ],
             [
              0.8888888888888888,
              "#fdca26"
             ],
             [
              1,
              "#f0f921"
             ]
            ],
            "type": "heatmap"
           }
          ],
          "histogram": [
           {
            "marker": {
             "pattern": {
              "fillmode": "overlay",
              "size": 10,
              "solidity": 0.2
             }
            },
            "type": "histogram"
           }
          ],
          "histogram2d": [
           {
            "colorbar": {
             "outlinewidth": 0,
             "ticks": ""
            },
            "colorscale": [
             [
              0,
              "#0d0887"
             ],
             [
              0.1111111111111111,
              "#46039f"
             ],
             [
              0.2222222222222222,
              "#7201a8"
             ],
             [
              0.3333333333333333,
              "#9c179e"
             ],
             [
              0.4444444444444444,
              "#bd3786"
             ],
             [
              0.5555555555555556,
              "#d8576b"
             ],
             [
              0.6666666666666666,
              "#ed7953"
             ],
             [
              0.7777777777777778,
              "#fb9f3a"
             ],
             [
              0.8888888888888888,
              "#fdca26"
             ],
             [
              1,
              "#f0f921"
             ]
            ],
            "type": "histogram2d"
           }
          ],
          "histogram2dcontour": [
           {
            "colorbar": {
             "outlinewidth": 0,
             "ticks": ""
            },
            "colorscale": [
             [
              0,
              "#0d0887"
             ],
             [
              0.1111111111111111,
              "#46039f"
             ],
             [
              0.2222222222222222,
              "#7201a8"
             ],
             [
              0.3333333333333333,
              "#9c179e"
             ],
             [
              0.4444444444444444,
              "#bd3786"
             ],
             [
              0.5555555555555556,
              "#d8576b"
             ],
             [
              0.6666666666666666,
              "#ed7953"
             ],
             [
              0.7777777777777778,
              "#fb9f3a"
             ],
             [
              0.8888888888888888,
              "#fdca26"
             ],
             [
              1,
              "#f0f921"
             ]
            ],
            "type": "histogram2dcontour"
           }
          ],
          "mesh3d": [
           {
            "colorbar": {
             "outlinewidth": 0,
             "ticks": ""
            },
            "type": "mesh3d"
           }
          ],
          "parcoords": [
           {
            "line": {
             "colorbar": {
              "outlinewidth": 0,
              "ticks": ""
             }
            },
            "type": "parcoords"
           }
          ],
          "pie": [
           {
            "automargin": true,
            "type": "pie"
           }
          ],
          "scatter": [
           {
            "fillpattern": {
             "fillmode": "overlay",
             "size": 10,
             "solidity": 0.2
            },
            "type": "scatter"
           }
          ],
          "scatter3d": [
           {
            "line": {
             "colorbar": {
              "outlinewidth": 0,
              "ticks": ""
             }
            },
            "marker": {
             "colorbar": {
              "outlinewidth": 0,
              "ticks": ""
             }
            },
            "type": "scatter3d"
           }
          ],
          "scattercarpet": [
           {
            "marker": {
             "colorbar": {
              "outlinewidth": 0,
              "ticks": ""
             }
            },
            "type": "scattercarpet"
           }
          ],
          "scattergeo": [
           {
            "marker": {
             "colorbar": {
              "outlinewidth": 0,
              "ticks": ""
             }
            },
            "type": "scattergeo"
           }
          ],
          "scattergl": [
           {
            "marker": {
             "colorbar": {
              "outlinewidth": 0,
              "ticks": ""
             }
            },
            "type": "scattergl"
           }
          ],
          "scattermap": [
           {
            "marker": {
             "colorbar": {
              "outlinewidth": 0,
              "ticks": ""
             }
            },
            "type": "scattermap"
           }
          ],
          "scattermapbox": [
           {
            "marker": {
             "colorbar": {
              "outlinewidth": 0,
              "ticks": ""
             }
            },
            "type": "scattermapbox"
           }
          ],
          "scatterpolar": [
           {
            "marker": {
             "colorbar": {
              "outlinewidth": 0,
              "ticks": ""
             }
            },
            "type": "scatterpolar"
           }
          ],
          "scatterpolargl": [
           {
            "marker": {
             "colorbar": {
              "outlinewidth": 0,
              "ticks": ""
             }
            },
            "type": "scatterpolargl"
           }
          ],
          "scatterternary": [
           {
            "marker": {
             "colorbar": {
              "outlinewidth": 0,
              "ticks": ""
             }
            },
            "type": "scatterternary"
           }
          ],
          "surface": [
           {
            "colorbar": {
             "outlinewidth": 0,
             "ticks": ""
            },
            "colorscale": [
             [
              0,
              "#0d0887"
             ],
             [
              0.1111111111111111,
              "#46039f"
             ],
             [
              0.2222222222222222,
              "#7201a8"
             ],
             [
              0.3333333333333333,
              "#9c179e"
             ],
             [
              0.4444444444444444,
              "#bd3786"
             ],
             [
              0.5555555555555556,
              "#d8576b"
             ],
             [
              0.6666666666666666,
              "#ed7953"
             ],
             [
              0.7777777777777778,
              "#fb9f3a"
             ],
             [
              0.8888888888888888,
              "#fdca26"
             ],
             [
              1,
              "#f0f921"
             ]
            ],
            "type": "surface"
           }
          ],
          "table": [
           {
            "cells": {
             "fill": {
              "color": "#EBF0F8"
             },
             "line": {
              "color": "white"
             }
            },
            "header": {
             "fill": {
              "color": "#C8D4E3"
             },
             "line": {
              "color": "white"
             }
            },
            "type": "table"
           }
          ]
         },
         "layout": {
          "annotationdefaults": {
           "arrowcolor": "#2a3f5f",
           "arrowhead": 0,
           "arrowwidth": 1
          },
          "autotypenumbers": "strict",
          "coloraxis": {
           "colorbar": {
            "outlinewidth": 0,
            "ticks": ""
           }
          },
          "colorscale": {
           "diverging": [
            [
             0,
             "#8e0152"
            ],
            [
             0.1,
             "#c51b7d"
            ],
            [
             0.2,
             "#de77ae"
            ],
            [
             0.3,
             "#f1b6da"
            ],
            [
             0.4,
             "#fde0ef"
            ],
            [
             0.5,
             "#f7f7f7"
            ],
            [
             0.6,
             "#e6f5d0"
            ],
            [
             0.7,
             "#b8e186"
            ],
            [
             0.8,
             "#7fbc41"
            ],
            [
             0.9,
             "#4d9221"
            ],
            [
             1,
             "#276419"
            ]
           ],
           "sequential": [
            [
             0,
             "#0d0887"
            ],
            [
             0.1111111111111111,
             "#46039f"
            ],
            [
             0.2222222222222222,
             "#7201a8"
            ],
            [
             0.3333333333333333,
             "#9c179e"
            ],
            [
             0.4444444444444444,
             "#bd3786"
            ],
            [
             0.5555555555555556,
             "#d8576b"
            ],
            [
             0.6666666666666666,
             "#ed7953"
            ],
            [
             0.7777777777777778,
             "#fb9f3a"
            ],
            [
             0.8888888888888888,
             "#fdca26"
            ],
            [
             1,
             "#f0f921"
            ]
           ],
           "sequentialminus": [
            [
             0,
             "#0d0887"
            ],
            [
             0.1111111111111111,
             "#46039f"
            ],
            [
             0.2222222222222222,
             "#7201a8"
            ],
            [
             0.3333333333333333,
             "#9c179e"
            ],
            [
             0.4444444444444444,
             "#bd3786"
            ],
            [
             0.5555555555555556,
             "#d8576b"
            ],
            [
             0.6666666666666666,
             "#ed7953"
            ],
            [
             0.7777777777777778,
             "#fb9f3a"
            ],
            [
             0.8888888888888888,
             "#fdca26"
            ],
            [
             1,
             "#f0f921"
            ]
           ]
          },
          "colorway": [
           "#636efa",
           "#EF553B",
           "#00cc96",
           "#ab63fa",
           "#FFA15A",
           "#19d3f3",
           "#FF6692",
           "#B6E880",
           "#FF97FF",
           "#FECB52"
          ],
          "font": {
           "color": "#2a3f5f"
          },
          "geo": {
           "bgcolor": "white",
           "lakecolor": "white",
           "landcolor": "#E5ECF6",
           "showlakes": true,
           "showland": true,
           "subunitcolor": "white"
          },
          "hoverlabel": {
           "align": "left"
          },
          "hovermode": "closest",
          "mapbox": {
           "style": "light"
          },
          "paper_bgcolor": "white",
          "plot_bgcolor": "#E5ECF6",
          "polar": {
           "angularaxis": {
            "gridcolor": "white",
            "linecolor": "white",
            "ticks": ""
           },
           "bgcolor": "#E5ECF6",
           "radialaxis": {
            "gridcolor": "white",
            "linecolor": "white",
            "ticks": ""
           }
          },
          "scene": {
           "xaxis": {
            "backgroundcolor": "#E5ECF6",
            "gridcolor": "white",
            "gridwidth": 2,
            "linecolor": "white",
            "showbackground": true,
            "ticks": "",
            "zerolinecolor": "white"
           },
           "yaxis": {
            "backgroundcolor": "#E5ECF6",
            "gridcolor": "white",
            "gridwidth": 2,
            "linecolor": "white",
            "showbackground": true,
            "ticks": "",
            "zerolinecolor": "white"
           },
           "zaxis": {
            "backgroundcolor": "#E5ECF6",
            "gridcolor": "white",
            "gridwidth": 2,
            "linecolor": "white",
            "showbackground": true,
            "ticks": "",
            "zerolinecolor": "white"
           }
          },
          "shapedefaults": {
           "line": {
            "color": "#2a3f5f"
           }
          },
          "ternary": {
           "aaxis": {
            "gridcolor": "white",
            "linecolor": "white",
            "ticks": ""
           },
           "baxis": {
            "gridcolor": "white",
            "linecolor": "white",
            "ticks": ""
           },
           "bgcolor": "#E5ECF6",
           "caxis": {
            "gridcolor": "white",
            "linecolor": "white",
            "ticks": ""
           }
          },
          "title": {
           "x": 0.05
          },
          "xaxis": {
           "automargin": true,
           "gridcolor": "white",
           "linecolor": "white",
           "ticks": "",
           "title": {
            "standoff": 15
           },
           "zerolinecolor": "white",
           "zerolinewidth": 2
          },
          "yaxis": {
           "automargin": true,
           "gridcolor": "white",
           "linecolor": "white",
           "ticks": "",
           "title": {
            "standoff": 15
           },
           "zerolinecolor": "white",
           "zerolinewidth": 2
          }
         }
        },
        "title": {
         "text": "Normalized LCS values for P30566 at position 289"
        },
        "xaxis": {
         "anchor": "y",
         "constrain": "domain",
         "domain": [
          0,
          1
         ],
         "scaleanchor": "y",
         "tickmode": "array",
         "ticktext": [
          -7,
          -6,
          -5,
          -4,
          -3,
          -2,
          -1,
          0,
          1,
          2,
          3,
          4,
          5,
          6,
          7
         ],
         "tickvals": [
          1,
          2,
          3,
          4,
          5,
          6,
          7,
          8,
          9,
          10,
          11,
          12,
          13,
          14,
          15
         ],
         "title": {
          "text": "Mutation Position"
         }
        },
        "yaxis": {
         "anchor": "x",
         "autorange": "reversed",
         "constrain": "domain",
         "domain": [
          0,
          1
         ],
         "dtick": 1,
         "tickmode": "linear",
         "title": {
          "text": "Mutated Amino Acid"
         }
        }
       }
      }
     },
     "metadata": {},
     "output_type": "display_data"
    },
    {
     "name": "stdout",
     "output_type": "stream",
     "text": [
      "\n",
      "Rendering heatmap for: P31939_116_heatmap_data.csv\n"
     ]
    },
    {
     "name": "stderr",
     "output_type": "stream",
     "text": [
      "C:\\Users\\ricea\\AppData\\Local\\Temp\\ipykernel_26764\\4146770678.py:9: FutureWarning:\n",
      "\n",
      "The provided callable <function mean at 0x000002D40831D6C0> is currently using DataFrameGroupBy.mean. In a future version of pandas, the provided callable will be used directly. To keep current behavior pass the string \"mean\" instead.\n",
      "\n"
     ]
    },
    {
     "data": {
      "application/vnd.plotly.v1+json": {
       "config": {
        "plotlyServerURL": "https://plot.ly"
       },
       "data": [
        {
         "coloraxis": "coloraxis",
         "hovertemplate": "Mutation Position: %{x}<br>Mutated Amino Acid: %{y}<br>LCS Ratio: %{z}<extra></extra>",
         "name": "0",
         "type": "heatmap",
         "x": {
          "bdata": "AQIDBAUGBwgJCgsMDQ4P",
          "dtype": "i1"
         },
         "xaxis": "x",
         "y": [
          "A",
          "C",
          "D",
          "E",
          "F",
          "G",
          "H",
          "I",
          "K",
          "L",
          "M",
          "N",
          "P",
          "Q",
          "R",
          "S",
          "T",
          "V",
          "W",
          "Y"
         ],
         "yaxis": "y",
         "z": {
          "bdata": "AAAAAAAA8D8AAAAAAADwPwAAAAAAAPh//jkSgjdpzT9m14y+8s/BP15ouoP9Vrs/ZteMvvLPwT8AAAAAAAD4f/6o5Lws4rM/Xmi6g/1Wuz9s70O2FCu8PwAAAAAAAPh/AAAAAAAA8D8AAAAAAADwPwAAAAAAAPA/AAAAAAAA8D8AAAAAAADwPyE+gVRyXsY/QEdC8Cat0z+IhOBNWqe+P4iE4E1ap74/3xNIJedlwT8AAAAAAAD4f1jhMFHmgro/c3bN6Cv/vD9D0x3st9q4P7wP2VKscMg/AAAAAAAA8D8AAAAAAADwPwAAAAAAAPA/AAAAAAAA8D8AAAAAAADwP0papx7Prrk/c3bN6Cv/vD/cE0gl52WxPyE+gVRyXrY/WOEwUeaCuj8AAAAAAAD4f+qa0Vf+ObI/e+WfIyF4wz+ZC2qAcXvPP4iE4E1ap74/AAAAAAAA8D8AAAAAAADwPwAAAAAAAPA/AAAAAAAA8D8AAAAAAADwP0PTHey32rg/AqnkvCziwz+B/VYbQ9OtP1jhMFHmgro/c3bN6Cv/vD8AAAAAAAD4f0papx7Prrk/AAAAAAAA+H8AAAAAAAD4f3FeFvEJpMI/AAAAAAAA8D8AAAAAAAD4fwAAAAAAAPA/AAAAAAAA8D8AAAAAAADwP3vlnyMheMM/6Sv/HAnByz9SyXlZxCfAPyE+gVRyXrY/ZteMvvLPwT8AAAAAAAD4f+qa0Vf+ObI/Xmi6g/1Wuz81TJS5oAa4P9WMvvLPkcA/AAAAAAAA8D8AAAAAAADwPwAAAAAAAPA/AAAAAAAA8D8AAAAAAADwP4uE4E1ap84/87KITyCVzD9cUAOM2/vAPwAAAAAAAPh/iITgTVqnvj8AAAAAAAD4f/6o5Lws4rM/J8UKh4kytz8Tt/chW4q1P2JouoP9Vss/AAAAAAAA8D8AAAAAAADwPwAAAAAAAPA/AAAAAAAA8D8AAAAAAADwP5YLaoBxe78/cl4W8Qmk0j/fE0gl52XBP1jhMFHmgqo/+CFbihUOsz8AAAAAAAD4f15ouoP9Vrs/E7f3IVuKtT/4IVuKFQ6zP0PTHey32sg/AAAAAAAA8D8AAAAAAADwPwAAAAAAAPA/AAAAAAAA8D8AAAAAAADwP2zvQ7YUK7w/0R3st9oYyj9s70O2FCu8P15ouoP9Vrs/87KITyCVzD8AAAAAAAD4f4VsKVY4TMQ/E7f3IVuKtT+WC2qAcXu/Pwwwbu9DtrQ/AAAAAAAA8D8AAAAAAADwPwAAAAAAAPA/AAAAAAAA8D8AAAAAAADwP1LJeVnEJ8A/lgtqgHF7vz/+qOS8LOKzPwwwbu9DtrQ/bO9DthQrvD8AAAAAAAD4fxO39yFbiqU/E7f3IVuKtT9l70O2FCusP3N2zegr/7w/AAAAAAAA8D8AAAAAAADwPwAAAAAAAPA/AAAAAAAA8D8AAAAAAADwP3N2zegr/7w/6Sv/HAnByz9zds3oK/+8P0PTHey32rg/c3bN6Cv/vD8AAAAAAAD4f15ouoP9Vrs/WOEwUeaCuj/qmtFX/jmyP0papx7Prrk/AAAAAAAA8D8AAAAAAADwPwAAAAAAAPA/AAAAAAAA8D8AAAAAAADwP5YLaoBxe78/Usl5WcQn0D9zds3oK/+8Pwwwbu9DtrQ/iITgTVqnvj8AAAAAAAD4f2zvQ7YUK7w//qjkvCzisz8hPoFUcl62P1xQA4zb+8A/AAAAAAAA8D8AAAAAAADwPwAAAAAAAPA/AAAAAAAA8D8AAAAAAADwP01apx7Prsk/d3bN6Cv/zD+dejy7ZvTFP4H9VhtD070/jgtqgHF7rz8AAAAAAAD4f9WMvvLPkbA/NUyUuaAGuD+B/VYbQ9O9P+2a0Vf+OcI/AAAAAAAA8D8AAAAAAADwPwAAAAAAAPA/AAAAAAAA8D8AAAAAAADwP5PzsohPIMU/sohPIJWcxz8AAAAAAAD4f4H9VhtD060/jgtqgHF7rz8AAAAAAAD4f/ghW4oVDrM/Xmi6g/1Wuz8Tt/chW4q1PzVMlLmgBsg/AAAAAAAA8D8AAAAAAADwPwAAAAAAAPA/AAAAAAAA8D8AAAAAAADwPzVMlLmgBsg/d3bN6Cv/zD+dejy7ZvTFPyfFCoeJMrc/WOEwUeaCuj8AAAAAAAD4f15ouoP9Vrs/Xmi6g/1Wuz9D0x3st9q4Pwwwbu9DtsQ/AAAAAAAA8D8AAAAAAADwPwAAAAAAAPh/AAAAAAAA8D8AAAAAAADwPyfFCoeJMrc/AqnkvCziwz/cE0gl52WxP2XvQ7YUK6w/Q9Md7LfauD8AAAAAAAD4f44LaoBxe68//qjkvCzisz9l70O2FCusP3FeFvEJpMI/AAAAAAAA8D8AAAAAAADwPwAAAAAAAPA/AAAAAAAA8D8AAAAAAADwP4H9VhtD080/AAAAAAAA+H+FbClWOEzEP3N2zegr/7w/hWwpVjhMxD/+qOS8LOKzP1LJeVnEJ8A/WOEwUeaCuj/VjL7yz5HAP/OyiE8glcw/AAAAAAAA8D8AAAAAAADwPwAAAAAAAPA/AAAAAAAA+H8AAAAAAADwP4H9VhtD080/AAAAAAAA8D+FbClWOEzEP3N2zegr/7w/hWwpVjhMxD8AAAAAAAD4f1LJeVnEJ8A/WOEwUeaCuj/VjL7yz5HAP/OyiE8glcw/AAAAAAAA8D8AAAAAAADwPwAAAAAAAPA/AAAAAAAA8D8AAAAAAAD4f5YLaoBxe78/26R16vHsyj/fE0gl52XBP/6o5Lws4rM/AAAAAAAA+H8AAAAAAAD4fwAAAAAAAPh/3BNIJedlsT9KWqcez665PyvFCoeJMsc/AAAAAAAA+H8AAAAAAADwPwAAAAAAAPA/AAAAAAAA8D8AAAAAAADwPxa39yFbisU/x5ZihcNEyT9zds3oK/+8P+qa0Vf+ObI/E7f3IVuKtT8AAAAAAAD4fwwwbu9DtrQ/1Yy+8s+RsD8hPoFUcl62P2bXjL7yz8E/AAAAAAAA8D8AAAAAAADwPwAAAAAAAPA/AAAAAAAA8D8AAAAAAADwP15ouoP9Vrs/87KITyCVzD9zds3oK/+8P/ghW4oVDrM/3xNIJedlwT/W4DBR5oJqv15ouoP9Vrs/6prRV/45sj8hPoFUcl62PwKp5Lws4sM/AAAAAAAA8D8AAAAAAADwPwAAAAAAAPA/",
          "dtype": "f8",
          "shape": "20, 15"
         }
        }
       ],
       "layout": {
        "coloraxis": {
         "colorbar": {
          "ticktext": [
           "0.0",
           "0.25",
           "0.5",
           "0.75",
           "1.0"
          ],
          "tickvals": [
           0,
           0.25,
           0.5,
           0.75,
           1
          ],
          "title": {
           "text": "LCS Ratio"
          }
         },
         "colorscale": [
          [
           0,
           "rgb(0, 147, 146)"
          ],
          [
           0.16666666666666666,
           "rgb(57, 177, 133)"
          ],
          [
           0.3333333333333333,
           "rgb(156, 203, 134)"
          ],
          [
           0.5,
           "rgb(233, 226, 156)"
          ],
          [
           0.6666666666666666,
           "rgb(238, 180, 121)"
          ],
          [
           0.8333333333333334,
           "rgb(232, 132, 113)"
          ],
          [
           1,
           "rgb(207, 89, 126)"
          ]
         ]
        },
        "plot_bgcolor": "white",
        "template": {
         "data": {
          "bar": [
           {
            "error_x": {
             "color": "#2a3f5f"
            },
            "error_y": {
             "color": "#2a3f5f"
            },
            "marker": {
             "line": {
              "color": "#E5ECF6",
              "width": 0.5
             },
             "pattern": {
              "fillmode": "overlay",
              "size": 10,
              "solidity": 0.2
             }
            },
            "type": "bar"
           }
          ],
          "barpolar": [
           {
            "marker": {
             "line": {
              "color": "#E5ECF6",
              "width": 0.5
             },
             "pattern": {
              "fillmode": "overlay",
              "size": 10,
              "solidity": 0.2
             }
            },
            "type": "barpolar"
           }
          ],
          "carpet": [
           {
            "aaxis": {
             "endlinecolor": "#2a3f5f",
             "gridcolor": "white",
             "linecolor": "white",
             "minorgridcolor": "white",
             "startlinecolor": "#2a3f5f"
            },
            "baxis": {
             "endlinecolor": "#2a3f5f",
             "gridcolor": "white",
             "linecolor": "white",
             "minorgridcolor": "white",
             "startlinecolor": "#2a3f5f"
            },
            "type": "carpet"
           }
          ],
          "choropleth": [
           {
            "colorbar": {
             "outlinewidth": 0,
             "ticks": ""
            },
            "type": "choropleth"
           }
          ],
          "contour": [
           {
            "colorbar": {
             "outlinewidth": 0,
             "ticks": ""
            },
            "colorscale": [
             [
              0,
              "#0d0887"
             ],
             [
              0.1111111111111111,
              "#46039f"
             ],
             [
              0.2222222222222222,
              "#7201a8"
             ],
             [
              0.3333333333333333,
              "#9c179e"
             ],
             [
              0.4444444444444444,
              "#bd3786"
             ],
             [
              0.5555555555555556,
              "#d8576b"
             ],
             [
              0.6666666666666666,
              "#ed7953"
             ],
             [
              0.7777777777777778,
              "#fb9f3a"
             ],
             [
              0.8888888888888888,
              "#fdca26"
             ],
             [
              1,
              "#f0f921"
             ]
            ],
            "type": "contour"
           }
          ],
          "contourcarpet": [
           {
            "colorbar": {
             "outlinewidth": 0,
             "ticks": ""
            },
            "type": "contourcarpet"
           }
          ],
          "heatmap": [
           {
            "colorbar": {
             "outlinewidth": 0,
             "ticks": ""
            },
            "colorscale": [
             [
              0,
              "#0d0887"
             ],
             [
              0.1111111111111111,
              "#46039f"
             ],
             [
              0.2222222222222222,
              "#7201a8"
             ],
             [
              0.3333333333333333,
              "#9c179e"
             ],
             [
              0.4444444444444444,
              "#bd3786"
             ],
             [
              0.5555555555555556,
              "#d8576b"
             ],
             [
              0.6666666666666666,
              "#ed7953"
             ],
             [
              0.7777777777777778,
              "#fb9f3a"
             ],
             [
              0.8888888888888888,
              "#fdca26"
             ],
             [
              1,
              "#f0f921"
             ]
            ],
            "type": "heatmap"
           }
          ],
          "histogram": [
           {
            "marker": {
             "pattern": {
              "fillmode": "overlay",
              "size": 10,
              "solidity": 0.2
             }
            },
            "type": "histogram"
           }
          ],
          "histogram2d": [
           {
            "colorbar": {
             "outlinewidth": 0,
             "ticks": ""
            },
            "colorscale": [
             [
              0,
              "#0d0887"
             ],
             [
              0.1111111111111111,
              "#46039f"
             ],
             [
              0.2222222222222222,
              "#7201a8"
             ],
             [
              0.3333333333333333,
              "#9c179e"
             ],
             [
              0.4444444444444444,
              "#bd3786"
             ],
             [
              0.5555555555555556,
              "#d8576b"
             ],
             [
              0.6666666666666666,
              "#ed7953"
             ],
             [
              0.7777777777777778,
              "#fb9f3a"
             ],
             [
              0.8888888888888888,
              "#fdca26"
             ],
             [
              1,
              "#f0f921"
             ]
            ],
            "type": "histogram2d"
           }
          ],
          "histogram2dcontour": [
           {
            "colorbar": {
             "outlinewidth": 0,
             "ticks": ""
            },
            "colorscale": [
             [
              0,
              "#0d0887"
             ],
             [
              0.1111111111111111,
              "#46039f"
             ],
             [
              0.2222222222222222,
              "#7201a8"
             ],
             [
              0.3333333333333333,
              "#9c179e"
             ],
             [
              0.4444444444444444,
              "#bd3786"
             ],
             [
              0.5555555555555556,
              "#d8576b"
             ],
             [
              0.6666666666666666,
              "#ed7953"
             ],
             [
              0.7777777777777778,
              "#fb9f3a"
             ],
             [
              0.8888888888888888,
              "#fdca26"
             ],
             [
              1,
              "#f0f921"
             ]
            ],
            "type": "histogram2dcontour"
           }
          ],
          "mesh3d": [
           {
            "colorbar": {
             "outlinewidth": 0,
             "ticks": ""
            },
            "type": "mesh3d"
           }
          ],
          "parcoords": [
           {
            "line": {
             "colorbar": {
              "outlinewidth": 0,
              "ticks": ""
             }
            },
            "type": "parcoords"
           }
          ],
          "pie": [
           {
            "automargin": true,
            "type": "pie"
           }
          ],
          "scatter": [
           {
            "fillpattern": {
             "fillmode": "overlay",
             "size": 10,
             "solidity": 0.2
            },
            "type": "scatter"
           }
          ],
          "scatter3d": [
           {
            "line": {
             "colorbar": {
              "outlinewidth": 0,
              "ticks": ""
             }
            },
            "marker": {
             "colorbar": {
              "outlinewidth": 0,
              "ticks": ""
             }
            },
            "type": "scatter3d"
           }
          ],
          "scattercarpet": [
           {
            "marker": {
             "colorbar": {
              "outlinewidth": 0,
              "ticks": ""
             }
            },
            "type": "scattercarpet"
           }
          ],
          "scattergeo": [
           {
            "marker": {
             "colorbar": {
              "outlinewidth": 0,
              "ticks": ""
             }
            },
            "type": "scattergeo"
           }
          ],
          "scattergl": [
           {
            "marker": {
             "colorbar": {
              "outlinewidth": 0,
              "ticks": ""
             }
            },
            "type": "scattergl"
           }
          ],
          "scattermap": [
           {
            "marker": {
             "colorbar": {
              "outlinewidth": 0,
              "ticks": ""
             }
            },
            "type": "scattermap"
           }
          ],
          "scattermapbox": [
           {
            "marker": {
             "colorbar": {
              "outlinewidth": 0,
              "ticks": ""
             }
            },
            "type": "scattermapbox"
           }
          ],
          "scatterpolar": [
           {
            "marker": {
             "colorbar": {
              "outlinewidth": 0,
              "ticks": ""
             }
            },
            "type": "scatterpolar"
           }
          ],
          "scatterpolargl": [
           {
            "marker": {
             "colorbar": {
              "outlinewidth": 0,
              "ticks": ""
             }
            },
            "type": "scatterpolargl"
           }
          ],
          "scatterternary": [
           {
            "marker": {
             "colorbar": {
              "outlinewidth": 0,
              "ticks": ""
             }
            },
            "type": "scatterternary"
           }
          ],
          "surface": [
           {
            "colorbar": {
             "outlinewidth": 0,
             "ticks": ""
            },
            "colorscale": [
             [
              0,
              "#0d0887"
             ],
             [
              0.1111111111111111,
              "#46039f"
             ],
             [
              0.2222222222222222,
              "#7201a8"
             ],
             [
              0.3333333333333333,
              "#9c179e"
             ],
             [
              0.4444444444444444,
              "#bd3786"
             ],
             [
              0.5555555555555556,
              "#d8576b"
             ],
             [
              0.6666666666666666,
              "#ed7953"
             ],
             [
              0.7777777777777778,
              "#fb9f3a"
             ],
             [
              0.8888888888888888,
              "#fdca26"
             ],
             [
              1,
              "#f0f921"
             ]
            ],
            "type": "surface"
           }
          ],
          "table": [
           {
            "cells": {
             "fill": {
              "color": "#EBF0F8"
             },
             "line": {
              "color": "white"
             }
            },
            "header": {
             "fill": {
              "color": "#C8D4E3"
             },
             "line": {
              "color": "white"
             }
            },
            "type": "table"
           }
          ]
         },
         "layout": {
          "annotationdefaults": {
           "arrowcolor": "#2a3f5f",
           "arrowhead": 0,
           "arrowwidth": 1
          },
          "autotypenumbers": "strict",
          "coloraxis": {
           "colorbar": {
            "outlinewidth": 0,
            "ticks": ""
           }
          },
          "colorscale": {
           "diverging": [
            [
             0,
             "#8e0152"
            ],
            [
             0.1,
             "#c51b7d"
            ],
            [
             0.2,
             "#de77ae"
            ],
            [
             0.3,
             "#f1b6da"
            ],
            [
             0.4,
             "#fde0ef"
            ],
            [
             0.5,
             "#f7f7f7"
            ],
            [
             0.6,
             "#e6f5d0"
            ],
            [
             0.7,
             "#b8e186"
            ],
            [
             0.8,
             "#7fbc41"
            ],
            [
             0.9,
             "#4d9221"
            ],
            [
             1,
             "#276419"
            ]
           ],
           "sequential": [
            [
             0,
             "#0d0887"
            ],
            [
             0.1111111111111111,
             "#46039f"
            ],
            [
             0.2222222222222222,
             "#7201a8"
            ],
            [
             0.3333333333333333,
             "#9c179e"
            ],
            [
             0.4444444444444444,
             "#bd3786"
            ],
            [
             0.5555555555555556,
             "#d8576b"
            ],
            [
             0.6666666666666666,
             "#ed7953"
            ],
            [
             0.7777777777777778,
             "#fb9f3a"
            ],
            [
             0.8888888888888888,
             "#fdca26"
            ],
            [
             1,
             "#f0f921"
            ]
           ],
           "sequentialminus": [
            [
             0,
             "#0d0887"
            ],
            [
             0.1111111111111111,
             "#46039f"
            ],
            [
             0.2222222222222222,
             "#7201a8"
            ],
            [
             0.3333333333333333,
             "#9c179e"
            ],
            [
             0.4444444444444444,
             "#bd3786"
            ],
            [
             0.5555555555555556,
             "#d8576b"
            ],
            [
             0.6666666666666666,
             "#ed7953"
            ],
            [
             0.7777777777777778,
             "#fb9f3a"
            ],
            [
             0.8888888888888888,
             "#fdca26"
            ],
            [
             1,
             "#f0f921"
            ]
           ]
          },
          "colorway": [
           "#636efa",
           "#EF553B",
           "#00cc96",
           "#ab63fa",
           "#FFA15A",
           "#19d3f3",
           "#FF6692",
           "#B6E880",
           "#FF97FF",
           "#FECB52"
          ],
          "font": {
           "color": "#2a3f5f"
          },
          "geo": {
           "bgcolor": "white",
           "lakecolor": "white",
           "landcolor": "#E5ECF6",
           "showlakes": true,
           "showland": true,
           "subunitcolor": "white"
          },
          "hoverlabel": {
           "align": "left"
          },
          "hovermode": "closest",
          "mapbox": {
           "style": "light"
          },
          "paper_bgcolor": "white",
          "plot_bgcolor": "#E5ECF6",
          "polar": {
           "angularaxis": {
            "gridcolor": "white",
            "linecolor": "white",
            "ticks": ""
           },
           "bgcolor": "#E5ECF6",
           "radialaxis": {
            "gridcolor": "white",
            "linecolor": "white",
            "ticks": ""
           }
          },
          "scene": {
           "xaxis": {
            "backgroundcolor": "#E5ECF6",
            "gridcolor": "white",
            "gridwidth": 2,
            "linecolor": "white",
            "showbackground": true,
            "ticks": "",
            "zerolinecolor": "white"
           },
           "yaxis": {
            "backgroundcolor": "#E5ECF6",
            "gridcolor": "white",
            "gridwidth": 2,
            "linecolor": "white",
            "showbackground": true,
            "ticks": "",
            "zerolinecolor": "white"
           },
           "zaxis": {
            "backgroundcolor": "#E5ECF6",
            "gridcolor": "white",
            "gridwidth": 2,
            "linecolor": "white",
            "showbackground": true,
            "ticks": "",
            "zerolinecolor": "white"
           }
          },
          "shapedefaults": {
           "line": {
            "color": "#2a3f5f"
           }
          },
          "ternary": {
           "aaxis": {
            "gridcolor": "white",
            "linecolor": "white",
            "ticks": ""
           },
           "baxis": {
            "gridcolor": "white",
            "linecolor": "white",
            "ticks": ""
           },
           "bgcolor": "#E5ECF6",
           "caxis": {
            "gridcolor": "white",
            "linecolor": "white",
            "ticks": ""
           }
          },
          "title": {
           "x": 0.05
          },
          "xaxis": {
           "automargin": true,
           "gridcolor": "white",
           "linecolor": "white",
           "ticks": "",
           "title": {
            "standoff": 15
           },
           "zerolinecolor": "white",
           "zerolinewidth": 2
          },
          "yaxis": {
           "automargin": true,
           "gridcolor": "white",
           "linecolor": "white",
           "ticks": "",
           "title": {
            "standoff": 15
           },
           "zerolinecolor": "white",
           "zerolinewidth": 2
          }
         }
        },
        "title": {
         "text": "Normalized LCS values for P31939 at position 116"
        },
        "xaxis": {
         "anchor": "y",
         "constrain": "domain",
         "domain": [
          0,
          1
         ],
         "scaleanchor": "y",
         "tickmode": "array",
         "ticktext": [
          -7,
          -6,
          -5,
          -4,
          -3,
          -2,
          -1,
          0,
          1,
          2,
          3,
          4,
          5,
          6,
          7
         ],
         "tickvals": [
          1,
          2,
          3,
          4,
          5,
          6,
          7,
          8,
          9,
          10,
          11,
          12,
          13,
          14,
          15
         ],
         "title": {
          "text": "Mutation Position"
         }
        },
        "yaxis": {
         "anchor": "x",
         "autorange": "reversed",
         "constrain": "domain",
         "domain": [
          0,
          1
         ],
         "dtick": 1,
         "tickmode": "linear",
         "title": {
          "text": "Mutated Amino Acid"
         }
        }
       }
      }
     },
     "metadata": {},
     "output_type": "display_data"
    },
    {
     "name": "stdout",
     "output_type": "stream",
     "text": [
      "\n",
      "Rendering heatmap for: P34897_48_heatmap_data.csv\n"
     ]
    },
    {
     "name": "stderr",
     "output_type": "stream",
     "text": [
      "C:\\Users\\ricea\\AppData\\Local\\Temp\\ipykernel_26764\\4146770678.py:9: FutureWarning:\n",
      "\n",
      "The provided callable <function mean at 0x000002D40831D6C0> is currently using DataFrameGroupBy.mean. In a future version of pandas, the provided callable will be used directly. To keep current behavior pass the string \"mean\" instead.\n",
      "\n"
     ]
    },
    {
     "data": {
      "application/vnd.plotly.v1+json": {
       "config": {
        "plotlyServerURL": "https://plot.ly"
       },
       "data": [
        {
         "coloraxis": "coloraxis",
         "hovertemplate": "Mutation Position: %{x}<br>Mutated Amino Acid: %{y}<br>LCS Ratio: %{z}<extra></extra>",
         "name": "0",
         "type": "heatmap",
         "x": {
          "bdata": "AQIDBAUGBwgJCgsMDQ4P",
          "dtype": "i1"
         },
         "xaxis": "x",
         "y": [
          "A",
          "C",
          "D",
          "E",
          "F",
          "G",
          "H",
          "I",
          "K",
          "L",
          "M",
          "N",
          "P",
          "Q",
          "R",
          "S",
          "T",
          "V",
          "W",
          "Y"
         ],
         "yaxis": "y",
         "z": {
          "bdata": "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",
          "dtype": "f8",
          "shape": "20, 15"
         }
        }
       ],
       "layout": {
        "coloraxis": {
         "colorbar": {
          "ticktext": [
           "0.0",
           "0.25",
           "0.5",
           "0.75",
           "1.0"
          ],
          "tickvals": [
           0,
           0.25,
           0.5,
           0.75,
           1
          ],
          "title": {
           "text": "LCS Ratio"
          }
         },
         "colorscale": [
          [
           0,
           "rgb(0, 147, 146)"
          ],
          [
           0.16666666666666666,
           "rgb(57, 177, 133)"
          ],
          [
           0.3333333333333333,
           "rgb(156, 203, 134)"
          ],
          [
           0.5,
           "rgb(233, 226, 156)"
          ],
          [
           0.6666666666666666,
           "rgb(238, 180, 121)"
          ],
          [
           0.8333333333333334,
           "rgb(232, 132, 113)"
          ],
          [
           1,
           "rgb(207, 89, 126)"
          ]
         ]
        },
        "plot_bgcolor": "white",
        "template": {
         "data": {
          "bar": [
           {
            "error_x": {
             "color": "#2a3f5f"
            },
            "error_y": {
             "color": "#2a3f5f"
            },
            "marker": {
             "line": {
              "color": "#E5ECF6",
              "width": 0.5
             },
             "pattern": {
              "fillmode": "overlay",
              "size": 10,
              "solidity": 0.2
             }
            },
            "type": "bar"
           }
          ],
          "barpolar": [
           {
            "marker": {
             "line": {
              "color": "#E5ECF6",
              "width": 0.5
             },
             "pattern": {
              "fillmode": "overlay",
              "size": 10,
              "solidity": 0.2
             }
            },
            "type": "barpolar"
           }
          ],
          "carpet": [
           {
            "aaxis": {
             "endlinecolor": "#2a3f5f",
             "gridcolor": "white",
             "linecolor": "white",
             "minorgridcolor": "white",
             "startlinecolor": "#2a3f5f"
            },
            "baxis": {
             "endlinecolor": "#2a3f5f",
             "gridcolor": "white",
             "linecolor": "white",
             "minorgridcolor": "white",
             "startlinecolor": "#2a3f5f"
            },
            "type": "carpet"
           }
          ],
          "choropleth": [
           {
            "colorbar": {
             "outlinewidth": 0,
             "ticks": ""
            },
            "type": "choropleth"
           }
          ],
          "contour": [
           {
            "colorbar": {
             "outlinewidth": 0,
             "ticks": ""
            },
            "colorscale": [
             [
              0,
              "#0d0887"
             ],
             [
              0.1111111111111111,
              "#46039f"
             ],
             [
              0.2222222222222222,
              "#7201a8"
             ],
             [
              0.3333333333333333,
              "#9c179e"
             ],
             [
              0.4444444444444444,
              "#bd3786"
             ],
             [
              0.5555555555555556,
              "#d8576b"
             ],
             [
              0.6666666666666666,
              "#ed7953"
             ],
             [
              0.7777777777777778,
              "#fb9f3a"
             ],
             [
              0.8888888888888888,
              "#fdca26"
             ],
             [
              1,
              "#f0f921"
             ]
            ],
            "type": "contour"
           }
          ],
          "contourcarpet": [
           {
            "colorbar": {
             "outlinewidth": 0,
             "ticks": ""
            },
            "type": "contourcarpet"
           }
          ],
          "heatmap": [
           {
            "colorbar": {
             "outlinewidth": 0,
             "ticks": ""
            },
            "colorscale": [
             [
              0,
              "#0d0887"
             ],
             [
              0.1111111111111111,
              "#46039f"
             ],
             [
              0.2222222222222222,
              "#7201a8"
             ],
             [
              0.3333333333333333,
              "#9c179e"
             ],
             [
              0.4444444444444444,
              "#bd3786"
             ],
             [
              0.5555555555555556,
              "#d8576b"
             ],
             [
              0.6666666666666666,
              "#ed7953"
             ],
             [
              0.7777777777777778,
              "#fb9f3a"
             ],
             [
              0.8888888888888888,
              "#fdca26"
             ],
             [
              1,
              "#f0f921"
             ]
            ],
            "type": "heatmap"
           }
          ],
          "histogram": [
           {
            "marker": {
             "pattern": {
              "fillmode": "overlay",
              "size": 10,
              "solidity": 0.2
             }
            },
            "type": "histogram"
           }
          ],
          "histogram2d": [
           {
            "colorbar": {
             "outlinewidth": 0,
             "ticks": ""
            },
            "colorscale": [
             [
              0,
              "#0d0887"
             ],
             [
              0.1111111111111111,
              "#46039f"
             ],
             [
              0.2222222222222222,
              "#7201a8"
             ],
             [
              0.3333333333333333,
              "#9c179e"
             ],
             [
              0.4444444444444444,
              "#bd3786"
             ],
             [
              0.5555555555555556,
              "#d8576b"
             ],
             [
              0.6666666666666666,
              "#ed7953"
             ],
             [
              0.7777777777777778,
              "#fb9f3a"
             ],
             [
              0.8888888888888888,
              "#fdca26"
             ],
             [
              1,
              "#f0f921"
             ]
            ],
            "type": "histogram2d"
           }
          ],
          "histogram2dcontour": [
           {
            "colorbar": {
             "outlinewidth": 0,
             "ticks": ""
            },
            "colorscale": [
             [
              0,
              "#0d0887"
             ],
             [
              0.1111111111111111,
              "#46039f"
             ],
             [
              0.2222222222222222,
              "#7201a8"
             ],
             [
              0.3333333333333333,
              "#9c179e"
             ],
             [
              0.4444444444444444,
              "#bd3786"
             ],
             [
              0.5555555555555556,
              "#d8576b"
             ],
             [
              0.6666666666666666,
              "#ed7953"
             ],
             [
              0.7777777777777778,
              "#fb9f3a"
             ],
             [
              0.8888888888888888,
              "#fdca26"
             ],
             [
              1,
              "#f0f921"
             ]
            ],
            "type": "histogram2dcontour"
           }
          ],
          "mesh3d": [
           {
            "colorbar": {
             "outlinewidth": 0,
             "ticks": ""
            },
            "type": "mesh3d"
           }
          ],
          "parcoords": [
           {
            "line": {
             "colorbar": {
              "outlinewidth": 0,
              "ticks": ""
             }
            },
            "type": "parcoords"
           }
          ],
          "pie": [
           {
            "automargin": true,
            "type": "pie"
           }
          ],
          "scatter": [
           {
            "fillpattern": {
             "fillmode": "overlay",
             "size": 10,
             "solidity": 0.2
            },
            "type": "scatter"
           }
          ],
          "scatter3d": [
           {
            "line": {
             "colorbar": {
              "outlinewidth": 0,
              "ticks": ""
             }
            },
            "marker": {
             "colorbar": {
              "outlinewidth": 0,
              "ticks": ""
             }
            },
            "type": "scatter3d"
           }
          ],
          "scattercarpet": [
           {
            "marker": {
             "colorbar": {
              "outlinewidth": 0,
              "ticks": ""
             }
            },
            "type": "scattercarpet"
           }
          ],
          "scattergeo": [
           {
            "marker": {
             "colorbar": {
              "outlinewidth": 0,
              "ticks": ""
             }
            },
            "type": "scattergeo"
           }
          ],
          "scattergl": [
           {
            "marker": {
             "colorbar": {
              "outlinewidth": 0,
              "ticks": ""
             }
            },
            "type": "scattergl"
           }
          ],
          "scattermap": [
           {
            "marker": {
             "colorbar": {
              "outlinewidth": 0,
              "ticks": ""
             }
            },
            "type": "scattermap"
           }
          ],
          "scattermapbox": [
           {
            "marker": {
             "colorbar": {
              "outlinewidth": 0,
              "ticks": ""
             }
            },
            "type": "scattermapbox"
           }
          ],
          "scatterpolar": [
           {
            "marker": {
             "colorbar": {
              "outlinewidth": 0,
              "ticks": ""
             }
            },
            "type": "scatterpolar"
           }
          ],
          "scatterpolargl": [
           {
            "marker": {
             "colorbar": {
              "outlinewidth": 0,
              "ticks": ""
             }
            },
            "type": "scatterpolargl"
           }
          ],
          "scatterternary": [
           {
            "marker": {
             "colorbar": {
              "outlinewidth": 0,
              "ticks": ""
             }
            },
            "type": "scatterternary"
           }
          ],
          "surface": [
           {
            "colorbar": {
             "outlinewidth": 0,
             "ticks": ""
            },
            "colorscale": [
             [
              0,
              "#0d0887"
             ],
             [
              0.1111111111111111,
              "#46039f"
             ],
             [
              0.2222222222222222,
              "#7201a8"
             ],
             [
              0.3333333333333333,
              "#9c179e"
             ],
             [
              0.4444444444444444,
              "#bd3786"
             ],
             [
              0.5555555555555556,
              "#d8576b"
             ],
             [
              0.6666666666666666,
              "#ed7953"
             ],
             [
              0.7777777777777778,
              "#fb9f3a"
             ],
             [
              0.8888888888888888,
              "#fdca26"
             ],
             [
              1,
              "#f0f921"
             ]
            ],
            "type": "surface"
           }
          ],
          "table": [
           {
            "cells": {
             "fill": {
              "color": "#EBF0F8"
             },
             "line": {
              "color": "white"
             }
            },
            "header": {
             "fill": {
              "color": "#C8D4E3"
             },
             "line": {
              "color": "white"
             }
            },
            "type": "table"
           }
          ]
         },
         "layout": {
          "annotationdefaults": {
           "arrowcolor": "#2a3f5f",
           "arrowhead": 0,
           "arrowwidth": 1
          },
          "autotypenumbers": "strict",
          "coloraxis": {
           "colorbar": {
            "outlinewidth": 0,
            "ticks": ""
           }
          },
          "colorscale": {
           "diverging": [
            [
             0,
             "#8e0152"
            ],
            [
             0.1,
             "#c51b7d"
            ],
            [
             0.2,
             "#de77ae"
            ],
            [
             0.3,
             "#f1b6da"
            ],
            [
             0.4,
             "#fde0ef"
            ],
            [
             0.5,
             "#f7f7f7"
            ],
            [
             0.6,
             "#e6f5d0"
            ],
            [
             0.7,
             "#b8e186"
            ],
            [
             0.8,
             "#7fbc41"
            ],
            [
             0.9,
             "#4d9221"
            ],
            [
             1,
             "#276419"
            ]
           ],
           "sequential": [
            [
             0,
             "#0d0887"
            ],
            [
             0.1111111111111111,
             "#46039f"
            ],
            [
             0.2222222222222222,
             "#7201a8"
            ],
            [
             0.3333333333333333,
             "#9c179e"
            ],
            [
             0.4444444444444444,
             "#bd3786"
            ],
            [
             0.5555555555555556,
             "#d8576b"
            ],
            [
             0.6666666666666666,
             "#ed7953"
            ],
            [
             0.7777777777777778,
             "#fb9f3a"
            ],
            [
             0.8888888888888888,
             "#fdca26"
            ],
            [
             1,
             "#f0f921"
            ]
           ],
           "sequentialminus": [
            [
             0,
             "#0d0887"
            ],
            [
             0.1111111111111111,
             "#46039f"
            ],
            [
             0.2222222222222222,
             "#7201a8"
            ],
            [
             0.3333333333333333,
             "#9c179e"
            ],
            [
             0.4444444444444444,
             "#bd3786"
            ],
            [
             0.5555555555555556,
             "#d8576b"
            ],
            [
             0.6666666666666666,
             "#ed7953"
            ],
            [
             0.7777777777777778,
             "#fb9f3a"
            ],
            [
             0.8888888888888888,
             "#fdca26"
            ],
            [
             1,
             "#f0f921"
            ]
           ]
          },
          "colorway": [
           "#636efa",
           "#EF553B",
           "#00cc96",
           "#ab63fa",
           "#FFA15A",
           "#19d3f3",
           "#FF6692",
           "#B6E880",
           "#FF97FF",
           "#FECB52"
          ],
          "font": {
           "color": "#2a3f5f"
          },
          "geo": {
           "bgcolor": "white",
           "lakecolor": "white",
           "landcolor": "#E5ECF6",
           "showlakes": true,
           "showland": true,
           "subunitcolor": "white"
          },
          "hoverlabel": {
           "align": "left"
          },
          "hovermode": "closest",
          "mapbox": {
           "style": "light"
          },
          "paper_bgcolor": "white",
          "plot_bgcolor": "#E5ECF6",
          "polar": {
           "angularaxis": {
            "gridcolor": "white",
            "linecolor": "white",
            "ticks": ""
           },
           "bgcolor": "#E5ECF6",
           "radialaxis": {
            "gridcolor": "white",
            "linecolor": "white",
            "ticks": ""
           }
          },
          "scene": {
           "xaxis": {
            "backgroundcolor": "#E5ECF6",
            "gridcolor": "white",
            "gridwidth": 2,
            "linecolor": "white",
            "showbackground": true,
            "ticks": "",
            "zerolinecolor": "white"
           },
           "yaxis": {
            "backgroundcolor": "#E5ECF6",
            "gridcolor": "white",
            "gridwidth": 2,
            "linecolor": "white",
            "showbackground": true,
            "ticks": "",
            "zerolinecolor": "white"
           },
           "zaxis": {
            "backgroundcolor": "#E5ECF6",
            "gridcolor": "white",
            "gridwidth": 2,
            "linecolor": "white",
            "showbackground": true,
            "ticks": "",
            "zerolinecolor": "white"
           }
          },
          "shapedefaults": {
           "line": {
            "color": "#2a3f5f"
           }
          },
          "ternary": {
           "aaxis": {
            "gridcolor": "white",
            "linecolor": "white",
            "ticks": ""
           },
           "baxis": {
            "gridcolor": "white",
            "linecolor": "white",
            "ticks": ""
           },
           "bgcolor": "#E5ECF6",
           "caxis": {
            "gridcolor": "white",
            "linecolor": "white",
            "ticks": ""
           }
          },
          "title": {
           "x": 0.05
          },
          "xaxis": {
           "automargin": true,
           "gridcolor": "white",
           "linecolor": "white",
           "ticks": "",
           "title": {
            "standoff": 15
           },
           "zerolinecolor": "white",
           "zerolinewidth": 2
          },
          "yaxis": {
           "automargin": true,
           "gridcolor": "white",
           "linecolor": "white",
           "ticks": "",
           "title": {
            "standoff": 15
           },
           "zerolinecolor": "white",
           "zerolinewidth": 2
          }
         }
        },
        "title": {
         "text": "Normalized LCS values for P34897 at position 48"
        },
        "xaxis": {
         "anchor": "y",
         "constrain": "domain",
         "domain": [
          0,
          1
         ],
         "scaleanchor": "y",
         "tickmode": "array",
         "ticktext": [
          -7,
          -6,
          -5,
          -4,
          -3,
          -2,
          -1,
          0,
          1,
          2,
          3,
          4,
          5,
          6,
          7
         ],
         "tickvals": [
          1,
          2,
          3,
          4,
          5,
          6,
          7,
          8,
          9,
          10,
          11,
          12,
          13,
          14,
          15
         ],
         "title": {
          "text": "Mutation Position"
         }
        },
        "yaxis": {
         "anchor": "x",
         "autorange": "reversed",
         "constrain": "domain",
         "domain": [
          0,
          1
         ],
         "dtick": 1,
         "tickmode": "linear",
         "title": {
          "text": "Mutated Amino Acid"
         }
        }
       }
      }
     },
     "metadata": {},
     "output_type": "display_data"
    },
    {
     "name": "stdout",
     "output_type": "stream",
     "text": [
      "\n",
      "Rendering heatmap for: P54819_194_heatmap_data.csv\n"
     ]
    },
    {
     "name": "stderr",
     "output_type": "stream",
     "text": [
      "C:\\Users\\ricea\\AppData\\Local\\Temp\\ipykernel_26764\\4146770678.py:9: FutureWarning:\n",
      "\n",
      "The provided callable <function mean at 0x000002D40831D6C0> is currently using DataFrameGroupBy.mean. In a future version of pandas, the provided callable will be used directly. To keep current behavior pass the string \"mean\" instead.\n",
      "\n"
     ]
    },
    {
     "data": {
      "application/vnd.plotly.v1+json": {
       "config": {
        "plotlyServerURL": "https://plot.ly"
       },
       "data": [
        {
         "coloraxis": "coloraxis",
         "hovertemplate": "Mutation Position: %{x}<br>Mutated Amino Acid: %{y}<br>LCS Ratio: %{z}<extra></extra>",
         "name": "0",
         "type": "heatmap",
         "x": {
          "bdata": "AQIDBAUGBwgJCgsMDQ4P",
          "dtype": "i1"
         },
         "xaxis": "x",
         "y": [
          "A",
          "C",
          "D",
          "E",
          "F",
          "G",
          "H",
          "I",
          "K",
          "L",
          "M",
          "N",
          "P",
          "Q",
          "R",
          "S",
          "T",
          "V",
          "W",
          "Y"
         ],
         "yaxis": "y",
         "z": {
          "bdata": "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",
          "dtype": "f8",
          "shape": "20, 15"
         }
        }
       ],
       "layout": {
        "coloraxis": {
         "colorbar": {
          "ticktext": [
           "0.0",
           "0.25",
           "0.5",
           "0.75",
           "1.0"
          ],
          "tickvals": [
           0,
           0.25,
           0.5,
           0.75,
           1
          ],
          "title": {
           "text": "LCS Ratio"
          }
         },
         "colorscale": [
          [
           0,
           "rgb(0, 147, 146)"
          ],
          [
           0.16666666666666666,
           "rgb(57, 177, 133)"
          ],
          [
           0.3333333333333333,
           "rgb(156, 203, 134)"
          ],
          [
           0.5,
           "rgb(233, 226, 156)"
          ],
          [
           0.6666666666666666,
           "rgb(238, 180, 121)"
          ],
          [
           0.8333333333333334,
           "rgb(232, 132, 113)"
          ],
          [
           1,
           "rgb(207, 89, 126)"
          ]
         ]
        },
        "plot_bgcolor": "white",
        "template": {
         "data": {
          "bar": [
           {
            "error_x": {
             "color": "#2a3f5f"
            },
            "error_y": {
             "color": "#2a3f5f"
            },
            "marker": {
             "line": {
              "color": "#E5ECF6",
              "width": 0.5
             },
             "pattern": {
              "fillmode": "overlay",
              "size": 10,
              "solidity": 0.2
             }
            },
            "type": "bar"
           }
          ],
          "barpolar": [
           {
            "marker": {
             "line": {
              "color": "#E5ECF6",
              "width": 0.5
             },
             "pattern": {
              "fillmode": "overlay",
              "size": 10,
              "solidity": 0.2
             }
            },
            "type": "barpolar"
           }
          ],
          "carpet": [
           {
            "aaxis": {
             "endlinecolor": "#2a3f5f",
             "gridcolor": "white",
             "linecolor": "white",
             "minorgridcolor": "white",
             "startlinecolor": "#2a3f5f"
            },
            "baxis": {
             "endlinecolor": "#2a3f5f",
             "gridcolor": "white",
             "linecolor": "white",
             "minorgridcolor": "white",
             "startlinecolor": "#2a3f5f"
            },
            "type": "carpet"
           }
          ],
          "choropleth": [
           {
            "colorbar": {
             "outlinewidth": 0,
             "ticks": ""
            },
            "type": "choropleth"
           }
          ],
          "contour": [
           {
            "colorbar": {
             "outlinewidth": 0,
             "ticks": ""
            },
            "colorscale": [
             [
              0,
              "#0d0887"
             ],
             [
              0.1111111111111111,
              "#46039f"
             ],
             [
              0.2222222222222222,
              "#7201a8"
             ],
             [
              0.3333333333333333,
              "#9c179e"
             ],
             [
              0.4444444444444444,
              "#bd3786"
             ],
             [
              0.5555555555555556,
              "#d8576b"
             ],
             [
              0.6666666666666666,
              "#ed7953"
             ],
             [
              0.7777777777777778,
              "#fb9f3a"
             ],
             [
              0.8888888888888888,
              "#fdca26"
             ],
             [
              1,
              "#f0f921"
             ]
            ],
            "type": "contour"
           }
          ],
          "contourcarpet": [
           {
            "colorbar": {
             "outlinewidth": 0,
             "ticks": ""
            },
            "type": "contourcarpet"
           }
          ],
          "heatmap": [
           {
            "colorbar": {
             "outlinewidth": 0,
             "ticks": ""
            },
            "colorscale": [
             [
              0,
              "#0d0887"
             ],
             [
              0.1111111111111111,
              "#46039f"
             ],
             [
              0.2222222222222222,
              "#7201a8"
             ],
             [
              0.3333333333333333,
              "#9c179e"
             ],
             [
              0.4444444444444444,
              "#bd3786"
             ],
             [
              0.5555555555555556,
              "#d8576b"
             ],
             [
              0.6666666666666666,
              "#ed7953"
             ],
             [
              0.7777777777777778,
              "#fb9f3a"
             ],
             [
              0.8888888888888888,
              "#fdca26"
             ],
             [
              1,
              "#f0f921"
             ]
            ],
            "type": "heatmap"
           }
          ],
          "histogram": [
           {
            "marker": {
             "pattern": {
              "fillmode": "overlay",
              "size": 10,
              "solidity": 0.2
             }
            },
            "type": "histogram"
           }
          ],
          "histogram2d": [
           {
            "colorbar": {
             "outlinewidth": 0,
             "ticks": ""
            },
            "colorscale": [
             [
              0,
              "#0d0887"
             ],
             [
              0.1111111111111111,
              "#46039f"
             ],
             [
              0.2222222222222222,
              "#7201a8"
             ],
             [
              0.3333333333333333,
              "#9c179e"
             ],
             [
              0.4444444444444444,
              "#bd3786"
             ],
             [
              0.5555555555555556,
              "#d8576b"
             ],
             [
              0.6666666666666666,
              "#ed7953"
             ],
             [
              0.7777777777777778,
              "#fb9f3a"
             ],
             [
              0.8888888888888888,
              "#fdca26"
             ],
             [
              1,
              "#f0f921"
             ]
            ],
            "type": "histogram2d"
           }
          ],
          "histogram2dcontour": [
           {
            "colorbar": {
             "outlinewidth": 0,
             "ticks": ""
            },
            "colorscale": [
             [
              0,
              "#0d0887"
             ],
             [
              0.1111111111111111,
              "#46039f"
             ],
             [
              0.2222222222222222,
              "#7201a8"
             ],
             [
              0.3333333333333333,
              "#9c179e"
             ],
             [
              0.4444444444444444,
              "#bd3786"
             ],
             [
              0.5555555555555556,
              "#d8576b"
             ],
             [
              0.6666666666666666,
              "#ed7953"
             ],
             [
              0.7777777777777778,
              "#fb9f3a"
             ],
             [
              0.8888888888888888,
              "#fdca26"
             ],
             [
              1,
              "#f0f921"
             ]
            ],
            "type": "histogram2dcontour"
           }
          ],
          "mesh3d": [
           {
            "colorbar": {
             "outlinewidth": 0,
             "ticks": ""
            },
            "type": "mesh3d"
           }
          ],
          "parcoords": [
           {
            "line": {
             "colorbar": {
              "outlinewidth": 0,
              "ticks": ""
             }
            },
            "type": "parcoords"
           }
          ],
          "pie": [
           {
            "automargin": true,
            "type": "pie"
           }
          ],
          "scatter": [
           {
            "fillpattern": {
             "fillmode": "overlay",
             "size": 10,
             "solidity": 0.2
            },
            "type": "scatter"
           }
          ],
          "scatter3d": [
           {
            "line": {
             "colorbar": {
              "outlinewidth": 0,
              "ticks": ""
             }
            },
            "marker": {
             "colorbar": {
              "outlinewidth": 0,
              "ticks": ""
             }
            },
            "type": "scatter3d"
           }
          ],
          "scattercarpet": [
           {
            "marker": {
             "colorbar": {
              "outlinewidth": 0,
              "ticks": ""
             }
            },
            "type": "scattercarpet"
           }
          ],
          "scattergeo": [
           {
            "marker": {
             "colorbar": {
              "outlinewidth": 0,
              "ticks": ""
             }
            },
            "type": "scattergeo"
           }
          ],
          "scattergl": [
           {
            "marker": {
             "colorbar": {
              "outlinewidth": 0,
              "ticks": ""
             }
            },
            "type": "scattergl"
           }
          ],
          "scattermap": [
           {
            "marker": {
             "colorbar": {
              "outlinewidth": 0,
              "ticks": ""
             }
            },
            "type": "scattermap"
           }
          ],
          "scattermapbox": [
           {
            "marker": {
             "colorbar": {
              "outlinewidth": 0,
              "ticks": ""
             }
            },
            "type": "scattermapbox"
           }
          ],
          "scatterpolar": [
           {
            "marker": {
             "colorbar": {
              "outlinewidth": 0,
              "ticks": ""
             }
            },
            "type": "scatterpolar"
           }
          ],
          "scatterpolargl": [
           {
            "marker": {
             "colorbar": {
              "outlinewidth": 0,
              "ticks": ""
             }
            },
            "type": "scatterpolargl"
           }
          ],
          "scatterternary": [
           {
            "marker": {
             "colorbar": {
              "outlinewidth": 0,
              "ticks": ""
             }
            },
            "type": "scatterternary"
           }
          ],
          "surface": [
           {
            "colorbar": {
             "outlinewidth": 0,
             "ticks": ""
            },
            "colorscale": [
             [
              0,
              "#0d0887"
             ],
             [
              0.1111111111111111,
              "#46039f"
             ],
             [
              0.2222222222222222,
              "#7201a8"
             ],
             [
              0.3333333333333333,
              "#9c179e"
             ],
             [
              0.4444444444444444,
              "#bd3786"
             ],
             [
              0.5555555555555556,
              "#d8576b"
             ],
             [
              0.6666666666666666,
              "#ed7953"
             ],
             [
              0.7777777777777778,
              "#fb9f3a"
             ],
             [
              0.8888888888888888,
              "#fdca26"
             ],
             [
              1,
              "#f0f921"
             ]
            ],
            "type": "surface"
           }
          ],
          "table": [
           {
            "cells": {
             "fill": {
              "color": "#EBF0F8"
             },
             "line": {
              "color": "white"
             }
            },
            "header": {
             "fill": {
              "color": "#C8D4E3"
             },
             "line": {
              "color": "white"
             }
            },
            "type": "table"
           }
          ]
         },
         "layout": {
          "annotationdefaults": {
           "arrowcolor": "#2a3f5f",
           "arrowhead": 0,
           "arrowwidth": 1
          },
          "autotypenumbers": "strict",
          "coloraxis": {
           "colorbar": {
            "outlinewidth": 0,
            "ticks": ""
           }
          },
          "colorscale": {
           "diverging": [
            [
             0,
             "#8e0152"
            ],
            [
             0.1,
             "#c51b7d"
            ],
            [
             0.2,
             "#de77ae"
            ],
            [
             0.3,
             "#f1b6da"
            ],
            [
             0.4,
             "#fde0ef"
            ],
            [
             0.5,
             "#f7f7f7"
            ],
            [
             0.6,
             "#e6f5d0"
            ],
            [
             0.7,
             "#b8e186"
            ],
            [
             0.8,
             "#7fbc41"
            ],
            [
             0.9,
             "#4d9221"
            ],
            [
             1,
             "#276419"
            ]
           ],
           "sequential": [
            [
             0,
             "#0d0887"
            ],
            [
             0.1111111111111111,
             "#46039f"
            ],
            [
             0.2222222222222222,
             "#7201a8"
            ],
            [
             0.3333333333333333,
             "#9c179e"
            ],
            [
             0.4444444444444444,
             "#bd3786"
            ],
            [
             0.5555555555555556,
             "#d8576b"
            ],
            [
             0.6666666666666666,
             "#ed7953"
            ],
            [
             0.7777777777777778,
             "#fb9f3a"
            ],
            [
             0.8888888888888888,
             "#fdca26"
            ],
            [
             1,
             "#f0f921"
            ]
           ],
           "sequentialminus": [
            [
             0,
             "#0d0887"
            ],
            [
             0.1111111111111111,
             "#46039f"
            ],
            [
             0.2222222222222222,
             "#7201a8"
            ],
            [
             0.3333333333333333,
             "#9c179e"
            ],
            [
             0.4444444444444444,
             "#bd3786"
            ],
            [
             0.5555555555555556,
             "#d8576b"
            ],
            [
             0.6666666666666666,
             "#ed7953"
            ],
            [
             0.7777777777777778,
             "#fb9f3a"
            ],
            [
             0.8888888888888888,
             "#fdca26"
            ],
            [
             1,
             "#f0f921"
            ]
           ]
          },
          "colorway": [
           "#636efa",
           "#EF553B",
           "#00cc96",
           "#ab63fa",
           "#FFA15A",
           "#19d3f3",
           "#FF6692",
           "#B6E880",
           "#FF97FF",
           "#FECB52"
          ],
          "font": {
           "color": "#2a3f5f"
          },
          "geo": {
           "bgcolor": "white",
           "lakecolor": "white",
           "landcolor": "#E5ECF6",
           "showlakes": true,
           "showland": true,
           "subunitcolor": "white"
          },
          "hoverlabel": {
           "align": "left"
          },
          "hovermode": "closest",
          "mapbox": {
           "style": "light"
          },
          "paper_bgcolor": "white",
          "plot_bgcolor": "#E5ECF6",
          "polar": {
           "angularaxis": {
            "gridcolor": "white",
            "linecolor": "white",
            "ticks": ""
           },
           "bgcolor": "#E5ECF6",
           "radialaxis": {
            "gridcolor": "white",
            "linecolor": "white",
            "ticks": ""
           }
          },
          "scene": {
           "xaxis": {
            "backgroundcolor": "#E5ECF6",
            "gridcolor": "white",
            "gridwidth": 2,
            "linecolor": "white",
            "showbackground": true,
            "ticks": "",
            "zerolinecolor": "white"
           },
           "yaxis": {
            "backgroundcolor": "#E5ECF6",
            "gridcolor": "white",
            "gridwidth": 2,
            "linecolor": "white",
            "showbackground": true,
            "ticks": "",
            "zerolinecolor": "white"
           },
           "zaxis": {
            "backgroundcolor": "#E5ECF6",
            "gridcolor": "white",
            "gridwidth": 2,
            "linecolor": "white",
            "showbackground": true,
            "ticks": "",
            "zerolinecolor": "white"
           }
          },
          "shapedefaults": {
           "line": {
            "color": "#2a3f5f"
           }
          },
          "ternary": {
           "aaxis": {
            "gridcolor": "white",
            "linecolor": "white",
            "ticks": ""
           },
           "baxis": {
            "gridcolor": "white",
            "linecolor": "white",
            "ticks": ""
           },
           "bgcolor": "#E5ECF6",
           "caxis": {
            "gridcolor": "white",
            "linecolor": "white",
            "ticks": ""
           }
          },
          "title": {
           "x": 0.05
          },
          "xaxis": {
           "automargin": true,
           "gridcolor": "white",
           "linecolor": "white",
           "ticks": "",
           "title": {
            "standoff": 15
           },
           "zerolinecolor": "white",
           "zerolinewidth": 2
          },
          "yaxis": {
           "automargin": true,
           "gridcolor": "white",
           "linecolor": "white",
           "ticks": "",
           "title": {
            "standoff": 15
           },
           "zerolinecolor": "white",
           "zerolinewidth": 2
          }
         }
        },
        "title": {
         "text": "Normalized LCS values for P54819 at position 194"
        },
        "xaxis": {
         "anchor": "y",
         "constrain": "domain",
         "domain": [
          0,
          1
         ],
         "scaleanchor": "y",
         "tickmode": "array",
         "ticktext": [
          -7,
          -6,
          -5,
          -4,
          -3,
          -2,
          -1,
          0,
          1,
          2,
          3,
          4,
          5,
          6,
          7
         ],
         "tickvals": [
          1,
          2,
          3,
          4,
          5,
          6,
          7,
          8,
          9,
          10,
          11,
          12,
          13,
          14,
          15
         ],
         "title": {
          "text": "Mutation Position"
         }
        },
        "yaxis": {
         "anchor": "x",
         "autorange": "reversed",
         "constrain": "domain",
         "domain": [
          0,
          1
         ],
         "dtick": 1,
         "tickmode": "linear",
         "title": {
          "text": "Mutated Amino Acid"
         }
        }
       }
      }
     },
     "metadata": {},
     "output_type": "display_data"
    },
    {
     "name": "stdout",
     "output_type": "stream",
     "text": [
      "\n",
      "Rendering heatmap for: P57081_391_heatmap_data.csv\n"
     ]
    },
    {
     "name": "stderr",
     "output_type": "stream",
     "text": [
      "C:\\Users\\ricea\\AppData\\Local\\Temp\\ipykernel_26764\\4146770678.py:9: FutureWarning:\n",
      "\n",
      "The provided callable <function mean at 0x000002D40831D6C0> is currently using DataFrameGroupBy.mean. In a future version of pandas, the provided callable will be used directly. To keep current behavior pass the string \"mean\" instead.\n",
      "\n"
     ]
    },
    {
     "data": {
      "application/vnd.plotly.v1+json": {
       "config": {
        "plotlyServerURL": "https://plot.ly"
       },
       "data": [
        {
         "coloraxis": "coloraxis",
         "hovertemplate": "Mutation Position: %{x}<br>Mutated Amino Acid: %{y}<br>LCS Ratio: %{z}<extra></extra>",
         "name": "0",
         "type": "heatmap",
         "x": {
          "bdata": "AQIDBAUGBwgJCgsMDQ4P",
          "dtype": "i1"
         },
         "xaxis": "x",
         "y": [
          "A",
          "C",
          "D",
          "E",
          "F",
          "G",
          "H",
          "I",
          "K",
          "L",
          "M",
          "N",
          "P",
          "Q",
          "R",
          "S",
          "T",
          "V",
          "W",
          "Y"
         ],
         "yaxis": "y",
         "z": {
          "bdata": "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",
          "dtype": "f8",
          "shape": "20, 15"
         }
        }
       ],
       "layout": {
        "coloraxis": {
         "colorbar": {
          "ticktext": [
           "0.0",
           "0.25",
           "0.5",
           "0.75",
           "1.0"
          ],
          "tickvals": [
           0,
           0.25,
           0.5,
           0.75,
           1
          ],
          "title": {
           "text": "LCS Ratio"
          }
         },
         "colorscale": [
          [
           0,
           "rgb(0, 147, 146)"
          ],
          [
           0.16666666666666666,
           "rgb(57, 177, 133)"
          ],
          [
           0.3333333333333333,
           "rgb(156, 203, 134)"
          ],
          [
           0.5,
           "rgb(233, 226, 156)"
          ],
          [
           0.6666666666666666,
           "rgb(238, 180, 121)"
          ],
          [
           0.8333333333333334,
           "rgb(232, 132, 113)"
          ],
          [
           1,
           "rgb(207, 89, 126)"
          ]
         ]
        },
        "plot_bgcolor": "white",
        "template": {
         "data": {
          "bar": [
           {
            "error_x": {
             "color": "#2a3f5f"
            },
            "error_y": {
             "color": "#2a3f5f"
            },
            "marker": {
             "line": {
              "color": "#E5ECF6",
              "width": 0.5
             },
             "pattern": {
              "fillmode": "overlay",
              "size": 10,
              "solidity": 0.2
             }
            },
            "type": "bar"
           }
          ],
          "barpolar": [
           {
            "marker": {
             "line": {
              "color": "#E5ECF6",
              "width": 0.5
             },
             "pattern": {
              "fillmode": "overlay",
              "size": 10,
              "solidity": 0.2
             }
            },
            "type": "barpolar"
           }
          ],
          "carpet": [
           {
            "aaxis": {
             "endlinecolor": "#2a3f5f",
             "gridcolor": "white",
             "linecolor": "white",
             "minorgridcolor": "white",
             "startlinecolor": "#2a3f5f"
            },
            "baxis": {
             "endlinecolor": "#2a3f5f",
             "gridcolor": "white",
             "linecolor": "white",
             "minorgridcolor": "white",
             "startlinecolor": "#2a3f5f"
            },
            "type": "carpet"
           }
          ],
          "choropleth": [
           {
            "colorbar": {
             "outlinewidth": 0,
             "ticks": ""
            },
            "type": "choropleth"
           }
          ],
          "contour": [
           {
            "colorbar": {
             "outlinewidth": 0,
             "ticks": ""
            },
            "colorscale": [
             [
              0,
              "#0d0887"
             ],
             [
              0.1111111111111111,
              "#46039f"
             ],
             [
              0.2222222222222222,
              "#7201a8"
             ],
             [
              0.3333333333333333,
              "#9c179e"
             ],
             [
              0.4444444444444444,
              "#bd3786"
             ],
             [
              0.5555555555555556,
              "#d8576b"
             ],
             [
              0.6666666666666666,
              "#ed7953"
             ],
             [
              0.7777777777777778,
              "#fb9f3a"
             ],
             [
              0.8888888888888888,
              "#fdca26"
             ],
             [
              1,
              "#f0f921"
             ]
            ],
            "type": "contour"
           }
          ],
          "contourcarpet": [
           {
            "colorbar": {
             "outlinewidth": 0,
             "ticks": ""
            },
            "type": "contourcarpet"
           }
          ],
          "heatmap": [
           {
            "colorbar": {
             "outlinewidth": 0,
             "ticks": ""
            },
            "colorscale": [
             [
              0,
              "#0d0887"
             ],
             [
              0.1111111111111111,
              "#46039f"
             ],
             [
              0.2222222222222222,
              "#7201a8"
             ],
             [
              0.3333333333333333,
              "#9c179e"
             ],
             [
              0.4444444444444444,
              "#bd3786"
             ],
             [
              0.5555555555555556,
              "#d8576b"
             ],
             [
              0.6666666666666666,
              "#ed7953"
             ],
             [
              0.7777777777777778,
              "#fb9f3a"
             ],
             [
              0.8888888888888888,
              "#fdca26"
             ],
             [
              1,
              "#f0f921"
             ]
            ],
            "type": "heatmap"
           }
          ],
          "histogram": [
           {
            "marker": {
             "pattern": {
              "fillmode": "overlay",
              "size": 10,
              "solidity": 0.2
             }
            },
            "type": "histogram"
           }
          ],
          "histogram2d": [
           {
            "colorbar": {
             "outlinewidth": 0,
             "ticks": ""
            },
            "colorscale": [
             [
              0,
              "#0d0887"
             ],
             [
              0.1111111111111111,
              "#46039f"
             ],
             [
              0.2222222222222222,
              "#7201a8"
             ],
             [
              0.3333333333333333,
              "#9c179e"
             ],
             [
              0.4444444444444444,
              "#bd3786"
             ],
             [
              0.5555555555555556,
              "#d8576b"
             ],
             [
              0.6666666666666666,
              "#ed7953"
             ],
             [
              0.7777777777777778,
              "#fb9f3a"
             ],
             [
              0.8888888888888888,
              "#fdca26"
             ],
             [
              1,
              "#f0f921"
             ]
            ],
            "type": "histogram2d"
           }
          ],
          "histogram2dcontour": [
           {
            "colorbar": {
             "outlinewidth": 0,
             "ticks": ""
            },
            "colorscale": [
             [
              0,
              "#0d0887"
             ],
             [
              0.1111111111111111,
              "#46039f"
             ],
             [
              0.2222222222222222,
              "#7201a8"
             ],
             [
              0.3333333333333333,
              "#9c179e"
             ],
             [
              0.4444444444444444,
              "#bd3786"
             ],
             [
              0.5555555555555556,
              "#d8576b"
             ],
             [
              0.6666666666666666,
              "#ed7953"
             ],
             [
              0.7777777777777778,
              "#fb9f3a"
             ],
             [
              0.8888888888888888,
              "#fdca26"
             ],
             [
              1,
              "#f0f921"
             ]
            ],
            "type": "histogram2dcontour"
           }
          ],
          "mesh3d": [
           {
            "colorbar": {
             "outlinewidth": 0,
             "ticks": ""
            },
            "type": "mesh3d"
           }
          ],
          "parcoords": [
           {
            "line": {
             "colorbar": {
              "outlinewidth": 0,
              "ticks": ""
             }
            },
            "type": "parcoords"
           }
          ],
          "pie": [
           {
            "automargin": true,
            "type": "pie"
           }
          ],
          "scatter": [
           {
            "fillpattern": {
             "fillmode": "overlay",
             "size": 10,
             "solidity": 0.2
            },
            "type": "scatter"
           }
          ],
          "scatter3d": [
           {
            "line": {
             "colorbar": {
              "outlinewidth": 0,
              "ticks": ""
             }
            },
            "marker": {
             "colorbar": {
              "outlinewidth": 0,
              "ticks": ""
             }
            },
            "type": "scatter3d"
           }
          ],
          "scattercarpet": [
           {
            "marker": {
             "colorbar": {
              "outlinewidth": 0,
              "ticks": ""
             }
            },
            "type": "scattercarpet"
           }
          ],
          "scattergeo": [
           {
            "marker": {
             "colorbar": {
              "outlinewidth": 0,
              "ticks": ""
             }
            },
            "type": "scattergeo"
           }
          ],
          "scattergl": [
           {
            "marker": {
             "colorbar": {
              "outlinewidth": 0,
              "ticks": ""
             }
            },
            "type": "scattergl"
           }
          ],
          "scattermap": [
           {
            "marker": {
             "colorbar": {
              "outlinewidth": 0,
              "ticks": ""
             }
            },
            "type": "scattermap"
           }
          ],
          "scattermapbox": [
           {
            "marker": {
             "colorbar": {
              "outlinewidth": 0,
              "ticks": ""
             }
            },
            "type": "scattermapbox"
           }
          ],
          "scatterpolar": [
           {
            "marker": {
             "colorbar": {
              "outlinewidth": 0,
              "ticks": ""
             }
            },
            "type": "scatterpolar"
           }
          ],
          "scatterpolargl": [
           {
            "marker": {
             "colorbar": {
              "outlinewidth": 0,
              "ticks": ""
             }
            },
            "type": "scatterpolargl"
           }
          ],
          "scatterternary": [
           {
            "marker": {
             "colorbar": {
              "outlinewidth": 0,
              "ticks": ""
             }
            },
            "type": "scatterternary"
           }
          ],
          "surface": [
           {
            "colorbar": {
             "outlinewidth": 0,
             "ticks": ""
            },
            "colorscale": [
             [
              0,
              "#0d0887"
             ],
             [
              0.1111111111111111,
              "#46039f"
             ],
             [
              0.2222222222222222,
              "#7201a8"
             ],
             [
              0.3333333333333333,
              "#9c179e"
             ],
             [
              0.4444444444444444,
              "#bd3786"
             ],
             [
              0.5555555555555556,
              "#d8576b"
             ],
             [
              0.6666666666666666,
              "#ed7953"
             ],
             [
              0.7777777777777778,
              "#fb9f3a"
             ],
             [
              0.8888888888888888,
              "#fdca26"
             ],
             [
              1,
              "#f0f921"
             ]
            ],
            "type": "surface"
           }
          ],
          "table": [
           {
            "cells": {
             "fill": {
              "color": "#EBF0F8"
             },
             "line": {
              "color": "white"
             }
            },
            "header": {
             "fill": {
              "color": "#C8D4E3"
             },
             "line": {
              "color": "white"
             }
            },
            "type": "table"
           }
          ]
         },
         "layout": {
          "annotationdefaults": {
           "arrowcolor": "#2a3f5f",
           "arrowhead": 0,
           "arrowwidth": 1
          },
          "autotypenumbers": "strict",
          "coloraxis": {
           "colorbar": {
            "outlinewidth": 0,
            "ticks": ""
           }
          },
          "colorscale": {
           "diverging": [
            [
             0,
             "#8e0152"
            ],
            [
             0.1,
             "#c51b7d"
            ],
            [
             0.2,
             "#de77ae"
            ],
            [
             0.3,
             "#f1b6da"
            ],
            [
             0.4,
             "#fde0ef"
            ],
            [
             0.5,
             "#f7f7f7"
            ],
            [
             0.6,
             "#e6f5d0"
            ],
            [
             0.7,
             "#b8e186"
            ],
            [
             0.8,
             "#7fbc41"
            ],
            [
             0.9,
             "#4d9221"
            ],
            [
             1,
             "#276419"
            ]
           ],
           "sequential": [
            [
             0,
             "#0d0887"
            ],
            [
             0.1111111111111111,
             "#46039f"
            ],
            [
             0.2222222222222222,
             "#7201a8"
            ],
            [
             0.3333333333333333,
             "#9c179e"
            ],
            [
             0.4444444444444444,
             "#bd3786"
            ],
            [
             0.5555555555555556,
             "#d8576b"
            ],
            [
             0.6666666666666666,
             "#ed7953"
            ],
            [
             0.7777777777777778,
             "#fb9f3a"
            ],
            [
             0.8888888888888888,
             "#fdca26"
            ],
            [
             1,
             "#f0f921"
            ]
           ],
           "sequentialminus": [
            [
             0,
             "#0d0887"
            ],
            [
             0.1111111111111111,
             "#46039f"
            ],
            [
             0.2222222222222222,
             "#7201a8"
            ],
            [
             0.3333333333333333,
             "#9c179e"
            ],
            [
             0.4444444444444444,
             "#bd3786"
            ],
            [
             0.5555555555555556,
             "#d8576b"
            ],
            [
             0.6666666666666666,
             "#ed7953"
            ],
            [
             0.7777777777777778,
             "#fb9f3a"
            ],
            [
             0.8888888888888888,
             "#fdca26"
            ],
            [
             1,
             "#f0f921"
            ]
           ]
          },
          "colorway": [
           "#636efa",
           "#EF553B",
           "#00cc96",
           "#ab63fa",
           "#FFA15A",
           "#19d3f3",
           "#FF6692",
           "#B6E880",
           "#FF97FF",
           "#FECB52"
          ],
          "font": {
           "color": "#2a3f5f"
          },
          "geo": {
           "bgcolor": "white",
           "lakecolor": "white",
           "landcolor": "#E5ECF6",
           "showlakes": true,
           "showland": true,
           "subunitcolor": "white"
          },
          "hoverlabel": {
           "align": "left"
          },
          "hovermode": "closest",
          "mapbox": {
           "style": "light"
          },
          "paper_bgcolor": "white",
          "plot_bgcolor": "#E5ECF6",
          "polar": {
           "angularaxis": {
            "gridcolor": "white",
            "linecolor": "white",
            "ticks": ""
           },
           "bgcolor": "#E5ECF6",
           "radialaxis": {
            "gridcolor": "white",
            "linecolor": "white",
            "ticks": ""
           }
          },
          "scene": {
           "xaxis": {
            "backgroundcolor": "#E5ECF6",
            "gridcolor": "white",
            "gridwidth": 2,
            "linecolor": "white",
            "showbackground": true,
            "ticks": "",
            "zerolinecolor": "white"
           },
           "yaxis": {
            "backgroundcolor": "#E5ECF6",
            "gridcolor": "white",
            "gridwidth": 2,
            "linecolor": "white",
            "showbackground": true,
            "ticks": "",
            "zerolinecolor": "white"
           },
           "zaxis": {
            "backgroundcolor": "#E5ECF6",
            "gridcolor": "white",
            "gridwidth": 2,
            "linecolor": "white",
            "showbackground": true,
            "ticks": "",
            "zerolinecolor": "white"
           }
          },
          "shapedefaults": {
           "line": {
            "color": "#2a3f5f"
           }
          },
          "ternary": {
           "aaxis": {
            "gridcolor": "white",
            "linecolor": "white",
            "ticks": ""
           },
           "baxis": {
            "gridcolor": "white",
            "linecolor": "white",
            "ticks": ""
           },
           "bgcolor": "#E5ECF6",
           "caxis": {
            "gridcolor": "white",
            "linecolor": "white",
            "ticks": ""
           }
          },
          "title": {
           "x": 0.05
          },
          "xaxis": {
           "automargin": true,
           "gridcolor": "white",
           "linecolor": "white",
           "ticks": "",
           "title": {
            "standoff": 15
           },
           "zerolinecolor": "white",
           "zerolinewidth": 2
          },
          "yaxis": {
           "automargin": true,
           "gridcolor": "white",
           "linecolor": "white",
           "ticks": "",
           "title": {
            "standoff": 15
           },
           "zerolinecolor": "white",
           "zerolinewidth": 2
          }
         }
        },
        "title": {
         "text": "Normalized LCS values for P57081 at position 391"
        },
        "xaxis": {
         "anchor": "y",
         "constrain": "domain",
         "domain": [
          0,
          1
         ],
         "scaleanchor": "y",
         "tickmode": "array",
         "ticktext": [
          -7,
          -6,
          -5,
          -4,
          -3,
          -2,
          -1,
          0,
          1,
          2,
          3,
          4,
          5,
          6,
          7
         ],
         "tickvals": [
          1,
          2,
          3,
          4,
          5,
          6,
          7,
          8,
          9,
          10,
          11,
          12,
          13,
          14,
          15
         ],
         "title": {
          "text": "Mutation Position"
         }
        },
        "yaxis": {
         "anchor": "x",
         "autorange": "reversed",
         "constrain": "domain",
         "domain": [
          0,
          1
         ],
         "dtick": 1,
         "tickmode": "linear",
         "title": {
          "text": "Mutated Amino Acid"
         }
        }
       }
      }
     },
     "metadata": {},
     "output_type": "display_data"
    },
    {
     "name": "stdout",
     "output_type": "stream",
     "text": [
      "\n",
      "Rendering heatmap for: Q8WTW3_454_heatmap_data.csv\n"
     ]
    },
    {
     "name": "stderr",
     "output_type": "stream",
     "text": [
      "C:\\Users\\ricea\\AppData\\Local\\Temp\\ipykernel_26764\\4146770678.py:9: FutureWarning:\n",
      "\n",
      "The provided callable <function mean at 0x000002D40831D6C0> is currently using DataFrameGroupBy.mean. In a future version of pandas, the provided callable will be used directly. To keep current behavior pass the string \"mean\" instead.\n",
      "\n"
     ]
    },
    {
     "data": {
      "application/vnd.plotly.v1+json": {
       "config": {
        "plotlyServerURL": "https://plot.ly"
       },
       "data": [
        {
         "coloraxis": "coloraxis",
         "hovertemplate": "Mutation Position: %{x}<br>Mutated Amino Acid: %{y}<br>LCS Ratio: %{z}<extra></extra>",
         "name": "0",
         "type": "heatmap",
         "x": {
          "bdata": "AQIDBAUGBwgJCgsMDQ4P",
          "dtype": "i1"
         },
         "xaxis": "x",
         "y": [
          "A",
          "C",
          "D",
          "E",
          "F",
          "G",
          "H",
          "I",
          "K",
          "L",
          "M",
          "N",
          "P",
          "Q",
          "R",
          "S",
          "T",
          "V",
          "W",
          "Y"
         ],
         "yaxis": "y",
         "z": {
          "bdata": "AAAAAAAA8D8AAAAAAAD4f5YLaoBxe78/k/OyiE8gxT8MMG7vQ7a0Pwwwbu9DtrQ/IMUKh4kypz8AAAAAAAD4f1xQA4zb+8A/3xNIJedlwT9m14y+8s/BP2bXjL7yz8E/AAAAAAAA8D8AAAAAAADwPwAAAAAAAPA/AAAAAAAA8D8AAAAAAADwP0papx7Prrk/TVqnHs+uyT8nxQqHiTK3P98TSCXnZcE/WOEwUeaCuj8AAAAAAAD4f/ghW4oVDsM/7ZrRV/45wj+dejy7ZvTFP4iE4E1ap74/AAAAAAAA8D8AAAAAAADwPwAAAAAAAPA/AAAAAAAA8D8AAAAAAADwPxO39yFbirU/7ZrRV/45wj+oAcbtfcjGP+qa0Vf+ObI/e+WfIyF4wz8AAAAAAAD4f0papx7Prrk/6prRV/45sj9D0x3st9q4PyE+gVRyXrY/AAAAAAAA8D8AAAAAAADwPwAAAAAAAPA/AAAAAAAA8D8AAAAAAADwPxO39yFbirU/Q9Md7LfauD8AAAAAAAD4f44LaoBxe68/AAAAAAAA+H8AAAAAAAD4f44LaoBxe68/PNMd7LfaqD8Tt/chW4q1P1jhMFHmgqo/AAAAAAAA8D8AAAAAAADwPwAAAAAAAPA/AAAAAAAA8D8AAAAAAADwP6gBxu19yMY/IT6BVHJetj/cE0gl52WxP/eo5Lws4qM//qjkvCzisz8AAAAAAAD4f4H9VhtD060/1Yy+8s+RsD8MMG7vQ7bEP2zvQ7YUK7w/AAAAAAAA8D8AAAAAAADwPwAAAAAAAPA/AAAAAAAA8D8AAAAAAADwP4iE4E1ap74/7ZrRV/45wj8gxQqHiTKnP9wTSCXnZbE/PNMd7LfaqD8AAAAAAAD4f+qa0Vf+ObI/cV4W8Qmkwj/tmtFX/jnCP9WMvvLPkcA/AAAAAAAA8D8AAAAAAADwPwAAAAAAAPA/AAAAAAAA8D8AAAAAAADwPxO39yFbirU/bO9DthQrzD/cE0gl52WxP/ghW4oVDrM/Q9Md7LfauD8AAAAAAAD4f6gBxu19yMY/7ZrRV/45wj8Wt/chW4rFP/ghW4oVDsM/AAAAAAAA8D8AAAAAAADwPwAAAAAAAPA/AAAAAAAA8D8AAAAAAADwPyvFCoeJMsc/cV4W8Qmkwj/+qOS8LOKzP3N2zegr/7w/+CFbihUOsz8AAAAAAAD4f/ghW4oVDrM/SlqnHs+uuT+B/VYbQ9O9PxO39yFbirU/AAAAAAAA8D8AAAAAAADwPwAAAAAAAPA/AAAAAAAA8D8AAAAAAADwP1jhMFHmgqo/c3bN6Cv/vD+OC2qAcXuvP4H9VhtD060/+CFbihUOsz8AAAAAAAD4f4H9VhtD070/6prRV/45sj8gxQqHiTKnP4H9VhtD070/AAAAAAAA8D8AAAAAAADwPwAAAAAAAPA/AAAAAAAA8D8AAAAAAADwPwAAAAAAAPh/c3bN6Cv/vD9KWqcez665PwAAAAAAAPh/1Yy+8s+RsD8AAAAAAAD4f0PTHey32rg/3xNIJedlwT+T87KITyDFP98TSCXnZcE/AAAAAAAA8D8AAAAAAADwPwAAAAAAAPA/AAAAAAAA8D8AAAAAAADwP516PLtm9MU/x5ZihcNEyT/VjL7yz5GwP4iE4E1ap74/SlqnHs+uuT8AAAAAAAD4f9WMvvLPkbA/hWwpVjhMxD8CqeS8LOLDP+2a0Vf+OcI/AAAAAAAA8D8AAAAAAADwPwAAAAAAAPA/AAAAAAAA8D8AAAAAAADwPxO39yFbirU/ZteMvvLPwT/VjL7yz5HAP4H9VhtD060/DDBu70O2tD8AAAAAAAD4f0papx7Prrk/bO9DthQrvD9SyXlZxCfAPwAAAAAAAPh/AAAAAAAA8D8AAAAAAADwPwAAAAAAAPA/AAAAAAAA8D8AAAAAAADwP5YLaoBxe78/iITgTVqnvj880x3st9qoPyE+gVRyXrY//qjkvCzisz8AAAAAAAD4fyE+gVRyXrY/gf1WG0PTvT880x3st9qoP4iE4E1ap74/AAAAAAAA8D8AAAAAAAD4fwAAAAAAAPA/AAAAAAAA8D8AAAAAAADwPwwwbu9DtsQ/AAAAAAAA+H/4IVuKFQ6zP/ghW4oVDrM/SlqnHs+uuT8AAAAAAAD4f9WMvvLPkcA/Xmi6g/1Wuz9SyXlZxCfAP01apx7Prsk/AAAAAAAA8D8AAAAAAADwPwAAAAAAAPA/AAAAAAAA8D8AAAAAAADwPxO39yFbirU/SlqnHs+uuT+OC2qAcXuvP/eo5Lws4pM/E7f3IVuKtT8AAAAAAAD4f9wTSCXnZbE/PNMd7LfaqD8hPoFUcl62P15ouoP9Vrs/AAAAAAAA8D8AAAAAAADwPwAAAAAAAPA/AAAAAAAA+H8AAAAAAADwP9WMvvLPkcA/Ymi6g/1Wyz81TJS5oAa4P4H9VhtD070/gf1WG0PTvT8AAAAAAAD4fwAAAAAAAPh/AAAAAAAA8D8AAAAAAAD4f/45EoI3ac0/AAAAAAAA+H8AAAAAAADwPwAAAAAAAPh/AAAAAAAA8D8AAAAAAADwP9WMvvLPkcA/Ymi6g/1Wyz81TJS5oAa4P4H9VhtD070/gf1WG0PTvT8Tt/chW4qlPwAAAAAAAPA/AAAAAAAA+H8AAAAAAADwP/45EoI3ac0/AAAAAAAA8D8AAAAAAADwPwAAAAAAAPA/AAAAAAAA8D8AAAAAAADwP98TSCXnZcE/e+WfIyF4wz9KWqcez665P1jhMFHmgro//qjkvCzisz8AAAAAAAD4f1LJeVnEJ8A/e+WfIyF4wz9m14y+8s/BP15ouoP9Vrs/AAAAAAAA8D8AAAAAAADwPwAAAAAAAPA/AAAAAAAA8D8AAAAAAADwPxO39yFbirU/gf1WG0PTrT81TJS5oAa4P9wTSCXnZbE/3BNIJedlsT8AAAAAAAD4f3vlnyMheMM/3xNIJedlwT975Z8jIXjDPxO39yFbirU/AAAAAAAA8D8AAAAAAADwPwAAAAAAAPA/AAAAAAAA8D8AAAAAAADwP1jhMFHmgro/1Yy+8s+RwD8gxQqHiTKnP4H9VhtD060/6prRV/45sj/W4DBR5oJqv9WMvvLPkcA/+CFbihUOwz9cUAOM2/vAP2zvQ7YUK7w/AAAAAAAA8D8AAAAAAADwPwAAAAAAAPA/",
          "dtype": "f8",
          "shape": "20, 15"
         }
        }
       ],
       "layout": {
        "coloraxis": {
         "colorbar": {
          "ticktext": [
           "0.0",
           "0.25",
           "0.5",
           "0.75",
           "1.0"
          ],
          "tickvals": [
           0,
           0.25,
           0.5,
           0.75,
           1
          ],
          "title": {
           "text": "LCS Ratio"
          }
         },
         "colorscale": [
          [
           0,
           "rgb(0, 147, 146)"
          ],
          [
           0.16666666666666666,
           "rgb(57, 177, 133)"
          ],
          [
           0.3333333333333333,
           "rgb(156, 203, 134)"
          ],
          [
           0.5,
           "rgb(233, 226, 156)"
          ],
          [
           0.6666666666666666,
           "rgb(238, 180, 121)"
          ],
          [
           0.8333333333333334,
           "rgb(232, 132, 113)"
          ],
          [
           1,
           "rgb(207, 89, 126)"
          ]
         ]
        },
        "plot_bgcolor": "white",
        "template": {
         "data": {
          "bar": [
           {
            "error_x": {
             "color": "#2a3f5f"
            },
            "error_y": {
             "color": "#2a3f5f"
            },
            "marker": {
             "line": {
              "color": "#E5ECF6",
              "width": 0.5
             },
             "pattern": {
              "fillmode": "overlay",
              "size": 10,
              "solidity": 0.2
             }
            },
            "type": "bar"
           }
          ],
          "barpolar": [
           {
            "marker": {
             "line": {
              "color": "#E5ECF6",
              "width": 0.5
             },
             "pattern": {
              "fillmode": "overlay",
              "size": 10,
              "solidity": 0.2
             }
            },
            "type": "barpolar"
           }
          ],
          "carpet": [
           {
            "aaxis": {
             "endlinecolor": "#2a3f5f",
             "gridcolor": "white",
             "linecolor": "white",
             "minorgridcolor": "white",
             "startlinecolor": "#2a3f5f"
            },
            "baxis": {
             "endlinecolor": "#2a3f5f",
             "gridcolor": "white",
             "linecolor": "white",
             "minorgridcolor": "white",
             "startlinecolor": "#2a3f5f"
            },
            "type": "carpet"
           }
          ],
          "choropleth": [
           {
            "colorbar": {
             "outlinewidth": 0,
             "ticks": ""
            },
            "type": "choropleth"
           }
          ],
          "contour": [
           {
            "colorbar": {
             "outlinewidth": 0,
             "ticks": ""
            },
            "colorscale": [
             [
              0,
              "#0d0887"
             ],
             [
              0.1111111111111111,
              "#46039f"
             ],
             [
              0.2222222222222222,
              "#7201a8"
             ],
             [
              0.3333333333333333,
              "#9c179e"
             ],
             [
              0.4444444444444444,
              "#bd3786"
             ],
             [
              0.5555555555555556,
              "#d8576b"
             ],
             [
              0.6666666666666666,
              "#ed7953"
             ],
             [
              0.7777777777777778,
              "#fb9f3a"
             ],
             [
              0.8888888888888888,
              "#fdca26"
             ],
             [
              1,
              "#f0f921"
             ]
            ],
            "type": "contour"
           }
          ],
          "contourcarpet": [
           {
            "colorbar": {
             "outlinewidth": 0,
             "ticks": ""
            },
            "type": "contourcarpet"
           }
          ],
          "heatmap": [
           {
            "colorbar": {
             "outlinewidth": 0,
             "ticks": ""
            },
            "colorscale": [
             [
              0,
              "#0d0887"
             ],
             [
              0.1111111111111111,
              "#46039f"
             ],
             [
              0.2222222222222222,
              "#7201a8"
             ],
             [
              0.3333333333333333,
              "#9c179e"
             ],
             [
              0.4444444444444444,
              "#bd3786"
             ],
             [
              0.5555555555555556,
              "#d8576b"
             ],
             [
              0.6666666666666666,
              "#ed7953"
             ],
             [
              0.7777777777777778,
              "#fb9f3a"
             ],
             [
              0.8888888888888888,
              "#fdca26"
             ],
             [
              1,
              "#f0f921"
             ]
            ],
            "type": "heatmap"
           }
          ],
          "histogram": [
           {
            "marker": {
             "pattern": {
              "fillmode": "overlay",
              "size": 10,
              "solidity": 0.2
             }
            },
            "type": "histogram"
           }
          ],
          "histogram2d": [
           {
            "colorbar": {
             "outlinewidth": 0,
             "ticks": ""
            },
            "colorscale": [
             [
              0,
              "#0d0887"
             ],
             [
              0.1111111111111111,
              "#46039f"
             ],
             [
              0.2222222222222222,
              "#7201a8"
             ],
             [
              0.3333333333333333,
              "#9c179e"
             ],
             [
              0.4444444444444444,
              "#bd3786"
             ],
             [
              0.5555555555555556,
              "#d8576b"
             ],
             [
              0.6666666666666666,
              "#ed7953"
             ],
             [
              0.7777777777777778,
              "#fb9f3a"
             ],
             [
              0.8888888888888888,
              "#fdca26"
             ],
             [
              1,
              "#f0f921"
             ]
            ],
            "type": "histogram2d"
           }
          ],
          "histogram2dcontour": [
           {
            "colorbar": {
             "outlinewidth": 0,
             "ticks": ""
            },
            "colorscale": [
             [
              0,
              "#0d0887"
             ],
             [
              0.1111111111111111,
              "#46039f"
             ],
             [
              0.2222222222222222,
              "#7201a8"
             ],
             [
              0.3333333333333333,
              "#9c179e"
             ],
             [
              0.4444444444444444,
              "#bd3786"
             ],
             [
              0.5555555555555556,
              "#d8576b"
             ],
             [
              0.6666666666666666,
              "#ed7953"
             ],
             [
              0.7777777777777778,
              "#fb9f3a"
             ],
             [
              0.8888888888888888,
              "#fdca26"
             ],
             [
              1,
              "#f0f921"
             ]
            ],
            "type": "histogram2dcontour"
           }
          ],
          "mesh3d": [
           {
            "colorbar": {
             "outlinewidth": 0,
             "ticks": ""
            },
            "type": "mesh3d"
           }
          ],
          "parcoords": [
           {
            "line": {
             "colorbar": {
              "outlinewidth": 0,
              "ticks": ""
             }
            },
            "type": "parcoords"
           }
          ],
          "pie": [
           {
            "automargin": true,
            "type": "pie"
           }
          ],
          "scatter": [
           {
            "fillpattern": {
             "fillmode": "overlay",
             "size": 10,
             "solidity": 0.2
            },
            "type": "scatter"
           }
          ],
          "scatter3d": [
           {
            "line": {
             "colorbar": {
              "outlinewidth": 0,
              "ticks": ""
             }
            },
            "marker": {
             "colorbar": {
              "outlinewidth": 0,
              "ticks": ""
             }
            },
            "type": "scatter3d"
           }
          ],
          "scattercarpet": [
           {
            "marker": {
             "colorbar": {
              "outlinewidth": 0,
              "ticks": ""
             }
            },
            "type": "scattercarpet"
           }
          ],
          "scattergeo": [
           {
            "marker": {
             "colorbar": {
              "outlinewidth": 0,
              "ticks": ""
             }
            },
            "type": "scattergeo"
           }
          ],
          "scattergl": [
           {
            "marker": {
             "colorbar": {
              "outlinewidth": 0,
              "ticks": ""
             }
            },
            "type": "scattergl"
           }
          ],
          "scattermap": [
           {
            "marker": {
             "colorbar": {
              "outlinewidth": 0,
              "ticks": ""
             }
            },
            "type": "scattermap"
           }
          ],
          "scattermapbox": [
           {
            "marker": {
             "colorbar": {
              "outlinewidth": 0,
              "ticks": ""
             }
            },
            "type": "scattermapbox"
           }
          ],
          "scatterpolar": [
           {
            "marker": {
             "colorbar": {
              "outlinewidth": 0,
              "ticks": ""
             }
            },
            "type": "scatterpolar"
           }
          ],
          "scatterpolargl": [
           {
            "marker": {
             "colorbar": {
              "outlinewidth": 0,
              "ticks": ""
             }
            },
            "type": "scatterpolargl"
           }
          ],
          "scatterternary": [
           {
            "marker": {
             "colorbar": {
              "outlinewidth": 0,
              "ticks": ""
             }
            },
            "type": "scatterternary"
           }
          ],
          "surface": [
           {
            "colorbar": {
             "outlinewidth": 0,
             "ticks": ""
            },
            "colorscale": [
             [
              0,
              "#0d0887"
             ],
             [
              0.1111111111111111,
              "#46039f"
             ],
             [
              0.2222222222222222,
              "#7201a8"
             ],
             [
              0.3333333333333333,
              "#9c179e"
             ],
             [
              0.4444444444444444,
              "#bd3786"
             ],
             [
              0.5555555555555556,
              "#d8576b"
             ],
             [
              0.6666666666666666,
              "#ed7953"
             ],
             [
              0.7777777777777778,
              "#fb9f3a"
             ],
             [
              0.8888888888888888,
              "#fdca26"
             ],
             [
              1,
              "#f0f921"
             ]
            ],
            "type": "surface"
           }
          ],
          "table": [
           {
            "cells": {
             "fill": {
              "color": "#EBF0F8"
             },
             "line": {
              "color": "white"
             }
            },
            "header": {
             "fill": {
              "color": "#C8D4E3"
             },
             "line": {
              "color": "white"
             }
            },
            "type": "table"
           }
          ]
         },
         "layout": {
          "annotationdefaults": {
           "arrowcolor": "#2a3f5f",
           "arrowhead": 0,
           "arrowwidth": 1
          },
          "autotypenumbers": "strict",
          "coloraxis": {
           "colorbar": {
            "outlinewidth": 0,
            "ticks": ""
           }
          },
          "colorscale": {
           "diverging": [
            [
             0,
             "#8e0152"
            ],
            [
             0.1,
             "#c51b7d"
            ],
            [
             0.2,
             "#de77ae"
            ],
            [
             0.3,
             "#f1b6da"
            ],
            [
             0.4,
             "#fde0ef"
            ],
            [
             0.5,
             "#f7f7f7"
            ],
            [
             0.6,
             "#e6f5d0"
            ],
            [
             0.7,
             "#b8e186"
            ],
            [
             0.8,
             "#7fbc41"
            ],
            [
             0.9,
             "#4d9221"
            ],
            [
             1,
             "#276419"
            ]
           ],
           "sequential": [
            [
             0,
             "#0d0887"
            ],
            [
             0.1111111111111111,
             "#46039f"
            ],
            [
             0.2222222222222222,
             "#7201a8"
            ],
            [
             0.3333333333333333,
             "#9c179e"
            ],
            [
             0.4444444444444444,
             "#bd3786"
            ],
            [
             0.5555555555555556,
             "#d8576b"
            ],
            [
             0.6666666666666666,
             "#ed7953"
            ],
            [
             0.7777777777777778,
             "#fb9f3a"
            ],
            [
             0.8888888888888888,
             "#fdca26"
            ],
            [
             1,
             "#f0f921"
            ]
           ],
           "sequentialminus": [
            [
             0,
             "#0d0887"
            ],
            [
             0.1111111111111111,
             "#46039f"
            ],
            [
             0.2222222222222222,
             "#7201a8"
            ],
            [
             0.3333333333333333,
             "#9c179e"
            ],
            [
             0.4444444444444444,
             "#bd3786"
            ],
            [
             0.5555555555555556,
             "#d8576b"
            ],
            [
             0.6666666666666666,
             "#ed7953"
            ],
            [
             0.7777777777777778,
             "#fb9f3a"
            ],
            [
             0.8888888888888888,
             "#fdca26"
            ],
            [
             1,
             "#f0f921"
            ]
           ]
          },
          "colorway": [
           "#636efa",
           "#EF553B",
           "#00cc96",
           "#ab63fa",
           "#FFA15A",
           "#19d3f3",
           "#FF6692",
           "#B6E880",
           "#FF97FF",
           "#FECB52"
          ],
          "font": {
           "color": "#2a3f5f"
          },
          "geo": {
           "bgcolor": "white",
           "lakecolor": "white",
           "landcolor": "#E5ECF6",
           "showlakes": true,
           "showland": true,
           "subunitcolor": "white"
          },
          "hoverlabel": {
           "align": "left"
          },
          "hovermode": "closest",
          "mapbox": {
           "style": "light"
          },
          "paper_bgcolor": "white",
          "plot_bgcolor": "#E5ECF6",
          "polar": {
           "angularaxis": {
            "gridcolor": "white",
            "linecolor": "white",
            "ticks": ""
           },
           "bgcolor": "#E5ECF6",
           "radialaxis": {
            "gridcolor": "white",
            "linecolor": "white",
            "ticks": ""
           }
          },
          "scene": {
           "xaxis": {
            "backgroundcolor": "#E5ECF6",
            "gridcolor": "white",
            "gridwidth": 2,
            "linecolor": "white",
            "showbackground": true,
            "ticks": "",
            "zerolinecolor": "white"
           },
           "yaxis": {
            "backgroundcolor": "#E5ECF6",
            "gridcolor": "white",
            "gridwidth": 2,
            "linecolor": "white",
            "showbackground": true,
            "ticks": "",
            "zerolinecolor": "white"
           },
           "zaxis": {
            "backgroundcolor": "#E5ECF6",
            "gridcolor": "white",
            "gridwidth": 2,
            "linecolor": "white",
            "showbackground": true,
            "ticks": "",
            "zerolinecolor": "white"
           }
          },
          "shapedefaults": {
           "line": {
            "color": "#2a3f5f"
           }
          },
          "ternary": {
           "aaxis": {
            "gridcolor": "white",
            "linecolor": "white",
            "ticks": ""
           },
           "baxis": {
            "gridcolor": "white",
            "linecolor": "white",
            "ticks": ""
           },
           "bgcolor": "#E5ECF6",
           "caxis": {
            "gridcolor": "white",
            "linecolor": "white",
            "ticks": ""
           }
          },
          "title": {
           "x": 0.05
          },
          "xaxis": {
           "automargin": true,
           "gridcolor": "white",
           "linecolor": "white",
           "ticks": "",
           "title": {
            "standoff": 15
           },
           "zerolinecolor": "white",
           "zerolinewidth": 2
          },
          "yaxis": {
           "automargin": true,
           "gridcolor": "white",
           "linecolor": "white",
           "ticks": "",
           "title": {
            "standoff": 15
           },
           "zerolinecolor": "white",
           "zerolinewidth": 2
          }
         }
        },
        "title": {
         "text": "Normalized LCS values for Q8WTW3 at position 454"
        },
        "xaxis": {
         "anchor": "y",
         "constrain": "domain",
         "domain": [
          0,
          1
         ],
         "scaleanchor": "y",
         "tickmode": "array",
         "ticktext": [
          -7,
          -6,
          -5,
          -4,
          -3,
          -2,
          -1,
          0,
          1,
          2,
          3,
          4,
          5,
          6,
          7
         ],
         "tickvals": [
          1,
          2,
          3,
          4,
          5,
          6,
          7,
          8,
          9,
          10,
          11,
          12,
          13,
          14,
          15
         ],
         "title": {
          "text": "Mutation Position"
         }
        },
        "yaxis": {
         "anchor": "x",
         "autorange": "reversed",
         "constrain": "domain",
         "domain": [
          0,
          1
         ],
         "dtick": 1,
         "tickmode": "linear",
         "title": {
          "text": "Mutated Amino Acid"
         }
        }
       }
      }
     },
     "metadata": {},
     "output_type": "display_data"
    },
    {
     "name": "stdout",
     "output_type": "stream",
     "text": [
      "\n",
      "Rendering heatmap for: Q96S44_135_heatmap_data.csv\n"
     ]
    },
    {
     "name": "stderr",
     "output_type": "stream",
     "text": [
      "C:\\Users\\ricea\\AppData\\Local\\Temp\\ipykernel_26764\\4146770678.py:9: FutureWarning:\n",
      "\n",
      "The provided callable <function mean at 0x000002D40831D6C0> is currently using DataFrameGroupBy.mean. In a future version of pandas, the provided callable will be used directly. To keep current behavior pass the string \"mean\" instead.\n",
      "\n"
     ]
    },
    {
     "data": {
      "application/vnd.plotly.v1+json": {
       "config": {
        "plotlyServerURL": "https://plot.ly"
       },
       "data": [
        {
         "coloraxis": "coloraxis",
         "hovertemplate": "Mutation Position: %{x}<br>Mutated Amino Acid: %{y}<br>LCS Ratio: %{z}<extra></extra>",
         "name": "0",
         "type": "heatmap",
         "x": {
          "bdata": "AQIDBAUGBwgJCgsMDQ4P",
          "dtype": "i1"
         },
         "xaxis": "x",
         "y": [
          "A",
          "C",
          "D",
          "E",
          "F",
          "G",
          "H",
          "I",
          "K",
          "L",
          "M",
          "N",
          "P",
          "Q",
          "R",
          "S",
          "T",
          "V",
          "W",
          "Y"
         ],
         "yaxis": "y",
         "z": {
          "bdata": "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",
          "dtype": "f8",
          "shape": "20, 15"
         }
        }
       ],
       "layout": {
        "coloraxis": {
         "colorbar": {
          "ticktext": [
           "0.0",
           "0.25",
           "0.5",
           "0.75",
           "1.0"
          ],
          "tickvals": [
           0,
           0.25,
           0.5,
           0.75,
           1
          ],
          "title": {
           "text": "LCS Ratio"
          }
         },
         "colorscale": [
          [
           0,
           "rgb(0, 147, 146)"
          ],
          [
           0.16666666666666666,
           "rgb(57, 177, 133)"
          ],
          [
           0.3333333333333333,
           "rgb(156, 203, 134)"
          ],
          [
           0.5,
           "rgb(233, 226, 156)"
          ],
          [
           0.6666666666666666,
           "rgb(238, 180, 121)"
          ],
          [
           0.8333333333333334,
           "rgb(232, 132, 113)"
          ],
          [
           1,
           "rgb(207, 89, 126)"
          ]
         ]
        },
        "plot_bgcolor": "white",
        "template": {
         "data": {
          "bar": [
           {
            "error_x": {
             "color": "#2a3f5f"
            },
            "error_y": {
             "color": "#2a3f5f"
            },
            "marker": {
             "line": {
              "color": "#E5ECF6",
              "width": 0.5
             },
             "pattern": {
              "fillmode": "overlay",
              "size": 10,
              "solidity": 0.2
             }
            },
            "type": "bar"
           }
          ],
          "barpolar": [
           {
            "marker": {
             "line": {
              "color": "#E5ECF6",
              "width": 0.5
             },
             "pattern": {
              "fillmode": "overlay",
              "size": 10,
              "solidity": 0.2
             }
            },
            "type": "barpolar"
           }
          ],
          "carpet": [
           {
            "aaxis": {
             "endlinecolor": "#2a3f5f",
             "gridcolor": "white",
             "linecolor": "white",
             "minorgridcolor": "white",
             "startlinecolor": "#2a3f5f"
            },
            "baxis": {
             "endlinecolor": "#2a3f5f",
             "gridcolor": "white",
             "linecolor": "white",
             "minorgridcolor": "white",
             "startlinecolor": "#2a3f5f"
            },
            "type": "carpet"
           }
          ],
          "choropleth": [
           {
            "colorbar": {
             "outlinewidth": 0,
             "ticks": ""
            },
            "type": "choropleth"
           }
          ],
          "contour": [
           {
            "colorbar": {
             "outlinewidth": 0,
             "ticks": ""
            },
            "colorscale": [
             [
              0,
              "#0d0887"
             ],
             [
              0.1111111111111111,
              "#46039f"
             ],
             [
              0.2222222222222222,
              "#7201a8"
             ],
             [
              0.3333333333333333,
              "#9c179e"
             ],
             [
              0.4444444444444444,
              "#bd3786"
             ],
             [
              0.5555555555555556,
              "#d8576b"
             ],
             [
              0.6666666666666666,
              "#ed7953"
             ],
             [
              0.7777777777777778,
              "#fb9f3a"
             ],
             [
              0.8888888888888888,
              "#fdca26"
             ],
             [
              1,
              "#f0f921"
             ]
            ],
            "type": "contour"
           }
          ],
          "contourcarpet": [
           {
            "colorbar": {
             "outlinewidth": 0,
             "ticks": ""
            },
            "type": "contourcarpet"
           }
          ],
          "heatmap": [
           {
            "colorbar": {
             "outlinewidth": 0,
             "ticks": ""
            },
            "colorscale": [
             [
              0,
              "#0d0887"
             ],
             [
              0.1111111111111111,
              "#46039f"
             ],
             [
              0.2222222222222222,
              "#7201a8"
             ],
             [
              0.3333333333333333,
              "#9c179e"
             ],
             [
              0.4444444444444444,
              "#bd3786"
             ],
             [
              0.5555555555555556,
              "#d8576b"
             ],
             [
              0.6666666666666666,
              "#ed7953"
             ],
             [
              0.7777777777777778,
              "#fb9f3a"
             ],
             [
              0.8888888888888888,
              "#fdca26"
             ],
             [
              1,
              "#f0f921"
             ]
            ],
            "type": "heatmap"
           }
          ],
          "histogram": [
           {
            "marker": {
             "pattern": {
              "fillmode": "overlay",
              "size": 10,
              "solidity": 0.2
             }
            },
            "type": "histogram"
           }
          ],
          "histogram2d": [
           {
            "colorbar": {
             "outlinewidth": 0,
             "ticks": ""
            },
            "colorscale": [
             [
              0,
              "#0d0887"
             ],
             [
              0.1111111111111111,
              "#46039f"
             ],
             [
              0.2222222222222222,
              "#7201a8"
             ],
             [
              0.3333333333333333,
              "#9c179e"
             ],
             [
              0.4444444444444444,
              "#bd3786"
             ],
             [
              0.5555555555555556,
              "#d8576b"
             ],
             [
              0.6666666666666666,
              "#ed7953"
             ],
             [
              0.7777777777777778,
              "#fb9f3a"
             ],
             [
              0.8888888888888888,
              "#fdca26"
             ],
             [
              1,
              "#f0f921"
             ]
            ],
            "type": "histogram2d"
           }
          ],
          "histogram2dcontour": [
           {
            "colorbar": {
             "outlinewidth": 0,
             "ticks": ""
            },
            "colorscale": [
             [
              0,
              "#0d0887"
             ],
             [
              0.1111111111111111,
              "#46039f"
             ],
             [
              0.2222222222222222,
              "#7201a8"
             ],
             [
              0.3333333333333333,
              "#9c179e"
             ],
             [
              0.4444444444444444,
              "#bd3786"
             ],
             [
              0.5555555555555556,
              "#d8576b"
             ],
             [
              0.6666666666666666,
              "#ed7953"
             ],
             [
              0.7777777777777778,
              "#fb9f3a"
             ],
             [
              0.8888888888888888,
              "#fdca26"
             ],
             [
              1,
              "#f0f921"
             ]
            ],
            "type": "histogram2dcontour"
           }
          ],
          "mesh3d": [
           {
            "colorbar": {
             "outlinewidth": 0,
             "ticks": ""
            },
            "type": "mesh3d"
           }
          ],
          "parcoords": [
           {
            "line": {
             "colorbar": {
              "outlinewidth": 0,
              "ticks": ""
             }
            },
            "type": "parcoords"
           }
          ],
          "pie": [
           {
            "automargin": true,
            "type": "pie"
           }
          ],
          "scatter": [
           {
            "fillpattern": {
             "fillmode": "overlay",
             "size": 10,
             "solidity": 0.2
            },
            "type": "scatter"
           }
          ],
          "scatter3d": [
           {
            "line": {
             "colorbar": {
              "outlinewidth": 0,
              "ticks": ""
             }
            },
            "marker": {
             "colorbar": {
              "outlinewidth": 0,
              "ticks": ""
             }
            },
            "type": "scatter3d"
           }
          ],
          "scattercarpet": [
           {
            "marker": {
             "colorbar": {
              "outlinewidth": 0,
              "ticks": ""
             }
            },
            "type": "scattercarpet"
           }
          ],
          "scattergeo": [
           {
            "marker": {
             "colorbar": {
              "outlinewidth": 0,
              "ticks": ""
             }
            },
            "type": "scattergeo"
           }
          ],
          "scattergl": [
           {
            "marker": {
             "colorbar": {
              "outlinewidth": 0,
              "ticks": ""
             }
            },
            "type": "scattergl"
           }
          ],
          "scattermap": [
           {
            "marker": {
             "colorbar": {
              "outlinewidth": 0,
              "ticks": ""
             }
            },
            "type": "scattermap"
           }
          ],
          "scattermapbox": [
           {
            "marker": {
             "colorbar": {
              "outlinewidth": 0,
              "ticks": ""
             }
            },
            "type": "scattermapbox"
           }
          ],
          "scatterpolar": [
           {
            "marker": {
             "colorbar": {
              "outlinewidth": 0,
              "ticks": ""
             }
            },
            "type": "scatterpolar"
           }
          ],
          "scatterpolargl": [
           {
            "marker": {
             "colorbar": {
              "outlinewidth": 0,
              "ticks": ""
             }
            },
            "type": "scatterpolargl"
           }
          ],
          "scatterternary": [
           {
            "marker": {
             "colorbar": {
              "outlinewidth": 0,
              "ticks": ""
             }
            },
            "type": "scatterternary"
           }
          ],
          "surface": [
           {
            "colorbar": {
             "outlinewidth": 0,
             "ticks": ""
            },
            "colorscale": [
             [
              0,
              "#0d0887"
             ],
             [
              0.1111111111111111,
              "#46039f"
             ],
             [
              0.2222222222222222,
              "#7201a8"
             ],
             [
              0.3333333333333333,
              "#9c179e"
             ],
             [
              0.4444444444444444,
              "#bd3786"
             ],
             [
              0.5555555555555556,
              "#d8576b"
             ],
             [
              0.6666666666666666,
              "#ed7953"
             ],
             [
              0.7777777777777778,
              "#fb9f3a"
             ],
             [
              0.8888888888888888,
              "#fdca26"
             ],
             [
              1,
              "#f0f921"
             ]
            ],
            "type": "surface"
           }
          ],
          "table": [
           {
            "cells": {
             "fill": {
              "color": "#EBF0F8"
             },
             "line": {
              "color": "white"
             }
            },
            "header": {
             "fill": {
              "color": "#C8D4E3"
             },
             "line": {
              "color": "white"
             }
            },
            "type": "table"
           }
          ]
         },
         "layout": {
          "annotationdefaults": {
           "arrowcolor": "#2a3f5f",
           "arrowhead": 0,
           "arrowwidth": 1
          },
          "autotypenumbers": "strict",
          "coloraxis": {
           "colorbar": {
            "outlinewidth": 0,
            "ticks": ""
           }
          },
          "colorscale": {
           "diverging": [
            [
             0,
             "#8e0152"
            ],
            [
             0.1,
             "#c51b7d"
            ],
            [
             0.2,
             "#de77ae"
            ],
            [
             0.3,
             "#f1b6da"
            ],
            [
             0.4,
             "#fde0ef"
            ],
            [
             0.5,
             "#f7f7f7"
            ],
            [
             0.6,
             "#e6f5d0"
            ],
            [
             0.7,
             "#b8e186"
            ],
            [
             0.8,
             "#7fbc41"
            ],
            [
             0.9,
             "#4d9221"
            ],
            [
             1,
             "#276419"
            ]
           ],
           "sequential": [
            [
             0,
             "#0d0887"
            ],
            [
             0.1111111111111111,
             "#46039f"
            ],
            [
             0.2222222222222222,
             "#7201a8"
            ],
            [
             0.3333333333333333,
             "#9c179e"
            ],
            [
             0.4444444444444444,
             "#bd3786"
            ],
            [
             0.5555555555555556,
             "#d8576b"
            ],
            [
             0.6666666666666666,
             "#ed7953"
            ],
            [
             0.7777777777777778,
             "#fb9f3a"
            ],
            [
             0.8888888888888888,
             "#fdca26"
            ],
            [
             1,
             "#f0f921"
            ]
           ],
           "sequentialminus": [
            [
             0,
             "#0d0887"
            ],
            [
             0.1111111111111111,
             "#46039f"
            ],
            [
             0.2222222222222222,
             "#7201a8"
            ],
            [
             0.3333333333333333,
             "#9c179e"
            ],
            [
             0.4444444444444444,
             "#bd3786"
            ],
            [
             0.5555555555555556,
             "#d8576b"
            ],
            [
             0.6666666666666666,
             "#ed7953"
            ],
            [
             0.7777777777777778,
             "#fb9f3a"
            ],
            [
             0.8888888888888888,
             "#fdca26"
            ],
            [
             1,
             "#f0f921"
            ]
           ]
          },
          "colorway": [
           "#636efa",
           "#EF553B",
           "#00cc96",
           "#ab63fa",
           "#FFA15A",
           "#19d3f3",
           "#FF6692",
           "#B6E880",
           "#FF97FF",
           "#FECB52"
          ],
          "font": {
           "color": "#2a3f5f"
          },
          "geo": {
           "bgcolor": "white",
           "lakecolor": "white",
           "landcolor": "#E5ECF6",
           "showlakes": true,
           "showland": true,
           "subunitcolor": "white"
          },
          "hoverlabel": {
           "align": "left"
          },
          "hovermode": "closest",
          "mapbox": {
           "style": "light"
          },
          "paper_bgcolor": "white",
          "plot_bgcolor": "#E5ECF6",
          "polar": {
           "angularaxis": {
            "gridcolor": "white",
            "linecolor": "white",
            "ticks": ""
           },
           "bgcolor": "#E5ECF6",
           "radialaxis": {
            "gridcolor": "white",
            "linecolor": "white",
            "ticks": ""
           }
          },
          "scene": {
           "xaxis": {
            "backgroundcolor": "#E5ECF6",
            "gridcolor": "white",
            "gridwidth": 2,
            "linecolor": "white",
            "showbackground": true,
            "ticks": "",
            "zerolinecolor": "white"
           },
           "yaxis": {
            "backgroundcolor": "#E5ECF6",
            "gridcolor": "white",
            "gridwidth": 2,
            "linecolor": "white",
            "showbackground": true,
            "ticks": "",
            "zerolinecolor": "white"
           },
           "zaxis": {
            "backgroundcolor": "#E5ECF6",
            "gridcolor": "white",
            "gridwidth": 2,
            "linecolor": "white",
            "showbackground": true,
            "ticks": "",
            "zerolinecolor": "white"
           }
          },
          "shapedefaults": {
           "line": {
            "color": "#2a3f5f"
           }
          },
          "ternary": {
           "aaxis": {
            "gridcolor": "white",
            "linecolor": "white",
            "ticks": ""
           },
           "baxis": {
            "gridcolor": "white",
            "linecolor": "white",
            "ticks": ""
           },
           "bgcolor": "#E5ECF6",
           "caxis": {
            "gridcolor": "white",
            "linecolor": "white",
            "ticks": ""
           }
          },
          "title": {
           "x": 0.05
          },
          "xaxis": {
           "automargin": true,
           "gridcolor": "white",
           "linecolor": "white",
           "ticks": "",
           "title": {
            "standoff": 15
           },
           "zerolinecolor": "white",
           "zerolinewidth": 2
          },
          "yaxis": {
           "automargin": true,
           "gridcolor": "white",
           "linecolor": "white",
           "ticks": "",
           "title": {
            "standoff": 15
           },
           "zerolinecolor": "white",
           "zerolinewidth": 2
          }
         }
        },
        "title": {
         "text": "Normalized LCS values for Q96S44 at position 135"
        },
        "xaxis": {
         "anchor": "y",
         "constrain": "domain",
         "domain": [
          0,
          1
         ],
         "scaleanchor": "y",
         "tickmode": "array",
         "ticktext": [
          -7,
          -6,
          -5,
          -4,
          -3,
          -2,
          -1,
          0,
          1,
          2,
          3,
          4,
          5,
          6,
          7
         ],
         "tickvals": [
          1,
          2,
          3,
          4,
          5,
          6,
          7,
          8,
          9,
          10,
          11,
          12,
          13,
          14,
          15
         ],
         "title": {
          "text": "Mutation Position"
         }
        },
        "yaxis": {
         "anchor": "x",
         "autorange": "reversed",
         "constrain": "domain",
         "domain": [
          0,
          1
         ],
         "dtick": 1,
         "tickmode": "linear",
         "title": {
          "text": "Mutated Amino Acid"
         }
        }
       }
      }
     },
     "metadata": {},
     "output_type": "display_data"
    },
    {
     "name": "stdout",
     "output_type": "stream",
     "text": [
      "\n",
      "Rendering heatmap for: Q9H211_491_heatmap_data.csv\n"
     ]
    },
    {
     "name": "stderr",
     "output_type": "stream",
     "text": [
      "C:\\Users\\ricea\\AppData\\Local\\Temp\\ipykernel_26764\\4146770678.py:9: FutureWarning:\n",
      "\n",
      "The provided callable <function mean at 0x000002D40831D6C0> is currently using DataFrameGroupBy.mean. In a future version of pandas, the provided callable will be used directly. To keep current behavior pass the string \"mean\" instead.\n",
      "\n"
     ]
    },
    {
     "data": {
      "application/vnd.plotly.v1+json": {
       "config": {
        "plotlyServerURL": "https://plot.ly"
       },
       "data": [
        {
         "coloraxis": "coloraxis",
         "hovertemplate": "Mutation Position: %{x}<br>Mutated Amino Acid: %{y}<br>LCS Ratio: %{z}<extra></extra>",
         "name": "0",
         "type": "heatmap",
         "x": {
          "bdata": "AQIDBAUGBwgJCgsMDQ4P",
          "dtype": "i1"
         },
         "xaxis": "x",
         "y": [
          "A",
          "C",
          "D",
          "E",
          "F",
          "G",
          "H",
          "I",
          "K",
          "L",
          "M",
          "N",
          "P",
          "Q",
          "R",
          "S",
          "T",
          "V",
          "W",
          "Y"
         ],
         "yaxis": "y",
         "z": {
          "bdata": "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",
          "dtype": "f8",
          "shape": "20, 15"
         }
        }
       ],
       "layout": {
        "coloraxis": {
         "colorbar": {
          "ticktext": [
           "0.0",
           "0.25",
           "0.5",
           "0.75",
           "1.0"
          ],
          "tickvals": [
           0,
           0.25,
           0.5,
           0.75,
           1
          ],
          "title": {
           "text": "LCS Ratio"
          }
         },
         "colorscale": [
          [
           0,
           "rgb(0, 147, 146)"
          ],
          [
           0.16666666666666666,
           "rgb(57, 177, 133)"
          ],
          [
           0.3333333333333333,
           "rgb(156, 203, 134)"
          ],
          [
           0.5,
           "rgb(233, 226, 156)"
          ],
          [
           0.6666666666666666,
           "rgb(238, 180, 121)"
          ],
          [
           0.8333333333333334,
           "rgb(232, 132, 113)"
          ],
          [
           1,
           "rgb(207, 89, 126)"
          ]
         ]
        },
        "plot_bgcolor": "white",
        "template": {
         "data": {
          "bar": [
           {
            "error_x": {
             "color": "#2a3f5f"
            },
            "error_y": {
             "color": "#2a3f5f"
            },
            "marker": {
             "line": {
              "color": "#E5ECF6",
              "width": 0.5
             },
             "pattern": {
              "fillmode": "overlay",
              "size": 10,
              "solidity": 0.2
             }
            },
            "type": "bar"
           }
          ],
          "barpolar": [
           {
            "marker": {
             "line": {
              "color": "#E5ECF6",
              "width": 0.5
             },
             "pattern": {
              "fillmode": "overlay",
              "size": 10,
              "solidity": 0.2
             }
            },
            "type": "barpolar"
           }
          ],
          "carpet": [
           {
            "aaxis": {
             "endlinecolor": "#2a3f5f",
             "gridcolor": "white",
             "linecolor": "white",
             "minorgridcolor": "white",
             "startlinecolor": "#2a3f5f"
            },
            "baxis": {
             "endlinecolor": "#2a3f5f",
             "gridcolor": "white",
             "linecolor": "white",
             "minorgridcolor": "white",
             "startlinecolor": "#2a3f5f"
            },
            "type": "carpet"
           }
          ],
          "choropleth": [
           {
            "colorbar": {
             "outlinewidth": 0,
             "ticks": ""
            },
            "type": "choropleth"
           }
          ],
          "contour": [
           {
            "colorbar": {
             "outlinewidth": 0,
             "ticks": ""
            },
            "colorscale": [
             [
              0,
              "#0d0887"
             ],
             [
              0.1111111111111111,
              "#46039f"
             ],
             [
              0.2222222222222222,
              "#7201a8"
             ],
             [
              0.3333333333333333,
              "#9c179e"
             ],
             [
              0.4444444444444444,
              "#bd3786"
             ],
             [
              0.5555555555555556,
              "#d8576b"
             ],
             [
              0.6666666666666666,
              "#ed7953"
             ],
             [
              0.7777777777777778,
              "#fb9f3a"
             ],
             [
              0.8888888888888888,
              "#fdca26"
             ],
             [
              1,
              "#f0f921"
             ]
            ],
            "type": "contour"
           }
          ],
          "contourcarpet": [
           {
            "colorbar": {
             "outlinewidth": 0,
             "ticks": ""
            },
            "type": "contourcarpet"
           }
          ],
          "heatmap": [
           {
            "colorbar": {
             "outlinewidth": 0,
             "ticks": ""
            },
            "colorscale": [
             [
              0,
              "#0d0887"
             ],
             [
              0.1111111111111111,
              "#46039f"
             ],
             [
              0.2222222222222222,
              "#7201a8"
             ],
             [
              0.3333333333333333,
              "#9c179e"
             ],
             [
              0.4444444444444444,
              "#bd3786"
             ],
             [
              0.5555555555555556,
              "#d8576b"
             ],
             [
              0.6666666666666666,
              "#ed7953"
             ],
             [
              0.7777777777777778,
              "#fb9f3a"
             ],
             [
              0.8888888888888888,
              "#fdca26"
             ],
             [
              1,
              "#f0f921"
             ]
            ],
            "type": "heatmap"
           }
          ],
          "histogram": [
           {
            "marker": {
             "pattern": {
              "fillmode": "overlay",
              "size": 10,
              "solidity": 0.2
             }
            },
            "type": "histogram"
           }
          ],
          "histogram2d": [
           {
            "colorbar": {
             "outlinewidth": 0,
             "ticks": ""
            },
            "colorscale": [
             [
              0,
              "#0d0887"
             ],
             [
              0.1111111111111111,
              "#46039f"
             ],
             [
              0.2222222222222222,
              "#7201a8"
             ],
             [
              0.3333333333333333,
              "#9c179e"
             ],
             [
              0.4444444444444444,
              "#bd3786"
             ],
             [
              0.5555555555555556,
              "#d8576b"
             ],
             [
              0.6666666666666666,
              "#ed7953"
             ],
             [
              0.7777777777777778,
              "#fb9f3a"
             ],
             [
              0.8888888888888888,
              "#fdca26"
             ],
             [
              1,
              "#f0f921"
             ]
            ],
            "type": "histogram2d"
           }
          ],
          "histogram2dcontour": [
           {
            "colorbar": {
             "outlinewidth": 0,
             "ticks": ""
            },
            "colorscale": [
             [
              0,
              "#0d0887"
             ],
             [
              0.1111111111111111,
              "#46039f"
             ],
             [
              0.2222222222222222,
              "#7201a8"
             ],
             [
              0.3333333333333333,
              "#9c179e"
             ],
             [
              0.4444444444444444,
              "#bd3786"
             ],
             [
              0.5555555555555556,
              "#d8576b"
             ],
             [
              0.6666666666666666,
              "#ed7953"
             ],
             [
              0.7777777777777778,
              "#fb9f3a"
             ],
             [
              0.8888888888888888,
              "#fdca26"
             ],
             [
              1,
              "#f0f921"
             ]
            ],
            "type": "histogram2dcontour"
           }
          ],
          "mesh3d": [
           {
            "colorbar": {
             "outlinewidth": 0,
             "ticks": ""
            },
            "type": "mesh3d"
           }
          ],
          "parcoords": [
           {
            "line": {
             "colorbar": {
              "outlinewidth": 0,
              "ticks": ""
             }
            },
            "type": "parcoords"
           }
          ],
          "pie": [
           {
            "automargin": true,
            "type": "pie"
           }
          ],
          "scatter": [
           {
            "fillpattern": {
             "fillmode": "overlay",
             "size": 10,
             "solidity": 0.2
            },
            "type": "scatter"
           }
          ],
          "scatter3d": [
           {
            "line": {
             "colorbar": {
              "outlinewidth": 0,
              "ticks": ""
             }
            },
            "marker": {
             "colorbar": {
              "outlinewidth": 0,
              "ticks": ""
             }
            },
            "type": "scatter3d"
           }
          ],
          "scattercarpet": [
           {
            "marker": {
             "colorbar": {
              "outlinewidth": 0,
              "ticks": ""
             }
            },
            "type": "scattercarpet"
           }
          ],
          "scattergeo": [
           {
            "marker": {
             "colorbar": {
              "outlinewidth": 0,
              "ticks": ""
             }
            },
            "type": "scattergeo"
           }
          ],
          "scattergl": [
           {
            "marker": {
             "colorbar": {
              "outlinewidth": 0,
              "ticks": ""
             }
            },
            "type": "scattergl"
           }
          ],
          "scattermap": [
           {
            "marker": {
             "colorbar": {
              "outlinewidth": 0,
              "ticks": ""
             }
            },
            "type": "scattermap"
           }
          ],
          "scattermapbox": [
           {
            "marker": {
             "colorbar": {
              "outlinewidth": 0,
              "ticks": ""
             }
            },
            "type": "scattermapbox"
           }
          ],
          "scatterpolar": [
           {
            "marker": {
             "colorbar": {
              "outlinewidth": 0,
              "ticks": ""
             }
            },
            "type": "scatterpolar"
           }
          ],
          "scatterpolargl": [
           {
            "marker": {
             "colorbar": {
              "outlinewidth": 0,
              "ticks": ""
             }
            },
            "type": "scatterpolargl"
           }
          ],
          "scatterternary": [
           {
            "marker": {
             "colorbar": {
              "outlinewidth": 0,
              "ticks": ""
             }
            },
            "type": "scatterternary"
           }
          ],
          "surface": [
           {
            "colorbar": {
             "outlinewidth": 0,
             "ticks": ""
            },
            "colorscale": [
             [
              0,
              "#0d0887"
             ],
             [
              0.1111111111111111,
              "#46039f"
             ],
             [
              0.2222222222222222,
              "#7201a8"
             ],
             [
              0.3333333333333333,
              "#9c179e"
             ],
             [
              0.4444444444444444,
              "#bd3786"
             ],
             [
              0.5555555555555556,
              "#d8576b"
             ],
             [
              0.6666666666666666,
              "#ed7953"
             ],
             [
              0.7777777777777778,
              "#fb9f3a"
             ],
             [
              0.8888888888888888,
              "#fdca26"
             ],
             [
              1,
              "#f0f921"
             ]
            ],
            "type": "surface"
           }
          ],
          "table": [
           {
            "cells": {
             "fill": {
              "color": "#EBF0F8"
             },
             "line": {
              "color": "white"
             }
            },
            "header": {
             "fill": {
              "color": "#C8D4E3"
             },
             "line": {
              "color": "white"
             }
            },
            "type": "table"
           }
          ]
         },
         "layout": {
          "annotationdefaults": {
           "arrowcolor": "#2a3f5f",
           "arrowhead": 0,
           "arrowwidth": 1
          },
          "autotypenumbers": "strict",
          "coloraxis": {
           "colorbar": {
            "outlinewidth": 0,
            "ticks": ""
           }
          },
          "colorscale": {
           "diverging": [
            [
             0,
             "#8e0152"
            ],
            [
             0.1,
             "#c51b7d"
            ],
            [
             0.2,
             "#de77ae"
            ],
            [
             0.3,
             "#f1b6da"
            ],
            [
             0.4,
             "#fde0ef"
            ],
            [
             0.5,
             "#f7f7f7"
            ],
            [
             0.6,
             "#e6f5d0"
            ],
            [
             0.7,
             "#b8e186"
            ],
            [
             0.8,
             "#7fbc41"
            ],
            [
             0.9,
             "#4d9221"
            ],
            [
             1,
             "#276419"
            ]
           ],
           "sequential": [
            [
             0,
             "#0d0887"
            ],
            [
             0.1111111111111111,
             "#46039f"
            ],
            [
             0.2222222222222222,
             "#7201a8"
            ],
            [
             0.3333333333333333,
             "#9c179e"
            ],
            [
             0.4444444444444444,
             "#bd3786"
            ],
            [
             0.5555555555555556,
             "#d8576b"
            ],
            [
             0.6666666666666666,
             "#ed7953"
            ],
            [
             0.7777777777777778,
             "#fb9f3a"
            ],
            [
             0.8888888888888888,
             "#fdca26"
            ],
            [
             1,
             "#f0f921"
            ]
           ],
           "sequentialminus": [
            [
             0,
             "#0d0887"
            ],
            [
             0.1111111111111111,
             "#46039f"
            ],
            [
             0.2222222222222222,
             "#7201a8"
            ],
            [
             0.3333333333333333,
             "#9c179e"
            ],
            [
             0.4444444444444444,
             "#bd3786"
            ],
            [
             0.5555555555555556,
             "#d8576b"
            ],
            [
             0.6666666666666666,
             "#ed7953"
            ],
            [
             0.7777777777777778,
             "#fb9f3a"
            ],
            [
             0.8888888888888888,
             "#fdca26"
            ],
            [
             1,
             "#f0f921"
            ]
           ]
          },
          "colorway": [
           "#636efa",
           "#EF553B",
           "#00cc96",
           "#ab63fa",
           "#FFA15A",
           "#19d3f3",
           "#FF6692",
           "#B6E880",
           "#FF97FF",
           "#FECB52"
          ],
          "font": {
           "color": "#2a3f5f"
          },
          "geo": {
           "bgcolor": "white",
           "lakecolor": "white",
           "landcolor": "#E5ECF6",
           "showlakes": true,
           "showland": true,
           "subunitcolor": "white"
          },
          "hoverlabel": {
           "align": "left"
          },
          "hovermode": "closest",
          "mapbox": {
           "style": "light"
          },
          "paper_bgcolor": "white",
          "plot_bgcolor": "#E5ECF6",
          "polar": {
           "angularaxis": {
            "gridcolor": "white",
            "linecolor": "white",
            "ticks": ""
           },
           "bgcolor": "#E5ECF6",
           "radialaxis": {
            "gridcolor": "white",
            "linecolor": "white",
            "ticks": ""
           }
          },
          "scene": {
           "xaxis": {
            "backgroundcolor": "#E5ECF6",
            "gridcolor": "white",
            "gridwidth": 2,
            "linecolor": "white",
            "showbackground": true,
            "ticks": "",
            "zerolinecolor": "white"
           },
           "yaxis": {
            "backgroundcolor": "#E5ECF6",
            "gridcolor": "white",
            "gridwidth": 2,
            "linecolor": "white",
            "showbackground": true,
            "ticks": "",
            "zerolinecolor": "white"
           },
           "zaxis": {
            "backgroundcolor": "#E5ECF6",
            "gridcolor": "white",
            "gridwidth": 2,
            "linecolor": "white",
            "showbackground": true,
            "ticks": "",
            "zerolinecolor": "white"
           }
          },
          "shapedefaults": {
           "line": {
            "color": "#2a3f5f"
           }
          },
          "ternary": {
           "aaxis": {
            "gridcolor": "white",
            "linecolor": "white",
            "ticks": ""
           },
           "baxis": {
            "gridcolor": "white",
            "linecolor": "white",
            "ticks": ""
           },
           "bgcolor": "#E5ECF6",
           "caxis": {
            "gridcolor": "white",
            "linecolor": "white",
            "ticks": ""
           }
          },
          "title": {
           "x": 0.05
          },
          "xaxis": {
           "automargin": true,
           "gridcolor": "white",
           "linecolor": "white",
           "ticks": "",
           "title": {
            "standoff": 15
           },
           "zerolinecolor": "white",
           "zerolinewidth": 2
          },
          "yaxis": {
           "automargin": true,
           "gridcolor": "white",
           "linecolor": "white",
           "ticks": "",
           "title": {
            "standoff": 15
           },
           "zerolinecolor": "white",
           "zerolinewidth": 2
          }
         }
        },
        "title": {
         "text": "Normalized LCS values for Q9H211 at position 491"
        },
        "xaxis": {
         "anchor": "y",
         "constrain": "domain",
         "domain": [
          0,
          1
         ],
         "scaleanchor": "y",
         "tickmode": "array",
         "ticktext": [
          -7,
          -6,
          -5,
          -4,
          -3,
          -2,
          -1,
          0,
          1,
          2,
          3,
          4,
          5,
          6,
          7
         ],
         "tickvals": [
          1,
          2,
          3,
          4,
          5,
          6,
          7,
          8,
          9,
          10,
          11,
          12,
          13,
          14,
          15
         ],
         "title": {
          "text": "Mutation Position"
         }
        },
        "yaxis": {
         "anchor": "x",
         "autorange": "reversed",
         "constrain": "domain",
         "domain": [
          0,
          1
         ],
         "dtick": 1,
         "tickmode": "linear",
         "title": {
          "text": "Mutated Amino Acid"
         }
        }
       }
      }
     },
     "metadata": {},
     "output_type": "display_data"
    },
    {
     "name": "stdout",
     "output_type": "stream",
     "text": [
      "\n",
      "🔴 Rendering pathogenic heatmaps...\n",
      "\n",
      "Rendering heatmap for: O00571_323_heatmap_data.csv\n"
     ]
    },
    {
     "name": "stderr",
     "output_type": "stream",
     "text": [
      "C:\\Users\\ricea\\AppData\\Local\\Temp\\ipykernel_26764\\4146770678.py:9: FutureWarning:\n",
      "\n",
      "The provided callable <function mean at 0x000002D40831D6C0> is currently using DataFrameGroupBy.mean. In a future version of pandas, the provided callable will be used directly. To keep current behavior pass the string \"mean\" instead.\n",
      "\n"
     ]
    },
    {
     "data": {
      "application/vnd.plotly.v1+json": {
       "config": {
        "plotlyServerURL": "https://plot.ly"
       },
       "data": [
        {
         "coloraxis": "coloraxis",
         "hovertemplate": "Mutation Position: %{x}<br>Mutated Amino Acid: %{y}<br>LCS Ratio: %{z}<extra></extra>",
         "name": "0",
         "type": "heatmap",
         "x": {
          "bdata": "AQIDBAUGBwgJCgsMDQ4P",
          "dtype": "i1"
         },
         "xaxis": "x",
         "y": [
          "A",
          "C",
          "D",
          "E",
          "F",
          "G",
          "H",
          "I",
          "K",
          "L",
          "M",
          "N",
          "P",
          "Q",
          "R",
          "S",
          "T",
          "V",
          "W",
          "Y"
         ],
         "yaxis": "y",
         "z": {
          "bdata": "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",
          "dtype": "f8",
          "shape": "20, 15"
         }
        }
       ],
       "layout": {
        "coloraxis": {
         "colorbar": {
          "ticktext": [
           "0.0",
           "0.25",
           "0.5",
           "0.75",
           "1.0"
          ],
          "tickvals": [
           0,
           0.25,
           0.5,
           0.75,
           1
          ],
          "title": {
           "text": "LCS Ratio"
          }
         },
         "colorscale": [
          [
           0,
           "rgb(0, 147, 146)"
          ],
          [
           0.16666666666666666,
           "rgb(57, 177, 133)"
          ],
          [
           0.3333333333333333,
           "rgb(156, 203, 134)"
          ],
          [
           0.5,
           "rgb(233, 226, 156)"
          ],
          [
           0.6666666666666666,
           "rgb(238, 180, 121)"
          ],
          [
           0.8333333333333334,
           "rgb(232, 132, 113)"
          ],
          [
           1,
           "rgb(207, 89, 126)"
          ]
         ]
        },
        "plot_bgcolor": "white",
        "template": {
         "data": {
          "bar": [
           {
            "error_x": {
             "color": "#2a3f5f"
            },
            "error_y": {
             "color": "#2a3f5f"
            },
            "marker": {
             "line": {
              "color": "#E5ECF6",
              "width": 0.5
             },
             "pattern": {
              "fillmode": "overlay",
              "size": 10,
              "solidity": 0.2
             }
            },
            "type": "bar"
           }
          ],
          "barpolar": [
           {
            "marker": {
             "line": {
              "color": "#E5ECF6",
              "width": 0.5
             },
             "pattern": {
              "fillmode": "overlay",
              "size": 10,
              "solidity": 0.2
             }
            },
            "type": "barpolar"
           }
          ],
          "carpet": [
           {
            "aaxis": {
             "endlinecolor": "#2a3f5f",
             "gridcolor": "white",
             "linecolor": "white",
             "minorgridcolor": "white",
             "startlinecolor": "#2a3f5f"
            },
            "baxis": {
             "endlinecolor": "#2a3f5f",
             "gridcolor": "white",
             "linecolor": "white",
             "minorgridcolor": "white",
             "startlinecolor": "#2a3f5f"
            },
            "type": "carpet"
           }
          ],
          "choropleth": [
           {
            "colorbar": {
             "outlinewidth": 0,
             "ticks": ""
            },
            "type": "choropleth"
           }
          ],
          "contour": [
           {
            "colorbar": {
             "outlinewidth": 0,
             "ticks": ""
            },
            "colorscale": [
             [
              0,
              "#0d0887"
             ],
             [
              0.1111111111111111,
              "#46039f"
             ],
             [
              0.2222222222222222,
              "#7201a8"
             ],
             [
              0.3333333333333333,
              "#9c179e"
             ],
             [
              0.4444444444444444,
              "#bd3786"
             ],
             [
              0.5555555555555556,
              "#d8576b"
             ],
             [
              0.6666666666666666,
              "#ed7953"
             ],
             [
              0.7777777777777778,
              "#fb9f3a"
             ],
             [
              0.8888888888888888,
              "#fdca26"
             ],
             [
              1,
              "#f0f921"
             ]
            ],
            "type": "contour"
           }
          ],
          "contourcarpet": [
           {
            "colorbar": {
             "outlinewidth": 0,
             "ticks": ""
            },
            "type": "contourcarpet"
           }
          ],
          "heatmap": [
           {
            "colorbar": {
             "outlinewidth": 0,
             "ticks": ""
            },
            "colorscale": [
             [
              0,
              "#0d0887"
             ],
             [
              0.1111111111111111,
              "#46039f"
             ],
             [
              0.2222222222222222,
              "#7201a8"
             ],
             [
              0.3333333333333333,
              "#9c179e"
             ],
             [
              0.4444444444444444,
              "#bd3786"
             ],
             [
              0.5555555555555556,
              "#d8576b"
             ],
             [
              0.6666666666666666,
              "#ed7953"
             ],
             [
              0.7777777777777778,
              "#fb9f3a"
             ],
             [
              0.8888888888888888,
              "#fdca26"
             ],
             [
              1,
              "#f0f921"
             ]
            ],
            "type": "heatmap"
           }
          ],
          "histogram": [
           {
            "marker": {
             "pattern": {
              "fillmode": "overlay",
              "size": 10,
              "solidity": 0.2
             }
            },
            "type": "histogram"
           }
          ],
          "histogram2d": [
           {
            "colorbar": {
             "outlinewidth": 0,
             "ticks": ""
            },
            "colorscale": [
             [
              0,
              "#0d0887"
             ],
             [
              0.1111111111111111,
              "#46039f"
             ],
             [
              0.2222222222222222,
              "#7201a8"
             ],
             [
              0.3333333333333333,
              "#9c179e"
             ],
             [
              0.4444444444444444,
              "#bd3786"
             ],
             [
              0.5555555555555556,
              "#d8576b"
             ],
             [
              0.6666666666666666,
              "#ed7953"
             ],
             [
              0.7777777777777778,
              "#fb9f3a"
             ],
             [
              0.8888888888888888,
              "#fdca26"
             ],
             [
              1,
              "#f0f921"
             ]
            ],
            "type": "histogram2d"
           }
          ],
          "histogram2dcontour": [
           {
            "colorbar": {
             "outlinewidth": 0,
             "ticks": ""
            },
            "colorscale": [
             [
              0,
              "#0d0887"
             ],
             [
              0.1111111111111111,
              "#46039f"
             ],
             [
              0.2222222222222222,
              "#7201a8"
             ],
             [
              0.3333333333333333,
              "#9c179e"
             ],
             [
              0.4444444444444444,
              "#bd3786"
             ],
             [
              0.5555555555555556,
              "#d8576b"
             ],
             [
              0.6666666666666666,
              "#ed7953"
             ],
             [
              0.7777777777777778,
              "#fb9f3a"
             ],
             [
              0.8888888888888888,
              "#fdca26"
             ],
             [
              1,
              "#f0f921"
             ]
            ],
            "type": "histogram2dcontour"
           }
          ],
          "mesh3d": [
           {
            "colorbar": {
             "outlinewidth": 0,
             "ticks": ""
            },
            "type": "mesh3d"
           }
          ],
          "parcoords": [
           {
            "line": {
             "colorbar": {
              "outlinewidth": 0,
              "ticks": ""
             }
            },
            "type": "parcoords"
           }
          ],
          "pie": [
           {
            "automargin": true,
            "type": "pie"
           }
          ],
          "scatter": [
           {
            "fillpattern": {
             "fillmode": "overlay",
             "size": 10,
             "solidity": 0.2
            },
            "type": "scatter"
           }
          ],
          "scatter3d": [
           {
            "line": {
             "colorbar": {
              "outlinewidth": 0,
              "ticks": ""
             }
            },
            "marker": {
             "colorbar": {
              "outlinewidth": 0,
              "ticks": ""
             }
            },
            "type": "scatter3d"
           }
          ],
          "scattercarpet": [
           {
            "marker": {
             "colorbar": {
              "outlinewidth": 0,
              "ticks": ""
             }
            },
            "type": "scattercarpet"
           }
          ],
          "scattergeo": [
           {
            "marker": {
             "colorbar": {
              "outlinewidth": 0,
              "ticks": ""
             }
            },
            "type": "scattergeo"
           }
          ],
          "scattergl": [
           {
            "marker": {
             "colorbar": {
              "outlinewidth": 0,
              "ticks": ""
             }
            },
            "type": "scattergl"
           }
          ],
          "scattermap": [
           {
            "marker": {
             "colorbar": {
              "outlinewidth": 0,
              "ticks": ""
             }
            },
            "type": "scattermap"
           }
          ],
          "scattermapbox": [
           {
            "marker": {
             "colorbar": {
              "outlinewidth": 0,
              "ticks": ""
             }
            },
            "type": "scattermapbox"
           }
          ],
          "scatterpolar": [
           {
            "marker": {
             "colorbar": {
              "outlinewidth": 0,
              "ticks": ""
             }
            },
            "type": "scatterpolar"
           }
          ],
          "scatterpolargl": [
           {
            "marker": {
             "colorbar": {
              "outlinewidth": 0,
              "ticks": ""
             }
            },
            "type": "scatterpolargl"
           }
          ],
          "scatterternary": [
           {
            "marker": {
             "colorbar": {
              "outlinewidth": 0,
              "ticks": ""
             }
            },
            "type": "scatterternary"
           }
          ],
          "surface": [
           {
            "colorbar": {
             "outlinewidth": 0,
             "ticks": ""
            },
            "colorscale": [
             [
              0,
              "#0d0887"
             ],
             [
              0.1111111111111111,
              "#46039f"
             ],
             [
              0.2222222222222222,
              "#7201a8"
             ],
             [
              0.3333333333333333,
              "#9c179e"
             ],
             [
              0.4444444444444444,
              "#bd3786"
             ],
             [
              0.5555555555555556,
              "#d8576b"
             ],
             [
              0.6666666666666666,
              "#ed7953"
             ],
             [
              0.7777777777777778,
              "#fb9f3a"
             ],
             [
              0.8888888888888888,
              "#fdca26"
             ],
             [
              1,
              "#f0f921"
             ]
            ],
            "type": "surface"
           }
          ],
          "table": [
           {
            "cells": {
             "fill": {
              "color": "#EBF0F8"
             },
             "line": {
              "color": "white"
             }
            },
            "header": {
             "fill": {
              "color": "#C8D4E3"
             },
             "line": {
              "color": "white"
             }
            },
            "type": "table"
           }
          ]
         },
         "layout": {
          "annotationdefaults": {
           "arrowcolor": "#2a3f5f",
           "arrowhead": 0,
           "arrowwidth": 1
          },
          "autotypenumbers": "strict",
          "coloraxis": {
           "colorbar": {
            "outlinewidth": 0,
            "ticks": ""
           }
          },
          "colorscale": {
           "diverging": [
            [
             0,
             "#8e0152"
            ],
            [
             0.1,
             "#c51b7d"
            ],
            [
             0.2,
             "#de77ae"
            ],
            [
             0.3,
             "#f1b6da"
            ],
            [
             0.4,
             "#fde0ef"
            ],
            [
             0.5,
             "#f7f7f7"
            ],
            [
             0.6,
             "#e6f5d0"
            ],
            [
             0.7,
             "#b8e186"
            ],
            [
             0.8,
             "#7fbc41"
            ],
            [
             0.9,
             "#4d9221"
            ],
            [
             1,
             "#276419"
            ]
           ],
           "sequential": [
            [
             0,
             "#0d0887"
            ],
            [
             0.1111111111111111,
             "#46039f"
            ],
            [
             0.2222222222222222,
             "#7201a8"
            ],
            [
             0.3333333333333333,
             "#9c179e"
            ],
            [
             0.4444444444444444,
             "#bd3786"
            ],
            [
             0.5555555555555556,
             "#d8576b"
            ],
            [
             0.6666666666666666,
             "#ed7953"
            ],
            [
             0.7777777777777778,
             "#fb9f3a"
            ],
            [
             0.8888888888888888,
             "#fdca26"
            ],
            [
             1,
             "#f0f921"
            ]
           ],
           "sequentialminus": [
            [
             0,
             "#0d0887"
            ],
            [
             0.1111111111111111,
             "#46039f"
            ],
            [
             0.2222222222222222,
             "#7201a8"
            ],
            [
             0.3333333333333333,
             "#9c179e"
            ],
            [
             0.4444444444444444,
             "#bd3786"
            ],
            [
             0.5555555555555556,
             "#d8576b"
            ],
            [
             0.6666666666666666,
             "#ed7953"
            ],
            [
             0.7777777777777778,
             "#fb9f3a"
            ],
            [
             0.8888888888888888,
             "#fdca26"
            ],
            [
             1,
             "#f0f921"
            ]
           ]
          },
          "colorway": [
           "#636efa",
           "#EF553B",
           "#00cc96",
           "#ab63fa",
           "#FFA15A",
           "#19d3f3",
           "#FF6692",
           "#B6E880",
           "#FF97FF",
           "#FECB52"
          ],
          "font": {
           "color": "#2a3f5f"
          },
          "geo": {
           "bgcolor": "white",
           "lakecolor": "white",
           "landcolor": "#E5ECF6",
           "showlakes": true,
           "showland": true,
           "subunitcolor": "white"
          },
          "hoverlabel": {
           "align": "left"
          },
          "hovermode": "closest",
          "mapbox": {
           "style": "light"
          },
          "paper_bgcolor": "white",
          "plot_bgcolor": "#E5ECF6",
          "polar": {
           "angularaxis": {
            "gridcolor": "white",
            "linecolor": "white",
            "ticks": ""
           },
           "bgcolor": "#E5ECF6",
           "radialaxis": {
            "gridcolor": "white",
            "linecolor": "white",
            "ticks": ""
           }
          },
          "scene": {
           "xaxis": {
            "backgroundcolor": "#E5ECF6",
            "gridcolor": "white",
            "gridwidth": 2,
            "linecolor": "white",
            "showbackground": true,
            "ticks": "",
            "zerolinecolor": "white"
           },
           "yaxis": {
            "backgroundcolor": "#E5ECF6",
            "gridcolor": "white",
            "gridwidth": 2,
            "linecolor": "white",
            "showbackground": true,
            "ticks": "",
            "zerolinecolor": "white"
           },
           "zaxis": {
            "backgroundcolor": "#E5ECF6",
            "gridcolor": "white",
            "gridwidth": 2,
            "linecolor": "white",
            "showbackground": true,
            "ticks": "",
            "zerolinecolor": "white"
           }
          },
          "shapedefaults": {
           "line": {
            "color": "#2a3f5f"
           }
          },
          "ternary": {
           "aaxis": {
            "gridcolor": "white",
            "linecolor": "white",
            "ticks": ""
           },
           "baxis": {
            "gridcolor": "white",
            "linecolor": "white",
            "ticks": ""
           },
           "bgcolor": "#E5ECF6",
           "caxis": {
            "gridcolor": "white",
            "linecolor": "white",
            "ticks": ""
           }
          },
          "title": {
           "x": 0.05
          },
          "xaxis": {
           "automargin": true,
           "gridcolor": "white",
           "linecolor": "white",
           "ticks": "",
           "title": {
            "standoff": 15
           },
           "zerolinecolor": "white",
           "zerolinewidth": 2
          },
          "yaxis": {
           "automargin": true,
           "gridcolor": "white",
           "linecolor": "white",
           "ticks": "",
           "title": {
            "standoff": 15
           },
           "zerolinecolor": "white",
           "zerolinewidth": 2
          }
         }
        },
        "title": {
         "text": "Normalized LCS values for O00571 at position 323"
        },
        "xaxis": {
         "anchor": "y",
         "constrain": "domain",
         "domain": [
          0,
          1
         ],
         "scaleanchor": "y",
         "tickmode": "array",
         "ticktext": [
          -7,
          -6,
          -5,
          -4,
          -3,
          -2,
          -1,
          0,
          1,
          2,
          3,
          4,
          5,
          6,
          7
         ],
         "tickvals": [
          1,
          2,
          3,
          4,
          5,
          6,
          7,
          8,
          9,
          10,
          11,
          12,
          13,
          14,
          15
         ],
         "title": {
          "text": "Mutation Position"
         }
        },
        "yaxis": {
         "anchor": "x",
         "autorange": "reversed",
         "constrain": "domain",
         "domain": [
          0,
          1
         ],
         "dtick": 1,
         "tickmode": "linear",
         "title": {
          "text": "Mutated Amino Acid"
         }
        }
       }
      }
     },
     "metadata": {},
     "output_type": "display_data"
    },
    {
     "name": "stdout",
     "output_type": "stream",
     "text": [
      "\n",
      "Rendering heatmap for: P00441_103_heatmap_data.csv\n"
     ]
    },
    {
     "name": "stderr",
     "output_type": "stream",
     "text": [
      "C:\\Users\\ricea\\AppData\\Local\\Temp\\ipykernel_26764\\4146770678.py:9: FutureWarning:\n",
      "\n",
      "The provided callable <function mean at 0x000002D40831D6C0> is currently using DataFrameGroupBy.mean. In a future version of pandas, the provided callable will be used directly. To keep current behavior pass the string \"mean\" instead.\n",
      "\n"
     ]
    },
    {
     "data": {
      "application/vnd.plotly.v1+json": {
       "config": {
        "plotlyServerURL": "https://plot.ly"
       },
       "data": [
        {
         "coloraxis": "coloraxis",
         "hovertemplate": "Mutation Position: %{x}<br>Mutated Amino Acid: %{y}<br>LCS Ratio: %{z}<extra></extra>",
         "name": "0",
         "type": "heatmap",
         "x": {
          "bdata": "AQIDBAUGBwgJCgsMDQ4P",
          "dtype": "i1"
         },
         "xaxis": "x",
         "y": [
          "A",
          "C",
          "D",
          "E",
          "F",
          "G",
          "H",
          "I",
          "K",
          "L",
          "M",
          "N",
          "P",
          "Q",
          "R",
          "S",
          "T",
          "V",
          "W",
          "Y"
         ],
         "yaxis": "y",
         "z": {
          "bdata": "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",
          "dtype": "f8",
          "shape": "20, 15"
         }
        }
       ],
       "layout": {
        "coloraxis": {
         "colorbar": {
          "ticktext": [
           "0.0",
           "0.25",
           "0.5",
           "0.75",
           "1.0"
          ],
          "tickvals": [
           0,
           0.25,
           0.5,
           0.75,
           1
          ],
          "title": {
           "text": "LCS Ratio"
          }
         },
         "colorscale": [
          [
           0,
           "rgb(0, 147, 146)"
          ],
          [
           0.16666666666666666,
           "rgb(57, 177, 133)"
          ],
          [
           0.3333333333333333,
           "rgb(156, 203, 134)"
          ],
          [
           0.5,
           "rgb(233, 226, 156)"
          ],
          [
           0.6666666666666666,
           "rgb(238, 180, 121)"
          ],
          [
           0.8333333333333334,
           "rgb(232, 132, 113)"
          ],
          [
           1,
           "rgb(207, 89, 126)"
          ]
         ]
        },
        "plot_bgcolor": "white",
        "template": {
         "data": {
          "bar": [
           {
            "error_x": {
             "color": "#2a3f5f"
            },
            "error_y": {
             "color": "#2a3f5f"
            },
            "marker": {
             "line": {
              "color": "#E5ECF6",
              "width": 0.5
             },
             "pattern": {
              "fillmode": "overlay",
              "size": 10,
              "solidity": 0.2
             }
            },
            "type": "bar"
           }
          ],
          "barpolar": [
           {
            "marker": {
             "line": {
              "color": "#E5ECF6",
              "width": 0.5
             },
             "pattern": {
              "fillmode": "overlay",
              "size": 10,
              "solidity": 0.2
             }
            },
            "type": "barpolar"
           }
          ],
          "carpet": [
           {
            "aaxis": {
             "endlinecolor": "#2a3f5f",
             "gridcolor": "white",
             "linecolor": "white",
             "minorgridcolor": "white",
             "startlinecolor": "#2a3f5f"
            },
            "baxis": {
             "endlinecolor": "#2a3f5f",
             "gridcolor": "white",
             "linecolor": "white",
             "minorgridcolor": "white",
             "startlinecolor": "#2a3f5f"
            },
            "type": "carpet"
           }
          ],
          "choropleth": [
           {
            "colorbar": {
             "outlinewidth": 0,
             "ticks": ""
            },
            "type": "choropleth"
           }
          ],
          "contour": [
           {
            "colorbar": {
             "outlinewidth": 0,
             "ticks": ""
            },
            "colorscale": [
             [
              0,
              "#0d0887"
             ],
             [
              0.1111111111111111,
              "#46039f"
             ],
             [
              0.2222222222222222,
              "#7201a8"
             ],
             [
              0.3333333333333333,
              "#9c179e"
             ],
             [
              0.4444444444444444,
              "#bd3786"
             ],
             [
              0.5555555555555556,
              "#d8576b"
             ],
             [
              0.6666666666666666,
              "#ed7953"
             ],
             [
              0.7777777777777778,
              "#fb9f3a"
             ],
             [
              0.8888888888888888,
              "#fdca26"
             ],
             [
              1,
              "#f0f921"
             ]
            ],
            "type": "contour"
           }
          ],
          "contourcarpet": [
           {
            "colorbar": {
             "outlinewidth": 0,
             "ticks": ""
            },
            "type": "contourcarpet"
           }
          ],
          "heatmap": [
           {
            "colorbar": {
             "outlinewidth": 0,
             "ticks": ""
            },
            "colorscale": [
             [
              0,
              "#0d0887"
             ],
             [
              0.1111111111111111,
              "#46039f"
             ],
             [
              0.2222222222222222,
              "#7201a8"
             ],
             [
              0.3333333333333333,
              "#9c179e"
             ],
             [
              0.4444444444444444,
              "#bd3786"
             ],
             [
              0.5555555555555556,
              "#d8576b"
             ],
             [
              0.6666666666666666,
              "#ed7953"
             ],
             [
              0.7777777777777778,
              "#fb9f3a"
             ],
             [
              0.8888888888888888,
              "#fdca26"
             ],
             [
              1,
              "#f0f921"
             ]
            ],
            "type": "heatmap"
           }
          ],
          "histogram": [
           {
            "marker": {
             "pattern": {
              "fillmode": "overlay",
              "size": 10,
              "solidity": 0.2
             }
            },
            "type": "histogram"
           }
          ],
          "histogram2d": [
           {
            "colorbar": {
             "outlinewidth": 0,
             "ticks": ""
            },
            "colorscale": [
             [
              0,
              "#0d0887"
             ],
             [
              0.1111111111111111,
              "#46039f"
             ],
             [
              0.2222222222222222,
              "#7201a8"
             ],
             [
              0.3333333333333333,
              "#9c179e"
             ],
             [
              0.4444444444444444,
              "#bd3786"
             ],
             [
              0.5555555555555556,
              "#d8576b"
             ],
             [
              0.6666666666666666,
              "#ed7953"
             ],
             [
              0.7777777777777778,
              "#fb9f3a"
             ],
             [
              0.8888888888888888,
              "#fdca26"
             ],
             [
              1,
              "#f0f921"
             ]
            ],
            "type": "histogram2d"
           }
          ],
          "histogram2dcontour": [
           {
            "colorbar": {
             "outlinewidth": 0,
             "ticks": ""
            },
            "colorscale": [
             [
              0,
              "#0d0887"
             ],
             [
              0.1111111111111111,
              "#46039f"
             ],
             [
              0.2222222222222222,
              "#7201a8"
             ],
             [
              0.3333333333333333,
              "#9c179e"
             ],
             [
              0.4444444444444444,
              "#bd3786"
             ],
             [
              0.5555555555555556,
              "#d8576b"
             ],
             [
              0.6666666666666666,
              "#ed7953"
             ],
             [
              0.7777777777777778,
              "#fb9f3a"
             ],
             [
              0.8888888888888888,
              "#fdca26"
             ],
             [
              1,
              "#f0f921"
             ]
            ],
            "type": "histogram2dcontour"
           }
          ],
          "mesh3d": [
           {
            "colorbar": {
             "outlinewidth": 0,
             "ticks": ""
            },
            "type": "mesh3d"
           }
          ],
          "parcoords": [
           {
            "line": {
             "colorbar": {
              "outlinewidth": 0,
              "ticks": ""
             }
            },
            "type": "parcoords"
           }
          ],
          "pie": [
           {
            "automargin": true,
            "type": "pie"
           }
          ],
          "scatter": [
           {
            "fillpattern": {
             "fillmode": "overlay",
             "size": 10,
             "solidity": 0.2
            },
            "type": "scatter"
           }
          ],
          "scatter3d": [
           {
            "line": {
             "colorbar": {
              "outlinewidth": 0,
              "ticks": ""
             }
            },
            "marker": {
             "colorbar": {
              "outlinewidth": 0,
              "ticks": ""
             }
            },
            "type": "scatter3d"
           }
          ],
          "scattercarpet": [
           {
            "marker": {
             "colorbar": {
              "outlinewidth": 0,
              "ticks": ""
             }
            },
            "type": "scattercarpet"
           }
          ],
          "scattergeo": [
           {
            "marker": {
             "colorbar": {
              "outlinewidth": 0,
              "ticks": ""
             }
            },
            "type": "scattergeo"
           }
          ],
          "scattergl": [
           {
            "marker": {
             "colorbar": {
              "outlinewidth": 0,
              "ticks": ""
             }
            },
            "type": "scattergl"
           }
          ],
          "scattermap": [
           {
            "marker": {
             "colorbar": {
              "outlinewidth": 0,
              "ticks": ""
             }
            },
            "type": "scattermap"
           }
          ],
          "scattermapbox": [
           {
            "marker": {
             "colorbar": {
              "outlinewidth": 0,
              "ticks": ""
             }
            },
            "type": "scattermapbox"
           }
          ],
          "scatterpolar": [
           {
            "marker": {
             "colorbar": {
              "outlinewidth": 0,
              "ticks": ""
             }
            },
            "type": "scatterpolar"
           }
          ],
          "scatterpolargl": [
           {
            "marker": {
             "colorbar": {
              "outlinewidth": 0,
              "ticks": ""
             }
            },
            "type": "scatterpolargl"
           }
          ],
          "scatterternary": [
           {
            "marker": {
             "colorbar": {
              "outlinewidth": 0,
              "ticks": ""
             }
            },
            "type": "scatterternary"
           }
          ],
          "surface": [
           {
            "colorbar": {
             "outlinewidth": 0,
             "ticks": ""
            },
            "colorscale": [
             [
              0,
              "#0d0887"
             ],
             [
              0.1111111111111111,
              "#46039f"
             ],
             [
              0.2222222222222222,
              "#7201a8"
             ],
             [
              0.3333333333333333,
              "#9c179e"
             ],
             [
              0.4444444444444444,
              "#bd3786"
             ],
             [
              0.5555555555555556,
              "#d8576b"
             ],
             [
              0.6666666666666666,
              "#ed7953"
             ],
             [
              0.7777777777777778,
              "#fb9f3a"
             ],
             [
              0.8888888888888888,
              "#fdca26"
             ],
             [
              1,
              "#f0f921"
             ]
            ],
            "type": "surface"
           }
          ],
          "table": [
           {
            "cells": {
             "fill": {
              "color": "#EBF0F8"
             },
             "line": {
              "color": "white"
             }
            },
            "header": {
             "fill": {
              "color": "#C8D4E3"
             },
             "line": {
              "color": "white"
             }
            },
            "type": "table"
           }
          ]
         },
         "layout": {
          "annotationdefaults": {
           "arrowcolor": "#2a3f5f",
           "arrowhead": 0,
           "arrowwidth": 1
          },
          "autotypenumbers": "strict",
          "coloraxis": {
           "colorbar": {
            "outlinewidth": 0,
            "ticks": ""
           }
          },
          "colorscale": {
           "diverging": [
            [
             0,
             "#8e0152"
            ],
            [
             0.1,
             "#c51b7d"
            ],
            [
             0.2,
             "#de77ae"
            ],
            [
             0.3,
             "#f1b6da"
            ],
            [
             0.4,
             "#fde0ef"
            ],
            [
             0.5,
             "#f7f7f7"
            ],
            [
             0.6,
             "#e6f5d0"
            ],
            [
             0.7,
             "#b8e186"
            ],
            [
             0.8,
             "#7fbc41"
            ],
            [
             0.9,
             "#4d9221"
            ],
            [
             1,
             "#276419"
            ]
           ],
           "sequential": [
            [
             0,
             "#0d0887"
            ],
            [
             0.1111111111111111,
             "#46039f"
            ],
            [
             0.2222222222222222,
             "#7201a8"
            ],
            [
             0.3333333333333333,
             "#9c179e"
            ],
            [
             0.4444444444444444,
             "#bd3786"
            ],
            [
             0.5555555555555556,
             "#d8576b"
            ],
            [
             0.6666666666666666,
             "#ed7953"
            ],
            [
             0.7777777777777778,
             "#fb9f3a"
            ],
            [
             0.8888888888888888,
             "#fdca26"
            ],
            [
             1,
             "#f0f921"
            ]
           ],
           "sequentialminus": [
            [
             0,
             "#0d0887"
            ],
            [
             0.1111111111111111,
             "#46039f"
            ],
            [
             0.2222222222222222,
             "#7201a8"
            ],
            [
             0.3333333333333333,
             "#9c179e"
            ],
            [
             0.4444444444444444,
             "#bd3786"
            ],
            [
             0.5555555555555556,
             "#d8576b"
            ],
            [
             0.6666666666666666,
             "#ed7953"
            ],
            [
             0.7777777777777778,
             "#fb9f3a"
            ],
            [
             0.8888888888888888,
             "#fdca26"
            ],
            [
             1,
             "#f0f921"
            ]
           ]
          },
          "colorway": [
           "#636efa",
           "#EF553B",
           "#00cc96",
           "#ab63fa",
           "#FFA15A",
           "#19d3f3",
           "#FF6692",
           "#B6E880",
           "#FF97FF",
           "#FECB52"
          ],
          "font": {
           "color": "#2a3f5f"
          },
          "geo": {
           "bgcolor": "white",
           "lakecolor": "white",
           "landcolor": "#E5ECF6",
           "showlakes": true,
           "showland": true,
           "subunitcolor": "white"
          },
          "hoverlabel": {
           "align": "left"
          },
          "hovermode": "closest",
          "mapbox": {
           "style": "light"
          },
          "paper_bgcolor": "white",
          "plot_bgcolor": "#E5ECF6",
          "polar": {
           "angularaxis": {
            "gridcolor": "white",
            "linecolor": "white",
            "ticks": ""
           },
           "bgcolor": "#E5ECF6",
           "radialaxis": {
            "gridcolor": "white",
            "linecolor": "white",
            "ticks": ""
           }
          },
          "scene": {
           "xaxis": {
            "backgroundcolor": "#E5ECF6",
            "gridcolor": "white",
            "gridwidth": 2,
            "linecolor": "white",
            "showbackground": true,
            "ticks": "",
            "zerolinecolor": "white"
           },
           "yaxis": {
            "backgroundcolor": "#E5ECF6",
            "gridcolor": "white",
            "gridwidth": 2,
            "linecolor": "white",
            "showbackground": true,
            "ticks": "",
            "zerolinecolor": "white"
           },
           "zaxis": {
            "backgroundcolor": "#E5ECF6",
            "gridcolor": "white",
            "gridwidth": 2,
            "linecolor": "white",
            "showbackground": true,
            "ticks": "",
            "zerolinecolor": "white"
           }
          },
          "shapedefaults": {
           "line": {
            "color": "#2a3f5f"
           }
          },
          "ternary": {
           "aaxis": {
            "gridcolor": "white",
            "linecolor": "white",
            "ticks": ""
           },
           "baxis": {
            "gridcolor": "white",
            "linecolor": "white",
            "ticks": ""
           },
           "bgcolor": "#E5ECF6",
           "caxis": {
            "gridcolor": "white",
            "linecolor": "white",
            "ticks": ""
           }
          },
          "title": {
           "x": 0.05
          },
          "xaxis": {
           "automargin": true,
           "gridcolor": "white",
           "linecolor": "white",
           "ticks": "",
           "title": {
            "standoff": 15
           },
           "zerolinecolor": "white",
           "zerolinewidth": 2
          },
          "yaxis": {
           "automargin": true,
           "gridcolor": "white",
           "linecolor": "white",
           "ticks": "",
           "title": {
            "standoff": 15
           },
           "zerolinecolor": "white",
           "zerolinewidth": 2
          }
         }
        },
        "title": {
         "text": "Normalized LCS values for P00441 at position 103"
        },
        "xaxis": {
         "anchor": "y",
         "constrain": "domain",
         "domain": [
          0,
          1
         ],
         "scaleanchor": "y",
         "tickmode": "array",
         "ticktext": [
          -7,
          -6,
          -5,
          -4,
          -3,
          -2,
          -1,
          0,
          1,
          2,
          3,
          4,
          5,
          6,
          7
         ],
         "tickvals": [
          1,
          2,
          3,
          4,
          5,
          6,
          7,
          8,
          9,
          10,
          11,
          12,
          13,
          14,
          15
         ],
         "title": {
          "text": "Mutation Position"
         }
        },
        "yaxis": {
         "anchor": "x",
         "autorange": "reversed",
         "constrain": "domain",
         "domain": [
          0,
          1
         ],
         "dtick": 1,
         "tickmode": "linear",
         "title": {
          "text": "Mutated Amino Acid"
         }
        }
       }
      }
     },
     "metadata": {},
     "output_type": "display_data"
    },
    {
     "name": "stdout",
     "output_type": "stream",
     "text": [
      "\n",
      "Rendering heatmap for: P00441_108_heatmap_data.csv\n"
     ]
    },
    {
     "name": "stderr",
     "output_type": "stream",
     "text": [
      "C:\\Users\\ricea\\AppData\\Local\\Temp\\ipykernel_26764\\4146770678.py:9: FutureWarning:\n",
      "\n",
      "The provided callable <function mean at 0x000002D40831D6C0> is currently using DataFrameGroupBy.mean. In a future version of pandas, the provided callable will be used directly. To keep current behavior pass the string \"mean\" instead.\n",
      "\n"
     ]
    },
    {
     "data": {
      "application/vnd.plotly.v1+json": {
       "config": {
        "plotlyServerURL": "https://plot.ly"
       },
       "data": [
        {
         "coloraxis": "coloraxis",
         "hovertemplate": "Mutation Position: %{x}<br>Mutated Amino Acid: %{y}<br>LCS Ratio: %{z}<extra></extra>",
         "name": "0",
         "type": "heatmap",
         "x": {
          "bdata": "AQIDBAUGBwgJCgsMDQ4P",
          "dtype": "i1"
         },
         "xaxis": "x",
         "y": [
          "A",
          "C",
          "D",
          "E",
          "F",
          "G",
          "H",
          "I",
          "K",
          "L",
          "M",
          "N",
          "P",
          "Q",
          "R",
          "S",
          "T",
          "V",
          "W",
          "Y"
         ],
         "yaxis": "y",
         "z": {
          "bdata": "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",
          "dtype": "f8",
          "shape": "20, 15"
         }
        }
       ],
       "layout": {
        "coloraxis": {
         "colorbar": {
          "ticktext": [
           "0.0",
           "0.25",
           "0.5",
           "0.75",
           "1.0"
          ],
          "tickvals": [
           0,
           0.25,
           0.5,
           0.75,
           1
          ],
          "title": {
           "text": "LCS Ratio"
          }
         },
         "colorscale": [
          [
           0,
           "rgb(0, 147, 146)"
          ],
          [
           0.16666666666666666,
           "rgb(57, 177, 133)"
          ],
          [
           0.3333333333333333,
           "rgb(156, 203, 134)"
          ],
          [
           0.5,
           "rgb(233, 226, 156)"
          ],
          [
           0.6666666666666666,
           "rgb(238, 180, 121)"
          ],
          [
           0.8333333333333334,
           "rgb(232, 132, 113)"
          ],
          [
           1,
           "rgb(207, 89, 126)"
          ]
         ]
        },
        "plot_bgcolor": "white",
        "template": {
         "data": {
          "bar": [
           {
            "error_x": {
             "color": "#2a3f5f"
            },
            "error_y": {
             "color": "#2a3f5f"
            },
            "marker": {
             "line": {
              "color": "#E5ECF6",
              "width": 0.5
             },
             "pattern": {
              "fillmode": "overlay",
              "size": 10,
              "solidity": 0.2
             }
            },
            "type": "bar"
           }
          ],
          "barpolar": [
           {
            "marker": {
             "line": {
              "color": "#E5ECF6",
              "width": 0.5
             },
             "pattern": {
              "fillmode": "overlay",
              "size": 10,
              "solidity": 0.2
             }
            },
            "type": "barpolar"
           }
          ],
          "carpet": [
           {
            "aaxis": {
             "endlinecolor": "#2a3f5f",
             "gridcolor": "white",
             "linecolor": "white",
             "minorgridcolor": "white",
             "startlinecolor": "#2a3f5f"
            },
            "baxis": {
             "endlinecolor": "#2a3f5f",
             "gridcolor": "white",
             "linecolor": "white",
             "minorgridcolor": "white",
             "startlinecolor": "#2a3f5f"
            },
            "type": "carpet"
           }
          ],
          "choropleth": [
           {
            "colorbar": {
             "outlinewidth": 0,
             "ticks": ""
            },
            "type": "choropleth"
           }
          ],
          "contour": [
           {
            "colorbar": {
             "outlinewidth": 0,
             "ticks": ""
            },
            "colorscale": [
             [
              0,
              "#0d0887"
             ],
             [
              0.1111111111111111,
              "#46039f"
             ],
             [
              0.2222222222222222,
              "#7201a8"
             ],
             [
              0.3333333333333333,
              "#9c179e"
             ],
             [
              0.4444444444444444,
              "#bd3786"
             ],
             [
              0.5555555555555556,
              "#d8576b"
             ],
             [
              0.6666666666666666,
              "#ed7953"
             ],
             [
              0.7777777777777778,
              "#fb9f3a"
             ],
             [
              0.8888888888888888,
              "#fdca26"
             ],
             [
              1,
              "#f0f921"
             ]
            ],
            "type": "contour"
           }
          ],
          "contourcarpet": [
           {
            "colorbar": {
             "outlinewidth": 0,
             "ticks": ""
            },
            "type": "contourcarpet"
           }
          ],
          "heatmap": [
           {
            "colorbar": {
             "outlinewidth": 0,
             "ticks": ""
            },
            "colorscale": [
             [
              0,
              "#0d0887"
             ],
             [
              0.1111111111111111,
              "#46039f"
             ],
             [
              0.2222222222222222,
              "#7201a8"
             ],
             [
              0.3333333333333333,
              "#9c179e"
             ],
             [
              0.4444444444444444,
              "#bd3786"
             ],
             [
              0.5555555555555556,
              "#d8576b"
             ],
             [
              0.6666666666666666,
              "#ed7953"
             ],
             [
              0.7777777777777778,
              "#fb9f3a"
             ],
             [
              0.8888888888888888,
              "#fdca26"
             ],
             [
              1,
              "#f0f921"
             ]
            ],
            "type": "heatmap"
           }
          ],
          "histogram": [
           {
            "marker": {
             "pattern": {
              "fillmode": "overlay",
              "size": 10,
              "solidity": 0.2
             }
            },
            "type": "histogram"
           }
          ],
          "histogram2d": [
           {
            "colorbar": {
             "outlinewidth": 0,
             "ticks": ""
            },
            "colorscale": [
             [
              0,
              "#0d0887"
             ],
             [
              0.1111111111111111,
              "#46039f"
             ],
             [
              0.2222222222222222,
              "#7201a8"
             ],
             [
              0.3333333333333333,
              "#9c179e"
             ],
             [
              0.4444444444444444,
              "#bd3786"
             ],
             [
              0.5555555555555556,
              "#d8576b"
             ],
             [
              0.6666666666666666,
              "#ed7953"
             ],
             [
              0.7777777777777778,
              "#fb9f3a"
             ],
             [
              0.8888888888888888,
              "#fdca26"
             ],
             [
              1,
              "#f0f921"
             ]
            ],
            "type": "histogram2d"
           }
          ],
          "histogram2dcontour": [
           {
            "colorbar": {
             "outlinewidth": 0,
             "ticks": ""
            },
            "colorscale": [
             [
              0,
              "#0d0887"
             ],
             [
              0.1111111111111111,
              "#46039f"
             ],
             [
              0.2222222222222222,
              "#7201a8"
             ],
             [
              0.3333333333333333,
              "#9c179e"
             ],
             [
              0.4444444444444444,
              "#bd3786"
             ],
             [
              0.5555555555555556,
              "#d8576b"
             ],
             [
              0.6666666666666666,
              "#ed7953"
             ],
             [
              0.7777777777777778,
              "#fb9f3a"
             ],
             [
              0.8888888888888888,
              "#fdca26"
             ],
             [
              1,
              "#f0f921"
             ]
            ],
            "type": "histogram2dcontour"
           }
          ],
          "mesh3d": [
           {
            "colorbar": {
             "outlinewidth": 0,
             "ticks": ""
            },
            "type": "mesh3d"
           }
          ],
          "parcoords": [
           {
            "line": {
             "colorbar": {
              "outlinewidth": 0,
              "ticks": ""
             }
            },
            "type": "parcoords"
           }
          ],
          "pie": [
           {
            "automargin": true,
            "type": "pie"
           }
          ],
          "scatter": [
           {
            "fillpattern": {
             "fillmode": "overlay",
             "size": 10,
             "solidity": 0.2
            },
            "type": "scatter"
           }
          ],
          "scatter3d": [
           {
            "line": {
             "colorbar": {
              "outlinewidth": 0,
              "ticks": ""
             }
            },
            "marker": {
             "colorbar": {
              "outlinewidth": 0,
              "ticks": ""
             }
            },
            "type": "scatter3d"
           }
          ],
          "scattercarpet": [
           {
            "marker": {
             "colorbar": {
              "outlinewidth": 0,
              "ticks": ""
             }
            },
            "type": "scattercarpet"
           }
          ],
          "scattergeo": [
           {
            "marker": {
             "colorbar": {
              "outlinewidth": 0,
              "ticks": ""
             }
            },
            "type": "scattergeo"
           }
          ],
          "scattergl": [
           {
            "marker": {
             "colorbar": {
              "outlinewidth": 0,
              "ticks": ""
             }
            },
            "type": "scattergl"
           }
          ],
          "scattermap": [
           {
            "marker": {
             "colorbar": {
              "outlinewidth": 0,
              "ticks": ""
             }
            },
            "type": "scattermap"
           }
          ],
          "scattermapbox": [
           {
            "marker": {
             "colorbar": {
              "outlinewidth": 0,
              "ticks": ""
             }
            },
            "type": "scattermapbox"
           }
          ],
          "scatterpolar": [
           {
            "marker": {
             "colorbar": {
              "outlinewidth": 0,
              "ticks": ""
             }
            },
            "type": "scatterpolar"
           }
          ],
          "scatterpolargl": [
           {
            "marker": {
             "colorbar": {
              "outlinewidth": 0,
              "ticks": ""
             }
            },
            "type": "scatterpolargl"
           }
          ],
          "scatterternary": [
           {
            "marker": {
             "colorbar": {
              "outlinewidth": 0,
              "ticks": ""
             }
            },
            "type": "scatterternary"
           }
          ],
          "surface": [
           {
            "colorbar": {
             "outlinewidth": 0,
             "ticks": ""
            },
            "colorscale": [
             [
              0,
              "#0d0887"
             ],
             [
              0.1111111111111111,
              "#46039f"
             ],
             [
              0.2222222222222222,
              "#7201a8"
             ],
             [
              0.3333333333333333,
              "#9c179e"
             ],
             [
              0.4444444444444444,
              "#bd3786"
             ],
             [
              0.5555555555555556,
              "#d8576b"
             ],
             [
              0.6666666666666666,
              "#ed7953"
             ],
             [
              0.7777777777777778,
              "#fb9f3a"
             ],
             [
              0.8888888888888888,
              "#fdca26"
             ],
             [
              1,
              "#f0f921"
             ]
            ],
            "type": "surface"
           }
          ],
          "table": [
           {
            "cells": {
             "fill": {
              "color": "#EBF0F8"
             },
             "line": {
              "color": "white"
             }
            },
            "header": {
             "fill": {
              "color": "#C8D4E3"
             },
             "line": {
              "color": "white"
             }
            },
            "type": "table"
           }
          ]
         },
         "layout": {
          "annotationdefaults": {
           "arrowcolor": "#2a3f5f",
           "arrowhead": 0,
           "arrowwidth": 1
          },
          "autotypenumbers": "strict",
          "coloraxis": {
           "colorbar": {
            "outlinewidth": 0,
            "ticks": ""
           }
          },
          "colorscale": {
           "diverging": [
            [
             0,
             "#8e0152"
            ],
            [
             0.1,
             "#c51b7d"
            ],
            [
             0.2,
             "#de77ae"
            ],
            [
             0.3,
             "#f1b6da"
            ],
            [
             0.4,
             "#fde0ef"
            ],
            [
             0.5,
             "#f7f7f7"
            ],
            [
             0.6,
             "#e6f5d0"
            ],
            [
             0.7,
             "#b8e186"
            ],
            [
             0.8,
             "#7fbc41"
            ],
            [
             0.9,
             "#4d9221"
            ],
            [
             1,
             "#276419"
            ]
           ],
           "sequential": [
            [
             0,
             "#0d0887"
            ],
            [
             0.1111111111111111,
             "#46039f"
            ],
            [
             0.2222222222222222,
             "#7201a8"
            ],
            [
             0.3333333333333333,
             "#9c179e"
            ],
            [
             0.4444444444444444,
             "#bd3786"
            ],
            [
             0.5555555555555556,
             "#d8576b"
            ],
            [
             0.6666666666666666,
             "#ed7953"
            ],
            [
             0.7777777777777778,
             "#fb9f3a"
            ],
            [
             0.8888888888888888,
             "#fdca26"
            ],
            [
             1,
             "#f0f921"
            ]
           ],
           "sequentialminus": [
            [
             0,
             "#0d0887"
            ],
            [
             0.1111111111111111,
             "#46039f"
            ],
            [
             0.2222222222222222,
             "#7201a8"
            ],
            [
             0.3333333333333333,
             "#9c179e"
            ],
            [
             0.4444444444444444,
             "#bd3786"
            ],
            [
             0.5555555555555556,
             "#d8576b"
            ],
            [
             0.6666666666666666,
             "#ed7953"
            ],
            [
             0.7777777777777778,
             "#fb9f3a"
            ],
            [
             0.8888888888888888,
             "#fdca26"
            ],
            [
             1,
             "#f0f921"
            ]
           ]
          },
          "colorway": [
           "#636efa",
           "#EF553B",
           "#00cc96",
           "#ab63fa",
           "#FFA15A",
           "#19d3f3",
           "#FF6692",
           "#B6E880",
           "#FF97FF",
           "#FECB52"
          ],
          "font": {
           "color": "#2a3f5f"
          },
          "geo": {
           "bgcolor": "white",
           "lakecolor": "white",
           "landcolor": "#E5ECF6",
           "showlakes": true,
           "showland": true,
           "subunitcolor": "white"
          },
          "hoverlabel": {
           "align": "left"
          },
          "hovermode": "closest",
          "mapbox": {
           "style": "light"
          },
          "paper_bgcolor": "white",
          "plot_bgcolor": "#E5ECF6",
          "polar": {
           "angularaxis": {
            "gridcolor": "white",
            "linecolor": "white",
            "ticks": ""
           },
           "bgcolor": "#E5ECF6",
           "radialaxis": {
            "gridcolor": "white",
            "linecolor": "white",
            "ticks": ""
           }
          },
          "scene": {
           "xaxis": {
            "backgroundcolor": "#E5ECF6",
            "gridcolor": "white",
            "gridwidth": 2,
            "linecolor": "white",
            "showbackground": true,
            "ticks": "",
            "zerolinecolor": "white"
           },
           "yaxis": {
            "backgroundcolor": "#E5ECF6",
            "gridcolor": "white",
            "gridwidth": 2,
            "linecolor": "white",
            "showbackground": true,
            "ticks": "",
            "zerolinecolor": "white"
           },
           "zaxis": {
            "backgroundcolor": "#E5ECF6",
            "gridcolor": "white",
            "gridwidth": 2,
            "linecolor": "white",
            "showbackground": true,
            "ticks": "",
            "zerolinecolor": "white"
           }
          },
          "shapedefaults": {
           "line": {
            "color": "#2a3f5f"
           }
          },
          "ternary": {
           "aaxis": {
            "gridcolor": "white",
            "linecolor": "white",
            "ticks": ""
           },
           "baxis": {
            "gridcolor": "white",
            "linecolor": "white",
            "ticks": ""
           },
           "bgcolor": "#E5ECF6",
           "caxis": {
            "gridcolor": "white",
            "linecolor": "white",
            "ticks": ""
           }
          },
          "title": {
           "x": 0.05
          },
          "xaxis": {
           "automargin": true,
           "gridcolor": "white",
           "linecolor": "white",
           "ticks": "",
           "title": {
            "standoff": 15
           },
           "zerolinecolor": "white",
           "zerolinewidth": 2
          },
          "yaxis": {
           "automargin": true,
           "gridcolor": "white",
           "linecolor": "white",
           "ticks": "",
           "title": {
            "standoff": 15
           },
           "zerolinecolor": "white",
           "zerolinewidth": 2
          }
         }
        },
        "title": {
         "text": "Normalized LCS values for P00441 at position 108"
        },
        "xaxis": {
         "anchor": "y",
         "constrain": "domain",
         "domain": [
          0,
          1
         ],
         "scaleanchor": "y",
         "tickmode": "array",
         "ticktext": [
          -7,
          -6,
          -5,
          -4,
          -3,
          -2,
          -1,
          0,
          1,
          2,
          3,
          4,
          5,
          6,
          7
         ],
         "tickvals": [
          1,
          2,
          3,
          4,
          5,
          6,
          7,
          8,
          9,
          10,
          11,
          12,
          13,
          14,
          15
         ],
         "title": {
          "text": "Mutation Position"
         }
        },
        "yaxis": {
         "anchor": "x",
         "autorange": "reversed",
         "constrain": "domain",
         "domain": [
          0,
          1
         ],
         "dtick": 1,
         "tickmode": "linear",
         "title": {
          "text": "Mutated Amino Acid"
         }
        }
       }
      }
     },
     "metadata": {},
     "output_type": "display_data"
    },
    {
     "name": "stdout",
     "output_type": "stream",
     "text": [
      "\n",
      "Rendering heatmap for: P00441_143_heatmap_data.csv\n"
     ]
    },
    {
     "name": "stderr",
     "output_type": "stream",
     "text": [
      "C:\\Users\\ricea\\AppData\\Local\\Temp\\ipykernel_26764\\4146770678.py:9: FutureWarning:\n",
      "\n",
      "The provided callable <function mean at 0x000002D40831D6C0> is currently using DataFrameGroupBy.mean. In a future version of pandas, the provided callable will be used directly. To keep current behavior pass the string \"mean\" instead.\n",
      "\n"
     ]
    },
    {
     "data": {
      "application/vnd.plotly.v1+json": {
       "config": {
        "plotlyServerURL": "https://plot.ly"
       },
       "data": [
        {
         "coloraxis": "coloraxis",
         "hovertemplate": "Mutation Position: %{x}<br>Mutated Amino Acid: %{y}<br>LCS Ratio: %{z}<extra></extra>",
         "name": "0",
         "type": "heatmap",
         "x": {
          "bdata": "AQIDBAUGBwgJCgsMDQ4P",
          "dtype": "i1"
         },
         "xaxis": "x",
         "y": [
          "A",
          "C",
          "D",
          "E",
          "F",
          "G",
          "H",
          "I",
          "K",
          "L",
          "M",
          "N",
          "P",
          "Q",
          "R",
          "S",
          "T",
          "V",
          "W",
          "Y"
         ],
         "yaxis": "y",
         "z": {
          "bdata": "AAAAAAAA8D8AAAAAAADwP7wP2VKscMg/WOEwUeaCyj9zds3oK/+8PwAAAAAAAPh/XFADjNv7wD8AAAAAAAD4f+qa0Vf+OaI/bO9DthQrvD8AAAAAAAD4f5PzsohPIMU/AAAAAAAA8D8AAAAAAADwPwAAAAAAAPA/AAAAAAAA8D8AAAAAAADwP2JouoP9Vss/vA/ZUqxwyD9eaLqD/Va7P15ouoP9Vrs/Xmi6g/1Wuz8AAAAAAAD4f/6o5Lws4rM/iITgTVqnvj/VjL7yz5HAPwAAAAAAAPh/AAAAAAAA8D8AAAAAAADwPwAAAAAAAPA/AAAAAAAA8D8AAAAAAADwP9WMvvLPkcA//qjkvCzisz9l70O2FCusP+qa0Vf+OaI/jgtqgHF7rz8AAAAAAAD4f/eo5Lws4pM/zoy+8s+RoD/qmtFX/jmyP4iE4E1ap74/AAAAAAAA8D8AAAAAAADwPwAAAAAAAPA/AAAAAAAA8D8AAAAAAADwP3N2zegr/7w/J8UKh4kytz/+qOS8LOKzPyDFCoeJMqc/Ze9DthQrrD8AAAAAAAD4f1jhMFHmgqo/E7f3IVuKpT/qmtFX/jmyPyE+gVRyXrY/AAAAAAAA8D8AAAAAAADwPwAAAAAAAPA/AAAAAAAA8D8AAAAAAADwP7KITyCVnMc/bO9DthQrvD81TJS5oAa4P1jhMFHmgqo/WOEwUeaCqj8AAAAAAAD4f4H9VhtD060/WOEwUeaCuj8hPoFUcl62P1LJeVnEJ8A/AAAAAAAA8D8AAAAAAADwPwAAAAAAAPA/AAAAAAAA8D8AAAAAAADwP7wP2VKscMg/AAAAAAAA+H/VjL7yz5HAP2zvQ7YUK7w/AAAAAAAA+H8AAAAAAAD4f/ghW4oVDrM/WOEwUeaCqj+IhOBNWqe+PwKp5Lws4sM/AAAAAAAA+H8AAAAAAADwPwAAAAAAAPA/AAAAAAAA8D8AAAAAAADwP7wP2VKscMg/e+WfIyF4wz9zds3oK/+8P4H9VhtD060/+CFbihUOsz8AAAAAAAD4fxO39yFbirU/1Yy+8s+RsD8CqeS8LOLDP1xQA4zb+8A/AAAAAAAA8D8AAAAAAADwPwAAAAAAAPA/AAAAAAAA8D8AAAAAAADwP9WMvvLPkcA/SlqnHs+uuT8MMG7vQ7a0PyfFCoeJMrc/3BNIJedlsT8AAAAAAAD4fyDFCoeJMqc/ZteMvvLPwT8nxQqHiTK3P98TSCXnZcE/AAAAAAAA8D8AAAAAAADwPwAAAAAAAPh/AAAAAAAA8D8AAAAAAAD4f9WMvvLPkcA/+CFbihUOsz9eaLqD/Va7P44LaoBxe68/SlqnHs+uuT8AAAAAAAD4f5PzsohPIMU/NUyUuaAGuD/+qOS8LOKzP0papx7Prrk/AAAAAAAA8D8AAAAAAADwPwAAAAAAAPA/AAAAAAAA8D8AAAAAAADwP/ghW4oVDsM/J8UKh4kytz+WC2qAcXu/P9wTSCXnZbE/6prRV/45sj8AAAAAAAD4fxO39yFbiqU/AAAAAAAA+H9zds3oK/+8P1xQA4zb+8A/AAAAAAAA8D8AAAAAAADwPwAAAAAAAPA/AAAAAAAA8D8AAAAAAADwP15ouoP9Vrs/7ZrRV/45wj8Tt/chW4q1P9WMvvLPkbA/gf1WG0PTrT8AAAAAAAD4f/6o5Lws4rM/DDBu70O2xD9zds3oK/+8P2bXjL7yz8E/AAAAAAAA8D8AAAAAAADwPwAAAAAAAPA/AAAAAAAA8D8AAAAAAADwP1jhMFHmgso/e+WfIyF4wz8AAAAAAAD4f15ouoP9Vrs/IT6BVHJetj8AAAAAAAD4fyDFCoeJMqc/IT6BVHJetj9SyXlZxCfAPwKp5Lws4sM/AAAAAAAA8D8AAAAAAADwPwAAAAAAAPA/AAAAAAAA8D8AAAAAAADwPyE+gVRyXsY/XFADjNv7wD9eaLqD/Va7PyE+gVRyXrY/3BNIJedlsT8AAAAAAAD4f9wTSCXnZbE/3BNIJedlsT9cUAOM2/vAP4H9VhtD070/AAAAAAAA8D8AAAAAAADwPwAAAAAAAPA/AAAAAAAA8D8AAAAAAADwP2JouoP9Vss/cV4W8Qmkwj975Z8jIXjDP/6o5Lws4rM/E7f3IVuKtT8AAAAAAAD4f/eo5Lws4qM/Xmi6g/1Wuz8CqeS8LOLDPwKp5Lws4sM/AAAAAAAA8D8AAAAAAADwPwAAAAAAAPA/AAAAAAAA8D8AAAAAAADwP4H9VhtD070/Xmi6g/1Wuz8MMG7vQ7a0PxO39yFbirU/IT6BVHJetj8AAAAAAAD4fwAAAAAAAPh/jgtqgHF7rz9Y4TBR5oK6PxO39yFbirU/AAAAAAAA8D8AAAAAAADwPwAAAAAAAPA/AAAAAAAA8D8AAAAAAADwPwAAAAAAAPA/IT6BVHJexj+T87KITyDFPxa39yFbisU/WOEwUeaCuj8AAAAAAAD4f4H9VhtD060/qAHG7X3Ixj9cUAOM2/vAP9Ed7LfaGMo/AAAAAAAA8D8AAAAAAADwPwAAAAAAAPA/AAAAAAAA+H8AAAAAAADwPwAAAAAAAPh/IT6BVHJexj+T87KITyDFPxa39yFbisU/WOEwUeaCuj/VjL7yz5GwP4H9VhtD060/qAHG7X3Ixj9cUAOM2/vAP9Ed7LfaGMo/AAAAAAAA8D8AAAAAAADwPwAAAAAAAPA/AAAAAAAA8D8AAAAAAADwPzVMlLmgBsg/Q9Md7LfauD9D0x3st9q4P0papx7Prrk/3BNIJedlsT8AAAAAAAD4fyDFCoeJMqc/Q9Md7LfauD/VjL7yz5HAP5PzsohPIMU/AAAAAAAA8D8AAAAAAAD4fwAAAAAAAPA/AAAAAAAA8D8AAAAAAADwPwwwbu9DtsQ/6prRV/45sj9xXhbxCaTCPyfFCoeJMrc/jgtqgHF7rz8AAAAAAAD4f/ghW4oVDrM/J8UKh4kytz+B/VYbQ9O9P1jhMFHmgro/AAAAAAAA8D8AAAAAAADwPwAAAAAAAPA/AAAAAAAA8D8AAAAAAADwPzVMlLmgBsg//qjkvCzisz/qmtFX/jmyP9WMvvLPkbA/+CFbihUOsz/W4DBR5oJqv44LaoBxe68/Q9Md7LfauD+B/VYbQ9O9P0PTHey32rg/AAAAAAAA8D8AAAAAAADwPwAAAAAAAPA/",
          "dtype": "f8",
          "shape": "20, 15"
         }
        }
       ],
       "layout": {
        "coloraxis": {
         "colorbar": {
          "ticktext": [
           "0.0",
           "0.25",
           "0.5",
           "0.75",
           "1.0"
          ],
          "tickvals": [
           0,
           0.25,
           0.5,
           0.75,
           1
          ],
          "title": {
           "text": "LCS Ratio"
          }
         },
         "colorscale": [
          [
           0,
           "rgb(0, 147, 146)"
          ],
          [
           0.16666666666666666,
           "rgb(57, 177, 133)"
          ],
          [
           0.3333333333333333,
           "rgb(156, 203, 134)"
          ],
          [
           0.5,
           "rgb(233, 226, 156)"
          ],
          [
           0.6666666666666666,
           "rgb(238, 180, 121)"
          ],
          [
           0.8333333333333334,
           "rgb(232, 132, 113)"
          ],
          [
           1,
           "rgb(207, 89, 126)"
          ]
         ]
        },
        "plot_bgcolor": "white",
        "template": {
         "data": {
          "bar": [
           {
            "error_x": {
             "color": "#2a3f5f"
            },
            "error_y": {
             "color": "#2a3f5f"
            },
            "marker": {
             "line": {
              "color": "#E5ECF6",
              "width": 0.5
             },
             "pattern": {
              "fillmode": "overlay",
              "size": 10,
              "solidity": 0.2
             }
            },
            "type": "bar"
           }
          ],
          "barpolar": [
           {
            "marker": {
             "line": {
              "color": "#E5ECF6",
              "width": 0.5
             },
             "pattern": {
              "fillmode": "overlay",
              "size": 10,
              "solidity": 0.2
             }
            },
            "type": "barpolar"
           }
          ],
          "carpet": [
           {
            "aaxis": {
             "endlinecolor": "#2a3f5f",
             "gridcolor": "white",
             "linecolor": "white",
             "minorgridcolor": "white",
             "startlinecolor": "#2a3f5f"
            },
            "baxis": {
             "endlinecolor": "#2a3f5f",
             "gridcolor": "white",
             "linecolor": "white",
             "minorgridcolor": "white",
             "startlinecolor": "#2a3f5f"
            },
            "type": "carpet"
           }
          ],
          "choropleth": [
           {
            "colorbar": {
             "outlinewidth": 0,
             "ticks": ""
            },
            "type": "choropleth"
           }
          ],
          "contour": [
           {
            "colorbar": {
             "outlinewidth": 0,
             "ticks": ""
            },
            "colorscale": [
             [
              0,
              "#0d0887"
             ],
             [
              0.1111111111111111,
              "#46039f"
             ],
             [
              0.2222222222222222,
              "#7201a8"
             ],
             [
              0.3333333333333333,
              "#9c179e"
             ],
             [
              0.4444444444444444,
              "#bd3786"
             ],
             [
              0.5555555555555556,
              "#d8576b"
             ],
             [
              0.6666666666666666,
              "#ed7953"
             ],
             [
              0.7777777777777778,
              "#fb9f3a"
             ],
             [
              0.8888888888888888,
              "#fdca26"
             ],
             [
              1,
              "#f0f921"
             ]
            ],
            "type": "contour"
           }
          ],
          "contourcarpet": [
           {
            "colorbar": {
             "outlinewidth": 0,
             "ticks": ""
            },
            "type": "contourcarpet"
           }
          ],
          "heatmap": [
           {
            "colorbar": {
             "outlinewidth": 0,
             "ticks": ""
            },
            "colorscale": [
             [
              0,
              "#0d0887"
             ],
             [
              0.1111111111111111,
              "#46039f"
             ],
             [
              0.2222222222222222,
              "#7201a8"
             ],
             [
              0.3333333333333333,
              "#9c179e"
             ],
             [
              0.4444444444444444,
              "#bd3786"
             ],
             [
              0.5555555555555556,
              "#d8576b"
             ],
             [
              0.6666666666666666,
              "#ed7953"
             ],
             [
              0.7777777777777778,
              "#fb9f3a"
             ],
             [
              0.8888888888888888,
              "#fdca26"
             ],
             [
              1,
              "#f0f921"
             ]
            ],
            "type": "heatmap"
           }
          ],
          "histogram": [
           {
            "marker": {
             "pattern": {
              "fillmode": "overlay",
              "size": 10,
              "solidity": 0.2
             }
            },
            "type": "histogram"
           }
          ],
          "histogram2d": [
           {
            "colorbar": {
             "outlinewidth": 0,
             "ticks": ""
            },
            "colorscale": [
             [
              0,
              "#0d0887"
             ],
             [
              0.1111111111111111,
              "#46039f"
             ],
             [
              0.2222222222222222,
              "#7201a8"
             ],
             [
              0.3333333333333333,
              "#9c179e"
             ],
             [
              0.4444444444444444,
              "#bd3786"
             ],
             [
              0.5555555555555556,
              "#d8576b"
             ],
             [
              0.6666666666666666,
              "#ed7953"
             ],
             [
              0.7777777777777778,
              "#fb9f3a"
             ],
             [
              0.8888888888888888,
              "#fdca26"
             ],
             [
              1,
              "#f0f921"
             ]
            ],
            "type": "histogram2d"
           }
          ],
          "histogram2dcontour": [
           {
            "colorbar": {
             "outlinewidth": 0,
             "ticks": ""
            },
            "colorscale": [
             [
              0,
              "#0d0887"
             ],
             [
              0.1111111111111111,
              "#46039f"
             ],
             [
              0.2222222222222222,
              "#7201a8"
             ],
             [
              0.3333333333333333,
              "#9c179e"
             ],
             [
              0.4444444444444444,
              "#bd3786"
             ],
             [
              0.5555555555555556,
              "#d8576b"
             ],
             [
              0.6666666666666666,
              "#ed7953"
             ],
             [
              0.7777777777777778,
              "#fb9f3a"
             ],
             [
              0.8888888888888888,
              "#fdca26"
             ],
             [
              1,
              "#f0f921"
             ]
            ],
            "type": "histogram2dcontour"
           }
          ],
          "mesh3d": [
           {
            "colorbar": {
             "outlinewidth": 0,
             "ticks": ""
            },
            "type": "mesh3d"
           }
          ],
          "parcoords": [
           {
            "line": {
             "colorbar": {
              "outlinewidth": 0,
              "ticks": ""
             }
            },
            "type": "parcoords"
           }
          ],
          "pie": [
           {
            "automargin": true,
            "type": "pie"
           }
          ],
          "scatter": [
           {
            "fillpattern": {
             "fillmode": "overlay",
             "size": 10,
             "solidity": 0.2
            },
            "type": "scatter"
           }
          ],
          "scatter3d": [
           {
            "line": {
             "colorbar": {
              "outlinewidth": 0,
              "ticks": ""
             }
            },
            "marker": {
             "colorbar": {
              "outlinewidth": 0,
              "ticks": ""
             }
            },
            "type": "scatter3d"
           }
          ],
          "scattercarpet": [
           {
            "marker": {
             "colorbar": {
              "outlinewidth": 0,
              "ticks": ""
             }
            },
            "type": "scattercarpet"
           }
          ],
          "scattergeo": [
           {
            "marker": {
             "colorbar": {
              "outlinewidth": 0,
              "ticks": ""
             }
            },
            "type": "scattergeo"
           }
          ],
          "scattergl": [
           {
            "marker": {
             "colorbar": {
              "outlinewidth": 0,
              "ticks": ""
             }
            },
            "type": "scattergl"
           }
          ],
          "scattermap": [
           {
            "marker": {
             "colorbar": {
              "outlinewidth": 0,
              "ticks": ""
             }
            },
            "type": "scattermap"
           }
          ],
          "scattermapbox": [
           {
            "marker": {
             "colorbar": {
              "outlinewidth": 0,
              "ticks": ""
             }
            },
            "type": "scattermapbox"
           }
          ],
          "scatterpolar": [
           {
            "marker": {
             "colorbar": {
              "outlinewidth": 0,
              "ticks": ""
             }
            },
            "type": "scatterpolar"
           }
          ],
          "scatterpolargl": [
           {
            "marker": {
             "colorbar": {
              "outlinewidth": 0,
              "ticks": ""
             }
            },
            "type": "scatterpolargl"
           }
          ],
          "scatterternary": [
           {
            "marker": {
             "colorbar": {
              "outlinewidth": 0,
              "ticks": ""
             }
            },
            "type": "scatterternary"
           }
          ],
          "surface": [
           {
            "colorbar": {
             "outlinewidth": 0,
             "ticks": ""
            },
            "colorscale": [
             [
              0,
              "#0d0887"
             ],
             [
              0.1111111111111111,
              "#46039f"
             ],
             [
              0.2222222222222222,
              "#7201a8"
             ],
             [
              0.3333333333333333,
              "#9c179e"
             ],
             [
              0.4444444444444444,
              "#bd3786"
             ],
             [
              0.5555555555555556,
              "#d8576b"
             ],
             [
              0.6666666666666666,
              "#ed7953"
             ],
             [
              0.7777777777777778,
              "#fb9f3a"
             ],
             [
              0.8888888888888888,
              "#fdca26"
             ],
             [
              1,
              "#f0f921"
             ]
            ],
            "type": "surface"
           }
          ],
          "table": [
           {
            "cells": {
             "fill": {
              "color": "#EBF0F8"
             },
             "line": {
              "color": "white"
             }
            },
            "header": {
             "fill": {
              "color": "#C8D4E3"
             },
             "line": {
              "color": "white"
             }
            },
            "type": "table"
           }
          ]
         },
         "layout": {
          "annotationdefaults": {
           "arrowcolor": "#2a3f5f",
           "arrowhead": 0,
           "arrowwidth": 1
          },
          "autotypenumbers": "strict",
          "coloraxis": {
           "colorbar": {
            "outlinewidth": 0,
            "ticks": ""
           }
          },
          "colorscale": {
           "diverging": [
            [
             0,
             "#8e0152"
            ],
            [
             0.1,
             "#c51b7d"
            ],
            [
             0.2,
             "#de77ae"
            ],
            [
             0.3,
             "#f1b6da"
            ],
            [
             0.4,
             "#fde0ef"
            ],
            [
             0.5,
             "#f7f7f7"
            ],
            [
             0.6,
             "#e6f5d0"
            ],
            [
             0.7,
             "#b8e186"
            ],
            [
             0.8,
             "#7fbc41"
            ],
            [
             0.9,
             "#4d9221"
            ],
            [
             1,
             "#276419"
            ]
           ],
           "sequential": [
            [
             0,
             "#0d0887"
            ],
            [
             0.1111111111111111,
             "#46039f"
            ],
            [
             0.2222222222222222,
             "#7201a8"
            ],
            [
             0.3333333333333333,
             "#9c179e"
            ],
            [
             0.4444444444444444,
             "#bd3786"
            ],
            [
             0.5555555555555556,
             "#d8576b"
            ],
            [
             0.6666666666666666,
             "#ed7953"
            ],
            [
             0.7777777777777778,
             "#fb9f3a"
            ],
            [
             0.8888888888888888,
             "#fdca26"
            ],
            [
             1,
             "#f0f921"
            ]
           ],
           "sequentialminus": [
            [
             0,
             "#0d0887"
            ],
            [
             0.1111111111111111,
             "#46039f"
            ],
            [
             0.2222222222222222,
             "#7201a8"
            ],
            [
             0.3333333333333333,
             "#9c179e"
            ],
            [
             0.4444444444444444,
             "#bd3786"
            ],
            [
             0.5555555555555556,
             "#d8576b"
            ],
            [
             0.6666666666666666,
             "#ed7953"
            ],
            [
             0.7777777777777778,
             "#fb9f3a"
            ],
            [
             0.8888888888888888,
             "#fdca26"
            ],
            [
             1,
             "#f0f921"
            ]
           ]
          },
          "colorway": [
           "#636efa",
           "#EF553B",
           "#00cc96",
           "#ab63fa",
           "#FFA15A",
           "#19d3f3",
           "#FF6692",
           "#B6E880",
           "#FF97FF",
           "#FECB52"
          ],
          "font": {
           "color": "#2a3f5f"
          },
          "geo": {
           "bgcolor": "white",
           "lakecolor": "white",
           "landcolor": "#E5ECF6",
           "showlakes": true,
           "showland": true,
           "subunitcolor": "white"
          },
          "hoverlabel": {
           "align": "left"
          },
          "hovermode": "closest",
          "mapbox": {
           "style": "light"
          },
          "paper_bgcolor": "white",
          "plot_bgcolor": "#E5ECF6",
          "polar": {
           "angularaxis": {
            "gridcolor": "white",
            "linecolor": "white",
            "ticks": ""
           },
           "bgcolor": "#E5ECF6",
           "radialaxis": {
            "gridcolor": "white",
            "linecolor": "white",
            "ticks": ""
           }
          },
          "scene": {
           "xaxis": {
            "backgroundcolor": "#E5ECF6",
            "gridcolor": "white",
            "gridwidth": 2,
            "linecolor": "white",
            "showbackground": true,
            "ticks": "",
            "zerolinecolor": "white"
           },
           "yaxis": {
            "backgroundcolor": "#E5ECF6",
            "gridcolor": "white",
            "gridwidth": 2,
            "linecolor": "white",
            "showbackground": true,
            "ticks": "",
            "zerolinecolor": "white"
           },
           "zaxis": {
            "backgroundcolor": "#E5ECF6",
            "gridcolor": "white",
            "gridwidth": 2,
            "linecolor": "white",
            "showbackground": true,
            "ticks": "",
            "zerolinecolor": "white"
           }
          },
          "shapedefaults": {
           "line": {
            "color": "#2a3f5f"
           }
          },
          "ternary": {
           "aaxis": {
            "gridcolor": "white",
            "linecolor": "white",
            "ticks": ""
           },
           "baxis": {
            "gridcolor": "white",
            "linecolor": "white",
            "ticks": ""
           },
           "bgcolor": "#E5ECF6",
           "caxis": {
            "gridcolor": "white",
            "linecolor": "white",
            "ticks": ""
           }
          },
          "title": {
           "x": 0.05
          },
          "xaxis": {
           "automargin": true,
           "gridcolor": "white",
           "linecolor": "white",
           "ticks": "",
           "title": {
            "standoff": 15
           },
           "zerolinecolor": "white",
           "zerolinewidth": 2
          },
          "yaxis": {
           "automargin": true,
           "gridcolor": "white",
           "linecolor": "white",
           "ticks": "",
           "title": {
            "standoff": 15
           },
           "zerolinecolor": "white",
           "zerolinewidth": 2
          }
         }
        },
        "title": {
         "text": "Normalized LCS values for P00441 at position 143"
        },
        "xaxis": {
         "anchor": "y",
         "constrain": "domain",
         "domain": [
          0,
          1
         ],
         "scaleanchor": "y",
         "tickmode": "array",
         "ticktext": [
          -7,
          -6,
          -5,
          -4,
          -3,
          -2,
          -1,
          0,
          1,
          2,
          3,
          4,
          5,
          6,
          7
         ],
         "tickvals": [
          1,
          2,
          3,
          4,
          5,
          6,
          7,
          8,
          9,
          10,
          11,
          12,
          13,
          14,
          15
         ],
         "title": {
          "text": "Mutation Position"
         }
        },
        "yaxis": {
         "anchor": "x",
         "autorange": "reversed",
         "constrain": "domain",
         "domain": [
          0,
          1
         ],
         "dtick": 1,
         "tickmode": "linear",
         "title": {
          "text": "Mutated Amino Acid"
         }
        }
       }
      }
     },
     "metadata": {},
     "output_type": "display_data"
    },
    {
     "name": "stdout",
     "output_type": "stream",
     "text": [
      "\n",
      "Rendering heatmap for: P00441_99_heatmap_data.csv\n"
     ]
    },
    {
     "name": "stderr",
     "output_type": "stream",
     "text": [
      "C:\\Users\\ricea\\AppData\\Local\\Temp\\ipykernel_26764\\4146770678.py:9: FutureWarning:\n",
      "\n",
      "The provided callable <function mean at 0x000002D40831D6C0> is currently using DataFrameGroupBy.mean. In a future version of pandas, the provided callable will be used directly. To keep current behavior pass the string \"mean\" instead.\n",
      "\n"
     ]
    },
    {
     "data": {
      "application/vnd.plotly.v1+json": {
       "config": {
        "plotlyServerURL": "https://plot.ly"
       },
       "data": [
        {
         "coloraxis": "coloraxis",
         "hovertemplate": "Mutation Position: %{x}<br>Mutated Amino Acid: %{y}<br>LCS Ratio: %{z}<extra></extra>",
         "name": "0",
         "type": "heatmap",
         "x": {
          "bdata": "AQIDBAUGBwgJCgsMDQ4P",
          "dtype": "i1"
         },
         "xaxis": "x",
         "y": [
          "A",
          "C",
          "D",
          "E",
          "F",
          "G",
          "H",
          "I",
          "K",
          "L",
          "M",
          "N",
          "P",
          "Q",
          "R",
          "S",
          "T",
          "V",
          "W",
          "Y"
         ],
         "yaxis": "y",
         "z": {
          "bdata": "AAAAAAAA8D8AAAAAAADwP/45EoI3ac0/k/OyiE8gxT8AAAAAAAD4f15ouoP9Vrs/Q9Md7LfauD8AAAAAAAD4f0nhMFHmgpo/Usl5WcQnwD9KWqcez665P1LJeVnEJ9A/AAAAAAAA8D8AAAAAAADwPwAAAAAAAPA/AAAAAAAA8D8AAAAAAADwPyE+gVRyXsY/IT6BVHJexj93ds3oK//MPxO39yFbirU/k/OyiE8gxT8AAAAAAAD4fzVMlLmgBrg/Q9Md7LfauD9cUAOM2/vAP6/8cyQEb9I/AAAAAAAA8D8AAAAAAADwPwAAAAAAAPA/AAAAAAAA8D8AAAAAAAD4fwwwbu9DtsQ/iITgTVqnvj/VjL7yz5GwPwAAAAAAAPh/bO9DthQrvD8AAAAAAAD4f+qa0Vf+ObI/7ZrRV/45wj8AAAAAAAD4f4VsKVY4TMQ/AAAAAAAA8D8AAAAAAADwPwAAAAAAAPA/AAAAAAAA8D8AAAAAAADwPwwwbu9DtsQ/Usl5WcQnwD/fE0gl52XBPyE+gVRyXsY/c3bN6Cv/vD8AAAAAAAD4fyE+gVRyXrY/AAAAAAAA+H+LhOBNWqfOPxa39yFbisU/AAAAAAAA8D8AAAAAAADwPwAAAAAAAPA/AAAAAAAA8D8AAAAAAADwP7wP2VKscMg/XFADjNv7wD/VjL7yz5HAP+qa0Vf+ObI/cV4W8Qmkwj8AAAAAAAD4f+2a0Vf+OcI/Q9Md7LfauD9s70O2FCu8PyE+gVRyXsY/AAAAAAAA8D8AAAAAAADwPwAAAAAAAPA/AAAAAAAA8D8AAAAAAADwPwAAAAAAAPh/DDBu70O2xD+8D9lSrHDIP0PTHey32rg/gf1WG0PTrT8AAAAAAAD4f/eo5Lws4pM/IT6BVHJetj9KWqcez665P5ruYL/VxtA/AAAAAAAA8D8AAAAAAADwPwAAAAAAAPA/AAAAAAAA8D8AAAAAAADwP4H9VhtD080/7ZrRV/45wj8Wt/chW4rFP15ouoP9Vrs/3xNIJedlwT8AAAAAAAD4f1LJeVnEJ8A/DDBu70O2tD8CqeS8LOLDP1LJeVnEJ9A/AAAAAAAA8D8AAAAAAADwPwAAAAAAAPA/AAAAAAAA8D8AAAAAAADwP0PTHey32rg/d3bN6Cv/zD/VjL7yz5HAP+qa0Vf+ObI/TVqnHs+uyT8AAAAAAAD4fwAAAAAAAPh/Xmi6g/1Wuz8nxQqHiTK3P0PTHey32sg/AAAAAAAA8D8AAAAAAAD4fwAAAAAAAPA/AAAAAAAA+H8AAAAAAADwPxa39yFbisU/Usl5WcQnwD/fE0gl52XBP44LaoBxe68//qjkvCzisz8AAAAAAAD4f/6o5Lws4rM/SlqnHs+uuT/4IVuKFQ6zP9WMvvLPkcA/AAAAAAAA8D8AAAAAAADwPwAAAAAAAPA/AAAAAAAA8D8AAAAAAADwP3FeFvEJpMI/IT6BVHJexj81TJS5oAa4P9wTSCXnZbE/3xNIJedlwT8AAAAAAAD4f4VsKVY4TMQ/Q9Md7LfauD8hPoFUcl62PzVMlLmgBsg/AAAAAAAA8D8AAAAAAADwPwAAAAAAAPA/AAAAAAAA8D8AAAAAAADwP2zvQ7YUK7w/Ymi6g/1Wyz/tmtFX/jnCPyfFCoeJMrc/Frf3IVuKxT8AAAAAAAD4fwKp5Lws4sM/Q9Md7LfauD/4IVuKFQ6zP5kLaoBxe88/AAAAAAAA8D8AAAAAAADwPwAAAAAAAPA/AAAAAAAA8D8AAAAAAADwP7wP2VKscMg/bO9DthQrvD+dejy7ZvTFP1LJeVnEJ8A/6prRV/45sj8AAAAAAAD4f/6o5Lws4rM/Usl5WcQnwD/VjL7yz5HAP+ETSCXnZdE/AAAAAAAA8D8AAAAAAADwPwAAAAAAAPA/AAAAAAAA8D8AAAAAAADwP/ghW4oVDsM/cV4W8Qmkwj9SyXlZxCfAP+qa0Vf+ObI/J8UKh4kytz8AAAAAAAD4f/eo5Lws4qM//qjkvCzisz9s70O2FCu8P9Ed7LfaGMo/AAAAAAAA8D8AAAAAAADwPwAAAAAAAPA/AAAAAAAA8D8AAAAAAADwPyvFCoeJMsc/Q9Md7LfayD+yiE8glZzHP2zvQ7YUK7w/1Yy+8s+RwD8AAAAAAAD4f3N2zegr/7w/J8UKh4kytz+B/VYbQ9O9PxUrHCbKXNA/AAAAAAAA8D8AAAAAAADwPwAAAAAAAPA/AAAAAAAA8D8AAAAAAADwP/ghW4oVDsM/e+WfIyF4wz/qmtFX/jmyPyE+gVRyXrY/gf1WG0PTvT8AAAAAAAD4f/ghW4oVDrM/IMUKh4kypz/qmtFX/jmyP4H9VhtD070/AAAAAAAA8D8AAAAAAADwPwAAAAAAAPA/AAAAAAAA8D8AAAAAAADwP3vlnyMheMM/nXo8u2b0xT+LhOBNWqfOP+2a0Vf+OcI/7ZrRV/45wj8AAAAAAAD4f4H9VhtD070/NUyUuaAGuD81TJS5oAa4PwAAAAAAAPh/AAAAAAAA8D8AAAAAAADwPwAAAAAAAPh/AAAAAAAA8D8AAAAAAADwP3vlnyMheMM/nXo8u2b0xT+LhOBNWqfOP+2a0Vf+OcI/7ZrRV/45wj/+qOS8LOKzP4H9VhtD070/NUyUuaAGuD81TJS5oAa4PwAAAAAAAPA/AAAAAAAA8D8AAAAAAADwPwAAAAAAAPA/AAAAAAAA8D8AAAAAAADwP2bXjL7yz8E/AAAAAAAA+H/HlmKFw0TJP0PTHey32rg/AAAAAAAA+H8AAAAAAAD4f9Ed7LfaGMo/6prRV/45sj9Y4TBR5oK6P1jhMFHmgso/AAAAAAAA+H8AAAAAAADwPwAAAAAAAPA/AAAAAAAA8D8AAAAAAADwPwKp5Lws4sM/XFADjNv7wD9SyXlZxCfAP4H9VhtD060/iITgTVqnvj8AAAAAAAD4fwwwbu9DtrQ/J8UKh4kytz9s70O2FCu8PzVMlLmgBsg/AAAAAAAA8D8AAAAAAADwPwAAAAAAAPA/AAAAAAAA8D8AAAAAAADwP1xQA4zb+8A/TVqnHs+uyT/4IVuKFQ7DP9WMvvLPkbA/Q9Md7LfauD/W4DBR5oJqv98TSCXnZcE/WOEwUeaCuj9D0x3st9q4PzVMlLmgBsg/AAAAAAAA8D8AAAAAAADwPwAAAAAAAPA/",
          "dtype": "f8",
          "shape": "20, 15"
         }
        }
       ],
       "layout": {
        "coloraxis": {
         "colorbar": {
          "ticktext": [
           "0.0",
           "0.25",
           "0.5",
           "0.75",
           "1.0"
          ],
          "tickvals": [
           0,
           0.25,
           0.5,
           0.75,
           1
          ],
          "title": {
           "text": "LCS Ratio"
          }
         },
         "colorscale": [
          [
           0,
           "rgb(0, 147, 146)"
          ],
          [
           0.16666666666666666,
           "rgb(57, 177, 133)"
          ],
          [
           0.3333333333333333,
           "rgb(156, 203, 134)"
          ],
          [
           0.5,
           "rgb(233, 226, 156)"
          ],
          [
           0.6666666666666666,
           "rgb(238, 180, 121)"
          ],
          [
           0.8333333333333334,
           "rgb(232, 132, 113)"
          ],
          [
           1,
           "rgb(207, 89, 126)"
          ]
         ]
        },
        "plot_bgcolor": "white",
        "template": {
         "data": {
          "bar": [
           {
            "error_x": {
             "color": "#2a3f5f"
            },
            "error_y": {
             "color": "#2a3f5f"
            },
            "marker": {
             "line": {
              "color": "#E5ECF6",
              "width": 0.5
             },
             "pattern": {
              "fillmode": "overlay",
              "size": 10,
              "solidity": 0.2
             }
            },
            "type": "bar"
           }
          ],
          "barpolar": [
           {
            "marker": {
             "line": {
              "color": "#E5ECF6",
              "width": 0.5
             },
             "pattern": {
              "fillmode": "overlay",
              "size": 10,
              "solidity": 0.2
             }
            },
            "type": "barpolar"
           }
          ],
          "carpet": [
           {
            "aaxis": {
             "endlinecolor": "#2a3f5f",
             "gridcolor": "white",
             "linecolor": "white",
             "minorgridcolor": "white",
             "startlinecolor": "#2a3f5f"
            },
            "baxis": {
             "endlinecolor": "#2a3f5f",
             "gridcolor": "white",
             "linecolor": "white",
             "minorgridcolor": "white",
             "startlinecolor": "#2a3f5f"
            },
            "type": "carpet"
           }
          ],
          "choropleth": [
           {
            "colorbar": {
             "outlinewidth": 0,
             "ticks": ""
            },
            "type": "choropleth"
           }
          ],
          "contour": [
           {
            "colorbar": {
             "outlinewidth": 0,
             "ticks": ""
            },
            "colorscale": [
             [
              0,
              "#0d0887"
             ],
             [
              0.1111111111111111,
              "#46039f"
             ],
             [
              0.2222222222222222,
              "#7201a8"
             ],
             [
              0.3333333333333333,
              "#9c179e"
             ],
             [
              0.4444444444444444,
              "#bd3786"
             ],
             [
              0.5555555555555556,
              "#d8576b"
             ],
             [
              0.6666666666666666,
              "#ed7953"
             ],
             [
              0.7777777777777778,
              "#fb9f3a"
             ],
             [
              0.8888888888888888,
              "#fdca26"
             ],
             [
              1,
              "#f0f921"
             ]
            ],
            "type": "contour"
           }
          ],
          "contourcarpet": [
           {
            "colorbar": {
             "outlinewidth": 0,
             "ticks": ""
            },
            "type": "contourcarpet"
           }
          ],
          "heatmap": [
           {
            "colorbar": {
             "outlinewidth": 0,
             "ticks": ""
            },
            "colorscale": [
             [
              0,
              "#0d0887"
             ],
             [
              0.1111111111111111,
              "#46039f"
             ],
             [
              0.2222222222222222,
              "#7201a8"
             ],
             [
              0.3333333333333333,
              "#9c179e"
             ],
             [
              0.4444444444444444,
              "#bd3786"
             ],
             [
              0.5555555555555556,
              "#d8576b"
             ],
             [
              0.6666666666666666,
              "#ed7953"
             ],
             [
              0.7777777777777778,
              "#fb9f3a"
             ],
             [
              0.8888888888888888,
              "#fdca26"
             ],
             [
              1,
              "#f0f921"
             ]
            ],
            "type": "heatmap"
           }
          ],
          "histogram": [
           {
            "marker": {
             "pattern": {
              "fillmode": "overlay",
              "size": 10,
              "solidity": 0.2
             }
            },
            "type": "histogram"
           }
          ],
          "histogram2d": [
           {
            "colorbar": {
             "outlinewidth": 0,
             "ticks": ""
            },
            "colorscale": [
             [
              0,
              "#0d0887"
             ],
             [
              0.1111111111111111,
              "#46039f"
             ],
             [
              0.2222222222222222,
              "#7201a8"
             ],
             [
              0.3333333333333333,
              "#9c179e"
             ],
             [
              0.4444444444444444,
              "#bd3786"
             ],
             [
              0.5555555555555556,
              "#d8576b"
             ],
             [
              0.6666666666666666,
              "#ed7953"
             ],
             [
              0.7777777777777778,
              "#fb9f3a"
             ],
             [
              0.8888888888888888,
              "#fdca26"
             ],
             [
              1,
              "#f0f921"
             ]
            ],
            "type": "histogram2d"
           }
          ],
          "histogram2dcontour": [
           {
            "colorbar": {
             "outlinewidth": 0,
             "ticks": ""
            },
            "colorscale": [
             [
              0,
              "#0d0887"
             ],
             [
              0.1111111111111111,
              "#46039f"
             ],
             [
              0.2222222222222222,
              "#7201a8"
             ],
             [
              0.3333333333333333,
              "#9c179e"
             ],
             [
              0.4444444444444444,
              "#bd3786"
             ],
             [
              0.5555555555555556,
              "#d8576b"
             ],
             [
              0.6666666666666666,
              "#ed7953"
             ],
             [
              0.7777777777777778,
              "#fb9f3a"
             ],
             [
              0.8888888888888888,
              "#fdca26"
             ],
             [
              1,
              "#f0f921"
             ]
            ],
            "type": "histogram2dcontour"
           }
          ],
          "mesh3d": [
           {
            "colorbar": {
             "outlinewidth": 0,
             "ticks": ""
            },
            "type": "mesh3d"
           }
          ],
          "parcoords": [
           {
            "line": {
             "colorbar": {
              "outlinewidth": 0,
              "ticks": ""
             }
            },
            "type": "parcoords"
           }
          ],
          "pie": [
           {
            "automargin": true,
            "type": "pie"
           }
          ],
          "scatter": [
           {
            "fillpattern": {
             "fillmode": "overlay",
             "size": 10,
             "solidity": 0.2
            },
            "type": "scatter"
           }
          ],
          "scatter3d": [
           {
            "line": {
             "colorbar": {
              "outlinewidth": 0,
              "ticks": ""
             }
            },
            "marker": {
             "colorbar": {
              "outlinewidth": 0,
              "ticks": ""
             }
            },
            "type": "scatter3d"
           }
          ],
          "scattercarpet": [
           {
            "marker": {
             "colorbar": {
              "outlinewidth": 0,
              "ticks": ""
             }
            },
            "type": "scattercarpet"
           }
          ],
          "scattergeo": [
           {
            "marker": {
             "colorbar": {
              "outlinewidth": 0,
              "ticks": ""
             }
            },
            "type": "scattergeo"
           }
          ],
          "scattergl": [
           {
            "marker": {
             "colorbar": {
              "outlinewidth": 0,
              "ticks": ""
             }
            },
            "type": "scattergl"
           }
          ],
          "scattermap": [
           {
            "marker": {
             "colorbar": {
              "outlinewidth": 0,
              "ticks": ""
             }
            },
            "type": "scattermap"
           }
          ],
          "scattermapbox": [
           {
            "marker": {
             "colorbar": {
              "outlinewidth": 0,
              "ticks": ""
             }
            },
            "type": "scattermapbox"
           }
          ],
          "scatterpolar": [
           {
            "marker": {
             "colorbar": {
              "outlinewidth": 0,
              "ticks": ""
             }
            },
            "type": "scatterpolar"
           }
          ],
          "scatterpolargl": [
           {
            "marker": {
             "colorbar": {
              "outlinewidth": 0,
              "ticks": ""
             }
            },
            "type": "scatterpolargl"
           }
          ],
          "scatterternary": [
           {
            "marker": {
             "colorbar": {
              "outlinewidth": 0,
              "ticks": ""
             }
            },
            "type": "scatterternary"
           }
          ],
          "surface": [
           {
            "colorbar": {
             "outlinewidth": 0,
             "ticks": ""
            },
            "colorscale": [
             [
              0,
              "#0d0887"
             ],
             [
              0.1111111111111111,
              "#46039f"
             ],
             [
              0.2222222222222222,
              "#7201a8"
             ],
             [
              0.3333333333333333,
              "#9c179e"
             ],
             [
              0.4444444444444444,
              "#bd3786"
             ],
             [
              0.5555555555555556,
              "#d8576b"
             ],
             [
              0.6666666666666666,
              "#ed7953"
             ],
             [
              0.7777777777777778,
              "#fb9f3a"
             ],
             [
              0.8888888888888888,
              "#fdca26"
             ],
             [
              1,
              "#f0f921"
             ]
            ],
            "type": "surface"
           }
          ],
          "table": [
           {
            "cells": {
             "fill": {
              "color": "#EBF0F8"
             },
             "line": {
              "color": "white"
             }
            },
            "header": {
             "fill": {
              "color": "#C8D4E3"
             },
             "line": {
              "color": "white"
             }
            },
            "type": "table"
           }
          ]
         },
         "layout": {
          "annotationdefaults": {
           "arrowcolor": "#2a3f5f",
           "arrowhead": 0,
           "arrowwidth": 1
          },
          "autotypenumbers": "strict",
          "coloraxis": {
           "colorbar": {
            "outlinewidth": 0,
            "ticks": ""
           }
          },
          "colorscale": {
           "diverging": [
            [
             0,
             "#8e0152"
            ],
            [
             0.1,
             "#c51b7d"
            ],
            [
             0.2,
             "#de77ae"
            ],
            [
             0.3,
             "#f1b6da"
            ],
            [
             0.4,
             "#fde0ef"
            ],
            [
             0.5,
             "#f7f7f7"
            ],
            [
             0.6,
             "#e6f5d0"
            ],
            [
             0.7,
             "#b8e186"
            ],
            [
             0.8,
             "#7fbc41"
            ],
            [
             0.9,
             "#4d9221"
            ],
            [
             1,
             "#276419"
            ]
           ],
           "sequential": [
            [
             0,
             "#0d0887"
            ],
            [
             0.1111111111111111,
             "#46039f"
            ],
            [
             0.2222222222222222,
             "#7201a8"
            ],
            [
             0.3333333333333333,
             "#9c179e"
            ],
            [
             0.4444444444444444,
             "#bd3786"
            ],
            [
             0.5555555555555556,
             "#d8576b"
            ],
            [
             0.6666666666666666,
             "#ed7953"
            ],
            [
             0.7777777777777778,
             "#fb9f3a"
            ],
            [
             0.8888888888888888,
             "#fdca26"
            ],
            [
             1,
             "#f0f921"
            ]
           ],
           "sequentialminus": [
            [
             0,
             "#0d0887"
            ],
            [
             0.1111111111111111,
             "#46039f"
            ],
            [
             0.2222222222222222,
             "#7201a8"
            ],
            [
             0.3333333333333333,
             "#9c179e"
            ],
            [
             0.4444444444444444,
             "#bd3786"
            ],
            [
             0.5555555555555556,
             "#d8576b"
            ],
            [
             0.6666666666666666,
             "#ed7953"
            ],
            [
             0.7777777777777778,
             "#fb9f3a"
            ],
            [
             0.8888888888888888,
             "#fdca26"
            ],
            [
             1,
             "#f0f921"
            ]
           ]
          },
          "colorway": [
           "#636efa",
           "#EF553B",
           "#00cc96",
           "#ab63fa",
           "#FFA15A",
           "#19d3f3",
           "#FF6692",
           "#B6E880",
           "#FF97FF",
           "#FECB52"
          ],
          "font": {
           "color": "#2a3f5f"
          },
          "geo": {
           "bgcolor": "white",
           "lakecolor": "white",
           "landcolor": "#E5ECF6",
           "showlakes": true,
           "showland": true,
           "subunitcolor": "white"
          },
          "hoverlabel": {
           "align": "left"
          },
          "hovermode": "closest",
          "mapbox": {
           "style": "light"
          },
          "paper_bgcolor": "white",
          "plot_bgcolor": "#E5ECF6",
          "polar": {
           "angularaxis": {
            "gridcolor": "white",
            "linecolor": "white",
            "ticks": ""
           },
           "bgcolor": "#E5ECF6",
           "radialaxis": {
            "gridcolor": "white",
            "linecolor": "white",
            "ticks": ""
           }
          },
          "scene": {
           "xaxis": {
            "backgroundcolor": "#E5ECF6",
            "gridcolor": "white",
            "gridwidth": 2,
            "linecolor": "white",
            "showbackground": true,
            "ticks": "",
            "zerolinecolor": "white"
           },
           "yaxis": {
            "backgroundcolor": "#E5ECF6",
            "gridcolor": "white",
            "gridwidth": 2,
            "linecolor": "white",
            "showbackground": true,
            "ticks": "",
            "zerolinecolor": "white"
           },
           "zaxis": {
            "backgroundcolor": "#E5ECF6",
            "gridcolor": "white",
            "gridwidth": 2,
            "linecolor": "white",
            "showbackground": true,
            "ticks": "",
            "zerolinecolor": "white"
           }
          },
          "shapedefaults": {
           "line": {
            "color": "#2a3f5f"
           }
          },
          "ternary": {
           "aaxis": {
            "gridcolor": "white",
            "linecolor": "white",
            "ticks": ""
           },
           "baxis": {
            "gridcolor": "white",
            "linecolor": "white",
            "ticks": ""
           },
           "bgcolor": "#E5ECF6",
           "caxis": {
            "gridcolor": "white",
            "linecolor": "white",
            "ticks": ""
           }
          },
          "title": {
           "x": 0.05
          },
          "xaxis": {
           "automargin": true,
           "gridcolor": "white",
           "linecolor": "white",
           "ticks": "",
           "title": {
            "standoff": 15
           },
           "zerolinecolor": "white",
           "zerolinewidth": 2
          },
          "yaxis": {
           "automargin": true,
           "gridcolor": "white",
           "linecolor": "white",
           "ticks": "",
           "title": {
            "standoff": 15
           },
           "zerolinecolor": "white",
           "zerolinewidth": 2
          }
         }
        },
        "title": {
         "text": "Normalized LCS values for P00441 at position 99"
        },
        "xaxis": {
         "anchor": "y",
         "constrain": "domain",
         "domain": [
          0,
          1
         ],
         "scaleanchor": "y",
         "tickmode": "array",
         "ticktext": [
          -7,
          -6,
          -5,
          -4,
          -3,
          -2,
          -1,
          0,
          1,
          2,
          3,
          4,
          5,
          6,
          7
         ],
         "tickvals": [
          1,
          2,
          3,
          4,
          5,
          6,
          7,
          8,
          9,
          10,
          11,
          12,
          13,
          14,
          15
         ],
         "title": {
          "text": "Mutation Position"
         }
        },
        "yaxis": {
         "anchor": "x",
         "autorange": "reversed",
         "constrain": "domain",
         "domain": [
          0,
          1
         ],
         "dtick": 1,
         "tickmode": "linear",
         "title": {
          "text": "Mutated Amino Acid"
         }
        }
       }
      }
     },
     "metadata": {},
     "output_type": "display_data"
    },
    {
     "name": "stdout",
     "output_type": "stream",
     "text": [
      "\n",
      "Rendering heatmap for: P00558_168_heatmap_data.csv\n"
     ]
    },
    {
     "name": "stderr",
     "output_type": "stream",
     "text": [
      "C:\\Users\\ricea\\AppData\\Local\\Temp\\ipykernel_26764\\4146770678.py:9: FutureWarning:\n",
      "\n",
      "The provided callable <function mean at 0x000002D40831D6C0> is currently using DataFrameGroupBy.mean. In a future version of pandas, the provided callable will be used directly. To keep current behavior pass the string \"mean\" instead.\n",
      "\n"
     ]
    },
    {
     "data": {
      "application/vnd.plotly.v1+json": {
       "config": {
        "plotlyServerURL": "https://plot.ly"
       },
       "data": [
        {
         "coloraxis": "coloraxis",
         "hovertemplate": "Mutation Position: %{x}<br>Mutated Amino Acid: %{y}<br>LCS Ratio: %{z}<extra></extra>",
         "name": "0",
         "type": "heatmap",
         "x": {
          "bdata": "AQIDBAUGBwgJCgsMDQ4P",
          "dtype": "i1"
         },
         "xaxis": "x",
         "y": [
          "A",
          "C",
          "D",
          "E",
          "F",
          "G",
          "H",
          "I",
          "K",
          "L",
          "M",
          "N",
          "P",
          "Q",
          "R",
          "S",
          "T",
          "V",
          "W",
          "Y"
         ],
         "yaxis": "y",
         "z": {
          "bdata": "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",
          "dtype": "f8",
          "shape": "20, 15"
         }
        }
       ],
       "layout": {
        "coloraxis": {
         "colorbar": {
          "ticktext": [
           "0.0",
           "0.25",
           "0.5",
           "0.75",
           "1.0"
          ],
          "tickvals": [
           0,
           0.25,
           0.5,
           0.75,
           1
          ],
          "title": {
           "text": "LCS Ratio"
          }
         },
         "colorscale": [
          [
           0,
           "rgb(0, 147, 146)"
          ],
          [
           0.16666666666666666,
           "rgb(57, 177, 133)"
          ],
          [
           0.3333333333333333,
           "rgb(156, 203, 134)"
          ],
          [
           0.5,
           "rgb(233, 226, 156)"
          ],
          [
           0.6666666666666666,
           "rgb(238, 180, 121)"
          ],
          [
           0.8333333333333334,
           "rgb(232, 132, 113)"
          ],
          [
           1,
           "rgb(207, 89, 126)"
          ]
         ]
        },
        "plot_bgcolor": "white",
        "template": {
         "data": {
          "bar": [
           {
            "error_x": {
             "color": "#2a3f5f"
            },
            "error_y": {
             "color": "#2a3f5f"
            },
            "marker": {
             "line": {
              "color": "#E5ECF6",
              "width": 0.5
             },
             "pattern": {
              "fillmode": "overlay",
              "size": 10,
              "solidity": 0.2
             }
            },
            "type": "bar"
           }
          ],
          "barpolar": [
           {
            "marker": {
             "line": {
              "color": "#E5ECF6",
              "width": 0.5
             },
             "pattern": {
              "fillmode": "overlay",
              "size": 10,
              "solidity": 0.2
             }
            },
            "type": "barpolar"
           }
          ],
          "carpet": [
           {
            "aaxis": {
             "endlinecolor": "#2a3f5f",
             "gridcolor": "white",
             "linecolor": "white",
             "minorgridcolor": "white",
             "startlinecolor": "#2a3f5f"
            },
            "baxis": {
             "endlinecolor": "#2a3f5f",
             "gridcolor": "white",
             "linecolor": "white",
             "minorgridcolor": "white",
             "startlinecolor": "#2a3f5f"
            },
            "type": "carpet"
           }
          ],
          "choropleth": [
           {
            "colorbar": {
             "outlinewidth": 0,
             "ticks": ""
            },
            "type": "choropleth"
           }
          ],
          "contour": [
           {
            "colorbar": {
             "outlinewidth": 0,
             "ticks": ""
            },
            "colorscale": [
             [
              0,
              "#0d0887"
             ],
             [
              0.1111111111111111,
              "#46039f"
             ],
             [
              0.2222222222222222,
              "#7201a8"
             ],
             [
              0.3333333333333333,
              "#9c179e"
             ],
             [
              0.4444444444444444,
              "#bd3786"
             ],
             [
              0.5555555555555556,
              "#d8576b"
             ],
             [
              0.6666666666666666,
              "#ed7953"
             ],
             [
              0.7777777777777778,
              "#fb9f3a"
             ],
             [
              0.8888888888888888,
              "#fdca26"
             ],
             [
              1,
              "#f0f921"
             ]
            ],
            "type": "contour"
           }
          ],
          "contourcarpet": [
           {
            "colorbar": {
             "outlinewidth": 0,
             "ticks": ""
            },
            "type": "contourcarpet"
           }
          ],
          "heatmap": [
           {
            "colorbar": {
             "outlinewidth": 0,
             "ticks": ""
            },
            "colorscale": [
             [
              0,
              "#0d0887"
             ],
             [
              0.1111111111111111,
              "#46039f"
             ],
             [
              0.2222222222222222,
              "#7201a8"
             ],
             [
              0.3333333333333333,
              "#9c179e"
             ],
             [
              0.4444444444444444,
              "#bd3786"
             ],
             [
              0.5555555555555556,
              "#d8576b"
             ],
             [
              0.6666666666666666,
              "#ed7953"
             ],
             [
              0.7777777777777778,
              "#fb9f3a"
             ],
             [
              0.8888888888888888,
              "#fdca26"
             ],
             [
              1,
              "#f0f921"
             ]
            ],
            "type": "heatmap"
           }
          ],
          "histogram": [
           {
            "marker": {
             "pattern": {
              "fillmode": "overlay",
              "size": 10,
              "solidity": 0.2
             }
            },
            "type": "histogram"
           }
          ],
          "histogram2d": [
           {
            "colorbar": {
             "outlinewidth": 0,
             "ticks": ""
            },
            "colorscale": [
             [
              0,
              "#0d0887"
             ],
             [
              0.1111111111111111,
              "#46039f"
             ],
             [
              0.2222222222222222,
              "#7201a8"
             ],
             [
              0.3333333333333333,
              "#9c179e"
             ],
             [
              0.4444444444444444,
              "#bd3786"
             ],
             [
              0.5555555555555556,
              "#d8576b"
             ],
             [
              0.6666666666666666,
              "#ed7953"
             ],
             [
              0.7777777777777778,
              "#fb9f3a"
             ],
             [
              0.8888888888888888,
              "#fdca26"
             ],
             [
              1,
              "#f0f921"
             ]
            ],
            "type": "histogram2d"
           }
          ],
          "histogram2dcontour": [
           {
            "colorbar": {
             "outlinewidth": 0,
             "ticks": ""
            },
            "colorscale": [
             [
              0,
              "#0d0887"
             ],
             [
              0.1111111111111111,
              "#46039f"
             ],
             [
              0.2222222222222222,
              "#7201a8"
             ],
             [
              0.3333333333333333,
              "#9c179e"
             ],
             [
              0.4444444444444444,
              "#bd3786"
             ],
             [
              0.5555555555555556,
              "#d8576b"
             ],
             [
              0.6666666666666666,
              "#ed7953"
             ],
             [
              0.7777777777777778,
              "#fb9f3a"
             ],
             [
              0.8888888888888888,
              "#fdca26"
             ],
             [
              1,
              "#f0f921"
             ]
            ],
            "type": "histogram2dcontour"
           }
          ],
          "mesh3d": [
           {
            "colorbar": {
             "outlinewidth": 0,
             "ticks": ""
            },
            "type": "mesh3d"
           }
          ],
          "parcoords": [
           {
            "line": {
             "colorbar": {
              "outlinewidth": 0,
              "ticks": ""
             }
            },
            "type": "parcoords"
           }
          ],
          "pie": [
           {
            "automargin": true,
            "type": "pie"
           }
          ],
          "scatter": [
           {
            "fillpattern": {
             "fillmode": "overlay",
             "size": 10,
             "solidity": 0.2
            },
            "type": "scatter"
           }
          ],
          "scatter3d": [
           {
            "line": {
             "colorbar": {
              "outlinewidth": 0,
              "ticks": ""
             }
            },
            "marker": {
             "colorbar": {
              "outlinewidth": 0,
              "ticks": ""
             }
            },
            "type": "scatter3d"
           }
          ],
          "scattercarpet": [
           {
            "marker": {
             "colorbar": {
              "outlinewidth": 0,
              "ticks": ""
             }
            },
            "type": "scattercarpet"
           }
          ],
          "scattergeo": [
           {
            "marker": {
             "colorbar": {
              "outlinewidth": 0,
              "ticks": ""
             }
            },
            "type": "scattergeo"
           }
          ],
          "scattergl": [
           {
            "marker": {
             "colorbar": {
              "outlinewidth": 0,
              "ticks": ""
             }
            },
            "type": "scattergl"
           }
          ],
          "scattermap": [
           {
            "marker": {
             "colorbar": {
              "outlinewidth": 0,
              "ticks": ""
             }
            },
            "type": "scattermap"
           }
          ],
          "scattermapbox": [
           {
            "marker": {
             "colorbar": {
              "outlinewidth": 0,
              "ticks": ""
             }
            },
            "type": "scattermapbox"
           }
          ],
          "scatterpolar": [
           {
            "marker": {
             "colorbar": {
              "outlinewidth": 0,
              "ticks": ""
             }
            },
            "type": "scatterpolar"
           }
          ],
          "scatterpolargl": [
           {
            "marker": {
             "colorbar": {
              "outlinewidth": 0,
              "ticks": ""
             }
            },
            "type": "scatterpolargl"
           }
          ],
          "scatterternary": [
           {
            "marker": {
             "colorbar": {
              "outlinewidth": 0,
              "ticks": ""
             }
            },
            "type": "scatterternary"
           }
          ],
          "surface": [
           {
            "colorbar": {
             "outlinewidth": 0,
             "ticks": ""
            },
            "colorscale": [
             [
              0,
              "#0d0887"
             ],
             [
              0.1111111111111111,
              "#46039f"
             ],
             [
              0.2222222222222222,
              "#7201a8"
             ],
             [
              0.3333333333333333,
              "#9c179e"
             ],
             [
              0.4444444444444444,
              "#bd3786"
             ],
             [
              0.5555555555555556,
              "#d8576b"
             ],
             [
              0.6666666666666666,
              "#ed7953"
             ],
             [
              0.7777777777777778,
              "#fb9f3a"
             ],
             [
              0.8888888888888888,
              "#fdca26"
             ],
             [
              1,
              "#f0f921"
             ]
            ],
            "type": "surface"
           }
          ],
          "table": [
           {
            "cells": {
             "fill": {
              "color": "#EBF0F8"
             },
             "line": {
              "color": "white"
             }
            },
            "header": {
             "fill": {
              "color": "#C8D4E3"
             },
             "line": {
              "color": "white"
             }
            },
            "type": "table"
           }
          ]
         },
         "layout": {
          "annotationdefaults": {
           "arrowcolor": "#2a3f5f",
           "arrowhead": 0,
           "arrowwidth": 1
          },
          "autotypenumbers": "strict",
          "coloraxis": {
           "colorbar": {
            "outlinewidth": 0,
            "ticks": ""
           }
          },
          "colorscale": {
           "diverging": [
            [
             0,
             "#8e0152"
            ],
            [
             0.1,
             "#c51b7d"
            ],
            [
             0.2,
             "#de77ae"
            ],
            [
             0.3,
             "#f1b6da"
            ],
            [
             0.4,
             "#fde0ef"
            ],
            [
             0.5,
             "#f7f7f7"
            ],
            [
             0.6,
             "#e6f5d0"
            ],
            [
             0.7,
             "#b8e186"
            ],
            [
             0.8,
             "#7fbc41"
            ],
            [
             0.9,
             "#4d9221"
            ],
            [
             1,
             "#276419"
            ]
           ],
           "sequential": [
            [
             0,
             "#0d0887"
            ],
            [
             0.1111111111111111,
             "#46039f"
            ],
            [
             0.2222222222222222,
             "#7201a8"
            ],
            [
             0.3333333333333333,
             "#9c179e"
            ],
            [
             0.4444444444444444,
             "#bd3786"
            ],
            [
             0.5555555555555556,
             "#d8576b"
            ],
            [
             0.6666666666666666,
             "#ed7953"
            ],
            [
             0.7777777777777778,
             "#fb9f3a"
            ],
            [
             0.8888888888888888,
             "#fdca26"
            ],
            [
             1,
             "#f0f921"
            ]
           ],
           "sequentialminus": [
            [
             0,
             "#0d0887"
            ],
            [
             0.1111111111111111,
             "#46039f"
            ],
            [
             0.2222222222222222,
             "#7201a8"
            ],
            [
             0.3333333333333333,
             "#9c179e"
            ],
            [
             0.4444444444444444,
             "#bd3786"
            ],
            [
             0.5555555555555556,
             "#d8576b"
            ],
            [
             0.6666666666666666,
             "#ed7953"
            ],
            [
             0.7777777777777778,
             "#fb9f3a"
            ],
            [
             0.8888888888888888,
             "#fdca26"
            ],
            [
             1,
             "#f0f921"
            ]
           ]
          },
          "colorway": [
           "#636efa",
           "#EF553B",
           "#00cc96",
           "#ab63fa",
           "#FFA15A",
           "#19d3f3",
           "#FF6692",
           "#B6E880",
           "#FF97FF",
           "#FECB52"
          ],
          "font": {
           "color": "#2a3f5f"
          },
          "geo": {
           "bgcolor": "white",
           "lakecolor": "white",
           "landcolor": "#E5ECF6",
           "showlakes": true,
           "showland": true,
           "subunitcolor": "white"
          },
          "hoverlabel": {
           "align": "left"
          },
          "hovermode": "closest",
          "mapbox": {
           "style": "light"
          },
          "paper_bgcolor": "white",
          "plot_bgcolor": "#E5ECF6",
          "polar": {
           "angularaxis": {
            "gridcolor": "white",
            "linecolor": "white",
            "ticks": ""
           },
           "bgcolor": "#E5ECF6",
           "radialaxis": {
            "gridcolor": "white",
            "linecolor": "white",
            "ticks": ""
           }
          },
          "scene": {
           "xaxis": {
            "backgroundcolor": "#E5ECF6",
            "gridcolor": "white",
            "gridwidth": 2,
            "linecolor": "white",
            "showbackground": true,
            "ticks": "",
            "zerolinecolor": "white"
           },
           "yaxis": {
            "backgroundcolor": "#E5ECF6",
            "gridcolor": "white",
            "gridwidth": 2,
            "linecolor": "white",
            "showbackground": true,
            "ticks": "",
            "zerolinecolor": "white"
           },
           "zaxis": {
            "backgroundcolor": "#E5ECF6",
            "gridcolor": "white",
            "gridwidth": 2,
            "linecolor": "white",
            "showbackground": true,
            "ticks": "",
            "zerolinecolor": "white"
           }
          },
          "shapedefaults": {
           "line": {
            "color": "#2a3f5f"
           }
          },
          "ternary": {
           "aaxis": {
            "gridcolor": "white",
            "linecolor": "white",
            "ticks": ""
           },
           "baxis": {
            "gridcolor": "white",
            "linecolor": "white",
            "ticks": ""
           },
           "bgcolor": "#E5ECF6",
           "caxis": {
            "gridcolor": "white",
            "linecolor": "white",
            "ticks": ""
           }
          },
          "title": {
           "x": 0.05
          },
          "xaxis": {
           "automargin": true,
           "gridcolor": "white",
           "linecolor": "white",
           "ticks": "",
           "title": {
            "standoff": 15
           },
           "zerolinecolor": "white",
           "zerolinewidth": 2
          },
          "yaxis": {
           "automargin": true,
           "gridcolor": "white",
           "linecolor": "white",
           "ticks": "",
           "title": {
            "standoff": 15
           },
           "zerolinecolor": "white",
           "zerolinewidth": 2
          }
         }
        },
        "title": {
         "text": "Normalized LCS values for P00558 at position 168"
        },
        "xaxis": {
         "anchor": "y",
         "constrain": "domain",
         "domain": [
          0,
          1
         ],
         "scaleanchor": "y",
         "tickmode": "array",
         "ticktext": [
          -7,
          -6,
          -5,
          -4,
          -3,
          -2,
          -1,
          0,
          1,
          2,
          3,
          4,
          5,
          6,
          7
         ],
         "tickvals": [
          1,
          2,
          3,
          4,
          5,
          6,
          7,
          8,
          9,
          10,
          11,
          12,
          13,
          14,
          15
         ],
         "title": {
          "text": "Mutation Position"
         }
        },
        "yaxis": {
         "anchor": "x",
         "autorange": "reversed",
         "constrain": "domain",
         "domain": [
          0,
          1
         ],
         "dtick": 1,
         "tickmode": "linear",
         "title": {
          "text": "Mutated Amino Acid"
         }
        }
       }
      }
     },
     "metadata": {},
     "output_type": "display_data"
    },
    {
     "name": "stdout",
     "output_type": "stream",
     "text": [
      "\n",
      "Rendering heatmap for: P26358_549_heatmap_data.csv\n"
     ]
    },
    {
     "name": "stderr",
     "output_type": "stream",
     "text": [
      "C:\\Users\\ricea\\AppData\\Local\\Temp\\ipykernel_26764\\4146770678.py:9: FutureWarning:\n",
      "\n",
      "The provided callable <function mean at 0x000002D40831D6C0> is currently using DataFrameGroupBy.mean. In a future version of pandas, the provided callable will be used directly. To keep current behavior pass the string \"mean\" instead.\n",
      "\n"
     ]
    },
    {
     "data": {
      "application/vnd.plotly.v1+json": {
       "config": {
        "plotlyServerURL": "https://plot.ly"
       },
       "data": [
        {
         "coloraxis": "coloraxis",
         "hovertemplate": "Mutation Position: %{x}<br>Mutated Amino Acid: %{y}<br>LCS Ratio: %{z}<extra></extra>",
         "name": "0",
         "type": "heatmap",
         "x": {
          "bdata": "AQIDBAUGBwgJCgsMDQ4P",
          "dtype": "i1"
         },
         "xaxis": "x",
         "y": [
          "A",
          "C",
          "D",
          "E",
          "F",
          "G",
          "H",
          "I",
          "K",
          "L",
          "M",
          "N",
          "P",
          "Q",
          "R",
          "S",
          "T",
          "V",
          "W",
          "Y"
         ],
         "yaxis": "y",
         "z": {
          "bdata": "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",
          "dtype": "f8",
          "shape": "20, 15"
         }
        }
       ],
       "layout": {
        "coloraxis": {
         "colorbar": {
          "ticktext": [
           "0.0",
           "0.25",
           "0.5",
           "0.75",
           "1.0"
          ],
          "tickvals": [
           0,
           0.25,
           0.5,
           0.75,
           1
          ],
          "title": {
           "text": "LCS Ratio"
          }
         },
         "colorscale": [
          [
           0,
           "rgb(0, 147, 146)"
          ],
          [
           0.16666666666666666,
           "rgb(57, 177, 133)"
          ],
          [
           0.3333333333333333,
           "rgb(156, 203, 134)"
          ],
          [
           0.5,
           "rgb(233, 226, 156)"
          ],
          [
           0.6666666666666666,
           "rgb(238, 180, 121)"
          ],
          [
           0.8333333333333334,
           "rgb(232, 132, 113)"
          ],
          [
           1,
           "rgb(207, 89, 126)"
          ]
         ]
        },
        "plot_bgcolor": "white",
        "template": {
         "data": {
          "bar": [
           {
            "error_x": {
             "color": "#2a3f5f"
            },
            "error_y": {
             "color": "#2a3f5f"
            },
            "marker": {
             "line": {
              "color": "#E5ECF6",
              "width": 0.5
             },
             "pattern": {
              "fillmode": "overlay",
              "size": 10,
              "solidity": 0.2
             }
            },
            "type": "bar"
           }
          ],
          "barpolar": [
           {
            "marker": {
             "line": {
              "color": "#E5ECF6",
              "width": 0.5
             },
             "pattern": {
              "fillmode": "overlay",
              "size": 10,
              "solidity": 0.2
             }
            },
            "type": "barpolar"
           }
          ],
          "carpet": [
           {
            "aaxis": {
             "endlinecolor": "#2a3f5f",
             "gridcolor": "white",
             "linecolor": "white",
             "minorgridcolor": "white",
             "startlinecolor": "#2a3f5f"
            },
            "baxis": {
             "endlinecolor": "#2a3f5f",
             "gridcolor": "white",
             "linecolor": "white",
             "minorgridcolor": "white",
             "startlinecolor": "#2a3f5f"
            },
            "type": "carpet"
           }
          ],
          "choropleth": [
           {
            "colorbar": {
             "outlinewidth": 0,
             "ticks": ""
            },
            "type": "choropleth"
           }
          ],
          "contour": [
           {
            "colorbar": {
             "outlinewidth": 0,
             "ticks": ""
            },
            "colorscale": [
             [
              0,
              "#0d0887"
             ],
             [
              0.1111111111111111,
              "#46039f"
             ],
             [
              0.2222222222222222,
              "#7201a8"
             ],
             [
              0.3333333333333333,
              "#9c179e"
             ],
             [
              0.4444444444444444,
              "#bd3786"
             ],
             [
              0.5555555555555556,
              "#d8576b"
             ],
             [
              0.6666666666666666,
              "#ed7953"
             ],
             [
              0.7777777777777778,
              "#fb9f3a"
             ],
             [
              0.8888888888888888,
              "#fdca26"
             ],
             [
              1,
              "#f0f921"
             ]
            ],
            "type": "contour"
           }
          ],
          "contourcarpet": [
           {
            "colorbar": {
             "outlinewidth": 0,
             "ticks": ""
            },
            "type": "contourcarpet"
           }
          ],
          "heatmap": [
           {
            "colorbar": {
             "outlinewidth": 0,
             "ticks": ""
            },
            "colorscale": [
             [
              0,
              "#0d0887"
             ],
             [
              0.1111111111111111,
              "#46039f"
             ],
             [
              0.2222222222222222,
              "#7201a8"
             ],
             [
              0.3333333333333333,
              "#9c179e"
             ],
             [
              0.4444444444444444,
              "#bd3786"
             ],
             [
              0.5555555555555556,
              "#d8576b"
             ],
             [
              0.6666666666666666,
              "#ed7953"
             ],
             [
              0.7777777777777778,
              "#fb9f3a"
             ],
             [
              0.8888888888888888,
              "#fdca26"
             ],
             [
              1,
              "#f0f921"
             ]
            ],
            "type": "heatmap"
           }
          ],
          "histogram": [
           {
            "marker": {
             "pattern": {
              "fillmode": "overlay",
              "size": 10,
              "solidity": 0.2
             }
            },
            "type": "histogram"
           }
          ],
          "histogram2d": [
           {
            "colorbar": {
             "outlinewidth": 0,
             "ticks": ""
            },
            "colorscale": [
             [
              0,
              "#0d0887"
             ],
             [
              0.1111111111111111,
              "#46039f"
             ],
             [
              0.2222222222222222,
              "#7201a8"
             ],
             [
              0.3333333333333333,
              "#9c179e"
             ],
             [
              0.4444444444444444,
              "#bd3786"
             ],
             [
              0.5555555555555556,
              "#d8576b"
             ],
             [
              0.6666666666666666,
              "#ed7953"
             ],
             [
              0.7777777777777778,
              "#fb9f3a"
             ],
             [
              0.8888888888888888,
              "#fdca26"
             ],
             [
              1,
              "#f0f921"
             ]
            ],
            "type": "histogram2d"
           }
          ],
          "histogram2dcontour": [
           {
            "colorbar": {
             "outlinewidth": 0,
             "ticks": ""
            },
            "colorscale": [
             [
              0,
              "#0d0887"
             ],
             [
              0.1111111111111111,
              "#46039f"
             ],
             [
              0.2222222222222222,
              "#7201a8"
             ],
             [
              0.3333333333333333,
              "#9c179e"
             ],
             [
              0.4444444444444444,
              "#bd3786"
             ],
             [
              0.5555555555555556,
              "#d8576b"
             ],
             [
              0.6666666666666666,
              "#ed7953"
             ],
             [
              0.7777777777777778,
              "#fb9f3a"
             ],
             [
              0.8888888888888888,
              "#fdca26"
             ],
             [
              1,
              "#f0f921"
             ]
            ],
            "type": "histogram2dcontour"
           }
          ],
          "mesh3d": [
           {
            "colorbar": {
             "outlinewidth": 0,
             "ticks": ""
            },
            "type": "mesh3d"
           }
          ],
          "parcoords": [
           {
            "line": {
             "colorbar": {
              "outlinewidth": 0,
              "ticks": ""
             }
            },
            "type": "parcoords"
           }
          ],
          "pie": [
           {
            "automargin": true,
            "type": "pie"
           }
          ],
          "scatter": [
           {
            "fillpattern": {
             "fillmode": "overlay",
             "size": 10,
             "solidity": 0.2
            },
            "type": "scatter"
           }
          ],
          "scatter3d": [
           {
            "line": {
             "colorbar": {
              "outlinewidth": 0,
              "ticks": ""
             }
            },
            "marker": {
             "colorbar": {
              "outlinewidth": 0,
              "ticks": ""
             }
            },
            "type": "scatter3d"
           }
          ],
          "scattercarpet": [
           {
            "marker": {
             "colorbar": {
              "outlinewidth": 0,
              "ticks": ""
             }
            },
            "type": "scattercarpet"
           }
          ],
          "scattergeo": [
           {
            "marker": {
             "colorbar": {
              "outlinewidth": 0,
              "ticks": ""
             }
            },
            "type": "scattergeo"
           }
          ],
          "scattergl": [
           {
            "marker": {
             "colorbar": {
              "outlinewidth": 0,
              "ticks": ""
             }
            },
            "type": "scattergl"
           }
          ],
          "scattermap": [
           {
            "marker": {
             "colorbar": {
              "outlinewidth": 0,
              "ticks": ""
             }
            },
            "type": "scattermap"
           }
          ],
          "scattermapbox": [
           {
            "marker": {
             "colorbar": {
              "outlinewidth": 0,
              "ticks": ""
             }
            },
            "type": "scattermapbox"
           }
          ],
          "scatterpolar": [
           {
            "marker": {
             "colorbar": {
              "outlinewidth": 0,
              "ticks": ""
             }
            },
            "type": "scatterpolar"
           }
          ],
          "scatterpolargl": [
           {
            "marker": {
             "colorbar": {
              "outlinewidth": 0,
              "ticks": ""
             }
            },
            "type": "scatterpolargl"
           }
          ],
          "scatterternary": [
           {
            "marker": {
             "colorbar": {
              "outlinewidth": 0,
              "ticks": ""
             }
            },
            "type": "scatterternary"
           }
          ],
          "surface": [
           {
            "colorbar": {
             "outlinewidth": 0,
             "ticks": ""
            },
            "colorscale": [
             [
              0,
              "#0d0887"
             ],
             [
              0.1111111111111111,
              "#46039f"
             ],
             [
              0.2222222222222222,
              "#7201a8"
             ],
             [
              0.3333333333333333,
              "#9c179e"
             ],
             [
              0.4444444444444444,
              "#bd3786"
             ],
             [
              0.5555555555555556,
              "#d8576b"
             ],
             [
              0.6666666666666666,
              "#ed7953"
             ],
             [
              0.7777777777777778,
              "#fb9f3a"
             ],
             [
              0.8888888888888888,
              "#fdca26"
             ],
             [
              1,
              "#f0f921"
             ]
            ],
            "type": "surface"
           }
          ],
          "table": [
           {
            "cells": {
             "fill": {
              "color": "#EBF0F8"
             },
             "line": {
              "color": "white"
             }
            },
            "header": {
             "fill": {
              "color": "#C8D4E3"
             },
             "line": {
              "color": "white"
             }
            },
            "type": "table"
           }
          ]
         },
         "layout": {
          "annotationdefaults": {
           "arrowcolor": "#2a3f5f",
           "arrowhead": 0,
           "arrowwidth": 1
          },
          "autotypenumbers": "strict",
          "coloraxis": {
           "colorbar": {
            "outlinewidth": 0,
            "ticks": ""
           }
          },
          "colorscale": {
           "diverging": [
            [
             0,
             "#8e0152"
            ],
            [
             0.1,
             "#c51b7d"
            ],
            [
             0.2,
             "#de77ae"
            ],
            [
             0.3,
             "#f1b6da"
            ],
            [
             0.4,
             "#fde0ef"
            ],
            [
             0.5,
             "#f7f7f7"
            ],
            [
             0.6,
             "#e6f5d0"
            ],
            [
             0.7,
             "#b8e186"
            ],
            [
             0.8,
             "#7fbc41"
            ],
            [
             0.9,
             "#4d9221"
            ],
            [
             1,
             "#276419"
            ]
           ],
           "sequential": [
            [
             0,
             "#0d0887"
            ],
            [
             0.1111111111111111,
             "#46039f"
            ],
            [
             0.2222222222222222,
             "#7201a8"
            ],
            [
             0.3333333333333333,
             "#9c179e"
            ],
            [
             0.4444444444444444,
             "#bd3786"
            ],
            [
             0.5555555555555556,
             "#d8576b"
            ],
            [
             0.6666666666666666,
             "#ed7953"
            ],
            [
             0.7777777777777778,
             "#fb9f3a"
            ],
            [
             0.8888888888888888,
             "#fdca26"
            ],
            [
             1,
             "#f0f921"
            ]
           ],
           "sequentialminus": [
            [
             0,
             "#0d0887"
            ],
            [
             0.1111111111111111,
             "#46039f"
            ],
            [
             0.2222222222222222,
             "#7201a8"
            ],
            [
             0.3333333333333333,
             "#9c179e"
            ],
            [
             0.4444444444444444,
             "#bd3786"
            ],
            [
             0.5555555555555556,
             "#d8576b"
            ],
            [
             0.6666666666666666,
             "#ed7953"
            ],
            [
             0.7777777777777778,
             "#fb9f3a"
            ],
            [
             0.8888888888888888,
             "#fdca26"
            ],
            [
             1,
             "#f0f921"
            ]
           ]
          },
          "colorway": [
           "#636efa",
           "#EF553B",
           "#00cc96",
           "#ab63fa",
           "#FFA15A",
           "#19d3f3",
           "#FF6692",
           "#B6E880",
           "#FF97FF",
           "#FECB52"
          ],
          "font": {
           "color": "#2a3f5f"
          },
          "geo": {
           "bgcolor": "white",
           "lakecolor": "white",
           "landcolor": "#E5ECF6",
           "showlakes": true,
           "showland": true,
           "subunitcolor": "white"
          },
          "hoverlabel": {
           "align": "left"
          },
          "hovermode": "closest",
          "mapbox": {
           "style": "light"
          },
          "paper_bgcolor": "white",
          "plot_bgcolor": "#E5ECF6",
          "polar": {
           "angularaxis": {
            "gridcolor": "white",
            "linecolor": "white",
            "ticks": ""
           },
           "bgcolor": "#E5ECF6",
           "radialaxis": {
            "gridcolor": "white",
            "linecolor": "white",
            "ticks": ""
           }
          },
          "scene": {
           "xaxis": {
            "backgroundcolor": "#E5ECF6",
            "gridcolor": "white",
            "gridwidth": 2,
            "linecolor": "white",
            "showbackground": true,
            "ticks": "",
            "zerolinecolor": "white"
           },
           "yaxis": {
            "backgroundcolor": "#E5ECF6",
            "gridcolor": "white",
            "gridwidth": 2,
            "linecolor": "white",
            "showbackground": true,
            "ticks": "",
            "zerolinecolor": "white"
           },
           "zaxis": {
            "backgroundcolor": "#E5ECF6",
            "gridcolor": "white",
            "gridwidth": 2,
            "linecolor": "white",
            "showbackground": true,
            "ticks": "",
            "zerolinecolor": "white"
           }
          },
          "shapedefaults": {
           "line": {
            "color": "#2a3f5f"
           }
          },
          "ternary": {
           "aaxis": {
            "gridcolor": "white",
            "linecolor": "white",
            "ticks": ""
           },
           "baxis": {
            "gridcolor": "white",
            "linecolor": "white",
            "ticks": ""
           },
           "bgcolor": "#E5ECF6",
           "caxis": {
            "gridcolor": "white",
            "linecolor": "white",
            "ticks": ""
           }
          },
          "title": {
           "x": 0.05
          },
          "xaxis": {
           "automargin": true,
           "gridcolor": "white",
           "linecolor": "white",
           "ticks": "",
           "title": {
            "standoff": 15
           },
           "zerolinecolor": "white",
           "zerolinewidth": 2
          },
          "yaxis": {
           "automargin": true,
           "gridcolor": "white",
           "linecolor": "white",
           "ticks": "",
           "title": {
            "standoff": 15
           },
           "zerolinecolor": "white",
           "zerolinewidth": 2
          }
         }
        },
        "title": {
         "text": "Normalized LCS values for P26358 at position 549"
        },
        "xaxis": {
         "anchor": "y",
         "constrain": "domain",
         "domain": [
          0,
          1
         ],
         "scaleanchor": "y",
         "tickmode": "array",
         "ticktext": [
          -7,
          -6,
          -5,
          -4,
          -3,
          -2,
          -1,
          0,
          1,
          2,
          3,
          4,
          5,
          6,
          7
         ],
         "tickvals": [
          1,
          2,
          3,
          4,
          5,
          6,
          7,
          8,
          9,
          10,
          11,
          12,
          13,
          14,
          15
         ],
         "title": {
          "text": "Mutation Position"
         }
        },
        "yaxis": {
         "anchor": "x",
         "autorange": "reversed",
         "constrain": "domain",
         "domain": [
          0,
          1
         ],
         "dtick": 1,
         "tickmode": "linear",
         "title": {
          "text": "Mutated Amino Acid"
         }
        }
       }
      }
     },
     "metadata": {},
     "output_type": "display_data"
    },
    {
     "name": "stdout",
     "output_type": "stream",
     "text": [
      "\n",
      "Rendering heatmap for: P40337_68_heatmap_data.csv\n"
     ]
    },
    {
     "name": "stderr",
     "output_type": "stream",
     "text": [
      "C:\\Users\\ricea\\AppData\\Local\\Temp\\ipykernel_26764\\4146770678.py:9: FutureWarning:\n",
      "\n",
      "The provided callable <function mean at 0x000002D40831D6C0> is currently using DataFrameGroupBy.mean. In a future version of pandas, the provided callable will be used directly. To keep current behavior pass the string \"mean\" instead.\n",
      "\n"
     ]
    },
    {
     "data": {
      "application/vnd.plotly.v1+json": {
       "config": {
        "plotlyServerURL": "https://plot.ly"
       },
       "data": [
        {
         "coloraxis": "coloraxis",
         "hovertemplate": "Mutation Position: %{x}<br>Mutated Amino Acid: %{y}<br>LCS Ratio: %{z}<extra></extra>",
         "name": "0",
         "type": "heatmap",
         "x": {
          "bdata": "AQIDBAUGBwgJCgsMDQ4P",
          "dtype": "i1"
         },
         "xaxis": "x",
         "y": [
          "A",
          "C",
          "D",
          "E",
          "F",
          "G",
          "H",
          "I",
          "K",
          "L",
          "M",
          "N",
          "P",
          "Q",
          "R",
          "S",
          "T",
          "V",
          "W",
          "Y"
         ],
         "yaxis": "y",
         "z": {
          "bdata": "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",
          "dtype": "f8",
          "shape": "20, 15"
         }
        }
       ],
       "layout": {
        "coloraxis": {
         "colorbar": {
          "ticktext": [
           "0.0",
           "0.25",
           "0.5",
           "0.75",
           "1.0"
          ],
          "tickvals": [
           0,
           0.25,
           0.5,
           0.75,
           1
          ],
          "title": {
           "text": "LCS Ratio"
          }
         },
         "colorscale": [
          [
           0,
           "rgb(0, 147, 146)"
          ],
          [
           0.16666666666666666,
           "rgb(57, 177, 133)"
          ],
          [
           0.3333333333333333,
           "rgb(156, 203, 134)"
          ],
          [
           0.5,
           "rgb(233, 226, 156)"
          ],
          [
           0.6666666666666666,
           "rgb(238, 180, 121)"
          ],
          [
           0.8333333333333334,
           "rgb(232, 132, 113)"
          ],
          [
           1,
           "rgb(207, 89, 126)"
          ]
         ]
        },
        "plot_bgcolor": "white",
        "template": {
         "data": {
          "bar": [
           {
            "error_x": {
             "color": "#2a3f5f"
            },
            "error_y": {
             "color": "#2a3f5f"
            },
            "marker": {
             "line": {
              "color": "#E5ECF6",
              "width": 0.5
             },
             "pattern": {
              "fillmode": "overlay",
              "size": 10,
              "solidity": 0.2
             }
            },
            "type": "bar"
           }
          ],
          "barpolar": [
           {
            "marker": {
             "line": {
              "color": "#E5ECF6",
              "width": 0.5
             },
             "pattern": {
              "fillmode": "overlay",
              "size": 10,
              "solidity": 0.2
             }
            },
            "type": "barpolar"
           }
          ],
          "carpet": [
           {
            "aaxis": {
             "endlinecolor": "#2a3f5f",
             "gridcolor": "white",
             "linecolor": "white",
             "minorgridcolor": "white",
             "startlinecolor": "#2a3f5f"
            },
            "baxis": {
             "endlinecolor": "#2a3f5f",
             "gridcolor": "white",
             "linecolor": "white",
             "minorgridcolor": "white",
             "startlinecolor": "#2a3f5f"
            },
            "type": "carpet"
           }
          ],
          "choropleth": [
           {
            "colorbar": {
             "outlinewidth": 0,
             "ticks": ""
            },
            "type": "choropleth"
           }
          ],
          "contour": [
           {
            "colorbar": {
             "outlinewidth": 0,
             "ticks": ""
            },
            "colorscale": [
             [
              0,
              "#0d0887"
             ],
             [
              0.1111111111111111,
              "#46039f"
             ],
             [
              0.2222222222222222,
              "#7201a8"
             ],
             [
              0.3333333333333333,
              "#9c179e"
             ],
             [
              0.4444444444444444,
              "#bd3786"
             ],
             [
              0.5555555555555556,
              "#d8576b"
             ],
             [
              0.6666666666666666,
              "#ed7953"
             ],
             [
              0.7777777777777778,
              "#fb9f3a"
             ],
             [
              0.8888888888888888,
              "#fdca26"
             ],
             [
              1,
              "#f0f921"
             ]
            ],
            "type": "contour"
           }
          ],
          "contourcarpet": [
           {
            "colorbar": {
             "outlinewidth": 0,
             "ticks": ""
            },
            "type": "contourcarpet"
           }
          ],
          "heatmap": [
           {
            "colorbar": {
             "outlinewidth": 0,
             "ticks": ""
            },
            "colorscale": [
             [
              0,
              "#0d0887"
             ],
             [
              0.1111111111111111,
              "#46039f"
             ],
             [
              0.2222222222222222,
              "#7201a8"
             ],
             [
              0.3333333333333333,
              "#9c179e"
             ],
             [
              0.4444444444444444,
              "#bd3786"
             ],
             [
              0.5555555555555556,
              "#d8576b"
             ],
             [
              0.6666666666666666,
              "#ed7953"
             ],
             [
              0.7777777777777778,
              "#fb9f3a"
             ],
             [
              0.8888888888888888,
              "#fdca26"
             ],
             [
              1,
              "#f0f921"
             ]
            ],
            "type": "heatmap"
           }
          ],
          "histogram": [
           {
            "marker": {
             "pattern": {
              "fillmode": "overlay",
              "size": 10,
              "solidity": 0.2
             }
            },
            "type": "histogram"
           }
          ],
          "histogram2d": [
           {
            "colorbar": {
             "outlinewidth": 0,
             "ticks": ""
            },
            "colorscale": [
             [
              0,
              "#0d0887"
             ],
             [
              0.1111111111111111,
              "#46039f"
             ],
             [
              0.2222222222222222,
              "#7201a8"
             ],
             [
              0.3333333333333333,
              "#9c179e"
             ],
             [
              0.4444444444444444,
              "#bd3786"
             ],
             [
              0.5555555555555556,
              "#d8576b"
             ],
             [
              0.6666666666666666,
              "#ed7953"
             ],
             [
              0.7777777777777778,
              "#fb9f3a"
             ],
             [
              0.8888888888888888,
              "#fdca26"
             ],
             [
              1,
              "#f0f921"
             ]
            ],
            "type": "histogram2d"
           }
          ],
          "histogram2dcontour": [
           {
            "colorbar": {
             "outlinewidth": 0,
             "ticks": ""
            },
            "colorscale": [
             [
              0,
              "#0d0887"
             ],
             [
              0.1111111111111111,
              "#46039f"
             ],
             [
              0.2222222222222222,
              "#7201a8"
             ],
             [
              0.3333333333333333,
              "#9c179e"
             ],
             [
              0.4444444444444444,
              "#bd3786"
             ],
             [
              0.5555555555555556,
              "#d8576b"
             ],
             [
              0.6666666666666666,
              "#ed7953"
             ],
             [
              0.7777777777777778,
              "#fb9f3a"
             ],
             [
              0.8888888888888888,
              "#fdca26"
             ],
             [
              1,
              "#f0f921"
             ]
            ],
            "type": "histogram2dcontour"
           }
          ],
          "mesh3d": [
           {
            "colorbar": {
             "outlinewidth": 0,
             "ticks": ""
            },
            "type": "mesh3d"
           }
          ],
          "parcoords": [
           {
            "line": {
             "colorbar": {
              "outlinewidth": 0,
              "ticks": ""
             }
            },
            "type": "parcoords"
           }
          ],
          "pie": [
           {
            "automargin": true,
            "type": "pie"
           }
          ],
          "scatter": [
           {
            "fillpattern": {
             "fillmode": "overlay",
             "size": 10,
             "solidity": 0.2
            },
            "type": "scatter"
           }
          ],
          "scatter3d": [
           {
            "line": {
             "colorbar": {
              "outlinewidth": 0,
              "ticks": ""
             }
            },
            "marker": {
             "colorbar": {
              "outlinewidth": 0,
              "ticks": ""
             }
            },
            "type": "scatter3d"
           }
          ],
          "scattercarpet": [
           {
            "marker": {
             "colorbar": {
              "outlinewidth": 0,
              "ticks": ""
             }
            },
            "type": "scattercarpet"
           }
          ],
          "scattergeo": [
           {
            "marker": {
             "colorbar": {
              "outlinewidth": 0,
              "ticks": ""
             }
            },
            "type": "scattergeo"
           }
          ],
          "scattergl": [
           {
            "marker": {
             "colorbar": {
              "outlinewidth": 0,
              "ticks": ""
             }
            },
            "type": "scattergl"
           }
          ],
          "scattermap": [
           {
            "marker": {
             "colorbar": {
              "outlinewidth": 0,
              "ticks": ""
             }
            },
            "type": "scattermap"
           }
          ],
          "scattermapbox": [
           {
            "marker": {
             "colorbar": {
              "outlinewidth": 0,
              "ticks": ""
             }
            },
            "type": "scattermapbox"
           }
          ],
          "scatterpolar": [
           {
            "marker": {
             "colorbar": {
              "outlinewidth": 0,
              "ticks": ""
             }
            },
            "type": "scatterpolar"
           }
          ],
          "scatterpolargl": [
           {
            "marker": {
             "colorbar": {
              "outlinewidth": 0,
              "ticks": ""
             }
            },
            "type": "scatterpolargl"
           }
          ],
          "scatterternary": [
           {
            "marker": {
             "colorbar": {
              "outlinewidth": 0,
              "ticks": ""
             }
            },
            "type": "scatterternary"
           }
          ],
          "surface": [
           {
            "colorbar": {
             "outlinewidth": 0,
             "ticks": ""
            },
            "colorscale": [
             [
              0,
              "#0d0887"
             ],
             [
              0.1111111111111111,
              "#46039f"
             ],
             [
              0.2222222222222222,
              "#7201a8"
             ],
             [
              0.3333333333333333,
              "#9c179e"
             ],
             [
              0.4444444444444444,
              "#bd3786"
             ],
             [
              0.5555555555555556,
              "#d8576b"
             ],
             [
              0.6666666666666666,
              "#ed7953"
             ],
             [
              0.7777777777777778,
              "#fb9f3a"
             ],
             [
              0.8888888888888888,
              "#fdca26"
             ],
             [
              1,
              "#f0f921"
             ]
            ],
            "type": "surface"
           }
          ],
          "table": [
           {
            "cells": {
             "fill": {
              "color": "#EBF0F8"
             },
             "line": {
              "color": "white"
             }
            },
            "header": {
             "fill": {
              "color": "#C8D4E3"
             },
             "line": {
              "color": "white"
             }
            },
            "type": "table"
           }
          ]
         },
         "layout": {
          "annotationdefaults": {
           "arrowcolor": "#2a3f5f",
           "arrowhead": 0,
           "arrowwidth": 1
          },
          "autotypenumbers": "strict",
          "coloraxis": {
           "colorbar": {
            "outlinewidth": 0,
            "ticks": ""
           }
          },
          "colorscale": {
           "diverging": [
            [
             0,
             "#8e0152"
            ],
            [
             0.1,
             "#c51b7d"
            ],
            [
             0.2,
             "#de77ae"
            ],
            [
             0.3,
             "#f1b6da"
            ],
            [
             0.4,
             "#fde0ef"
            ],
            [
             0.5,
             "#f7f7f7"
            ],
            [
             0.6,
             "#e6f5d0"
            ],
            [
             0.7,
             "#b8e186"
            ],
            [
             0.8,
             "#7fbc41"
            ],
            [
             0.9,
             "#4d9221"
            ],
            [
             1,
             "#276419"
            ]
           ],
           "sequential": [
            [
             0,
             "#0d0887"
            ],
            [
             0.1111111111111111,
             "#46039f"
            ],
            [
             0.2222222222222222,
             "#7201a8"
            ],
            [
             0.3333333333333333,
             "#9c179e"
            ],
            [
             0.4444444444444444,
             "#bd3786"
            ],
            [
             0.5555555555555556,
             "#d8576b"
            ],
            [
             0.6666666666666666,
             "#ed7953"
            ],
            [
             0.7777777777777778,
             "#fb9f3a"
            ],
            [
             0.8888888888888888,
             "#fdca26"
            ],
            [
             1,
             "#f0f921"
            ]
           ],
           "sequentialminus": [
            [
             0,
             "#0d0887"
            ],
            [
             0.1111111111111111,
             "#46039f"
            ],
            [
             0.2222222222222222,
             "#7201a8"
            ],
            [
             0.3333333333333333,
             "#9c179e"
            ],
            [
             0.4444444444444444,
             "#bd3786"
            ],
            [
             0.5555555555555556,
             "#d8576b"
            ],
            [
             0.6666666666666666,
             "#ed7953"
            ],
            [
             0.7777777777777778,
             "#fb9f3a"
            ],
            [
             0.8888888888888888,
             "#fdca26"
            ],
            [
             1,
             "#f0f921"
            ]
           ]
          },
          "colorway": [
           "#636efa",
           "#EF553B",
           "#00cc96",
           "#ab63fa",
           "#FFA15A",
           "#19d3f3",
           "#FF6692",
           "#B6E880",
           "#FF97FF",
           "#FECB52"
          ],
          "font": {
           "color": "#2a3f5f"
          },
          "geo": {
           "bgcolor": "white",
           "lakecolor": "white",
           "landcolor": "#E5ECF6",
           "showlakes": true,
           "showland": true,
           "subunitcolor": "white"
          },
          "hoverlabel": {
           "align": "left"
          },
          "hovermode": "closest",
          "mapbox": {
           "style": "light"
          },
          "paper_bgcolor": "white",
          "plot_bgcolor": "#E5ECF6",
          "polar": {
           "angularaxis": {
            "gridcolor": "white",
            "linecolor": "white",
            "ticks": ""
           },
           "bgcolor": "#E5ECF6",
           "radialaxis": {
            "gridcolor": "white",
            "linecolor": "white",
            "ticks": ""
           }
          },
          "scene": {
           "xaxis": {
            "backgroundcolor": "#E5ECF6",
            "gridcolor": "white",
            "gridwidth": 2,
            "linecolor": "white",
            "showbackground": true,
            "ticks": "",
            "zerolinecolor": "white"
           },
           "yaxis": {
            "backgroundcolor": "#E5ECF6",
            "gridcolor": "white",
            "gridwidth": 2,
            "linecolor": "white",
            "showbackground": true,
            "ticks": "",
            "zerolinecolor": "white"
           },
           "zaxis": {
            "backgroundcolor": "#E5ECF6",
            "gridcolor": "white",
            "gridwidth": 2,
            "linecolor": "white",
            "showbackground": true,
            "ticks": "",
            "zerolinecolor": "white"
           }
          },
          "shapedefaults": {
           "line": {
            "color": "#2a3f5f"
           }
          },
          "ternary": {
           "aaxis": {
            "gridcolor": "white",
            "linecolor": "white",
            "ticks": ""
           },
           "baxis": {
            "gridcolor": "white",
            "linecolor": "white",
            "ticks": ""
           },
           "bgcolor": "#E5ECF6",
           "caxis": {
            "gridcolor": "white",
            "linecolor": "white",
            "ticks": ""
           }
          },
          "title": {
           "x": 0.05
          },
          "xaxis": {
           "automargin": true,
           "gridcolor": "white",
           "linecolor": "white",
           "ticks": "",
           "title": {
            "standoff": 15
           },
           "zerolinecolor": "white",
           "zerolinewidth": 2
          },
          "yaxis": {
           "automargin": true,
           "gridcolor": "white",
           "linecolor": "white",
           "ticks": "",
           "title": {
            "standoff": 15
           },
           "zerolinecolor": "white",
           "zerolinewidth": 2
          }
         }
        },
        "title": {
         "text": "Normalized LCS values for P40337 at position 68"
        },
        "xaxis": {
         "anchor": "y",
         "constrain": "domain",
         "domain": [
          0,
          1
         ],
         "scaleanchor": "y",
         "tickmode": "array",
         "ticktext": [
          -7,
          -6,
          -5,
          -4,
          -3,
          -2,
          -1,
          0,
          1,
          2,
          3,
          4,
          5,
          6,
          7
         ],
         "tickvals": [
          1,
          2,
          3,
          4,
          5,
          6,
          7,
          8,
          9,
          10,
          11,
          12,
          13,
          14,
          15
         ],
         "title": {
          "text": "Mutation Position"
         }
        },
        "yaxis": {
         "anchor": "x",
         "autorange": "reversed",
         "constrain": "domain",
         "domain": [
          0,
          1
         ],
         "dtick": 1,
         "tickmode": "linear",
         "title": {
          "text": "Mutated Amino Acid"
         }
        }
       }
      }
     },
     "metadata": {},
     "output_type": "display_data"
    },
    {
     "name": "stdout",
     "output_type": "stream",
     "text": [
      "\n",
      "Rendering heatmap for: P40337_80_heatmap_data.csv\n"
     ]
    },
    {
     "name": "stderr",
     "output_type": "stream",
     "text": [
      "C:\\Users\\ricea\\AppData\\Local\\Temp\\ipykernel_26764\\4146770678.py:9: FutureWarning:\n",
      "\n",
      "The provided callable <function mean at 0x000002D40831D6C0> is currently using DataFrameGroupBy.mean. In a future version of pandas, the provided callable will be used directly. To keep current behavior pass the string \"mean\" instead.\n",
      "\n"
     ]
    },
    {
     "data": {
      "application/vnd.plotly.v1+json": {
       "config": {
        "plotlyServerURL": "https://plot.ly"
       },
       "data": [
        {
         "coloraxis": "coloraxis",
         "hovertemplate": "Mutation Position: %{x}<br>Mutated Amino Acid: %{y}<br>LCS Ratio: %{z}<extra></extra>",
         "name": "0",
         "type": "heatmap",
         "x": {
          "bdata": "AQIDBAUGBwgJCgsMDQ4P",
          "dtype": "i1"
         },
         "xaxis": "x",
         "y": [
          "A",
          "C",
          "D",
          "E",
          "F",
          "G",
          "H",
          "I",
          "K",
          "L",
          "M",
          "N",
          "P",
          "Q",
          "R",
          "S",
          "T",
          "V",
          "W",
          "Y"
         ],
         "yaxis": "y",
         "z": {
          "bdata": "AAAAAAAA8D8AAAAAAADwP7KITyCVnMc/nXo8u2b0xT9NWqcez67JP4H9VhtD070/bO9DthQrvD8AAAAAAAD4f3N2zegr/7w/Q9Md7LfauD8Wt/chW4rFP1jhMFHmgso/AAAAAAAA8D8AAAAAAADwPwAAAAAAAPA/AAAAAAAA8D8AAAAAAADwP1LJeVnEJ8A/sohPIJWcxz8AAAAAAAD4f3N2zegr/7w/hWwpVjhMxD8AAAAAAAD4f0PTHey32rg/6prRV/45sj8MMG7vQ7bEP3vlnyMheMM/AAAAAAAA8D8AAAAAAADwPwAAAAAAAPA/AAAAAAAA8D8AAAAAAADwP1jhMFHmgro/DDBu70O2tD/VjL7yz5GwP+qa0Vf+ObI/96jkvCzioz8AAAAAAAD4f4H9VhtD050/jgtqgHF7rz/fE0gl52XBP5YLaoBxe78/AAAAAAAA8D8AAAAAAADwPwAAAAAAAPA/AAAAAAAA8D8AAAAAAADwP2zvQ7YUK7w/+CFbihUOwz8Tt/chW4q1P/6o5Lws4rM/Ze9DthQrrD8AAAAAAAD4fyDFCoeJMqc/1Yy+8s+RsD8Tt/chW4qlP0PTHey32rg/AAAAAAAA8D8AAAAAAADwPwAAAAAAAPA/AAAAAAAA8D8AAAAAAADwP1xQA4zb+8A/AAAAAAAA+H9s70O2FCu8PzVMlLmgBrg/gf1WG0PTvT8AAAAAAAD4fyDFCoeJMqc/jgtqgHF7rz+IhOBNWqe+P98TSCXnZcE/AAAAAAAA8D8AAAAAAADwPwAAAAAAAPA/AAAAAAAA8D8AAAAAAADwP0PTHey32rg/Usl5WcQnwD9Y4TBR5oK6P/6o5Lws4rM/jgtqgHF7rz8AAAAAAAD4f4iE4E1ap74/6prRV/45sj9eaLqD/Va7PyvFCoeJMsc/AAAAAAAA8D8AAAAAAADwPwAAAAAAAPA/AAAAAAAA8D8AAAAAAADwP2bXjL7yz8E/k/OyiE8gxT9SyXlZxCfAP5YLaoBxe78//qjkvCzisz8AAAAAAAD4f/ghW4oVDrM/NUyUuaAGuD9xXhbxCaTCP+2a0Vf+OcI/AAAAAAAA8D8AAAAAAADwPwAAAAAAAPA/AAAAAAAA8D8AAAAAAADwPwAAAAAAAPh/gf1WG0PTzT9xXhbxCaTCPyE+gVRyXrY/3BNIJedlsT8AAAAAAAD4f/ghW4oVDrM/6prRV/45sj9NWqcez67JP2JouoP9Vss/AAAAAAAA8D8AAAAAAADwPwAAAAAAAPA/AAAAAAAA8D8AAAAAAADwP1jhMFHmgro/WOEwUeaCuj8nxQqHiTK3PyE+gVRyXrY/DDBu70O2xD8AAAAAAAD4f/ghW4oVDrM/+CFbihUOwz8Tt/chW4q1P2zvQ7YUK7w/AAAAAAAA8D8AAAAAAADwPwAAAAAAAPA/AAAAAAAA8D8AAAAAAADwP9Ed7LfaGMo/DDBu70O2xD9cUAOM2/vAP3N2zegr/7w/J8UKh4kytz8AAAAAAAD4fzzTHey32qg/SlqnHs+uuT+dejy7ZvTFPxa39yFbisU/AAAAAAAA+H8AAAAAAADwPwAAAAAAAPA/AAAAAAAA8D8AAAAAAADwP/ghW4oVDsM/HM+uGX3lzz8Tt/chW4q1P5YLaoBxe78/iITgTVqnvj8AAAAAAAD4fzzTHey32qg/J8UKh4kytz+yiE8glZzHP9ukderx7Mo/AAAAAAAA8D8AAAAAAADwPwAAAAAAAPA/AAAAAAAA8D8AAAAAAADwP3FeFvEJpMI/hWwpVjhMxD9xXhbxCaTCPwAAAAAAAPh/ZteMvvLPwT8AAAAAAAD4f15ouoP9Vrs/SlqnHs+uuT81TJS5oAa4PzVMlLmgBsg/AAAAAAAA8D8AAAAAAADwPwAAAAAAAPA/AAAAAAAA8D8AAAAAAADwP6gBxu19yMY/lgtqgHF7vz9eaLqD/Va7PzVMlLmgBrg/E7f3IVuKpT8AAAAAAAD4fwAAAAAAAPh/jgtqgHF7rz9zds3oK/+8P2bXjL7yz8E/AAAAAAAA8D8AAAAAAAD4fwAAAAAAAPA/AAAAAAAA+H8AAAAAAADwP1xQA4zb+8A/IT6BVHJexj/tmtFX/jnCP1jhMFHmgro/J8UKh4kytz8AAAAAAAD4f/6o5Lws4rM/c3bN6Cv/vD/tmtFX/jnCP4VsKVY4TMQ/AAAAAAAA8D8AAAAAAADwPwAAAAAAAPA/AAAAAAAA8D8AAAAAAADwP0papx7Prrk/gf1WG0PTvT9D0x3st9q4P/ghW4oVDrM/AAAAAAAA+H8AAAAAAAD4f2XvQ7YUK6w/AAAAAAAA+H9Y4TBR5oK6P1xQA4zb+8A/AAAAAAAA8D8AAAAAAADwPwAAAAAAAPA/AAAAAAAA8D8AAAAAAADwP3vlnyMheMM/d3bN6Cv/zD+8D9lSrHDIP3d2zegr/8w/XFADjNv7wD8AAAAAAAD4f/ghW4oVDrM/gf1WG0PTvT+oAcbtfcjGPyE+gVRyXsY/AAAAAAAA8D8AAAAAAADwPwAAAAAAAPA/AAAAAAAA8D8AAAAAAADwP3vlnyMheMM/d3bN6Cv/zD+8D9lSrHDIP3d2zegr/8w/XFADjNv7wD+IhOBNWqe+P/ghW4oVDrM/gf1WG0PTvT+oAcbtfcjGPyE+gVRyXsY/AAAAAAAA8D8AAAAAAADwPwAAAAAAAPA/AAAAAAAA8D8AAAAAAAD4fyE+gVRyXsY/87KITyCVzD/fE0gl52XBP0PTHey32rg/E7f3IVuKtT8AAAAAAAD4f1jhMFHmgqo/E7f3IVuKtT8AAAAAAAD4fwAAAAAAAPh/AAAAAAAA8D8AAAAAAADwPwAAAAAAAPh/AAAAAAAA8D8AAAAAAADwP4H9VhtD070/Q9Md7LfayD/tmtFX/jnCP44LaoBxe68/SlqnHs+uuT8AAAAAAAD4fzzTHey32qg/IT6BVHJetj8MMG7vQ7bEP3FeFvEJpMI/AAAAAAAA8D8AAAAAAADwPwAAAAAAAPA/AAAAAAAA8D8AAAAAAADwP4H9VhtD070/87KITyCVzD8hPoFUcl62P/ghW4oVDrM/iITgTVqnvj/W4DBR5oJqv1jhMFHmgqo/Q9Md7LfauD8MMG7vQ7bEP3FeFvEJpMI/AAAAAAAA8D8AAAAAAADwPwAAAAAAAPA/",
          "dtype": "f8",
          "shape": "20, 15"
         }
        }
       ],
       "layout": {
        "coloraxis": {
         "colorbar": {
          "ticktext": [
           "0.0",
           "0.25",
           "0.5",
           "0.75",
           "1.0"
          ],
          "tickvals": [
           0,
           0.25,
           0.5,
           0.75,
           1
          ],
          "title": {
           "text": "LCS Ratio"
          }
         },
         "colorscale": [
          [
           0,
           "rgb(0, 147, 146)"
          ],
          [
           0.16666666666666666,
           "rgb(57, 177, 133)"
          ],
          [
           0.3333333333333333,
           "rgb(156, 203, 134)"
          ],
          [
           0.5,
           "rgb(233, 226, 156)"
          ],
          [
           0.6666666666666666,
           "rgb(238, 180, 121)"
          ],
          [
           0.8333333333333334,
           "rgb(232, 132, 113)"
          ],
          [
           1,
           "rgb(207, 89, 126)"
          ]
         ]
        },
        "plot_bgcolor": "white",
        "template": {
         "data": {
          "bar": [
           {
            "error_x": {
             "color": "#2a3f5f"
            },
            "error_y": {
             "color": "#2a3f5f"
            },
            "marker": {
             "line": {
              "color": "#E5ECF6",
              "width": 0.5
             },
             "pattern": {
              "fillmode": "overlay",
              "size": 10,
              "solidity": 0.2
             }
            },
            "type": "bar"
           }
          ],
          "barpolar": [
           {
            "marker": {
             "line": {
              "color": "#E5ECF6",
              "width": 0.5
             },
             "pattern": {
              "fillmode": "overlay",
              "size": 10,
              "solidity": 0.2
             }
            },
            "type": "barpolar"
           }
          ],
          "carpet": [
           {
            "aaxis": {
             "endlinecolor": "#2a3f5f",
             "gridcolor": "white",
             "linecolor": "white",
             "minorgridcolor": "white",
             "startlinecolor": "#2a3f5f"
            },
            "baxis": {
             "endlinecolor": "#2a3f5f",
             "gridcolor": "white",
             "linecolor": "white",
             "minorgridcolor": "white",
             "startlinecolor": "#2a3f5f"
            },
            "type": "carpet"
           }
          ],
          "choropleth": [
           {
            "colorbar": {
             "outlinewidth": 0,
             "ticks": ""
            },
            "type": "choropleth"
           }
          ],
          "contour": [
           {
            "colorbar": {
             "outlinewidth": 0,
             "ticks": ""
            },
            "colorscale": [
             [
              0,
              "#0d0887"
             ],
             [
              0.1111111111111111,
              "#46039f"
             ],
             [
              0.2222222222222222,
              "#7201a8"
             ],
             [
              0.3333333333333333,
              "#9c179e"
             ],
             [
              0.4444444444444444,
              "#bd3786"
             ],
             [
              0.5555555555555556,
              "#d8576b"
             ],
             [
              0.6666666666666666,
              "#ed7953"
             ],
             [
              0.7777777777777778,
              "#fb9f3a"
             ],
             [
              0.8888888888888888,
              "#fdca26"
             ],
             [
              1,
              "#f0f921"
             ]
            ],
            "type": "contour"
           }
          ],
          "contourcarpet": [
           {
            "colorbar": {
             "outlinewidth": 0,
             "ticks": ""
            },
            "type": "contourcarpet"
           }
          ],
          "heatmap": [
           {
            "colorbar": {
             "outlinewidth": 0,
             "ticks": ""
            },
            "colorscale": [
             [
              0,
              "#0d0887"
             ],
             [
              0.1111111111111111,
              "#46039f"
             ],
             [
              0.2222222222222222,
              "#7201a8"
             ],
             [
              0.3333333333333333,
              "#9c179e"
             ],
             [
              0.4444444444444444,
              "#bd3786"
             ],
             [
              0.5555555555555556,
              "#d8576b"
             ],
             [
              0.6666666666666666,
              "#ed7953"
             ],
             [
              0.7777777777777778,
              "#fb9f3a"
             ],
             [
              0.8888888888888888,
              "#fdca26"
             ],
             [
              1,
              "#f0f921"
             ]
            ],
            "type": "heatmap"
           }
          ],
          "histogram": [
           {
            "marker": {
             "pattern": {
              "fillmode": "overlay",
              "size": 10,
              "solidity": 0.2
             }
            },
            "type": "histogram"
           }
          ],
          "histogram2d": [
           {
            "colorbar": {
             "outlinewidth": 0,
             "ticks": ""
            },
            "colorscale": [
             [
              0,
              "#0d0887"
             ],
             [
              0.1111111111111111,
              "#46039f"
             ],
             [
              0.2222222222222222,
              "#7201a8"
             ],
             [
              0.3333333333333333,
              "#9c179e"
             ],
             [
              0.4444444444444444,
              "#bd3786"
             ],
             [
              0.5555555555555556,
              "#d8576b"
             ],
             [
              0.6666666666666666,
              "#ed7953"
             ],
             [
              0.7777777777777778,
              "#fb9f3a"
             ],
             [
              0.8888888888888888,
              "#fdca26"
             ],
             [
              1,
              "#f0f921"
             ]
            ],
            "type": "histogram2d"
           }
          ],
          "histogram2dcontour": [
           {
            "colorbar": {
             "outlinewidth": 0,
             "ticks": ""
            },
            "colorscale": [
             [
              0,
              "#0d0887"
             ],
             [
              0.1111111111111111,
              "#46039f"
             ],
             [
              0.2222222222222222,
              "#7201a8"
             ],
             [
              0.3333333333333333,
              "#9c179e"
             ],
             [
              0.4444444444444444,
              "#bd3786"
             ],
             [
              0.5555555555555556,
              "#d8576b"
             ],
             [
              0.6666666666666666,
              "#ed7953"
             ],
             [
              0.7777777777777778,
              "#fb9f3a"
             ],
             [
              0.8888888888888888,
              "#fdca26"
             ],
             [
              1,
              "#f0f921"
             ]
            ],
            "type": "histogram2dcontour"
           }
          ],
          "mesh3d": [
           {
            "colorbar": {
             "outlinewidth": 0,
             "ticks": ""
            },
            "type": "mesh3d"
           }
          ],
          "parcoords": [
           {
            "line": {
             "colorbar": {
              "outlinewidth": 0,
              "ticks": ""
             }
            },
            "type": "parcoords"
           }
          ],
          "pie": [
           {
            "automargin": true,
            "type": "pie"
           }
          ],
          "scatter": [
           {
            "fillpattern": {
             "fillmode": "overlay",
             "size": 10,
             "solidity": 0.2
            },
            "type": "scatter"
           }
          ],
          "scatter3d": [
           {
            "line": {
             "colorbar": {
              "outlinewidth": 0,
              "ticks": ""
             }
            },
            "marker": {
             "colorbar": {
              "outlinewidth": 0,
              "ticks": ""
             }
            },
            "type": "scatter3d"
           }
          ],
          "scattercarpet": [
           {
            "marker": {
             "colorbar": {
              "outlinewidth": 0,
              "ticks": ""
             }
            },
            "type": "scattercarpet"
           }
          ],
          "scattergeo": [
           {
            "marker": {
             "colorbar": {
              "outlinewidth": 0,
              "ticks": ""
             }
            },
            "type": "scattergeo"
           }
          ],
          "scattergl": [
           {
            "marker": {
             "colorbar": {
              "outlinewidth": 0,
              "ticks": ""
             }
            },
            "type": "scattergl"
           }
          ],
          "scattermap": [
           {
            "marker": {
             "colorbar": {
              "outlinewidth": 0,
              "ticks": ""
             }
            },
            "type": "scattermap"
           }
          ],
          "scattermapbox": [
           {
            "marker": {
             "colorbar": {
              "outlinewidth": 0,
              "ticks": ""
             }
            },
            "type": "scattermapbox"
           }
          ],
          "scatterpolar": [
           {
            "marker": {
             "colorbar": {
              "outlinewidth": 0,
              "ticks": ""
             }
            },
            "type": "scatterpolar"
           }
          ],
          "scatterpolargl": [
           {
            "marker": {
             "colorbar": {
              "outlinewidth": 0,
              "ticks": ""
             }
            },
            "type": "scatterpolargl"
           }
          ],
          "scatterternary": [
           {
            "marker": {
             "colorbar": {
              "outlinewidth": 0,
              "ticks": ""
             }
            },
            "type": "scatterternary"
           }
          ],
          "surface": [
           {
            "colorbar": {
             "outlinewidth": 0,
             "ticks": ""
            },
            "colorscale": [
             [
              0,
              "#0d0887"
             ],
             [
              0.1111111111111111,
              "#46039f"
             ],
             [
              0.2222222222222222,
              "#7201a8"
             ],
             [
              0.3333333333333333,
              "#9c179e"
             ],
             [
              0.4444444444444444,
              "#bd3786"
             ],
             [
              0.5555555555555556,
              "#d8576b"
             ],
             [
              0.6666666666666666,
              "#ed7953"
             ],
             [
              0.7777777777777778,
              "#fb9f3a"
             ],
             [
              0.8888888888888888,
              "#fdca26"
             ],
             [
              1,
              "#f0f921"
             ]
            ],
            "type": "surface"
           }
          ],
          "table": [
           {
            "cells": {
             "fill": {
              "color": "#EBF0F8"
             },
             "line": {
              "color": "white"
             }
            },
            "header": {
             "fill": {
              "color": "#C8D4E3"
             },
             "line": {
              "color": "white"
             }
            },
            "type": "table"
           }
          ]
         },
         "layout": {
          "annotationdefaults": {
           "arrowcolor": "#2a3f5f",
           "arrowhead": 0,
           "arrowwidth": 1
          },
          "autotypenumbers": "strict",
          "coloraxis": {
           "colorbar": {
            "outlinewidth": 0,
            "ticks": ""
           }
          },
          "colorscale": {
           "diverging": [
            [
             0,
             "#8e0152"
            ],
            [
             0.1,
             "#c51b7d"
            ],
            [
             0.2,
             "#de77ae"
            ],
            [
             0.3,
             "#f1b6da"
            ],
            [
             0.4,
             "#fde0ef"
            ],
            [
             0.5,
             "#f7f7f7"
            ],
            [
             0.6,
             "#e6f5d0"
            ],
            [
             0.7,
             "#b8e186"
            ],
            [
             0.8,
             "#7fbc41"
            ],
            [
             0.9,
             "#4d9221"
            ],
            [
             1,
             "#276419"
            ]
           ],
           "sequential": [
            [
             0,
             "#0d0887"
            ],
            [
             0.1111111111111111,
             "#46039f"
            ],
            [
             0.2222222222222222,
             "#7201a8"
            ],
            [
             0.3333333333333333,
             "#9c179e"
            ],
            [
             0.4444444444444444,
             "#bd3786"
            ],
            [
             0.5555555555555556,
             "#d8576b"
            ],
            [
             0.6666666666666666,
             "#ed7953"
            ],
            [
             0.7777777777777778,
             "#fb9f3a"
            ],
            [
             0.8888888888888888,
             "#fdca26"
            ],
            [
             1,
             "#f0f921"
            ]
           ],
           "sequentialminus": [
            [
             0,
             "#0d0887"
            ],
            [
             0.1111111111111111,
             "#46039f"
            ],
            [
             0.2222222222222222,
             "#7201a8"
            ],
            [
             0.3333333333333333,
             "#9c179e"
            ],
            [
             0.4444444444444444,
             "#bd3786"
            ],
            [
             0.5555555555555556,
             "#d8576b"
            ],
            [
             0.6666666666666666,
             "#ed7953"
            ],
            [
             0.7777777777777778,
             "#fb9f3a"
            ],
            [
             0.8888888888888888,
             "#fdca26"
            ],
            [
             1,
             "#f0f921"
            ]
           ]
          },
          "colorway": [
           "#636efa",
           "#EF553B",
           "#00cc96",
           "#ab63fa",
           "#FFA15A",
           "#19d3f3",
           "#FF6692",
           "#B6E880",
           "#FF97FF",
           "#FECB52"
          ],
          "font": {
           "color": "#2a3f5f"
          },
          "geo": {
           "bgcolor": "white",
           "lakecolor": "white",
           "landcolor": "#E5ECF6",
           "showlakes": true,
           "showland": true,
           "subunitcolor": "white"
          },
          "hoverlabel": {
           "align": "left"
          },
          "hovermode": "closest",
          "mapbox": {
           "style": "light"
          },
          "paper_bgcolor": "white",
          "plot_bgcolor": "#E5ECF6",
          "polar": {
           "angularaxis": {
            "gridcolor": "white",
            "linecolor": "white",
            "ticks": ""
           },
           "bgcolor": "#E5ECF6",
           "radialaxis": {
            "gridcolor": "white",
            "linecolor": "white",
            "ticks": ""
           }
          },
          "scene": {
           "xaxis": {
            "backgroundcolor": "#E5ECF6",
            "gridcolor": "white",
            "gridwidth": 2,
            "linecolor": "white",
            "showbackground": true,
            "ticks": "",
            "zerolinecolor": "white"
           },
           "yaxis": {
            "backgroundcolor": "#E5ECF6",
            "gridcolor": "white",
            "gridwidth": 2,
            "linecolor": "white",
            "showbackground": true,
            "ticks": "",
            "zerolinecolor": "white"
           },
           "zaxis": {
            "backgroundcolor": "#E5ECF6",
            "gridcolor": "white",
            "gridwidth": 2,
            "linecolor": "white",
            "showbackground": true,
            "ticks": "",
            "zerolinecolor": "white"
           }
          },
          "shapedefaults": {
           "line": {
            "color": "#2a3f5f"
           }
          },
          "ternary": {
           "aaxis": {
            "gridcolor": "white",
            "linecolor": "white",
            "ticks": ""
           },
           "baxis": {
            "gridcolor": "white",
            "linecolor": "white",
            "ticks": ""
           },
           "bgcolor": "#E5ECF6",
           "caxis": {
            "gridcolor": "white",
            "linecolor": "white",
            "ticks": ""
           }
          },
          "title": {
           "x": 0.05
          },
          "xaxis": {
           "automargin": true,
           "gridcolor": "white",
           "linecolor": "white",
           "ticks": "",
           "title": {
            "standoff": 15
           },
           "zerolinecolor": "white",
           "zerolinewidth": 2
          },
          "yaxis": {
           "automargin": true,
           "gridcolor": "white",
           "linecolor": "white",
           "ticks": "",
           "title": {
            "standoff": 15
           },
           "zerolinecolor": "white",
           "zerolinewidth": 2
          }
         }
        },
        "title": {
         "text": "Normalized LCS values for P40337 at position 80"
        },
        "xaxis": {
         "anchor": "y",
         "constrain": "domain",
         "domain": [
          0,
          1
         ],
         "scaleanchor": "y",
         "tickmode": "array",
         "ticktext": [
          -7,
          -6,
          -5,
          -4,
          -3,
          -2,
          -1,
          0,
          1,
          2,
          3,
          4,
          5,
          6,
          7
         ],
         "tickvals": [
          1,
          2,
          3,
          4,
          5,
          6,
          7,
          8,
          9,
          10,
          11,
          12,
          13,
          14,
          15
         ],
         "title": {
          "text": "Mutation Position"
         }
        },
        "yaxis": {
         "anchor": "x",
         "autorange": "reversed",
         "constrain": "domain",
         "domain": [
          0,
          1
         ],
         "dtick": 1,
         "tickmode": "linear",
         "title": {
          "text": "Mutated Amino Acid"
         }
        }
       }
      }
     },
     "metadata": {},
     "output_type": "display_data"
    },
    {
     "name": "stdout",
     "output_type": "stream",
     "text": [
      "\n",
      "Rendering heatmap for: P49711_374_heatmap_data.csv\n"
     ]
    },
    {
     "name": "stderr",
     "output_type": "stream",
     "text": [
      "C:\\Users\\ricea\\AppData\\Local\\Temp\\ipykernel_26764\\4146770678.py:9: FutureWarning:\n",
      "\n",
      "The provided callable <function mean at 0x000002D40831D6C0> is currently using DataFrameGroupBy.mean. In a future version of pandas, the provided callable will be used directly. To keep current behavior pass the string \"mean\" instead.\n",
      "\n"
     ]
    },
    {
     "data": {
      "application/vnd.plotly.v1+json": {
       "config": {
        "plotlyServerURL": "https://plot.ly"
       },
       "data": [
        {
         "coloraxis": "coloraxis",
         "hovertemplate": "Mutation Position: %{x}<br>Mutated Amino Acid: %{y}<br>LCS Ratio: %{z}<extra></extra>",
         "name": "0",
         "type": "heatmap",
         "x": {
          "bdata": "AQIDBAUGBwgJCgsMDQ4P",
          "dtype": "i1"
         },
         "xaxis": "x",
         "y": [
          "A",
          "C",
          "D",
          "E",
          "F",
          "G",
          "H",
          "I",
          "K",
          "L",
          "M",
          "N",
          "P",
          "Q",
          "R",
          "S",
          "T",
          "V",
          "W",
          "Y"
         ],
         "yaxis": "y",
         "z": {
          "bdata": "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",
          "dtype": "f8",
          "shape": "20, 15"
         }
        }
       ],
       "layout": {
        "coloraxis": {
         "colorbar": {
          "ticktext": [
           "0.0",
           "0.25",
           "0.5",
           "0.75",
           "1.0"
          ],
          "tickvals": [
           0,
           0.25,
           0.5,
           0.75,
           1
          ],
          "title": {
           "text": "LCS Ratio"
          }
         },
         "colorscale": [
          [
           0,
           "rgb(0, 147, 146)"
          ],
          [
           0.16666666666666666,
           "rgb(57, 177, 133)"
          ],
          [
           0.3333333333333333,
           "rgb(156, 203, 134)"
          ],
          [
           0.5,
           "rgb(233, 226, 156)"
          ],
          [
           0.6666666666666666,
           "rgb(238, 180, 121)"
          ],
          [
           0.8333333333333334,
           "rgb(232, 132, 113)"
          ],
          [
           1,
           "rgb(207, 89, 126)"
          ]
         ]
        },
        "plot_bgcolor": "white",
        "template": {
         "data": {
          "bar": [
           {
            "error_x": {
             "color": "#2a3f5f"
            },
            "error_y": {
             "color": "#2a3f5f"
            },
            "marker": {
             "line": {
              "color": "#E5ECF6",
              "width": 0.5
             },
             "pattern": {
              "fillmode": "overlay",
              "size": 10,
              "solidity": 0.2
             }
            },
            "type": "bar"
           }
          ],
          "barpolar": [
           {
            "marker": {
             "line": {
              "color": "#E5ECF6",
              "width": 0.5
             },
             "pattern": {
              "fillmode": "overlay",
              "size": 10,
              "solidity": 0.2
             }
            },
            "type": "barpolar"
           }
          ],
          "carpet": [
           {
            "aaxis": {
             "endlinecolor": "#2a3f5f",
             "gridcolor": "white",
             "linecolor": "white",
             "minorgridcolor": "white",
             "startlinecolor": "#2a3f5f"
            },
            "baxis": {
             "endlinecolor": "#2a3f5f",
             "gridcolor": "white",
             "linecolor": "white",
             "minorgridcolor": "white",
             "startlinecolor": "#2a3f5f"
            },
            "type": "carpet"
           }
          ],
          "choropleth": [
           {
            "colorbar": {
             "outlinewidth": 0,
             "ticks": ""
            },
            "type": "choropleth"
           }
          ],
          "contour": [
           {
            "colorbar": {
             "outlinewidth": 0,
             "ticks": ""
            },
            "colorscale": [
             [
              0,
              "#0d0887"
             ],
             [
              0.1111111111111111,
              "#46039f"
             ],
             [
              0.2222222222222222,
              "#7201a8"
             ],
             [
              0.3333333333333333,
              "#9c179e"
             ],
             [
              0.4444444444444444,
              "#bd3786"
             ],
             [
              0.5555555555555556,
              "#d8576b"
             ],
             [
              0.6666666666666666,
              "#ed7953"
             ],
             [
              0.7777777777777778,
              "#fb9f3a"
             ],
             [
              0.8888888888888888,
              "#fdca26"
             ],
             [
              1,
              "#f0f921"
             ]
            ],
            "type": "contour"
           }
          ],
          "contourcarpet": [
           {
            "colorbar": {
             "outlinewidth": 0,
             "ticks": ""
            },
            "type": "contourcarpet"
           }
          ],
          "heatmap": [
           {
            "colorbar": {
             "outlinewidth": 0,
             "ticks": ""
            },
            "colorscale": [
             [
              0,
              "#0d0887"
             ],
             [
              0.1111111111111111,
              "#46039f"
             ],
             [
              0.2222222222222222,
              "#7201a8"
             ],
             [
              0.3333333333333333,
              "#9c179e"
             ],
             [
              0.4444444444444444,
              "#bd3786"
             ],
             [
              0.5555555555555556,
              "#d8576b"
             ],
             [
              0.6666666666666666,
              "#ed7953"
             ],
             [
              0.7777777777777778,
              "#fb9f3a"
             ],
             [
              0.8888888888888888,
              "#fdca26"
             ],
             [
              1,
              "#f0f921"
             ]
            ],
            "type": "heatmap"
           }
          ],
          "histogram": [
           {
            "marker": {
             "pattern": {
              "fillmode": "overlay",
              "size": 10,
              "solidity": 0.2
             }
            },
            "type": "histogram"
           }
          ],
          "histogram2d": [
           {
            "colorbar": {
             "outlinewidth": 0,
             "ticks": ""
            },
            "colorscale": [
             [
              0,
              "#0d0887"
             ],
             [
              0.1111111111111111,
              "#46039f"
             ],
             [
              0.2222222222222222,
              "#7201a8"
             ],
             [
              0.3333333333333333,
              "#9c179e"
             ],
             [
              0.4444444444444444,
              "#bd3786"
             ],
             [
              0.5555555555555556,
              "#d8576b"
             ],
             [
              0.6666666666666666,
              "#ed7953"
             ],
             [
              0.7777777777777778,
              "#fb9f3a"
             ],
             [
              0.8888888888888888,
              "#fdca26"
             ],
             [
              1,
              "#f0f921"
             ]
            ],
            "type": "histogram2d"
           }
          ],
          "histogram2dcontour": [
           {
            "colorbar": {
             "outlinewidth": 0,
             "ticks": ""
            },
            "colorscale": [
             [
              0,
              "#0d0887"
             ],
             [
              0.1111111111111111,
              "#46039f"
             ],
             [
              0.2222222222222222,
              "#7201a8"
             ],
             [
              0.3333333333333333,
              "#9c179e"
             ],
             [
              0.4444444444444444,
              "#bd3786"
             ],
             [
              0.5555555555555556,
              "#d8576b"
             ],
             [
              0.6666666666666666,
              "#ed7953"
             ],
             [
              0.7777777777777778,
              "#fb9f3a"
             ],
             [
              0.8888888888888888,
              "#fdca26"
             ],
             [
              1,
              "#f0f921"
             ]
            ],
            "type": "histogram2dcontour"
           }
          ],
          "mesh3d": [
           {
            "colorbar": {
             "outlinewidth": 0,
             "ticks": ""
            },
            "type": "mesh3d"
           }
          ],
          "parcoords": [
           {
            "line": {
             "colorbar": {
              "outlinewidth": 0,
              "ticks": ""
             }
            },
            "type": "parcoords"
           }
          ],
          "pie": [
           {
            "automargin": true,
            "type": "pie"
           }
          ],
          "scatter": [
           {
            "fillpattern": {
             "fillmode": "overlay",
             "size": 10,
             "solidity": 0.2
            },
            "type": "scatter"
           }
          ],
          "scatter3d": [
           {
            "line": {
             "colorbar": {
              "outlinewidth": 0,
              "ticks": ""
             }
            },
            "marker": {
             "colorbar": {
              "outlinewidth": 0,
              "ticks": ""
             }
            },
            "type": "scatter3d"
           }
          ],
          "scattercarpet": [
           {
            "marker": {
             "colorbar": {
              "outlinewidth": 0,
              "ticks": ""
             }
            },
            "type": "scattercarpet"
           }
          ],
          "scattergeo": [
           {
            "marker": {
             "colorbar": {
              "outlinewidth": 0,
              "ticks": ""
             }
            },
            "type": "scattergeo"
           }
          ],
          "scattergl": [
           {
            "marker": {
             "colorbar": {
              "outlinewidth": 0,
              "ticks": ""
             }
            },
            "type": "scattergl"
           }
          ],
          "scattermap": [
           {
            "marker": {
             "colorbar": {
              "outlinewidth": 0,
              "ticks": ""
             }
            },
            "type": "scattermap"
           }
          ],
          "scattermapbox": [
           {
            "marker": {
             "colorbar": {
              "outlinewidth": 0,
              "ticks": ""
             }
            },
            "type": "scattermapbox"
           }
          ],
          "scatterpolar": [
           {
            "marker": {
             "colorbar": {
              "outlinewidth": 0,
              "ticks": ""
             }
            },
            "type": "scatterpolar"
           }
          ],
          "scatterpolargl": [
           {
            "marker": {
             "colorbar": {
              "outlinewidth": 0,
              "ticks": ""
             }
            },
            "type": "scatterpolargl"
           }
          ],
          "scatterternary": [
           {
            "marker": {
             "colorbar": {
              "outlinewidth": 0,
              "ticks": ""
             }
            },
            "type": "scatterternary"
           }
          ],
          "surface": [
           {
            "colorbar": {
             "outlinewidth": 0,
             "ticks": ""
            },
            "colorscale": [
             [
              0,
              "#0d0887"
             ],
             [
              0.1111111111111111,
              "#46039f"
             ],
             [
              0.2222222222222222,
              "#7201a8"
             ],
             [
              0.3333333333333333,
              "#9c179e"
             ],
             [
              0.4444444444444444,
              "#bd3786"
             ],
             [
              0.5555555555555556,
              "#d8576b"
             ],
             [
              0.6666666666666666,
              "#ed7953"
             ],
             [
              0.7777777777777778,
              "#fb9f3a"
             ],
             [
              0.8888888888888888,
              "#fdca26"
             ],
             [
              1,
              "#f0f921"
             ]
            ],
            "type": "surface"
           }
          ],
          "table": [
           {
            "cells": {
             "fill": {
              "color": "#EBF0F8"
             },
             "line": {
              "color": "white"
             }
            },
            "header": {
             "fill": {
              "color": "#C8D4E3"
             },
             "line": {
              "color": "white"
             }
            },
            "type": "table"
           }
          ]
         },
         "layout": {
          "annotationdefaults": {
           "arrowcolor": "#2a3f5f",
           "arrowhead": 0,
           "arrowwidth": 1
          },
          "autotypenumbers": "strict",
          "coloraxis": {
           "colorbar": {
            "outlinewidth": 0,
            "ticks": ""
           }
          },
          "colorscale": {
           "diverging": [
            [
             0,
             "#8e0152"
            ],
            [
             0.1,
             "#c51b7d"
            ],
            [
             0.2,
             "#de77ae"
            ],
            [
             0.3,
             "#f1b6da"
            ],
            [
             0.4,
             "#fde0ef"
            ],
            [
             0.5,
             "#f7f7f7"
            ],
            [
             0.6,
             "#e6f5d0"
            ],
            [
             0.7,
             "#b8e186"
            ],
            [
             0.8,
             "#7fbc41"
            ],
            [
             0.9,
             "#4d9221"
            ],
            [
             1,
             "#276419"
            ]
           ],
           "sequential": [
            [
             0,
             "#0d0887"
            ],
            [
             0.1111111111111111,
             "#46039f"
            ],
            [
             0.2222222222222222,
             "#7201a8"
            ],
            [
             0.3333333333333333,
             "#9c179e"
            ],
            [
             0.4444444444444444,
             "#bd3786"
            ],
            [
             0.5555555555555556,
             "#d8576b"
            ],
            [
             0.6666666666666666,
             "#ed7953"
            ],
            [
             0.7777777777777778,
             "#fb9f3a"
            ],
            [
             0.8888888888888888,
             "#fdca26"
            ],
            [
             1,
             "#f0f921"
            ]
           ],
           "sequentialminus": [
            [
             0,
             "#0d0887"
            ],
            [
             0.1111111111111111,
             "#46039f"
            ],
            [
             0.2222222222222222,
             "#7201a8"
            ],
            [
             0.3333333333333333,
             "#9c179e"
            ],
            [
             0.4444444444444444,
             "#bd3786"
            ],
            [
             0.5555555555555556,
             "#d8576b"
            ],
            [
             0.6666666666666666,
             "#ed7953"
            ],
            [
             0.7777777777777778,
             "#fb9f3a"
            ],
            [
             0.8888888888888888,
             "#fdca26"
            ],
            [
             1,
             "#f0f921"
            ]
           ]
          },
          "colorway": [
           "#636efa",
           "#EF553B",
           "#00cc96",
           "#ab63fa",
           "#FFA15A",
           "#19d3f3",
           "#FF6692",
           "#B6E880",
           "#FF97FF",
           "#FECB52"
          ],
          "font": {
           "color": "#2a3f5f"
          },
          "geo": {
           "bgcolor": "white",
           "lakecolor": "white",
           "landcolor": "#E5ECF6",
           "showlakes": true,
           "showland": true,
           "subunitcolor": "white"
          },
          "hoverlabel": {
           "align": "left"
          },
          "hovermode": "closest",
          "mapbox": {
           "style": "light"
          },
          "paper_bgcolor": "white",
          "plot_bgcolor": "#E5ECF6",
          "polar": {
           "angularaxis": {
            "gridcolor": "white",
            "linecolor": "white",
            "ticks": ""
           },
           "bgcolor": "#E5ECF6",
           "radialaxis": {
            "gridcolor": "white",
            "linecolor": "white",
            "ticks": ""
           }
          },
          "scene": {
           "xaxis": {
            "backgroundcolor": "#E5ECF6",
            "gridcolor": "white",
            "gridwidth": 2,
            "linecolor": "white",
            "showbackground": true,
            "ticks": "",
            "zerolinecolor": "white"
           },
           "yaxis": {
            "backgroundcolor": "#E5ECF6",
            "gridcolor": "white",
            "gridwidth": 2,
            "linecolor": "white",
            "showbackground": true,
            "ticks": "",
            "zerolinecolor": "white"
           },
           "zaxis": {
            "backgroundcolor": "#E5ECF6",
            "gridcolor": "white",
            "gridwidth": 2,
            "linecolor": "white",
            "showbackground": true,
            "ticks": "",
            "zerolinecolor": "white"
           }
          },
          "shapedefaults": {
           "line": {
            "color": "#2a3f5f"
           }
          },
          "ternary": {
           "aaxis": {
            "gridcolor": "white",
            "linecolor": "white",
            "ticks": ""
           },
           "baxis": {
            "gridcolor": "white",
            "linecolor": "white",
            "ticks": ""
           },
           "bgcolor": "#E5ECF6",
           "caxis": {
            "gridcolor": "white",
            "linecolor": "white",
            "ticks": ""
           }
          },
          "title": {
           "x": 0.05
          },
          "xaxis": {
           "automargin": true,
           "gridcolor": "white",
           "linecolor": "white",
           "ticks": "",
           "title": {
            "standoff": 15
           },
           "zerolinecolor": "white",
           "zerolinewidth": 2
          },
          "yaxis": {
           "automargin": true,
           "gridcolor": "white",
           "linecolor": "white",
           "ticks": "",
           "title": {
            "standoff": 15
           },
           "zerolinecolor": "white",
           "zerolinewidth": 2
          }
         }
        },
        "title": {
         "text": "Normalized LCS values for P49711 at position 374"
        },
        "xaxis": {
         "anchor": "y",
         "constrain": "domain",
         "domain": [
          0,
          1
         ],
         "scaleanchor": "y",
         "tickmode": "array",
         "ticktext": [
          -7,
          -6,
          -5,
          -4,
          -3,
          -2,
          -1,
          0,
          1,
          2,
          3,
          4,
          5,
          6,
          7
         ],
         "tickvals": [
          1,
          2,
          3,
          4,
          5,
          6,
          7,
          8,
          9,
          10,
          11,
          12,
          13,
          14,
          15
         ],
         "title": {
          "text": "Mutation Position"
         }
        },
        "yaxis": {
         "anchor": "x",
         "autorange": "reversed",
         "constrain": "domain",
         "domain": [
          0,
          1
         ],
         "dtick": 1,
         "tickmode": "linear",
         "title": {
          "text": "Mutated Amino Acid"
         }
        }
       }
      }
     },
     "metadata": {},
     "output_type": "display_data"
    },
    {
     "name": "stdout",
     "output_type": "stream",
     "text": [
      "\n",
      "Rendering heatmap for: P49711_450_heatmap_data.csv\n"
     ]
    },
    {
     "name": "stderr",
     "output_type": "stream",
     "text": [
      "C:\\Users\\ricea\\AppData\\Local\\Temp\\ipykernel_26764\\4146770678.py:9: FutureWarning:\n",
      "\n",
      "The provided callable <function mean at 0x000002D40831D6C0> is currently using DataFrameGroupBy.mean. In a future version of pandas, the provided callable will be used directly. To keep current behavior pass the string \"mean\" instead.\n",
      "\n"
     ]
    },
    {
     "data": {
      "application/vnd.plotly.v1+json": {
       "config": {
        "plotlyServerURL": "https://plot.ly"
       },
       "data": [
        {
         "coloraxis": "coloraxis",
         "hovertemplate": "Mutation Position: %{x}<br>Mutated Amino Acid: %{y}<br>LCS Ratio: %{z}<extra></extra>",
         "name": "0",
         "type": "heatmap",
         "x": {
          "bdata": "AQIDBAUGBwgJCgsMDQ4P",
          "dtype": "i1"
         },
         "xaxis": "x",
         "y": [
          "A",
          "C",
          "D",
          "E",
          "F",
          "G",
          "H",
          "I",
          "K",
          "L",
          "M",
          "N",
          "P",
          "Q",
          "R",
          "S",
          "T",
          "V",
          "W",
          "Y"
         ],
         "yaxis": "y",
         "z": {
          "bdata": "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",
          "dtype": "f8",
          "shape": "20, 15"
         }
        }
       ],
       "layout": {
        "coloraxis": {
         "colorbar": {
          "ticktext": [
           "0.0",
           "0.25",
           "0.5",
           "0.75",
           "1.0"
          ],
          "tickvals": [
           0,
           0.25,
           0.5,
           0.75,
           1
          ],
          "title": {
           "text": "LCS Ratio"
          }
         },
         "colorscale": [
          [
           0,
           "rgb(0, 147, 146)"
          ],
          [
           0.16666666666666666,
           "rgb(57, 177, 133)"
          ],
          [
           0.3333333333333333,
           "rgb(156, 203, 134)"
          ],
          [
           0.5,
           "rgb(233, 226, 156)"
          ],
          [
           0.6666666666666666,
           "rgb(238, 180, 121)"
          ],
          [
           0.8333333333333334,
           "rgb(232, 132, 113)"
          ],
          [
           1,
           "rgb(207, 89, 126)"
          ]
         ]
        },
        "plot_bgcolor": "white",
        "template": {
         "data": {
          "bar": [
           {
            "error_x": {
             "color": "#2a3f5f"
            },
            "error_y": {
             "color": "#2a3f5f"
            },
            "marker": {
             "line": {
              "color": "#E5ECF6",
              "width": 0.5
             },
             "pattern": {
              "fillmode": "overlay",
              "size": 10,
              "solidity": 0.2
             }
            },
            "type": "bar"
           }
          ],
          "barpolar": [
           {
            "marker": {
             "line": {
              "color": "#E5ECF6",
              "width": 0.5
             },
             "pattern": {
              "fillmode": "overlay",
              "size": 10,
              "solidity": 0.2
             }
            },
            "type": "barpolar"
           }
          ],
          "carpet": [
           {
            "aaxis": {
             "endlinecolor": "#2a3f5f",
             "gridcolor": "white",
             "linecolor": "white",
             "minorgridcolor": "white",
             "startlinecolor": "#2a3f5f"
            },
            "baxis": {
             "endlinecolor": "#2a3f5f",
             "gridcolor": "white",
             "linecolor": "white",
             "minorgridcolor": "white",
             "startlinecolor": "#2a3f5f"
            },
            "type": "carpet"
           }
          ],
          "choropleth": [
           {
            "colorbar": {
             "outlinewidth": 0,
             "ticks": ""
            },
            "type": "choropleth"
           }
          ],
          "contour": [
           {
            "colorbar": {
             "outlinewidth": 0,
             "ticks": ""
            },
            "colorscale": [
             [
              0,
              "#0d0887"
             ],
             [
              0.1111111111111111,
              "#46039f"
             ],
             [
              0.2222222222222222,
              "#7201a8"
             ],
             [
              0.3333333333333333,
              "#9c179e"
             ],
             [
              0.4444444444444444,
              "#bd3786"
             ],
             [
              0.5555555555555556,
              "#d8576b"
             ],
             [
              0.6666666666666666,
              "#ed7953"
             ],
             [
              0.7777777777777778,
              "#fb9f3a"
             ],
             [
              0.8888888888888888,
              "#fdca26"
             ],
             [
              1,
              "#f0f921"
             ]
            ],
            "type": "contour"
           }
          ],
          "contourcarpet": [
           {
            "colorbar": {
             "outlinewidth": 0,
             "ticks": ""
            },
            "type": "contourcarpet"
           }
          ],
          "heatmap": [
           {
            "colorbar": {
             "outlinewidth": 0,
             "ticks": ""
            },
            "colorscale": [
             [
              0,
              "#0d0887"
             ],
             [
              0.1111111111111111,
              "#46039f"
             ],
             [
              0.2222222222222222,
              "#7201a8"
             ],
             [
              0.3333333333333333,
              "#9c179e"
             ],
             [
              0.4444444444444444,
              "#bd3786"
             ],
             [
              0.5555555555555556,
              "#d8576b"
             ],
             [
              0.6666666666666666,
              "#ed7953"
             ],
             [
              0.7777777777777778,
              "#fb9f3a"
             ],
             [
              0.8888888888888888,
              "#fdca26"
             ],
             [
              1,
              "#f0f921"
             ]
            ],
            "type": "heatmap"
           }
          ],
          "histogram": [
           {
            "marker": {
             "pattern": {
              "fillmode": "overlay",
              "size": 10,
              "solidity": 0.2
             }
            },
            "type": "histogram"
           }
          ],
          "histogram2d": [
           {
            "colorbar": {
             "outlinewidth": 0,
             "ticks": ""
            },
            "colorscale": [
             [
              0,
              "#0d0887"
             ],
             [
              0.1111111111111111,
              "#46039f"
             ],
             [
              0.2222222222222222,
              "#7201a8"
             ],
             [
              0.3333333333333333,
              "#9c179e"
             ],
             [
              0.4444444444444444,
              "#bd3786"
             ],
             [
              0.5555555555555556,
              "#d8576b"
             ],
             [
              0.6666666666666666,
              "#ed7953"
             ],
             [
              0.7777777777777778,
              "#fb9f3a"
             ],
             [
              0.8888888888888888,
              "#fdca26"
             ],
             [
              1,
              "#f0f921"
             ]
            ],
            "type": "histogram2d"
           }
          ],
          "histogram2dcontour": [
           {
            "colorbar": {
             "outlinewidth": 0,
             "ticks": ""
            },
            "colorscale": [
             [
              0,
              "#0d0887"
             ],
             [
              0.1111111111111111,
              "#46039f"
             ],
             [
              0.2222222222222222,
              "#7201a8"
             ],
             [
              0.3333333333333333,
              "#9c179e"
             ],
             [
              0.4444444444444444,
              "#bd3786"
             ],
             [
              0.5555555555555556,
              "#d8576b"
             ],
             [
              0.6666666666666666,
              "#ed7953"
             ],
             [
              0.7777777777777778,
              "#fb9f3a"
             ],
             [
              0.8888888888888888,
              "#fdca26"
             ],
             [
              1,
              "#f0f921"
             ]
            ],
            "type": "histogram2dcontour"
           }
          ],
          "mesh3d": [
           {
            "colorbar": {
             "outlinewidth": 0,
             "ticks": ""
            },
            "type": "mesh3d"
           }
          ],
          "parcoords": [
           {
            "line": {
             "colorbar": {
              "outlinewidth": 0,
              "ticks": ""
             }
            },
            "type": "parcoords"
           }
          ],
          "pie": [
           {
            "automargin": true,
            "type": "pie"
           }
          ],
          "scatter": [
           {
            "fillpattern": {
             "fillmode": "overlay",
             "size": 10,
             "solidity": 0.2
            },
            "type": "scatter"
           }
          ],
          "scatter3d": [
           {
            "line": {
             "colorbar": {
              "outlinewidth": 0,
              "ticks": ""
             }
            },
            "marker": {
             "colorbar": {
              "outlinewidth": 0,
              "ticks": ""
             }
            },
            "type": "scatter3d"
           }
          ],
          "scattercarpet": [
           {
            "marker": {
             "colorbar": {
              "outlinewidth": 0,
              "ticks": ""
             }
            },
            "type": "scattercarpet"
           }
          ],
          "scattergeo": [
           {
            "marker": {
             "colorbar": {
              "outlinewidth": 0,
              "ticks": ""
             }
            },
            "type": "scattergeo"
           }
          ],
          "scattergl": [
           {
            "marker": {
             "colorbar": {
              "outlinewidth": 0,
              "ticks": ""
             }
            },
            "type": "scattergl"
           }
          ],
          "scattermap": [
           {
            "marker": {
             "colorbar": {
              "outlinewidth": 0,
              "ticks": ""
             }
            },
            "type": "scattermap"
           }
          ],
          "scattermapbox": [
           {
            "marker": {
             "colorbar": {
              "outlinewidth": 0,
              "ticks": ""
             }
            },
            "type": "scattermapbox"
           }
          ],
          "scatterpolar": [
           {
            "marker": {
             "colorbar": {
              "outlinewidth": 0,
              "ticks": ""
             }
            },
            "type": "scatterpolar"
           }
          ],
          "scatterpolargl": [
           {
            "marker": {
             "colorbar": {
              "outlinewidth": 0,
              "ticks": ""
             }
            },
            "type": "scatterpolargl"
           }
          ],
          "scatterternary": [
           {
            "marker": {
             "colorbar": {
              "outlinewidth": 0,
              "ticks": ""
             }
            },
            "type": "scatterternary"
           }
          ],
          "surface": [
           {
            "colorbar": {
             "outlinewidth": 0,
             "ticks": ""
            },
            "colorscale": [
             [
              0,
              "#0d0887"
             ],
             [
              0.1111111111111111,
              "#46039f"
             ],
             [
              0.2222222222222222,
              "#7201a8"
             ],
             [
              0.3333333333333333,
              "#9c179e"
             ],
             [
              0.4444444444444444,
              "#bd3786"
             ],
             [
              0.5555555555555556,
              "#d8576b"
             ],
             [
              0.6666666666666666,
              "#ed7953"
             ],
             [
              0.7777777777777778,
              "#fb9f3a"
             ],
             [
              0.8888888888888888,
              "#fdca26"
             ],
             [
              1,
              "#f0f921"
             ]
            ],
            "type": "surface"
           }
          ],
          "table": [
           {
            "cells": {
             "fill": {
              "color": "#EBF0F8"
             },
             "line": {
              "color": "white"
             }
            },
            "header": {
             "fill": {
              "color": "#C8D4E3"
             },
             "line": {
              "color": "white"
             }
            },
            "type": "table"
           }
          ]
         },
         "layout": {
          "annotationdefaults": {
           "arrowcolor": "#2a3f5f",
           "arrowhead": 0,
           "arrowwidth": 1
          },
          "autotypenumbers": "strict",
          "coloraxis": {
           "colorbar": {
            "outlinewidth": 0,
            "ticks": ""
           }
          },
          "colorscale": {
           "diverging": [
            [
             0,
             "#8e0152"
            ],
            [
             0.1,
             "#c51b7d"
            ],
            [
             0.2,
             "#de77ae"
            ],
            [
             0.3,
             "#f1b6da"
            ],
            [
             0.4,
             "#fde0ef"
            ],
            [
             0.5,
             "#f7f7f7"
            ],
            [
             0.6,
             "#e6f5d0"
            ],
            [
             0.7,
             "#b8e186"
            ],
            [
             0.8,
             "#7fbc41"
            ],
            [
             0.9,
             "#4d9221"
            ],
            [
             1,
             "#276419"
            ]
           ],
           "sequential": [
            [
             0,
             "#0d0887"
            ],
            [
             0.1111111111111111,
             "#46039f"
            ],
            [
             0.2222222222222222,
             "#7201a8"
            ],
            [
             0.3333333333333333,
             "#9c179e"
            ],
            [
             0.4444444444444444,
             "#bd3786"
            ],
            [
             0.5555555555555556,
             "#d8576b"
            ],
            [
             0.6666666666666666,
             "#ed7953"
            ],
            [
             0.7777777777777778,
             "#fb9f3a"
            ],
            [
             0.8888888888888888,
             "#fdca26"
            ],
            [
             1,
             "#f0f921"
            ]
           ],
           "sequentialminus": [
            [
             0,
             "#0d0887"
            ],
            [
             0.1111111111111111,
             "#46039f"
            ],
            [
             0.2222222222222222,
             "#7201a8"
            ],
            [
             0.3333333333333333,
             "#9c179e"
            ],
            [
             0.4444444444444444,
             "#bd3786"
            ],
            [
             0.5555555555555556,
             "#d8576b"
            ],
            [
             0.6666666666666666,
             "#ed7953"
            ],
            [
             0.7777777777777778,
             "#fb9f3a"
            ],
            [
             0.8888888888888888,
             "#fdca26"
            ],
            [
             1,
             "#f0f921"
            ]
           ]
          },
          "colorway": [
           "#636efa",
           "#EF553B",
           "#00cc96",
           "#ab63fa",
           "#FFA15A",
           "#19d3f3",
           "#FF6692",
           "#B6E880",
           "#FF97FF",
           "#FECB52"
          ],
          "font": {
           "color": "#2a3f5f"
          },
          "geo": {
           "bgcolor": "white",
           "lakecolor": "white",
           "landcolor": "#E5ECF6",
           "showlakes": true,
           "showland": true,
           "subunitcolor": "white"
          },
          "hoverlabel": {
           "align": "left"
          },
          "hovermode": "closest",
          "mapbox": {
           "style": "light"
          },
          "paper_bgcolor": "white",
          "plot_bgcolor": "#E5ECF6",
          "polar": {
           "angularaxis": {
            "gridcolor": "white",
            "linecolor": "white",
            "ticks": ""
           },
           "bgcolor": "#E5ECF6",
           "radialaxis": {
            "gridcolor": "white",
            "linecolor": "white",
            "ticks": ""
           }
          },
          "scene": {
           "xaxis": {
            "backgroundcolor": "#E5ECF6",
            "gridcolor": "white",
            "gridwidth": 2,
            "linecolor": "white",
            "showbackground": true,
            "ticks": "",
            "zerolinecolor": "white"
           },
           "yaxis": {
            "backgroundcolor": "#E5ECF6",
            "gridcolor": "white",
            "gridwidth": 2,
            "linecolor": "white",
            "showbackground": true,
            "ticks": "",
            "zerolinecolor": "white"
           },
           "zaxis": {
            "backgroundcolor": "#E5ECF6",
            "gridcolor": "white",
            "gridwidth": 2,
            "linecolor": "white",
            "showbackground": true,
            "ticks": "",
            "zerolinecolor": "white"
           }
          },
          "shapedefaults": {
           "line": {
            "color": "#2a3f5f"
           }
          },
          "ternary": {
           "aaxis": {
            "gridcolor": "white",
            "linecolor": "white",
            "ticks": ""
           },
           "baxis": {
            "gridcolor": "white",
            "linecolor": "white",
            "ticks": ""
           },
           "bgcolor": "#E5ECF6",
           "caxis": {
            "gridcolor": "white",
            "linecolor": "white",
            "ticks": ""
           }
          },
          "title": {
           "x": 0.05
          },
          "xaxis": {
           "automargin": true,
           "gridcolor": "white",
           "linecolor": "white",
           "ticks": "",
           "title": {
            "standoff": 15
           },
           "zerolinecolor": "white",
           "zerolinewidth": 2
          },
          "yaxis": {
           "automargin": true,
           "gridcolor": "white",
           "linecolor": "white",
           "ticks": "",
           "title": {
            "standoff": 15
           },
           "zerolinecolor": "white",
           "zerolinewidth": 2
          }
         }
        },
        "title": {
         "text": "Normalized LCS values for P49711 at position 450"
        },
        "xaxis": {
         "anchor": "y",
         "constrain": "domain",
         "domain": [
          0,
          1
         ],
         "scaleanchor": "y",
         "tickmode": "array",
         "ticktext": [
          -7,
          -6,
          -5,
          -4,
          -3,
          -2,
          -1,
          0,
          1,
          2,
          3,
          4,
          5,
          6,
          7
         ],
         "tickvals": [
          1,
          2,
          3,
          4,
          5,
          6,
          7,
          8,
          9,
          10,
          11,
          12,
          13,
          14,
          15
         ],
         "title": {
          "text": "Mutation Position"
         }
        },
        "yaxis": {
         "anchor": "x",
         "autorange": "reversed",
         "constrain": "domain",
         "domain": [
          0,
          1
         ],
         "dtick": 1,
         "tickmode": "linear",
         "title": {
          "text": "Mutated Amino Acid"
         }
        }
       }
      }
     },
     "metadata": {},
     "output_type": "display_data"
    },
    {
     "name": "stdout",
     "output_type": "stream",
     "text": [
      "\n",
      "Rendering heatmap for: P60709_202_heatmap_data.csv\n"
     ]
    },
    {
     "name": "stderr",
     "output_type": "stream",
     "text": [
      "C:\\Users\\ricea\\AppData\\Local\\Temp\\ipykernel_26764\\4146770678.py:9: FutureWarning:\n",
      "\n",
      "The provided callable <function mean at 0x000002D40831D6C0> is currently using DataFrameGroupBy.mean. In a future version of pandas, the provided callable will be used directly. To keep current behavior pass the string \"mean\" instead.\n",
      "\n"
     ]
    },
    {
     "data": {
      "application/vnd.plotly.v1+json": {
       "config": {
        "plotlyServerURL": "https://plot.ly"
       },
       "data": [
        {
         "coloraxis": "coloraxis",
         "hovertemplate": "Mutation Position: %{x}<br>Mutated Amino Acid: %{y}<br>LCS Ratio: %{z}<extra></extra>",
         "name": "0",
         "type": "heatmap",
         "x": {
          "bdata": "AQIDBAUGBwgJCgsMDQ4P",
          "dtype": "i1"
         },
         "xaxis": "x",
         "y": [
          "A",
          "C",
          "D",
          "E",
          "F",
          "G",
          "H",
          "I",
          "K",
          "L",
          "M",
          "N",
          "P",
          "Q",
          "R",
          "S",
          "T",
          "V",
          "W",
          "Y"
         ],
         "yaxis": "y",
         "z": {
          "bdata": "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",
          "dtype": "f8",
          "shape": "20, 15"
         }
        }
       ],
       "layout": {
        "coloraxis": {
         "colorbar": {
          "ticktext": [
           "0.0",
           "0.25",
           "0.5",
           "0.75",
           "1.0"
          ],
          "tickvals": [
           0,
           0.25,
           0.5,
           0.75,
           1
          ],
          "title": {
           "text": "LCS Ratio"
          }
         },
         "colorscale": [
          [
           0,
           "rgb(0, 147, 146)"
          ],
          [
           0.16666666666666666,
           "rgb(57, 177, 133)"
          ],
          [
           0.3333333333333333,
           "rgb(156, 203, 134)"
          ],
          [
           0.5,
           "rgb(233, 226, 156)"
          ],
          [
           0.6666666666666666,
           "rgb(238, 180, 121)"
          ],
          [
           0.8333333333333334,
           "rgb(232, 132, 113)"
          ],
          [
           1,
           "rgb(207, 89, 126)"
          ]
         ]
        },
        "plot_bgcolor": "white",
        "template": {
         "data": {
          "bar": [
           {
            "error_x": {
             "color": "#2a3f5f"
            },
            "error_y": {
             "color": "#2a3f5f"
            },
            "marker": {
             "line": {
              "color": "#E5ECF6",
              "width": 0.5
             },
             "pattern": {
              "fillmode": "overlay",
              "size": 10,
              "solidity": 0.2
             }
            },
            "type": "bar"
           }
          ],
          "barpolar": [
           {
            "marker": {
             "line": {
              "color": "#E5ECF6",
              "width": 0.5
             },
             "pattern": {
              "fillmode": "overlay",
              "size": 10,
              "solidity": 0.2
             }
            },
            "type": "barpolar"
           }
          ],
          "carpet": [
           {
            "aaxis": {
             "endlinecolor": "#2a3f5f",
             "gridcolor": "white",
             "linecolor": "white",
             "minorgridcolor": "white",
             "startlinecolor": "#2a3f5f"
            },
            "baxis": {
             "endlinecolor": "#2a3f5f",
             "gridcolor": "white",
             "linecolor": "white",
             "minorgridcolor": "white",
             "startlinecolor": "#2a3f5f"
            },
            "type": "carpet"
           }
          ],
          "choropleth": [
           {
            "colorbar": {
             "outlinewidth": 0,
             "ticks": ""
            },
            "type": "choropleth"
           }
          ],
          "contour": [
           {
            "colorbar": {
             "outlinewidth": 0,
             "ticks": ""
            },
            "colorscale": [
             [
              0,
              "#0d0887"
             ],
             [
              0.1111111111111111,
              "#46039f"
             ],
             [
              0.2222222222222222,
              "#7201a8"
             ],
             [
              0.3333333333333333,
              "#9c179e"
             ],
             [
              0.4444444444444444,
              "#bd3786"
             ],
             [
              0.5555555555555556,
              "#d8576b"
             ],
             [
              0.6666666666666666,
              "#ed7953"
             ],
             [
              0.7777777777777778,
              "#fb9f3a"
             ],
             [
              0.8888888888888888,
              "#fdca26"
             ],
             [
              1,
              "#f0f921"
             ]
            ],
            "type": "contour"
           }
          ],
          "contourcarpet": [
           {
            "colorbar": {
             "outlinewidth": 0,
             "ticks": ""
            },
            "type": "contourcarpet"
           }
          ],
          "heatmap": [
           {
            "colorbar": {
             "outlinewidth": 0,
             "ticks": ""
            },
            "colorscale": [
             [
              0,
              "#0d0887"
             ],
             [
              0.1111111111111111,
              "#46039f"
             ],
             [
              0.2222222222222222,
              "#7201a8"
             ],
             [
              0.3333333333333333,
              "#9c179e"
             ],
             [
              0.4444444444444444,
              "#bd3786"
             ],
             [
              0.5555555555555556,
              "#d8576b"
             ],
             [
              0.6666666666666666,
              "#ed7953"
             ],
             [
              0.7777777777777778,
              "#fb9f3a"
             ],
             [
              0.8888888888888888,
              "#fdca26"
             ],
             [
              1,
              "#f0f921"
             ]
            ],
            "type": "heatmap"
           }
          ],
          "histogram": [
           {
            "marker": {
             "pattern": {
              "fillmode": "overlay",
              "size": 10,
              "solidity": 0.2
             }
            },
            "type": "histogram"
           }
          ],
          "histogram2d": [
           {
            "colorbar": {
             "outlinewidth": 0,
             "ticks": ""
            },
            "colorscale": [
             [
              0,
              "#0d0887"
             ],
             [
              0.1111111111111111,
              "#46039f"
             ],
             [
              0.2222222222222222,
              "#7201a8"
             ],
             [
              0.3333333333333333,
              "#9c179e"
             ],
             [
              0.4444444444444444,
              "#bd3786"
             ],
             [
              0.5555555555555556,
              "#d8576b"
             ],
             [
              0.6666666666666666,
              "#ed7953"
             ],
             [
              0.7777777777777778,
              "#fb9f3a"
             ],
             [
              0.8888888888888888,
              "#fdca26"
             ],
             [
              1,
              "#f0f921"
             ]
            ],
            "type": "histogram2d"
           }
          ],
          "histogram2dcontour": [
           {
            "colorbar": {
             "outlinewidth": 0,
             "ticks": ""
            },
            "colorscale": [
             [
              0,
              "#0d0887"
             ],
             [
              0.1111111111111111,
              "#46039f"
             ],
             [
              0.2222222222222222,
              "#7201a8"
             ],
             [
              0.3333333333333333,
              "#9c179e"
             ],
             [
              0.4444444444444444,
              "#bd3786"
             ],
             [
              0.5555555555555556,
              "#d8576b"
             ],
             [
              0.6666666666666666,
              "#ed7953"
             ],
             [
              0.7777777777777778,
              "#fb9f3a"
             ],
             [
              0.8888888888888888,
              "#fdca26"
             ],
             [
              1,
              "#f0f921"
             ]
            ],
            "type": "histogram2dcontour"
           }
          ],
          "mesh3d": [
           {
            "colorbar": {
             "outlinewidth": 0,
             "ticks": ""
            },
            "type": "mesh3d"
           }
          ],
          "parcoords": [
           {
            "line": {
             "colorbar": {
              "outlinewidth": 0,
              "ticks": ""
             }
            },
            "type": "parcoords"
           }
          ],
          "pie": [
           {
            "automargin": true,
            "type": "pie"
           }
          ],
          "scatter": [
           {
            "fillpattern": {
             "fillmode": "overlay",
             "size": 10,
             "solidity": 0.2
            },
            "type": "scatter"
           }
          ],
          "scatter3d": [
           {
            "line": {
             "colorbar": {
              "outlinewidth": 0,
              "ticks": ""
             }
            },
            "marker": {
             "colorbar": {
              "outlinewidth": 0,
              "ticks": ""
             }
            },
            "type": "scatter3d"
           }
          ],
          "scattercarpet": [
           {
            "marker": {
             "colorbar": {
              "outlinewidth": 0,
              "ticks": ""
             }
            },
            "type": "scattercarpet"
           }
          ],
          "scattergeo": [
           {
            "marker": {
             "colorbar": {
              "outlinewidth": 0,
              "ticks": ""
             }
            },
            "type": "scattergeo"
           }
          ],
          "scattergl": [
           {
            "marker": {
             "colorbar": {
              "outlinewidth": 0,
              "ticks": ""
             }
            },
            "type": "scattergl"
           }
          ],
          "scattermap": [
           {
            "marker": {
             "colorbar": {
              "outlinewidth": 0,
              "ticks": ""
             }
            },
            "type": "scattermap"
           }
          ],
          "scattermapbox": [
           {
            "marker": {
             "colorbar": {
              "outlinewidth": 0,
              "ticks": ""
             }
            },
            "type": "scattermapbox"
           }
          ],
          "scatterpolar": [
           {
            "marker": {
             "colorbar": {
              "outlinewidth": 0,
              "ticks": ""
             }
            },
            "type": "scatterpolar"
           }
          ],
          "scatterpolargl": [
           {
            "marker": {
             "colorbar": {
              "outlinewidth": 0,
              "ticks": ""
             }
            },
            "type": "scatterpolargl"
           }
          ],
          "scatterternary": [
           {
            "marker": {
             "colorbar": {
              "outlinewidth": 0,
              "ticks": ""
             }
            },
            "type": "scatterternary"
           }
          ],
          "surface": [
           {
            "colorbar": {
             "outlinewidth": 0,
             "ticks": ""
            },
            "colorscale": [
             [
              0,
              "#0d0887"
             ],
             [
              0.1111111111111111,
              "#46039f"
             ],
             [
              0.2222222222222222,
              "#7201a8"
             ],
             [
              0.3333333333333333,
              "#9c179e"
             ],
             [
              0.4444444444444444,
              "#bd3786"
             ],
             [
              0.5555555555555556,
              "#d8576b"
             ],
             [
              0.6666666666666666,
              "#ed7953"
             ],
             [
              0.7777777777777778,
              "#fb9f3a"
             ],
             [
              0.8888888888888888,
              "#fdca26"
             ],
             [
              1,
              "#f0f921"
             ]
            ],
            "type": "surface"
           }
          ],
          "table": [
           {
            "cells": {
             "fill": {
              "color": "#EBF0F8"
             },
             "line": {
              "color": "white"
             }
            },
            "header": {
             "fill": {
              "color": "#C8D4E3"
             },
             "line": {
              "color": "white"
             }
            },
            "type": "table"
           }
          ]
         },
         "layout": {
          "annotationdefaults": {
           "arrowcolor": "#2a3f5f",
           "arrowhead": 0,
           "arrowwidth": 1
          },
          "autotypenumbers": "strict",
          "coloraxis": {
           "colorbar": {
            "outlinewidth": 0,
            "ticks": ""
           }
          },
          "colorscale": {
           "diverging": [
            [
             0,
             "#8e0152"
            ],
            [
             0.1,
             "#c51b7d"
            ],
            [
             0.2,
             "#de77ae"
            ],
            [
             0.3,
             "#f1b6da"
            ],
            [
             0.4,
             "#fde0ef"
            ],
            [
             0.5,
             "#f7f7f7"
            ],
            [
             0.6,
             "#e6f5d0"
            ],
            [
             0.7,
             "#b8e186"
            ],
            [
             0.8,
             "#7fbc41"
            ],
            [
             0.9,
             "#4d9221"
            ],
            [
             1,
             "#276419"
            ]
           ],
           "sequential": [
            [
             0,
             "#0d0887"
            ],
            [
             0.1111111111111111,
             "#46039f"
            ],
            [
             0.2222222222222222,
             "#7201a8"
            ],
            [
             0.3333333333333333,
             "#9c179e"
            ],
            [
             0.4444444444444444,
             "#bd3786"
            ],
            [
             0.5555555555555556,
             "#d8576b"
            ],
            [
             0.6666666666666666,
             "#ed7953"
            ],
            [
             0.7777777777777778,
             "#fb9f3a"
            ],
            [
             0.8888888888888888,
             "#fdca26"
            ],
            [
             1,
             "#f0f921"
            ]
           ],
           "sequentialminus": [
            [
             0,
             "#0d0887"
            ],
            [
             0.1111111111111111,
             "#46039f"
            ],
            [
             0.2222222222222222,
             "#7201a8"
            ],
            [
             0.3333333333333333,
             "#9c179e"
            ],
            [
             0.4444444444444444,
             "#bd3786"
            ],
            [
             0.5555555555555556,
             "#d8576b"
            ],
            [
             0.6666666666666666,
             "#ed7953"
            ],
            [
             0.7777777777777778,
             "#fb9f3a"
            ],
            [
             0.8888888888888888,
             "#fdca26"
            ],
            [
             1,
             "#f0f921"
            ]
           ]
          },
          "colorway": [
           "#636efa",
           "#EF553B",
           "#00cc96",
           "#ab63fa",
           "#FFA15A",
           "#19d3f3",
           "#FF6692",
           "#B6E880",
           "#FF97FF",
           "#FECB52"
          ],
          "font": {
           "color": "#2a3f5f"
          },
          "geo": {
           "bgcolor": "white",
           "lakecolor": "white",
           "landcolor": "#E5ECF6",
           "showlakes": true,
           "showland": true,
           "subunitcolor": "white"
          },
          "hoverlabel": {
           "align": "left"
          },
          "hovermode": "closest",
          "mapbox": {
           "style": "light"
          },
          "paper_bgcolor": "white",
          "plot_bgcolor": "#E5ECF6",
          "polar": {
           "angularaxis": {
            "gridcolor": "white",
            "linecolor": "white",
            "ticks": ""
           },
           "bgcolor": "#E5ECF6",
           "radialaxis": {
            "gridcolor": "white",
            "linecolor": "white",
            "ticks": ""
           }
          },
          "scene": {
           "xaxis": {
            "backgroundcolor": "#E5ECF6",
            "gridcolor": "white",
            "gridwidth": 2,
            "linecolor": "white",
            "showbackground": true,
            "ticks": "",
            "zerolinecolor": "white"
           },
           "yaxis": {
            "backgroundcolor": "#E5ECF6",
            "gridcolor": "white",
            "gridwidth": 2,
            "linecolor": "white",
            "showbackground": true,
            "ticks": "",
            "zerolinecolor": "white"
           },
           "zaxis": {
            "backgroundcolor": "#E5ECF6",
            "gridcolor": "white",
            "gridwidth": 2,
            "linecolor": "white",
            "showbackground": true,
            "ticks": "",
            "zerolinecolor": "white"
           }
          },
          "shapedefaults": {
           "line": {
            "color": "#2a3f5f"
           }
          },
          "ternary": {
           "aaxis": {
            "gridcolor": "white",
            "linecolor": "white",
            "ticks": ""
           },
           "baxis": {
            "gridcolor": "white",
            "linecolor": "white",
            "ticks": ""
           },
           "bgcolor": "#E5ECF6",
           "caxis": {
            "gridcolor": "white",
            "linecolor": "white",
            "ticks": ""
           }
          },
          "title": {
           "x": 0.05
          },
          "xaxis": {
           "automargin": true,
           "gridcolor": "white",
           "linecolor": "white",
           "ticks": "",
           "title": {
            "standoff": 15
           },
           "zerolinecolor": "white",
           "zerolinewidth": 2
          },
          "yaxis": {
           "automargin": true,
           "gridcolor": "white",
           "linecolor": "white",
           "ticks": "",
           "title": {
            "standoff": 15
           },
           "zerolinecolor": "white",
           "zerolinewidth": 2
          }
         }
        },
        "title": {
         "text": "Normalized LCS values for P60709 at position 202"
        },
        "xaxis": {
         "anchor": "y",
         "constrain": "domain",
         "domain": [
          0,
          1
         ],
         "scaleanchor": "y",
         "tickmode": "array",
         "ticktext": [
          -7,
          -6,
          -5,
          -4,
          -3,
          -2,
          -1,
          0,
          1,
          2,
          3,
          4,
          5,
          6,
          7
         ],
         "tickvals": [
          1,
          2,
          3,
          4,
          5,
          6,
          7,
          8,
          9,
          10,
          11,
          12,
          13,
          14,
          15
         ],
         "title": {
          "text": "Mutation Position"
         }
        },
        "yaxis": {
         "anchor": "x",
         "autorange": "reversed",
         "constrain": "domain",
         "domain": [
          0,
          1
         ],
         "dtick": 1,
         "tickmode": "linear",
         "title": {
          "text": "Mutated Amino Acid"
         }
        }
       }
      }
     },
     "metadata": {},
     "output_type": "display_data"
    },
    {
     "name": "stdout",
     "output_type": "stream",
     "text": [
      "\n",
      "Rendering heatmap for: P60953_161_heatmap_data.csv\n"
     ]
    },
    {
     "name": "stderr",
     "output_type": "stream",
     "text": [
      "C:\\Users\\ricea\\AppData\\Local\\Temp\\ipykernel_26764\\4146770678.py:9: FutureWarning:\n",
      "\n",
      "The provided callable <function mean at 0x000002D40831D6C0> is currently using DataFrameGroupBy.mean. In a future version of pandas, the provided callable will be used directly. To keep current behavior pass the string \"mean\" instead.\n",
      "\n"
     ]
    },
    {
     "data": {
      "application/vnd.plotly.v1+json": {
       "config": {
        "plotlyServerURL": "https://plot.ly"
       },
       "data": [
        {
         "coloraxis": "coloraxis",
         "hovertemplate": "Mutation Position: %{x}<br>Mutated Amino Acid: %{y}<br>LCS Ratio: %{z}<extra></extra>",
         "name": "0",
         "type": "heatmap",
         "x": {
          "bdata": "AQIDBAUGBwgJCgsMDQ4P",
          "dtype": "i1"
         },
         "xaxis": "x",
         "y": [
          "A",
          "C",
          "D",
          "E",
          "F",
          "G",
          "H",
          "I",
          "K",
          "L",
          "M",
          "N",
          "P",
          "Q",
          "R",
          "S",
          "T",
          "V",
          "W",
          "Y"
         ],
         "yaxis": "y",
         "z": {
          "bdata": "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",
          "dtype": "f8",
          "shape": "20, 15"
         }
        }
       ],
       "layout": {
        "coloraxis": {
         "colorbar": {
          "ticktext": [
           "0.0",
           "0.25",
           "0.5",
           "0.75",
           "1.0"
          ],
          "tickvals": [
           0,
           0.25,
           0.5,
           0.75,
           1
          ],
          "title": {
           "text": "LCS Ratio"
          }
         },
         "colorscale": [
          [
           0,
           "rgb(0, 147, 146)"
          ],
          [
           0.16666666666666666,
           "rgb(57, 177, 133)"
          ],
          [
           0.3333333333333333,
           "rgb(156, 203, 134)"
          ],
          [
           0.5,
           "rgb(233, 226, 156)"
          ],
          [
           0.6666666666666666,
           "rgb(238, 180, 121)"
          ],
          [
           0.8333333333333334,
           "rgb(232, 132, 113)"
          ],
          [
           1,
           "rgb(207, 89, 126)"
          ]
         ]
        },
        "plot_bgcolor": "white",
        "template": {
         "data": {
          "bar": [
           {
            "error_x": {
             "color": "#2a3f5f"
            },
            "error_y": {
             "color": "#2a3f5f"
            },
            "marker": {
             "line": {
              "color": "#E5ECF6",
              "width": 0.5
             },
             "pattern": {
              "fillmode": "overlay",
              "size": 10,
              "solidity": 0.2
             }
            },
            "type": "bar"
           }
          ],
          "barpolar": [
           {
            "marker": {
             "line": {
              "color": "#E5ECF6",
              "width": 0.5
             },
             "pattern": {
              "fillmode": "overlay",
              "size": 10,
              "solidity": 0.2
             }
            },
            "type": "barpolar"
           }
          ],
          "carpet": [
           {
            "aaxis": {
             "endlinecolor": "#2a3f5f",
             "gridcolor": "white",
             "linecolor": "white",
             "minorgridcolor": "white",
             "startlinecolor": "#2a3f5f"
            },
            "baxis": {
             "endlinecolor": "#2a3f5f",
             "gridcolor": "white",
             "linecolor": "white",
             "minorgridcolor": "white",
             "startlinecolor": "#2a3f5f"
            },
            "type": "carpet"
           }
          ],
          "choropleth": [
           {
            "colorbar": {
             "outlinewidth": 0,
             "ticks": ""
            },
            "type": "choropleth"
           }
          ],
          "contour": [
           {
            "colorbar": {
             "outlinewidth": 0,
             "ticks": ""
            },
            "colorscale": [
             [
              0,
              "#0d0887"
             ],
             [
              0.1111111111111111,
              "#46039f"
             ],
             [
              0.2222222222222222,
              "#7201a8"
             ],
             [
              0.3333333333333333,
              "#9c179e"
             ],
             [
              0.4444444444444444,
              "#bd3786"
             ],
             [
              0.5555555555555556,
              "#d8576b"
             ],
             [
              0.6666666666666666,
              "#ed7953"
             ],
             [
              0.7777777777777778,
              "#fb9f3a"
             ],
             [
              0.8888888888888888,
              "#fdca26"
             ],
             [
              1,
              "#f0f921"
             ]
            ],
            "type": "contour"
           }
          ],
          "contourcarpet": [
           {
            "colorbar": {
             "outlinewidth": 0,
             "ticks": ""
            },
            "type": "contourcarpet"
           }
          ],
          "heatmap": [
           {
            "colorbar": {
             "outlinewidth": 0,
             "ticks": ""
            },
            "colorscale": [
             [
              0,
              "#0d0887"
             ],
             [
              0.1111111111111111,
              "#46039f"
             ],
             [
              0.2222222222222222,
              "#7201a8"
             ],
             [
              0.3333333333333333,
              "#9c179e"
             ],
             [
              0.4444444444444444,
              "#bd3786"
             ],
             [
              0.5555555555555556,
              "#d8576b"
             ],
             [
              0.6666666666666666,
              "#ed7953"
             ],
             [
              0.7777777777777778,
              "#fb9f3a"
             ],
             [
              0.8888888888888888,
              "#fdca26"
             ],
             [
              1,
              "#f0f921"
             ]
            ],
            "type": "heatmap"
           }
          ],
          "histogram": [
           {
            "marker": {
             "pattern": {
              "fillmode": "overlay",
              "size": 10,
              "solidity": 0.2
             }
            },
            "type": "histogram"
           }
          ],
          "histogram2d": [
           {
            "colorbar": {
             "outlinewidth": 0,
             "ticks": ""
            },
            "colorscale": [
             [
              0,
              "#0d0887"
             ],
             [
              0.1111111111111111,
              "#46039f"
             ],
             [
              0.2222222222222222,
              "#7201a8"
             ],
             [
              0.3333333333333333,
              "#9c179e"
             ],
             [
              0.4444444444444444,
              "#bd3786"
             ],
             [
              0.5555555555555556,
              "#d8576b"
             ],
             [
              0.6666666666666666,
              "#ed7953"
             ],
             [
              0.7777777777777778,
              "#fb9f3a"
             ],
             [
              0.8888888888888888,
              "#fdca26"
             ],
             [
              1,
              "#f0f921"
             ]
            ],
            "type": "histogram2d"
           }
          ],
          "histogram2dcontour": [
           {
            "colorbar": {
             "outlinewidth": 0,
             "ticks": ""
            },
            "colorscale": [
             [
              0,
              "#0d0887"
             ],
             [
              0.1111111111111111,
              "#46039f"
             ],
             [
              0.2222222222222222,
              "#7201a8"
             ],
             [
              0.3333333333333333,
              "#9c179e"
             ],
             [
              0.4444444444444444,
              "#bd3786"
             ],
             [
              0.5555555555555556,
              "#d8576b"
             ],
             [
              0.6666666666666666,
              "#ed7953"
             ],
             [
              0.7777777777777778,
              "#fb9f3a"
             ],
             [
              0.8888888888888888,
              "#fdca26"
             ],
             [
              1,
              "#f0f921"
             ]
            ],
            "type": "histogram2dcontour"
           }
          ],
          "mesh3d": [
           {
            "colorbar": {
             "outlinewidth": 0,
             "ticks": ""
            },
            "type": "mesh3d"
           }
          ],
          "parcoords": [
           {
            "line": {
             "colorbar": {
              "outlinewidth": 0,
              "ticks": ""
             }
            },
            "type": "parcoords"
           }
          ],
          "pie": [
           {
            "automargin": true,
            "type": "pie"
           }
          ],
          "scatter": [
           {
            "fillpattern": {
             "fillmode": "overlay",
             "size": 10,
             "solidity": 0.2
            },
            "type": "scatter"
           }
          ],
          "scatter3d": [
           {
            "line": {
             "colorbar": {
              "outlinewidth": 0,
              "ticks": ""
             }
            },
            "marker": {
             "colorbar": {
              "outlinewidth": 0,
              "ticks": ""
             }
            },
            "type": "scatter3d"
           }
          ],
          "scattercarpet": [
           {
            "marker": {
             "colorbar": {
              "outlinewidth": 0,
              "ticks": ""
             }
            },
            "type": "scattercarpet"
           }
          ],
          "scattergeo": [
           {
            "marker": {
             "colorbar": {
              "outlinewidth": 0,
              "ticks": ""
             }
            },
            "type": "scattergeo"
           }
          ],
          "scattergl": [
           {
            "marker": {
             "colorbar": {
              "outlinewidth": 0,
              "ticks": ""
             }
            },
            "type": "scattergl"
           }
          ],
          "scattermap": [
           {
            "marker": {
             "colorbar": {
              "outlinewidth": 0,
              "ticks": ""
             }
            },
            "type": "scattermap"
           }
          ],
          "scattermapbox": [
           {
            "marker": {
             "colorbar": {
              "outlinewidth": 0,
              "ticks": ""
             }
            },
            "type": "scattermapbox"
           }
          ],
          "scatterpolar": [
           {
            "marker": {
             "colorbar": {
              "outlinewidth": 0,
              "ticks": ""
             }
            },
            "type": "scatterpolar"
           }
          ],
          "scatterpolargl": [
           {
            "marker": {
             "colorbar": {
              "outlinewidth": 0,
              "ticks": ""
             }
            },
            "type": "scatterpolargl"
           }
          ],
          "scatterternary": [
           {
            "marker": {
             "colorbar": {
              "outlinewidth": 0,
              "ticks": ""
             }
            },
            "type": "scatterternary"
           }
          ],
          "surface": [
           {
            "colorbar": {
             "outlinewidth": 0,
             "ticks": ""
            },
            "colorscale": [
             [
              0,
              "#0d0887"
             ],
             [
              0.1111111111111111,
              "#46039f"
             ],
             [
              0.2222222222222222,
              "#7201a8"
             ],
             [
              0.3333333333333333,
              "#9c179e"
             ],
             [
              0.4444444444444444,
              "#bd3786"
             ],
             [
              0.5555555555555556,
              "#d8576b"
             ],
             [
              0.6666666666666666,
              "#ed7953"
             ],
             [
              0.7777777777777778,
              "#fb9f3a"
             ],
             [
              0.8888888888888888,
              "#fdca26"
             ],
             [
              1,
              "#f0f921"
             ]
            ],
            "type": "surface"
           }
          ],
          "table": [
           {
            "cells": {
             "fill": {
              "color": "#EBF0F8"
             },
             "line": {
              "color": "white"
             }
            },
            "header": {
             "fill": {
              "color": "#C8D4E3"
             },
             "line": {
              "color": "white"
             }
            },
            "type": "table"
           }
          ]
         },
         "layout": {
          "annotationdefaults": {
           "arrowcolor": "#2a3f5f",
           "arrowhead": 0,
           "arrowwidth": 1
          },
          "autotypenumbers": "strict",
          "coloraxis": {
           "colorbar": {
            "outlinewidth": 0,
            "ticks": ""
           }
          },
          "colorscale": {
           "diverging": [
            [
             0,
             "#8e0152"
            ],
            [
             0.1,
             "#c51b7d"
            ],
            [
             0.2,
             "#de77ae"
            ],
            [
             0.3,
             "#f1b6da"
            ],
            [
             0.4,
             "#fde0ef"
            ],
            [
             0.5,
             "#f7f7f7"
            ],
            [
             0.6,
             "#e6f5d0"
            ],
            [
             0.7,
             "#b8e186"
            ],
            [
             0.8,
             "#7fbc41"
            ],
            [
             0.9,
             "#4d9221"
            ],
            [
             1,
             "#276419"
            ]
           ],
           "sequential": [
            [
             0,
             "#0d0887"
            ],
            [
             0.1111111111111111,
             "#46039f"
            ],
            [
             0.2222222222222222,
             "#7201a8"
            ],
            [
             0.3333333333333333,
             "#9c179e"
            ],
            [
             0.4444444444444444,
             "#bd3786"
            ],
            [
             0.5555555555555556,
             "#d8576b"
            ],
            [
             0.6666666666666666,
             "#ed7953"
            ],
            [
             0.7777777777777778,
             "#fb9f3a"
            ],
            [
             0.8888888888888888,
             "#fdca26"
            ],
            [
             1,
             "#f0f921"
            ]
           ],
           "sequentialminus": [
            [
             0,
             "#0d0887"
            ],
            [
             0.1111111111111111,
             "#46039f"
            ],
            [
             0.2222222222222222,
             "#7201a8"
            ],
            [
             0.3333333333333333,
             "#9c179e"
            ],
            [
             0.4444444444444444,
             "#bd3786"
            ],
            [
             0.5555555555555556,
             "#d8576b"
            ],
            [
             0.6666666666666666,
             "#ed7953"
            ],
            [
             0.7777777777777778,
             "#fb9f3a"
            ],
            [
             0.8888888888888888,
             "#fdca26"
            ],
            [
             1,
             "#f0f921"
            ]
           ]
          },
          "colorway": [
           "#636efa",
           "#EF553B",
           "#00cc96",
           "#ab63fa",
           "#FFA15A",
           "#19d3f3",
           "#FF6692",
           "#B6E880",
           "#FF97FF",
           "#FECB52"
          ],
          "font": {
           "color": "#2a3f5f"
          },
          "geo": {
           "bgcolor": "white",
           "lakecolor": "white",
           "landcolor": "#E5ECF6",
           "showlakes": true,
           "showland": true,
           "subunitcolor": "white"
          },
          "hoverlabel": {
           "align": "left"
          },
          "hovermode": "closest",
          "mapbox": {
           "style": "light"
          },
          "paper_bgcolor": "white",
          "plot_bgcolor": "#E5ECF6",
          "polar": {
           "angularaxis": {
            "gridcolor": "white",
            "linecolor": "white",
            "ticks": ""
           },
           "bgcolor": "#E5ECF6",
           "radialaxis": {
            "gridcolor": "white",
            "linecolor": "white",
            "ticks": ""
           }
          },
          "scene": {
           "xaxis": {
            "backgroundcolor": "#E5ECF6",
            "gridcolor": "white",
            "gridwidth": 2,
            "linecolor": "white",
            "showbackground": true,
            "ticks": "",
            "zerolinecolor": "white"
           },
           "yaxis": {
            "backgroundcolor": "#E5ECF6",
            "gridcolor": "white",
            "gridwidth": 2,
            "linecolor": "white",
            "showbackground": true,
            "ticks": "",
            "zerolinecolor": "white"
           },
           "zaxis": {
            "backgroundcolor": "#E5ECF6",
            "gridcolor": "white",
            "gridwidth": 2,
            "linecolor": "white",
            "showbackground": true,
            "ticks": "",
            "zerolinecolor": "white"
           }
          },
          "shapedefaults": {
           "line": {
            "color": "#2a3f5f"
           }
          },
          "ternary": {
           "aaxis": {
            "gridcolor": "white",
            "linecolor": "white",
            "ticks": ""
           },
           "baxis": {
            "gridcolor": "white",
            "linecolor": "white",
            "ticks": ""
           },
           "bgcolor": "#E5ECF6",
           "caxis": {
            "gridcolor": "white",
            "linecolor": "white",
            "ticks": ""
           }
          },
          "title": {
           "x": 0.05
          },
          "xaxis": {
           "automargin": true,
           "gridcolor": "white",
           "linecolor": "white",
           "ticks": "",
           "title": {
            "standoff": 15
           },
           "zerolinecolor": "white",
           "zerolinewidth": 2
          },
          "yaxis": {
           "automargin": true,
           "gridcolor": "white",
           "linecolor": "white",
           "ticks": "",
           "title": {
            "standoff": 15
           },
           "zerolinecolor": "white",
           "zerolinewidth": 2
          }
         }
        },
        "title": {
         "text": "Normalized LCS values for P60953 at position 161"
        },
        "xaxis": {
         "anchor": "y",
         "constrain": "domain",
         "domain": [
          0,
          1
         ],
         "scaleanchor": "y",
         "tickmode": "array",
         "ticktext": [
          -7,
          -6,
          -5,
          -4,
          -3,
          -2,
          -1,
          0,
          1,
          2,
          3,
          4,
          5,
          6,
          7
         ],
         "tickvals": [
          1,
          2,
          3,
          4,
          5,
          6,
          7,
          8,
          9,
          10,
          11,
          12,
          13,
          14,
          15
         ],
         "title": {
          "text": "Mutation Position"
         }
        },
        "yaxis": {
         "anchor": "x",
         "autorange": "reversed",
         "constrain": "domain",
         "domain": [
          0,
          1
         ],
         "dtick": 1,
         "tickmode": "linear",
         "title": {
          "text": "Mutated Amino Acid"
         }
        }
       }
      }
     },
     "metadata": {},
     "output_type": "display_data"
    }
   ],
   "source": [
    "import glob\n",
    "import os\n",
    "\n",
    "# Full updated render function with title showing UniProt ID and position\n",
    "def render_heatmap_from_data(heatmap_data, filepath=None):\n",
    "    import plotly.express as px\n",
    "    import numpy as np\n",
    "\n",
    "    heatmap_matrix = heatmap_data.pivot_table(index='Mutation', columns='Position', values='LCS_Ratio', aggfunc=np.mean)\n",
    "\n",
    "    title = \"Heatmap of LCS Ratios for Each Mutation\"\n",
    "    if filepath:\n",
    "        basename = os.path.basename(filepath)\n",
    "        match = re.match(r\"([A-Z0-9]+)_(\\d+)_heatmap_data\\.csv\", basename)\n",
    "        if match:\n",
    "            uniprot_id = match.group(1)\n",
    "            position = match.group(2)\n",
    "            title = f\"Normalized LCS values for {uniprot_id} at position {position}\"\n",
    "\n",
    "    fig = px.imshow(\n",
    "        heatmap_matrix,\n",
    "        labels={'x': 'Mutation Position', 'y': 'Mutated Amino Acid', 'color': 'LCS Ratio'},\n",
    "        color_continuous_scale='Temps',\n",
    "        title=title\n",
    "    )\n",
    "\n",
    "    fig.update_layout(\n",
    "        xaxis=dict(tickmode='array', tickvals=list(range(1, 16)), ticktext=list(range(-7, 8))),\n",
    "        yaxis=dict(tickmode='linear', dtick=1),\n",
    "        coloraxis_colorbar=dict(\n",
    "            tickvals=[0, 0.25, 0.5, 0.75, 1],\n",
    "            ticktext=[\"0.0\", \"0.25\", \"0.5\", \"0.75\", \"1.0\"],\n",
    "            title=\"LCS Ratio\"\n",
    "        ),\n",
    "        plot_bgcolor='white'\n",
    "    )\n",
    "\n",
    "    fig.show()\n",
    "\n",
    "# Folder paths to your heatmap data\n",
    "benign_path = r\"C:\\Users\\ricea\\OneDrive\\Documents\\GitHub\\Annabel-BSc-Project\\benign_mutations2\\mutations2\"\n",
    "pathogenic_path = r\"C:\\Users\\ricea\\OneDrive\\Documents\\GitHub\\Annabel-BSc-Project\\pathogenic_mutations2\\mutations2\"\n",
    "\n",
    "# Batch render function\n",
    "def render_all_heatmaps(folder_path):\n",
    "    pattern = os.path.join(folder_path, \"*_heatmap_data.csv\")\n",
    "    csv_files = glob.glob(pattern)\n",
    "\n",
    "    if not csv_files:\n",
    "        print(f\"No heatmap data files found in {folder_path}\")\n",
    "        return\n",
    "\n",
    "    for file in csv_files:\n",
    "        try:\n",
    "            df = pd.read_csv(file)\n",
    "            print(f\"\\nRendering heatmap for: {os.path.basename(file)}\")\n",
    "            render_heatmap_from_data(df, filepath=file)\n",
    "        except Exception as e:\n",
    "            print(f\"❌ Error rendering {file}: {e}\")\n",
    "\n",
    "# Call the rendering for both folders\n",
    "print(\"🔵 Rendering benign heatmaps...\")\n",
    "render_all_heatmaps(benign_path)\n",
    "\n",
    "print(\"\\n🔴 Rendering pathogenic heatmaps...\")\n",
    "render_all_heatmaps(pathogenic_path)\n"
   ]
  },
  {
   "cell_type": "code",
   "execution_count": null,
   "metadata": {},
   "outputs": [],
   "source": [
    "'Calculate the mean LCS ratio for each heatmap (whole map and for positions -3 to +3)'\n",
    "\n",
    "'Perform t-tests to compare the benign vs. pathogenic groups'\n",
    "\n",
    "'Print statistics (mean, std, t-test results) for both the full heatmap and the -3 to +3 region'"
   ]
  },
  {
   "cell_type": "code",
   "execution_count": 13,
   "metadata": {},
   "outputs": [
    {
     "name": "stdout",
     "output_type": "stream",
     "text": [
      "\n",
      "Full Heatmap Comparison:\n",
      "Benign - Mean: 0.4398, Std: 0.4224\n",
      "Pathogenic - Mean: 0.4410, Std: 0.4202\n",
      "T-test: t-stat=-0.1059, p-value=0.9157\n",
      "\n",
      "-3 to +3 Region Comparison:\n",
      "Benign - Mean: 0.1117, Std: 0.0949\n",
      "Pathogenic - Mean: 0.1098, Std: 0.0712\n",
      "T-test: t-stat=0.5283, p-value=0.5973\n"
     ]
    }
   ],
   "source": [
    "from scipy.stats import ttest_ind\n",
    "import numpy as np\n",
    "import pandas as pd\n",
    "import os\n",
    "import glob\n",
    "import re\n",
    "\n",
    "# Folder paths\n",
    "benign_path = r\"C:\\Users\\ricea\\OneDrive\\Documents\\GitHub\\Annabel-BSc-Project\\benign_mutations2\\mutations2\"\n",
    "pathogenic_path = r\"C:\\Users\\ricea\\OneDrive\\Documents\\GitHub\\Annabel-BSc-Project\\pathogenic_mutations2\\mutations2\"\n",
    "\n",
    "def load_heatmap_matrix(filepath):\n",
    "    df = pd.read_csv(filepath)\n",
    "    matrix = df.pivot_table(index='Mutation', columns='Position', values='LCS_Ratio')\n",
    "    return matrix\n",
    "\n",
    "def get_all_lcs_values(matrix):\n",
    "    return matrix.values.flatten()[~np.isnan(matrix.values.flatten())]\n",
    "\n",
    "def get_lcs_region_values(matrix, start, end):\n",
    "    region_matrix = matrix.iloc[:, start:end]\n",
    "    return region_matrix.values.flatten()[~np.isnan(region_matrix.values.flatten())]\n",
    "\n",
    "def compare_lcs_groups(benign_lcs, pathogenic_lcs):\n",
    "    benign_mean = np.nanmean(benign_lcs)\n",
    "    benign_std = np.nanstd(benign_lcs)\n",
    "\n",
    "    pathogenic_mean = np.nanmean(pathogenic_lcs)\n",
    "    pathogenic_std = np.nanstd(pathogenic_lcs)\n",
    "\n",
    "    t_stat, p_val = ttest_ind(benign_lcs, pathogenic_lcs, nan_policy='omit')\n",
    "\n",
    "    return benign_mean, benign_std, pathogenic_mean, pathogenic_std, t_stat, p_val\n",
    "\n",
    "# Get files\n",
    "benign_files = glob.glob(os.path.join(benign_path, \"*_heatmap_data.csv\"))\n",
    "pathogenic_files = glob.glob(os.path.join(pathogenic_path, \"*_heatmap_data.csv\"))\n",
    "\n",
    "# All values across heatmaps\n",
    "benign_lcs_full = []\n",
    "pathogenic_lcs_full = []\n",
    "benign_lcs_region = []\n",
    "pathogenic_lcs_region = []\n",
    "\n",
    "# Process benign\n",
    "for file in benign_files:\n",
    "    matrix = load_heatmap_matrix(file)\n",
    "    benign_lcs_full.extend(get_all_lcs_values(matrix))\n",
    "    benign_lcs_region.extend(get_lcs_region_values(matrix, 5, 11))  # -3 to +3\n",
    "\n",
    "# Process pathogenic\n",
    "for file in pathogenic_files:\n",
    "    matrix = load_heatmap_matrix(file)\n",
    "    pathogenic_lcs_full.extend(get_all_lcs_values(matrix))\n",
    "    pathogenic_lcs_region.extend(get_lcs_region_values(matrix, 5, 11))  # -3 to +3\n",
    "\n",
    "# Compare full\n",
    "b_mean_f, b_std_f, p_mean_f, p_std_f, t_f, pval_f = compare_lcs_groups(benign_lcs_full, pathogenic_lcs_full)\n",
    "print(f\"\\nFull Heatmap Comparison:\")\n",
    "print(f\"Benign - Mean: {b_mean_f:.4f}, Std: {b_std_f:.4f}\")\n",
    "print(f\"Pathogenic - Mean: {p_mean_f:.4f}, Std: {p_std_f:.4f}\")\n",
    "print(f\"T-test: t-stat={t_f:.4f}, p-value={pval_f:.4f}\")\n",
    "\n",
    "# Compare region\n",
    "b_mean_r, b_std_r, p_mean_r, p_std_r, t_r, pval_r = compare_lcs_groups(benign_lcs_region, pathogenic_lcs_region)\n",
    "print(f\"\\n-3 to +3 Region Comparison:\")\n",
    "print(f\"Benign - Mean: {b_mean_r:.4f}, Std: {b_std_r:.4f}\")\n",
    "print(f\"Pathogenic - Mean: {p_mean_r:.4f}, Std: {p_std_r:.4f}\")\n",
    "print(f\"T-test: t-stat={t_r:.4f}, p-value={pval_r:.4f}\")\n"
   ]
  },
  {
   "cell_type": "code",
   "execution_count": null,
   "metadata": {},
   "outputs": [],
   "source": [
    "'Visual statistics of average LCS between the two groups'"
   ]
  },
  {
   "cell_type": "code",
   "execution_count": 14,
   "metadata": {},
   "outputs": [
    {
     "name": "stderr",
     "output_type": "stream",
     "text": [
      "C:\\Users\\ricea\\AppData\\Local\\Temp\\ipykernel_26764\\3607641596.py:18: FutureWarning:\n",
      "\n",
      "\n",
      "\n",
      "Passing `palette` without assigning `hue` is deprecated and will be removed in v0.14.0. Assign the `x` variable to `hue` and set `legend=False` for the same effect.\n",
      "\n",
      "\n"
     ]
    },
    {
     "data": {
      "image/png": "[encoded data removed]",
      "text/plain": [
       "<Figure size 800x600 with 1 Axes>"
      ]
     },
     "metadata": {},
     "output_type": "display_data"
    },
    {
     "name": "stderr",
     "output_type": "stream",
     "text": [
      "C:\\Users\\ricea\\AppData\\Local\\Temp\\ipykernel_26764\\3607641596.py:28: FutureWarning:\n",
      "\n",
      "\n",
      "\n",
      "Passing `palette` without assigning `hue` is deprecated and will be removed in v0.14.0. Assign the `x` variable to `hue` and set `legend=False` for the same effect.\n",
      "\n",
      "\n"
     ]
    },
    {
     "data": {
      "image/png": "[encoded data removed]",
      "text/plain": [
       "<Figure size 800x600 with 1 Axes>"
      ]
     },
     "metadata": {},
     "output_type": "display_data"
    }
   ],
   "source": [
    "import seaborn as sns\n",
    "import matplotlib.pyplot as plt\n",
    "\n",
    "# Prepare full LCS DataFrame for seaborn\n",
    "df_full = pd.DataFrame({\n",
    "    'LCS': benign_lcs_full + pathogenic_lcs_full,\n",
    "    'Group': ['Benign'] * len(benign_lcs_full) + ['Pathogenic'] * len(pathogenic_lcs_full)\n",
    "})\n",
    "\n",
    "# Prepare region LCS DataFrame\n",
    "df_region = pd.DataFrame({\n",
    "    'LCS': benign_lcs_region + pathogenic_lcs_region,\n",
    "    'Group': ['Benign'] * len(benign_lcs_region) + ['Pathogenic'] * len(pathogenic_lcs_region)\n",
    "})\n",
    "\n",
    "# Plot: Full heatmap LCS\n",
    "plt.figure(figsize=(8, 6))\n",
    "sns.boxplot(data=df_full, x='Group', y='LCS', palette='Set2')\n",
    "sns.stripplot(data=df_full, x='Group', y='LCS', color='black', size=3, jitter=True, alpha=0.4)\n",
    "plt.title('LCS Distributions Across Entire Heatmaps')\n",
    "plt.ylabel('LCS Value')\n",
    "plt.xlabel('')\n",
    "plt.tight_layout()\n",
    "plt.show()\n",
    "\n",
    "# Plot: -3 to +3 region\n",
    "plt.figure(figsize=(8, 6))\n",
    "sns.boxplot(data=df_region, x='Group', y='LCS', palette='Set3')\n",
    "sns.stripplot(data=df_region, x='Group', y='LCS', color='black', size=3, jitter=True, alpha=0.4)\n",
    "plt.title('LCS Distributions in -3 to +3 Region')\n",
    "plt.ylabel('LCS Value')\n",
    "plt.xlabel('')\n",
    "plt.tight_layout()\n",
    "plt.show()\n"
   ]
  },
  {
   "cell_type": "code",
   "execution_count": null,
   "metadata": {},
   "outputs": [],
   "source": [
    "'Top 6 most significantly different mutations to a particular amino acid in benign vs pathogenic groups'"
   ]
  },
  {
   "cell_type": "code",
   "execution_count": null,
   "metadata": {},
   "outputs": [
    {
     "data": {
      "text/html": [
       "<div>\n",
       "<style scoped>\n",
       "    .dataframe tbody tr th:only-of-type {\n",
       "        vertical-align: middle;\n",
       "    }\n",
       "\n",
       "    .dataframe tbody tr th {\n",
       "        vertical-align: top;\n",
       "    }\n",
       "\n",
       "    .dataframe thead th {\n",
       "        text-align: right;\n",
       "    }\n",
       "</style>\n",
       "<table border=\"1\" class=\"dataframe\">\n",
       "  <thead>\n",
       "    <tr style=\"text-align: right;\">\n",
       "      <th></th>\n",
       "      <th>Mutation</th>\n",
       "      <th>Benign_Mean</th>\n",
       "      <th>Pathogenic_Mean</th>\n",
       "      <th>T_stat</th>\n",
       "      <th>P_value</th>\n",
       "    </tr>\n",
       "  </thead>\n",
       "  <tbody>\n",
       "    <tr>\n",
       "      <th>14</th>\n",
       "      <td>R</td>\n",
       "      <td>0.415686</td>\n",
       "      <td>0.438843</td>\n",
       "      <td>-0.455051</td>\n",
       "      <td>0.649424</td>\n",
       "    </tr>\n",
       "    <tr>\n",
       "      <th>4</th>\n",
       "      <td>F</td>\n",
       "      <td>0.417212</td>\n",
       "      <td>0.437868</td>\n",
       "      <td>-0.427267</td>\n",
       "      <td>0.669503</td>\n",
       "    </tr>\n",
       "    <tr>\n",
       "      <th>13</th>\n",
       "      <td>Q</td>\n",
       "      <td>0.455347</td>\n",
       "      <td>0.438484</td>\n",
       "      <td>0.352953</td>\n",
       "      <td>0.724392</td>\n",
       "    </tr>\n",
       "    <tr>\n",
       "      <th>11</th>\n",
       "      <td>N</td>\n",
       "      <td>0.434204</td>\n",
       "      <td>0.447246</td>\n",
       "      <td>-0.275017</td>\n",
       "      <td>0.783498</td>\n",
       "    </tr>\n",
       "    <tr>\n",
       "      <th>19</th>\n",
       "      <td>Y</td>\n",
       "      <td>0.395908</td>\n",
       "      <td>0.406435</td>\n",
       "      <td>-0.228231</td>\n",
       "      <td>0.819616</td>\n",
       "    </tr>\n",
       "    <tr>\n",
       "      <th>15</th>\n",
       "      <td>S</td>\n",
       "      <td>0.488598</td>\n",
       "      <td>0.478272</td>\n",
       "      <td>0.215642</td>\n",
       "      <td>0.829426</td>\n",
       "    </tr>\n",
       "    <tr>\n",
       "      <th>17</th>\n",
       "      <td>V</td>\n",
       "      <td>0.439963</td>\n",
       "      <td>0.430441</td>\n",
       "      <td>0.197084</td>\n",
       "      <td>0.843903</td>\n",
       "    </tr>\n",
       "    <tr>\n",
       "      <th>12</th>\n",
       "      <td>P</td>\n",
       "      <td>0.439110</td>\n",
       "      <td>0.429759</td>\n",
       "      <td>0.186309</td>\n",
       "      <td>0.852342</td>\n",
       "    </tr>\n",
       "    <tr>\n",
       "      <th>3</th>\n",
       "      <td>E</td>\n",
       "      <td>0.413613</td>\n",
       "      <td>0.423196</td>\n",
       "      <td>-0.186229</td>\n",
       "      <td>0.852408</td>\n",
       "    </tr>\n",
       "    <tr>\n",
       "      <th>7</th>\n",
       "      <td>I</td>\n",
       "      <td>0.442917</td>\n",
       "      <td>0.434059</td>\n",
       "      <td>0.182449</td>\n",
       "      <td>0.855358</td>\n",
       "    </tr>\n",
       "  </tbody>\n",
       "</table>\n",
       "</div>"
      ],
      "text/plain": [
       "   Mutation  Benign_Mean  Pathogenic_Mean    T_stat   P_value\n",
       "14        R     0.415686         0.438843 -0.455051  0.649424\n",
       "4         F     0.417212         0.437868 -0.427267  0.669503\n",
       "13        Q     0.455347         0.438484  0.352953  0.724392\n",
       "11        N     0.434204         0.447246 -0.275017  0.783498\n",
       "19        Y     0.395908         0.406435 -0.228231  0.819616\n",
       "15        S     0.488598         0.478272  0.215642  0.829426\n",
       "17        V     0.439963         0.430441  0.197084  0.843903\n",
       "12        P     0.439110         0.429759  0.186309  0.852342\n",
       "3         E     0.413613         0.423196 -0.186229  0.852408\n",
       "7         I     0.442917         0.434059  0.182449  0.855358"
      ]
     },
     "metadata": {},
     "output_type": "display_data"
    },
    {
     "name": "stderr",
     "output_type": "stream",
     "text": [
      "C:\\Users\\ricea\\AppData\\Local\\Temp\\ipykernel_26764\\1403191712.py:68: FutureWarning:\n",
      "\n",
      "\n",
      "\n",
      "Passing `palette` without assigning `hue` is deprecated and will be removed in v0.14.0. Assign the `x` variable to `hue` and set `legend=False` for the same effect.\n",
      "\n",
      "\n",
      "C:\\Users\\ricea\\AppData\\Local\\Temp\\ipykernel_26764\\1403191712.py:68: FutureWarning:\n",
      "\n",
      "\n",
      "\n",
      "Passing `palette` without assigning `hue` is deprecated and will be removed in v0.14.0. Assign the `x` variable to `hue` and set `legend=False` for the same effect.\n",
      "\n",
      "\n",
      "C:\\Users\\ricea\\AppData\\Local\\Temp\\ipykernel_26764\\1403191712.py:68: FutureWarning:\n",
      "\n",
      "\n",
      "\n",
      "Passing `palette` without assigning `hue` is deprecated and will be removed in v0.14.0. Assign the `x` variable to `hue` and set `legend=False` for the same effect.\n",
      "\n",
      "\n",
      "C:\\Users\\ricea\\AppData\\Local\\Temp\\ipykernel_26764\\1403191712.py:68: FutureWarning:\n",
      "\n",
      "\n",
      "\n",
      "Passing `palette` without assigning `hue` is deprecated and will be removed in v0.14.0. Assign the `x` variable to `hue` and set `legend=False` for the same effect.\n",
      "\n",
      "\n",
      "C:\\Users\\ricea\\AppData\\Local\\Temp\\ipykernel_26764\\1403191712.py:68: FutureWarning:\n",
      "\n",
      "\n",
      "\n",
      "Passing `palette` without assigning `hue` is deprecated and will be removed in v0.14.0. Assign the `x` variable to `hue` and set `legend=False` for the same effect.\n",
      "\n",
      "\n",
      "C:\\Users\\ricea\\AppData\\Local\\Temp\\ipykernel_26764\\1403191712.py:68: FutureWarning:\n",
      "\n",
      "\n",
      "\n",
      "Passing `palette` without assigning `hue` is deprecated and will be removed in v0.14.0. Assign the `x` variable to `hue` and set `legend=False` for the same effect.\n",
      "\n",
      "\n"
     ]
    },
    {
     "data": {
      "image/png": "[encoded data removed]",
      "text/plain": [
       "<Figure size 1400x800 with 6 Axes>"
      ]
     },
     "metadata": {},
     "output_type": "display_data"
    }
   ],
   "source": [
    "import os\n",
    "import pandas as pd\n",
    "import numpy as np\n",
    "from scipy.stats import ttest_ind\n",
    "import matplotlib.pyplot as plt\n",
    "import seaborn as sns\n",
    "\n",
    "\n",
    "benign_dir = r\"C:\\Users\\ricea\\OneDrive\\Documents\\GitHub\\Annabel-BSc-Project\\benign_mutations2\\mutations2\"\n",
    "pathogenic_dir = r\"C:\\Users\\ricea\\OneDrive\\Documents\\GitHub\\Annabel-BSc-Project\\pathogenic_mutations2\\mutations2\"\n",
    "\n",
    "def load_heatmap_dfs(directory):\n",
    "    dfs = []\n",
    "    for file in os.listdir(directory):\n",
    "        if file.endswith(\"_heatmap_data.csv\"):\n",
    "            df = pd.read_csv(os.path.join(directory, file))\n",
    "            df[\"file\"] = file  # Keep track of origin\n",
    "            dfs.append(df)\n",
    "    return dfs\n",
    "\n",
    "benign_heatmaps = load_heatmap_dfs(benign_dir)\n",
    "pathogenic_heatmaps = load_heatmap_dfs(pathogenic_dir)\n",
    "\n",
    "# --- Aggregate LCS values by Mutation (Amino Acid) ---\n",
    "def collect_lcs_by_mutation(heatmap_list):\n",
    "    all_data = []\n",
    "    for df in heatmap_list:\n",
    "        for _, row in df.iterrows():\n",
    "            all_data.append((row[\"Mutation\"], row[\"LCS_Ratio\"]))\n",
    "    return pd.DataFrame(all_data, columns=[\"Mutation\", \"LCS_Ratio\"])\n",
    "\n",
    "benign_data = collect_lcs_by_mutation(benign_heatmaps)\n",
    "benign_data[\"Group\"] = \"Benign\"\n",
    "\n",
    "pathogenic_data = collect_lcs_by_mutation(pathogenic_heatmaps)\n",
    "pathogenic_data[\"Group\"] = \"Pathogenic\"\n",
    "\n",
    "combined = pd.concat([benign_data, pathogenic_data], ignore_index=True)\n",
    "\n",
    "# --- Perform per-substitution statistical comparison ---\n",
    "results = []\n",
    "mutations = sorted(combined[\"Mutation\"].dropna().unique())\n",
    "\n",
    "for mut in mutations:\n",
    "    benign_vals = benign_data[benign_data[\"Mutation\"] == mut][\"LCS_Ratio\"].dropna()\n",
    "    path_vals = pathogenic_data[pathogenic_data[\"Mutation\"] == mut][\"LCS_Ratio\"].dropna()\n",
    "    \n",
    "    if len(benign_vals) > 1 and len(path_vals) > 1:\n",
    "        t_stat, p_val = ttest_ind(benign_vals, path_vals, equal_var=False)\n",
    "        results.append({\n",
    "            \"Mutation\": mut,\n",
    "            \"Benign_Mean\": benign_vals.mean(),\n",
    "            \"Pathogenic_Mean\": path_vals.mean(),\n",
    "            \"T_stat\": t_stat,\n",
    "            \"P_value\": p_val\n",
    "        })\n",
    "\n",
    "results_df = pd.DataFrame(results).sort_values(\"P_value\")\n",
    "display(results_df.head(10))  # Show top 10 amino acid substitutions with most significant differences\n",
    "\n",
    "# --- Plot top N most significant amino acid substitutions as boxplots ---\n",
    "top_mutations = results_df.nsmallest(6, \"P_value\")[\"Mutation\"].tolist()\n",
    "\n",
    "plt.figure(figsize=(14, 8))\n",
    "for i, mut in enumerate(top_mutations):\n",
    "    plt.subplot(2, 3, i+1)\n",
    "    sns.boxplot(data=combined[combined[\"Mutation\"] == mut], x=\"Group\", y=\"LCS_Ratio\", palette=\"Set2\")\n",
    "    plt.title(f\"Mutation {mut} - p = {results_df[results_df.Mutation == mut]['P_value'].values[0]:.4f}\")\n",
    "    plt.ylim(0, 1)\n",
    "\n",
    "plt.tight_layout()\n",
    "plt.show()\n"
   ]
  },
  {
   "cell_type": "code",
   "execution_count": null,
   "metadata": {},
   "outputs": [],
   "source": [
    "'Top 6 most significantly different positions for mutations in benign vs pathogenic groups'"
   ]
  },
  {
   "cell_type": "code",
   "execution_count": null,
   "metadata": {},
   "outputs": [
    {
     "name": "stderr",
     "output_type": "stream",
     "text": [
      "c:\\Users\\ricea\\AppData\\Local\\Programs\\Python\\Python312\\Lib\\site-packages\\scipy\\stats\\_axis_nan_policy.py:573: RuntimeWarning:\n",
      "\n",
      "Precision loss occurred in moment calculation due to catastrophic cancellation. This occurs when the data are nearly identical. Results may be unreliable.\n",
      "\n"
     ]
    },
    {
     "data": {
      "text/html": [
       "<div>\n",
       "<style scoped>\n",
       "    .dataframe tbody tr th:only-of-type {\n",
       "        vertical-align: middle;\n",
       "    }\n",
       "\n",
       "    .dataframe tbody tr th {\n",
       "        vertical-align: top;\n",
       "    }\n",
       "\n",
       "    .dataframe thead th {\n",
       "        text-align: right;\n",
       "    }\n",
       "</style>\n",
       "<table border=\"1\" class=\"dataframe\">\n",
       "  <thead>\n",
       "    <tr style=\"text-align: right;\">\n",
       "      <th></th>\n",
       "      <th>Position</th>\n",
       "      <th>Benign_Mean</th>\n",
       "      <th>Pathogenic_Mean</th>\n",
       "      <th>T_stat</th>\n",
       "      <th>P_value</th>\n",
       "    </tr>\n",
       "  </thead>\n",
       "  <tbody>\n",
       "    <tr>\n",
       "      <th>2</th>\n",
       "      <td>3</td>\n",
       "      <td>0.144609</td>\n",
       "      <td>0.166175</td>\n",
       "      <td>-3.240373</td>\n",
       "      <td>0.001295</td>\n",
       "    </tr>\n",
       "    <tr>\n",
       "      <th>6</th>\n",
       "      <td>7</td>\n",
       "      <td>0.109879</td>\n",
       "      <td>0.124654</td>\n",
       "      <td>-2.753463</td>\n",
       "      <td>0.006170</td>\n",
       "    </tr>\n",
       "    <tr>\n",
       "      <th>4</th>\n",
       "      <td>5</td>\n",
       "      <td>0.132652</td>\n",
       "      <td>0.152025</td>\n",
       "      <td>-1.818681</td>\n",
       "      <td>0.069654</td>\n",
       "    </tr>\n",
       "    <tr>\n",
       "      <th>8</th>\n",
       "      <td>9</td>\n",
       "      <td>0.115040</td>\n",
       "      <td>0.095803</td>\n",
       "      <td>1.777984</td>\n",
       "      <td>0.076551</td>\n",
       "    </tr>\n",
       "    <tr>\n",
       "      <th>5</th>\n",
       "      <td>6</td>\n",
       "      <td>0.098263</td>\n",
       "      <td>0.111971</td>\n",
       "      <td>-1.744194</td>\n",
       "      <td>0.081835</td>\n",
       "    </tr>\n",
       "    <tr>\n",
       "      <th>9</th>\n",
       "      <td>10</td>\n",
       "      <td>0.115789</td>\n",
       "      <td>0.103743</td>\n",
       "      <td>1.607875</td>\n",
       "      <td>0.109233</td>\n",
       "    </tr>\n",
       "    <tr>\n",
       "      <th>3</th>\n",
       "      <td>4</td>\n",
       "      <td>0.181996</td>\n",
       "      <td>0.167944</td>\n",
       "      <td>1.559886</td>\n",
       "      <td>0.119723</td>\n",
       "    </tr>\n",
       "    <tr>\n",
       "      <th>10</th>\n",
       "      <td>11</td>\n",
       "      <td>0.127900</td>\n",
       "      <td>0.120632</td>\n",
       "      <td>0.854359</td>\n",
       "      <td>0.393527</td>\n",
       "    </tr>\n",
       "    <tr>\n",
       "      <th>7</th>\n",
       "      <td>8</td>\n",
       "      <td>0.031877</td>\n",
       "      <td>0.037341</td>\n",
       "      <td>-0.415344</td>\n",
       "      <td>0.679999</td>\n",
       "    </tr>\n",
       "    <tr>\n",
       "      <th>11</th>\n",
       "      <td>12</td>\n",
       "      <td>0.174417</td>\n",
       "      <td>0.173185</td>\n",
       "      <td>0.129176</td>\n",
       "      <td>0.897286</td>\n",
       "    </tr>\n",
       "  </tbody>\n",
       "</table>\n",
       "</div>"
      ],
      "text/plain": [
       "    Position  Benign_Mean  Pathogenic_Mean    T_stat   P_value\n",
       "2          3     0.144609         0.166175 -3.240373  0.001295\n",
       "6          7     0.109879         0.124654 -2.753463  0.006170\n",
       "4          5     0.132652         0.152025 -1.818681  0.069654\n",
       "8          9     0.115040         0.095803  1.777984  0.076551\n",
       "5          6     0.098263         0.111971 -1.744194  0.081835\n",
       "9         10     0.115789         0.103743  1.607875  0.109233\n",
       "3          4     0.181996         0.167944  1.559886  0.119723\n",
       "10        11     0.127900         0.120632  0.854359  0.393527\n",
       "7          8     0.031877         0.037341 -0.415344  0.679999\n",
       "11        12     0.174417         0.173185  0.129176  0.897286"
      ]
     },
     "metadata": {},
     "output_type": "display_data"
    },
    {
     "name": "stderr",
     "output_type": "stream",
     "text": [
      "C:\\Users\\ricea\\AppData\\Local\\Temp\\ipykernel_26764\\4011246123.py:79: FutureWarning:\n",
      "\n",
      "\n",
      "\n",
      "Passing `palette` without assigning `hue` is deprecated and will be removed in v0.14.0. Assign the `x` variable to `hue` and set `legend=False` for the same effect.\n",
      "\n",
      "\n",
      "C:\\Users\\ricea\\AppData\\Local\\Temp\\ipykernel_26764\\4011246123.py:79: FutureWarning:\n",
      "\n",
      "\n",
      "\n",
      "Passing `palette` without assigning `hue` is deprecated and will be removed in v0.14.0. Assign the `x` variable to `hue` and set `legend=False` for the same effect.\n",
      "\n",
      "\n",
      "C:\\Users\\ricea\\AppData\\Local\\Temp\\ipykernel_26764\\4011246123.py:79: FutureWarning:\n",
      "\n",
      "\n",
      "\n",
      "Passing `palette` without assigning `hue` is deprecated and will be removed in v0.14.0. Assign the `x` variable to `hue` and set `legend=False` for the same effect.\n",
      "\n",
      "\n",
      "C:\\Users\\ricea\\AppData\\Local\\Temp\\ipykernel_26764\\4011246123.py:79: FutureWarning:\n",
      "\n",
      "\n",
      "\n",
      "Passing `palette` without assigning `hue` is deprecated and will be removed in v0.14.0. Assign the `x` variable to `hue` and set `legend=False` for the same effect.\n",
      "\n",
      "\n",
      "C:\\Users\\ricea\\AppData\\Local\\Temp\\ipykernel_26764\\4011246123.py:79: FutureWarning:\n",
      "\n",
      "\n",
      "\n",
      "Passing `palette` without assigning `hue` is deprecated and will be removed in v0.14.0. Assign the `x` variable to `hue` and set `legend=False` for the same effect.\n",
      "\n",
      "\n",
      "C:\\Users\\ricea\\AppData\\Local\\Temp\\ipykernel_26764\\4011246123.py:79: FutureWarning:\n",
      "\n",
      "\n",
      "\n",
      "Passing `palette` without assigning `hue` is deprecated and will be removed in v0.14.0. Assign the `x` variable to `hue` and set `legend=False` for the same effect.\n",
      "\n",
      "\n"
     ]
    },
    {
     "data": {
      "image/png": "[encoded data removed]",
      "text/plain": [
       "<Figure size 1400x800 with 6 Axes>"
      ]
     },
     "metadata": {},
     "output_type": "display_data"
    }
   ],
   "source": [
    "import os\n",
    "import pandas as pd\n",
    "import numpy as np\n",
    "from scipy.stats import ttest_ind\n",
    "import matplotlib.pyplot as plt\n",
    "import seaborn as sns\n",
    "\n",
    "\n",
    "benign_dir = r\"C:\\Users\\ricea\\OneDrive\\Documents\\GitHub\\Annabel-BSc-Project\\benign_mutations2\\mutations2\"\n",
    "pathogenic_dir = r\"C:\\Users\\ricea\\OneDrive\\Documents\\GitHub\\Annabel-BSc-Project\\pathogenic_mutations2\\mutations2\"\n",
    "\n",
    "\n",
    "def load_heatmap_dfs(directory):\n",
    "    dfs = []\n",
    "    for file in os.listdir(directory):\n",
    "        if file.endswith(\"_heatmap_data.csv\"):\n",
    "            df = pd.read_csv(os.path.join(directory, file))\n",
    "            df[\"file\"] = file  # Keep track of origin\n",
    "            dfs.append(df)\n",
    "    return dfs\n",
    "\n",
    "benign_heatmaps = load_heatmap_dfs(benign_dir)\n",
    "pathogenic_heatmaps = load_heatmap_dfs(pathogenic_dir)\n",
    "\n",
    "# --- Aggregate LCS values by Position across all heatmaps ---\n",
    "def collect_lcs_by_position(heatmap_list):\n",
    "    all_data = []\n",
    "    for df in heatmap_list:\n",
    "        for _, row in df.iterrows():\n",
    "            all_data.append((row[\"Position\"], row[\"LCS_Ratio\"]))\n",
    "    return pd.DataFrame(all_data, columns=[\"Position\", \"LCS_Ratio\"])\n",
    "\n",
    "benign_data = collect_lcs_by_position(benign_heatmaps)\n",
    "benign_data[\"Group\"] = \"Benign\"\n",
    "\n",
    "pathogenic_data = collect_lcs_by_position(pathogenic_heatmaps)\n",
    "pathogenic_data[\"Group\"] = \"Pathogenic\"\n",
    "\n",
    "combined = pd.concat([benign_data, pathogenic_data], ignore_index=True)\n",
    "\n",
    "# --- Adjust Position values to the new notation (Position 7 becomes 0, etc.) ---\n",
    "combined[\"Adjusted_Position\"] = combined[\"Position\"] - 7  # Shift positions so 7 becomes 0\n",
    "\n",
    "# --- Perform per-position statistical comparison ---\n",
    "results = []\n",
    "positions = sorted(combined[\"Position\"].dropna().unique())\n",
    "\n",
    "for pos in positions:\n",
    "    benign_vals = benign_data[benign_data[\"Position\"] == pos][\"LCS_Ratio\"].dropna()\n",
    "    path_vals = pathogenic_data[pathogenic_data[\"Position\"] == pos][\"LCS_Ratio\"].dropna()\n",
    "    \n",
    "    if len(benign_vals) > 1 and len(path_vals) > 1:\n",
    "        t_stat, p_val = ttest_ind(benign_vals, path_vals, equal_var=False)\n",
    "        results.append({\n",
    "            \"Position\": pos,\n",
    "            \"Benign_Mean\": benign_vals.mean(),\n",
    "            \"Pathogenic_Mean\": path_vals.mean(),\n",
    "            \"T_stat\": t_stat,\n",
    "            \"P_value\": p_val\n",
    "        })\n",
    "\n",
    "results_df = pd.DataFrame(results).sort_values(\"P_value\")\n",
    "display(results_df.head(10))  # Show the regions with most significant differences\n",
    "\n",
    "# --- Plot top N most significant positions as boxplots ---\n",
    "top_positions = results_df.nsmallest(6, \"P_value\")[\"Position\"].tolist()\n",
    "\n",
    "plt.figure(figsize=(14, 8))\n",
    "for i, pos in enumerate(top_positions):\n",
    "    plt.subplot(2, 3, i+1)\n",
    "    \n",
    "    # Adjust positions to -7 to +7 range\n",
    "    adjusted_pos = pos - 7  # Convert position to adjusted notation (7 -> 0, 15 -> +7, etc.)\n",
    "    \n",
    "    # Filter the data for the current adjusted position\n",
    "    region_data = combined[combined[\"Adjusted_Position\"] == adjusted_pos]\n",
    "    \n",
    "    # Create the boxplot\n",
    "    sns.boxplot(data=region_data, x=\"Group\", y=\"LCS_Ratio\", palette=\"Set2\")\n",
    "    \n",
    "    # Get the p-value for the current position\n",
    "    p_value = results_df[results_df[\"Position\"] == pos][\"P_value\"].values[0]\n",
    "    plt.title(f\"Position {adjusted_pos} - p = {p_value:.4f}\")\n",
    "    plt.ylim(0, 1)\n",
    "\n",
    "plt.tight_layout()\n",
    "plt.show()\n"
   ]
  },
  {
   "cell_type": "code",
   "execution_count": null,
   "metadata": {},
   "outputs": [],
   "source": [
    "'Show lowest LCS values in benign and pathogenic groups - highest impact mutations'"
   ]
  },
  {
   "cell_type": "code",
   "execution_count": 30,
   "metadata": {},
   "outputs": [
    {
     "name": "stdout",
     "output_type": "stream",
     "text": [
      "Benign - Position 1 has the lowest average LCS: 0.0319\n",
      "Pathogenic - Position 1 has the lowest average LCS: 0.0373\n",
      "\n",
      "Top 10 positions with lowest average LCS in Benign group:\n",
      "Adjusted_Position\n",
      " 1    0.031877\n",
      "-1    0.098263\n",
      " 0    0.109879\n",
      " 2    0.115040\n",
      " 3    0.115789\n",
      " 4    0.127900\n",
      "-2    0.132652\n",
      "-4    0.144609\n",
      " 5    0.174417\n",
      "-3    0.181996\n",
      "Name: LCS_Ratio, dtype: float64\n",
      "\n",
      "Top 10 positions with lowest average LCS in Pathogenic group:\n",
      "Adjusted_Position\n",
      " 1    0.037341\n",
      " 2    0.095803\n",
      " 3    0.103743\n",
      "-1    0.111971\n",
      " 4    0.120632\n",
      " 0    0.124654\n",
      "-2    0.152025\n",
      "-4    0.166175\n",
      "-3    0.167944\n",
      " 5    0.173185\n",
      "Name: LCS_Ratio, dtype: float64\n"
     ]
    }
   ],
   "source": [
    "import pandas as pd\n",
    "\n",
    "# Function to remap position from 0-15 range to -7 to +7 range\n",
    "def remap_position(position):\n",
    "    return position - 7\n",
    "\n",
    "# Assuming 'benign_data' and 'pathogenic_data' contain the data for both groups\n",
    "\n",
    "# Apply the remap function to adjust positions\n",
    "benign_data[\"Adjusted_Position\"] = benign_data[\"Position\"].apply(remap_position)\n",
    "pathogenic_data[\"Adjusted_Position\"] = pathogenic_data[\"Position\"].apply(remap_position)\n",
    "\n",
    "# Calculate average LCS for each adjusted position in benign and pathogenic groups\n",
    "benign_avg_lcs = benign_data.groupby(\"Adjusted_Position\")[\"LCS_Ratio\"].mean().sort_values()\n",
    "pathogenic_avg_lcs = pathogenic_data.groupby(\"Adjusted_Position\")[\"LCS_Ratio\"].mean().sort_values()\n",
    "\n",
    "# Display the position with the lowest average LCS value for each group (on -7 to +7 scale)\n",
    "lowest_benign_position = benign_avg_lcs.idxmin()  # Position with lowest average LCS for benign\n",
    "lowest_benign_lcs = benign_avg_lcs.min()  # Lowest average LCS value for benign\n",
    "\n",
    "lowest_pathogenic_position = pathogenic_avg_lcs.idxmin()  # Position with lowest average LCS for pathogenic\n",
    "lowest_pathogenic_lcs = pathogenic_avg_lcs.min()  # Lowest average LCS value for pathogenic\n",
    "\n",
    "# Output the results\n",
    "print(f\"Benign - Position {lowest_benign_position} has the lowest average LCS: {lowest_benign_lcs:.4f}\")\n",
    "print(f\"Pathogenic - Position {lowest_pathogenic_position} has the lowest average LCS: {lowest_pathogenic_lcs:.4f}\")\n",
    "\n",
    "# Optionally, if you want to look at the top N lowest positions:\n",
    "top_n_benign = benign_avg_lcs.head(10)  # top 10 lowest positions for benign\n",
    "top_n_pathogenic = pathogenic_avg_lcs.head(10)  # top 10 lowest positions for pathogenic\n",
    "\n",
    "print(\"\\nTop 10 positions with lowest average LCS in Benign group:\")\n",
    "print(top_n_benign)\n",
    "\n",
    "print(\"\\nTop 10 positions with lowest average LCS in Pathogenic group:\")\n",
    "print(top_n_pathogenic)\n"
   ]
  },
  {
   "cell_type": "code",
   "execution_count": null,
   "metadata": {},
   "outputs": [],
   "source": [
    "'Mutations at Position 1 have the lowest LCS (highest impact) in both groups with no significant difference between the two'"
   ]
  },
  {
   "cell_type": "code",
   "execution_count": 32,
   "metadata": {},
   "outputs": [
    {
     "name": "stderr",
     "output_type": "stream",
     "text": [
      "C:\\Users\\ricea\\AppData\\Local\\Temp\\ipykernel_26764\\1695089195.py:20: FutureWarning:\n",
      "\n",
      "\n",
      "\n",
      "Passing `palette` without assigning `hue` is deprecated and will be removed in v0.14.0. Assign the `x` variable to `hue` and set `legend=False` for the same effect.\n",
      "\n",
      "\n"
     ]
    },
    {
     "data": {
      "image/png": "[encoded data removed]",
      "text/plain": [
       "<Figure size 1000x600 with 1 Axes>"
      ]
     },
     "metadata": {},
     "output_type": "display_data"
    }
   ],
   "source": [
    "import matplotlib.pyplot as plt\n",
    "import seaborn as sns\n",
    "from scipy.stats import ttest_ind\n",
    "\n",
    "# Filter the data for Position 1 in both benign and pathogenic groups\n",
    "benign_position_1 = benign_data[benign_data[\"Adjusted_Position\"] == 1]\n",
    "pathogenic_position_1 = pathogenic_data[pathogenic_data[\"Adjusted_Position\"] == 1]\n",
    "\n",
    "# Combine the two dataframes for side-by-side boxplot\n",
    "combined_position_1 = pd.concat([benign_position_1, pathogenic_position_1])\n",
    "\n",
    "# Perform t-test\n",
    "benign_vals = benign_position_1[\"LCS_Ratio\"].dropna()\n",
    "pathogenic_vals = pathogenic_position_1[\"LCS_Ratio\"].dropna()\n",
    "\n",
    "t_stat, p_val = ttest_ind(benign_vals, pathogenic_vals, equal_var=False)\n",
    "\n",
    "# Plot side-by-side boxplots\n",
    "plt.figure(figsize=(10, 6))\n",
    "sns.boxplot(x=\"Group\", y=\"LCS_Ratio\", data=combined_position_1, palette=\"Set2\")\n",
    "\n",
    "# Set title\n",
    "plt.title(\"LCS Ratio Distribution at Position 1\\nBenign vs Pathogenic\", fontsize=16)\n",
    "\n",
    "# Annotate the p-value on the plot\n",
    "plt.text(0.5, max(combined_position_1[\"LCS_Ratio\"]), f'p = {p_val:.4f}', horizontalalignment='center', fontsize=14)\n",
    "\n",
    "# Display the plot\n",
    "plt.show()\n"
   ]
  }
 ],
 "metadata": {
  "kernelspec": {
   "display_name": "Python 3",
   "language": "python",
   "name": "python3"
  },
  "language_info": {
   "codemirror_mode": {
    "name": "ipython",
    "version": 3
   },
   "file_extension": ".py",
   "mimetype": "text/x-python",
   "name": "python",
   "nbconvert_exporter": "python",
   "pygments_lexer": "ipython3",
   "version": "3.12.9"
  }
 },
 "nbformat": 4,
 "nbformat_minor": 2
}
