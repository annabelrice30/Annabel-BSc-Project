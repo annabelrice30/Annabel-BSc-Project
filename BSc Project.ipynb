{
 "cells": [
  {
   "cell_type": "code",
   "execution_count": 1,
   "metadata": {},
   "outputs": [
    {
     "name": "stderr",
     "output_type": "stream",
     "text": [
      "Matplotlib is building the font cache; this may take a moment.\n"
     ]
    },
    {
     "data": {
      "text/html": [
       "<div>\n",
       "<style scoped>\n",
       "    .dataframe tbody tr th:only-of-type {\n",
       "        vertical-align: middle;\n",
       "    }\n",
       "\n",
       "    .dataframe tbody tr th {\n",
       "        vertical-align: top;\n",
       "    }\n",
       "\n",
       "    .dataframe thead th {\n",
       "        text-align: right;\n",
       "    }\n",
       "</style>\n",
       "<table border=\"1\" class=\"dataframe\">\n",
       "  <thead>\n",
       "    <tr style=\"text-align: right;\">\n",
       "      <th></th>\n",
       "      <th>Score</th>\n",
       "      <th>Score Rank</th>\n",
       "      <th>Percentile</th>\n",
       "      <th>Percentile Rank</th>\n",
       "    </tr>\n",
       "  </thead>\n",
       "  <tbody>\n",
       "    <tr>\n",
       "      <th>ATM</th>\n",
       "      <td>5.0385</td>\n",
       "      <td>1</td>\n",
       "      <td>99.83</td>\n",
       "      <td>1</td>\n",
       "    </tr>\n",
       "    <tr>\n",
       "      <th>SMG1</th>\n",
       "      <td>4.2377</td>\n",
       "      <td>2</td>\n",
       "      <td>99.77</td>\n",
       "      <td>2</td>\n",
       "    </tr>\n",
       "    <tr>\n",
       "      <th>ATR</th>\n",
       "      <td>3.5045</td>\n",
       "      <td>4</td>\n",
       "      <td>99.69</td>\n",
       "      <td>3</td>\n",
       "    </tr>\n",
       "    <tr>\n",
       "      <th>DNAPK</th>\n",
       "      <td>3.8172</td>\n",
       "      <td>3</td>\n",
       "      <td>99.21</td>\n",
       "      <td>4</td>\n",
       "    </tr>\n",
       "    <tr>\n",
       "      <th>FAM20C</th>\n",
       "      <td>3.1716</td>\n",
       "      <td>5</td>\n",
       "      <td>95.23</td>\n",
       "      <td>5</td>\n",
       "    </tr>\n",
       "    <tr>\n",
       "      <th>...</th>\n",
       "      <td>...</td>\n",
       "      <td>...</td>\n",
       "      <td>...</td>\n",
       "      <td>...</td>\n",
       "    </tr>\n",
       "    <tr>\n",
       "      <th>BRAF</th>\n",
       "      <td>-4.4003</td>\n",
       "      <td>242</td>\n",
       "      <td>7.86</td>\n",
       "      <td>306</td>\n",
       "    </tr>\n",
       "    <tr>\n",
       "      <th>AKT2</th>\n",
       "      <td>-5.6530</td>\n",
       "      <td>284</td>\n",
       "      <td>6.79</td>\n",
       "      <td>307</td>\n",
       "    </tr>\n",
       "    <tr>\n",
       "      <th>P70S6KB</th>\n",
       "      <td>-3.9915</td>\n",
       "      <td>223</td>\n",
       "      <td>6.64</td>\n",
       "      <td>308</td>\n",
       "    </tr>\n",
       "    <tr>\n",
       "      <th>NEK3</th>\n",
       "      <td>-8.2455</td>\n",
       "      <td>310</td>\n",
       "      <td>4.85</td>\n",
       "      <td>309</td>\n",
       "    </tr>\n",
       "    <tr>\n",
       "      <th>P70S6K</th>\n",
       "      <td>-7.2917</td>\n",
       "      <td>306</td>\n",
       "      <td>4.19</td>\n",
       "      <td>310</td>\n",
       "    </tr>\n",
       "  </tbody>\n",
       "</table>\n",
       "<p>310 rows × 4 columns</p>\n",
       "</div>"
      ],
      "text/plain": [
       "          Score  Score Rank  Percentile  Percentile Rank\n",
       "ATM      5.0385           1       99.83                1\n",
       "SMG1     4.2377           2       99.77                2\n",
       "ATR      3.5045           4       99.69                3\n",
       "DNAPK    3.8172           3       99.21                4\n",
       "FAM20C   3.1716           5       95.23                5\n",
       "...         ...         ...         ...              ...\n",
       "BRAF    -4.4003         242        7.86              306\n",
       "AKT2    -5.6530         284        6.79              307\n",
       "P70S6KB -3.9915         223        6.64              308\n",
       "NEK3    -8.2455         310        4.85              309\n",
       "P70S6K  -7.2917         306        4.19              310\n",
       "\n",
       "[310 rows x 4 columns]"
      ]
     },
     "execution_count": 1,
     "metadata": {},
     "output_type": "execute_result"
    }
   ],
   "source": [
    "import kinase_library as kl\n",
    "testsequence='PSVEPPLsQETFSDL'\n",
    "\n",
    "# Create a Substrate object with a target sequence (example: p53 S33)\n",
    "s = kl.Substrate(testsequence)  # Lowercase 's' indicates a phosphoserine\n",
    "\n",
    "# Predict potential kinase interactions for the substrate\n",
    "s.predict()"
   ]
  },
  {
   "cell_type": "code",
   "execution_count": null,
   "metadata": {},
   "outputs": [],
   "source": [
    "\"\"\"Task 1 - to write code mutating first amino acid to every other possible amino acid\"\"\"\n",
    "#how to replace one letter for another in test sequence.\n",
    "\n",
    "#how to replace one letter for each amino acid\n",
    "\n"
   ]
  },
  {
   "cell_type": "code",
   "execution_count": 2,
   "metadata": {},
   "outputs": [
    {
     "name": "stdout",
     "output_type": "stream",
     "text": [
      "Mutated sequences (# sequences = 286)\n",
      "['ASVEPPLsQETFSDL', 'CSVEPPLsQETFSDL', 'DSVEPPLsQETFSDL', 'ESVEPPLsQETFSDL', 'FSVEPPLsQETFSDL', 'GSVEPPLsQETFSDL', 'HSVEPPLsQETFSDL', 'ISVEPPLsQETFSDL', 'KSVEPPLsQETFSDL', 'LSVEPPLsQETFSDL', 'MSVEPPLsQETFSDL', 'NSVEPPLsQETFSDL', 'QSVEPPLsQETFSDL', 'RSVEPPLsQETFSDL', 'SSVEPPLsQETFSDL', 'TSVEPPLsQETFSDL', 'VSVEPPLsQETFSDL', 'WSVEPPLsQETFSDL', 'YSVEPPLsQETFSDL', 'PAVEPPLsQETFSDL', 'PCVEPPLsQETFSDL', 'PDVEPPLsQETFSDL', 'PEVEPPLsQETFSDL', 'PFVEPPLsQETFSDL', 'PGVEPPLsQETFSDL', 'PHVEPPLsQETFSDL', 'PIVEPPLsQETFSDL', 'PKVEPPLsQETFSDL', 'PLVEPPLsQETFSDL', 'PMVEPPLsQETFSDL', 'PNVEPPLsQETFSDL', 'PPVEPPLsQETFSDL', 'PQVEPPLsQETFSDL', 'PRVEPPLsQETFSDL', 'PTVEPPLsQETFSDL', 'PVVEPPLsQETFSDL', 'PWVEPPLsQETFSDL', 'PYVEPPLsQETFSDL', 'PSAEPPLsQETFSDL', 'PSCEPPLsQETFSDL', 'PSDEPPLsQETFSDL', 'PSEEPPLsQETFSDL', 'PSFEPPLsQETFSDL', 'PSGEPPLsQETFSDL', 'PSHEPPLsQETFSDL', 'PSIEPPLsQETFSDL', 'PSKEPPLsQETFSDL', 'PSLEPPLsQETFSDL', 'PSMEPPLsQETFSDL', 'PSNEPPLsQETFSDL', 'PSPEPPLsQETFSDL', 'PSQEPPLsQETFSDL', 'PSREPPLsQETFSDL', 'PSSEPPLsQETFSDL', 'PSTEPPLsQETFSDL', 'PSWEPPLsQETFSDL', 'PSYEPPLsQETFSDL', 'PSVAPPLsQETFSDL', 'PSVCPPLsQETFSDL', 'PSVDPPLsQETFSDL', 'PSVFPPLsQETFSDL', 'PSVGPPLsQETFSDL', 'PSVHPPLsQETFSDL', 'PSVIPPLsQETFSDL', 'PSVKPPLsQETFSDL', 'PSVLPPLsQETFSDL', 'PSVMPPLsQETFSDL', 'PSVNPPLsQETFSDL', 'PSVPPPLsQETFSDL', 'PSVQPPLsQETFSDL', 'PSVRPPLsQETFSDL', 'PSVSPPLsQETFSDL', 'PSVTPPLsQETFSDL', 'PSVVPPLsQETFSDL', 'PSVWPPLsQETFSDL', 'PSVYPPLsQETFSDL', 'PSVEAPLsQETFSDL', 'PSVECPLsQETFSDL', 'PSVEDPLsQETFSDL', 'PSVEEPLsQETFSDL', 'PSVEFPLsQETFSDL', 'PSVEGPLsQETFSDL', 'PSVEHPLsQETFSDL', 'PSVEIPLsQETFSDL', 'PSVEKPLsQETFSDL', 'PSVELPLsQETFSDL', 'PSVEMPLsQETFSDL', 'PSVENPLsQETFSDL', 'PSVEQPLsQETFSDL', 'PSVERPLsQETFSDL', 'PSVESPLsQETFSDL', 'PSVETPLsQETFSDL', 'PSVEVPLsQETFSDL', 'PSVEWPLsQETFSDL', 'PSVEYPLsQETFSDL', 'PSVEPALsQETFSDL', 'PSVEPCLsQETFSDL', 'PSVEPDLsQETFSDL', 'PSVEPELsQETFSDL', 'PSVEPFLsQETFSDL', 'PSVEPGLsQETFSDL', 'PSVEPHLsQETFSDL', 'PSVEPILsQETFSDL', 'PSVEPKLsQETFSDL', 'PSVEPLLsQETFSDL', 'PSVEPMLsQETFSDL', 'PSVEPNLsQETFSDL', 'PSVEPQLsQETFSDL', 'PSVEPRLsQETFSDL', 'PSVEPSLsQETFSDL', 'PSVEPTLsQETFSDL', 'PSVEPVLsQETFSDL', 'PSVEPWLsQETFSDL', 'PSVEPYLsQETFSDL', 'PSVEPPAsQETFSDL', 'PSVEPPCsQETFSDL', 'PSVEPPDsQETFSDL', 'PSVEPPEsQETFSDL', 'PSVEPPFsQETFSDL', 'PSVEPPGsQETFSDL', 'PSVEPPHsQETFSDL', 'PSVEPPIsQETFSDL', 'PSVEPPKsQETFSDL', 'PSVEPPMsQETFSDL', 'PSVEPPNsQETFSDL', 'PSVEPPPsQETFSDL', 'PSVEPPQsQETFSDL', 'PSVEPPRsQETFSDL', 'PSVEPPSsQETFSDL', 'PSVEPPTsQETFSDL', 'PSVEPPVsQETFSDL', 'PSVEPPWsQETFSDL', 'PSVEPPYsQETFSDL', 'PSVEPPLAQETFSDL', 'PSVEPPLCQETFSDL', 'PSVEPPLDQETFSDL', 'PSVEPPLEQETFSDL', 'PSVEPPLFQETFSDL', 'PSVEPPLGQETFSDL', 'PSVEPPLHQETFSDL', 'PSVEPPLIQETFSDL', 'PSVEPPLKQETFSDL', 'PSVEPPLLQETFSDL', 'PSVEPPLMQETFSDL', 'PSVEPPLNQETFSDL', 'PSVEPPLPQETFSDL', 'PSVEPPLQQETFSDL', 'PSVEPPLRQETFSDL', 'PSVEPPLSQETFSDL', 'PSVEPPLTQETFSDL', 'PSVEPPLVQETFSDL', 'PSVEPPLWQETFSDL', 'PSVEPPLYQETFSDL', 'PSVEPPLsAETFSDL', 'PSVEPPLsCETFSDL', 'PSVEPPLsDETFSDL', 'PSVEPPLsEETFSDL', 'PSVEPPLsFETFSDL', 'PSVEPPLsGETFSDL', 'PSVEPPLsHETFSDL', 'PSVEPPLsIETFSDL', 'PSVEPPLsKETFSDL', 'PSVEPPLsLETFSDL', 'PSVEPPLsMETFSDL', 'PSVEPPLsNETFSDL', 'PSVEPPLsPETFSDL', 'PSVEPPLsRETFSDL', 'PSVEPPLsSETFSDL', 'PSVEPPLsTETFSDL', 'PSVEPPLsVETFSDL', 'PSVEPPLsWETFSDL', 'PSVEPPLsYETFSDL', 'PSVEPPLsQATFSDL', 'PSVEPPLsQCTFSDL', 'PSVEPPLsQDTFSDL', 'PSVEPPLsQFTFSDL', 'PSVEPPLsQGTFSDL', 'PSVEPPLsQHTFSDL', 'PSVEPPLsQITFSDL', 'PSVEPPLsQKTFSDL', 'PSVEPPLsQLTFSDL', 'PSVEPPLsQMTFSDL', 'PSVEPPLsQNTFSDL', 'PSVEPPLsQPTFSDL', 'PSVEPPLsQQTFSDL', 'PSVEPPLsQRTFSDL', 'PSVEPPLsQSTFSDL', 'PSVEPPLsQTTFSDL', 'PSVEPPLsQVTFSDL', 'PSVEPPLsQWTFSDL', 'PSVEPPLsQYTFSDL', 'PSVEPPLsQEAFSDL', 'PSVEPPLsQECFSDL', 'PSVEPPLsQEDFSDL', 'PSVEPPLsQEEFSDL', 'PSVEPPLsQEFFSDL', 'PSVEPPLsQEGFSDL', 'PSVEPPLsQEHFSDL', 'PSVEPPLsQEIFSDL', 'PSVEPPLsQEKFSDL', 'PSVEPPLsQELFSDL', 'PSVEPPLsQEMFSDL', 'PSVEPPLsQENFSDL', 'PSVEPPLsQEPFSDL', 'PSVEPPLsQEQFSDL', 'PSVEPPLsQERFSDL', 'PSVEPPLsQESFSDL', 'PSVEPPLsQEVFSDL', 'PSVEPPLsQEWFSDL', 'PSVEPPLsQEYFSDL', 'PSVEPPLsQETASDL', 'PSVEPPLsQETCSDL', 'PSVEPPLsQETDSDL', 'PSVEPPLsQETESDL', 'PSVEPPLsQETGSDL', 'PSVEPPLsQETHSDL', 'PSVEPPLsQETISDL', 'PSVEPPLsQETKSDL', 'PSVEPPLsQETLSDL', 'PSVEPPLsQETMSDL', 'PSVEPPLsQETNSDL', 'PSVEPPLsQETPSDL', 'PSVEPPLsQETQSDL', 'PSVEPPLsQETRSDL', 'PSVEPPLsQETSSDL', 'PSVEPPLsQETTSDL', 'PSVEPPLsQETVSDL', 'PSVEPPLsQETWSDL', 'PSVEPPLsQETYSDL', 'PSVEPPLsQETFADL', 'PSVEPPLsQETFCDL', 'PSVEPPLsQETFDDL', 'PSVEPPLsQETFEDL', 'PSVEPPLsQETFFDL', 'PSVEPPLsQETFGDL', 'PSVEPPLsQETFHDL', 'PSVEPPLsQETFIDL', 'PSVEPPLsQETFKDL', 'PSVEPPLsQETFLDL', 'PSVEPPLsQETFMDL', 'PSVEPPLsQETFNDL', 'PSVEPPLsQETFPDL', 'PSVEPPLsQETFQDL', 'PSVEPPLsQETFRDL', 'PSVEPPLsQETFTDL', 'PSVEPPLsQETFVDL', 'PSVEPPLsQETFWDL', 'PSVEPPLsQETFYDL', 'PSVEPPLsQETFSAL', 'PSVEPPLsQETFSCL', 'PSVEPPLsQETFSEL', 'PSVEPPLsQETFSFL', 'PSVEPPLsQETFSGL', 'PSVEPPLsQETFSHL', 'PSVEPPLsQETFSIL', 'PSVEPPLsQETFSKL', 'PSVEPPLsQETFSLL', 'PSVEPPLsQETFSML', 'PSVEPPLsQETFSNL', 'PSVEPPLsQETFSPL', 'PSVEPPLsQETFSQL', 'PSVEPPLsQETFSRL', 'PSVEPPLsQETFSSL', 'PSVEPPLsQETFSTL', 'PSVEPPLsQETFSVL', 'PSVEPPLsQETFSWL', 'PSVEPPLsQETFSYL', 'PSVEPPLsQETFSDA', 'PSVEPPLsQETFSDC', 'PSVEPPLsQETFSDD', 'PSVEPPLsQETFSDE', 'PSVEPPLsQETFSDF', 'PSVEPPLsQETFSDG', 'PSVEPPLsQETFSDH', 'PSVEPPLsQETFSDI', 'PSVEPPLsQETFSDK', 'PSVEPPLsQETFSDM', 'PSVEPPLsQETFSDN', 'PSVEPPLsQETFSDP', 'PSVEPPLsQETFSDQ', 'PSVEPPLsQETFSDR', 'PSVEPPLsQETFSDS', 'PSVEPPLsQETFSDT', 'PSVEPPLsQETFSDV', 'PSVEPPLsQETFSDW', 'PSVEPPLsQETFSDY']\n"
     ]
    }
   ],
   "source": [
    "mutated_sequences = [] #creates a list to store the mutated amino acids\n",
    "amino_acids = \"ACDEFGHIKLMNPQRSTVWY\"  # defines the standard 20 amino acids\n",
    "for i, original_aa in enumerate(testsequence): #indexes the original amino acids \n",
    "    for new_aa in amino_acids: #creates a loop of all amino acids\n",
    "        if new_aa != original_aa:  # Avoid replacing with itself\n",
    "                mutated_seq = testsequence[:i] + new_aa + testsequence[i+1:] #creates a new sequence (mutated seq)\n",
    "                mutated_sequences.append(mutated_seq) #stores mutated sequence\n",
    "\n",
    "print(f'Mutated sequences (# sequences = {len(mutated_sequences)})')\n",
    "print(mutated_sequences)\n",
    " #shows mutations at each position\n",
    "\n",
    "\n",
    "        "
   ]
  },
  {
   "cell_type": "code",
   "execution_count": null,
   "metadata": {},
   "outputs": [],
   "source": [
    "'''\n",
    "Task2 - Run these sequences through the predict function and store the output as a csv file. Look at pandas.to_csv() for this.\n",
    "Output should be 280 separate csv files. Don't worry about a naming convention yet. \n",
    "'''\n",
    "\n"
   ]
  },
  {
   "cell_type": "code",
   "execution_count": 3,
   "metadata": {},
   "outputs": [
    {
     "name": "stdout",
     "output_type": "stream",
     "text": [
      "Total mutations generated: 286\n",
      "Skipping mutation at position 7 (s → A): Central residue must be a phosphoacceptor (s/t/y). Otherwise, please identify the position of the phosphoacceptor.\n",
      "Skipping mutation at position 7 (s → C): Central residue must be a phosphoacceptor (s/t/y). Otherwise, please identify the position of the phosphoacceptor.\n",
      "Skipping mutation at position 7 (s → D): Central residue must be a phosphoacceptor (s/t/y). Otherwise, please identify the position of the phosphoacceptor.\n",
      "Skipping mutation at position 7 (s → E): Central residue must be a phosphoacceptor (s/t/y). Otherwise, please identify the position of the phosphoacceptor.\n",
      "Skipping mutation at position 7 (s → F): Central residue must be a phosphoacceptor (s/t/y). Otherwise, please identify the position of the phosphoacceptor.\n",
      "Skipping mutation at position 7 (s → G): Central residue must be a phosphoacceptor (s/t/y). Otherwise, please identify the position of the phosphoacceptor.\n",
      "Skipping mutation at position 7 (s → H): Central residue must be a phosphoacceptor (s/t/y). Otherwise, please identify the position of the phosphoacceptor.\n",
      "Skipping mutation at position 7 (s → I): Central residue must be a phosphoacceptor (s/t/y). Otherwise, please identify the position of the phosphoacceptor.\n",
      "Skipping mutation at position 7 (s → K): Central residue must be a phosphoacceptor (s/t/y). Otherwise, please identify the position of the phosphoacceptor.\n",
      "Skipping mutation at position 7 (s → L): Central residue must be a phosphoacceptor (s/t/y). Otherwise, please identify the position of the phosphoacceptor.\n",
      "Skipping mutation at position 7 (s → M): Central residue must be a phosphoacceptor (s/t/y). Otherwise, please identify the position of the phosphoacceptor.\n",
      "Skipping mutation at position 7 (s → N): Central residue must be a phosphoacceptor (s/t/y). Otherwise, please identify the position of the phosphoacceptor.\n",
      "Skipping mutation at position 7 (s → P): Central residue must be a phosphoacceptor (s/t/y). Otherwise, please identify the position of the phosphoacceptor.\n",
      "Skipping mutation at position 7 (s → Q): Central residue must be a phosphoacceptor (s/t/y). Otherwise, please identify the position of the phosphoacceptor.\n",
      "Skipping mutation at position 7 (s → R): Central residue must be a phosphoacceptor (s/t/y). Otherwise, please identify the position of the phosphoacceptor.\n",
      "Skipping mutation at position 7 (s → V): Central residue must be a phosphoacceptor (s/t/y). Otherwise, please identify the position of the phosphoacceptor.\n",
      "Skipping mutation at position 7 (s → W): Central residue must be a phosphoacceptor (s/t/y). Otherwise, please identify the position of the phosphoacceptor.\n"
     ]
    }
   ],
   "source": [
    "import kinase_library as kl\n",
    "import pandas as pd\n",
    "\n",
    "testsequence = 'PSVEPPLsQETFSDL'  \n",
    "amino_acids = \"ACDEFGHIKLMNPQRSTVWY\"\n",
    "mutated_sequences = []  \n",
    "\n",
    "for i, original_aa in enumerate(testsequence):  \n",
    "    for new_aa in amino_acids:\n",
    "        if new_aa != original_aa:  \n",
    "                mutated_seq = testsequence[:i] + new_aa + testsequence[i+1:] \n",
    "                mutated_sequences.append((i, original_aa, new_aa, mutated_seq))  \n",
    "\n",
    "\n",
    "print(f\"Total mutations generated: {len(mutated_sequences)}\") \n",
    "\n",
    "for i, original_aa, new_aa, mutated_seq in mutated_sequences: #below is gpt code, wanted to see what exceptions it threw up using try function\n",
    "    try:\n",
    "        s = kl.Substrate(mutated_seq)\n",
    "        predictions = s.predict()\n",
    "\n",
    "\n",
    "        df = pd.DataFrame(predictions)\n",
    "\n",
    "        # Save to CSV file with a structured name\n",
    "        filename = f\"mutation_Pos{i}_{original_aa}_to_{new_aa}.csv\"\n",
    "        df.to_csv(filename, index=False)\n",
    "\n",
    "    except Exception as e:\n",
    "        print(f\"Skipping mutation at position {i} ({original_aa} → {new_aa}): {e}\")\n",
    "\n",
    "\n",
    "\n"
   ]
  },
  {
   "cell_type": "code",
   "execution_count": 4,
   "metadata": {},
   "outputs": [
    {
     "name": "stdout",
     "output_type": "stream",
     "text": [
      "Wild-type CSV created: C:/Users/ricea/OneDrive/Documents/GitHub/Annabel-BSc-Project\\wildtype.csv\n"
     ]
    }
   ],
   "source": [
    "import os\n",
    "import pandas as pd\n",
    "\n",
    "# Directory containing mutation CSVs\n",
    "mut_predictions = \"C:/Users/ricea/OneDrive/Documents/GitHub/Annabel-BSc-Project\"\n",
    "\n",
    "# Find a sample mutation file to use as a template\n",
    "sample_file = None\n",
    "for file in os.listdir(mut_predictions):\n",
    "    if file.endswith(\".csv\"):\n",
    "        sample_file = os.path.join(mut_predictions, file)\n",
    "        break  # Stop after finding the first valid file\n",
    "\n",
    "if not sample_file:\n",
    "    raise ValueError(\"No mutation CSV files found!\")\n",
    "\n",
    "# Read sample file\n",
    "df = pd.read_csv(sample_file)\n",
    "\n",
    "# Ensure \"Score Rank\" exists\n",
    "if \"Score Rank\" not in df.columns:\n",
    "    raise ValueError(f\"'Score Rank' column not found in {sample_file}\")\n",
    "\n",
    "# Create a wild-type CSV using the same structure\n",
    "df_wildtype = df.copy()\n",
    "df_wildtype[\"Mutation\"] = \"Wild-Type\"  # Mark as wild-type\n",
    "\n",
    "# Save the new wild-type CSV\n",
    "wildtype_path = os.path.join(mut_predictions, \"wildtype.csv\")\n",
    "df_wildtype.to_csv(wildtype_path, index=False)\n",
    "\n",
    "print(f\"Wild-type CSV created: {wildtype_path}\")\n"
   ]
  },
  {
   "cell_type": "code",
   "execution_count": null,
   "metadata": {},
   "outputs": [],
   "source": [
    "'''\n",
    "Task3 - Run through the 286 csv files and extract the order of the kinases. Then using the test sequence as the reference.\n",
    "Compute a metric for each pair using something similar to LCS (link for inspo attached - https://chatgpt.com/share/67c705a9-9c74-8001-a8da-eac57f06384f)  \n",
    "'''"
   ]
  },
  {
   "cell_type": "code",
   "execution_count": null,
   "metadata": {},
   "outputs": [
    {
     "name": "stdout",
     "output_type": "stream",
     "text": [
      "Extracted kinase orders from 269 mutation CSVs.\n",
      "\n",
      "Normalized LCS Scores:\n",
      "                 Mutation_File  Normalized_LCS\n",
      "146   mutation_Pos2_V_to_Q.csv        0.000000\n",
      "230   mutation_Pos7_s_to_Y.csv        0.006623\n",
      "139   mutation_Pos2_V_to_H.csv        0.009934\n",
      "263   mutation_Pos9_E_to_R.csv        0.009934\n",
      "182   mutation_Pos4_P_to_N.csv        0.009934\n",
      "..                         ...             ...\n",
      "101  mutation_Pos14_L_to_H.csv        1.000000\n",
      "102  mutation_Pos14_L_to_I.csv        1.000000\n",
      "103  mutation_Pos14_L_to_K.csv        1.000000\n",
      "16    mutation_Pos0_P_to_V.csv        1.000000\n",
      "0     mutation_Pos0_P_to_A.csv        1.000000\n",
      "\n",
      "[269 rows x 2 columns]\n"
     ]
    }
   ],
   "source": [
    "import os\n",
    "import pandas as pd\n",
    "from difflib import SequenceMatcher\n",
    "\n",
    "#This extracts the kinase orders from 269 files - one being the reference sequence.\n",
    "#I assume some mutations at position 7 are skipped due to the lack of phosphoacceptor.\n",
    "#So giving 18 fewer LCS scores compared to the number of CSV files generated earlier.\n",
    "#This is consistent with the data shown on the heatmap in the next cell.\n",
    "\n",
    "mut_predictions = \"C:/Users/ricea/OneDrive/Documents/GitHub/Annabel-BSc-Project\"\n",
    "\n",
    "wildtype_path = os.path.join(mut_predictions, \"wildtype.csv\")\n",
    "\n",
    "df_wildtype = pd.read_csv(wildtype_path)\n",
    "\n",
    "wildtype_kinase_order = df_wildtype[\"Score Rank\"].tolist()  #extracts kinase orders from the reference sequence\n",
    "\n",
    "kinase_orders = {}\n",
    "\n",
    "#reads all files to extract the kinase orders (except wildtype as that's already been done)\n",
    "for file in os.listdir(mut_predictions):\n",
    "    if file.endswith(\".csv\") and file != \"wildtype.csv\":\n",
    "        file_path = os.path.join(mut_predictions, file)\n",
    "        try:\n",
    "            df = pd.read_csv(file_path)\n",
    "            \n",
    "            if \"Score Rank\" in df.columns:\n",
    "                kinase_orders[file] = df[\"Score Rank\"].tolist()  # Store kinase order\n",
    "            else:\n",
    "                print(f\"Skipping {file}: No 'Score Rank' column found.\") \n",
    "        \n",
    "        except Exception as e:\n",
    "            print(f\"Error reading {file}: {e}\")   #debugging steps\n",
    "\n",
    "print(f\"Extracted kinase orders from {len(kinase_orders)} mutation CSVs.\") \n",
    "\n",
    "# Function to compute Longest Common Subsequence (LCS)\n",
    "def longest_common_subsequence(seq1, seq2):\n",
    "    matcher = SequenceMatcher(None, seq1, seq2)\n",
    "    return sum(block.size for block in matcher.get_matching_blocks())\n",
    "\n",
    "#finds the LCS between wildtype and mut seqs\n",
    "lcs_scores = {}\n",
    "for file, order in kinase_orders.items():\n",
    "    lcs_length = longest_common_subsequence(order, wildtype_kinase_order)\n",
    "    lcs_scores[file] = lcs_length\n",
    "\n",
    "#normalizes LCS scores between 0 and 1\n",
    "if lcs_scores:\n",
    "    lcs_min = min(lcs_scores.values())\n",
    "    lcs_max = max(lcs_scores.values())\n",
    "\n",
    "    normalized_lcs = {file: (score - lcs_min) / (lcs_max - lcs_min) for file, score in lcs_scores.items()}\n",
    "\n",
    "   \n",
    "    df_lcs = pd.DataFrame(list(normalized_lcs.items()), columns=['Mutation_File', 'Normalized_LCS'])\n",
    "    \n",
    "    print(\"\\nNormalized LCS Scores:\")\n",
    "    print(df_lcs.sort_values(by=\"Normalized_LCS\", ascending=True))  # Sort by lowest LCS\n",
    "\n",
    "else:\n",
    "    print(\"No LCS scores calculated. Ensure kinase_orders contains data.\")\n"
   ]
  },
  {
   "cell_type": "code",
   "execution_count": null,
   "metadata": {},
   "outputs": [],
   "source": [
    "'''\n",
    "Task 4: generate heatmaps of LCS ratio for each mutation on the y axis and position on the x axis. I like plotly heatmaps for this\n",
    "https://plotly.com/python/heatmaps/. So output will be a heat map showing hotspots for the mutations that disrup the phosphorylation motif the most\n",
    "'''"
   ]
  },
  {
   "cell_type": "code",
   "execution_count": 9,
   "metadata": {},
   "outputs": [
    {
     "data": {
      "application/vnd.plotly.v1+json": {
       "config": {
        "plotlyServerURL": "https://plot.ly"
       },
       "data": [
        {
         "coloraxis": "coloraxis",
         "hovertemplate": "Mutation Position: %{x}<br>Mutated Amino Acid: %{y}<br>LCS Ratio: %{z}<extra></extra>",
         "name": "0",
         "type": "heatmap",
         "x": {
          "bdata": "AAECAwQFBgcICQoLDA0O",
          "dtype": "i1"
         },
         "xaxis": "x",
         "y": [
          "A",
          "C",
          "D",
          "E",
          "F",
          "G",
          "H",
          "I",
          "K",
          "L",
          "M",
          "N",
          "P",
          "Q",
          "R",
          "S",
          "T",
          "V",
          "W",
          "Y"
         ],
         "yaxis": "y",
         "z": {
          "bdata": "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",
          "dtype": "f8",
          "shape": "20, 15"
         }
        }
       ],
       "layout": {
        "coloraxis": {
         "colorbar": {
          "ticktext": [
           "0.0",
           "0.25",
           "0.5",
           "0.75",
           "1.0"
          ],
          "tickvals": [
           0,
           0.25,
           0.5,
           0.75,
           1
          ],
          "title": {
           "text": "LCS Ratio"
          }
         },
         "colorscale": [
          [
           0,
           "rgb(0, 147, 146)"
          ],
          [
           0.16666666666666666,
           "rgb(57, 177, 133)"
          ],
          [
           0.3333333333333333,
           "rgb(156, 203, 134)"
          ],
          [
           0.5,
           "rgb(233, 226, 156)"
          ],
          [
           0.6666666666666666,
           "rgb(238, 180, 121)"
          ],
          [
           0.8333333333333334,
           "rgb(232, 132, 113)"
          ],
          [
           1,
           "rgb(207, 89, 126)"
          ]
         ]
        },
        "template": {
         "data": {
          "bar": [
           {
            "error_x": {
             "color": "#2a3f5f"
            },
            "error_y": {
             "color": "#2a3f5f"
            },
            "marker": {
             "line": {
              "color": "#E5ECF6",
              "width": 0.5
             },
             "pattern": {
              "fillmode": "overlay",
              "size": 10,
              "solidity": 0.2
             }
            },
            "type": "bar"
           }
          ],
          "barpolar": [
           {
            "marker": {
             "line": {
              "color": "#E5ECF6",
              "width": 0.5
             },
             "pattern": {
              "fillmode": "overlay",
              "size": 10,
              "solidity": 0.2
             }
            },
            "type": "barpolar"
           }
          ],
          "carpet": [
           {
            "aaxis": {
             "endlinecolor": "#2a3f5f",
             "gridcolor": "white",
             "linecolor": "white",
             "minorgridcolor": "white",
             "startlinecolor": "#2a3f5f"
            },
            "baxis": {
             "endlinecolor": "#2a3f5f",
             "gridcolor": "white",
             "linecolor": "white",
             "minorgridcolor": "white",
             "startlinecolor": "#2a3f5f"
            },
            "type": "carpet"
           }
          ],
          "choropleth": [
           {
            "colorbar": {
             "outlinewidth": 0,
             "ticks": ""
            },
            "type": "choropleth"
           }
          ],
          "contour": [
           {
            "colorbar": {
             "outlinewidth": 0,
             "ticks": ""
            },
            "colorscale": [
             [
              0,
              "#0d0887"
             ],
             [
              0.1111111111111111,
              "#46039f"
             ],
             [
              0.2222222222222222,
              "#7201a8"
             ],
             [
              0.3333333333333333,
              "#9c179e"
             ],
             [
              0.4444444444444444,
              "#bd3786"
             ],
             [
              0.5555555555555556,
              "#d8576b"
             ],
             [
              0.6666666666666666,
              "#ed7953"
             ],
             [
              0.7777777777777778,
              "#fb9f3a"
             ],
             [
              0.8888888888888888,
              "#fdca26"
             ],
             [
              1,
              "#f0f921"
             ]
            ],
            "type": "contour"
           }
          ],
          "contourcarpet": [
           {
            "colorbar": {
             "outlinewidth": 0,
             "ticks": ""
            },
            "type": "contourcarpet"
           }
          ],
          "heatmap": [
           {
            "colorbar": {
             "outlinewidth": 0,
             "ticks": ""
            },
            "colorscale": [
             [
              0,
              "#0d0887"
             ],
             [
              0.1111111111111111,
              "#46039f"
             ],
             [
              0.2222222222222222,
              "#7201a8"
             ],
             [
              0.3333333333333333,
              "#9c179e"
             ],
             [
              0.4444444444444444,
              "#bd3786"
             ],
             [
              0.5555555555555556,
              "#d8576b"
             ],
             [
              0.6666666666666666,
              "#ed7953"
             ],
             [
              0.7777777777777778,
              "#fb9f3a"
             ],
             [
              0.8888888888888888,
              "#fdca26"
             ],
             [
              1,
              "#f0f921"
             ]
            ],
            "type": "heatmap"
           }
          ],
          "histogram": [
           {
            "marker": {
             "pattern": {
              "fillmode": "overlay",
              "size": 10,
              "solidity": 0.2
             }
            },
            "type": "histogram"
           }
          ],
          "histogram2d": [
           {
            "colorbar": {
             "outlinewidth": 0,
             "ticks": ""
            },
            "colorscale": [
             [
              0,
              "#0d0887"
             ],
             [
              0.1111111111111111,
              "#46039f"
             ],
             [
              0.2222222222222222,
              "#7201a8"
             ],
             [
              0.3333333333333333,
              "#9c179e"
             ],
             [
              0.4444444444444444,
              "#bd3786"
             ],
             [
              0.5555555555555556,
              "#d8576b"
             ],
             [
              0.6666666666666666,
              "#ed7953"
             ],
             [
              0.7777777777777778,
              "#fb9f3a"
             ],
             [
              0.8888888888888888,
              "#fdca26"
             ],
             [
              1,
              "#f0f921"
             ]
            ],
            "type": "histogram2d"
           }
          ],
          "histogram2dcontour": [
           {
            "colorbar": {
             "outlinewidth": 0,
             "ticks": ""
            },
            "colorscale": [
             [
              0,
              "#0d0887"
             ],
             [
              0.1111111111111111,
              "#46039f"
             ],
             [
              0.2222222222222222,
              "#7201a8"
             ],
             [
              0.3333333333333333,
              "#9c179e"
             ],
             [
              0.4444444444444444,
              "#bd3786"
             ],
             [
              0.5555555555555556,
              "#d8576b"
             ],
             [
              0.6666666666666666,
              "#ed7953"
             ],
             [
              0.7777777777777778,
              "#fb9f3a"
             ],
             [
              0.8888888888888888,
              "#fdca26"
             ],
             [
              1,
              "#f0f921"
             ]
            ],
            "type": "histogram2dcontour"
           }
          ],
          "mesh3d": [
           {
            "colorbar": {
             "outlinewidth": 0,
             "ticks": ""
            },
            "type": "mesh3d"
           }
          ],
          "parcoords": [
           {
            "line": {
             "colorbar": {
              "outlinewidth": 0,
              "ticks": ""
             }
            },
            "type": "parcoords"
           }
          ],
          "pie": [
           {
            "automargin": true,
            "type": "pie"
           }
          ],
          "scatter": [
           {
            "fillpattern": {
             "fillmode": "overlay",
             "size": 10,
             "solidity": 0.2
            },
            "type": "scatter"
           }
          ],
          "scatter3d": [
           {
            "line": {
             "colorbar": {
              "outlinewidth": 0,
              "ticks": ""
             }
            },
            "marker": {
             "colorbar": {
              "outlinewidth": 0,
              "ticks": ""
             }
            },
            "type": "scatter3d"
           }
          ],
          "scattercarpet": [
           {
            "marker": {
             "colorbar": {
              "outlinewidth": 0,
              "ticks": ""
             }
            },
            "type": "scattercarpet"
           }
          ],
          "scattergeo": [
           {
            "marker": {
             "colorbar": {
              "outlinewidth": 0,
              "ticks": ""
             }
            },
            "type": "scattergeo"
           }
          ],
          "scattergl": [
           {
            "marker": {
             "colorbar": {
              "outlinewidth": 0,
              "ticks": ""
             }
            },
            "type": "scattergl"
           }
          ],
          "scattermap": [
           {
            "marker": {
             "colorbar": {
              "outlinewidth": 0,
              "ticks": ""
             }
            },
            "type": "scattermap"
           }
          ],
          "scattermapbox": [
           {
            "marker": {
             "colorbar": {
              "outlinewidth": 0,
              "ticks": ""
             }
            },
            "type": "scattermapbox"
           }
          ],
          "scatterpolar": [
           {
            "marker": {
             "colorbar": {
              "outlinewidth": 0,
              "ticks": ""
             }
            },
            "type": "scatterpolar"
           }
          ],
          "scatterpolargl": [
           {
            "marker": {
             "colorbar": {
              "outlinewidth": 0,
              "ticks": ""
             }
            },
            "type": "scatterpolargl"
           }
          ],
          "scatterternary": [
           {
            "marker": {
             "colorbar": {
              "outlinewidth": 0,
              "ticks": ""
             }
            },
            "type": "scatterternary"
           }
          ],
          "surface": [
           {
            "colorbar": {
             "outlinewidth": 0,
             "ticks": ""
            },
            "colorscale": [
             [
              0,
              "#0d0887"
             ],
             [
              0.1111111111111111,
              "#46039f"
             ],
             [
              0.2222222222222222,
              "#7201a8"
             ],
             [
              0.3333333333333333,
              "#9c179e"
             ],
             [
              0.4444444444444444,
              "#bd3786"
             ],
             [
              0.5555555555555556,
              "#d8576b"
             ],
             [
              0.6666666666666666,
              "#ed7953"
             ],
             [
              0.7777777777777778,
              "#fb9f3a"
             ],
             [
              0.8888888888888888,
              "#fdca26"
             ],
             [
              1,
              "#f0f921"
             ]
            ],
            "type": "surface"
           }
          ],
          "table": [
           {
            "cells": {
             "fill": {
              "color": "#EBF0F8"
             },
             "line": {
              "color": "white"
             }
            },
            "header": {
             "fill": {
              "color": "#C8D4E3"
             },
             "line": {
              "color": "white"
             }
            },
            "type": "table"
           }
          ]
         },
         "layout": {
          "annotationdefaults": {
           "arrowcolor": "#2a3f5f",
           "arrowhead": 0,
           "arrowwidth": 1
          },
          "autotypenumbers": "strict",
          "coloraxis": {
           "colorbar": {
            "outlinewidth": 0,
            "ticks": ""
           }
          },
          "colorscale": {
           "diverging": [
            [
             0,
             "#8e0152"
            ],
            [
             0.1,
             "#c51b7d"
            ],
            [
             0.2,
             "#de77ae"
            ],
            [
             0.3,
             "#f1b6da"
            ],
            [
             0.4,
             "#fde0ef"
            ],
            [
             0.5,
             "#f7f7f7"
            ],
            [
             0.6,
             "#e6f5d0"
            ],
            [
             0.7,
             "#b8e186"
            ],
            [
             0.8,
             "#7fbc41"
            ],
            [
             0.9,
             "#4d9221"
            ],
            [
             1,
             "#276419"
            ]
           ],
           "sequential": [
            [
             0,
             "#0d0887"
            ],
            [
             0.1111111111111111,
             "#46039f"
            ],
            [
             0.2222222222222222,
             "#7201a8"
            ],
            [
             0.3333333333333333,
             "#9c179e"
            ],
            [
             0.4444444444444444,
             "#bd3786"
            ],
            [
             0.5555555555555556,
             "#d8576b"
            ],
            [
             0.6666666666666666,
             "#ed7953"
            ],
            [
             0.7777777777777778,
             "#fb9f3a"
            ],
            [
             0.8888888888888888,
             "#fdca26"
            ],
            [
             1,
             "#f0f921"
            ]
           ],
           "sequentialminus": [
            [
             0,
             "#0d0887"
            ],
            [
             0.1111111111111111,
             "#46039f"
            ],
            [
             0.2222222222222222,
             "#7201a8"
            ],
            [
             0.3333333333333333,
             "#9c179e"
            ],
            [
             0.4444444444444444,
             "#bd3786"
            ],
            [
             0.5555555555555556,
             "#d8576b"
            ],
            [
             0.6666666666666666,
             "#ed7953"
            ],
            [
             0.7777777777777778,
             "#fb9f3a"
            ],
            [
             0.8888888888888888,
             "#fdca26"
            ],
            [
             1,
             "#f0f921"
            ]
           ]
          },
          "colorway": [
           "#636efa",
           "#EF553B",
           "#00cc96",
           "#ab63fa",
           "#FFA15A",
           "#19d3f3",
           "#FF6692",
           "#B6E880",
           "#FF97FF",
           "#FECB52"
          ],
          "font": {
           "color": "#2a3f5f"
          },
          "geo": {
           "bgcolor": "white",
           "lakecolor": "white",
           "landcolor": "#E5ECF6",
           "showlakes": true,
           "showland": true,
           "subunitcolor": "white"
          },
          "hoverlabel": {
           "align": "left"
          },
          "hovermode": "closest",
          "mapbox": {
           "style": "light"
          },
          "paper_bgcolor": "white",
          "plot_bgcolor": "#E5ECF6",
          "polar": {
           "angularaxis": {
            "gridcolor": "white",
            "linecolor": "white",
            "ticks": ""
           },
           "bgcolor": "#E5ECF6",
           "radialaxis": {
            "gridcolor": "white",
            "linecolor": "white",
            "ticks": ""
           }
          },
          "scene": {
           "xaxis": {
            "backgroundcolor": "#E5ECF6",
            "gridcolor": "white",
            "gridwidth": 2,
            "linecolor": "white",
            "showbackground": true,
            "ticks": "",
            "zerolinecolor": "white"
           },
           "yaxis": {
            "backgroundcolor": "#E5ECF6",
            "gridcolor": "white",
            "gridwidth": 2,
            "linecolor": "white",
            "showbackground": true,
            "ticks": "",
            "zerolinecolor": "white"
           },
           "zaxis": {
            "backgroundcolor": "#E5ECF6",
            "gridcolor": "white",
            "gridwidth": 2,
            "linecolor": "white",
            "showbackground": true,
            "ticks": "",
            "zerolinecolor": "white"
           }
          },
          "shapedefaults": {
           "line": {
            "color": "#2a3f5f"
           }
          },
          "ternary": {
           "aaxis": {
            "gridcolor": "white",
            "linecolor": "white",
            "ticks": ""
           },
           "baxis": {
            "gridcolor": "white",
            "linecolor": "white",
            "ticks": ""
           },
           "bgcolor": "#E5ECF6",
           "caxis": {
            "gridcolor": "white",
            "linecolor": "white",
            "ticks": ""
           }
          },
          "title": {
           "x": 0.05
          },
          "xaxis": {
           "automargin": true,
           "gridcolor": "white",
           "linecolor": "white",
           "ticks": "",
           "title": {
            "standoff": 15
           },
           "zerolinecolor": "white",
           "zerolinewidth": 2
          },
          "yaxis": {
           "automargin": true,
           "gridcolor": "white",
           "linecolor": "white",
           "ticks": "",
           "title": {
            "standoff": 15
           },
           "zerolinecolor": "white",
           "zerolinewidth": 2
          }
         }
        },
        "title": {
         "text": "Heatmap of LCS Ratios for Each Mutation"
        },
        "xaxis": {
         "anchor": "y",
         "constrain": "domain",
         "domain": [
          0,
          1
         ],
         "dtick": 1,
         "scaleanchor": "y",
         "tickmode": "linear",
         "title": {
          "text": "Mutation Position"
         }
        },
        "yaxis": {
         "anchor": "x",
         "autorange": "reversed",
         "constrain": "domain",
         "domain": [
          0,
          1
         ],
         "title": {
          "text": "Mutated Amino Acid"
         }
        }
       }
      }
     },
     "metadata": {},
     "output_type": "display_data"
    }
   ],
   "source": [
    "import os\n",
    "import pandas as pd\n",
    "import re\n",
    "import plotly.express as px\n",
    "import numpy as np\n",
    "\n",
    "lcs_data = []\n",
    "\n",
    "for file, normalized_score in normalized_lcs.items():\n",
    "    \n",
    "    match = re.match(r\"mutation_Pos(\\d+)_\\w+_to_(\\w+)\\.csv\", file)\n",
    "\n",
    "    if match:\n",
    "        position = int(match.group(1)) \n",
    "        mutated_aa = match.group(2)  \n",
    "\n",
    "        lcs_data.append([position, mutated_aa, normalized_score])\n",
    "\n",
    "\n",
    "df_lcs = pd.DataFrame(lcs_data, columns=['Position', 'Mutation', 'LCS_Ratio'])\n",
    "\n",
    "\n",
    "heatmap_matrix = df_lcs.pivot_table(index='Mutation', columns='Position', values='LCS_Ratio')\n",
    "\n",
    "\n",
    "fig = px.imshow(\n",
    "    heatmap_matrix,\n",
    "    labels={'x': 'Mutation Position', 'y': 'Mutated Amino Acid', 'color': 'LCS Ratio'},\n",
    "    color_continuous_scale='Temps',\n",
    "    title=\"Heatmap of LCS Ratios for Each Mutation\",\n",
    ")\n",
    "\n",
    "# Format axes\n",
    "fig.update_layout(\n",
    "    xaxis=dict(\n",
    "        tickmode='linear',\n",
    "        dtick=1  # Show every position\n",
    "    ),\n",
    "    coloraxis_colorbar=dict(\n",
    "        tickvals=[0, 0.25, 0.5, 0.75, 1],  # Set scale from 0 to 1\n",
    "        ticktext=[\"0.0\", \"0.25\", \"0.5\", \"0.75\", \"1.0\"]\n",
    "    )\n",
    ")\n",
    "\n",
    "\n",
    "fig.show()\n",
    "\n",
    "\n",
    "\n",
    "\n",
    "\n"
   ]
  },
  {
   "cell_type": "code",
   "execution_count": null,
   "metadata": {},
   "outputs": [],
   "source": [
    "\"Generate tables and subplots showing cases for high and low LCS\""
   ]
  },
  {
   "cell_type": "code",
   "execution_count": null,
   "metadata": {},
   "outputs": [
    {
     "name": "stdout",
     "output_type": "stream",
     "text": [
      "Extracted kinase orders from 270 CSV files.\n"
     ]
    },
    {
     "data": {
      "image/png": "[encoded data removed]",
      "text/plain": [
       "<Figure size 1800x500 with 2 Axes>"
      ]
     },
     "metadata": {},
     "output_type": "display_data"
    }
   ],
   "source": [
    "import os\n",
    "import pandas as pd\n",
    "import itertools\n",
    "from difflib import SequenceMatcher\n",
    "import matplotlib.pyplot as plt\n",
    "\n",
    "# Define paths and variables\n",
    "mut_predictions = \"C:/Users/ricea/OneDrive/Documents/GitHub/Annabel-BSc-Project\"\n",
    "kinase_orders = {}\n",
    "\n",
    "def extract_kinase_orders():\n",
    "    \"\"\"Reads CSV files and extracts kinase orders.\"\"\"\n",
    "    global kinase_orders\n",
    "    for file in os.listdir(mut_predictions):  # Finds the CSVs, reads the CSVs\n",
    "        if file.endswith(\".csv\"):\n",
    "            file_path = os.path.join(mut_predictions, file)\n",
    "            try:\n",
    "                df = pd.read_csv(file_path)\n",
    "\n",
    "                # Check if \"Score Rank\" column exists\n",
    "                if \"Score Rank\" in df.columns:\n",
    "                    kinase_list = df[\"Score Rank\"].tolist()\n",
    "                    kinase_orders[file] = kinase_list  # Store kinase order for each mutation\n",
    "                else:\n",
    "                    print(f\"Skipping {file}: No 'Score Rank' column found.\")  # Proofreads\n",
    "\n",
    "            except Exception as e:\n",
    "                print(f\"Error reading {file}: {e}\")  # Proofreads\n",
    "\n",
    "    print(f\"Extracted kinase orders from {len(kinase_orders)} CSV files.\")  # Checks if it's done\n",
    "\n",
    "def longest_common_subsequence(seq1, seq2):\n",
    "    \"\"\"Computes the Longest Common Subsequence (LCS) length between two lists.\"\"\"\n",
    "    matcher = SequenceMatcher(None, seq1, seq2)\n",
    "    return sum(block.size for block in matcher.get_matching_blocks())\n",
    "\n",
    "def calculate_lcs_scores():\n",
    "    \"\"\"Calculates the pairwise LCS scores between kinase orders.\"\"\"\n",
    "    pairwise_lcs = {}\n",
    "    for (file1, order1), (file2, order2) in itertools.combinations(kinase_orders.items(), 2):\n",
    "        lcs_length = longest_common_subsequence(order1, order2)\n",
    "        pairwise_lcs[(file1, file2)] = lcs_length\n",
    "\n",
    "    lcs_scores = list(pairwise_lcs.values())\n",
    "    lcs_min = min(lcs_scores)\n",
    "    lcs_max = max(lcs_scores)\n",
    "\n",
    "    # Prevent division by zero if all scores are the same\n",
    "    if lcs_max - lcs_min == 0:\n",
    "        print(\"All LCS scores are identical. Normalization skipped.\")\n",
    "        normalized_lcs = {pair: 1.0 for pair in pairwise_lcs}  # Assign all a score of 1\n",
    "    else:\n",
    "        normalized_lcs = {pair: (score - lcs_min) / (lcs_max - lcs_min) for pair, score in pairwise_lcs.items()}\n",
    "\n",
    "    return normalized_lcs\n",
    "\n",
    "def display_lcs_tables(normalized_lcs):\n",
    "    \"\"\"Displays side-by-side tables for LCS scores in specific ranges.\"\"\"\n",
    "   \n",
    "    lcs_groups = {\n",
    "        '0.7-1.0': [],\n",
    "        '0.000001-0.1': []\n",
    "    }\n",
    "\n",
    "    # Group the data by the LCS score ranges\n",
    "    for (pair, normalized_score) in normalized_lcs.items():\n",
    "        if 0.7 <= normalized_score <= 1.0:\n",
    "            lcs_groups['0.7-1.0'].append((pair, normalized_score))\n",
    "        elif 0.000001 <= normalized_score <= 0.1:\n",
    "            lcs_groups['0.000001-0.1'].append((pair, normalized_score))\n",
    "\n",
    "    # Create side-by-side tables for each LCS group\n",
    "    fig, axes = plt.subplots(1, 2, figsize=(18, 5))\n",
    "\n",
    "    for idx, (score_group, ax) in enumerate(zip(['0.7-1.0', '0.000001-0.1'], axes)):\n",
    "        data = lcs_groups[score_group][:2]\n",
    "        \n",
    "        # Only create a table if there is data\n",
    "        if data:\n",
    "            table_data = [(pair[0], pair[1], f\"{score:.4f}\") for pair, score in data]\n",
    "\n",
    "            # Create a table\n",
    "            table = ax.table(cellText=table_data,\n",
    "                            colLabels=[\"Kinase 1\", \"Kinase 2\", \"Normalized LCS Score\"],\n",
    "                            loc=\"center\",\n",
    "                            cellLoc=\"center\",\n",
    "                            colColours=[\"#f5f5f5\"] * 3)\n",
    "\n",
    "            ax.axis(\"off\")\n",
    "            ax.set_title(f\"LCS Score: {score_group}\", fontsize=14)\n",
    "        else:\n",
    "            ax.text(0.5, 0.5, f\"No data for LCS = {score_group}\",\n",
    "                    horizontalalignment='center',\n",
    "                    verticalalignment='center',\n",
    "                    fontsize=12, color='red')\n",
    "\n",
    "    plt.tight_layout()\n",
    "    plt.show()\n",
    "\n",
    "# Example of using the functions:\n",
    "# Run this once to extract kinase orders and calculate LCS scores\n",
    "extract_kinase_orders()\n",
    "normalized_lcs = calculate_lcs_scores()\n",
    "\n",
    "# Then you can run the display function whenever you want to show the tables\n",
    "display_lcs_tables(normalized_lcs)\n"
   ]
  }
 ],
 "metadata": {
  "kernelspec": {
   "display_name": "Python 3",
   "language": "python",
   "name": "python3"
  },
  "language_info": {
   "codemirror_mode": {
    "name": "ipython",
    "version": 3
   },
   "file_extension": ".py",
   "mimetype": "text/x-python",
   "name": "python",
   "nbconvert_exporter": "python",
   "pygments_lexer": "ipython3",
   "version": "3.12.9"
  }
 },
 "nbformat": 4,
 "nbformat_minor": 2
}
