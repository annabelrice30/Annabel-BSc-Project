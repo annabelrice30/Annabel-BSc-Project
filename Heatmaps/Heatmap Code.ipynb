{
 "cells": [
  {
   "cell_type": "code",
   "execution_count": null,
   "id": "8be51e70",
   "metadata": {},
   "outputs": [],
   "source": [
    "'Heatmaps'"
   ]
  },
  {
   "cell_type": "code",
   "execution_count": 6,
   "id": "785a610e",
   "metadata": {},
   "outputs": [
    {
     "name": "stdout",
     "output_type": "stream",
     "text": [
      "🔵 Rendering all heatmaps from heatmaps folder...\n",
      "\n",
      "Rendering heatmap for: O00571_323_heatmap_data.csv\n"
     ]
    },
    {
     "name": "stderr",
     "output_type": "stream",
     "text": [
      "C:\\Users\\ricea\\AppData\\Local\\Temp\\ipykernel_4920\\1487870648.py:9: FutureWarning:\n",
      "\n",
      "The provided callable <function mean at 0x00000129DCBE47C0> is currently using DataFrameGroupBy.mean. In a future version of pandas, the provided callable will be used directly. To keep current behavior pass the string \"mean\" instead.\n",
      "\n"
     ]
    },
    {
     "name": "stdout",
     "output_type": "stream",
     "text": [
      "Saved heatmap to C:\\Users\\ricea\\OneDrive\\Documents\\GitHub\\Annabel-BSc-Project\\heatmaps\\O00571_323_heatmap.png\n",
      "\n",
      "Rendering heatmap for: O00571_489_heatmap_data.csv\n"
     ]
    },
    {
     "name": "stderr",
     "output_type": "stream",
     "text": [
      "C:\\Users\\ricea\\AppData\\Local\\Temp\\ipykernel_4920\\1487870648.py:9: FutureWarning:\n",
      "\n",
      "The provided callable <function mean at 0x00000129DCBE47C0> is currently using DataFrameGroupBy.mean. In a future version of pandas, the provided callable will be used directly. To keep current behavior pass the string \"mean\" instead.\n",
      "\n"
     ]
    },
    {
     "name": "stdout",
     "output_type": "stream",
     "text": [
      "Saved heatmap to C:\\Users\\ricea\\OneDrive\\Documents\\GitHub\\Annabel-BSc-Project\\heatmaps\\O00571_489_heatmap.png\n",
      "\n",
      "Rendering heatmap for: O14578_307_heatmap_data.csv\n"
     ]
    },
    {
     "name": "stderr",
     "output_type": "stream",
     "text": [
      "C:\\Users\\ricea\\AppData\\Local\\Temp\\ipykernel_4920\\1487870648.py:9: FutureWarning:\n",
      "\n",
      "The provided callable <function mean at 0x00000129DCBE47C0> is currently using DataFrameGroupBy.mean. In a future version of pandas, the provided callable will be used directly. To keep current behavior pass the string \"mean\" instead.\n",
      "\n"
     ]
    },
    {
     "name": "stdout",
     "output_type": "stream",
     "text": [
      "Saved heatmap to C:\\Users\\ricea\\OneDrive\\Documents\\GitHub\\Annabel-BSc-Project\\heatmaps\\O14578_307_heatmap.png\n",
      "\n",
      "Rendering heatmap for: O15160_258_heatmap_data.csv\n"
     ]
    },
    {
     "name": "stderr",
     "output_type": "stream",
     "text": [
      "C:\\Users\\ricea\\AppData\\Local\\Temp\\ipykernel_4920\\1487870648.py:9: FutureWarning:\n",
      "\n",
      "The provided callable <function mean at 0x00000129DCBE47C0> is currently using DataFrameGroupBy.mean. In a future version of pandas, the provided callable will be used directly. To keep current behavior pass the string \"mean\" instead.\n",
      "\n"
     ]
    },
    {
     "name": "stdout",
     "output_type": "stream",
     "text": [
      "Saved heatmap to C:\\Users\\ricea\\OneDrive\\Documents\\GitHub\\Annabel-BSc-Project\\heatmaps\\O15160_258_heatmap.png\n",
      "\n",
      "Rendering heatmap for: O15160_34_heatmap_data.csv\n",
      "Saved heatmap to C:\\Users\\ricea\\OneDrive\\Documents\\GitHub\\Annabel-BSc-Project\\heatmaps\\O15160_34_heatmap.png\n",
      "\n",
      "Rendering heatmap for: O75643_932_heatmap_data.csv\n"
     ]
    },
    {
     "name": "stderr",
     "output_type": "stream",
     "text": [
      "C:\\Users\\ricea\\AppData\\Local\\Temp\\ipykernel_4920\\1487870648.py:9: FutureWarning:\n",
      "\n",
      "The provided callable <function mean at 0x00000129DCBE47C0> is currently using DataFrameGroupBy.mean. In a future version of pandas, the provided callable will be used directly. To keep current behavior pass the string \"mean\" instead.\n",
      "\n",
      "C:\\Users\\ricea\\AppData\\Local\\Temp\\ipykernel_4920\\1487870648.py:9: FutureWarning:\n",
      "\n",
      "The provided callable <function mean at 0x00000129DCBE47C0> is currently using DataFrameGroupBy.mean. In a future version of pandas, the provided callable will be used directly. To keep current behavior pass the string \"mean\" instead.\n",
      "\n"
     ]
    },
    {
     "name": "stdout",
     "output_type": "stream",
     "text": [
      "Saved heatmap to C:\\Users\\ricea\\OneDrive\\Documents\\GitHub\\Annabel-BSc-Project\\heatmaps\\O75643_932_heatmap.png\n",
      "\n",
      "Rendering heatmap for: P00441_103_heatmap_data.csv\n",
      "Saved heatmap to C:\\Users\\ricea\\OneDrive\\Documents\\GitHub\\Annabel-BSc-Project\\heatmaps\\P00441_103_heatmap.png\n",
      "\n",
      "Rendering heatmap for: P00441_108_heatmap_data.csv\n"
     ]
    },
    {
     "name": "stderr",
     "output_type": "stream",
     "text": [
      "C:\\Users\\ricea\\AppData\\Local\\Temp\\ipykernel_4920\\1487870648.py:9: FutureWarning:\n",
      "\n",
      "The provided callable <function mean at 0x00000129DCBE47C0> is currently using DataFrameGroupBy.mean. In a future version of pandas, the provided callable will be used directly. To keep current behavior pass the string \"mean\" instead.\n",
      "\n",
      "C:\\Users\\ricea\\AppData\\Local\\Temp\\ipykernel_4920\\1487870648.py:9: FutureWarning:\n",
      "\n",
      "The provided callable <function mean at 0x00000129DCBE47C0> is currently using DataFrameGroupBy.mean. In a future version of pandas, the provided callable will be used directly. To keep current behavior pass the string \"mean\" instead.\n",
      "\n"
     ]
    },
    {
     "name": "stdout",
     "output_type": "stream",
     "text": [
      "Saved heatmap to C:\\Users\\ricea\\OneDrive\\Documents\\GitHub\\Annabel-BSc-Project\\heatmaps\\P00441_108_heatmap.png\n",
      "\n",
      "Rendering heatmap for: P00441_143_heatmap_data.csv\n"
     ]
    },
    {
     "name": "stderr",
     "output_type": "stream",
     "text": [
      "C:\\Users\\ricea\\AppData\\Local\\Temp\\ipykernel_4920\\1487870648.py:9: FutureWarning:\n",
      "\n",
      "The provided callable <function mean at 0x00000129DCBE47C0> is currently using DataFrameGroupBy.mean. In a future version of pandas, the provided callable will be used directly. To keep current behavior pass the string \"mean\" instead.\n",
      "\n"
     ]
    },
    {
     "name": "stdout",
     "output_type": "stream",
     "text": [
      "Saved heatmap to C:\\Users\\ricea\\OneDrive\\Documents\\GitHub\\Annabel-BSc-Project\\heatmaps\\P00441_143_heatmap.png\n",
      "\n",
      "Rendering heatmap for: P00441_99_heatmap_data.csv\n"
     ]
    },
    {
     "name": "stderr",
     "output_type": "stream",
     "text": [
      "C:\\Users\\ricea\\AppData\\Local\\Temp\\ipykernel_4920\\1487870648.py:9: FutureWarning:\n",
      "\n",
      "The provided callable <function mean at 0x00000129DCBE47C0> is currently using DataFrameGroupBy.mean. In a future version of pandas, the provided callable will be used directly. To keep current behavior pass the string \"mean\" instead.\n",
      "\n"
     ]
    },
    {
     "name": "stdout",
     "output_type": "stream",
     "text": [
      "Saved heatmap to C:\\Users\\ricea\\OneDrive\\Documents\\GitHub\\Annabel-BSc-Project\\heatmaps\\P00441_99_heatmap.png\n",
      "\n",
      "Rendering heatmap for: P00558_153_heatmap_data.csv\n"
     ]
    },
    {
     "name": "stderr",
     "output_type": "stream",
     "text": [
      "C:\\Users\\ricea\\AppData\\Local\\Temp\\ipykernel_4920\\1487870648.py:9: FutureWarning:\n",
      "\n",
      "The provided callable <function mean at 0x00000129DCBE47C0> is currently using DataFrameGroupBy.mean. In a future version of pandas, the provided callable will be used directly. To keep current behavior pass the string \"mean\" instead.\n",
      "\n"
     ]
    },
    {
     "name": "stdout",
     "output_type": "stream",
     "text": [
      "Saved heatmap to C:\\Users\\ricea\\OneDrive\\Documents\\GitHub\\Annabel-BSc-Project\\heatmaps\\P00558_153_heatmap.png\n",
      "\n",
      "Rendering heatmap for: P00558_168_heatmap_data.csv\n"
     ]
    },
    {
     "name": "stderr",
     "output_type": "stream",
     "text": [
      "C:\\Users\\ricea\\AppData\\Local\\Temp\\ipykernel_4920\\1487870648.py:9: FutureWarning:\n",
      "\n",
      "The provided callable <function mean at 0x00000129DCBE47C0> is currently using DataFrameGroupBy.mean. In a future version of pandas, the provided callable will be used directly. To keep current behavior pass the string \"mean\" instead.\n",
      "\n"
     ]
    },
    {
     "name": "stdout",
     "output_type": "stream",
     "text": [
      "Saved heatmap to C:\\Users\\ricea\\OneDrive\\Documents\\GitHub\\Annabel-BSc-Project\\heatmaps\\P00558_168_heatmap.png\n",
      "\n",
      "Rendering heatmap for: P01130_110_heatmap_data.csv\n"
     ]
    },
    {
     "name": "stderr",
     "output_type": "stream",
     "text": [
      "C:\\Users\\ricea\\AppData\\Local\\Temp\\ipykernel_4920\\1487870648.py:9: FutureWarning:\n",
      "\n",
      "The provided callable <function mean at 0x00000129DCBE47C0> is currently using DataFrameGroupBy.mean. In a future version of pandas, the provided callable will be used directly. To keep current behavior pass the string \"mean\" instead.\n",
      "\n"
     ]
    },
    {
     "name": "stdout",
     "output_type": "stream",
     "text": [
      "Saved heatmap to C:\\Users\\ricea\\OneDrive\\Documents\\GitHub\\Annabel-BSc-Project\\heatmaps\\P01130_110_heatmap.png\n",
      "\n",
      "Rendering heatmap for: P07437_218_heatmap_data.csv\n"
     ]
    },
    {
     "name": "stderr",
     "output_type": "stream",
     "text": [
      "C:\\Users\\ricea\\AppData\\Local\\Temp\\ipykernel_4920\\1487870648.py:9: FutureWarning:\n",
      "\n",
      "The provided callable <function mean at 0x00000129DCBE47C0> is currently using DataFrameGroupBy.mean. In a future version of pandas, the provided callable will be used directly. To keep current behavior pass the string \"mean\" instead.\n",
      "\n"
     ]
    },
    {
     "name": "stdout",
     "output_type": "stream",
     "text": [
      "Saved heatmap to C:\\Users\\ricea\\OneDrive\\Documents\\GitHub\\Annabel-BSc-Project\\heatmaps\\P07437_218_heatmap.png\n",
      "\n",
      "Rendering heatmap for: P07437_48_heatmap_data.csv\n",
      "Saved heatmap to C:\\Users\\ricea\\OneDrive\\Documents\\GitHub\\Annabel-BSc-Project\\heatmaps\\P07437_48_heatmap.png\n",
      "\n",
      "Rendering heatmap for: P07954_365_heatmap_data.csv\n"
     ]
    },
    {
     "name": "stderr",
     "output_type": "stream",
     "text": [
      "C:\\Users\\ricea\\AppData\\Local\\Temp\\ipykernel_4920\\1487870648.py:9: FutureWarning:\n",
      "\n",
      "The provided callable <function mean at 0x00000129DCBE47C0> is currently using DataFrameGroupBy.mean. In a future version of pandas, the provided callable will be used directly. To keep current behavior pass the string \"mean\" instead.\n",
      "\n",
      "C:\\Users\\ricea\\AppData\\Local\\Temp\\ipykernel_4920\\1487870648.py:9: FutureWarning:\n",
      "\n",
      "The provided callable <function mean at 0x00000129DCBE47C0> is currently using DataFrameGroupBy.mean. In a future version of pandas, the provided callable will be used directly. To keep current behavior pass the string \"mean\" instead.\n",
      "\n"
     ]
    },
    {
     "name": "stdout",
     "output_type": "stream",
     "text": [
      "Saved heatmap to C:\\Users\\ricea\\OneDrive\\Documents\\GitHub\\Annabel-BSc-Project\\heatmaps\\P07954_365_heatmap.png\n",
      "\n",
      "Rendering heatmap for: P07954_366_heatmap_data.csv\n"
     ]
    },
    {
     "name": "stderr",
     "output_type": "stream",
     "text": [
      "C:\\Users\\ricea\\AppData\\Local\\Temp\\ipykernel_4920\\1487870648.py:9: FutureWarning:\n",
      "\n",
      "The provided callable <function mean at 0x00000129DCBE47C0> is currently using DataFrameGroupBy.mean. In a future version of pandas, the provided callable will be used directly. To keep current behavior pass the string \"mean\" instead.\n",
      "\n"
     ]
    },
    {
     "name": "stdout",
     "output_type": "stream",
     "text": [
      "Saved heatmap to C:\\Users\\ricea\\OneDrive\\Documents\\GitHub\\Annabel-BSc-Project\\heatmaps\\P07954_366_heatmap.png\n",
      "\n",
      "Rendering heatmap for: P09884_404_heatmap_data.csv\n"
     ]
    },
    {
     "name": "stderr",
     "output_type": "stream",
     "text": [
      "C:\\Users\\ricea\\AppData\\Local\\Temp\\ipykernel_4920\\1487870648.py:9: FutureWarning:\n",
      "\n",
      "The provided callable <function mean at 0x00000129DCBE47C0> is currently using DataFrameGroupBy.mean. In a future version of pandas, the provided callable will be used directly. To keep current behavior pass the string \"mean\" instead.\n",
      "\n"
     ]
    },
    {
     "name": "stdout",
     "output_type": "stream",
     "text": [
      "Saved heatmap to C:\\Users\\ricea\\OneDrive\\Documents\\GitHub\\Annabel-BSc-Project\\heatmaps\\P09884_404_heatmap.png\n",
      "\n",
      "Rendering heatmap for: P11166_234_heatmap_data.csv\n",
      "Saved heatmap to C:\\Users\\ricea\\OneDrive\\Documents\\GitHub\\Annabel-BSc-Project\\heatmaps\\P11166_234_heatmap.png\n",
      "\n",
      "Rendering heatmap for: P11166_465_heatmap_data.csv\n"
     ]
    },
    {
     "name": "stderr",
     "output_type": "stream",
     "text": [
      "C:\\Users\\ricea\\AppData\\Local\\Temp\\ipykernel_4920\\1487870648.py:9: FutureWarning:\n",
      "\n",
      "The provided callable <function mean at 0x00000129DCBE47C0> is currently using DataFrameGroupBy.mean. In a future version of pandas, the provided callable will be used directly. To keep current behavior pass the string \"mean\" instead.\n",
      "\n",
      "C:\\Users\\ricea\\AppData\\Local\\Temp\\ipykernel_4920\\1487870648.py:9: FutureWarning:\n",
      "\n",
      "The provided callable <function mean at 0x00000129DCBE47C0> is currently using DataFrameGroupBy.mean. In a future version of pandas, the provided callable will be used directly. To keep current behavior pass the string \"mean\" instead.\n",
      "\n"
     ]
    },
    {
     "name": "stdout",
     "output_type": "stream",
     "text": [
      "Saved heatmap to C:\\Users\\ricea\\OneDrive\\Documents\\GitHub\\Annabel-BSc-Project\\heatmaps\\P11166_465_heatmap.png\n",
      "\n",
      "Rendering heatmap for: P13639_279_heatmap_data.csv\n"
     ]
    },
    {
     "name": "stderr",
     "output_type": "stream",
     "text": [
      "C:\\Users\\ricea\\AppData\\Local\\Temp\\ipykernel_4920\\1487870648.py:9: FutureWarning:\n",
      "\n",
      "The provided callable <function mean at 0x00000129DCBE47C0> is currently using DataFrameGroupBy.mean. In a future version of pandas, the provided callable will be used directly. To keep current behavior pass the string \"mean\" instead.\n",
      "\n"
     ]
    },
    {
     "name": "stdout",
     "output_type": "stream",
     "text": [
      "Saved heatmap to C:\\Users\\ricea\\OneDrive\\Documents\\GitHub\\Annabel-BSc-Project\\heatmaps\\P13639_279_heatmap.png\n",
      "\n",
      "Rendering heatmap for: P17480_208_heatmap_data.csv\n",
      "Saved heatmap to C:\\Users\\ricea\\OneDrive\\Documents\\GitHub\\Annabel-BSc-Project\\heatmaps\\P17480_208_heatmap.png\n",
      "\n",
      "Rendering heatmap for: P25490_365_heatmap_data.csv\n"
     ]
    },
    {
     "name": "stderr",
     "output_type": "stream",
     "text": [
      "C:\\Users\\ricea\\AppData\\Local\\Temp\\ipykernel_4920\\1487870648.py:9: FutureWarning:\n",
      "\n",
      "The provided callable <function mean at 0x00000129DCBE47C0> is currently using DataFrameGroupBy.mean. In a future version of pandas, the provided callable will be used directly. To keep current behavior pass the string \"mean\" instead.\n",
      "\n",
      "C:\\Users\\ricea\\AppData\\Local\\Temp\\ipykernel_4920\\1487870648.py:9: FutureWarning:\n",
      "\n",
      "The provided callable <function mean at 0x00000129DCBE47C0> is currently using DataFrameGroupBy.mean. In a future version of pandas, the provided callable will be used directly. To keep current behavior pass the string \"mean\" instead.\n",
      "\n"
     ]
    },
    {
     "name": "stdout",
     "output_type": "stream",
     "text": [
      "Saved heatmap to C:\\Users\\ricea\\OneDrive\\Documents\\GitHub\\Annabel-BSc-Project\\heatmaps\\P25490_365_heatmap.png\n",
      "\n",
      "Rendering heatmap for: P25490_378_heatmap_data.csv\n"
     ]
    },
    {
     "name": "stderr",
     "output_type": "stream",
     "text": [
      "C:\\Users\\ricea\\AppData\\Local\\Temp\\ipykernel_4920\\1487870648.py:9: FutureWarning:\n",
      "\n",
      "The provided callable <function mean at 0x00000129DCBE47C0> is currently using DataFrameGroupBy.mean. In a future version of pandas, the provided callable will be used directly. To keep current behavior pass the string \"mean\" instead.\n",
      "\n"
     ]
    },
    {
     "name": "stdout",
     "output_type": "stream",
     "text": [
      "Saved heatmap to C:\\Users\\ricea\\OneDrive\\Documents\\GitHub\\Annabel-BSc-Project\\heatmaps\\P25490_378_heatmap.png\n",
      "\n",
      "Rendering heatmap for: P26358_549_heatmap_data.csv\n"
     ]
    },
    {
     "name": "stderr",
     "output_type": "stream",
     "text": [
      "C:\\Users\\ricea\\AppData\\Local\\Temp\\ipykernel_4920\\1487870648.py:9: FutureWarning:\n",
      "\n",
      "The provided callable <function mean at 0x00000129DCBE47C0> is currently using DataFrameGroupBy.mean. In a future version of pandas, the provided callable will be used directly. To keep current behavior pass the string \"mean\" instead.\n",
      "\n"
     ]
    },
    {
     "name": "stdout",
     "output_type": "stream",
     "text": [
      "Saved heatmap to C:\\Users\\ricea\\OneDrive\\Documents\\GitHub\\Annabel-BSc-Project\\heatmaps\\P26358_549_heatmap.png\n",
      "\n",
      "Rendering heatmap for: P29401_280_heatmap_data.csv\n"
     ]
    },
    {
     "name": "stderr",
     "output_type": "stream",
     "text": [
      "C:\\Users\\ricea\\AppData\\Local\\Temp\\ipykernel_4920\\1487870648.py:9: FutureWarning:\n",
      "\n",
      "The provided callable <function mean at 0x00000129DCBE47C0> is currently using DataFrameGroupBy.mean. In a future version of pandas, the provided callable will be used directly. To keep current behavior pass the string \"mean\" instead.\n",
      "\n"
     ]
    },
    {
     "name": "stdout",
     "output_type": "stream",
     "text": [
      "Saved heatmap to C:\\Users\\ricea\\OneDrive\\Documents\\GitHub\\Annabel-BSc-Project\\heatmaps\\P29401_280_heatmap.png\n",
      "\n",
      "Rendering heatmap for: P30566_151_heatmap_data.csv\n"
     ]
    },
    {
     "name": "stderr",
     "output_type": "stream",
     "text": [
      "C:\\Users\\ricea\\AppData\\Local\\Temp\\ipykernel_4920\\1487870648.py:9: FutureWarning:\n",
      "\n",
      "The provided callable <function mean at 0x00000129DCBE47C0> is currently using DataFrameGroupBy.mean. In a future version of pandas, the provided callable will be used directly. To keep current behavior pass the string \"mean\" instead.\n",
      "\n"
     ]
    },
    {
     "name": "stdout",
     "output_type": "stream",
     "text": [
      "Saved heatmap to C:\\Users\\ricea\\OneDrive\\Documents\\GitHub\\Annabel-BSc-Project\\heatmaps\\P30566_151_heatmap.png\n",
      "\n",
      "Rendering heatmap for: P30566_239_heatmap_data.csv\n"
     ]
    },
    {
     "name": "stderr",
     "output_type": "stream",
     "text": [
      "C:\\Users\\ricea\\AppData\\Local\\Temp\\ipykernel_4920\\1487870648.py:9: FutureWarning:\n",
      "\n",
      "The provided callable <function mean at 0x00000129DCBE47C0> is currently using DataFrameGroupBy.mean. In a future version of pandas, the provided callable will be used directly. To keep current behavior pass the string \"mean\" instead.\n",
      "\n"
     ]
    },
    {
     "name": "stdout",
     "output_type": "stream",
     "text": [
      "Saved heatmap to C:\\Users\\ricea\\OneDrive\\Documents\\GitHub\\Annabel-BSc-Project\\heatmaps\\P30566_239_heatmap.png\n",
      "\n",
      "Rendering heatmap for: P30566_289_heatmap_data.csv\n"
     ]
    },
    {
     "name": "stderr",
     "output_type": "stream",
     "text": [
      "C:\\Users\\ricea\\AppData\\Local\\Temp\\ipykernel_4920\\1487870648.py:9: FutureWarning:\n",
      "\n",
      "The provided callable <function mean at 0x00000129DCBE47C0> is currently using DataFrameGroupBy.mean. In a future version of pandas, the provided callable will be used directly. To keep current behavior pass the string \"mean\" instead.\n",
      "\n"
     ]
    },
    {
     "name": "stdout",
     "output_type": "stream",
     "text": [
      "Saved heatmap to C:\\Users\\ricea\\OneDrive\\Documents\\GitHub\\Annabel-BSc-Project\\heatmaps\\P30566_289_heatmap.png\n",
      "\n",
      "Rendering heatmap for: P31939_116_heatmap_data.csv\n"
     ]
    },
    {
     "name": "stderr",
     "output_type": "stream",
     "text": [
      "C:\\Users\\ricea\\AppData\\Local\\Temp\\ipykernel_4920\\1487870648.py:9: FutureWarning:\n",
      "\n",
      "The provided callable <function mean at 0x00000129DCBE47C0> is currently using DataFrameGroupBy.mean. In a future version of pandas, the provided callable will be used directly. To keep current behavior pass the string \"mean\" instead.\n",
      "\n"
     ]
    },
    {
     "name": "stdout",
     "output_type": "stream",
     "text": [
      "Saved heatmap to C:\\Users\\ricea\\OneDrive\\Documents\\GitHub\\Annabel-BSc-Project\\heatmaps\\P31939_116_heatmap.png\n",
      "\n",
      "Rendering heatmap for: P31939_565_heatmap_data.csv\n"
     ]
    },
    {
     "name": "stderr",
     "output_type": "stream",
     "text": [
      "C:\\Users\\ricea\\AppData\\Local\\Temp\\ipykernel_4920\\1487870648.py:9: FutureWarning:\n",
      "\n",
      "The provided callable <function mean at 0x00000129DCBE47C0> is currently using DataFrameGroupBy.mean. In a future version of pandas, the provided callable will be used directly. To keep current behavior pass the string \"mean\" instead.\n",
      "\n"
     ]
    },
    {
     "name": "stdout",
     "output_type": "stream",
     "text": [
      "Saved heatmap to C:\\Users\\ricea\\OneDrive\\Documents\\GitHub\\Annabel-BSc-Project\\heatmaps\\P31939_565_heatmap.png\n",
      "\n",
      "Rendering heatmap for: P34897_48_heatmap_data.csv\n"
     ]
    },
    {
     "name": "stderr",
     "output_type": "stream",
     "text": [
      "C:\\Users\\ricea\\AppData\\Local\\Temp\\ipykernel_4920\\1487870648.py:9: FutureWarning:\n",
      "\n",
      "The provided callable <function mean at 0x00000129DCBE47C0> is currently using DataFrameGroupBy.mean. In a future version of pandas, the provided callable will be used directly. To keep current behavior pass the string \"mean\" instead.\n",
      "\n"
     ]
    },
    {
     "name": "stdout",
     "output_type": "stream",
     "text": [
      "Saved heatmap to C:\\Users\\ricea\\OneDrive\\Documents\\GitHub\\Annabel-BSc-Project\\heatmaps\\P34897_48_heatmap.png\n",
      "\n",
      "Rendering heatmap for: P35240_581_heatmap_data.csv\n"
     ]
    },
    {
     "name": "stderr",
     "output_type": "stream",
     "text": [
      "C:\\Users\\ricea\\AppData\\Local\\Temp\\ipykernel_4920\\1487870648.py:9: FutureWarning:\n",
      "\n",
      "The provided callable <function mean at 0x00000129DCBE47C0> is currently using DataFrameGroupBy.mean. In a future version of pandas, the provided callable will be used directly. To keep current behavior pass the string \"mean\" instead.\n",
      "\n"
     ]
    },
    {
     "name": "stdout",
     "output_type": "stream",
     "text": [
      "Saved heatmap to C:\\Users\\ricea\\OneDrive\\Documents\\GitHub\\Annabel-BSc-Project\\heatmaps\\P35240_581_heatmap.png\n",
      "\n",
      "Rendering heatmap for: P40337_68_heatmap_data.csv\n"
     ]
    },
    {
     "name": "stderr",
     "output_type": "stream",
     "text": [
      "C:\\Users\\ricea\\AppData\\Local\\Temp\\ipykernel_4920\\1487870648.py:9: FutureWarning:\n",
      "\n",
      "The provided callable <function mean at 0x00000129DCBE47C0> is currently using DataFrameGroupBy.mean. In a future version of pandas, the provided callable will be used directly. To keep current behavior pass the string \"mean\" instead.\n",
      "\n"
     ]
    },
    {
     "name": "stdout",
     "output_type": "stream",
     "text": [
      "Saved heatmap to C:\\Users\\ricea\\OneDrive\\Documents\\GitHub\\Annabel-BSc-Project\\heatmaps\\P40337_68_heatmap.png\n",
      "\n",
      "Rendering heatmap for: P40337_72_heatmap_data.csv\n"
     ]
    },
    {
     "name": "stderr",
     "output_type": "stream",
     "text": [
      "C:\\Users\\ricea\\AppData\\Local\\Temp\\ipykernel_4920\\1487870648.py:9: FutureWarning:\n",
      "\n",
      "The provided callable <function mean at 0x00000129DCBE47C0> is currently using DataFrameGroupBy.mean. In a future version of pandas, the provided callable will be used directly. To keep current behavior pass the string \"mean\" instead.\n",
      "\n"
     ]
    },
    {
     "name": "stdout",
     "output_type": "stream",
     "text": [
      "Saved heatmap to C:\\Users\\ricea\\OneDrive\\Documents\\GitHub\\Annabel-BSc-Project\\heatmaps\\P40337_72_heatmap.png\n",
      "\n",
      "Rendering heatmap for: P40337_80_heatmap_data.csv\n"
     ]
    },
    {
     "name": "stderr",
     "output_type": "stream",
     "text": [
      "C:\\Users\\ricea\\AppData\\Local\\Temp\\ipykernel_4920\\1487870648.py:9: FutureWarning:\n",
      "\n",
      "The provided callable <function mean at 0x00000129DCBE47C0> is currently using DataFrameGroupBy.mean. In a future version of pandas, the provided callable will be used directly. To keep current behavior pass the string \"mean\" instead.\n",
      "\n"
     ]
    },
    {
     "name": "stdout",
     "output_type": "stream",
     "text": [
      "Saved heatmap to C:\\Users\\ricea\\OneDrive\\Documents\\GitHub\\Annabel-BSc-Project\\heatmaps\\P40337_80_heatmap.png\n",
      "\n",
      "Rendering heatmap for: P49711_374_heatmap_data.csv\n"
     ]
    },
    {
     "name": "stderr",
     "output_type": "stream",
     "text": [
      "C:\\Users\\ricea\\AppData\\Local\\Temp\\ipykernel_4920\\1487870648.py:9: FutureWarning:\n",
      "\n",
      "The provided callable <function mean at 0x00000129DCBE47C0> is currently using DataFrameGroupBy.mean. In a future version of pandas, the provided callable will be used directly. To keep current behavior pass the string \"mean\" instead.\n",
      "\n"
     ]
    },
    {
     "name": "stdout",
     "output_type": "stream",
     "text": [
      "Saved heatmap to C:\\Users\\ricea\\OneDrive\\Documents\\GitHub\\Annabel-BSc-Project\\heatmaps\\P49711_374_heatmap.png\n",
      "\n",
      "Rendering heatmap for: P49711_450_heatmap_data.csv\n"
     ]
    },
    {
     "name": "stderr",
     "output_type": "stream",
     "text": [
      "C:\\Users\\ricea\\AppData\\Local\\Temp\\ipykernel_4920\\1487870648.py:9: FutureWarning:\n",
      "\n",
      "The provided callable <function mean at 0x00000129DCBE47C0> is currently using DataFrameGroupBy.mean. In a future version of pandas, the provided callable will be used directly. To keep current behavior pass the string \"mean\" instead.\n",
      "\n"
     ]
    },
    {
     "name": "stdout",
     "output_type": "stream",
     "text": [
      "Saved heatmap to C:\\Users\\ricea\\OneDrive\\Documents\\GitHub\\Annabel-BSc-Project\\heatmaps\\P49711_450_heatmap.png\n",
      "\n",
      "Rendering heatmap for: P49792_380_heatmap_data.csv\n"
     ]
    },
    {
     "name": "stderr",
     "output_type": "stream",
     "text": [
      "C:\\Users\\ricea\\AppData\\Local\\Temp\\ipykernel_4920\\1487870648.py:9: FutureWarning:\n",
      "\n",
      "The provided callable <function mean at 0x00000129DCBE47C0> is currently using DataFrameGroupBy.mean. In a future version of pandas, the provided callable will be used directly. To keep current behavior pass the string \"mean\" instead.\n",
      "\n"
     ]
    },
    {
     "name": "stdout",
     "output_type": "stream",
     "text": [
      "Saved heatmap to C:\\Users\\ricea\\OneDrive\\Documents\\GitHub\\Annabel-BSc-Project\\heatmaps\\P49792_380_heatmap.png\n",
      "\n",
      "Rendering heatmap for: P53621_917_heatmap_data.csv\n"
     ]
    },
    {
     "name": "stderr",
     "output_type": "stream",
     "text": [
      "C:\\Users\\ricea\\AppData\\Local\\Temp\\ipykernel_4920\\1487870648.py:9: FutureWarning:\n",
      "\n",
      "The provided callable <function mean at 0x00000129DCBE47C0> is currently using DataFrameGroupBy.mean. In a future version of pandas, the provided callable will be used directly. To keep current behavior pass the string \"mean\" instead.\n",
      "\n"
     ]
    },
    {
     "name": "stdout",
     "output_type": "stream",
     "text": [
      "Saved heatmap to C:\\Users\\ricea\\OneDrive\\Documents\\GitHub\\Annabel-BSc-Project\\heatmaps\\P53621_917_heatmap.png\n",
      "\n",
      "Rendering heatmap for: P54819_176_heatmap_data.csv\n"
     ]
    },
    {
     "name": "stderr",
     "output_type": "stream",
     "text": [
      "C:\\Users\\ricea\\AppData\\Local\\Temp\\ipykernel_4920\\1487870648.py:9: FutureWarning:\n",
      "\n",
      "The provided callable <function mean at 0x00000129DCBE47C0> is currently using DataFrameGroupBy.mean. In a future version of pandas, the provided callable will be used directly. To keep current behavior pass the string \"mean\" instead.\n",
      "\n"
     ]
    },
    {
     "name": "stdout",
     "output_type": "stream",
     "text": [
      "Saved heatmap to C:\\Users\\ricea\\OneDrive\\Documents\\GitHub\\Annabel-BSc-Project\\heatmaps\\P54819_176_heatmap.png\n",
      "\n",
      "Rendering heatmap for: P54819_194_heatmap_data.csv\n"
     ]
    },
    {
     "name": "stderr",
     "output_type": "stream",
     "text": [
      "C:\\Users\\ricea\\AppData\\Local\\Temp\\ipykernel_4920\\1487870648.py:9: FutureWarning:\n",
      "\n",
      "The provided callable <function mean at 0x00000129DCBE47C0> is currently using DataFrameGroupBy.mean. In a future version of pandas, the provided callable will be used directly. To keep current behavior pass the string \"mean\" instead.\n",
      "\n"
     ]
    },
    {
     "name": "stdout",
     "output_type": "stream",
     "text": [
      "Saved heatmap to C:\\Users\\ricea\\OneDrive\\Documents\\GitHub\\Annabel-BSc-Project\\heatmaps\\P54819_194_heatmap.png\n",
      "\n",
      "Rendering heatmap for: P55072_197_heatmap_data.csv\n"
     ]
    },
    {
     "name": "stderr",
     "output_type": "stream",
     "text": [
      "C:\\Users\\ricea\\AppData\\Local\\Temp\\ipykernel_4920\\1487870648.py:9: FutureWarning:\n",
      "\n",
      "The provided callable <function mean at 0x00000129DCBE47C0> is currently using DataFrameGroupBy.mean. In a future version of pandas, the provided callable will be used directly. To keep current behavior pass the string \"mean\" instead.\n",
      "\n"
     ]
    },
    {
     "name": "stdout",
     "output_type": "stream",
     "text": [
      "Saved heatmap to C:\\Users\\ricea\\OneDrive\\Documents\\GitHub\\Annabel-BSc-Project\\heatmaps\\P55072_197_heatmap.png\n",
      "\n",
      "Rendering heatmap for: P57081_391_heatmap_data.csv\n"
     ]
    },
    {
     "name": "stderr",
     "output_type": "stream",
     "text": [
      "C:\\Users\\ricea\\AppData\\Local\\Temp\\ipykernel_4920\\1487870648.py:9: FutureWarning:\n",
      "\n",
      "The provided callable <function mean at 0x00000129DCBE47C0> is currently using DataFrameGroupBy.mean. In a future version of pandas, the provided callable will be used directly. To keep current behavior pass the string \"mean\" instead.\n",
      "\n"
     ]
    },
    {
     "name": "stdout",
     "output_type": "stream",
     "text": [
      "Saved heatmap to C:\\Users\\ricea\\OneDrive\\Documents\\GitHub\\Annabel-BSc-Project\\heatmaps\\P57081_391_heatmap.png\n",
      "\n",
      "Rendering heatmap for: P60709_202_heatmap_data.csv\n"
     ]
    },
    {
     "name": "stderr",
     "output_type": "stream",
     "text": [
      "C:\\Users\\ricea\\AppData\\Local\\Temp\\ipykernel_4920\\1487870648.py:9: FutureWarning:\n",
      "\n",
      "The provided callable <function mean at 0x00000129DCBE47C0> is currently using DataFrameGroupBy.mean. In a future version of pandas, the provided callable will be used directly. To keep current behavior pass the string \"mean\" instead.\n",
      "\n"
     ]
    },
    {
     "name": "stdout",
     "output_type": "stream",
     "text": [
      "Saved heatmap to C:\\Users\\ricea\\OneDrive\\Documents\\GitHub\\Annabel-BSc-Project\\heatmaps\\P60709_202_heatmap.png\n",
      "\n",
      "Rendering heatmap for: P60953_161_heatmap_data.csv\n"
     ]
    },
    {
     "name": "stderr",
     "output_type": "stream",
     "text": [
      "C:\\Users\\ricea\\AppData\\Local\\Temp\\ipykernel_4920\\1487870648.py:9: FutureWarning:\n",
      "\n",
      "The provided callable <function mean at 0x00000129DCBE47C0> is currently using DataFrameGroupBy.mean. In a future version of pandas, the provided callable will be used directly. To keep current behavior pass the string \"mean\" instead.\n",
      "\n"
     ]
    },
    {
     "name": "stdout",
     "output_type": "stream",
     "text": [
      "Saved heatmap to C:\\Users\\ricea\\OneDrive\\Documents\\GitHub\\Annabel-BSc-Project\\heatmaps\\P60953_161_heatmap.png\n",
      "\n",
      "Rendering heatmap for: P62873_29_heatmap_data.csv\n"
     ]
    },
    {
     "name": "stderr",
     "output_type": "stream",
     "text": [
      "C:\\Users\\ricea\\AppData\\Local\\Temp\\ipykernel_4920\\1487870648.py:9: FutureWarning:\n",
      "\n",
      "The provided callable <function mean at 0x00000129DCBE47C0> is currently using DataFrameGroupBy.mean. In a future version of pandas, the provided callable will be used directly. To keep current behavior pass the string \"mean\" instead.\n",
      "\n"
     ]
    },
    {
     "name": "stdout",
     "output_type": "stream",
     "text": [
      "Saved heatmap to C:\\Users\\ricea\\OneDrive\\Documents\\GitHub\\Annabel-BSc-Project\\heatmaps\\P62873_29_heatmap.png\n",
      "\n",
      "Rendering heatmap for: Q14203_417_heatmap_data.csv\n"
     ]
    },
    {
     "name": "stderr",
     "output_type": "stream",
     "text": [
      "C:\\Users\\ricea\\AppData\\Local\\Temp\\ipykernel_4920\\1487870648.py:9: FutureWarning:\n",
      "\n",
      "The provided callable <function mean at 0x00000129DCBE47C0> is currently using DataFrameGroupBy.mean. In a future version of pandas, the provided callable will be used directly. To keep current behavior pass the string \"mean\" instead.\n",
      "\n"
     ]
    },
    {
     "name": "stdout",
     "output_type": "stream",
     "text": [
      "Saved heatmap to C:\\Users\\ricea\\OneDrive\\Documents\\GitHub\\Annabel-BSc-Project\\heatmaps\\Q14203_417_heatmap.png\n",
      "\n",
      "Rendering heatmap for: Q5JTZ9_673_heatmap_data.csv\n"
     ]
    },
    {
     "name": "stderr",
     "output_type": "stream",
     "text": [
      "C:\\Users\\ricea\\AppData\\Local\\Temp\\ipykernel_4920\\1487870648.py:9: FutureWarning:\n",
      "\n",
      "The provided callable <function mean at 0x00000129DCBE47C0> is currently using DataFrameGroupBy.mean. In a future version of pandas, the provided callable will be used directly. To keep current behavior pass the string \"mean\" instead.\n",
      "\n"
     ]
    },
    {
     "name": "stdout",
     "output_type": "stream",
     "text": [
      "Saved heatmap to C:\\Users\\ricea\\OneDrive\\Documents\\GitHub\\Annabel-BSc-Project\\heatmaps\\Q5JTZ9_673_heatmap.png\n",
      "\n",
      "Rendering heatmap for: Q8IYW5_174_heatmap_data.csv\n"
     ]
    },
    {
     "name": "stderr",
     "output_type": "stream",
     "text": [
      "C:\\Users\\ricea\\AppData\\Local\\Temp\\ipykernel_4920\\1487870648.py:9: FutureWarning:\n",
      "\n",
      "The provided callable <function mean at 0x00000129DCBE47C0> is currently using DataFrameGroupBy.mean. In a future version of pandas, the provided callable will be used directly. To keep current behavior pass the string \"mean\" instead.\n",
      "\n"
     ]
    },
    {
     "name": "stdout",
     "output_type": "stream",
     "text": [
      "Saved heatmap to C:\\Users\\ricea\\OneDrive\\Documents\\GitHub\\Annabel-BSc-Project\\heatmaps\\Q8IYW5_174_heatmap.png\n",
      "\n",
      "Rendering heatmap for: Q8WTW3_454_heatmap_data.csv\n"
     ]
    },
    {
     "name": "stderr",
     "output_type": "stream",
     "text": [
      "C:\\Users\\ricea\\AppData\\Local\\Temp\\ipykernel_4920\\1487870648.py:9: FutureWarning:\n",
      "\n",
      "The provided callable <function mean at 0x00000129DCBE47C0> is currently using DataFrameGroupBy.mean. In a future version of pandas, the provided callable will be used directly. To keep current behavior pass the string \"mean\" instead.\n",
      "\n"
     ]
    },
    {
     "name": "stdout",
     "output_type": "stream",
     "text": [
      "Saved heatmap to C:\\Users\\ricea\\OneDrive\\Documents\\GitHub\\Annabel-BSc-Project\\heatmaps\\Q8WTW3_454_heatmap.png\n",
      "\n",
      "Rendering heatmap for: Q96S44_135_heatmap_data.csv\n"
     ]
    },
    {
     "name": "stderr",
     "output_type": "stream",
     "text": [
      "C:\\Users\\ricea\\AppData\\Local\\Temp\\ipykernel_4920\\1487870648.py:9: FutureWarning:\n",
      "\n",
      "The provided callable <function mean at 0x00000129DCBE47C0> is currently using DataFrameGroupBy.mean. In a future version of pandas, the provided callable will be used directly. To keep current behavior pass the string \"mean\" instead.\n",
      "\n"
     ]
    },
    {
     "name": "stdout",
     "output_type": "stream",
     "text": [
      "Saved heatmap to C:\\Users\\ricea\\OneDrive\\Documents\\GitHub\\Annabel-BSc-Project\\heatmaps\\Q96S44_135_heatmap.png\n",
      "\n",
      "Rendering heatmap for: Q9BTW9_805_heatmap_data.csv\n",
      "Saved heatmap to C:\\Users\\ricea\\OneDrive\\Documents\\GitHub\\Annabel-BSc-Project\\heatmaps\\Q9BTW9_805_heatmap.png\n",
      "\n",
      "Rendering heatmap for: Q9BXW9_222_heatmap_data.csv\n"
     ]
    },
    {
     "name": "stderr",
     "output_type": "stream",
     "text": [
      "C:\\Users\\ricea\\AppData\\Local\\Temp\\ipykernel_4920\\1487870648.py:9: FutureWarning:\n",
      "\n",
      "The provided callable <function mean at 0x00000129DCBE47C0> is currently using DataFrameGroupBy.mean. In a future version of pandas, the provided callable will be used directly. To keep current behavior pass the string \"mean\" instead.\n",
      "\n",
      "C:\\Users\\ricea\\AppData\\Local\\Temp\\ipykernel_4920\\1487870648.py:9: FutureWarning:\n",
      "\n",
      "The provided callable <function mean at 0x00000129DCBE47C0> is currently using DataFrameGroupBy.mean. In a future version of pandas, the provided callable will be used directly. To keep current behavior pass the string \"mean\" instead.\n",
      "\n"
     ]
    },
    {
     "name": "stdout",
     "output_type": "stream",
     "text": [
      "Saved heatmap to C:\\Users\\ricea\\OneDrive\\Documents\\GitHub\\Annabel-BSc-Project\\heatmaps\\Q9BXW9_222_heatmap.png\n",
      "\n",
      "Rendering heatmap for: Q9H211_491_heatmap_data.csv\n"
     ]
    },
    {
     "name": "stderr",
     "output_type": "stream",
     "text": [
      "C:\\Users\\ricea\\AppData\\Local\\Temp\\ipykernel_4920\\1487870648.py:9: FutureWarning:\n",
      "\n",
      "The provided callable <function mean at 0x00000129DCBE47C0> is currently using DataFrameGroupBy.mean. In a future version of pandas, the provided callable will be used directly. To keep current behavior pass the string \"mean\" instead.\n",
      "\n"
     ]
    },
    {
     "name": "stdout",
     "output_type": "stream",
     "text": [
      "Saved heatmap to C:\\Users\\ricea\\OneDrive\\Documents\\GitHub\\Annabel-BSc-Project\\heatmaps\\Q9H211_491_heatmap.png\n",
      "\n",
      "Rendering heatmap for: Q9NYP3_542_heatmap_data.csv\n"
     ]
    },
    {
     "name": "stderr",
     "output_type": "stream",
     "text": [
      "C:\\Users\\ricea\\AppData\\Local\\Temp\\ipykernel_4920\\1487870648.py:9: FutureWarning:\n",
      "\n",
      "The provided callable <function mean at 0x00000129DCBE47C0> is currently using DataFrameGroupBy.mean. In a future version of pandas, the provided callable will be used directly. To keep current behavior pass the string \"mean\" instead.\n",
      "\n"
     ]
    },
    {
     "name": "stdout",
     "output_type": "stream",
     "text": [
      "Saved heatmap to C:\\Users\\ricea\\OneDrive\\Documents\\GitHub\\Annabel-BSc-Project\\heatmaps\\Q9NYP3_542_heatmap.png\n"
     ]
    }
   ],
   "source": [
    "import os\n",
    "import glob\n",
    "import pandas as pd\n",
    "import re\n",
    "import plotly.express as px\n",
    "import numpy as np\n",
    "\n",
    "def render_heatmap_from_data(heatmap_data, filepath=None, save_dir=None):\n",
    "    heatmap_matrix = heatmap_data.pivot_table(index='Mutation', columns='Position', values='LCS_Ratio', aggfunc=np.mean)\n",
    "\n",
    "    title = \"LCS Ratio for Each Mutation\"\n",
    "    filename = \"heatmap.png\"\n",
    "    if filepath:\n",
    "        basename = os.path.basename(filepath)\n",
    "        match = re.match(r\"([A-Z0-9]+)_(\\d+)_heatmap_data\\.csv\", basename)\n",
    "        if match:\n",
    "            uniprot_id = match.group(1)\n",
    "            position = match.group(2)\n",
    "            title = f\"Normalized LCS values for {uniprot_id} at position {position}\"\n",
    "            filename = f\"{uniprot_id}_{position}_heatmap.png\"\n",
    "\n",
    "    fig = px.imshow(\n",
    "        heatmap_matrix,\n",
    "        labels={'x': 'Mutation Position', 'y': 'Mutated Amino Acid', 'color': 'LCS Ratio'},\n",
    "        color_continuous_scale='Temps',\n",
    "        title=title\n",
    "    )\n",
    "\n",
    "    fig.update_layout(\n",
    "        xaxis=dict(tickmode='array', tickvals=list(range(1, 16)), ticktext=list(range(-7, 8))),\n",
    "        yaxis=dict(tickmode='linear', dtick=1),\n",
    "        coloraxis_colorbar=dict(\n",
    "            tickvals=[0, 0.25, 0.5, 0.75, 1],\n",
    "            ticktext=[\"0.0\", \"0.25\", \"0.5\", \"0.75\", \"1.0\"],\n",
    "            title=\"LCS Ratio\"\n",
    "        ),\n",
    "        plot_bgcolor='white'\n",
    "    )\n",
    "\n",
    "    if save_dir:\n",
    "        os.makedirs(save_dir, exist_ok=True)\n",
    "        save_path = os.path.join(save_dir, filename)\n",
    "        fig.write_image(save_path)\n",
    "        print(f\"Saved heatmap to {save_path}\")\n",
    "    else:\n",
    "        fig.show()\n",
    "\n",
    "def render_all_heatmaps(folder_path, save_dir=None):\n",
    "    pattern = os.path.join(folder_path, \"*_heatmap_data.csv\")\n",
    "    csv_files = glob.glob(pattern)\n",
    "\n",
    "    if not csv_files:\n",
    "        print(f\"No heatmap data files found in {folder_path}\")\n",
    "        return\n",
    "\n",
    "    for file in csv_files:\n",
    "        try:\n",
    "            df = pd.read_csv(file)\n",
    "            print(f\"\\nRendering heatmap for: {os.path.basename(file)}\")\n",
    "            render_heatmap_from_data(df, filepath=file, save_dir=save_dir)\n",
    "        except Exception as e:\n",
    "            print(f\"❌ Error rendering {file}: {e}\")\n",
    "\n",
    "# Updated path to read heatmap CSV files from heatmaps folder\n",
    "heatmap_folder_path = r\"C:\\Users\\ricea\\OneDrive\\Documents\\GitHub\\Annabel-BSc-Project\\heatmaps\"\n",
    "\n",
    "# Save images in the same folder (or change this to a subfolder if preferred)\n",
    "heatmap_save_dir = heatmap_folder_path  # or e.g. os.path.join(heatmap_folder_path, \"images\")\n",
    "\n",
    "print(\"🔵 Rendering all heatmaps from heatmaps folder...\")\n",
    "render_all_heatmaps(heatmap_folder_path, save_dir=heatmap_save_dir)\n"
   ]
  }
 ],
 "metadata": {
  "kernelspec": {
   "display_name": "Python 3",
   "language": "python",
   "name": "python3"
  },
  "language_info": {
   "codemirror_mode": {
    "name": "ipython",
    "version": 3
   },
   "file_extension": ".py",
   "mimetype": "text/x-python",
   "name": "python",
   "nbconvert_exporter": "python",
   "pygments_lexer": "ipython3",
   "version": "3.12.9"
  }
 },
 "nbformat": 4,
 "nbformat_minor": 5
}
